{
 "cells": [
  {
   "cell_type": "markdown",
   "metadata": {},
   "source": [
    "# Analyzing the Parker Solar Probe flybys\n",
    "\n",
    "## 1. Modulus of the exit velocity, some features of Orbit #2\n",
    "\n",
    "First, using the data available in the reports, we try to compute some of the properties of orbit #2. This is not enough to completely define the trajectory, but will give us information later on in the process."
   ]
  },
  {
   "cell_type": "code",
   "execution_count": 1,
   "metadata": {},
   "outputs": [],
   "source": [
    "from astropy import units as u"
   ]
  },
  {
   "cell_type": "code",
   "execution_count": 2,
   "metadata": {},
   "outputs": [
    {
     "data": {
      "text/latex": [
       "$150 \\; \\mathrm{d}$"
      ],
      "text/plain": [
       "<Quantity 150. d>"
      ]
     },
     "execution_count": 2,
     "metadata": {},
     "output_type": "execute_result"
    }
   ],
   "source": [
    "T_ref = 150 * u.day\n",
    "T_ref"
   ]
  },
  {
   "cell_type": "code",
   "execution_count": 3,
   "metadata": {},
   "outputs": [],
   "source": [
    "from poliastro.bodies import Earth, Sun, Venus"
   ]
  },
  {
   "cell_type": "code",
   "execution_count": 4,
   "metadata": {},
   "outputs": [
    {
     "data": {
      "text/latex": [
       "$1.3271244 \\times 10^{20} \\; \\mathrm{\\frac{m^{3}}{s^{2}}}$"
      ],
      "text/plain": [
       "<<class 'astropy.constants.constant.Constant'> name='Heliocentric gravitational constant' value=1.32712442099e+20 uncertainty=10000000000.0 unit='m3 / s2' reference='IAU 2009 system of astronomical constants'>"
      ]
     },
     "execution_count": 4,
     "metadata": {},
     "output_type": "execute_result"
    }
   ],
   "source": [
    "k = Sun.k\n",
    "k"
   ]
  },
  {
   "cell_type": "code",
   "execution_count": 5,
   "metadata": {},
   "outputs": [],
   "source": [
    "import numpy as np"
   ]
  },
  {
   "cell_type": "markdown",
   "metadata": {},
   "source": [
    "$$ T = 2 \\pi \\sqrt{\\frac{a^3}{\\mu}} \\Rightarrow a = \\sqrt[3]{\\frac{\\mu T^2}{4 \\pi^2}}$$"
   ]
  },
  {
   "cell_type": "code",
   "execution_count": 6,
   "metadata": {},
   "outputs": [
    {
     "data": {
      "text/latex": [
       "$0.55249526 \\; \\mathrm{AU}$"
      ],
      "text/plain": [
       "<Quantity 0.55249526 AU>"
      ]
     },
     "execution_count": 6,
     "metadata": {},
     "output_type": "execute_result"
    }
   ],
   "source": [
    "a_ref = np.cbrt(k * T_ref**2 / (4 * np.pi**2)).to(u.km)\n",
    "a_ref.to(u.au)"
   ]
  },
  {
   "cell_type": "markdown",
   "metadata": {},
   "source": [
    "$$ \\varepsilon = -\\frac{\\mu}{r} + \\frac{v^2}{2} = -\\frac{\\mu}{2a} \\Rightarrow v = +\\sqrt{\\frac{2\\mu}{r} - \\frac{\\mu}{a}}$$"
   ]
  },
  {
   "cell_type": "code",
   "execution_count": 7,
   "metadata": {},
   "outputs": [
    {
     "data": {
      "text/latex": [
       "$-8.0283755 \\times 10^{8} \\; \\mathrm{\\frac{J}{kg}}$"
      ],
      "text/plain": [
       "<Quantity -8.02837549e+08 J / kg>"
      ]
     },
     "execution_count": 7,
     "metadata": {},
     "output_type": "execute_result"
    }
   ],
   "source": [
    "energy_ref = (-k / (2 * a_ref)).to(u.J / u.kg)\n",
    "energy_ref"
   ]
  },
  {
   "cell_type": "code",
   "execution_count": 8,
   "metadata": {},
   "outputs": [],
   "source": [
    "from poliastro.twobody import Orbit\n",
    "from poliastro.util import norm\n",
    "\n",
    "from astropy.time import Time"
   ]
  },
  {
   "cell_type": "code",
   "execution_count": 9,
   "metadata": {},
   "outputs": [
    {
     "data": {
      "text/plain": [
       "<Time object: scale='tdb' format='iso' value=2018-09-28 00:00:00.000>"
      ]
     },
     "execution_count": 9,
     "metadata": {},
     "output_type": "execute_result"
    }
   ],
   "source": [
    "flyby_1_time = Time(\"2018-09-28\", scale=\"tdb\")\n",
    "flyby_1_time"
   ]
  },
  {
   "cell_type": "code",
   "execution_count": 10,
   "metadata": {},
   "outputs": [
    {
     "data": {
      "text/latex": [
       "$0.72573132 \\; \\mathrm{AU}$"
      ],
      "text/plain": [
       "<Quantity 0.72573132 AU>"
      ]
     },
     "execution_count": 10,
     "metadata": {},
     "output_type": "execute_result"
    }
   ],
   "source": [
    "r_mag_ref = norm(Orbit.from_body_ephem(Venus, epoch=flyby_1_time).r)\n",
    "r_mag_ref.to(u.au)"
   ]
  },
  {
   "cell_type": "code",
   "execution_count": 11,
   "metadata": {},
   "outputs": [
    {
     "data": {
      "text/latex": [
       "$28.967364 \\; \\mathrm{\\frac{km}{s}}$"
      ],
      "text/plain": [
       "<Quantity 28.96736351 km / s>"
      ]
     },
     "execution_count": 11,
     "metadata": {},
     "output_type": "execute_result"
    }
   ],
   "source": [
    "v_mag_ref = np.sqrt(2 * k / r_mag_ref - k / a_ref)\n",
    "v_mag_ref.to(u.km / u.s)"
   ]
  },
  {
   "cell_type": "markdown",
   "metadata": {},
   "source": [
    "## 2. Lambert arc between #0 and #1\n",
    "\n",
    "To compute the arrival velocity to Venus at flyby #1, we have the necessary data to solve the boundary value problem."
   ]
  },
  {
   "cell_type": "code",
   "execution_count": 12,
   "metadata": {},
   "outputs": [
    {
     "data": {
      "text/plain": [
       "<Time object: scale='tdb' format='iso' value=2018-08-11 00:00:00.000>"
      ]
     },
     "execution_count": 12,
     "metadata": {},
     "output_type": "execute_result"
    }
   ],
   "source": [
    "d_launch = Time(\"2018-08-11\", scale=\"tdb\")\n",
    "d_launch"
   ]
  },
  {
   "cell_type": "code",
   "execution_count": 13,
   "metadata": {},
   "outputs": [],
   "source": [
    "ss0 = Orbit.from_body_ephem(Earth, d_launch)\n",
    "ss1 = Orbit.from_body_ephem(Venus, epoch=flyby_1_time)"
   ]
  },
  {
   "cell_type": "code",
   "execution_count": 14,
   "metadata": {},
   "outputs": [],
   "source": [
    "tof = flyby_1_time - d_launch"
   ]
  },
  {
   "cell_type": "code",
   "execution_count": 15,
   "metadata": {},
   "outputs": [],
   "source": [
    "from poliastro import iod"
   ]
  },
  {
   "cell_type": "code",
   "execution_count": 16,
   "metadata": {},
   "outputs": [],
   "source": [
    "(v0, v1_pre), = iod.lambert(Sun.k, ss0.r, ss1.r, tof.to(u.s))"
   ]
  },
  {
   "cell_type": "code",
   "execution_count": 17,
   "metadata": {},
   "outputs": [
    {
     "data": {
      "text/latex": [
       "$[9.5993373,~11.298552,~2.9244933] \\; \\mathrm{\\frac{km}{s}}$"
      ],
      "text/plain": [
       "<Quantity [ 9.59933726, 11.29855172,  2.92449333] km / s>"
      ]
     },
     "execution_count": 17,
     "metadata": {},
     "output_type": "execute_result"
    }
   ],
   "source": [
    "v0"
   ]
  },
  {
   "cell_type": "code",
   "execution_count": 18,
   "metadata": {},
   "outputs": [
    {
     "data": {
      "text/latex": [
       "$[-16.980821,~23.307528,~9.1312908] \\; \\mathrm{\\frac{km}{s}}$"
      ],
      "text/plain": [
       "<Quantity [-16.98082099,  23.30752839,   9.13129077] km / s>"
      ]
     },
     "execution_count": 18,
     "metadata": {},
     "output_type": "execute_result"
    }
   ],
   "source": [
    "v1_pre"
   ]
  },
  {
   "cell_type": "code",
   "execution_count": 19,
   "metadata": {},
   "outputs": [
    {
     "data": {
      "text/latex": [
       "$30.248465 \\; \\mathrm{\\frac{km}{s}}$"
      ],
      "text/plain": [
       "<Quantity 30.24846495 km / s>"
      ]
     },
     "execution_count": 19,
     "metadata": {},
     "output_type": "execute_result"
    }
   ],
   "source": [
    "norm(v1_pre)"
   ]
  },
  {
   "cell_type": "markdown",
   "metadata": {},
   "source": [
    "## 3. Flyby #1 around Venus\n",
    "\n",
    "We compute a flyby using poliastro with the default value of the entry angle, just to discover that the results do not match what we expected."
   ]
  },
  {
   "cell_type": "code",
   "execution_count": 20,
   "metadata": {},
   "outputs": [],
   "source": [
    "from poliastro.threebody.flybys import compute_flyby"
   ]
  },
  {
   "cell_type": "code",
   "execution_count": 21,
   "metadata": {},
   "outputs": [
    {
     "data": {
      "text/latex": [
       "$[648499.74,~2695078.4,~1171563.7] \\; \\mathrm{\\frac{km}{d}}$"
      ],
      "text/plain": [
       "<Quantity [ 648499.73735241, 2695078.44750227, 1171563.7170508 ] km / d>"
      ]
     },
     "execution_count": 21,
     "metadata": {},
     "output_type": "execute_result"
    }
   ],
   "source": [
    "V = Orbit.from_body_ephem(Venus, epoch=flyby_1_time).v\n",
    "V"
   ]
  },
  {
   "cell_type": "code",
   "execution_count": 22,
   "metadata": {},
   "outputs": [],
   "source": [
    "h = 2548 * u.km"
   ]
  },
  {
   "cell_type": "code",
   "execution_count": 23,
   "metadata": {},
   "outputs": [
    {
     "data": {
      "text/latex": [
       "$8599.8 \\; \\mathrm{km}$"
      ],
      "text/plain": [
       "<Quantity 8599.8 km>"
      ]
     },
     "execution_count": 23,
     "metadata": {},
     "output_type": "execute_result"
    }
   ],
   "source": [
    "d_flyby_1 = Venus.R + h\n",
    "d_flyby_1.to(u.km)"
   ]
  },
  {
   "cell_type": "code",
   "execution_count": 24,
   "metadata": {},
   "outputs": [],
   "source": [
    "V_2_v_, delta_ = compute_flyby(v1_pre, V, Venus.k, d_flyby_1)"
   ]
  },
  {
   "cell_type": "code",
   "execution_count": 25,
   "metadata": {},
   "outputs": [
    {
     "data": {
      "text/latex": [
       "$27.755339 \\; \\mathrm{\\frac{km}{s}}$"
      ],
      "text/plain": [
       "<Quantity 27.75533877 km / s>"
      ]
     },
     "execution_count": 25,
     "metadata": {},
     "output_type": "execute_result"
    }
   ],
   "source": [
    "norm(V_2_v_)"
   ]
  },
  {
   "cell_type": "markdown",
   "metadata": {},
   "source": [
    "## 4. Optimization\n",
    "\n",
    "Now we will try to find the value of $\\theta$ that satisfies our requirements."
   ]
  },
  {
   "cell_type": "code",
   "execution_count": 26,
   "metadata": {},
   "outputs": [],
   "source": [
    "def func(theta):\n",
    "    V_2_v, _ = compute_flyby(v1_pre, V, Venus.k, d_flyby_1, theta * u.rad)\n",
    "    ss_1 = Orbit.from_vectors(Sun, ss1.r, V_2_v, epoch=flyby_1_time)\n",
    "    return (ss_1.period - T_ref).to(u.day).value"
   ]
  },
  {
   "cell_type": "markdown",
   "metadata": {},
   "source": [
    "There are two solutions:"
   ]
  },
  {
   "cell_type": "code",
   "execution_count": 27,
   "metadata": {},
   "outputs": [],
   "source": [
    "import matplotlib.pyplot as plt"
   ]
  },
  {
   "cell_type": "code",
   "execution_count": 28,
   "metadata": {},
   "outputs": [
    {
     "data": {
      "image/png": "[encoded data removed]",
      "text/plain": [
       "<Figure size 432x288 with 1 Axes>"
      ]
     },
     "metadata": {
      "needs_background": "light"
     },
     "output_type": "display_data"
    }
   ],
   "source": [
    "theta_range = np.linspace(0, 2 * np.pi)\n",
    "plt.plot(theta_range, [func(theta) for theta in theta_range])\n",
    "plt.axhline(0, color=\"k\", linestyle=\"dashed\");"
   ]
  },
  {
   "cell_type": "code",
   "execution_count": 29,
   "metadata": {},
   "outputs": [
    {
     "data": {
      "text/plain": [
       "-9.142672330001131"
      ]
     },
     "execution_count": 29,
     "metadata": {},
     "output_type": "execute_result"
    }
   ],
   "source": [
    "func(0)"
   ]
  },
  {
   "cell_type": "code",
   "execution_count": 30,
   "metadata": {},
   "outputs": [
    {
     "data": {
      "text/plain": [
       "7.09811543934556"
      ]
     },
     "execution_count": 30,
     "metadata": {},
     "output_type": "execute_result"
    }
   ],
   "source": [
    "func(1)"
   ]
  },
  {
   "cell_type": "code",
   "execution_count": 31,
   "metadata": {},
   "outputs": [],
   "source": [
    "from scipy.optimize import brentq"
   ]
  },
  {
   "cell_type": "code",
   "execution_count": 32,
   "metadata": {},
   "outputs": [
    {
     "data": {
      "text/latex": [
       "$38.598709 \\; \\mathrm{{}^{\\circ}}$"
      ],
      "text/plain": [
       "<Quantity 38.59870925 deg>"
      ]
     },
     "execution_count": 32,
     "metadata": {},
     "output_type": "execute_result"
    }
   ],
   "source": [
    "theta_opt_a = brentq(func, 0, 1) * u.rad\n",
    "theta_opt_a.to(u.deg)"
   ]
  },
  {
   "cell_type": "code",
   "execution_count": 33,
   "metadata": {},
   "outputs": [
    {
     "data": {
      "text/latex": [
       "$279.3477 \\; \\mathrm{{}^{\\circ}}$"
      ],
      "text/plain": [
       "<Quantity 279.34770004 deg>"
      ]
     },
     "execution_count": 33,
     "metadata": {},
     "output_type": "execute_result"
    }
   ],
   "source": [
    "theta_opt_b = brentq(func, 4, 5) * u.rad\n",
    "theta_opt_b.to(u.deg)"
   ]
  },
  {
   "cell_type": "code",
   "execution_count": 34,
   "metadata": {},
   "outputs": [],
   "source": [
    "V_2_v_a, delta_a = compute_flyby(v1_pre, V, Venus.k, d_flyby_1, theta_opt_a)\n",
    "V_2_v_b, delta_b = compute_flyby(v1_pre, V, Venus.k, d_flyby_1, theta_opt_b)"
   ]
  },
  {
   "cell_type": "code",
   "execution_count": 35,
   "metadata": {
    "scrolled": true
   },
   "outputs": [
    {
     "data": {
      "text/latex": [
       "$28.967364 \\; \\mathrm{\\frac{km}{s}}$"
      ],
      "text/plain": [
       "<Quantity 28.96736351 km / s>"
      ]
     },
     "execution_count": 35,
     "metadata": {},
     "output_type": "execute_result"
    }
   ],
   "source": [
    "norm(V_2_v_a)"
   ]
  },
  {
   "cell_type": "code",
   "execution_count": 36,
   "metadata": {},
   "outputs": [
    {
     "data": {
      "text/latex": [
       "$28.967364 \\; \\mathrm{\\frac{km}{s}}$"
      ],
      "text/plain": [
       "<Quantity 28.96736351 km / s>"
      ]
     },
     "execution_count": 36,
     "metadata": {},
     "output_type": "execute_result"
    }
   ],
   "source": [
    "norm(V_2_v_b)"
   ]
  },
  {
   "cell_type": "markdown",
   "metadata": {},
   "source": [
    "## 5. Exit orbit\n",
    "\n",
    "And finally, we compute orbit #2 and check that the period is the expected one."
   ]
  },
  {
   "cell_type": "code",
   "execution_count": 37,
   "metadata": {},
   "outputs": [
    {
     "data": {
      "text/plain": [
       "0 x 1 AU x 18.8 deg (HCRS) orbit around Sun (☉) at epoch 2018-09-28 00:00:00.000 (TDB)"
      ]
     },
     "execution_count": 37,
     "metadata": {},
     "output_type": "execute_result"
    }
   ],
   "source": [
    "ss01 = Orbit.from_vectors(Sun, ss1.r, v1_pre, epoch=flyby_1_time)\n",
    "ss01"
   ]
  },
  {
   "cell_type": "markdown",
   "metadata": {},
   "source": [
    "The two solutions have different inclinations, so we still have to find out which is the good one. We can do this by computing the inclination over the ecliptic - however, as the original data was in the International Celestial Reference Frame (ICRF), whose fundamental plane is parallel to the Earth equator of a reference epoch, we have change the plane to the Earth **ecliptic**, which is what the original reports use."
   ]
  },
  {
   "cell_type": "code",
   "execution_count": 38,
   "metadata": {},
   "outputs": [
    {
     "data": {
      "text/plain": [
       "0 x 1 AU x 25.0 deg (HCRS) orbit around Sun (☉) at epoch 2018-09-28 00:00:00.000 (TDB)"
      ]
     },
     "execution_count": 38,
     "metadata": {},
     "output_type": "execute_result"
    }
   ],
   "source": [
    "ss_1_a = Orbit.from_vectors(Sun, ss1.r, V_2_v_a, epoch=flyby_1_time)\n",
    "ss_1_a"
   ]
  },
  {
   "cell_type": "code",
   "execution_count": 39,
   "metadata": {},
   "outputs": [
    {
     "data": {
      "text/plain": [
       "0 x 1 AU x 13.1 deg (HCRS) orbit around Sun (☉) at epoch 2018-09-28 00:00:00.000 (TDB)"
      ]
     },
     "execution_count": 39,
     "metadata": {},
     "output_type": "execute_result"
    }
   ],
   "source": [
    "ss_1_b = Orbit.from_vectors(Sun, ss1.r, V_2_v_b, epoch=flyby_1_time)\n",
    "ss_1_b"
   ]
  },
  {
   "cell_type": "markdown",
   "metadata": {},
   "source": [
    "Let's define a function to do that quickly for us, using the [`get_frame`](https://docs.poliastro.space/en/latest/safe.html#poliastro.frames.get_frame) function from poliastro.frames:"
   ]
  },
  {
   "cell_type": "code",
   "execution_count": 40,
   "metadata": {},
   "outputs": [],
   "source": [
    "from astropy.coordinates import CartesianRepresentation\n",
    "from poliastro.frames import Planes, get_frame\n",
    "\n",
    "\n",
    "def change_plane(ss_orig, plane):\n",
    "    \"\"\"Changes the plane of the Orbit.\n",
    "\n",
    "    \"\"\"\n",
    "    ss_orig_rv = ss_orig.frame.realize_frame(\n",
    "        ss_orig.represent_as(CartesianRepresentation)\n",
    "    )\n",
    "\n",
    "    dest_frame = get_frame(ss_orig.attractor, plane, obstime=ss_orig.epoch)\n",
    "\n",
    "    ss_dest_rv = ss_orig_rv.transform_to(dest_frame)\n",
    "    ss_dest_rv.representation_type = CartesianRepresentation\n",
    "\n",
    "    ss_dest = Orbit.from_coords(ss_orig.attractor, ss_dest_rv, plane=plane)\n",
    "    return ss_dest"
   ]
  },
  {
   "cell_type": "code",
   "execution_count": 41,
   "metadata": {},
   "outputs": [
    {
     "data": {
      "text/plain": [
       "0 x 1 AU x 3.5 deg (HeliocentricEclipticJ2000) orbit around Sun (☉) at epoch 2018-09-28 00:00:00.000 (TDB)"
      ]
     },
     "execution_count": 41,
     "metadata": {},
     "output_type": "execute_result"
    }
   ],
   "source": [
    "change_plane(ss_1_a, Planes.EARTH_ECLIPTIC)"
   ]
  },
  {
   "cell_type": "code",
   "execution_count": 42,
   "metadata": {},
   "outputs": [
    {
     "data": {
      "text/plain": [
       "0 x 1 AU x 13.1 deg (HeliocentricEclipticJ2000) orbit around Sun (☉) at epoch 2018-09-28 00:00:00.000 (TDB)"
      ]
     },
     "execution_count": 42,
     "metadata": {},
     "output_type": "execute_result"
    }
   ],
   "source": [
    "change_plane(ss_1_b, Planes.EARTH_ECLIPTIC)"
   ]
  },
  {
   "cell_type": "markdown",
   "metadata": {},
   "source": [
    "Therefore, **the correct option is the first one**."
   ]
  },
  {
   "cell_type": "code",
   "execution_count": 43,
   "metadata": {},
   "outputs": [
    {
     "data": {
      "text/latex": [
       "$150 \\; \\mathrm{d}$"
      ],
      "text/plain": [
       "<Quantity 150. d>"
      ]
     },
     "execution_count": 43,
     "metadata": {},
     "output_type": "execute_result"
    }
   ],
   "source": [
    "ss_1_a.period.to(u.day)"
   ]
  },
  {
   "cell_type": "code",
   "execution_count": 44,
   "metadata": {},
   "outputs": [
    {
     "data": {
      "text/latex": [
       "$82652115 \\; \\mathrm{km}$"
      ],
      "text/plain": [
       "<Quantity 82652114.57939689 km>"
      ]
     },
     "execution_count": 44,
     "metadata": {},
     "output_type": "execute_result"
    }
   ],
   "source": [
    "ss_1_a.a"
   ]
  },
  {
   "cell_type": "markdown",
   "metadata": {},
   "source": [
    "And, finally, we plot the solution:"
   ]
  },
  {
   "cell_type": "code",
   "execution_count": 46,
   "metadata": {},
   "outputs": [
    {
     "data": {
      "image/png": "[encoded data removed]",
      "text/plain": [
       "<Figure size 1008x432 with 1 Axes>"
      ]
     },
     "metadata": {
      "needs_background": "light"
     },
     "output_type": "display_data"
    }
   ],
   "source": [
    "from poliastro.plotting import StaticOrbitPlotter\n",
    "\n",
    "frame = StaticOrbitPlotter()\n",
    "\n",
    "frame.plot(ss0, label=Earth)\n",
    "frame.plot(ss1, label=Venus)\n",
    "frame.plot(ss01, label=\"#0 to #1\")\n",
    "frame.plot(ss_1_a, label=\"#1 to #2\");"
   ]
  }
 ],
 "metadata": {
  "kernelspec": {
   "display_name": "Python 3",
   "language": "python",
   "name": "python3"
  },
  "language_info": {
   "codemirror_mode": {
    "name": "ipython",
    "version": 3
   },
   "file_extension": ".py",
   "mimetype": "text/x-python",
   "name": "python",
   "nbconvert_exporter": "python",
   "pygments_lexer": "ipython3",
   "version": "3.7.3"
  },
  "widgets": {
   "application/vnd.jupyter.widget-state+json": {
    "state": {
     "066aff9797a34219ac88c18df9ecd40a": {
      "buffers": [
       {
        "data": "AQRwfqtfoUHp2aNKjVahQRbPZBU8O6FBKO9yB9QNoUFS7iHvg86gQQuFGRCNfaBBONMO4EIboEGPSHhhFVCfQemG3462SJ5BTRI7xXghnUFjrOJbjNubQd105UpBeJpBSfG20AX5mEF7z6b4ZF+XQRqNqAMFrZVBhsoOtaXjk0FI9/qEHgWSQQcjXbpcE5BBMtvx3MIgjEFOevf3fvyHQePjircyvoNBtLBexnvUfkEeSMErLQp2QdMkEpMSTWpB5AWxnOfKUEH0ByMjGiBTwc7Q7NfsgGvBlVXNilatdsFZFryYc4V/wb/nCdjXH4TBnZXu24VpiMFQxfZUWJuMwTBO6yt+WJDBjnwKAx5TksG/VpFygTuUwaQsgwmxD5bBoYQjKsrNl8Hj2XP7AHSZwaD1OEOiAJvBLEKfJhVynMGVn6/P3MadwYxH4vWZ/Z7B5IkdJIYKoMEQ8bzbCYagwQNchc/Y8KDBTMfB5YRKocFEmdCusZKhwbGdbMQUyaHBnFReFnbtocGzhUYksP+hwbGFRiSw/6HBmFReFnbtocGsnWzEFMmhwTyZ0K6xkqHBQsfB5YRKocH2W4XP2PCgwQHxvNsJhqDB1YkdJIYKoMFnR+L1mf2ewWufr8/cxp3B/UGfJhVynMFx9ThDogCbwavZc/sAdJnBa4QjKsrNl8FmLIMJsQ+WwYtWkXKBO5TBTXwKAx5TksHiTesrfliQwc/E9lRYm4zBIJXu24VpiMEb5wnY1x+EwTwVvJhzhX/BelTNilatdsGPzuzX7IBrwVoDIyMaIFPBYAqxnOfKUEEYJxKTEk1qQRBJwSstCnZB1rFexnvUfkFy5Iq3Mr6DQeJ69/d+/IdBtdvx3MIgjEFKI126XBOQQYT3+oQeBZJBvMoOtaXjk0FQjagDBa2VQarPpvhkX5dBfvG20AX5mEEFdeVKQXiaQYms4luM25tBdRI7xXghnUELh9+OtkieQa5IeGEVUJ9BRdMO4EIboEEWhRkQjX2gQVvuIe+DzqBBLu9yB9QNoUEbz2QVPDuhQevZo0qNVqFBAQRwfqtfoUE=",
        "encoding": "base64",
        "path": [
         "_data",
         0,
         "x",
         "value"
        ]
       },
       {
        "data": "AAAAAACAoD4fNICHB/NhQSmBjzPH6XFBw13QhJPHekGf/tp64sSBQZAMkhyqE4ZBVXSc4q9LikG+AHV9mmiOQcALUUcWM5FB6RDEgyQgk0FGkXaze/mUQRxBZ+gzvZZBYncofntpmEEJr975mPyZQf3PVtHsdJtBdCJfF/PQnEEUYKkLRQ+eQcatmYyaLp9BXqTCtOUWoEHtHQJK6IWgQRqxjZfi46BBppiTvXMwoUFODcrOTGuhQUFSyyExlKFBEr+dj/aqoUHjUSefha+hQTv/X53ZoaFBbc4pogCCoUEcxMmBG1ChQbSUEKtdDKFB/ABW8gy3oEHpg31JgVCgQb0JncpIsp9BBgP7oOKinkFVA63Z53OdQaYnF8aQJpxBm+p3AzW8mkEuqrMYSjaZQQCCSvVhlpdBtGIFUynelUEifgX8ZQ+UQQeY/fb0K5JBOm13m8g1kEFmJkAgzV2MQeayWWrLMohBr3P9+dfug0FYzPLUsCx/Qe2utQqPW3ZBRTExkcLmakGs2AQPWPVRQXTdBA9Y9VHBrjMxkcLmasEesLUKj1t2wW7N8tSwLH/BQnT9+dfug8Frs1lqyzKIwfMmQCDNXYzBfW13m8g1kMFKmP329CuSwWJ+BfxlD5TB82IFUynelcE4gkr1YZaXwWKqsxhKNpnBzOp3AzW8msHZJxfGkCacwXwDrdnnc53BLQP7oOKinsHiCZ3KSLKfwfeDfUmBUKDBCAFW8gy3oMHBlBCrXQyhwSXEyYEbUKHBc84pogCCocE//1+d2aGhweRRJ5+Fr6HBEb+dj/aqocE9UsshMZShwUgNys5Ma6HBnZiTvXMwocEQsY2X4uOgweAdAkrohaDBT6TCtOUWoMGirZmMmi6fwe1fqQtFD57BTCJfF/PQnMHRz1bR7HSbwdyu3vmY/JnBLXcofntpmMHrQGfoM72WwRKRdrN7+ZTBrRDEgyQgk8GDC1FHFjORwTgAdX2aaI7B13Oc4q9LisETDJIcqhOGwRX+2nrixIHBpFzQhJPHesEPgI8zx+lxwSUygIcH82HBAAAAAACQoT4=",
        "encoding": "base64",
        "path": [
         "_data",
         0,
         "y",
         "value"
        ]
       },
       {
        "data": "8TNoyKxjocE=",
        "encoding": "base64",
        "path": [
         "_data",
         1,
         "x",
         "value"
        ]
       },
       {
        "data": "MI9bScuKgsE=",
        "encoding": "base64",
        "path": [
         "_data",
         1,
         "y",
         "value"
        ]
       },
       {
        "data": "pu84dmSjckFdCNOz9WVoQZps51lB11ZBWBb3zFatKcHim6W6/j9dwUzb2D5xlmvB/yvrK2c4dMGcP41w65B6wfMgiGsdZ4DBUo1davN0g8HuP9TF0W6GwaCEKSSnUYnB/wlZ6nkajMGsOTFNa8aOwekXYiNdqZDBV0SUNmPekcF1bs5TCQGTwf61od8jEJTBu31oZJsKlcEgGVmybe+VwUfEqumuvZbBcY26bYp0l8FxjDXAQxOYwbJ8ZkM3mZjBCW/e4toFmcHTt8qhvliZwW9gZQ6NkZnBzBwJmguwmcHp+Y3VGrSZwbiMsJG2nZnBFjpi4/VsmcHaJf4LCyKZwZtPe0VDvZjB/EPRcgY/mMGwceG01qeXwRKGU+RP+JbBPBfv8CYxlsGFNRgnKVOVwaknL1w7X5TBXnetAllWk8HIdvMmkzmSwVZu0VUPCpHBVC3d2wySj8Fmlou6hu+MwRjTCJhDL4rBmwRWbBlUh8HNjMLq+WCEwavK/XjvWIHBWDJnGTR+fMF8Xd3lVy12wdaYSxKai2/BSthTLVucYsEQhlGqIWlGwSzdFv/VtE1BcqOkRbBsZEEVo6fuYKtwQSyNlScND3dBGulet8ZafUE2W7IbCMSBQXXfoNBFyIRBGTiHbwC3h0EybkQaMo2KQbaSQj3uR41Bitock2Tkj0FVGYwF8i+RQYp4uMfuW5JBeLhQVPN0k0ELwXT93XmUQa2/ws2haZVByrWWnUdDlkGoP9AR7wWXQXTzF4PPsJdBvfK1zDhDmEEMdyQClLyYQTUvowpkHJlBtw0rIkZimUGOmz0/8o2ZQT/cJl07n5lBrDdlqg+WmUGdkwebeHKZQaKt7t6aNJlBUMH7O7bcmEE0dlNMJWuYQX3Z+CBd4JdBJ6kgyew8l0GuVbm+fIGWQb+9vzjOrpVBZ6kTZLrFlEEOVJmDMceTQcTJjvg5tJJBJmUUNO+NkUGbOv+SgFWQQTdCRUpgGI5BQWKmwqJmi0Fk5vKOj5iIQXXnOeQKsYVBafrCMROzgkHd8/4VfEN/QccdQvNpAHlBre84dmSjckE=",
        "encoding": "base64",
        "path": [
         "_data",
         2,
         "x",
         "value"
        ]
       },
       {
        "data": "1Ft2ztT+mEGXCfXT6T6ZQa55kn67ZJlBG2c80iJwmUGoq6QNFGGZQYxOX7aeN5lBaHfiiO3zmEE7xHhMRpaYQT5rU4sJH5hBRk4GL7KOl0HHlNQB1eWWQWxnUBUgJZZB+OfrDlpNlUEXXDRbYV+UQaqfikgrXJNBUzdFCsNEkkElrEClSBqRQZI79I3fu49BSC3MEP0hjUFSJJU7mGmKQWxu7el+lYdBK+2JhpuohEE/5ckJ8qWBQeEG57s5IX1B18KaWJPXdkFpXcIsbHVwQbxRIHuxAmRB+jwmTwAQTEF8XmeJWg9IwS6pq/9jB2PBzu64xz35b8Gl2af+BWZ2wS7D4lFLuXzBFj7Q1/R3gcEYj365vIGEwYfpJY3bdofB8VsC3kRUisFXQ+WnBBeNwdCzhmJCvI/BmA9B+KEgkcE9C3w3uFGSwb6rd3EpcJPBVFLZYM56lMH5hscolHCVwZaUP3B9UJbBq4s9Z6MZl8Hedqm0NsuXwd9+FEyAZJjBFKppKuLkmMF1ts/410uZwXImFJX3mJnBleESf/HLmcHzoakqkeSZwWe04jW94pnBVDUfg3fGmcF30SU33Y+ZwR0LGJsmP5nBsPts4qbUmMGIYC3Vy1CYwcpbyV4dtJfBXZD8AT3/lsFzBlEy5TKWwVp37JPoT5XBzB9uIjFXlMFF7Lw/v0mTwTOgvquoKJLBFGYIZhf1kMGs1l/1kGCPwWtc83YVt4zB5sRqzXrwicGZZlh6nQ+HweE7LBF1F4TBPiI3KBELgcEyidthLNt7wR6jV3V0hHXB/Ck5jQYxbsHUuDnk7jthwW6EXxH120DBu6Z3TcWgUUG6i9evwsxlQX3XPgBgWHFB4CWpcoi3d0EbhFNASf19QbW+P5WVEYJBSkNl5msRhUEIzckSEPuHQdKn43qBy4pB5irAeNl/jUGHtcYupwqQQSMgpCibRJFBqyHMCIVskkHhn4LGM4GTQUUo6yuKgZRBLTUJ/H9slUEaGCIDI0GWQTPDZxCY/pZBWhTr1xukl0Fduey7AzGYQbQnvXy+pJhB0lt2ztT+mEE=",
        "encoding": "base64",
        "path": [
         "_data",
         2,
         "y",
         "value"
        ]
       },
       {
        "data": "cSwM0UpzksE=",
        "encoding": "base64",
        "path": [
         "_data",
         3,
         "x",
         "value"
        ]
       },
       {
        "data": "6qpFNvQWksE=",
        "encoding": "base64",
        "path": [
         "_data",
         3,
         "y",
         "value"
        ]
       },
       {
        "data": "GPbjIRzNdEHsc4Fj1sZzQT/RT675bnJBHNA0eOjGcEEVJt/Ir6BtQbhl+AGcGmlB2UUcYT8AZEGJax8Nua1cQcEnqAKTSFBBYI24sJzuJkHeOaQ3YQlHwVapkY4l0FrBnB11j2N6ZcFyS7al+PBtwRJ98VaMYXPBSxFJ99Xzd8H8hknYoqp8wcBqgH2LwIDBj+O83xo5g8EWeFqEc7yFwa3Jez7+R4jBolyDbhvZisE9jGa2JW2NwRIf9lm6AJDBssgD369JkcHgxz1RIJCSwdZOejC70pPB1YFj8DMQlcFIuENPQ0eWwT5dXaeodpfBNbFyOSudmMFztihvm7mZwTn0+BPUyprBn3pvg7vPm8Fjl33LRMecwVH3tcFwsJ3BxGtUCk+KnsF0MQIQ/1Ofwayoq3VYBqDBuzuVHNNZoMFoKmlvGaSgwU0fx93e5KDBFZUvo+AbocG6J9cL5kihwWbGGa/Aa6HB3IVRn0yEocEEw9+OcJKhwR1oQuodlqHBvXEa51CPocFpNhSIEH6hwZlprZVuYqHBXk3gi4c8ocHn98Z8ggyhwWvxVOiQ0qDBn65Qie6OoMHRgMEX4UGgwQTnIgJw15/BsVlaLJgZn8GXbexf/kqeweEizJR3bJ3B5w2ULel+nMEpzxELSIObwbAZ2Y+XeprBXnzilOhlmcHwjElQWEaYwXNiTC8PHZfBgm67pD/rlcEssRTtJLKUwZvoj8kBc5PB5LNqMx8vksHjnssIy+eQwfBNM2mtPI/Bs/lVpSuojMEEG2OjuRSKwfxenCj/hIfBI2VoJaD7hMHK9Iz8OXuCwWyIKtFgBoDBmvCAvDk/e8GscO60z5J2wZXwwtVUDHLBMh5WneZga8Fm6LjLUgdjwbQwblkTKVbB5MO3BOaFPMECD1ACp+I7QVnBXQPNFlRBnv+IUbUVYEEH4SJYB5VlQejTOOOxg2pBXrZhXZ/cbkF3J+FFqk1xQU0YUpb63XJBW5AW+aMddEFqb47qXAt1QVQtEl4wpnVBvgeNun7tdUH3XgF//uB1QUKsTY68gHVBCfbjIRzNdEE=",
        "encoding": "base64",
        "path": [
         "_data",
         4,
         "x",
         "value"
        ]
       },
       {
        "data": "BpULFYouVUG20THDQUthQRJqtWVBzmdBDvA9kY0ZbkFX4/enVBNyQQfghuOr93RB9MiFUtG2d0HmSHUj8E16QfJoRcdcunxBhST2sZf5fkGb0+z2p4SAQT9RaL+yc4FBf1OFyfVIgkEgPIQ/lQODQb1YasHQooNB88RPKwQmhEGgcZI+qIyEQTvnPy1T1oRB1A0mB7kChUHgjBoIrBGFQRYSKMccA4VB5d1wRhrXhEFpNbbj0Y2EQayslCmPJ4RBxH2lgbukg0EkMtXH3QWDQVygX7+ZS4JBw4sAaq92gUHy6AZC+oeAQeCaLbDgAH9BGIUGq0LCfEFO44rIalZ6QQyrY/vXv3dB6kZMQjUBdUFCywboVh1yQbqUfDFvLm5BwtSxn+rjZ0H4SshCnGFhQZaIrIlzXFVB4NiSOluFPkGQHnHd2H85wfDmELoDmVTBxw5oOZR9YcGKVsFfyLtowWMHofWm/2/BwPS3ZNmgc8E+211FOD13wZ8ESEA30XrBvg72GiZZfsEFGRuFsOiAwV5PVDkqm4LBBKhJTEBChMF/tZydPtyFwQEt/4t+Z4fBROfaqGjiiMFmPU9cdkuKwc/T0nczoYvBlMfatT/ijMG4xPskUA2OwUKyDn0wIY/BJ6Z8LmIOkMEEjOk3hH+QwY1BHLyJ45DBbU9coAs6kcHrzzK4sIKRwUWCViEuvZHB9O/ckEfpkcHzEWGRzwaSwcRk37GnFZLBhB0XpcAVksEiJ1BRGgeSwXClddDD6ZHBjuKEYNu9kcGpsmBEjoORwbFwKZUYO5HBIqxJBMXkkMHaY3eO7ICQwZUs+R/2D5DB6aIbVawkj8E9mMdaHBGOwTGgOF9Y5ozBUwfHW5Sli8FUomn3GlCKwZjh3TFM54jBg6/O+Jtsh8EhIXCokOGFwccuG3nBR4TBYkCI29SggsG5QVnFfu6AwRxFaN/9ZH7Bt/95Ez7desEmbpfBYUl3wbJvhgAZrXPBZhLzlRwMcMF9aphAVNRowVBQQncAlmHBzGrnlWrJVMGhckM65j46wbupHOGgyT1B0ZULFYouVUE=",
        "encoding": "base64",
        "path": [
         "_data",
         4,
         "y",
         "value"
        ]
       },
       {
        "data": "cSwM0UpzksE=",
        "encoding": "base64",
        "path": [
         "_data",
         5,
         "x",
         "value"
        ]
       },
       {
        "data": "6qpFNvQWksE=",
        "encoding": "base64",
        "path": [
         "_data",
         5,
         "y",
         "value"
        ]
       },
       {
        "data": "kjHclqDtcUFtNUyAqcpwQaTMojcjt25Bo0Gco6ZDa0GlsBv8az5nQZm3wDSYq2JBt48Zb8QfW0HpsBgjOMJPQXZOd5Z1Ni1Bw2gxyREFQ8ECgdCDWY1XwWUD9MaUNWPBKu3V8lIGa8GjYGtubJhxwU7IDchd1nXBoPWCHJ44esGMTYSUqLp+wXB76cnrq4HBHUS/wbQFhMENlYHcQmiGwYyxmLog0YjB+pvcetI9i8GEjA9K2KuNwXfPNHtYDJDBnOxGQu5AkcGJmp9hb3KSweDRlu2gn5PBW4MbbEzHlMHebb8UQeiVwdhj5ApVAZfB0STHkGYRmMHmSCsyXReZwfRddOUqEprBbjQCIs0Am8G0arHqTeKbwR6AbcvEtZzBfQzPyFd6ncF0G89APC+ewUMLqLu3057B2J0MrCBnn8HOGO8d3+ifweskkqk2LKDBVHygJqxaoMHL1BEioH+gwYo/WITsmqDB77msKXWsoMG8/BD/J7Sgwe8W8RT9saDBjp9Rp/aloMGYD4IbIZCgwR+kVfOScKDBOfTvtWxHoMFyJT3O2BSgwSSecL4Wsp/BiT1aHIQon8EiSliGh42ewcuV5r/A4Z3BQ5Ar2+AlncF++nCCqVqcwUeHgTDsgJvBxTK5WImZmsGV6KZ/b6WZwS/4LUWapZjBWcokYRGbl8EAN3yT54aWwUO2B4k5apXBY10KtixGlMEZKLcn7huTweRe3E2x7JHBLgH6va65kMErwBPiRQiPwUkii/qZmozBJAF1mtosisFYZP6qiMGHwV5UvJQiW4XB/gKWrSH8gsGap+mr96aAwcUXGkMYvHzBsU+FAnRHeMEvz2JimvRzwekrf7MAkG/BikeM5OaLZ8ESLgVjVcpfwaD3V2teR1HBKHv9yvLuLMGS/7EMK0hCQQAYd5ZW8VRBWmEwd7q9X0GAV1TID79kQYz+LkY8FGlBYrvnWOvZbEF/PuzGHAZwQc5OC6/tU3FBssL8SRBVckHyQ0OIewhzQVla83Z2bXNBy6ZZ/piDc0Hb6UdNzEpzQQk7mvBKw3JBkzHclqDtcUE=",
        "encoding": "base64",
        "path": [
         "_data",
         6,
         "x",
         "value"
        ]
       },
       {
        "data": "55kPYjvNVkHCSulxG3xhQUWv8bsrWmdBcHALM8L6bEHZXwLtCCxxQfvnqIZJtnNByh8pm4QZdkHKtpwYRFN4Qb6ZBLA8YXpBTAOyMlBBfEEeKyvBj/F9QWR3S8k9cH9BJqvI6OddgEHEJOAHeOmAQf78mWQ/WoFB05G8vcmvgUHHTv3lvumBQWi25R7jB4JBUT9pVhcKgkHliOxGWfCBQcDjnHnDuoFB3cMVK41pgUEET3ASCv2AQeW49wqqdYBBPcO2QfGnf0HGJKsCOTF+QeNAtp2tiHxBoiQKtASwekFoAQOAJal4QeFr6N4mdnZButCTKU0ZdEHGeDTeB5VxQbaNMzve121BAGw0/YFBaEF0k7F0vWxiQQTmS9Emv1hBKLEzCgOBSEFAgNXvd7ICwdiAzz27a0vBRPpuPdQSW8HSEfKZWE9kwdF5WOG+JWvBjqexTcgCccEXsWLc23N0wbZJMuGN4nfBBLvmlFRLe8Fix0tKrKp+wSdQzYaN/oDBzNntHJqfgsG6VEgAzjaEwaSGAXCFwoXBnAFTgihBh8FifQfJLLGIwZ89EegWEYrBoGaXHHxfi8EmJeeyA5uMwToyx2lowo3Bemu/wXnUjsEL4/o2HdCPwQdsQLInWpDBvDLMhxLAkMGRoiENZhmRwcnZ6i3GZZHBlhdmL+SkkcHSsY0Bf9aRwVh4KYJj+pHBfGOEsWwQksEhOJDYgxiSwajQT6CgEpLB8OdvGsn+kcGTiQW7Ed2RwVGaeEOdrZHBrzSwnpxwkcHUx6WuTiaRwZfzkgsAz5DBT/P8tAprkMHC9d1pq/WPwY9Phmup/Y7BYwbPFQ/vjcHS+TNa88qMwZRlRlWDkovBwXBIGAFHisHMsi5dwumIwYToXSYvfIfBePaPS8D/hcFExF71/XWEwdVeBQl+4ILB/hX4heJAgcFMxQWurzF/wc1+VDEm1HvBr10rraBseMEW0KiDof50wUwCqMOxjXHBhJaZB7s6bMEi0d90YGJlwTzZwVjEMl3BMR531/qaT8FUXiTe2BUlwWRJxeDff0RB4pkPYjvNVkE=",
        "encoding": "base64",
        "path": [
         "_data",
         6,
         "y",
         "value"
        ]
       },
       {
        "data": "cSwM0UpzksE=",
        "encoding": "base64",
        "path": [
         "_data",
         7,
         "x",
         "value"
        ]
       },
       {
        "data": "6qpFNvQWksE=",
        "encoding": "base64",
        "path": [
         "_data",
         7,
         "y",
         "value"
        ]
       }
      ],
      "model_module": "plotlywidget",
      "model_module_version": "^0.6.0",
      "model_name": "FigureModel",
      "state": {
       "_config": {
        "plotlyServerURL": "https://plot.ly"
       },
       "_data": [
        {
         "hoverinfo": "none",
         "line": {
          "color": "rgb(31, 119, 180)",
          "dash": "dash",
          "width": 2
         },
         "mode": "lines",
         "name": "2018-08-11 00:00 (Earth (♁))",
         "type": "scatter",
         "uid": "82db81bb-55fb-4360-9170-eda85ec35135",
         "x": {
          "dtype": "float64",
          "shape": [
           100
          ],
          "value": {}
         },
         "y": {
          "dtype": "float64",
          "shape": [
           100
          ],
          "value": {}
         }
        },
        {
         "marker": {
          "color": "rgb(31, 119, 180)",
          "size": 10
         },
         "mode": "markers",
         "name": "2018-08-11 00:00 (Earth (♁))",
         "type": "scatter",
         "uid": "54a1ae24-5e00-4731-b70a-29a5928cc8e1",
         "x": {
          "dtype": "float64",
          "shape": [
           1
          ],
          "value": {}
         },
         "y": {
          "dtype": "float64",
          "shape": [
           1
          ],
          "value": {}
         }
        },
        {
         "hoverinfo": "none",
         "line": {
          "color": "rgb(255, 127, 14)",
          "dash": "dash",
          "width": 2
         },
         "mode": "lines",
         "name": "2018-09-28 00:00 (Venus (♀))",
         "type": "scatter",
         "uid": "06ef4bf8-eb55-464a-a055-c3dd91a154cf",
         "x": {
          "dtype": "float64",
          "shape": [
           100
          ],
          "value": {}
         },
         "y": {
          "dtype": "float64",
          "shape": [
           100
          ],
          "value": {}
         }
        },
        {
         "marker": {
          "color": "rgb(255, 127, 14)",
          "size": 10
         },
         "mode": "markers",
         "name": "2018-09-28 00:00 (Venus (♀))",
         "type": "scatter",
         "uid": "1ba1282f-ab7e-49be-8f51-2c6b7792177c",
         "x": {
          "dtype": "float64",
          "shape": [
           1
          ],
          "value": {}
         },
         "y": {
          "dtype": "float64",
          "shape": [
           1
          ],
          "value": {}
         }
        },
        {
         "hoverinfo": "none",
         "line": {
          "color": "rgb(44, 160, 44)",
          "dash": "dash",
          "width": 2
         },
         "mode": "lines",
         "name": "2018-09-28 00:00 (#0 to #1)",
         "type": "scatter",
         "uid": "9ef2a47f-f0ce-471f-ab6a-3cfd2dd48c29",
         "x": {
          "dtype": "float64",
          "shape": [
           100
          ],
          "value": {}
         },
         "y": {
          "dtype": "float64",
          "shape": [
           100
          ],
          "value": {}
         }
        },
        {
         "marker": {
          "color": "rgb(44, 160, 44)",
          "size": 10
         },
         "mode": "markers",
         "name": "2018-09-28 00:00 (#0 to #1)",
         "type": "scatter",
         "uid": "0c08c43d-8669-4164-abc9-72942a9241ca",
         "x": {
          "dtype": "float64",
          "shape": [
           1
          ],
          "value": {}
         },
         "y": {
          "dtype": "float64",
          "shape": [
           1
          ],
          "value": {}
         }
        },
        {
         "hoverinfo": "none",
         "line": {
          "color": "rgb(214, 39, 40)",
          "dash": "dash",
          "width": 2
         },
         "mode": "lines",
         "name": "2018-09-28 00:00 (#1 to #2)",
         "type": "scatter",
         "uid": "cc2425da-e1a8-4dec-9bae-8bf383d0065d",
         "x": {
          "dtype": "float64",
          "shape": [
           100
          ],
          "value": {}
         },
         "y": {
          "dtype": "float64",
          "shape": [
           100
          ],
          "value": {}
         }
        },
        {
         "marker": {
          "color": "rgb(214, 39, 40)",
          "size": 10
         },
         "mode": "markers",
         "name": "2018-09-28 00:00 (#1 to #2)",
         "type": "scatter",
         "uid": "cde9bd68-a338-4a8b-867a-5c3e71a7746d",
         "x": {
          "dtype": "float64",
          "shape": [
           1
          ],
          "value": {}
         },
         "y": {
          "dtype": "float64",
          "shape": [
           1
          ],
          "value": {}
         }
        }
       ],
       "_js2py_pointsCallback": {},
       "_js2py_relayout": {},
       "_js2py_restyle": {},
       "_js2py_update": {},
       "_last_layout_edit_id": 9,
       "_last_trace_edit_id": 9,
       "_layout": {
        "autosize": true,
        "shapes": [
         {
          "fillcolor": "#ffcc00",
          "line": {
           "color": "#ffcc00"
          },
          "opacity": 1,
          "type": "circle",
          "x0": -21861187.082817174,
          "x1": 21861187.082817174,
          "xref": "x",
          "y0": -21861187.082817174,
          "y1": 21861187.082817174,
          "yref": "y"
         }
        ],
        "template": {},
        "xaxis": {
         "constrain": "domain",
         "title": {
          "text": "x (km)"
         }
        },
        "yaxis": {
         "scaleanchor": "x",
         "title": {
          "text": "y (km)"
         }
        }
       },
       "_py2js_animate": {},
       "_py2js_deleteTraces": {},
       "_py2js_moveTraces": {},
       "_py2js_removeLayoutProps": {},
       "_py2js_removeTraceProps": {},
       "_py2js_restyle": {},
       "_view_count": 0
      }
     },
     "504bea534a14450f9f2bcace3d43bdf7": {
      "buffers": [
       {
        "data": "AQRwfqtfoUHp2aNKjVahQRbPZBU8O6FBKO9yB9QNoUFS7iHvg86gQQuFGRCNfaBBN9MO4EIboEGPSHhhFVCfQemG3462SJ5BShI7xXghnUFirOJbjNubQdx05UpBeJpBRfG20AX5mEF5z6b4ZF+XQRaNqAMFrZVBgcoOtaXjk0E89/qEHgWSQQAjXbpcE5BBKNvx3MIgjEFEevf3fvyHQd3jircyvoNBu7BexnvUfkESSMErLQp2QfMkEpMSTWpBSgWxnOfKUEH0ByMjGiBTwfbQ7NfsgGvBmlXNilatdsFZFryYc4V/wbXnCdjXH4TBopXu24VpiMFXxfZUWJuMwStO6yt+WJDBjnwKAx5TksHGVpFygTuUwaAsgwmxD5bBpYQjKsrNl8Hp2XP7AHSZwaD1OEOiAJvBKEKfJhVynMGVn6/P3MadwY5H4vWZ/Z7B5okdJIYKoMES8bzbCYagwQNchc/Y8KDBTMfB5YRKocFDmdCusZKhwbGdbMQUyaHBm1ReFnbtocGzhUYksP+hwa+FRiSw/6HBmFReFnbtocGqnWzEFMmhwTuZ0K6xkqHBQcfB5YRKocH1W4XP2PCgwQPxvNsJhqDB1YkdJIYKoMFnR+L1mf2ewW2fr8/cxp3B/0GfJhVynMF09ThDogCbwbLZc/sAdJnBbYQjKsrNl8FoLIMJsQ+WwYlWkXKBO5TBSnwKAx5TksHwTesrfliQwdHE9lRYm4zBF5Xu24VpiMEu5wnY1x+EwUEVvJhzhX/Bf1TNilatdsGzzuzX7IBrwT4DIyMaIFPBEgqxnOfKUEH6JhKTEk1qQRBJwSstCnZBzrFexnvUfkFh5Iq3Mr6DQc169/d+/IdBtdvx3MIgjEFCI126XBOQQYD3+oQeBZJBuMoOtaXjk0FRjagDBa2VQazPpvhkX5dBevG20AX5mEEFdeVKQXiaQZCs4luM25tBcxI7xXghnUELh9+OtkieQa9IeGEVUJ9BRtMO4EIboEEXhRkQjX2gQVruIe+DzqBBL+9yB9QNoUEcz2QVPDuhQerZo0qNVqFBAQRwfqtfoUE=",
        "encoding": "base64",
        "path": [
         "_data",
         0,
         "x",
         "value"
        ]
       },
       {
        "data": "AAAAAACQoj5ONICHB/NhQRiBjzPH6XFBxV3QhJPHekGh/tp64sSBQZwMkhyqE4ZBXnSc4q9LikG+AHV9mmiOQcELUUcWM5FB8BDEgyQgk0FHkXaze/mUQRxBZ+gzvZZBaHcofntpmEEJr975mPyZQf/PVtHsdJtBdiJfF/PQnEEYYKkLRQ+eQcitmYyaLp9BXqTCtOUWoEHtHQJK6IWgQRuxjZfi46BBpZiTvXMwoUFNDcrOTGuhQUFSyyExlKFBE7+dj/aqoUHjUSefha+hQTv/X53ZoaFBbc4pogCCoUEcxMmBG1ChQbSUEKtdDKFB+wBW8gy3oEHog31JgVCgQb4JncpIsp9BBgP7oOKinkFRA63Z53OdQaknF8aQJpxBmOp3AzW8mkEpqrMYSjaZQQCCSvVhlpdBuGIFUynelUEifgX8ZQ+UQQ2Y/fb0K5JBP213m8g1kEFYJkAgzV2MQeayWWrLMohBr3P9+dfug0FEzPLUsCx/Qd2utQqPW3ZBIzExkcLmakFw2AQPWPVRQajdBA9Y9VHBuzMxkcLmasEqsLUKj1t2wXrN8tSwLH/BSHT9+dfug8Fxs1lqyzKIwegmQCDNXYzBe213m8g1kMFMmP329CuSwWF+BfxlD5TB72IFUynelcE2gkr1YZaXwWGqsxhKNpnBy+p3AzW8msHUJxfGkCacwX0Drdnnc53BLgP7oOKinsHcCZ3KSLKfwfeDfUmBUKDBBwFW8gy3oMG/lBCrXQyhwSXEyYEbUKHBcs4pogCCocE//1+d2aGhweRRJ5+Fr6HBEb+dj/aqocE+UsshMZShwUgNys5Ma6HBn5iTvXMwocETsY2X4uOgweIdAkrohaDBT6TCtOUWoMGnrZmMmi6fwe9fqQtFD57BTCJfF/PQnMHQz1bR7HSbwduu3vmY/JnBLncofntpmMHrQGfoM72WwQuRdrN7+ZTBrBDEgyQgk8GCC1FHFjORwTsAdX2aaI7Bz3Oc4q9LisEIDJIcqhOGwRz+2nrixIHBllzQhJPHesH4f48zx+lxwRAygIcH82HBAAAAAACAoD4=",
        "encoding": "base64",
        "path": [
         "_data",
         0,
         "y",
         "value"
        ]
       },
       {
        "data": "8TNoyKxjocE=",
        "encoding": "base64",
        "path": [
         "_data",
         1,
         "x",
         "value"
        ]
       },
       {
        "data": "MI9bScuKgsE=",
        "encoding": "base64",
        "path": [
         "_data",
         1,
         "y",
         "value"
        ]
       },
       {
        "data": "pu84dmSjckFdCNOz9WVoQZps51lB11ZBWBb3zFatKcHim6W6/j9dwUzb2D5xlmvB/yvrK2c4dMGcP41w65B6wfogiGsdZ4DBWI1davN0g8HuP9TF0W6GwaCEKSSnUYnB/wlZ6nkajMGsOTFNa8aOwecXYiNdqZDBVUSUNmPekcFybs5TCQGTwf61od8jEJTBvX1oZJsKlcEgGVmybe+VwUfEqumuvZbBcI26bYp0l8FwjDXAQxOYwbJ8ZkM3mZjBCm/e4toFmcHSt8qhvliZwW9gZQ6NkZnBzBwJmguwmcHq+Y3VGrSZwbiMsJG2nZnBFjpi4/VsmcHYJf4LCyKZwZtPe0VDvZjB/EPRcgY/mMGwceG01qeXwRGGU+RP+JbBPBfv8CYxlsGFNRgnKVOVwaknL1w7X5TBXnetAllWk8HIdvMmkzmSwVZu0VUPCpHBVC3d2wySj8Fmlou6hu+MwRjTCJhDL4rBmwRWbBlUh8HNjMLq+WCEwavK/XjvWIHBWDJnGTR+fMF8Xd3lVy12weKYSxKai2/BONhTLVucYsGshlGqIWlGwRbdFv/VtE1BW6OkRbBsZEEOo6fuYKtwQSWNlScND3dBKelet8ZafUE2W7IbCMSBQXDfoNBFyIRBDjiHbwC3h0ExbkQaMo2KQbCSQj3uR41Bgtock2Tkj0FRGYwF8i+RQYZ4uMfuW5JBdrhQVPN0k0EFwXT93XmUQa2/ws2haZVBzbWWnUdDlkGoP9AR7wWXQXfzF4PPsJdBvfK1zDhDmEEMdyQClLyYQTMvowpkHJlBtw0rIkZimUGOmz0/8o2ZQT7cJl07n5lBrzdlqg+WmUGdkwebeHKZQaKt7t6aNJlBUMH7O7bcmEE0dlNMJWuYQXvZ+CBd4JdBJqkgyew8l0GxVbm+fIGWQcC9vzjOrpVBaakTZLrFlEEQVJmDMceTQcrJjvg5tJJBJ2UUNO+NkUGgOv+SgFWQQT1CRUpgGI5BRWKmwqJmi0Fk5vKOj5iIQYbnOeQKsYVBYfrCMROzgkGl8/4VfEN/Qc0dQvNpAHlBs+84dmSjckE=",
        "encoding": "base64",
        "path": [
         "_data",
         2,
         "x",
         "value"
        ]
       },
       {
        "data": "1Ft2ztT+mEGXCfXT6T6ZQa55kn67ZJlBG2c80iJwmUGoq6QNFGGZQYxOX7aeN5lBaHfiiO3zmEE7xHhMRpaYQTxrU4sJH5hBRk4GL7KOl0HHlNQB1eWWQWxnUBUgJZZB+OfrDlpNlUEXXDRbYV+UQaqfikgrXJNBVDdFCsNEkkEmrEClSBqRQZI79I3fu49BQi3MEP0hjUFSJJU7mGmKQWpu7el+lYdBLu2JhpuohEFD5ckJ8qWBQeEG57s5IX1B0MKaWJPXdkFwXcIsbHVwQbxRIHuxAmRBIj0mTwAQTEGcXmeJWg9IwS6pq/9jB2PBzu64xz35b8GZ2af+BWZ2wS7D4lFLuXzBFj7Q1/R3gcEgj365vIGEwY3pJY3bdofB8VsC3kRUisFXQ+WnBBeNwdCzhmJCvI/BmA9B+KEgkcE9C3w3uFGSwb6rd3EpcJPBVFLZYM56lMH5hscolHCVwZaUP3B9UJbBq4s9Z6MZl8Hedqm0NsuXwd9+FEyAZJjBFKppKuLkmMF1ts/410uZwXEmFJX3mJnBleESf/HLmcH2oakqkeSZwWe04jW94pnBVDUfg3fGmcF40SU33Y+ZwR0LGJsmP5nBr/ts4qbUmMGIYC3Vy1CYwclbyV4dtJfBX5D8AT3/lsF0BlEy5TKWwVx37JPoT5XBzh9uIjFXlMFJ7Lw/v0mTwTmgvquoKJLBGGYIZhf1kMG51l/1kGCPwW5c83YVt4zB3cRqzXrwicGZZlh6nQ+Hwd47LBF1F4TBOyI3KBELgcEyidthLNt7wS+jV3V0hHXBFSo5jQYxbsHUuDnk7jthwfaEXxH120DBiaZ3TcWgUUG+i9evwsxlQYPXPgBgWHFB0yWpcoi3d0EhhFNASf19Qby+P5WVEYJBS0Nl5msRhUECzckSEPuHQc6n43qBy4pB4CrAeNl/jUGGtcYupwqQQRsgpCibRJFBqiHMCIVskkHcn4LGM4GTQUMo6yuKgZRBKjUJ/H9slUEZGCIDI0GWQS/DZxCY/pZBXBTr1xukl0Fiuey7AzGYQbQnvXy+pJhB01t2ztT+mEE=",
        "encoding": "base64",
        "path": [
         "_data",
         2,
         "y",
         "value"
        ]
       },
       {
        "data": "cSwM0UpzksE=",
        "encoding": "base64",
        "path": [
         "_data",
         3,
         "x",
         "value"
        ]
       },
       {
        "data": "6qpFNvQWksE=",
        "encoding": "base64",
        "path": [
         "_data",
         3,
         "y",
         "value"
        ]
       },
       {
        "data": "CfbjIRzNdEHQc4Fj1sZzQSLRT675bnJBA9A0eOjGcEGrJd/Ir6BtQXtl+AGcGmlBZUUcYT8AZEHWah8Nua1cQTQnqAKTSFBBeI+4sJzuJkGUOaQ3YQlHwS2qkY4l0FrBGB51j2N6ZcGcS7al+PBtwTB98VaMYXPBfhFJ99Xzd8EOh0nYoqp8wcRqgH2LwIDBp+O83xo5g8EmeFqEc7yFwbjJez7+R4jBs1yDbhvZisE9jGa2JW2NwRcf9lm6AJDBvcgD369JkcHpxz1RIJCSwdFOejC70pPB0oFj8DMQlcFPuENPQ0eWwUBdXaeodpfBNrFyOSudmMFztihvm7mZwT70+BPUyprBqHpvg7vPm8Fjl33LRMecwVf3tcFwsJ3BxGtUCk+KnsF0MQIQ/1Ofwa6oq3VYBqDBuzuVHNNZoMFqKmlvGaSgwU0fx93e5KDBFZUvo+AbocG6J9cL5kihwWbGGa/Aa6HB3IVRn0yEocEEw9+OcJKhwR1oQuodlqHBvXEa51CPocFpNhSIEH6hwZlprZVuYqHBXk3gi4c8ocHn98Z8ggyhwWrxVOiQ0qDBn65Qie6OoMHRgMEX4UGgwQTnIgJw15/BsllaLJgZn8GSbexf/kqeweIizJR3bJ3B5Q2ULel+nMEtzxELSIObwbsZ2Y+XeprBYHzilOhlmcHvjElQWEaYwXViTC8PHZfBfW67pD/rlcEwsRTtJLKUwZvoj8kBc5PB4LNqMx8vksHmnssIy+eQwfZNM2mtPI/Bs/lVpSuojMEHG2OjuRSKwflenCj/hIfBIWVoJaD7hMHC9Iz8OXuCwW6IKtFgBoDBj/CAvDk/e8GTcO60z5J2wYTwwtVUDHLBJx5WneZga8Fm6LjLUgdjwQAxblkTKVbBJMW3BOaFPMG6D1ACp+I7QS/BXQPNFlRBuv+IUbUVYEH04CJYB5VlQdrTOOOxg2pBS7ZhXZ/cbkFnJ+FFqk1xQUcYUpb63XJBXZAW+aMddEFqb47qXAt1QVYtEl4wpnVBvAeNun7tdUH3XgF//uB1QUCsTY68gHVBCfbjIRzNdEE=",
        "encoding": "base64",
        "path": [
         "_data",
         4,
         "x",
         "value"
        ]
       },
       {
        "data": "1JULFYouVUFM0jHDQUthQYZqtWVBzmdBbPA9kY0ZbkGi4/enVBNyQSrghuOr93RBMMmFUtG2d0ELSXUj8E16QQtpRcdcunxBeST2sZf5fkGZ0+z2p4SAQU1RaL+yc4FBi1OFyfVIgkEiPIQ/lQODQcBYasHQooNB+MRPKwQmhEGfcZI+qIyEQTznPy1T1oRB1Q0mB7kChUHfjBoIrBGFQRYSKMccA4VB4t1wRhrXhEFpNbbj0Y2EQaeslCmPJ4RBwH2lgbukg0EhMtXH3QWDQV6gX7+ZS4JBxosAaq92gUHq6AZC+oeAQdaaLbDgAH9BCoUGq0LCfEFO44rIalZ6QQOrY/vXv3dB0kZMQjUBdUFCywboVh1yQYOUfDFvLm5BwtSxn+rjZ0H4SshCnGFhQWKIrIlzXFVB4NiSOluFPkFgH3Hd2H85wfDmELoDmVTBxw5oOZR9YcGKVsFfyLtowWMHofWm/2/BwPS3ZNmgc8E+211FOD13wbIESEA30XrBvg72GiZZfsEFGRuFsOiAwVlPVDkqm4LBB6hJTEBChMF7tZydPtyFwf4s/4t+Z4fBSOfaqGjiiMFrPU9cdkuKwcnT0nczoYvBksfatT/ijMG6xPskUA2OwTyyDn0wIY/BJqZ8LmIOkMECjOk3hH+QwY1BHLyJ45DBak9coAs6kcHtzzK4sIKRwUWCViEuvZHB9O/ckEfpkcHyEWGRzwaSwcZk37GnFZLBhB0XpcAVksEjJ1BRGgeSwXGlddDD6ZHBjeKEYNu9kcGpsmBEjoORwbNwKZUYO5HBI6xJBMXkkMHbY3eO7ICQwZUs+R/2D5DB5qIbVawkj8E5mMdaHBGOwSygOF9Y5ozBTwfHW5Sli8FUomn3GlCKwaDh3TFM54jBiq/O+Jtsh8EcIXCokOGFwcwuG3nBR4TBWkCI29SggsG/QVnFfu6AwSRFaN/9ZH7Byv95Ez7desFGbpfBYUl3wcJvhgAZrXPBahLzlRwMcMFraphAVNRowTpQQncAlmHBVmvnlWrJVME/cUM65j46wX6qHOGgyT1B1JULFYouVUE=",
        "encoding": "base64",
        "path": [
         "_data",
         4,
         "y",
         "value"
        ]
       },
       {
        "data": "cSwM0UpzksE=",
        "encoding": "base64",
        "path": [
         "_data",
         5,
         "x",
         "value"
        ]
       },
       {
        "data": "6qpFNvQWksE=",
        "encoding": "base64",
        "path": [
         "_data",
         5,
         "y",
         "value"
        ]
       },
       {
        "data": "kjHclqDtcUF3NUyAqcpwQZfMojcjt25BtEGco6ZDa0GlsBv8az5nQbi3wDSYq2JBko8Zb8QfW0FKsRgjOMJPQexLd5Z1Ni1BVWkxyREFQ8ECgdCDWY1XwWUD9MaUNWPBMu3V8lIGa8GhYGtubJhxwUjIDchd1nXBnvWCHJ44esGITYSUqLp+wYB76cnrq4HBHUS/wbQFhMEYlYHcQmiGwYyxmLog0YjB+pvcetI9i8GAjA9K2KuNwXPPNHtYDJDBnOxGQu5AkcGQmp9hb3KSwdnRlu2gn5PBW4MbbEzHlMHZbb8UQeiVwdhj5ApVAZfB0STHkGYRmMHmSCsyXReZwfRddOUqEprBbzQCIs0Am8G0arHqTeKbwR6AbcvEtZzBfQzPyFd6ncF0G89APC+ewUMLqLu3057B2J0MrCBnn8HOGO8d3+ifweskkqk2LKDBVHygJqxaoMHL1BEioH+gwYo/WITsmqDB8LmsKXWsoMG8/BD/J7Sgwe8W8RT9saDBjp9Rp/aloMGYD4IbIZCgwR6kVfOScKDBOfTvtWxHoMFyJT3O2BSgwSiecL4Wsp/BiD1aHIQon8EgSliGh42ewcqV5r/A4Z3BQpAr2+AlncGC+nCCqVqcwUyHgTDsgJvBxTK5WImZmsGV6KZ/b6WZwTD4LUWapZjBUsokYRGbl8EDN3yT54aWwT62B4k5apXBZ10KtixGlMEVKLcn7huTwehe3E2x7JHBKwH6va65kMEdwBPiRQiPwUwii/qZmozBKgF1mtosisFdZP6qiMGHwWdUvJQiW4XBBQOWrSH8gsGVp+mr96aAwckXGkMYvHzBpE+FAnRHeMEqz2JimvRzwfgrf7MAkG/Bf0eM5OaLZ8EHLgVjVcpfwW73V2teR1HB1Hj9yvLuLMH7/7EMK0hCQQAYd5ZW8VRBd2Ewd7q9X0GYV1TID79kQYj+LkY8FGlBUbvnWOvZbEFwPuzGHAZwQcpOC6/tU3FBucL8SRBVckHxQ0OIewhzQVxa83Z2bXNBy6ZZ/piDc0HY6UdNzEpzQQ47mvBKw3JBkjHclqDtcUE=",
        "encoding": "base64",
        "path": [
         "_data",
         6,
         "x",
         "value"
        ]
       },
       {
        "data": "55kPYjvNVkGQSulxG3xhQVuv8bsrWmdBWXALM8L6bEHZXwLtCCxxQennqIZJtnNB1B8pm4QZdkHEtpwYRFN4QcyZBLA8YXpBVgOyMlBBfEEeKyvBj/F9QWR3S8k9cH9BJqvI6OddgEHFJOAHeOmAQf78mWQ/WoFB0pG8vcmvgUHGTv3lvumBQWa25R7jB4JBUT9pVhcKgkHmiOxGWfCBQcDjnHnDuoFB3cMVK41pgUEGT3ASCv2AQea49wqqdYBBPcO2QfGnf0HKJKsCOTF+QepAtp2tiHxBoiQKtASwekFwAQOAJal4QeFr6N4mdnZButCTKU0ZdEHGeDTeB5VxQbaNMzve121BFWw0/YFBaEF0k7F0vWxiQQTmS9Emv1hBKLEzCgOBSEFAgNXvd7ICwdiAzz27a0vBRPpuPdQSW8HSEfKZWE9kwdF5WOG+JWvBjqexTcgCccEXsWLc23N0wbZJMuGN4nfB8LrmlFRLe8Fix0tKrKp+wSdQzYaN/oDBzNntHJqfgsG6VEgAzjaEwaiGAXCFwoXBoAFTgihBh8FffQfJLLGIwZ89EegWEYrBp2aXHHxfi8EkJeeyA5uMwTUyx2lowo3BgGu/wXnUjsEG4/o2HdCPwQdsQLInWpDBvTLMhxLAkMGToiENZhmRwcjZ6i3GZZHBmBdmL+SkkcHUsY0Bf9aRwVd4KYJj+pHBfmOEsWwQksEgOJDYgxiSwarQT6CgEpLB8OdvGsn+kcGSiQW7Ed2RwVCaeEOdrZHBsTSwnpxwkcHWx6WuTiaRwZXzkgsAz5DBUvP8tAprkMG/9d1pq/WPwZFPhmup/Y7BXgbPFQ/vjcHR+TNa88qMwZdlRlWDkovBvnBIGAFHisHMsi5dwumIwXzoXSYvfIfBcPaPS8D/hcE8xF71/XWEwdVeBQl+4ILB+hX4heJAgcE+xQWurzF/wdZ+VDEm1HvBwV0rraBseMEw0KiDof50wUsCqMOxjXHBRpaZB7s6bME70d90YGJlwczYwVjEMl3Bnh531/qaT8ESXCTe2BUlwdBIxeDff0RB55kPYjvNVkE=",
        "encoding": "base64",
        "path": [
         "_data",
         6,
         "y",
         "value"
        ]
       },
       {
        "data": "cSwM0UpzksE=",
        "encoding": "base64",
        "path": [
         "_data",
         7,
         "x",
         "value"
        ]
       },
       {
        "data": "6qpFNvQWksE=",
        "encoding": "base64",
        "path": [
         "_data",
         7,
         "y",
         "value"
        ]
       }
      ],
      "model_module": "plotlywidget",
      "model_module_version": "^0.6.0",
      "model_name": "FigureModel",
      "state": {
       "_config": {
        "plotlyServerURL": "https://plot.ly"
       },
       "_data": [
        {
         "hoverinfo": "none",
         "line": {
          "color": "rgb(31, 119, 180)",
          "dash": "dash",
          "width": 2
         },
         "mode": "lines",
         "name": "2018-08-11 00:00 (Earth (♁))",
         "type": "scatter",
         "uid": "d0f433f2-1181-40a3-a8ac-51664b6eed35",
         "x": {
          "dtype": "float64",
          "shape": [
           100
          ],
          "value": {}
         },
         "y": {
          "dtype": "float64",
          "shape": [
           100
          ],
          "value": {}
         }
        },
        {
         "marker": {
          "color": "rgb(31, 119, 180)",
          "size": 10
         },
         "mode": "markers",
         "name": "2018-08-11 00:00 (Earth (♁))",
         "type": "scatter",
         "uid": "18c6cfb5-68f7-4184-8a53-1340e1978ed3",
         "x": {
          "dtype": "float64",
          "shape": [
           1
          ],
          "value": {}
         },
         "y": {
          "dtype": "float64",
          "shape": [
           1
          ],
          "value": {}
         }
        },
        {
         "hoverinfo": "none",
         "line": {
          "color": "rgb(255, 127, 14)",
          "dash": "dash",
          "width": 2
         },
         "mode": "lines",
         "name": "2018-09-28 00:00 (Venus (♀))",
         "type": "scatter",
         "uid": "0c8a7ffc-7aab-4566-a63d-7c811806eba8",
         "x": {
          "dtype": "float64",
          "shape": [
           100
          ],
          "value": {}
         },
         "y": {
          "dtype": "float64",
          "shape": [
           100
          ],
          "value": {}
         }
        },
        {
         "marker": {
          "color": "rgb(255, 127, 14)",
          "size": 10
         },
         "mode": "markers",
         "name": "2018-09-28 00:00 (Venus (♀))",
         "type": "scatter",
         "uid": "892ac89a-5928-4995-b7ca-2c1d42dde650",
         "x": {
          "dtype": "float64",
          "shape": [
           1
          ],
          "value": {}
         },
         "y": {
          "dtype": "float64",
          "shape": [
           1
          ],
          "value": {}
         }
        },
        {
         "hoverinfo": "none",
         "line": {
          "color": "rgb(44, 160, 44)",
          "dash": "dash",
          "width": 2
         },
         "mode": "lines",
         "name": "2018-09-28 00:00 (#0 to #1)",
         "type": "scatter",
         "uid": "b9945dcd-974d-4441-a150-8e6755b7620d",
         "x": {
          "dtype": "float64",
          "shape": [
           100
          ],
          "value": {}
         },
         "y": {
          "dtype": "float64",
          "shape": [
           100
          ],
          "value": {}
         }
        },
        {
         "marker": {
          "color": "rgb(44, 160, 44)",
          "size": 10
         },
         "mode": "markers",
         "name": "2018-09-28 00:00 (#0 to #1)",
         "type": "scatter",
         "uid": "75e661c2-5565-4edc-8dae-25d4f6728457",
         "x": {
          "dtype": "float64",
          "shape": [
           1
          ],
          "value": {}
         },
         "y": {
          "dtype": "float64",
          "shape": [
           1
          ],
          "value": {}
         }
        },
        {
         "hoverinfo": "none",
         "line": {
          "color": "rgb(214, 39, 40)",
          "dash": "dash",
          "width": 2
         },
         "mode": "lines",
         "name": "2018-09-28 00:00 (#1 to #2)",
         "type": "scatter",
         "uid": "1630a182-9482-4d30-a3ba-290438e03f14",
         "x": {
          "dtype": "float64",
          "shape": [
           100
          ],
          "value": {}
         },
         "y": {
          "dtype": "float64",
          "shape": [
           100
          ],
          "value": {}
         }
        },
        {
         "marker": {
          "color": "rgb(214, 39, 40)",
          "size": 10
         },
         "mode": "markers",
         "name": "2018-09-28 00:00 (#1 to #2)",
         "type": "scatter",
         "uid": "c7d6572d-d762-48a9-9201-272cd0df811a",
         "x": {
          "dtype": "float64",
          "shape": [
           1
          ],
          "value": {}
         },
         "y": {
          "dtype": "float64",
          "shape": [
           1
          ],
          "value": {}
         }
        }
       ],
       "_js2py_layoutDelta": {
        "layout_delta": {
         "annotations": [],
         "calendar": "gregorian",
         "clickmode": "event",
         "colorway": [
          "#1f77b4",
          "#ff7f0e",
          "#2ca02c",
          "#d62728",
          "#9467bd",
          "#8c564b",
          "#e377c2",
          "#7f7f7f",
          "#bcbd22",
          "#17becf"
         ],
         "dragmode": "zoom",
         "font": {
          "color": "#444",
          "family": "\"Open Sans\", verdana, arial, sans-serif",
          "size": 12
         },
         "height": 470,
         "hidesources": false,
         "hoverdistance": 20,
         "hoverlabel": {
          "font": {
           "family": "Arial, sans-serif",
           "size": 13
          },
          "namelength": 15
         },
         "hovermode": "x",
         "images": [],
         "legend": {
          "bgcolor": "#fff",
          "bordercolor": "#444",
          "borderwidth": 0,
          "font": {
           "color": "#444",
           "family": "\"Open Sans\", verdana, arial, sans-serif",
           "size": 12
          },
          "orientation": "v",
          "traceorder": "normal",
          "x": 1.02,
          "xanchor": "left",
          "y": 1,
          "yanchor": "auto"
         },
         "margin": {
          "autoexpand": true,
          "b": 80,
          "l": 80,
          "pad": 0,
          "r": 80,
          "t": 100
         },
         "modebar": {
          "activecolor": "rgba(68, 68, 68, 0.7)",
          "bgcolor": "rgba(255, 255, 255, 0.5)",
          "color": "rgba(68, 68, 68, 0.3)",
          "orientation": "h"
         },
         "paper_bgcolor": "#fff",
         "plot_bgcolor": "#fff",
         "separators": ".,",
         "shapes": [
          {
           "layer": "above",
           "line": {
            "dash": "solid",
            "width": 2
           },
           "visible": true,
           "xsizemode": "scaled",
           "ysizemode": "scaled"
          }
         ],
         "showlegend": true,
         "sliders": [],
         "spikedistance": 20,
         "title": "Click to enter Plot title",
         "titlefont": {
          "color": "#444",
          "family": "\"Open Sans\", verdana, arial, sans-serif",
          "size": 17
         },
         "updatemenus": [],
         "width": 962.133,
         "xaxis": {
          "anchor": "y",
          "automargin": false,
          "autorange": true,
          "color": "#444",
          "constraintoward": "center",
          "domain": [
           0.26377638750953125,
           0.7362236124904687
          ],
          "dtick": 100000000,
          "exponentformat": "B",
          "fixedrange": false,
          "gridcolor": "rgb(238, 238, 238)",
          "gridwidth": 1,
          "hoverformat": "",
          "layer": "above traces",
          "nticks": 0,
          "range": [
           -188333521.0479148,
           145741247.21878055
          ],
          "rangemode": "normal",
          "separatethousands": false,
          "showexponent": "all",
          "showgrid": true,
          "showline": false,
          "showspikes": false,
          "showticklabels": true,
          "side": "bottom",
          "tick0": 0,
          "tickangle": "auto",
          "tickfont": {
           "color": "#444",
           "family": "\"Open Sans\", verdana, arial, sans-serif",
           "size": 12
          },
          "tickformat": "",
          "tickmode": "auto",
          "tickprefix": "",
          "ticks": "",
          "ticksuffix": "",
          "titlefont": {
           "color": "#444",
           "family": "\"Open Sans\", verdana, arial, sans-serif",
           "size": 14
          },
          "type": "linear",
          "visible": true,
          "zeroline": true,
          "zerolinecolor": "#444",
          "zerolinewidth": 1
         },
         "yaxis": {
          "anchor": "x",
          "automargin": false,
          "autorange": true,
          "color": "#444",
          "constrain": "range",
          "constraintoward": "middle",
          "domain": [
           0,
           1
          ],
          "dtick": 50000000,
          "exponentformat": "B",
          "fixedrange": false,
          "gridcolor": "rgb(238, 238, 238)",
          "gridwidth": 1,
          "hoverformat": "",
          "layer": "above traces",
          "nticks": 0,
          "range": [
           -164842043.9742185,
           164842043.97421846
          ],
          "rangemode": "normal",
          "scaleratio": 1,
          "separatethousands": false,
          "showexponent": "all",
          "showgrid": true,
          "showline": false,
          "showspikes": false,
          "showticklabels": true,
          "side": "left",
          "tick0": 0,
          "tickangle": "auto",
          "tickfont": {
           "color": "#444",
           "family": "\"Open Sans\", verdana, arial, sans-serif",
           "size": 12
          },
          "tickformat": "",
          "tickmode": "auto",
          "tickprefix": "",
          "ticks": "",
          "ticksuffix": "",
          "titlefont": {
           "color": "#444",
           "family": "\"Open Sans\", verdana, arial, sans-serif",
           "size": 14
          },
          "type": "linear",
          "visible": true,
          "zeroline": true,
          "zerolinecolor": "#444",
          "zerolinewidth": 1
         }
        },
        "layout_edit_id": 9
       },
       "_js2py_pointsCallback": {},
       "_js2py_relayout": {},
       "_js2py_restyle": {},
       "_js2py_traceDeltas": {
        "trace_deltas": [
         {
          "connectgaps": false,
          "error_x": {
           "visible": false
          },
          "error_y": {
           "visible": false
          },
          "fill": "none",
          "hoverlabel": {
           "font": {
            "family": "Arial, sans-serif",
            "size": 13
           },
           "namelength": 15
          },
          "hoveron": "points",
          "hovertext": "",
          "index": 0,
          "legendgroup": "",
          "line": {
           "shape": "linear",
           "simplify": true
          },
          "opacity": 1,
          "showlegend": true,
          "stackgroup": "",
          "text": "",
          "uid": "d0f433f2-1181-40a3-a8ac-51664b6eed35",
          "visible": true,
          "xaxis": "x",
          "xcalendar": "gregorian",
          "yaxis": "y",
          "ycalendar": "gregorian"
         },
         {
          "cliponaxis": true,
          "error_x": {
           "visible": false
          },
          "error_y": {
           "visible": false
          },
          "fill": "none",
          "hoverinfo": "all",
          "hoverlabel": {
           "font": {
            "family": "Arial, sans-serif",
            "size": 13
           },
           "namelength": 15
          },
          "hoveron": "points",
          "hovertext": "",
          "index": 1,
          "legendgroup": "",
          "marker": {
           "gradient": {
            "type": "none"
           },
           "line": {
            "color": "#444",
            "width": 0
           },
           "maxdisplayed": 0,
           "opacity": 1,
           "symbol": "circle"
          },
          "opacity": 1,
          "selected": {
           "marker": {
            "opacity": 1
           }
          },
          "showlegend": true,
          "stackgroup": "",
          "text": "",
          "uid": "18c6cfb5-68f7-4184-8a53-1340e1978ed3",
          "unselected": {
           "marker": {
            "opacity": 0.2
           }
          },
          "visible": true,
          "xaxis": "x",
          "xcalendar": "gregorian",
          "yaxis": "y",
          "ycalendar": "gregorian"
         },
         {
          "connectgaps": false,
          "error_x": {
           "visible": false
          },
          "error_y": {
           "visible": false
          },
          "fill": "none",
          "hoverlabel": {
           "font": {
            "family": "Arial, sans-serif",
            "size": 13
           },
           "namelength": 15
          },
          "hoveron": "points",
          "hovertext": "",
          "index": 2,
          "legendgroup": "",
          "line": {
           "shape": "linear",
           "simplify": true
          },
          "opacity": 1,
          "showlegend": true,
          "stackgroup": "",
          "text": "",
          "uid": "0c8a7ffc-7aab-4566-a63d-7c811806eba8",
          "visible": true,
          "xaxis": "x",
          "xcalendar": "gregorian",
          "yaxis": "y",
          "ycalendar": "gregorian"
         },
         {
          "cliponaxis": true,
          "error_x": {
           "visible": false
          },
          "error_y": {
           "visible": false
          },
          "fill": "none",
          "hoverinfo": "all",
          "hoverlabel": {
           "font": {
            "family": "Arial, sans-serif",
            "size": 13
           },
           "namelength": 15
          },
          "hoveron": "points",
          "hovertext": "",
          "index": 3,
          "legendgroup": "",
          "marker": {
           "gradient": {
            "type": "none"
           },
           "line": {
            "color": "#444",
            "width": 0
           },
           "maxdisplayed": 0,
           "opacity": 1,
           "symbol": "circle"
          },
          "opacity": 1,
          "selected": {
           "marker": {
            "opacity": 1
           }
          },
          "showlegend": true,
          "stackgroup": "",
          "text": "",
          "uid": "892ac89a-5928-4995-b7ca-2c1d42dde650",
          "unselected": {
           "marker": {
            "opacity": 0.2
           }
          },
          "visible": true,
          "xaxis": "x",
          "xcalendar": "gregorian",
          "yaxis": "y",
          "ycalendar": "gregorian"
         },
         {
          "connectgaps": false,
          "error_x": {
           "visible": false
          },
          "error_y": {
           "visible": false
          },
          "fill": "none",
          "hoverlabel": {
           "font": {
            "family": "Arial, sans-serif",
            "size": 13
           },
           "namelength": 15
          },
          "hoveron": "points",
          "hovertext": "",
          "index": 4,
          "legendgroup": "",
          "line": {
           "shape": "linear",
           "simplify": true
          },
          "opacity": 1,
          "showlegend": true,
          "stackgroup": "",
          "text": "",
          "uid": "b9945dcd-974d-4441-a150-8e6755b7620d",
          "visible": true,
          "xaxis": "x",
          "xcalendar": "gregorian",
          "yaxis": "y",
          "ycalendar": "gregorian"
         },
         {
          "cliponaxis": true,
          "error_x": {
           "visible": false
          },
          "error_y": {
           "visible": false
          },
          "fill": "none",
          "hoverinfo": "all",
          "hoverlabel": {
           "font": {
            "family": "Arial, sans-serif",
            "size": 13
           },
           "namelength": 15
          },
          "hoveron": "points",
          "hovertext": "",
          "index": 5,
          "legendgroup": "",
          "marker": {
           "gradient": {
            "type": "none"
           },
           "line": {
            "color": "#444",
            "width": 0
           },
           "maxdisplayed": 0,
           "opacity": 1,
           "symbol": "circle"
          },
          "opacity": 1,
          "selected": {
           "marker": {
            "opacity": 1
           }
          },
          "showlegend": true,
          "stackgroup": "",
          "text": "",
          "uid": "75e661c2-5565-4edc-8dae-25d4f6728457",
          "unselected": {
           "marker": {
            "opacity": 0.2
           }
          },
          "visible": true,
          "xaxis": "x",
          "xcalendar": "gregorian",
          "yaxis": "y",
          "ycalendar": "gregorian"
         },
         {
          "connectgaps": false,
          "error_x": {
           "visible": false
          },
          "error_y": {
           "visible": false
          },
          "fill": "none",
          "hoverlabel": {
           "font": {
            "family": "Arial, sans-serif",
            "size": 13
           },
           "namelength": 15
          },
          "hoveron": "points",
          "hovertext": "",
          "index": 6,
          "legendgroup": "",
          "line": {
           "shape": "linear",
           "simplify": true
          },
          "opacity": 1,
          "showlegend": true,
          "stackgroup": "",
          "text": "",
          "uid": "1630a182-9482-4d30-a3ba-290438e03f14",
          "visible": true,
          "xaxis": "x",
          "xcalendar": "gregorian",
          "yaxis": "y",
          "ycalendar": "gregorian"
         },
         {
          "cliponaxis": true,
          "error_x": {
           "visible": false
          },
          "error_y": {
           "visible": false
          },
          "fill": "none",
          "hoverinfo": "all",
          "hoverlabel": {
           "font": {
            "family": "Arial, sans-serif",
            "size": 13
           },
           "namelength": 15
          },
          "hoveron": "points",
          "hovertext": "",
          "index": 7,
          "legendgroup": "",
          "marker": {
           "gradient": {
            "type": "none"
           },
           "line": {
            "color": "#444",
            "width": 0
           },
           "maxdisplayed": 0,
           "opacity": 1,
           "symbol": "circle"
          },
          "opacity": 1,
          "selected": {
           "marker": {
            "opacity": 1
           }
          },
          "showlegend": true,
          "stackgroup": "",
          "text": "",
          "uid": "c7d6572d-d762-48a9-9201-272cd0df811a",
          "unselected": {
           "marker": {
            "opacity": 0.2
           }
          },
          "visible": true,
          "xaxis": "x",
          "xcalendar": "gregorian",
          "yaxis": "y",
          "ycalendar": "gregorian"
         }
        ],
        "trace_edit_id": 9
       },
       "_js2py_update": {},
       "_last_layout_edit_id": 9,
       "_last_trace_edit_id": 9,
       "_layout": {
        "autosize": true,
        "shapes": [
         {
          "fillcolor": "#ffcc00",
          "line": {
           "color": "#ffcc00"
          },
          "opacity": 1,
          "type": "circle",
          "x0": -696000,
          "x1": 696000,
          "xref": "x",
          "y0": -696000,
          "y1": 696000,
          "yref": "y"
         }
        ],
        "template": {},
        "xaxis": {
         "constrain": "domain",
         "title": "x (km)"
        },
        "yaxis": {
         "scaleanchor": "x",
         "title": "y (km)"
        }
       },
       "_py2js_animate": {},
       "_py2js_deleteTraces": {},
       "_py2js_moveTraces": {},
       "_py2js_removeLayoutProps": {},
       "_py2js_removeTraceProps": {},
       "_py2js_restyle": {},
       "_view_count": 1
      }
     },
     "5f80ff1d9435440c86de71be7a5d705b": {
      "buffers": [
       {
        "data": "AQRwfqtfoUHp2aNKjVahQRbPZBU8O6FBKO9yB9QNoUFS7iHvg86gQQuFGRCNfaBBN9MO4EIboEGPSHhhFVCfQemG3462SJ5BShI7xXghnUFirOJbjNubQdx05UpBeJpBRfG20AX5mEF5z6b4ZF+XQRaNqAMFrZVBgcoOtaXjk0E89/qEHgWSQQAjXbpcE5BBKNvx3MIgjEFEevf3fvyHQd3jircyvoNBu7BexnvUfkESSMErLQp2QfMkEpMSTWpBSgWxnOfKUEH0ByMjGiBTwfbQ7NfsgGvBmlXNilatdsFZFryYc4V/wbXnCdjXH4TBopXu24VpiMFXxfZUWJuMwStO6yt+WJDBjnwKAx5TksHGVpFygTuUwaAsgwmxD5bBpYQjKsrNl8Hp2XP7AHSZwaD1OEOiAJvBKEKfJhVynMGVn6/P3MadwY5H4vWZ/Z7B5okdJIYKoMES8bzbCYagwQNchc/Y8KDBTMfB5YRKocFDmdCusZKhwbGdbMQUyaHBm1ReFnbtocGzhUYksP+hwa+FRiSw/6HBmFReFnbtocGqnWzEFMmhwTuZ0K6xkqHBQcfB5YRKocH1W4XP2PCgwQPxvNsJhqDB1YkdJIYKoMFnR+L1mf2ewW2fr8/cxp3B/0GfJhVynMF09ThDogCbwbLZc/sAdJnBbYQjKsrNl8FoLIMJsQ+WwYlWkXKBO5TBSnwKAx5TksHwTesrfliQwdHE9lRYm4zBF5Xu24VpiMEu5wnY1x+EwUEVvJhzhX/Bf1TNilatdsGzzuzX7IBrwT4DIyMaIFPBEgqxnOfKUEH6JhKTEk1qQRBJwSstCnZBzrFexnvUfkFh5Iq3Mr6DQc169/d+/IdBtdvx3MIgjEFCI126XBOQQYD3+oQeBZJBuMoOtaXjk0FRjagDBa2VQazPpvhkX5dBevG20AX5mEEFdeVKQXiaQZCs4luM25tBcxI7xXghnUELh9+OtkieQa9IeGEVUJ9BRtMO4EIboEEXhRkQjX2gQVruIe+DzqBBL+9yB9QNoUEcz2QVPDuhQerZo0qNVqFBAQRwfqtfoUE=",
        "encoding": "base64",
        "path": [
         "_data",
         0,
         "x",
         "value"
        ]
       },
       {
        "data": "AAAAAACQoj5ONICHB/NhQRiBjzPH6XFBxV3QhJPHekGh/tp64sSBQZwMkhyqE4ZBXnSc4q9LikG+AHV9mmiOQcELUUcWM5FB8BDEgyQgk0FHkXaze/mUQRxBZ+gzvZZBaHcofntpmEEJr975mPyZQf/PVtHsdJtBdiJfF/PQnEEYYKkLRQ+eQcitmYyaLp9BXqTCtOUWoEHtHQJK6IWgQRuxjZfi46BBpZiTvXMwoUFNDcrOTGuhQUFSyyExlKFBE7+dj/aqoUHjUSefha+hQTv/X53ZoaFBbc4pogCCoUEcxMmBG1ChQbSUEKtdDKFB+wBW8gy3oEHog31JgVCgQb4JncpIsp9BBgP7oOKinkFRA63Z53OdQaknF8aQJpxBmOp3AzW8mkEpqrMYSjaZQQCCSvVhlpdBuGIFUynelUEifgX8ZQ+UQQ2Y/fb0K5JBP213m8g1kEFYJkAgzV2MQeayWWrLMohBr3P9+dfug0FEzPLUsCx/Qd2utQqPW3ZBIzExkcLmakFw2AQPWPVRQajdBA9Y9VHBuzMxkcLmasEqsLUKj1t2wXrN8tSwLH/BSHT9+dfug8Fxs1lqyzKIwegmQCDNXYzBe213m8g1kMFMmP329CuSwWF+BfxlD5TB72IFUynelcE2gkr1YZaXwWGqsxhKNpnBy+p3AzW8msHUJxfGkCacwX0Drdnnc53BLgP7oOKinsHcCZ3KSLKfwfeDfUmBUKDBBwFW8gy3oMG/lBCrXQyhwSXEyYEbUKHBcs4pogCCocE//1+d2aGhweRRJ5+Fr6HBEb+dj/aqocE+UsshMZShwUgNys5Ma6HBn5iTvXMwocETsY2X4uOgweIdAkrohaDBT6TCtOUWoMGnrZmMmi6fwe9fqQtFD57BTCJfF/PQnMHQz1bR7HSbwduu3vmY/JnBLncofntpmMHrQGfoM72WwQuRdrN7+ZTBrBDEgyQgk8GCC1FHFjORwTsAdX2aaI7Bz3Oc4q9LisEIDJIcqhOGwRz+2nrixIHBllzQhJPHesH4f48zx+lxwRAygIcH82HBAAAAAACAoD4=",
        "encoding": "base64",
        "path": [
         "_data",
         0,
         "y",
         "value"
        ]
       },
       {
        "data": "8TNoyKxjocE=",
        "encoding": "base64",
        "path": [
         "_data",
         1,
         "x",
         "value"
        ]
       },
       {
        "data": "MI9bScuKgsE=",
        "encoding": "base64",
        "path": [
         "_data",
         1,
         "y",
         "value"
        ]
       },
       {
        "data": "pu84dmSjckFdCNOz9WVoQZps51lB11ZBWBb3zFatKcHim6W6/j9dwUzb2D5xlmvB/yvrK2c4dMGcP41w65B6wfogiGsdZ4DBWI1davN0g8HuP9TF0W6GwaCEKSSnUYnB/wlZ6nkajMGsOTFNa8aOwecXYiNdqZDBVUSUNmPekcFybs5TCQGTwf61od8jEJTBvX1oZJsKlcEgGVmybe+VwUfEqumuvZbBcI26bYp0l8FwjDXAQxOYwbJ8ZkM3mZjBCm/e4toFmcHSt8qhvliZwW9gZQ6NkZnBzBwJmguwmcHq+Y3VGrSZwbiMsJG2nZnBFjpi4/VsmcHYJf4LCyKZwZtPe0VDvZjB/EPRcgY/mMGwceG01qeXwRGGU+RP+JbBPBfv8CYxlsGFNRgnKVOVwaknL1w7X5TBXnetAllWk8HIdvMmkzmSwVZu0VUPCpHBVC3d2wySj8Fmlou6hu+MwRjTCJhDL4rBmwRWbBlUh8HNjMLq+WCEwavK/XjvWIHBWDJnGTR+fMF8Xd3lVy12weKYSxKai2/BONhTLVucYsGshlGqIWlGwRbdFv/VtE1BW6OkRbBsZEEOo6fuYKtwQSWNlScND3dBKelet8ZafUE2W7IbCMSBQXDfoNBFyIRBDjiHbwC3h0ExbkQaMo2KQbCSQj3uR41Bgtock2Tkj0FRGYwF8i+RQYZ4uMfuW5JBdrhQVPN0k0EFwXT93XmUQa2/ws2haZVBzbWWnUdDlkGoP9AR7wWXQXfzF4PPsJdBvfK1zDhDmEEMdyQClLyYQTMvowpkHJlBtw0rIkZimUGOmz0/8o2ZQT7cJl07n5lBrzdlqg+WmUGdkwebeHKZQaKt7t6aNJlBUMH7O7bcmEE0dlNMJWuYQXvZ+CBd4JdBJqkgyew8l0GxVbm+fIGWQcC9vzjOrpVBaakTZLrFlEEQVJmDMceTQcrJjvg5tJJBJ2UUNO+NkUGgOv+SgFWQQT1CRUpgGI5BRWKmwqJmi0Fk5vKOj5iIQYbnOeQKsYVBYfrCMROzgkGl8/4VfEN/Qc0dQvNpAHlBs+84dmSjckE=",
        "encoding": "base64",
        "path": [
         "_data",
         2,
         "x",
         "value"
        ]
       },
       {
        "data": "1Ft2ztT+mEGXCfXT6T6ZQa55kn67ZJlBG2c80iJwmUGoq6QNFGGZQYxOX7aeN5lBaHfiiO3zmEE7xHhMRpaYQTxrU4sJH5hBRk4GL7KOl0HHlNQB1eWWQWxnUBUgJZZB+OfrDlpNlUEXXDRbYV+UQaqfikgrXJNBVDdFCsNEkkEmrEClSBqRQZI79I3fu49BQi3MEP0hjUFSJJU7mGmKQWpu7el+lYdBLu2JhpuohEFD5ckJ8qWBQeEG57s5IX1B0MKaWJPXdkFwXcIsbHVwQbxRIHuxAmRBIj0mTwAQTEGcXmeJWg9IwS6pq/9jB2PBzu64xz35b8GZ2af+BWZ2wS7D4lFLuXzBFj7Q1/R3gcEgj365vIGEwY3pJY3bdofB8VsC3kRUisFXQ+WnBBeNwdCzhmJCvI/BmA9B+KEgkcE9C3w3uFGSwb6rd3EpcJPBVFLZYM56lMH5hscolHCVwZaUP3B9UJbBq4s9Z6MZl8Hedqm0NsuXwd9+FEyAZJjBFKppKuLkmMF1ts/410uZwXEmFJX3mJnBleESf/HLmcH2oakqkeSZwWe04jW94pnBVDUfg3fGmcF40SU33Y+ZwR0LGJsmP5nBr/ts4qbUmMGIYC3Vy1CYwclbyV4dtJfBX5D8AT3/lsF0BlEy5TKWwVx37JPoT5XBzh9uIjFXlMFJ7Lw/v0mTwTmgvquoKJLBGGYIZhf1kMG51l/1kGCPwW5c83YVt4zB3cRqzXrwicGZZlh6nQ+Hwd47LBF1F4TBOyI3KBELgcEyidthLNt7wS+jV3V0hHXBFSo5jQYxbsHUuDnk7jthwfaEXxH120DBiaZ3TcWgUUG+i9evwsxlQYPXPgBgWHFB0yWpcoi3d0EhhFNASf19Qby+P5WVEYJBS0Nl5msRhUECzckSEPuHQc6n43qBy4pB4CrAeNl/jUGGtcYupwqQQRsgpCibRJFBqiHMCIVskkHcn4LGM4GTQUMo6yuKgZRBKjUJ/H9slUEZGCIDI0GWQS/DZxCY/pZBXBTr1xukl0Fiuey7AzGYQbQnvXy+pJhB01t2ztT+mEE=",
        "encoding": "base64",
        "path": [
         "_data",
         2,
         "y",
         "value"
        ]
       },
       {
        "data": "cSwM0UpzksE=",
        "encoding": "base64",
        "path": [
         "_data",
         3,
         "x",
         "value"
        ]
       },
       {
        "data": "6qpFNvQWksE=",
        "encoding": "base64",
        "path": [
         "_data",
         3,
         "y",
         "value"
        ]
       },
       {
        "data": "CfbjIRzNdEHQc4Fj1sZzQSLRT675bnJBA9A0eOjGcEGrJd/Ir6BtQXtl+AGcGmlBZUUcYT8AZEHWah8Nua1cQTQnqAKTSFBBeI+4sJzuJkGUOaQ3YQlHwS2qkY4l0FrBGB51j2N6ZcGcS7al+PBtwTB98VaMYXPBfhFJ99Xzd8EOh0nYoqp8wcRqgH2LwIDBp+O83xo5g8EmeFqEc7yFwbjJez7+R4jBs1yDbhvZisE9jGa2JW2NwRcf9lm6AJDBvcgD369JkcHpxz1RIJCSwdFOejC70pPB0oFj8DMQlcFPuENPQ0eWwUBdXaeodpfBNrFyOSudmMFztihvm7mZwT70+BPUyprBqHpvg7vPm8Fjl33LRMecwVf3tcFwsJ3BxGtUCk+KnsF0MQIQ/1Ofwa6oq3VYBqDBuzuVHNNZoMFqKmlvGaSgwU0fx93e5KDBFZUvo+AbocG6J9cL5kihwWbGGa/Aa6HB3IVRn0yEocEEw9+OcJKhwR1oQuodlqHBvXEa51CPocFpNhSIEH6hwZlprZVuYqHBXk3gi4c8ocHn98Z8ggyhwWrxVOiQ0qDBn65Qie6OoMHRgMEX4UGgwQTnIgJw15/BsllaLJgZn8GSbexf/kqeweIizJR3bJ3B5Q2ULel+nMEtzxELSIObwbsZ2Y+XeprBYHzilOhlmcHvjElQWEaYwXViTC8PHZfBfW67pD/rlcEwsRTtJLKUwZvoj8kBc5PB4LNqMx8vksHmnssIy+eQwfZNM2mtPI/Bs/lVpSuojMEHG2OjuRSKwflenCj/hIfBIWVoJaD7hMHC9Iz8OXuCwW6IKtFgBoDBj/CAvDk/e8GTcO60z5J2wYTwwtVUDHLBJx5WneZga8Fm6LjLUgdjwQAxblkTKVbBJMW3BOaFPMG6D1ACp+I7QS/BXQPNFlRBuv+IUbUVYEH04CJYB5VlQdrTOOOxg2pBS7ZhXZ/cbkFnJ+FFqk1xQUcYUpb63XJBXZAW+aMddEFqb47qXAt1QVYtEl4wpnVBvAeNun7tdUH3XgF//uB1QUCsTY68gHVBCfbjIRzNdEE=",
        "encoding": "base64",
        "path": [
         "_data",
         4,
         "x",
         "value"
        ]
       },
       {
        "data": "1JULFYouVUFM0jHDQUthQYZqtWVBzmdBbPA9kY0ZbkGi4/enVBNyQSrghuOr93RBMMmFUtG2d0ELSXUj8E16QQtpRcdcunxBeST2sZf5fkGZ0+z2p4SAQU1RaL+yc4FBi1OFyfVIgkEiPIQ/lQODQcBYasHQooNB+MRPKwQmhEGfcZI+qIyEQTznPy1T1oRB1Q0mB7kChUHfjBoIrBGFQRYSKMccA4VB4t1wRhrXhEFpNbbj0Y2EQaeslCmPJ4RBwH2lgbukg0EhMtXH3QWDQV6gX7+ZS4JBxosAaq92gUHq6AZC+oeAQdaaLbDgAH9BCoUGq0LCfEFO44rIalZ6QQOrY/vXv3dB0kZMQjUBdUFCywboVh1yQYOUfDFvLm5BwtSxn+rjZ0H4SshCnGFhQWKIrIlzXFVB4NiSOluFPkFgH3Hd2H85wfDmELoDmVTBxw5oOZR9YcGKVsFfyLtowWMHofWm/2/BwPS3ZNmgc8E+211FOD13wbIESEA30XrBvg72GiZZfsEFGRuFsOiAwVlPVDkqm4LBB6hJTEBChMF7tZydPtyFwf4s/4t+Z4fBSOfaqGjiiMFrPU9cdkuKwcnT0nczoYvBksfatT/ijMG6xPskUA2OwTyyDn0wIY/BJqZ8LmIOkMECjOk3hH+QwY1BHLyJ45DBak9coAs6kcHtzzK4sIKRwUWCViEuvZHB9O/ckEfpkcHyEWGRzwaSwcZk37GnFZLBhB0XpcAVksEjJ1BRGgeSwXGlddDD6ZHBjeKEYNu9kcGpsmBEjoORwbNwKZUYO5HBI6xJBMXkkMHbY3eO7ICQwZUs+R/2D5DB5qIbVawkj8E5mMdaHBGOwSygOF9Y5ozBTwfHW5Sli8FUomn3GlCKwaDh3TFM54jBiq/O+Jtsh8EcIXCokOGFwcwuG3nBR4TBWkCI29SggsG/QVnFfu6AwSRFaN/9ZH7Byv95Ez7desFGbpfBYUl3wcJvhgAZrXPBahLzlRwMcMFraphAVNRowTpQQncAlmHBVmvnlWrJVME/cUM65j46wX6qHOGgyT1B1JULFYouVUE=",
        "encoding": "base64",
        "path": [
         "_data",
         4,
         "y",
         "value"
        ]
       },
       {
        "data": "cSwM0UpzksE=",
        "encoding": "base64",
        "path": [
         "_data",
         5,
         "x",
         "value"
        ]
       },
       {
        "data": "6qpFNvQWksE=",
        "encoding": "base64",
        "path": [
         "_data",
         5,
         "y",
         "value"
        ]
       },
       {
        "data": "kjHclqDtcUF3NUyAqcpwQZfMojcjt25BtEGco6ZDa0GlsBv8az5nQbi3wDSYq2JBko8Zb8QfW0FKsRgjOMJPQexLd5Z1Ni1BVWkxyREFQ8ECgdCDWY1XwWUD9MaUNWPBMu3V8lIGa8GhYGtubJhxwUjIDchd1nXBnvWCHJ44esGITYSUqLp+wYB76cnrq4HBHUS/wbQFhMEYlYHcQmiGwYyxmLog0YjB+pvcetI9i8GAjA9K2KuNwXPPNHtYDJDBnOxGQu5AkcGQmp9hb3KSwdnRlu2gn5PBW4MbbEzHlMHZbb8UQeiVwdhj5ApVAZfB0STHkGYRmMHmSCsyXReZwfRddOUqEprBbzQCIs0Am8G0arHqTeKbwR6AbcvEtZzBfQzPyFd6ncF0G89APC+ewUMLqLu3057B2J0MrCBnn8HOGO8d3+ifweskkqk2LKDBVHygJqxaoMHL1BEioH+gwYo/WITsmqDB8LmsKXWsoMG8/BD/J7Sgwe8W8RT9saDBjp9Rp/aloMGYD4IbIZCgwR6kVfOScKDBOfTvtWxHoMFyJT3O2BSgwSiecL4Wsp/BiD1aHIQon8EgSliGh42ewcqV5r/A4Z3BQpAr2+AlncGC+nCCqVqcwUyHgTDsgJvBxTK5WImZmsGV6KZ/b6WZwTD4LUWapZjBUsokYRGbl8EDN3yT54aWwT62B4k5apXBZ10KtixGlMEVKLcn7huTwehe3E2x7JHBKwH6va65kMEdwBPiRQiPwUwii/qZmozBKgF1mtosisFdZP6qiMGHwWdUvJQiW4XBBQOWrSH8gsGVp+mr96aAwckXGkMYvHzBpE+FAnRHeMEqz2JimvRzwfgrf7MAkG/Bf0eM5OaLZ8EHLgVjVcpfwW73V2teR1HB1Hj9yvLuLMH7/7EMK0hCQQAYd5ZW8VRBd2Ewd7q9X0GYV1TID79kQYj+LkY8FGlBUbvnWOvZbEFwPuzGHAZwQcpOC6/tU3FBucL8SRBVckHxQ0OIewhzQVxa83Z2bXNBy6ZZ/piDc0HY6UdNzEpzQQ47mvBKw3JBkjHclqDtcUE=",
        "encoding": "base64",
        "path": [
         "_data",
         6,
         "x",
         "value"
        ]
       },
       {
        "data": "55kPYjvNVkGQSulxG3xhQVuv8bsrWmdBWXALM8L6bEHZXwLtCCxxQennqIZJtnNB1B8pm4QZdkHEtpwYRFN4QcyZBLA8YXpBVgOyMlBBfEEeKyvBj/F9QWR3S8k9cH9BJqvI6OddgEHFJOAHeOmAQf78mWQ/WoFB0pG8vcmvgUHGTv3lvumBQWa25R7jB4JBUT9pVhcKgkHmiOxGWfCBQcDjnHnDuoFB3cMVK41pgUEGT3ASCv2AQea49wqqdYBBPcO2QfGnf0HKJKsCOTF+QepAtp2tiHxBoiQKtASwekFwAQOAJal4QeFr6N4mdnZButCTKU0ZdEHGeDTeB5VxQbaNMzve121BFWw0/YFBaEF0k7F0vWxiQQTmS9Emv1hBKLEzCgOBSEFAgNXvd7ICwdiAzz27a0vBRPpuPdQSW8HSEfKZWE9kwdF5WOG+JWvBjqexTcgCccEXsWLc23N0wbZJMuGN4nfB8LrmlFRLe8Fix0tKrKp+wSdQzYaN/oDBzNntHJqfgsG6VEgAzjaEwaiGAXCFwoXBoAFTgihBh8FffQfJLLGIwZ89EegWEYrBp2aXHHxfi8EkJeeyA5uMwTUyx2lowo3BgGu/wXnUjsEG4/o2HdCPwQdsQLInWpDBvTLMhxLAkMGToiENZhmRwcjZ6i3GZZHBmBdmL+SkkcHUsY0Bf9aRwVd4KYJj+pHBfmOEsWwQksEgOJDYgxiSwarQT6CgEpLB8OdvGsn+kcGSiQW7Ed2RwVCaeEOdrZHBsTSwnpxwkcHWx6WuTiaRwZXzkgsAz5DBUvP8tAprkMG/9d1pq/WPwZFPhmup/Y7BXgbPFQ/vjcHR+TNa88qMwZdlRlWDkovBvnBIGAFHisHMsi5dwumIwXzoXSYvfIfBcPaPS8D/hcE8xF71/XWEwdVeBQl+4ILB+hX4heJAgcE+xQWurzF/wdZ+VDEm1HvBwV0rraBseMEw0KiDof50wUsCqMOxjXHBRpaZB7s6bME70d90YGJlwczYwVjEMl3Bnh531/qaT8ESXCTe2BUlwdBIxeDff0RB55kPYjvNVkE=",
        "encoding": "base64",
        "path": [
         "_data",
         6,
         "y",
         "value"
        ]
       },
       {
        "data": "cSwM0UpzksE=",
        "encoding": "base64",
        "path": [
         "_data",
         7,
         "x",
         "value"
        ]
       },
       {
        "data": "6qpFNvQWksE=",
        "encoding": "base64",
        "path": [
         "_data",
         7,
         "y",
         "value"
        ]
       }
      ],
      "model_module": "plotlywidget",
      "model_module_version": "^0.6.0",
      "model_name": "FigureModel",
      "state": {
       "_config": {
        "plotlyServerURL": "https://plot.ly"
       },
       "_data": [
        {
         "hoverinfo": "none",
         "line": {
          "color": "rgb(31, 119, 180)",
          "dash": "dash",
          "width": 2
         },
         "mode": "lines",
         "name": "2018-08-11 00:00 (Earth (♁))",
         "type": "scatter",
         "uid": "4d40704e-662d-4841-bda2-295733b1d440",
         "x": {
          "dtype": "float64",
          "shape": [
           100
          ],
          "value": {}
         },
         "y": {
          "dtype": "float64",
          "shape": [
           100
          ],
          "value": {}
         }
        },
        {
         "marker": {
          "color": "rgb(31, 119, 180)",
          "size": 10
         },
         "mode": "markers",
         "name": "2018-08-11 00:00 (Earth (♁))",
         "type": "scatter",
         "uid": "77cd7143-35fb-49a4-8a2e-8dc1e0715a1b",
         "x": {
          "dtype": "float64",
          "shape": [
           1
          ],
          "value": {}
         },
         "y": {
          "dtype": "float64",
          "shape": [
           1
          ],
          "value": {}
         }
        },
        {
         "hoverinfo": "none",
         "line": {
          "color": "rgb(255, 127, 14)",
          "dash": "dash",
          "width": 2
         },
         "mode": "lines",
         "name": "2018-09-28 00:00 (Venus (♀))",
         "type": "scatter",
         "uid": "c0910546-2ca2-40b5-829c-3cc74d8e0113",
         "x": {
          "dtype": "float64",
          "shape": [
           100
          ],
          "value": {}
         },
         "y": {
          "dtype": "float64",
          "shape": [
           100
          ],
          "value": {}
         }
        },
        {
         "marker": {
          "color": "rgb(255, 127, 14)",
          "size": 10
         },
         "mode": "markers",
         "name": "2018-09-28 00:00 (Venus (♀))",
         "type": "scatter",
         "uid": "ec02a219-959c-40ad-aef2-242c2f731f7e",
         "x": {
          "dtype": "float64",
          "shape": [
           1
          ],
          "value": {}
         },
         "y": {
          "dtype": "float64",
          "shape": [
           1
          ],
          "value": {}
         }
        },
        {
         "hoverinfo": "none",
         "line": {
          "color": "rgb(44, 160, 44)",
          "dash": "dash",
          "width": 2
         },
         "mode": "lines",
         "name": "2018-09-28 00:00 (#0 to #1)",
         "type": "scatter",
         "uid": "fc5c2ca7-490c-4322-8281-38701b4c7a42",
         "x": {
          "dtype": "float64",
          "shape": [
           100
          ],
          "value": {}
         },
         "y": {
          "dtype": "float64",
          "shape": [
           100
          ],
          "value": {}
         }
        },
        {
         "marker": {
          "color": "rgb(44, 160, 44)",
          "size": 10
         },
         "mode": "markers",
         "name": "2018-09-28 00:00 (#0 to #1)",
         "type": "scatter",
         "uid": "891095c1-3262-4bc8-a386-74c5b4b138b8",
         "x": {
          "dtype": "float64",
          "shape": [
           1
          ],
          "value": {}
         },
         "y": {
          "dtype": "float64",
          "shape": [
           1
          ],
          "value": {}
         }
        },
        {
         "hoverinfo": "none",
         "line": {
          "color": "rgb(214, 39, 40)",
          "dash": "dash",
          "width": 2
         },
         "mode": "lines",
         "name": "2018-09-28 00:00 (#1 to #2)",
         "type": "scatter",
         "uid": "16933485-ae3c-44a7-993b-f7e51f7e253b",
         "x": {
          "dtype": "float64",
          "shape": [
           100
          ],
          "value": {}
         },
         "y": {
          "dtype": "float64",
          "shape": [
           100
          ],
          "value": {}
         }
        },
        {
         "marker": {
          "color": "rgb(214, 39, 40)",
          "size": 10
         },
         "mode": "markers",
         "name": "2018-09-28 00:00 (#1 to #2)",
         "type": "scatter",
         "uid": "c3ab782d-d993-403b-b2a7-288957ce7a94",
         "x": {
          "dtype": "float64",
          "shape": [
           1
          ],
          "value": {}
         },
         "y": {
          "dtype": "float64",
          "shape": [
           1
          ],
          "value": {}
         }
        }
       ],
       "_js2py_layoutDelta": {
        "layout_delta": {
         "annotations": [],
         "calendar": "gregorian",
         "clickmode": "event",
         "colorway": [
          "#1f77b4",
          "#ff7f0e",
          "#2ca02c",
          "#d62728",
          "#9467bd",
          "#8c564b",
          "#e377c2",
          "#7f7f7f",
          "#bcbd22",
          "#17becf"
         ],
         "dragmode": "zoom",
         "font": {
          "color": "#444",
          "family": "\"Open Sans\", verdana, arial, sans-serif",
          "size": 12
         },
         "height": 470,
         "hidesources": false,
         "hoverdistance": 20,
         "hoverlabel": {
          "font": {
           "family": "Arial, sans-serif",
           "size": 13
          },
          "namelength": 15
         },
         "hovermode": "x",
         "images": [],
         "legend": {
          "bgcolor": "#fff",
          "bordercolor": "#444",
          "borderwidth": 0,
          "font": {
           "color": "#444",
           "family": "\"Open Sans\", verdana, arial, sans-serif",
           "size": 12
          },
          "orientation": "v",
          "traceorder": "normal",
          "x": 1.02,
          "xanchor": "left",
          "y": 1,
          "yanchor": "auto"
         },
         "margin": {
          "autoexpand": true,
          "b": 80,
          "l": 80,
          "pad": 0,
          "r": 80,
          "t": 100
         },
         "modebar": {
          "activecolor": "rgba(68, 68, 68, 0.7)",
          "bgcolor": "rgba(255, 255, 255, 0.5)",
          "color": "rgba(68, 68, 68, 0.3)",
          "orientation": "h"
         },
         "paper_bgcolor": "#fff",
         "plot_bgcolor": "#fff",
         "separators": ".,",
         "shapes": [
          {
           "layer": "above",
           "line": {
            "dash": "solid",
            "width": 2
           },
           "visible": true,
           "xsizemode": "scaled",
           "ysizemode": "scaled"
          }
         ],
         "showlegend": true,
         "sliders": [],
         "spikedistance": 20,
         "title": "Click to enter Plot title",
         "titlefont": {
          "color": "#444",
          "family": "\"Open Sans\", verdana, arial, sans-serif",
          "size": 17
         },
         "updatemenus": [],
         "width": 962.133,
         "xaxis": {
          "anchor": "y",
          "automargin": false,
          "autorange": true,
          "color": "#444",
          "constraintoward": "center",
          "domain": [
           0.26377638750953125,
           0.7362236124904687
          ],
          "dtick": 100000000,
          "exponentformat": "B",
          "fixedrange": false,
          "gridcolor": "rgb(238, 238, 238)",
          "gridwidth": 1,
          "hoverformat": "",
          "layer": "above traces",
          "nticks": 0,
          "range": [
           -188333521.0479148,
           145741247.21878055
          ],
          "rangemode": "normal",
          "separatethousands": false,
          "showexponent": "all",
          "showgrid": true,
          "showline": false,
          "showspikes": false,
          "showticklabels": true,
          "side": "bottom",
          "tick0": 0,
          "tickangle": "auto",
          "tickfont": {
           "color": "#444",
           "family": "\"Open Sans\", verdana, arial, sans-serif",
           "size": 12
          },
          "tickformat": "",
          "tickmode": "auto",
          "tickprefix": "",
          "ticks": "",
          "ticksuffix": "",
          "titlefont": {
           "color": "#444",
           "family": "\"Open Sans\", verdana, arial, sans-serif",
           "size": 14
          },
          "type": "linear",
          "visible": true,
          "zeroline": true,
          "zerolinecolor": "#444",
          "zerolinewidth": 1
         },
         "yaxis": {
          "anchor": "x",
          "automargin": false,
          "autorange": true,
          "color": "#444",
          "constrain": "range",
          "constraintoward": "middle",
          "domain": [
           0,
           1
          ],
          "dtick": 50000000,
          "exponentformat": "B",
          "fixedrange": false,
          "gridcolor": "rgb(238, 238, 238)",
          "gridwidth": 1,
          "hoverformat": "",
          "layer": "above traces",
          "nticks": 0,
          "range": [
           -164842043.9742185,
           164842043.97421846
          ],
          "rangemode": "normal",
          "scaleratio": 1,
          "separatethousands": false,
          "showexponent": "all",
          "showgrid": true,
          "showline": false,
          "showspikes": false,
          "showticklabels": true,
          "side": "left",
          "tick0": 0,
          "tickangle": "auto",
          "tickfont": {
           "color": "#444",
           "family": "\"Open Sans\", verdana, arial, sans-serif",
           "size": 12
          },
          "tickformat": "",
          "tickmode": "auto",
          "tickprefix": "",
          "ticks": "",
          "ticksuffix": "",
          "titlefont": {
           "color": "#444",
           "family": "\"Open Sans\", verdana, arial, sans-serif",
           "size": 14
          },
          "type": "linear",
          "visible": true,
          "zeroline": true,
          "zerolinecolor": "#444",
          "zerolinewidth": 1
         }
        },
        "layout_edit_id": 9
       },
       "_js2py_pointsCallback": {},
       "_js2py_relayout": {},
       "_js2py_restyle": {},
       "_js2py_traceDeltas": {
        "trace_deltas": [
         {
          "connectgaps": false,
          "error_x": {
           "visible": false
          },
          "error_y": {
           "visible": false
          },
          "fill": "none",
          "hoverlabel": {
           "font": {
            "family": "Arial, sans-serif",
            "size": 13
           },
           "namelength": 15
          },
          "hoveron": "points",
          "hovertext": "",
          "index": 0,
          "legendgroup": "",
          "line": {
           "shape": "linear",
           "simplify": true
          },
          "opacity": 1,
          "showlegend": true,
          "stackgroup": "",
          "text": "",
          "uid": "4d40704e-662d-4841-bda2-295733b1d440",
          "visible": true,
          "xaxis": "x",
          "xcalendar": "gregorian",
          "yaxis": "y",
          "ycalendar": "gregorian"
         },
         {
          "cliponaxis": true,
          "error_x": {
           "visible": false
          },
          "error_y": {
           "visible": false
          },
          "fill": "none",
          "hoverinfo": "all",
          "hoverlabel": {
           "font": {
            "family": "Arial, sans-serif",
            "size": 13
           },
           "namelength": 15
          },
          "hoveron": "points",
          "hovertext": "",
          "index": 1,
          "legendgroup": "",
          "marker": {
           "gradient": {
            "type": "none"
           },
           "line": {
            "color": "#444",
            "width": 0
           },
           "maxdisplayed": 0,
           "opacity": 1,
           "symbol": "circle"
          },
          "opacity": 1,
          "selected": {
           "marker": {
            "opacity": 1
           }
          },
          "showlegend": true,
          "stackgroup": "",
          "text": "",
          "uid": "77cd7143-35fb-49a4-8a2e-8dc1e0715a1b",
          "unselected": {
           "marker": {
            "opacity": 0.2
           }
          },
          "visible": true,
          "xaxis": "x",
          "xcalendar": "gregorian",
          "yaxis": "y",
          "ycalendar": "gregorian"
         },
         {
          "connectgaps": false,
          "error_x": {
           "visible": false
          },
          "error_y": {
           "visible": false
          },
          "fill": "none",
          "hoverlabel": {
           "font": {
            "family": "Arial, sans-serif",
            "size": 13
           },
           "namelength": 15
          },
          "hoveron": "points",
          "hovertext": "",
          "index": 2,
          "legendgroup": "",
          "line": {
           "shape": "linear",
           "simplify": true
          },
          "opacity": 1,
          "showlegend": true,
          "stackgroup": "",
          "text": "",
          "uid": "c0910546-2ca2-40b5-829c-3cc74d8e0113",
          "visible": true,
          "xaxis": "x",
          "xcalendar": "gregorian",
          "yaxis": "y",
          "ycalendar": "gregorian"
         },
         {
          "cliponaxis": true,
          "error_x": {
           "visible": false
          },
          "error_y": {
           "visible": false
          },
          "fill": "none",
          "hoverinfo": "all",
          "hoverlabel": {
           "font": {
            "family": "Arial, sans-serif",
            "size": 13
           },
           "namelength": 15
          },
          "hoveron": "points",
          "hovertext": "",
          "index": 3,
          "legendgroup": "",
          "marker": {
           "gradient": {
            "type": "none"
           },
           "line": {
            "color": "#444",
            "width": 0
           },
           "maxdisplayed": 0,
           "opacity": 1,
           "symbol": "circle"
          },
          "opacity": 1,
          "selected": {
           "marker": {
            "opacity": 1
           }
          },
          "showlegend": true,
          "stackgroup": "",
          "text": "",
          "uid": "ec02a219-959c-40ad-aef2-242c2f731f7e",
          "unselected": {
           "marker": {
            "opacity": 0.2
           }
          },
          "visible": true,
          "xaxis": "x",
          "xcalendar": "gregorian",
          "yaxis": "y",
          "ycalendar": "gregorian"
         },
         {
          "connectgaps": false,
          "error_x": {
           "visible": false
          },
          "error_y": {
           "visible": false
          },
          "fill": "none",
          "hoverlabel": {
           "font": {
            "family": "Arial, sans-serif",
            "size": 13
           },
           "namelength": 15
          },
          "hoveron": "points",
          "hovertext": "",
          "index": 4,
          "legendgroup": "",
          "line": {
           "shape": "linear",
           "simplify": true
          },
          "opacity": 1,
          "showlegend": true,
          "stackgroup": "",
          "text": "",
          "uid": "fc5c2ca7-490c-4322-8281-38701b4c7a42",
          "visible": true,
          "xaxis": "x",
          "xcalendar": "gregorian",
          "yaxis": "y",
          "ycalendar": "gregorian"
         },
         {
          "cliponaxis": true,
          "error_x": {
           "visible": false
          },
          "error_y": {
           "visible": false
          },
          "fill": "none",
          "hoverinfo": "all",
          "hoverlabel": {
           "font": {
            "family": "Arial, sans-serif",
            "size": 13
           },
           "namelength": 15
          },
          "hoveron": "points",
          "hovertext": "",
          "index": 5,
          "legendgroup": "",
          "marker": {
           "gradient": {
            "type": "none"
           },
           "line": {
            "color": "#444",
            "width": 0
           },
           "maxdisplayed": 0,
           "opacity": 1,
           "symbol": "circle"
          },
          "opacity": 1,
          "selected": {
           "marker": {
            "opacity": 1
           }
          },
          "showlegend": true,
          "stackgroup": "",
          "text": "",
          "uid": "891095c1-3262-4bc8-a386-74c5b4b138b8",
          "unselected": {
           "marker": {
            "opacity": 0.2
           }
          },
          "visible": true,
          "xaxis": "x",
          "xcalendar": "gregorian",
          "yaxis": "y",
          "ycalendar": "gregorian"
         },
         {
          "connectgaps": false,
          "error_x": {
           "visible": false
          },
          "error_y": {
           "visible": false
          },
          "fill": "none",
          "hoverlabel": {
           "font": {
            "family": "Arial, sans-serif",
            "size": 13
           },
           "namelength": 15
          },
          "hoveron": "points",
          "hovertext": "",
          "index": 6,
          "legendgroup": "",
          "line": {
           "shape": "linear",
           "simplify": true
          },
          "opacity": 1,
          "showlegend": true,
          "stackgroup": "",
          "text": "",
          "uid": "16933485-ae3c-44a7-993b-f7e51f7e253b",
          "visible": true,
          "xaxis": "x",
          "xcalendar": "gregorian",
          "yaxis": "y",
          "ycalendar": "gregorian"
         },
         {
          "cliponaxis": true,
          "error_x": {
           "visible": false
          },
          "error_y": {
           "visible": false
          },
          "fill": "none",
          "hoverinfo": "all",
          "hoverlabel": {
           "font": {
            "family": "Arial, sans-serif",
            "size": 13
           },
           "namelength": 15
          },
          "hoveron": "points",
          "hovertext": "",
          "index": 7,
          "legendgroup": "",
          "marker": {
           "gradient": {
            "type": "none"
           },
           "line": {
            "color": "#444",
            "width": 0
           },
           "maxdisplayed": 0,
           "opacity": 1,
           "symbol": "circle"
          },
          "opacity": 1,
          "selected": {
           "marker": {
            "opacity": 1
           }
          },
          "showlegend": true,
          "stackgroup": "",
          "text": "",
          "uid": "c3ab782d-d993-403b-b2a7-288957ce7a94",
          "unselected": {
           "marker": {
            "opacity": 0.2
           }
          },
          "visible": true,
          "xaxis": "x",
          "xcalendar": "gregorian",
          "yaxis": "y",
          "ycalendar": "gregorian"
         }
        ],
        "trace_edit_id": 9
       },
       "_js2py_update": {},
       "_last_layout_edit_id": 9,
       "_last_trace_edit_id": 9,
       "_layout": {
        "autosize": true,
        "shapes": [
         {
          "fillcolor": "#ffcc00",
          "line": {
           "color": "#ffcc00"
          },
          "opacity": 1,
          "type": "circle",
          "x0": -21861187.082817174,
          "x1": 21861187.082817174,
          "xref": "x",
          "y0": -21861187.082817174,
          "y1": 21861187.082817174,
          "yref": "y"
         }
        ],
        "template": {},
        "xaxis": {
         "constrain": "domain",
         "title": "x (km)"
        },
        "yaxis": {
         "scaleanchor": "x",
         "title": "y (km)"
        }
       },
       "_py2js_animate": {},
       "_py2js_deleteTraces": {},
       "_py2js_moveTraces": {},
       "_py2js_removeLayoutProps": {},
       "_py2js_removeTraceProps": {},
       "_py2js_restyle": {},
       "_view_count": 1
      }
     },
     "6cb3de7fb3de4c4e974dc480a455af28": {
      "buffers": [
       {
        "data": "AQRwfqtfoUHp2aNKjVahQRbPZBU8O6FBKO9yB9QNoUFS7iHvg86gQQuFGRCNfaBBONMO4EIboEGPSHhhFVCfQemG3462SJ5BTRI7xXghnUFjrOJbjNubQd105UpBeJpBSfG20AX5mEF7z6b4ZF+XQRqNqAMFrZVBhsoOtaXjk0FI9/qEHgWSQQcjXbpcE5BBMtvx3MIgjEFOevf3fvyHQePjircyvoNBtLBexnvUfkEeSMErLQp2QdMkEpMSTWpB5AWxnOfKUEH0ByMjGiBTwc7Q7NfsgGvBlVXNilatdsFZFryYc4V/wb/nCdjXH4TBnZXu24VpiMFQxfZUWJuMwTBO6yt+WJDBjnwKAx5TksG/VpFygTuUwaQsgwmxD5bBoYQjKsrNl8Hj2XP7AHSZwaD1OEOiAJvBLEKfJhVynMGVn6/P3MadwYxH4vWZ/Z7B5IkdJIYKoMEQ8bzbCYagwQNchc/Y8KDBTMfB5YRKocFEmdCusZKhwbGdbMQUyaHBnFReFnbtocGzhUYksP+hwbGFRiSw/6HBmFReFnbtocGsnWzEFMmhwTyZ0K6xkqHBQsfB5YRKocH2W4XP2PCgwQHxvNsJhqDB1YkdJIYKoMFnR+L1mf2ewWufr8/cxp3B/UGfJhVynMFx9ThDogCbwavZc/sAdJnBa4QjKsrNl8FmLIMJsQ+WwYtWkXKBO5TBTXwKAx5TksHiTesrfliQwc/E9lRYm4zBIJXu24VpiMEb5wnY1x+EwTwVvJhzhX/BelTNilatdsGPzuzX7IBrwVoDIyMaIFPBYAqxnOfKUEEYJxKTEk1qQRBJwSstCnZB1rFexnvUfkFy5Iq3Mr6DQeJ69/d+/IdBtdvx3MIgjEFKI126XBOQQYT3+oQeBZJBvMoOtaXjk0FQjagDBa2VQarPpvhkX5dBfvG20AX5mEEFdeVKQXiaQYms4luM25tBdRI7xXghnUELh9+OtkieQa5IeGEVUJ9BRdMO4EIboEEWhRkQjX2gQVvuIe+DzqBBLu9yB9QNoUEbz2QVPDuhQevZo0qNVqFBAQRwfqtfoUE=",
        "encoding": "base64",
        "path": [
         "_data",
         0,
         "x",
         "value"
        ]
       },
       {
        "data": "AAAAAACAoD4fNICHB/NhQSmBjzPH6XFBw13QhJPHekGf/tp64sSBQZAMkhyqE4ZBVXSc4q9LikG+AHV9mmiOQcALUUcWM5FB6RDEgyQgk0FGkXaze/mUQRxBZ+gzvZZBYncofntpmEEJr975mPyZQf3PVtHsdJtBdCJfF/PQnEEUYKkLRQ+eQcatmYyaLp9BXqTCtOUWoEHtHQJK6IWgQRqxjZfi46BBppiTvXMwoUFODcrOTGuhQUFSyyExlKFBEr+dj/aqoUHjUSefha+hQTv/X53ZoaFBbc4pogCCoUEcxMmBG1ChQbSUEKtdDKFB/ABW8gy3oEHpg31JgVCgQb0JncpIsp9BBgP7oOKinkFVA63Z53OdQaYnF8aQJpxBm+p3AzW8mkEuqrMYSjaZQQCCSvVhlpdBtGIFUynelUEifgX8ZQ+UQQeY/fb0K5JBOm13m8g1kEFmJkAgzV2MQeayWWrLMohBr3P9+dfug0FYzPLUsCx/Qe2utQqPW3ZBRTExkcLmakGs2AQPWPVRQXTdBA9Y9VHBrjMxkcLmasEesLUKj1t2wW7N8tSwLH/BQnT9+dfug8Frs1lqyzKIwfMmQCDNXYzBfW13m8g1kMFKmP329CuSwWJ+BfxlD5TB82IFUynelcE4gkr1YZaXwWKqsxhKNpnBzOp3AzW8msHZJxfGkCacwXwDrdnnc53BLQP7oOKinsHiCZ3KSLKfwfeDfUmBUKDBCAFW8gy3oMHBlBCrXQyhwSXEyYEbUKHBc84pogCCocE//1+d2aGhweRRJ5+Fr6HBEb+dj/aqocE9UsshMZShwUgNys5Ma6HBnZiTvXMwocEQsY2X4uOgweAdAkrohaDBT6TCtOUWoMGirZmMmi6fwe1fqQtFD57BTCJfF/PQnMHRz1bR7HSbwdyu3vmY/JnBLXcofntpmMHrQGfoM72WwRKRdrN7+ZTBrRDEgyQgk8GDC1FHFjORwTgAdX2aaI7B13Oc4q9LisETDJIcqhOGwRX+2nrixIHBpFzQhJPHesEPgI8zx+lxwSUygIcH82HBAAAAAACQoT4=",
        "encoding": "base64",
        "path": [
         "_data",
         0,
         "y",
         "value"
        ]
       },
       {
        "data": "8TNoyKxjocE=",
        "encoding": "base64",
        "path": [
         "_data",
         1,
         "x",
         "value"
        ]
       },
       {
        "data": "MI9bScuKgsE=",
        "encoding": "base64",
        "path": [
         "_data",
         1,
         "y",
         "value"
        ]
       },
       {
        "data": "pu84dmSjckFdCNOz9WVoQZps51lB11ZBWBb3zFatKcHim6W6/j9dwUzb2D5xlmvB/yvrK2c4dMGcP41w65B6wfMgiGsdZ4DBUo1davN0g8HuP9TF0W6GwaCEKSSnUYnB/wlZ6nkajMGsOTFNa8aOwekXYiNdqZDBV0SUNmPekcF1bs5TCQGTwf61od8jEJTBu31oZJsKlcEgGVmybe+VwUfEqumuvZbBcY26bYp0l8FxjDXAQxOYwbJ8ZkM3mZjBCW/e4toFmcHTt8qhvliZwW9gZQ6NkZnBzBwJmguwmcHp+Y3VGrSZwbiMsJG2nZnBFjpi4/VsmcHaJf4LCyKZwZtPe0VDvZjB/EPRcgY/mMGwceG01qeXwRKGU+RP+JbBPBfv8CYxlsGFNRgnKVOVwaknL1w7X5TBXnetAllWk8HIdvMmkzmSwVZu0VUPCpHBVC3d2wySj8Fmlou6hu+MwRjTCJhDL4rBmwRWbBlUh8HNjMLq+WCEwavK/XjvWIHBWDJnGTR+fMF8Xd3lVy12wdaYSxKai2/BSthTLVucYsEQhlGqIWlGwSzdFv/VtE1BcqOkRbBsZEEVo6fuYKtwQSyNlScND3dBGulet8ZafUE2W7IbCMSBQXXfoNBFyIRBGTiHbwC3h0EybkQaMo2KQbaSQj3uR41Bitock2Tkj0FVGYwF8i+RQYp4uMfuW5JBeLhQVPN0k0ELwXT93XmUQa2/ws2haZVByrWWnUdDlkGoP9AR7wWXQXTzF4PPsJdBvfK1zDhDmEEMdyQClLyYQTUvowpkHJlBtw0rIkZimUGOmz0/8o2ZQT/cJl07n5lBrDdlqg+WmUGdkwebeHKZQaKt7t6aNJlBUMH7O7bcmEE0dlNMJWuYQX3Z+CBd4JdBJ6kgyew8l0GuVbm+fIGWQb+9vzjOrpVBZ6kTZLrFlEEOVJmDMceTQcTJjvg5tJJBJmUUNO+NkUGbOv+SgFWQQTdCRUpgGI5BQWKmwqJmi0Fk5vKOj5iIQXXnOeQKsYVBafrCMROzgkHd8/4VfEN/QccdQvNpAHlBre84dmSjckE=",
        "encoding": "base64",
        "path": [
         "_data",
         2,
         "x",
         "value"
        ]
       },
       {
        "data": "1Ft2ztT+mEGXCfXT6T6ZQa55kn67ZJlBG2c80iJwmUGoq6QNFGGZQYxOX7aeN5lBaHfiiO3zmEE7xHhMRpaYQT5rU4sJH5hBRk4GL7KOl0HHlNQB1eWWQWxnUBUgJZZB+OfrDlpNlUEXXDRbYV+UQaqfikgrXJNBUzdFCsNEkkElrEClSBqRQZI79I3fu49BSC3MEP0hjUFSJJU7mGmKQWxu7el+lYdBK+2JhpuohEE/5ckJ8qWBQeEG57s5IX1B18KaWJPXdkFpXcIsbHVwQbxRIHuxAmRB+jwmTwAQTEF8XmeJWg9IwS6pq/9jB2PBzu64xz35b8Gl2af+BWZ2wS7D4lFLuXzBFj7Q1/R3gcEYj365vIGEwYfpJY3bdofB8VsC3kRUisFXQ+WnBBeNwdCzhmJCvI/BmA9B+KEgkcE9C3w3uFGSwb6rd3EpcJPBVFLZYM56lMH5hscolHCVwZaUP3B9UJbBq4s9Z6MZl8Hedqm0NsuXwd9+FEyAZJjBFKppKuLkmMF1ts/410uZwXImFJX3mJnBleESf/HLmcHzoakqkeSZwWe04jW94pnBVDUfg3fGmcF30SU33Y+ZwR0LGJsmP5nBsPts4qbUmMGIYC3Vy1CYwcpbyV4dtJfBXZD8AT3/lsFzBlEy5TKWwVp37JPoT5XBzB9uIjFXlMFF7Lw/v0mTwTOgvquoKJLBFGYIZhf1kMGs1l/1kGCPwWtc83YVt4zB5sRqzXrwicGZZlh6nQ+HweE7LBF1F4TBPiI3KBELgcEyidthLNt7wR6jV3V0hHXB/Ck5jQYxbsHUuDnk7jthwW6EXxH120DBu6Z3TcWgUUG6i9evwsxlQX3XPgBgWHFB4CWpcoi3d0EbhFNASf19QbW+P5WVEYJBSkNl5msRhUEIzckSEPuHQdKn43qBy4pB5irAeNl/jUGHtcYupwqQQSMgpCibRJFBqyHMCIVskkHhn4LGM4GTQUUo6yuKgZRBLTUJ/H9slUEaGCIDI0GWQTPDZxCY/pZBWhTr1xukl0Fduey7AzGYQbQnvXy+pJhB0lt2ztT+mEE=",
        "encoding": "base64",
        "path": [
         "_data",
         2,
         "y",
         "value"
        ]
       },
       {
        "data": "cSwM0UpzksE=",
        "encoding": "base64",
        "path": [
         "_data",
         3,
         "x",
         "value"
        ]
       },
       {
        "data": "6qpFNvQWksE=",
        "encoding": "base64",
        "path": [
         "_data",
         3,
         "y",
         "value"
        ]
       },
       {
        "data": "GPbjIRzNdEHsc4Fj1sZzQT/RT675bnJBHNA0eOjGcEEVJt/Ir6BtQbhl+AGcGmlB2UUcYT8AZEGJax8Nua1cQcEnqAKTSFBBYI24sJzuJkHeOaQ3YQlHwVapkY4l0FrBnB11j2N6ZcFyS7al+PBtwRJ98VaMYXPBSxFJ99Xzd8H8hknYoqp8wcBqgH2LwIDBj+O83xo5g8EWeFqEc7yFwa3Jez7+R4jBolyDbhvZisE9jGa2JW2NwRIf9lm6AJDBssgD369JkcHgxz1RIJCSwdZOejC70pPB1YFj8DMQlcFIuENPQ0eWwT5dXaeodpfBNbFyOSudmMFztihvm7mZwTn0+BPUyprBn3pvg7vPm8Fjl33LRMecwVH3tcFwsJ3BxGtUCk+KnsF0MQIQ/1Ofwayoq3VYBqDBuzuVHNNZoMFoKmlvGaSgwU0fx93e5KDBFZUvo+AbocG6J9cL5kihwWbGGa/Aa6HB3IVRn0yEocEEw9+OcJKhwR1oQuodlqHBvXEa51CPocFpNhSIEH6hwZlprZVuYqHBXk3gi4c8ocHn98Z8ggyhwWvxVOiQ0qDBn65Qie6OoMHRgMEX4UGgwQTnIgJw15/BsVlaLJgZn8GXbexf/kqeweEizJR3bJ3B5w2ULel+nMEpzxELSIObwbAZ2Y+XeprBXnzilOhlmcHwjElQWEaYwXNiTC8PHZfBgm67pD/rlcEssRTtJLKUwZvoj8kBc5PB5LNqMx8vksHjnssIy+eQwfBNM2mtPI/Bs/lVpSuojMEEG2OjuRSKwfxenCj/hIfBI2VoJaD7hMHK9Iz8OXuCwWyIKtFgBoDBmvCAvDk/e8GscO60z5J2wZXwwtVUDHLBMh5WneZga8Fm6LjLUgdjwbQwblkTKVbB5MO3BOaFPMECD1ACp+I7QVnBXQPNFlRBnv+IUbUVYEEH4SJYB5VlQejTOOOxg2pBXrZhXZ/cbkF3J+FFqk1xQU0YUpb63XJBW5AW+aMddEFqb47qXAt1QVQtEl4wpnVBvgeNun7tdUH3XgF//uB1QUKsTY68gHVBCfbjIRzNdEE=",
        "encoding": "base64",
        "path": [
         "_data",
         4,
         "x",
         "value"
        ]
       },
       {
        "data": "BpULFYouVUG20THDQUthQRJqtWVBzmdBDvA9kY0ZbkFX4/enVBNyQQfghuOr93RB9MiFUtG2d0HmSHUj8E16QfJoRcdcunxBhST2sZf5fkGb0+z2p4SAQT9RaL+yc4FBf1OFyfVIgkEgPIQ/lQODQb1YasHQooNB88RPKwQmhEGgcZI+qIyEQTvnPy1T1oRB1A0mB7kChUHgjBoIrBGFQRYSKMccA4VB5d1wRhrXhEFpNbbj0Y2EQayslCmPJ4RBxH2lgbukg0EkMtXH3QWDQVygX7+ZS4JBw4sAaq92gUHy6AZC+oeAQeCaLbDgAH9BGIUGq0LCfEFO44rIalZ6QQyrY/vXv3dB6kZMQjUBdUFCywboVh1yQbqUfDFvLm5BwtSxn+rjZ0H4SshCnGFhQZaIrIlzXFVB4NiSOluFPkGQHnHd2H85wfDmELoDmVTBxw5oOZR9YcGKVsFfyLtowWMHofWm/2/BwPS3ZNmgc8E+211FOD13wZ8ESEA30XrBvg72GiZZfsEFGRuFsOiAwV5PVDkqm4LBBKhJTEBChMF/tZydPtyFwQEt/4t+Z4fBROfaqGjiiMFmPU9cdkuKwc/T0nczoYvBlMfatT/ijMG4xPskUA2OwUKyDn0wIY/BJ6Z8LmIOkMEEjOk3hH+QwY1BHLyJ45DBbU9coAs6kcHrzzK4sIKRwUWCViEuvZHB9O/ckEfpkcHzEWGRzwaSwcRk37GnFZLBhB0XpcAVksEiJ1BRGgeSwXClddDD6ZHBjuKEYNu9kcGpsmBEjoORwbFwKZUYO5HBIqxJBMXkkMHaY3eO7ICQwZUs+R/2D5DB6aIbVawkj8E9mMdaHBGOwTGgOF9Y5ozBUwfHW5Sli8FUomn3GlCKwZjh3TFM54jBg6/O+Jtsh8EhIXCokOGFwccuG3nBR4TBYkCI29SggsG5QVnFfu6AwRxFaN/9ZH7Bt/95Ez7desEmbpfBYUl3wbJvhgAZrXPBZhLzlRwMcMF9aphAVNRowVBQQncAlmHBzGrnlWrJVMGhckM65j46wbupHOGgyT1B0ZULFYouVUE=",
        "encoding": "base64",
        "path": [
         "_data",
         4,
         "y",
         "value"
        ]
       },
       {
        "data": "cSwM0UpzksE=",
        "encoding": "base64",
        "path": [
         "_data",
         5,
         "x",
         "value"
        ]
       },
       {
        "data": "6qpFNvQWksE=",
        "encoding": "base64",
        "path": [
         "_data",
         5,
         "y",
         "value"
        ]
       },
       {
        "data": "kjHclqDtcUFtNUyAqcpwQaTMojcjt25Bo0Gco6ZDa0GlsBv8az5nQZm3wDSYq2JBt48Zb8QfW0HpsBgjOMJPQXZOd5Z1Ni1Bw2gxyREFQ8ECgdCDWY1XwWUD9MaUNWPBKu3V8lIGa8GjYGtubJhxwU7IDchd1nXBoPWCHJ44esGMTYSUqLp+wXB76cnrq4HBHUS/wbQFhMENlYHcQmiGwYyxmLog0YjB+pvcetI9i8GEjA9K2KuNwXfPNHtYDJDBnOxGQu5AkcGJmp9hb3KSweDRlu2gn5PBW4MbbEzHlMHebb8UQeiVwdhj5ApVAZfB0STHkGYRmMHmSCsyXReZwfRddOUqEprBbjQCIs0Am8G0arHqTeKbwR6AbcvEtZzBfQzPyFd6ncF0G89APC+ewUMLqLu3057B2J0MrCBnn8HOGO8d3+ifweskkqk2LKDBVHygJqxaoMHL1BEioH+gwYo/WITsmqDB77msKXWsoMG8/BD/J7Sgwe8W8RT9saDBjp9Rp/aloMGYD4IbIZCgwR+kVfOScKDBOfTvtWxHoMFyJT3O2BSgwSSecL4Wsp/BiT1aHIQon8EiSliGh42ewcuV5r/A4Z3BQ5Ar2+AlncF++nCCqVqcwUeHgTDsgJvBxTK5WImZmsGV6KZ/b6WZwS/4LUWapZjBWcokYRGbl8EAN3yT54aWwUO2B4k5apXBY10KtixGlMEZKLcn7huTweRe3E2x7JHBLgH6va65kMErwBPiRQiPwUkii/qZmozBJAF1mtosisFYZP6qiMGHwV5UvJQiW4XB/gKWrSH8gsGap+mr96aAwcUXGkMYvHzBsU+FAnRHeMEvz2JimvRzwekrf7MAkG/BikeM5OaLZ8ESLgVjVcpfwaD3V2teR1HBKHv9yvLuLMGS/7EMK0hCQQAYd5ZW8VRBWmEwd7q9X0GAV1TID79kQYz+LkY8FGlBYrvnWOvZbEF/PuzGHAZwQc5OC6/tU3FBssL8SRBVckHyQ0OIewhzQVla83Z2bXNBy6ZZ/piDc0Hb6UdNzEpzQQk7mvBKw3JBkzHclqDtcUE=",
        "encoding": "base64",
        "path": [
         "_data",
         6,
         "x",
         "value"
        ]
       },
       {
        "data": "55kPYjvNVkHCSulxG3xhQUWv8bsrWmdBcHALM8L6bEHZXwLtCCxxQfvnqIZJtnNByh8pm4QZdkHKtpwYRFN4Qb6ZBLA8YXpBTAOyMlBBfEEeKyvBj/F9QWR3S8k9cH9BJqvI6OddgEHEJOAHeOmAQf78mWQ/WoFB05G8vcmvgUHHTv3lvumBQWi25R7jB4JBUT9pVhcKgkHliOxGWfCBQcDjnHnDuoFB3cMVK41pgUEET3ASCv2AQeW49wqqdYBBPcO2QfGnf0HGJKsCOTF+QeNAtp2tiHxBoiQKtASwekFoAQOAJal4QeFr6N4mdnZButCTKU0ZdEHGeDTeB5VxQbaNMzve121BAGw0/YFBaEF0k7F0vWxiQQTmS9Emv1hBKLEzCgOBSEFAgNXvd7ICwdiAzz27a0vBRPpuPdQSW8HSEfKZWE9kwdF5WOG+JWvBjqexTcgCccEXsWLc23N0wbZJMuGN4nfBBLvmlFRLe8Fix0tKrKp+wSdQzYaN/oDBzNntHJqfgsG6VEgAzjaEwaSGAXCFwoXBnAFTgihBh8FifQfJLLGIwZ89EegWEYrBoGaXHHxfi8EmJeeyA5uMwToyx2lowo3Bemu/wXnUjsEL4/o2HdCPwQdsQLInWpDBvDLMhxLAkMGRoiENZhmRwcnZ6i3GZZHBlhdmL+SkkcHSsY0Bf9aRwVh4KYJj+pHBfGOEsWwQksEhOJDYgxiSwajQT6CgEpLB8OdvGsn+kcGTiQW7Ed2RwVGaeEOdrZHBrzSwnpxwkcHUx6WuTiaRwZfzkgsAz5DBT/P8tAprkMHC9d1pq/WPwY9Phmup/Y7BYwbPFQ/vjcHS+TNa88qMwZRlRlWDkovBwXBIGAFHisHMsi5dwumIwYToXSYvfIfBePaPS8D/hcFExF71/XWEwdVeBQl+4ILB/hX4heJAgcFMxQWurzF/wc1+VDEm1HvBr10rraBseMEW0KiDof50wUwCqMOxjXHBhJaZB7s6bMEi0d90YGJlwTzZwVjEMl3BMR531/qaT8FUXiTe2BUlwWRJxeDff0RB4pkPYjvNVkE=",
        "encoding": "base64",
        "path": [
         "_data",
         6,
         "y",
         "value"
        ]
       },
       {
        "data": "cSwM0UpzksE=",
        "encoding": "base64",
        "path": [
         "_data",
         7,
         "x",
         "value"
        ]
       },
       {
        "data": "6qpFNvQWksE=",
        "encoding": "base64",
        "path": [
         "_data",
         7,
         "y",
         "value"
        ]
       }
      ],
      "model_module": "plotlywidget",
      "model_module_version": "^0.6.0",
      "model_name": "FigureModel",
      "state": {
       "_config": {
        "plotlyServerURL": "https://plot.ly"
       },
       "_data": [
        {
         "hoverinfo": "none",
         "line": {
          "color": "rgb(31, 119, 180)",
          "dash": "dash",
          "width": 2
         },
         "mode": "lines",
         "name": "2018-08-11 00:00 (Earth (♁))",
         "type": "scatter",
         "uid": "8654c83b-2b3e-4330-9e79-d64c616ddb99",
         "x": {
          "dtype": "float64",
          "shape": [
           100
          ],
          "value": {}
         },
         "y": {
          "dtype": "float64",
          "shape": [
           100
          ],
          "value": {}
         }
        },
        {
         "marker": {
          "color": "rgb(31, 119, 180)",
          "size": 10
         },
         "mode": "markers",
         "name": "2018-08-11 00:00 (Earth (♁))",
         "type": "scatter",
         "uid": "3735aa14-bc83-47e6-84d8-5bc15de06745",
         "x": {
          "dtype": "float64",
          "shape": [
           1
          ],
          "value": {}
         },
         "y": {
          "dtype": "float64",
          "shape": [
           1
          ],
          "value": {}
         }
        },
        {
         "hoverinfo": "none",
         "line": {
          "color": "rgb(255, 127, 14)",
          "dash": "dash",
          "width": 2
         },
         "mode": "lines",
         "name": "2018-09-28 00:00 (Venus (♀))",
         "type": "scatter",
         "uid": "78fdbc2d-c249-40b9-b43c-42b7f4399f54",
         "x": {
          "dtype": "float64",
          "shape": [
           100
          ],
          "value": {}
         },
         "y": {
          "dtype": "float64",
          "shape": [
           100
          ],
          "value": {}
         }
        },
        {
         "marker": {
          "color": "rgb(255, 127, 14)",
          "size": 10
         },
         "mode": "markers",
         "name": "2018-09-28 00:00 (Venus (♀))",
         "type": "scatter",
         "uid": "07d5215d-8b06-484f-aff0-d246ca80622e",
         "x": {
          "dtype": "float64",
          "shape": [
           1
          ],
          "value": {}
         },
         "y": {
          "dtype": "float64",
          "shape": [
           1
          ],
          "value": {}
         }
        },
        {
         "hoverinfo": "none",
         "line": {
          "color": "rgb(44, 160, 44)",
          "dash": "dash",
          "width": 2
         },
         "mode": "lines",
         "name": "2018-09-28 00:00 (#0 to #1)",
         "type": "scatter",
         "uid": "d741ab94-7045-47e3-9dba-bb4655109104",
         "x": {
          "dtype": "float64",
          "shape": [
           100
          ],
          "value": {}
         },
         "y": {
          "dtype": "float64",
          "shape": [
           100
          ],
          "value": {}
         }
        },
        {
         "marker": {
          "color": "rgb(44, 160, 44)",
          "size": 10
         },
         "mode": "markers",
         "name": "2018-09-28 00:00 (#0 to #1)",
         "type": "scatter",
         "uid": "f0a28e8e-8de5-4ea7-928a-d2bf23970575",
         "x": {
          "dtype": "float64",
          "shape": [
           1
          ],
          "value": {}
         },
         "y": {
          "dtype": "float64",
          "shape": [
           1
          ],
          "value": {}
         }
        },
        {
         "hoverinfo": "none",
         "line": {
          "color": "rgb(214, 39, 40)",
          "dash": "dash",
          "width": 2
         },
         "mode": "lines",
         "name": "2018-09-28 00:00 (#1 to #2)",
         "type": "scatter",
         "uid": "f9dc90d6-2862-4d4b-85dd-037e0209af68",
         "x": {
          "dtype": "float64",
          "shape": [
           100
          ],
          "value": {}
         },
         "y": {
          "dtype": "float64",
          "shape": [
           100
          ],
          "value": {}
         }
        },
        {
         "marker": {
          "color": "rgb(214, 39, 40)",
          "size": 10
         },
         "mode": "markers",
         "name": "2018-09-28 00:00 (#1 to #2)",
         "type": "scatter",
         "uid": "a7b31e01-44be-442d-a88c-516435b82e97",
         "x": {
          "dtype": "float64",
          "shape": [
           1
          ],
          "value": {}
         },
         "y": {
          "dtype": "float64",
          "shape": [
           1
          ],
          "value": {}
         }
        }
       ],
       "_js2py_pointsCallback": {},
       "_js2py_relayout": {},
       "_js2py_restyle": {},
       "_js2py_update": {},
       "_last_layout_edit_id": 9,
       "_last_trace_edit_id": 9,
       "_layout": {
        "autosize": true,
        "shapes": [
         {
          "fillcolor": "#ffcc00",
          "line": {
           "color": "#ffcc00"
          },
          "opacity": 1,
          "type": "circle",
          "x0": -21861187.082817174,
          "x1": 21861187.082817174,
          "xref": "x",
          "y0": -21861187.082817174,
          "y1": 21861187.082817174,
          "yref": "y"
         }
        ],
        "template": {},
        "xaxis": {
         "constrain": "domain",
         "title": {
          "text": "x (km)"
         }
        },
        "yaxis": {
         "scaleanchor": "x",
         "title": {
          "text": "y (km)"
         }
        }
       },
       "_py2js_animate": {},
       "_py2js_deleteTraces": {},
       "_py2js_moveTraces": {},
       "_py2js_removeLayoutProps": {},
       "_py2js_removeTraceProps": {},
       "_py2js_restyle": {},
       "_view_count": 1
      }
     },
     "7e0ecb54e216463ca320347bf73dae18": {
      "buffers": [
       {
        "data": "AQRwfqtfoUHp2aNKjVahQRbPZBU8O6FBKO9yB9QNoUFS7iHvg86gQQuFGRCNfaBBN9MO4EIboEGPSHhhFVCfQemG3462SJ5BShI7xXghnUFirOJbjNubQdx05UpBeJpBRfG20AX5mEF5z6b4ZF+XQRaNqAMFrZVBgcoOtaXjk0E89/qEHgWSQQAjXbpcE5BBKNvx3MIgjEFEevf3fvyHQd3jircyvoNBu7BexnvUfkESSMErLQp2QfMkEpMSTWpBSgWxnOfKUEH0ByMjGiBTwfbQ7NfsgGvBmlXNilatdsFZFryYc4V/wbXnCdjXH4TBopXu24VpiMFXxfZUWJuMwStO6yt+WJDBjnwKAx5TksHGVpFygTuUwaAsgwmxD5bBpYQjKsrNl8Hp2XP7AHSZwaD1OEOiAJvBKEKfJhVynMGVn6/P3MadwY5H4vWZ/Z7B5okdJIYKoMES8bzbCYagwQNchc/Y8KDBTMfB5YRKocFDmdCusZKhwbGdbMQUyaHBm1ReFnbtocGzhUYksP+hwa+FRiSw/6HBmFReFnbtocGqnWzEFMmhwTuZ0K6xkqHBQcfB5YRKocH1W4XP2PCgwQPxvNsJhqDB1YkdJIYKoMFnR+L1mf2ewW2fr8/cxp3B/0GfJhVynMF09ThDogCbwbLZc/sAdJnBbYQjKsrNl8FoLIMJsQ+WwYlWkXKBO5TBSnwKAx5TksHwTesrfliQwdHE9lRYm4zBF5Xu24VpiMEu5wnY1x+EwUEVvJhzhX/Bf1TNilatdsGzzuzX7IBrwT4DIyMaIFPBEgqxnOfKUEH6JhKTEk1qQRBJwSstCnZBzrFexnvUfkFh5Iq3Mr6DQc169/d+/IdBtdvx3MIgjEFCI126XBOQQYD3+oQeBZJBuMoOtaXjk0FRjagDBa2VQazPpvhkX5dBevG20AX5mEEFdeVKQXiaQZCs4luM25tBcxI7xXghnUELh9+OtkieQa9IeGEVUJ9BRtMO4EIboEEXhRkQjX2gQVruIe+DzqBBL+9yB9QNoUEcz2QVPDuhQerZo0qNVqFBAQRwfqtfoUE=",
        "encoding": "base64",
        "path": [
         "_data",
         0,
         "x",
         "value"
        ]
       },
       {
        "data": "AAAAAACQoj5ONICHB/NhQRiBjzPH6XFBxV3QhJPHekGh/tp64sSBQZwMkhyqE4ZBXnSc4q9LikG+AHV9mmiOQcELUUcWM5FB8BDEgyQgk0FHkXaze/mUQRxBZ+gzvZZBaHcofntpmEEJr975mPyZQf/PVtHsdJtBdiJfF/PQnEEYYKkLRQ+eQcitmYyaLp9BXqTCtOUWoEHtHQJK6IWgQRuxjZfi46BBpZiTvXMwoUFNDcrOTGuhQUFSyyExlKFBE7+dj/aqoUHjUSefha+hQTv/X53ZoaFBbc4pogCCoUEcxMmBG1ChQbSUEKtdDKFB+wBW8gy3oEHog31JgVCgQb4JncpIsp9BBgP7oOKinkFRA63Z53OdQaknF8aQJpxBmOp3AzW8mkEpqrMYSjaZQQCCSvVhlpdBuGIFUynelUEifgX8ZQ+UQQ2Y/fb0K5JBP213m8g1kEFYJkAgzV2MQeayWWrLMohBr3P9+dfug0FEzPLUsCx/Qd2utQqPW3ZBIzExkcLmakFw2AQPWPVRQajdBA9Y9VHBuzMxkcLmasEqsLUKj1t2wXrN8tSwLH/BSHT9+dfug8Fxs1lqyzKIwegmQCDNXYzBe213m8g1kMFMmP329CuSwWF+BfxlD5TB72IFUynelcE2gkr1YZaXwWGqsxhKNpnBy+p3AzW8msHUJxfGkCacwX0Drdnnc53BLgP7oOKinsHcCZ3KSLKfwfeDfUmBUKDBBwFW8gy3oMG/lBCrXQyhwSXEyYEbUKHBcs4pogCCocE//1+d2aGhweRRJ5+Fr6HBEb+dj/aqocE+UsshMZShwUgNys5Ma6HBn5iTvXMwocETsY2X4uOgweIdAkrohaDBT6TCtOUWoMGnrZmMmi6fwe9fqQtFD57BTCJfF/PQnMHQz1bR7HSbwduu3vmY/JnBLncofntpmMHrQGfoM72WwQuRdrN7+ZTBrBDEgyQgk8GCC1FHFjORwTsAdX2aaI7Bz3Oc4q9LisEIDJIcqhOGwRz+2nrixIHBllzQhJPHesH4f48zx+lxwRAygIcH82HBAAAAAACAoD4=",
        "encoding": "base64",
        "path": [
         "_data",
         0,
         "y",
         "value"
        ]
       },
       {
        "data": "8TNoyKxjocE=",
        "encoding": "base64",
        "path": [
         "_data",
         1,
         "x",
         "value"
        ]
       },
       {
        "data": "MI9bScuKgsE=",
        "encoding": "base64",
        "path": [
         "_data",
         1,
         "y",
         "value"
        ]
       },
       {
        "data": "pu84dmSjckFdCNOz9WVoQZps51lB11ZBWBb3zFatKcHim6W6/j9dwUzb2D5xlmvB/yvrK2c4dMGcP41w65B6wfogiGsdZ4DBWI1davN0g8HuP9TF0W6GwaCEKSSnUYnB/wlZ6nkajMGsOTFNa8aOwecXYiNdqZDBVUSUNmPekcFybs5TCQGTwf61od8jEJTBvX1oZJsKlcEgGVmybe+VwUfEqumuvZbBcI26bYp0l8FwjDXAQxOYwbJ8ZkM3mZjBCm/e4toFmcHSt8qhvliZwW9gZQ6NkZnBzBwJmguwmcHq+Y3VGrSZwbiMsJG2nZnBFjpi4/VsmcHYJf4LCyKZwZtPe0VDvZjB/EPRcgY/mMGwceG01qeXwRGGU+RP+JbBPBfv8CYxlsGFNRgnKVOVwaknL1w7X5TBXnetAllWk8HIdvMmkzmSwVZu0VUPCpHBVC3d2wySj8Fmlou6hu+MwRjTCJhDL4rBmwRWbBlUh8HNjMLq+WCEwavK/XjvWIHBWDJnGTR+fMF8Xd3lVy12weKYSxKai2/BONhTLVucYsGshlGqIWlGwRbdFv/VtE1BW6OkRbBsZEEOo6fuYKtwQSWNlScND3dBKelet8ZafUE2W7IbCMSBQXDfoNBFyIRBDjiHbwC3h0ExbkQaMo2KQbCSQj3uR41Bgtock2Tkj0FRGYwF8i+RQYZ4uMfuW5JBdrhQVPN0k0EFwXT93XmUQa2/ws2haZVBzbWWnUdDlkGoP9AR7wWXQXfzF4PPsJdBvfK1zDhDmEEMdyQClLyYQTMvowpkHJlBtw0rIkZimUGOmz0/8o2ZQT7cJl07n5lBrzdlqg+WmUGdkwebeHKZQaKt7t6aNJlBUMH7O7bcmEE0dlNMJWuYQXvZ+CBd4JdBJqkgyew8l0GxVbm+fIGWQcC9vzjOrpVBaakTZLrFlEEQVJmDMceTQcrJjvg5tJJBJ2UUNO+NkUGgOv+SgFWQQT1CRUpgGI5BRWKmwqJmi0Fk5vKOj5iIQYbnOeQKsYVBYfrCMROzgkGl8/4VfEN/Qc0dQvNpAHlBs+84dmSjckE=",
        "encoding": "base64",
        "path": [
         "_data",
         2,
         "x",
         "value"
        ]
       },
       {
        "data": "1Ft2ztT+mEGXCfXT6T6ZQa55kn67ZJlBG2c80iJwmUGoq6QNFGGZQYxOX7aeN5lBaHfiiO3zmEE7xHhMRpaYQTxrU4sJH5hBRk4GL7KOl0HHlNQB1eWWQWxnUBUgJZZB+OfrDlpNlUEXXDRbYV+UQaqfikgrXJNBVDdFCsNEkkEmrEClSBqRQZI79I3fu49BQi3MEP0hjUFSJJU7mGmKQWpu7el+lYdBLu2JhpuohEFD5ckJ8qWBQeEG57s5IX1B0MKaWJPXdkFwXcIsbHVwQbxRIHuxAmRBIj0mTwAQTEGcXmeJWg9IwS6pq/9jB2PBzu64xz35b8GZ2af+BWZ2wS7D4lFLuXzBFj7Q1/R3gcEgj365vIGEwY3pJY3bdofB8VsC3kRUisFXQ+WnBBeNwdCzhmJCvI/BmA9B+KEgkcE9C3w3uFGSwb6rd3EpcJPBVFLZYM56lMH5hscolHCVwZaUP3B9UJbBq4s9Z6MZl8Hedqm0NsuXwd9+FEyAZJjBFKppKuLkmMF1ts/410uZwXEmFJX3mJnBleESf/HLmcH2oakqkeSZwWe04jW94pnBVDUfg3fGmcF40SU33Y+ZwR0LGJsmP5nBr/ts4qbUmMGIYC3Vy1CYwclbyV4dtJfBX5D8AT3/lsF0BlEy5TKWwVx37JPoT5XBzh9uIjFXlMFJ7Lw/v0mTwTmgvquoKJLBGGYIZhf1kMG51l/1kGCPwW5c83YVt4zB3cRqzXrwicGZZlh6nQ+Hwd47LBF1F4TBOyI3KBELgcEyidthLNt7wS+jV3V0hHXBFSo5jQYxbsHUuDnk7jthwfaEXxH120DBiaZ3TcWgUUG+i9evwsxlQYPXPgBgWHFB0yWpcoi3d0EhhFNASf19Qby+P5WVEYJBS0Nl5msRhUECzckSEPuHQc6n43qBy4pB4CrAeNl/jUGGtcYupwqQQRsgpCibRJFBqiHMCIVskkHcn4LGM4GTQUMo6yuKgZRBKjUJ/H9slUEZGCIDI0GWQS/DZxCY/pZBXBTr1xukl0Fiuey7AzGYQbQnvXy+pJhB01t2ztT+mEE=",
        "encoding": "base64",
        "path": [
         "_data",
         2,
         "y",
         "value"
        ]
       },
       {
        "data": "cSwM0UpzksE=",
        "encoding": "base64",
        "path": [
         "_data",
         3,
         "x",
         "value"
        ]
       },
       {
        "data": "6qpFNvQWksE=",
        "encoding": "base64",
        "path": [
         "_data",
         3,
         "y",
         "value"
        ]
       },
       {
        "data": "CfbjIRzNdEHQc4Fj1sZzQSLRT675bnJBA9A0eOjGcEGrJd/Ir6BtQXtl+AGcGmlBZUUcYT8AZEHWah8Nua1cQTQnqAKTSFBBeI+4sJzuJkGUOaQ3YQlHwS2qkY4l0FrBGB51j2N6ZcGcS7al+PBtwTB98VaMYXPBfhFJ99Xzd8EOh0nYoqp8wcRqgH2LwIDBp+O83xo5g8EmeFqEc7yFwbjJez7+R4jBs1yDbhvZisE9jGa2JW2NwRcf9lm6AJDBvcgD369JkcHpxz1RIJCSwdFOejC70pPB0oFj8DMQlcFPuENPQ0eWwUBdXaeodpfBNrFyOSudmMFztihvm7mZwT70+BPUyprBqHpvg7vPm8Fjl33LRMecwVf3tcFwsJ3BxGtUCk+KnsF0MQIQ/1Ofwa6oq3VYBqDBuzuVHNNZoMFqKmlvGaSgwU0fx93e5KDBFZUvo+AbocG6J9cL5kihwWbGGa/Aa6HB3IVRn0yEocEEw9+OcJKhwR1oQuodlqHBvXEa51CPocFpNhSIEH6hwZlprZVuYqHBXk3gi4c8ocHn98Z8ggyhwWrxVOiQ0qDBn65Qie6OoMHRgMEX4UGgwQTnIgJw15/BsllaLJgZn8GSbexf/kqeweIizJR3bJ3B5Q2ULel+nMEtzxELSIObwbsZ2Y+XeprBYHzilOhlmcHvjElQWEaYwXViTC8PHZfBfW67pD/rlcEwsRTtJLKUwZvoj8kBc5PB4LNqMx8vksHmnssIy+eQwfZNM2mtPI/Bs/lVpSuojMEHG2OjuRSKwflenCj/hIfBIWVoJaD7hMHC9Iz8OXuCwW6IKtFgBoDBj/CAvDk/e8GTcO60z5J2wYTwwtVUDHLBJx5WneZga8Fm6LjLUgdjwQAxblkTKVbBJMW3BOaFPMG6D1ACp+I7QS/BXQPNFlRBuv+IUbUVYEH04CJYB5VlQdrTOOOxg2pBS7ZhXZ/cbkFnJ+FFqk1xQUcYUpb63XJBXZAW+aMddEFqb47qXAt1QVYtEl4wpnVBvAeNun7tdUH3XgF//uB1QUCsTY68gHVBCfbjIRzNdEE=",
        "encoding": "base64",
        "path": [
         "_data",
         4,
         "x",
         "value"
        ]
       },
       {
        "data": "1JULFYouVUFM0jHDQUthQYZqtWVBzmdBbPA9kY0ZbkGi4/enVBNyQSrghuOr93RBMMmFUtG2d0ELSXUj8E16QQtpRcdcunxBeST2sZf5fkGZ0+z2p4SAQU1RaL+yc4FBi1OFyfVIgkEiPIQ/lQODQcBYasHQooNB+MRPKwQmhEGfcZI+qIyEQTznPy1T1oRB1Q0mB7kChUHfjBoIrBGFQRYSKMccA4VB4t1wRhrXhEFpNbbj0Y2EQaeslCmPJ4RBwH2lgbukg0EhMtXH3QWDQV6gX7+ZS4JBxosAaq92gUHq6AZC+oeAQdaaLbDgAH9BCoUGq0LCfEFO44rIalZ6QQOrY/vXv3dB0kZMQjUBdUFCywboVh1yQYOUfDFvLm5BwtSxn+rjZ0H4SshCnGFhQWKIrIlzXFVB4NiSOluFPkFgH3Hd2H85wfDmELoDmVTBxw5oOZR9YcGKVsFfyLtowWMHofWm/2/BwPS3ZNmgc8E+211FOD13wbIESEA30XrBvg72GiZZfsEFGRuFsOiAwVlPVDkqm4LBB6hJTEBChMF7tZydPtyFwf4s/4t+Z4fBSOfaqGjiiMFrPU9cdkuKwcnT0nczoYvBksfatT/ijMG6xPskUA2OwTyyDn0wIY/BJqZ8LmIOkMECjOk3hH+QwY1BHLyJ45DBak9coAs6kcHtzzK4sIKRwUWCViEuvZHB9O/ckEfpkcHyEWGRzwaSwcZk37GnFZLBhB0XpcAVksEjJ1BRGgeSwXGlddDD6ZHBjeKEYNu9kcGpsmBEjoORwbNwKZUYO5HBI6xJBMXkkMHbY3eO7ICQwZUs+R/2D5DB5qIbVawkj8E5mMdaHBGOwSygOF9Y5ozBTwfHW5Sli8FUomn3GlCKwaDh3TFM54jBiq/O+Jtsh8EcIXCokOGFwcwuG3nBR4TBWkCI29SggsG/QVnFfu6AwSRFaN/9ZH7Byv95Ez7desFGbpfBYUl3wcJvhgAZrXPBahLzlRwMcMFraphAVNRowTpQQncAlmHBVmvnlWrJVME/cUM65j46wX6qHOGgyT1B1JULFYouVUE=",
        "encoding": "base64",
        "path": [
         "_data",
         4,
         "y",
         "value"
        ]
       },
       {
        "data": "cSwM0UpzksE=",
        "encoding": "base64",
        "path": [
         "_data",
         5,
         "x",
         "value"
        ]
       },
       {
        "data": "6qpFNvQWksE=",
        "encoding": "base64",
        "path": [
         "_data",
         5,
         "y",
         "value"
        ]
       },
       {
        "data": "kjHclqDtcUF3NUyAqcpwQZfMojcjt25BtEGco6ZDa0GlsBv8az5nQbi3wDSYq2JBko8Zb8QfW0FKsRgjOMJPQexLd5Z1Ni1BVWkxyREFQ8ECgdCDWY1XwWUD9MaUNWPBMu3V8lIGa8GhYGtubJhxwUjIDchd1nXBnvWCHJ44esGITYSUqLp+wYB76cnrq4HBHUS/wbQFhMEYlYHcQmiGwYyxmLog0YjB+pvcetI9i8GAjA9K2KuNwXPPNHtYDJDBnOxGQu5AkcGQmp9hb3KSwdnRlu2gn5PBW4MbbEzHlMHZbb8UQeiVwdhj5ApVAZfB0STHkGYRmMHmSCsyXReZwfRddOUqEprBbzQCIs0Am8G0arHqTeKbwR6AbcvEtZzBfQzPyFd6ncF0G89APC+ewUMLqLu3057B2J0MrCBnn8HOGO8d3+ifweskkqk2LKDBVHygJqxaoMHL1BEioH+gwYo/WITsmqDB8LmsKXWsoMG8/BD/J7Sgwe8W8RT9saDBjp9Rp/aloMGYD4IbIZCgwR6kVfOScKDBOfTvtWxHoMFyJT3O2BSgwSiecL4Wsp/BiD1aHIQon8EgSliGh42ewcqV5r/A4Z3BQpAr2+AlncGC+nCCqVqcwUyHgTDsgJvBxTK5WImZmsGV6KZ/b6WZwTD4LUWapZjBUsokYRGbl8EDN3yT54aWwT62B4k5apXBZ10KtixGlMEVKLcn7huTwehe3E2x7JHBKwH6va65kMEdwBPiRQiPwUwii/qZmozBKgF1mtosisFdZP6qiMGHwWdUvJQiW4XBBQOWrSH8gsGVp+mr96aAwckXGkMYvHzBpE+FAnRHeMEqz2JimvRzwfgrf7MAkG/Bf0eM5OaLZ8EHLgVjVcpfwW73V2teR1HB1Hj9yvLuLMH7/7EMK0hCQQAYd5ZW8VRBd2Ewd7q9X0GYV1TID79kQYj+LkY8FGlBUbvnWOvZbEFwPuzGHAZwQcpOC6/tU3FBucL8SRBVckHxQ0OIewhzQVxa83Z2bXNBy6ZZ/piDc0HY6UdNzEpzQQ47mvBKw3JBkjHclqDtcUE=",
        "encoding": "base64",
        "path": [
         "_data",
         6,
         "x",
         "value"
        ]
       },
       {
        "data": "55kPYjvNVkGQSulxG3xhQVuv8bsrWmdBWXALM8L6bEHZXwLtCCxxQennqIZJtnNB1B8pm4QZdkHEtpwYRFN4QcyZBLA8YXpBVgOyMlBBfEEeKyvBj/F9QWR3S8k9cH9BJqvI6OddgEHFJOAHeOmAQf78mWQ/WoFB0pG8vcmvgUHGTv3lvumBQWa25R7jB4JBUT9pVhcKgkHmiOxGWfCBQcDjnHnDuoFB3cMVK41pgUEGT3ASCv2AQea49wqqdYBBPcO2QfGnf0HKJKsCOTF+QepAtp2tiHxBoiQKtASwekFwAQOAJal4QeFr6N4mdnZButCTKU0ZdEHGeDTeB5VxQbaNMzve121BFWw0/YFBaEF0k7F0vWxiQQTmS9Emv1hBKLEzCgOBSEFAgNXvd7ICwdiAzz27a0vBRPpuPdQSW8HSEfKZWE9kwdF5WOG+JWvBjqexTcgCccEXsWLc23N0wbZJMuGN4nfB8LrmlFRLe8Fix0tKrKp+wSdQzYaN/oDBzNntHJqfgsG6VEgAzjaEwaiGAXCFwoXBoAFTgihBh8FffQfJLLGIwZ89EegWEYrBp2aXHHxfi8EkJeeyA5uMwTUyx2lowo3BgGu/wXnUjsEG4/o2HdCPwQdsQLInWpDBvTLMhxLAkMGToiENZhmRwcjZ6i3GZZHBmBdmL+SkkcHUsY0Bf9aRwVd4KYJj+pHBfmOEsWwQksEgOJDYgxiSwarQT6CgEpLB8OdvGsn+kcGSiQW7Ed2RwVCaeEOdrZHBsTSwnpxwkcHWx6WuTiaRwZXzkgsAz5DBUvP8tAprkMG/9d1pq/WPwZFPhmup/Y7BXgbPFQ/vjcHR+TNa88qMwZdlRlWDkovBvnBIGAFHisHMsi5dwumIwXzoXSYvfIfBcPaPS8D/hcE8xF71/XWEwdVeBQl+4ILB+hX4heJAgcE+xQWurzF/wdZ+VDEm1HvBwV0rraBseMEw0KiDof50wUsCqMOxjXHBRpaZB7s6bME70d90YGJlwczYwVjEMl3Bnh531/qaT8ESXCTe2BUlwdBIxeDff0RB55kPYjvNVkE=",
        "encoding": "base64",
        "path": [
         "_data",
         6,
         "y",
         "value"
        ]
       },
       {
        "data": "cSwM0UpzksE=",
        "encoding": "base64",
        "path": [
         "_data",
         7,
         "x",
         "value"
        ]
       },
       {
        "data": "6qpFNvQWksE=",
        "encoding": "base64",
        "path": [
         "_data",
         7,
         "y",
         "value"
        ]
       }
      ],
      "model_module": "plotlywidget",
      "model_module_version": "^0.6.0",
      "model_name": "FigureModel",
      "state": {
       "_config": {
        "plotlyServerURL": "https://plot.ly"
       },
       "_data": [
        {
         "hoverinfo": "none",
         "line": {
          "color": "rgb(31, 119, 180)",
          "dash": "dash",
          "width": 2
         },
         "mode": "lines",
         "name": "2018-08-11 00:00 (Earth (♁))",
         "type": "scatter",
         "uid": "6c063588-bb15-4339-a786-4832c847ae3a",
         "x": {
          "dtype": "float64",
          "shape": [
           100
          ],
          "value": {}
         },
         "y": {
          "dtype": "float64",
          "shape": [
           100
          ],
          "value": {}
         }
        },
        {
         "marker": {
          "color": "rgb(31, 119, 180)",
          "size": 10
         },
         "mode": "markers",
         "name": "2018-08-11 00:00 (Earth (♁))",
         "type": "scatter",
         "uid": "5f57baba-7213-4d7a-8101-3a603513054a",
         "x": {
          "dtype": "float64",
          "shape": [
           1
          ],
          "value": {}
         },
         "y": {
          "dtype": "float64",
          "shape": [
           1
          ],
          "value": {}
         }
        },
        {
         "hoverinfo": "none",
         "line": {
          "color": "rgb(255, 127, 14)",
          "dash": "dash",
          "width": 2
         },
         "mode": "lines",
         "name": "2018-09-28 00:00 (Venus (♀))",
         "type": "scatter",
         "uid": "a76c5096-d965-4dae-93b0-12a06246f67f",
         "x": {
          "dtype": "float64",
          "shape": [
           100
          ],
          "value": {}
         },
         "y": {
          "dtype": "float64",
          "shape": [
           100
          ],
          "value": {}
         }
        },
        {
         "marker": {
          "color": "rgb(255, 127, 14)",
          "size": 10
         },
         "mode": "markers",
         "name": "2018-09-28 00:00 (Venus (♀))",
         "type": "scatter",
         "uid": "41aa3793-b112-4abf-9123-08be8406fe08",
         "x": {
          "dtype": "float64",
          "shape": [
           1
          ],
          "value": {}
         },
         "y": {
          "dtype": "float64",
          "shape": [
           1
          ],
          "value": {}
         }
        },
        {
         "hoverinfo": "none",
         "line": {
          "color": "rgb(44, 160, 44)",
          "dash": "dash",
          "width": 2
         },
         "mode": "lines",
         "name": "2018-09-28 00:00 (#0 to #1)",
         "type": "scatter",
         "uid": "737cb6b2-88a5-42fc-a0b1-ac4387b66c6f",
         "x": {
          "dtype": "float64",
          "shape": [
           100
          ],
          "value": {}
         },
         "y": {
          "dtype": "float64",
          "shape": [
           100
          ],
          "value": {}
         }
        },
        {
         "marker": {
          "color": "rgb(44, 160, 44)",
          "size": 10
         },
         "mode": "markers",
         "name": "2018-09-28 00:00 (#0 to #1)",
         "type": "scatter",
         "uid": "8be3c07a-6055-4f72-9158-e67aecd2d1ba",
         "x": {
          "dtype": "float64",
          "shape": [
           1
          ],
          "value": {}
         },
         "y": {
          "dtype": "float64",
          "shape": [
           1
          ],
          "value": {}
         }
        },
        {
         "hoverinfo": "none",
         "line": {
          "color": "rgb(214, 39, 40)",
          "dash": "dash",
          "width": 2
         },
         "mode": "lines",
         "name": "2018-09-28 00:00 (#1 to #2)",
         "type": "scatter",
         "uid": "d51cb0c2-20b4-4e53-ac3e-1efe89b935c9",
         "x": {
          "dtype": "float64",
          "shape": [
           100
          ],
          "value": {}
         },
         "y": {
          "dtype": "float64",
          "shape": [
           100
          ],
          "value": {}
         }
        },
        {
         "marker": {
          "color": "rgb(214, 39, 40)",
          "size": 10
         },
         "mode": "markers",
         "name": "2018-09-28 00:00 (#1 to #2)",
         "type": "scatter",
         "uid": "902eb392-58ee-42b9-847f-55498994f120",
         "x": {
          "dtype": "float64",
          "shape": [
           1
          ],
          "value": {}
         },
         "y": {
          "dtype": "float64",
          "shape": [
           1
          ],
          "value": {}
         }
        }
       ],
       "_js2py_layoutDelta": {
        "layout_delta": {
         "annotations": [],
         "calendar": "gregorian",
         "clickmode": "event",
         "colorscale": {
          "diverging": [
           [
            0,
            "rgb(5,10,172)"
           ],
           [
            0.35,
            "rgb(106,137,247)"
           ],
           [
            0.5,
            "rgb(190,190,190)"
           ],
           [
            0.6,
            "rgb(220,170,132)"
           ],
           [
            0.7,
            "rgb(230,145,90)"
           ],
           [
            1,
            "rgb(178,10,28)"
           ]
          ],
          "sequential": [
           [
            0,
            "rgb(220,220,220)"
           ],
           [
            0.2,
            "rgb(245,195,157)"
           ],
           [
            0.4,
            "rgb(245,160,105)"
           ],
           [
            1,
            "rgb(178,10,28)"
           ]
          ],
          "sequentialminus": [
           [
            0,
            "rgb(5,10,172)"
           ],
           [
            0.35,
            "rgb(40,60,190)"
           ],
           [
            0.5,
            "rgb(70,100,245)"
           ],
           [
            0.6,
            "rgb(90,120,245)"
           ],
           [
            0.7,
            "rgb(106,137,247)"
           ],
           [
            1,
            "rgb(220,220,220)"
           ]
          ]
         },
         "colorway": [
          "#1f77b4",
          "#ff7f0e",
          "#2ca02c",
          "#d62728",
          "#9467bd",
          "#8c564b",
          "#e377c2",
          "#7f7f7f",
          "#bcbd22",
          "#17becf"
         ],
         "dragmode": "zoom",
         "font": {
          "color": "#444",
          "family": "\"Open Sans\", verdana, arial, sans-serif",
          "size": 12
         },
         "height": 470,
         "hidesources": false,
         "hoverdistance": 20,
         "hoverlabel": {
          "font": {
           "family": "Arial, sans-serif",
           "size": 13
          },
          "namelength": 15
         },
         "hovermode": "x",
         "images": [],
         "legend": {
          "bgcolor": "#fff",
          "bordercolor": "#444",
          "borderwidth": 0,
          "font": {
           "color": "#444",
           "family": "\"Open Sans\", verdana, arial, sans-serif",
           "size": 12
          },
          "orientation": "v",
          "traceorder": "normal",
          "valign": "middle",
          "x": 1.02,
          "xanchor": "left",
          "y": 1,
          "yanchor": "auto"
         },
         "margin": {
          "autoexpand": true,
          "b": 80,
          "l": 80,
          "pad": 0,
          "r": 80,
          "t": 100
         },
         "modebar": {
          "activecolor": "rgba(68, 68, 68, 0.7)",
          "bgcolor": "rgba(255, 255, 255, 0.5)",
          "color": "rgba(68, 68, 68, 0.3)",
          "orientation": "h"
         },
         "paper_bgcolor": "#fff",
         "plot_bgcolor": "#fff",
         "separators": ".,",
         "shapes": [
          {
           "layer": "above",
           "line": {
            "dash": "solid",
            "width": 2
           },
           "visible": true,
           "xsizemode": "scaled",
           "ysizemode": "scaled"
          }
         ],
         "showlegend": true,
         "sliders": [],
         "spikedistance": 20,
         "title": {
          "font": {
           "color": "#444",
           "family": "\"Open Sans\", verdana, arial, sans-serif",
           "size": 17
          },
          "pad": {
           "b": 0,
           "l": 0,
           "r": 0,
           "t": 0
          },
          "text": "Click to enter Plot title",
          "x": 0.5,
          "xanchor": "auto",
          "xref": "container",
          "y": "auto",
          "yanchor": "auto",
          "yref": "container"
         },
         "updatemenus": [],
         "width": 966.8,
         "xaxis": {
          "anchor": "y",
          "automargin": false,
          "autorange": true,
          "color": "#444",
          "constraintoward": "center",
          "domain": [
           0.26546078633321923,
           0.7345392136667808
          ],
          "dtick": 100000000,
          "exponentformat": "B",
          "fixedrange": false,
          "gridcolor": "rgb(238, 238, 238)",
          "gridwidth": 1,
          "hoverformat": "",
          "layer": "above traces",
          "nticks": 0,
          "range": [
           -188617731.46856,
           145741247.21878055
          ],
          "rangemode": "normal",
          "separatethousands": false,
          "showexponent": "all",
          "showgrid": true,
          "showline": false,
          "showspikes": false,
          "showticklabels": true,
          "side": "bottom",
          "tick0": 0,
          "tickangle": "auto",
          "tickfont": {
           "color": "#444",
           "family": "\"Open Sans\", verdana, arial, sans-serif",
           "size": 12
          },
          "tickformat": "",
          "tickmode": "auto",
          "tickprefix": "",
          "ticks": "",
          "ticksuffix": "",
          "title": {
           "font": {
            "color": "#444",
            "family": "\"Open Sans\", verdana, arial, sans-serif",
            "size": 14
           },
           "text": "x (km)"
          },
          "type": "linear",
          "visible": true,
          "zeroline": true,
          "zerolinecolor": "#444",
          "zerolinewidth": 1
         },
         "yaxis": {
          "anchor": "x",
          "automargin": false,
          "autorange": true,
          "color": "#444",
          "constrain": "range",
          "constraintoward": "middle",
          "domain": [
           0,
           1
          ],
          "dtick": 50000000,
          "exponentformat": "B",
          "fixedrange": false,
          "gridcolor": "rgb(238, 238, 238)",
          "gridwidth": 1,
          "hoverformat": "",
          "layer": "above traces",
          "nticks": 0,
          "range": [
           -164842043.9742185,
           164842043.97421846
          ],
          "rangemode": "normal",
          "scaleratio": 1,
          "separatethousands": false,
          "showexponent": "all",
          "showgrid": true,
          "showline": false,
          "showspikes": false,
          "showticklabels": true,
          "side": "left",
          "tick0": 0,
          "tickangle": "auto",
          "tickfont": {
           "color": "#444",
           "family": "\"Open Sans\", verdana, arial, sans-serif",
           "size": 12
          },
          "tickformat": "",
          "tickmode": "auto",
          "tickprefix": "",
          "ticks": "",
          "ticksuffix": "",
          "title": {
           "font": {
            "color": "#444",
            "family": "\"Open Sans\", verdana, arial, sans-serif",
            "size": 14
           },
           "text": "y (km)"
          },
          "type": "linear",
          "visible": true,
          "zeroline": true,
          "zerolinecolor": "#444",
          "zerolinewidth": 1
         }
        },
        "layout_edit_id": 9
       },
       "_js2py_pointsCallback": {},
       "_js2py_relayout": {},
       "_js2py_restyle": {},
       "_js2py_traceDeltas": {
        "trace_deltas": [
         {
          "connectgaps": false,
          "error_x": {
           "visible": false
          },
          "error_y": {
           "visible": false
          },
          "fill": "none",
          "hoverlabel": {
           "font": {
            "family": "Arial, sans-serif",
            "size": 13
           },
           "namelength": 15
          },
          "hoveron": "points",
          "hovertemplate": "",
          "hovertext": "",
          "index": 0,
          "legendgroup": "",
          "line": {
           "shape": "linear",
           "simplify": true
          },
          "opacity": 1,
          "showlegend": true,
          "stackgroup": "",
          "text": "",
          "uid": "6c063588-bb15-4339-a786-4832c847ae3a",
          "visible": true,
          "xaxis": "x",
          "xcalendar": "gregorian",
          "yaxis": "y",
          "ycalendar": "gregorian"
         },
         {
          "cliponaxis": true,
          "error_x": {
           "visible": false
          },
          "error_y": {
           "visible": false
          },
          "fill": "none",
          "hoverinfo": "all",
          "hoverlabel": {
           "font": {
            "family": "Arial, sans-serif",
            "size": 13
           },
           "namelength": 15
          },
          "hoveron": "points",
          "hovertemplate": "",
          "hovertext": "",
          "index": 1,
          "legendgroup": "",
          "marker": {
           "gradient": {
            "type": "none"
           },
           "line": {
            "color": "#444",
            "width": 0
           },
           "maxdisplayed": 0,
           "opacity": 1,
           "symbol": "circle"
          },
          "opacity": 1,
          "selected": {
           "marker": {
            "opacity": 1
           }
          },
          "showlegend": true,
          "stackgroup": "",
          "text": "",
          "uid": "5f57baba-7213-4d7a-8101-3a603513054a",
          "unselected": {
           "marker": {
            "opacity": 0.2
           }
          },
          "visible": true,
          "xaxis": "x",
          "xcalendar": "gregorian",
          "yaxis": "y",
          "ycalendar": "gregorian"
         },
         {
          "connectgaps": false,
          "error_x": {
           "visible": false
          },
          "error_y": {
           "visible": false
          },
          "fill": "none",
          "hoverlabel": {
           "font": {
            "family": "Arial, sans-serif",
            "size": 13
           },
           "namelength": 15
          },
          "hoveron": "points",
          "hovertemplate": "",
          "hovertext": "",
          "index": 2,
          "legendgroup": "",
          "line": {
           "shape": "linear",
           "simplify": true
          },
          "opacity": 1,
          "showlegend": true,
          "stackgroup": "",
          "text": "",
          "uid": "a76c5096-d965-4dae-93b0-12a06246f67f",
          "visible": true,
          "xaxis": "x",
          "xcalendar": "gregorian",
          "yaxis": "y",
          "ycalendar": "gregorian"
         },
         {
          "cliponaxis": true,
          "error_x": {
           "visible": false
          },
          "error_y": {
           "visible": false
          },
          "fill": "none",
          "hoverinfo": "all",
          "hoverlabel": {
           "font": {
            "family": "Arial, sans-serif",
            "size": 13
           },
           "namelength": 15
          },
          "hoveron": "points",
          "hovertemplate": "",
          "hovertext": "",
          "index": 3,
          "legendgroup": "",
          "marker": {
           "gradient": {
            "type": "none"
           },
           "line": {
            "color": "#444",
            "width": 0
           },
           "maxdisplayed": 0,
           "opacity": 1,
           "symbol": "circle"
          },
          "opacity": 1,
          "selected": {
           "marker": {
            "opacity": 1
           }
          },
          "showlegend": true,
          "stackgroup": "",
          "text": "",
          "uid": "41aa3793-b112-4abf-9123-08be8406fe08",
          "unselected": {
           "marker": {
            "opacity": 0.2
           }
          },
          "visible": true,
          "xaxis": "x",
          "xcalendar": "gregorian",
          "yaxis": "y",
          "ycalendar": "gregorian"
         },
         {
          "connectgaps": false,
          "error_x": {
           "visible": false
          },
          "error_y": {
           "visible": false
          },
          "fill": "none",
          "hoverlabel": {
           "font": {
            "family": "Arial, sans-serif",
            "size": 13
           },
           "namelength": 15
          },
          "hoveron": "points",
          "hovertemplate": "",
          "hovertext": "",
          "index": 4,
          "legendgroup": "",
          "line": {
           "shape": "linear",
           "simplify": true
          },
          "opacity": 1,
          "showlegend": true,
          "stackgroup": "",
          "text": "",
          "uid": "737cb6b2-88a5-42fc-a0b1-ac4387b66c6f",
          "visible": true,
          "xaxis": "x",
          "xcalendar": "gregorian",
          "yaxis": "y",
          "ycalendar": "gregorian"
         },
         {
          "cliponaxis": true,
          "error_x": {
           "visible": false
          },
          "error_y": {
           "visible": false
          },
          "fill": "none",
          "hoverinfo": "all",
          "hoverlabel": {
           "font": {
            "family": "Arial, sans-serif",
            "size": 13
           },
           "namelength": 15
          },
          "hoveron": "points",
          "hovertemplate": "",
          "hovertext": "",
          "index": 5,
          "legendgroup": "",
          "marker": {
           "gradient": {
            "type": "none"
           },
           "line": {
            "color": "#444",
            "width": 0
           },
           "maxdisplayed": 0,
           "opacity": 1,
           "symbol": "circle"
          },
          "opacity": 1,
          "selected": {
           "marker": {
            "opacity": 1
           }
          },
          "showlegend": true,
          "stackgroup": "",
          "text": "",
          "uid": "8be3c07a-6055-4f72-9158-e67aecd2d1ba",
          "unselected": {
           "marker": {
            "opacity": 0.2
           }
          },
          "visible": true,
          "xaxis": "x",
          "xcalendar": "gregorian",
          "yaxis": "y",
          "ycalendar": "gregorian"
         },
         {
          "connectgaps": false,
          "error_x": {
           "visible": false
          },
          "error_y": {
           "visible": false
          },
          "fill": "none",
          "hoverlabel": {
           "font": {
            "family": "Arial, sans-serif",
            "size": 13
           },
           "namelength": 15
          },
          "hoveron": "points",
          "hovertemplate": "",
          "hovertext": "",
          "index": 6,
          "legendgroup": "",
          "line": {
           "shape": "linear",
           "simplify": true
          },
          "opacity": 1,
          "showlegend": true,
          "stackgroup": "",
          "text": "",
          "uid": "d51cb0c2-20b4-4e53-ac3e-1efe89b935c9",
          "visible": true,
          "xaxis": "x",
          "xcalendar": "gregorian",
          "yaxis": "y",
          "ycalendar": "gregorian"
         },
         {
          "cliponaxis": true,
          "error_x": {
           "visible": false
          },
          "error_y": {
           "visible": false
          },
          "fill": "none",
          "hoverinfo": "all",
          "hoverlabel": {
           "font": {
            "family": "Arial, sans-serif",
            "size": 13
           },
           "namelength": 15
          },
          "hoveron": "points",
          "hovertemplate": "",
          "hovertext": "",
          "index": 7,
          "legendgroup": "",
          "marker": {
           "gradient": {
            "type": "none"
           },
           "line": {
            "color": "#444",
            "width": 0
           },
           "maxdisplayed": 0,
           "opacity": 1,
           "symbol": "circle"
          },
          "opacity": 1,
          "selected": {
           "marker": {
            "opacity": 1
           }
          },
          "showlegend": true,
          "stackgroup": "",
          "text": "",
          "uid": "902eb392-58ee-42b9-847f-55498994f120",
          "unselected": {
           "marker": {
            "opacity": 0.2
           }
          },
          "visible": true,
          "xaxis": "x",
          "xcalendar": "gregorian",
          "yaxis": "y",
          "ycalendar": "gregorian"
         }
        ],
        "trace_edit_id": 9
       },
       "_js2py_update": {},
       "_last_layout_edit_id": 9,
       "_last_trace_edit_id": 9,
       "_layout": {
        "autosize": true,
        "shapes": [
         {
          "fillcolor": "#ffcc00",
          "line": {
           "color": "#ffcc00"
          },
          "opacity": 1,
          "type": "circle",
          "x0": -21861187.082817174,
          "x1": 21861187.082817174,
          "xref": "x",
          "y0": -21861187.082817174,
          "y1": 21861187.082817174,
          "yref": "y"
         }
        ],
        "template": {},
        "xaxis": {
         "constrain": "domain",
         "title": "x (km)"
        },
        "yaxis": {
         "scaleanchor": "x",
         "title": "y (km)"
        }
       },
       "_py2js_animate": {},
       "_py2js_deleteTraces": {},
       "_py2js_moveTraces": {},
       "_py2js_removeLayoutProps": {},
       "_py2js_removeTraceProps": {},
       "_py2js_restyle": {},
       "_view_count": 1
      }
     },
     "c4c7cadea7654e1cad751da408954805": {
      "buffers": [
       {
        "data": "AQRwfqtfoUHp2aNKjVahQRbPZBU8O6FBKO9yB9QNoUFS7iHvg86gQQuFGRCNfaBBN9MO4EIboEGPSHhhFVCfQemG3462SJ5BShI7xXghnUFirOJbjNubQdx05UpBeJpBRfG20AX5mEF5z6b4ZF+XQRaNqAMFrZVBgcoOtaXjk0E89/qEHgWSQQAjXbpcE5BBKNvx3MIgjEFEevf3fvyHQd3jircyvoNBu7BexnvUfkESSMErLQp2QfMkEpMSTWpBSgWxnOfKUEH0ByMjGiBTwfbQ7NfsgGvBmlXNilatdsFZFryYc4V/wbXnCdjXH4TBopXu24VpiMFXxfZUWJuMwStO6yt+WJDBjnwKAx5TksHGVpFygTuUwaAsgwmxD5bBpYQjKsrNl8Hp2XP7AHSZwaD1OEOiAJvBKEKfJhVynMGVn6/P3MadwY5H4vWZ/Z7B5okdJIYKoMES8bzbCYagwQNchc/Y8KDBTMfB5YRKocFDmdCusZKhwbGdbMQUyaHBm1ReFnbtocGzhUYksP+hwa+FRiSw/6HBmFReFnbtocGqnWzEFMmhwTuZ0K6xkqHBQcfB5YRKocH1W4XP2PCgwQPxvNsJhqDB1YkdJIYKoMFnR+L1mf2ewW2fr8/cxp3B/0GfJhVynMF09ThDogCbwbLZc/sAdJnBbYQjKsrNl8FoLIMJsQ+WwYlWkXKBO5TBSnwKAx5TksHwTesrfliQwdHE9lRYm4zBF5Xu24VpiMEu5wnY1x+EwUEVvJhzhX/Bf1TNilatdsGzzuzX7IBrwT4DIyMaIFPBEgqxnOfKUEH6JhKTEk1qQRBJwSstCnZBzrFexnvUfkFh5Iq3Mr6DQc169/d+/IdBtdvx3MIgjEFCI126XBOQQYD3+oQeBZJBuMoOtaXjk0FRjagDBa2VQazPpvhkX5dBevG20AX5mEEFdeVKQXiaQZCs4luM25tBcxI7xXghnUELh9+OtkieQa9IeGEVUJ9BRtMO4EIboEEXhRkQjX2gQVruIe+DzqBBL+9yB9QNoUEcz2QVPDuhQerZo0qNVqFBAQRwfqtfoUE=",
        "encoding": "base64",
        "path": [
         "_data",
         0,
         "x",
         "value"
        ]
       },
       {
        "data": "AAAAAACQoj5ONICHB/NhQRiBjzPH6XFBxV3QhJPHekGh/tp64sSBQZwMkhyqE4ZBXnSc4q9LikG+AHV9mmiOQcELUUcWM5FB8BDEgyQgk0FHkXaze/mUQRxBZ+gzvZZBaHcofntpmEEJr975mPyZQf/PVtHsdJtBdiJfF/PQnEEYYKkLRQ+eQcitmYyaLp9BXqTCtOUWoEHtHQJK6IWgQRuxjZfi46BBpZiTvXMwoUFNDcrOTGuhQUFSyyExlKFBE7+dj/aqoUHjUSefha+hQTv/X53ZoaFBbc4pogCCoUEcxMmBG1ChQbSUEKtdDKFB+wBW8gy3oEHog31JgVCgQb4JncpIsp9BBgP7oOKinkFRA63Z53OdQaknF8aQJpxBmOp3AzW8mkEpqrMYSjaZQQCCSvVhlpdBuGIFUynelUEifgX8ZQ+UQQ2Y/fb0K5JBP213m8g1kEFYJkAgzV2MQeayWWrLMohBr3P9+dfug0FEzPLUsCx/Qd2utQqPW3ZBIzExkcLmakFw2AQPWPVRQajdBA9Y9VHBuzMxkcLmasEqsLUKj1t2wXrN8tSwLH/BSHT9+dfug8Fxs1lqyzKIwegmQCDNXYzBe213m8g1kMFMmP329CuSwWF+BfxlD5TB72IFUynelcE2gkr1YZaXwWGqsxhKNpnBy+p3AzW8msHUJxfGkCacwX0Drdnnc53BLgP7oOKinsHcCZ3KSLKfwfeDfUmBUKDBBwFW8gy3oMG/lBCrXQyhwSXEyYEbUKHBcs4pogCCocE//1+d2aGhweRRJ5+Fr6HBEb+dj/aqocE+UsshMZShwUgNys5Ma6HBn5iTvXMwocETsY2X4uOgweIdAkrohaDBT6TCtOUWoMGnrZmMmi6fwe9fqQtFD57BTCJfF/PQnMHQz1bR7HSbwduu3vmY/JnBLncofntpmMHrQGfoM72WwQuRdrN7+ZTBrBDEgyQgk8GCC1FHFjORwTsAdX2aaI7Bz3Oc4q9LisEIDJIcqhOGwRz+2nrixIHBllzQhJPHesH4f48zx+lxwRAygIcH82HBAAAAAACAoD4=",
        "encoding": "base64",
        "path": [
         "_data",
         0,
         "y",
         "value"
        ]
       },
       {
        "data": "8TNoyKxjocE=",
        "encoding": "base64",
        "path": [
         "_data",
         1,
         "x",
         "value"
        ]
       },
       {
        "data": "MI9bScuKgsE=",
        "encoding": "base64",
        "path": [
         "_data",
         1,
         "y",
         "value"
        ]
       },
       {
        "data": "pu84dmSjckFdCNOz9WVoQZps51lB11ZBWBb3zFatKcHim6W6/j9dwUzb2D5xlmvB/yvrK2c4dMGcP41w65B6wfogiGsdZ4DBWI1davN0g8HuP9TF0W6GwaCEKSSnUYnB/wlZ6nkajMGsOTFNa8aOwecXYiNdqZDBVUSUNmPekcFybs5TCQGTwf61od8jEJTBvX1oZJsKlcEgGVmybe+VwUfEqumuvZbBcI26bYp0l8FwjDXAQxOYwbJ8ZkM3mZjBCm/e4toFmcHSt8qhvliZwW9gZQ6NkZnBzBwJmguwmcHq+Y3VGrSZwbiMsJG2nZnBFjpi4/VsmcHYJf4LCyKZwZtPe0VDvZjB/EPRcgY/mMGwceG01qeXwRGGU+RP+JbBPBfv8CYxlsGFNRgnKVOVwaknL1w7X5TBXnetAllWk8HIdvMmkzmSwVZu0VUPCpHBVC3d2wySj8Fmlou6hu+MwRjTCJhDL4rBmwRWbBlUh8HNjMLq+WCEwavK/XjvWIHBWDJnGTR+fMF8Xd3lVy12weKYSxKai2/BONhTLVucYsGshlGqIWlGwRbdFv/VtE1BW6OkRbBsZEEOo6fuYKtwQSWNlScND3dBKelet8ZafUE2W7IbCMSBQXDfoNBFyIRBDjiHbwC3h0ExbkQaMo2KQbCSQj3uR41Bgtock2Tkj0FRGYwF8i+RQYZ4uMfuW5JBdrhQVPN0k0EFwXT93XmUQa2/ws2haZVBzbWWnUdDlkGoP9AR7wWXQXfzF4PPsJdBvfK1zDhDmEEMdyQClLyYQTMvowpkHJlBtw0rIkZimUGOmz0/8o2ZQT7cJl07n5lBrzdlqg+WmUGdkwebeHKZQaKt7t6aNJlBUMH7O7bcmEE0dlNMJWuYQXvZ+CBd4JdBJqkgyew8l0GxVbm+fIGWQcC9vzjOrpVBaakTZLrFlEEQVJmDMceTQcrJjvg5tJJBJ2UUNO+NkUGgOv+SgFWQQT1CRUpgGI5BRWKmwqJmi0Fk5vKOj5iIQYbnOeQKsYVBYfrCMROzgkGl8/4VfEN/Qc0dQvNpAHlBs+84dmSjckE=",
        "encoding": "base64",
        "path": [
         "_data",
         2,
         "x",
         "value"
        ]
       },
       {
        "data": "1Ft2ztT+mEGXCfXT6T6ZQa55kn67ZJlBG2c80iJwmUGoq6QNFGGZQYxOX7aeN5lBaHfiiO3zmEE7xHhMRpaYQTxrU4sJH5hBRk4GL7KOl0HHlNQB1eWWQWxnUBUgJZZB+OfrDlpNlUEXXDRbYV+UQaqfikgrXJNBVDdFCsNEkkEmrEClSBqRQZI79I3fu49BQi3MEP0hjUFSJJU7mGmKQWpu7el+lYdBLu2JhpuohEFD5ckJ8qWBQeEG57s5IX1B0MKaWJPXdkFwXcIsbHVwQbxRIHuxAmRBIj0mTwAQTEGcXmeJWg9IwS6pq/9jB2PBzu64xz35b8GZ2af+BWZ2wS7D4lFLuXzBFj7Q1/R3gcEgj365vIGEwY3pJY3bdofB8VsC3kRUisFXQ+WnBBeNwdCzhmJCvI/BmA9B+KEgkcE9C3w3uFGSwb6rd3EpcJPBVFLZYM56lMH5hscolHCVwZaUP3B9UJbBq4s9Z6MZl8Hedqm0NsuXwd9+FEyAZJjBFKppKuLkmMF1ts/410uZwXEmFJX3mJnBleESf/HLmcH2oakqkeSZwWe04jW94pnBVDUfg3fGmcF40SU33Y+ZwR0LGJsmP5nBr/ts4qbUmMGIYC3Vy1CYwclbyV4dtJfBX5D8AT3/lsF0BlEy5TKWwVx37JPoT5XBzh9uIjFXlMFJ7Lw/v0mTwTmgvquoKJLBGGYIZhf1kMG51l/1kGCPwW5c83YVt4zB3cRqzXrwicGZZlh6nQ+Hwd47LBF1F4TBOyI3KBELgcEyidthLNt7wS+jV3V0hHXBFSo5jQYxbsHUuDnk7jthwfaEXxH120DBiaZ3TcWgUUG+i9evwsxlQYPXPgBgWHFB0yWpcoi3d0EhhFNASf19Qby+P5WVEYJBS0Nl5msRhUECzckSEPuHQc6n43qBy4pB4CrAeNl/jUGGtcYupwqQQRsgpCibRJFBqiHMCIVskkHcn4LGM4GTQUMo6yuKgZRBKjUJ/H9slUEZGCIDI0GWQS/DZxCY/pZBXBTr1xukl0Fiuey7AzGYQbQnvXy+pJhB01t2ztT+mEE=",
        "encoding": "base64",
        "path": [
         "_data",
         2,
         "y",
         "value"
        ]
       },
       {
        "data": "cSwM0UpzksE=",
        "encoding": "base64",
        "path": [
         "_data",
         3,
         "x",
         "value"
        ]
       },
       {
        "data": "6qpFNvQWksE=",
        "encoding": "base64",
        "path": [
         "_data",
         3,
         "y",
         "value"
        ]
       },
       {
        "data": "CfbjIRzNdEHQc4Fj1sZzQSLRT675bnJBA9A0eOjGcEGrJd/Ir6BtQXtl+AGcGmlBZUUcYT8AZEHWah8Nua1cQTQnqAKTSFBBeI+4sJzuJkGUOaQ3YQlHwS2qkY4l0FrBGB51j2N6ZcGcS7al+PBtwTB98VaMYXPBfhFJ99Xzd8EOh0nYoqp8wcRqgH2LwIDBp+O83xo5g8EmeFqEc7yFwbjJez7+R4jBs1yDbhvZisE9jGa2JW2NwRcf9lm6AJDBvcgD369JkcHpxz1RIJCSwdFOejC70pPB0oFj8DMQlcFPuENPQ0eWwUBdXaeodpfBNrFyOSudmMFztihvm7mZwT70+BPUyprBqHpvg7vPm8Fjl33LRMecwVf3tcFwsJ3BxGtUCk+KnsF0MQIQ/1Ofwa6oq3VYBqDBuzuVHNNZoMFqKmlvGaSgwU0fx93e5KDBFZUvo+AbocG6J9cL5kihwWbGGa/Aa6HB3IVRn0yEocEEw9+OcJKhwR1oQuodlqHBvXEa51CPocFpNhSIEH6hwZlprZVuYqHBXk3gi4c8ocHn98Z8ggyhwWrxVOiQ0qDBn65Qie6OoMHRgMEX4UGgwQTnIgJw15/BsllaLJgZn8GSbexf/kqeweIizJR3bJ3B5Q2ULel+nMEtzxELSIObwbsZ2Y+XeprBYHzilOhlmcHvjElQWEaYwXViTC8PHZfBfW67pD/rlcEwsRTtJLKUwZvoj8kBc5PB4LNqMx8vksHmnssIy+eQwfZNM2mtPI/Bs/lVpSuojMEHG2OjuRSKwflenCj/hIfBIWVoJaD7hMHC9Iz8OXuCwW6IKtFgBoDBj/CAvDk/e8GTcO60z5J2wYTwwtVUDHLBJx5WneZga8Fm6LjLUgdjwQAxblkTKVbBJMW3BOaFPMG6D1ACp+I7QS/BXQPNFlRBuv+IUbUVYEH04CJYB5VlQdrTOOOxg2pBS7ZhXZ/cbkFnJ+FFqk1xQUcYUpb63XJBXZAW+aMddEFqb47qXAt1QVYtEl4wpnVBvAeNun7tdUH3XgF//uB1QUCsTY68gHVBCfbjIRzNdEE=",
        "encoding": "base64",
        "path": [
         "_data",
         4,
         "x",
         "value"
        ]
       },
       {
        "data": "1JULFYouVUFM0jHDQUthQYZqtWVBzmdBbPA9kY0ZbkGi4/enVBNyQSrghuOr93RBMMmFUtG2d0ELSXUj8E16QQtpRcdcunxBeST2sZf5fkGZ0+z2p4SAQU1RaL+yc4FBi1OFyfVIgkEiPIQ/lQODQcBYasHQooNB+MRPKwQmhEGfcZI+qIyEQTznPy1T1oRB1Q0mB7kChUHfjBoIrBGFQRYSKMccA4VB4t1wRhrXhEFpNbbj0Y2EQaeslCmPJ4RBwH2lgbukg0EhMtXH3QWDQV6gX7+ZS4JBxosAaq92gUHq6AZC+oeAQdaaLbDgAH9BCoUGq0LCfEFO44rIalZ6QQOrY/vXv3dB0kZMQjUBdUFCywboVh1yQYOUfDFvLm5BwtSxn+rjZ0H4SshCnGFhQWKIrIlzXFVB4NiSOluFPkFgH3Hd2H85wfDmELoDmVTBxw5oOZR9YcGKVsFfyLtowWMHofWm/2/BwPS3ZNmgc8E+211FOD13wbIESEA30XrBvg72GiZZfsEFGRuFsOiAwVlPVDkqm4LBB6hJTEBChMF7tZydPtyFwf4s/4t+Z4fBSOfaqGjiiMFrPU9cdkuKwcnT0nczoYvBksfatT/ijMG6xPskUA2OwTyyDn0wIY/BJqZ8LmIOkMECjOk3hH+QwY1BHLyJ45DBak9coAs6kcHtzzK4sIKRwUWCViEuvZHB9O/ckEfpkcHyEWGRzwaSwcZk37GnFZLBhB0XpcAVksEjJ1BRGgeSwXGlddDD6ZHBjeKEYNu9kcGpsmBEjoORwbNwKZUYO5HBI6xJBMXkkMHbY3eO7ICQwZUs+R/2D5DB5qIbVawkj8E5mMdaHBGOwSygOF9Y5ozBTwfHW5Sli8FUomn3GlCKwaDh3TFM54jBiq/O+Jtsh8EcIXCokOGFwcwuG3nBR4TBWkCI29SggsG/QVnFfu6AwSRFaN/9ZH7Byv95Ez7desFGbpfBYUl3wcJvhgAZrXPBahLzlRwMcMFraphAVNRowTpQQncAlmHBVmvnlWrJVME/cUM65j46wX6qHOGgyT1B1JULFYouVUE=",
        "encoding": "base64",
        "path": [
         "_data",
         4,
         "y",
         "value"
        ]
       },
       {
        "data": "cSwM0UpzksE=",
        "encoding": "base64",
        "path": [
         "_data",
         5,
         "x",
         "value"
        ]
       },
       {
        "data": "6qpFNvQWksE=",
        "encoding": "base64",
        "path": [
         "_data",
         5,
         "y",
         "value"
        ]
       },
       {
        "data": "kjHclqDtcUF3NUyAqcpwQZfMojcjt25BtEGco6ZDa0GlsBv8az5nQbi3wDSYq2JBko8Zb8QfW0FKsRgjOMJPQexLd5Z1Ni1BVWkxyREFQ8ECgdCDWY1XwWUD9MaUNWPBMu3V8lIGa8GhYGtubJhxwUjIDchd1nXBnvWCHJ44esGITYSUqLp+wYB76cnrq4HBHUS/wbQFhMEYlYHcQmiGwYyxmLog0YjB+pvcetI9i8GAjA9K2KuNwXPPNHtYDJDBnOxGQu5AkcGQmp9hb3KSwdnRlu2gn5PBW4MbbEzHlMHZbb8UQeiVwdhj5ApVAZfB0STHkGYRmMHmSCsyXReZwfRddOUqEprBbzQCIs0Am8G0arHqTeKbwR6AbcvEtZzBfQzPyFd6ncF0G89APC+ewUMLqLu3057B2J0MrCBnn8HOGO8d3+ifweskkqk2LKDBVHygJqxaoMHL1BEioH+gwYo/WITsmqDB8LmsKXWsoMG8/BD/J7Sgwe8W8RT9saDBjp9Rp/aloMGYD4IbIZCgwR6kVfOScKDBOfTvtWxHoMFyJT3O2BSgwSiecL4Wsp/BiD1aHIQon8EgSliGh42ewcqV5r/A4Z3BQpAr2+AlncGC+nCCqVqcwUyHgTDsgJvBxTK5WImZmsGV6KZ/b6WZwTD4LUWapZjBUsokYRGbl8EDN3yT54aWwT62B4k5apXBZ10KtixGlMEVKLcn7huTwehe3E2x7JHBKwH6va65kMEdwBPiRQiPwUwii/qZmozBKgF1mtosisFdZP6qiMGHwWdUvJQiW4XBBQOWrSH8gsGVp+mr96aAwckXGkMYvHzBpE+FAnRHeMEqz2JimvRzwfgrf7MAkG/Bf0eM5OaLZ8EHLgVjVcpfwW73V2teR1HB1Hj9yvLuLMH7/7EMK0hCQQAYd5ZW8VRBd2Ewd7q9X0GYV1TID79kQYj+LkY8FGlBUbvnWOvZbEFwPuzGHAZwQcpOC6/tU3FBucL8SRBVckHxQ0OIewhzQVxa83Z2bXNBy6ZZ/piDc0HY6UdNzEpzQQ47mvBKw3JBkjHclqDtcUE=",
        "encoding": "base64",
        "path": [
         "_data",
         6,
         "x",
         "value"
        ]
       },
       {
        "data": "55kPYjvNVkGQSulxG3xhQVuv8bsrWmdBWXALM8L6bEHZXwLtCCxxQennqIZJtnNB1B8pm4QZdkHEtpwYRFN4QcyZBLA8YXpBVgOyMlBBfEEeKyvBj/F9QWR3S8k9cH9BJqvI6OddgEHFJOAHeOmAQf78mWQ/WoFB0pG8vcmvgUHGTv3lvumBQWa25R7jB4JBUT9pVhcKgkHmiOxGWfCBQcDjnHnDuoFB3cMVK41pgUEGT3ASCv2AQea49wqqdYBBPcO2QfGnf0HKJKsCOTF+QepAtp2tiHxBoiQKtASwekFwAQOAJal4QeFr6N4mdnZButCTKU0ZdEHGeDTeB5VxQbaNMzve121BFWw0/YFBaEF0k7F0vWxiQQTmS9Emv1hBKLEzCgOBSEFAgNXvd7ICwdiAzz27a0vBRPpuPdQSW8HSEfKZWE9kwdF5WOG+JWvBjqexTcgCccEXsWLc23N0wbZJMuGN4nfB8LrmlFRLe8Fix0tKrKp+wSdQzYaN/oDBzNntHJqfgsG6VEgAzjaEwaiGAXCFwoXBoAFTgihBh8FffQfJLLGIwZ89EegWEYrBp2aXHHxfi8EkJeeyA5uMwTUyx2lowo3BgGu/wXnUjsEG4/o2HdCPwQdsQLInWpDBvTLMhxLAkMGToiENZhmRwcjZ6i3GZZHBmBdmL+SkkcHUsY0Bf9aRwVd4KYJj+pHBfmOEsWwQksEgOJDYgxiSwarQT6CgEpLB8OdvGsn+kcGSiQW7Ed2RwVCaeEOdrZHBsTSwnpxwkcHWx6WuTiaRwZXzkgsAz5DBUvP8tAprkMG/9d1pq/WPwZFPhmup/Y7BXgbPFQ/vjcHR+TNa88qMwZdlRlWDkovBvnBIGAFHisHMsi5dwumIwXzoXSYvfIfBcPaPS8D/hcE8xF71/XWEwdVeBQl+4ILB+hX4heJAgcE+xQWurzF/wdZ+VDEm1HvBwV0rraBseMEw0KiDof50wUsCqMOxjXHBRpaZB7s6bME70d90YGJlwczYwVjEMl3Bnh531/qaT8ESXCTe2BUlwdBIxeDff0RB55kPYjvNVkE=",
        "encoding": "base64",
        "path": [
         "_data",
         6,
         "y",
         "value"
        ]
       },
       {
        "data": "cSwM0UpzksE=",
        "encoding": "base64",
        "path": [
         "_data",
         7,
         "x",
         "value"
        ]
       },
       {
        "data": "6qpFNvQWksE=",
        "encoding": "base64",
        "path": [
         "_data",
         7,
         "y",
         "value"
        ]
       }
      ],
      "model_module": "plotlywidget",
      "model_module_version": "^0.6.0",
      "model_name": "FigureModel",
      "state": {
       "_config": {
        "plotlyServerURL": "https://plot.ly"
       },
       "_data": [
        {
         "hoverinfo": "none",
         "line": {
          "color": "rgb(31, 119, 180)",
          "dash": "dash",
          "width": 2
         },
         "mode": "lines",
         "name": "2018-08-11 00:00 (Earth (♁))",
         "type": "scatter",
         "uid": "c7c17195-5de5-4f4a-a926-2de8f2b88b6e",
         "x": {
          "dtype": "float64",
          "shape": [
           100
          ],
          "value": {}
         },
         "y": {
          "dtype": "float64",
          "shape": [
           100
          ],
          "value": {}
         }
        },
        {
         "marker": {
          "color": "rgb(31, 119, 180)",
          "size": 10
         },
         "mode": "markers",
         "name": "2018-08-11 00:00 (Earth (♁))",
         "type": "scatter",
         "uid": "d7a22e81-dbaa-4e71-9794-3f78aff050a6",
         "x": {
          "dtype": "float64",
          "shape": [
           1
          ],
          "value": {}
         },
         "y": {
          "dtype": "float64",
          "shape": [
           1
          ],
          "value": {}
         }
        },
        {
         "hoverinfo": "none",
         "line": {
          "color": "rgb(255, 127, 14)",
          "dash": "dash",
          "width": 2
         },
         "mode": "lines",
         "name": "2018-09-28 00:00 (Venus (♀))",
         "type": "scatter",
         "uid": "9fd307a6-bf6a-4189-bee1-0d8d316b1444",
         "x": {
          "dtype": "float64",
          "shape": [
           100
          ],
          "value": {}
         },
         "y": {
          "dtype": "float64",
          "shape": [
           100
          ],
          "value": {}
         }
        },
        {
         "marker": {
          "color": "rgb(255, 127, 14)",
          "size": 10
         },
         "mode": "markers",
         "name": "2018-09-28 00:00 (Venus (♀))",
         "type": "scatter",
         "uid": "a8e39945-823f-4500-b5fb-594f133a73a1",
         "x": {
          "dtype": "float64",
          "shape": [
           1
          ],
          "value": {}
         },
         "y": {
          "dtype": "float64",
          "shape": [
           1
          ],
          "value": {}
         }
        },
        {
         "hoverinfo": "none",
         "line": {
          "color": "rgb(44, 160, 44)",
          "dash": "dash",
          "width": 2
         },
         "mode": "lines",
         "name": "2018-09-28 00:00 (#0 to #1)",
         "type": "scatter",
         "uid": "1fcd3f38-3d0c-4bcd-94b6-7dfa0fbe862f",
         "x": {
          "dtype": "float64",
          "shape": [
           100
          ],
          "value": {}
         },
         "y": {
          "dtype": "float64",
          "shape": [
           100
          ],
          "value": {}
         }
        },
        {
         "marker": {
          "color": "rgb(44, 160, 44)",
          "size": 10
         },
         "mode": "markers",
         "name": "2018-09-28 00:00 (#0 to #1)",
         "type": "scatter",
         "uid": "e9f61ddd-c31d-4e6b-b752-a5090834cb59",
         "x": {
          "dtype": "float64",
          "shape": [
           1
          ],
          "value": {}
         },
         "y": {
          "dtype": "float64",
          "shape": [
           1
          ],
          "value": {}
         }
        },
        {
         "hoverinfo": "none",
         "line": {
          "color": "rgb(214, 39, 40)",
          "dash": "dash",
          "width": 2
         },
         "mode": "lines",
         "name": "2018-09-28 00:00 (#1 to #2)",
         "type": "scatter",
         "uid": "1e6612f6-e5e1-462f-8105-8049f98b2940",
         "x": {
          "dtype": "float64",
          "shape": [
           100
          ],
          "value": {}
         },
         "y": {
          "dtype": "float64",
          "shape": [
           100
          ],
          "value": {}
         }
        },
        {
         "marker": {
          "color": "rgb(214, 39, 40)",
          "size": 10
         },
         "mode": "markers",
         "name": "2018-09-28 00:00 (#1 to #2)",
         "type": "scatter",
         "uid": "eb1c7de2-a751-4c8c-a3c7-da94f2bb8133",
         "x": {
          "dtype": "float64",
          "shape": [
           1
          ],
          "value": {}
         },
         "y": {
          "dtype": "float64",
          "shape": [
           1
          ],
          "value": {}
         }
        }
       ],
       "_js2py_relayout": {},
       "_js2py_restyle": {},
       "_js2py_update": {},
       "_last_layout_edit_id": 9,
       "_last_trace_edit_id": 9,
       "_layout": {
        "autosize": true,
        "shapes": [
         {
          "fillcolor": "#ffcc00",
          "line": {
           "color": "#ffcc00"
          },
          "opacity": 1,
          "type": "circle",
          "x0": -696000,
          "x1": 696000,
          "xref": "x",
          "y0": -696000,
          "y1": 696000,
          "yref": "y"
         }
        ],
        "template": {},
        "xaxis": {
         "constrain": "domain",
         "title": "x (km)"
        },
        "yaxis": {
         "scaleanchor": "x",
         "title": "y (km)"
        }
       },
       "_py2js_animate": {},
       "_py2js_deleteTraces": {},
       "_py2js_moveTraces": {},
       "_py2js_removeLayoutProps": {},
       "_py2js_removeTraceProps": {},
       "_py2js_restyle": {},
       "_view_count": 0
      }
     }
    },
    "version_major": 2,
    "version_minor": 0
   }
  }
 },
 "nbformat": 4,
 "nbformat_minor": 2
}
