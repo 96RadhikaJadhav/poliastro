{
 "cells": [
  {
   "cell_type": "markdown",
   "metadata": {},
   "source": [
    "# Catch that asteroid!"
   ]
  },
  {
   "cell_type": "code",
   "execution_count": 1,
   "metadata": {},
   "outputs": [],
   "source": [
    "from astropy import units as u\n",
    "from astropy.time import Time"
   ]
  },
  {
   "cell_type": "code",
   "execution_count": 2,
   "metadata": {},
   "outputs": [
    {
     "data": {
      "text/plain": [
       "'http://data.astropy.org/'"
      ]
     },
     "execution_count": 2,
     "metadata": {},
     "output_type": "execute_result"
    }
   ],
   "source": [
    "from astropy.utils.data import conf\n",
    "conf.dataurl"
   ]
  },
  {
   "cell_type": "code",
   "execution_count": 3,
   "metadata": {},
   "outputs": [
    {
     "data": {
      "text/plain": [
       "10.0"
      ]
     },
     "execution_count": 3,
     "metadata": {},
     "output_type": "execute_result"
    }
   ],
   "source": [
    "conf.remote_timeout "
   ]
  },
  {
   "cell_type": "markdown",
   "metadata": {},
   "source": [
    "First, we need to increase the timeout time to allow the download of data occur properly"
   ]
  },
  {
   "cell_type": "code",
   "execution_count": 4,
   "metadata": {},
   "outputs": [],
   "source": [
    "conf.remote_timeout = 10000"
   ]
  },
  {
   "cell_type": "markdown",
   "metadata": {},
   "source": [
    "Then, we do the rest of the imports and create our initial orbits."
   ]
  },
  {
   "cell_type": "code",
   "execution_count": 5,
   "metadata": {},
   "outputs": [],
   "source": [
    "from astropy.coordinates import solar_system_ephemeris\n",
    "solar_system_ephemeris.set(\"jpl\")\n",
    "\n",
    "from poliastro.bodies import *\n",
    "from poliastro.twobody import Orbit\n",
    "from poliastro.plotting import OrbitPlotter2D\n",
    "from poliastro.plotting.misc import plot_solar_system\n",
    "\n",
    "EPOCH = Time(\"2017-09-01 12:05:50\", scale=\"tdb\")"
   ]
  },
  {
   "cell_type": "code",
   "execution_count": 6,
   "metadata": {},
   "outputs": [
    {
     "data": {
      "text/plain": [
       "1 x 1 AU x 23.4 deg (ICRS) orbit around Sun (☉) at epoch 2017-09-01 12:05:50.000 (TDB)"
      ]
     },
     "execution_count": 6,
     "metadata": {},
     "output_type": "execute_result"
    }
   ],
   "source": [
    "earth = Orbit.from_body_ephem(Earth, EPOCH)\n",
    "earth"
   ]
  },
  {
   "cell_type": "raw",
   "metadata": {},
   "source": [
    "earth.plot(label=Earth)"
   ]
  },
  {
   "cell_type": "code",
   "execution_count": 7,
   "metadata": {},
   "outputs": [],
   "source": [
    "from poliastro.neos import neows"
   ]
  },
  {
   "cell_type": "code",
   "execution_count": 8,
   "metadata": {},
   "outputs": [
    {
     "data": {
      "text/plain": [
       "1 x 3 AU x 22.1 deg (HeliocentricEclipticJ2000) orbit around Sun (☉) at epoch 2458600.5008007586 (TDB)"
      ]
     },
     "execution_count": 8,
     "metadata": {},
     "output_type": "execute_result"
    }
   ],
   "source": [
    "florence = Orbit.from_sbdb(\"Florence\")\n",
    "florence"
   ]
  },
  {
   "cell_type": "markdown",
   "metadata": {},
   "source": [
    "Two problems: the epoch is not the one we desire, and the inclination is with respect to the ecliptic!"
   ]
  },
  {
   "cell_type": "code",
   "execution_count": 9,
   "metadata": {},
   "outputs": [
    {
     "data": {
      "text/plain": [
       "(<Quantity [-9.80228537e+07, -2.29262614e+08, -1.01451789e+08] km>,\n",
       " <Quantity [21.71485627,  0.04864768,  3.60076923] km / s>)"
      ]
     },
     "execution_count": 9,
     "metadata": {},
     "output_type": "execute_result"
    }
   ],
   "source": [
    "florence.rv()"
   ]
  },
  {
   "cell_type": "code",
   "execution_count": 10,
   "metadata": {},
   "outputs": [
    {
     "data": {
      "text/plain": [
       "<Time object: scale='tdb' format='jd' value=2458600.5008007586>"
      ]
     },
     "execution_count": 10,
     "metadata": {},
     "output_type": "execute_result"
    }
   ],
   "source": [
    "florence.epoch"
   ]
  },
  {
   "cell_type": "code",
   "execution_count": 11,
   "metadata": {},
   "outputs": [
    {
     "data": {
      "text/plain": [
       "'2019-04-27 00:01:09.186'"
      ]
     },
     "execution_count": 11,
     "metadata": {},
     "output_type": "execute_result"
    }
   ],
   "source": [
    "florence.epoch.iso"
   ]
  },
  {
   "cell_type": "code",
   "execution_count": 12,
   "metadata": {},
   "outputs": [
    {
     "data": {
      "text/latex": [
       "$22.142394 \\; \\mathrm{{}^{\\circ}}$"
      ],
      "text/plain": [
       "<Quantity 22.14239434 deg>"
      ]
     },
     "execution_count": 12,
     "metadata": {},
     "output_type": "execute_result"
    }
   ],
   "source": [
    "florence.inc"
   ]
  },
  {
   "cell_type": "markdown",
   "metadata": {},
   "source": [
    "We first propagate:"
   ]
  },
  {
   "cell_type": "code",
   "execution_count": 13,
   "metadata": {},
   "outputs": [
    {
     "data": {
      "text/plain": [
       "'2017-09-01 12:05:50.000'"
      ]
     },
     "execution_count": 13,
     "metadata": {},
     "output_type": "execute_result"
    }
   ],
   "source": [
    "florence = florence.propagate(EPOCH)\n",
    "florence.epoch.tdb.iso"
   ]
  },
  {
   "cell_type": "markdown",
   "metadata": {},
   "source": [
    "And now we have to convert to the same frame that the planetary ephemerides are using to make consistent comparisons, which is ICRS:"
   ]
  },
  {
   "cell_type": "code",
   "execution_count": 14,
   "metadata": {},
   "outputs": [
    {
     "data": {
      "text/plain": [
       "(<Quantity [-1.72547461e+06,  1.52177531e+08,  1.45281947e+08] km>,\n",
       " <Quantity [-25.42374155,  10.05779973,   4.20597398] km / s>)"
      ]
     },
     "execution_count": 14,
     "metadata": {},
     "output_type": "execute_result"
    }
   ],
   "source": [
    "florence_icrs = florence.to_icrs()\n",
    "florence_icrs.rv()"
   ]
  },
  {
   "cell_type": "markdown",
   "metadata": {},
   "source": [
    "Let us compute the distance between Florence and the Earth:"
   ]
  },
  {
   "cell_type": "code",
   "execution_count": 15,
   "metadata": {},
   "outputs": [],
   "source": [
    "from poliastro.util import norm"
   ]
  },
  {
   "cell_type": "code",
   "execution_count": 16,
   "metadata": {},
   "outputs": [
    {
     "data": {
      "text/latex": [
       "$2.9763787 \\times 10^{8} \\; \\mathrm{km}$"
      ],
      "text/plain": [
       "<Quantity 2.97637873e+08 km>"
      ]
     },
     "execution_count": 16,
     "metadata": {},
     "output_type": "execute_result"
    }
   ],
   "source": [
    "norm(florence_icrs.r - earth.r) - Earth.R"
   ]
  },
  {
   "cell_type": "markdown",
   "metadata": {},
   "source": [
    "<div class=\"alert alert-success\">This value is consistent with what ESA says! $7\\,060\\,160$ km</div>"
   ]
  },
  {
   "cell_type": "code",
   "execution_count": 17,
   "metadata": {},
   "outputs": [
    {
     "data": {
      "text/latex": [
       "$41.157384 \\; \\mathrm{}$"
      ],
      "text/plain": [
       "<Quantity 41.15738357>"
      ]
     },
     "execution_count": 17,
     "metadata": {},
     "output_type": "execute_result"
    }
   ],
   "source": [
    "abs(((norm(florence_icrs.r - earth.r) - Earth.R) - 7060160 * u.km) / (7060160 * u.km))"
   ]
  },
  {
   "cell_type": "code",
   "execution_count": 18,
   "metadata": {},
   "outputs": [
    {
     "data": {
      "text/html": [
       "<blockquote class=\"twitter-tweet\" data-lang=\"en\"><p lang=\"es\" dir=\"ltr\">La <a href=\"https://twitter.com/esa_es\">@esa_es</a> ha preparado un resumen del asteroide <a href=\"https://twitter.com/hashtag/Florence?src=hash\">#Florence</a> 😍 <a href=\"https://t.co/Sk1lb7Kz0j\">pic.twitter.com/Sk1lb7Kz0j</a></p>&mdash; AeroPython (@AeroPython) <a href=\"https://twitter.com/AeroPython/status/903197147914543105\">August 31, 2017</a></blockquote>\n",
       "<script src=\"//platform.twitter.com/widgets.js\" charset=\"utf-8\"></script>"
      ],
      "text/plain": [
       "<IPython.core.display.HTML object>"
      ]
     },
     "execution_count": 18,
     "metadata": {},
     "output_type": "execute_result"
    }
   ],
   "source": [
    "from IPython.display import HTML\n",
    "\n",
    "HTML(\n",
    "\"\"\"<blockquote class=\"twitter-tweet\" data-lang=\"en\"><p lang=\"es\" dir=\"ltr\">La <a href=\"https://twitter.com/esa_es\">@esa_es</a> ha preparado un resumen del asteroide <a href=\"https://twitter.com/hashtag/Florence?src=hash\">#Florence</a> 😍 <a href=\"https://t.co/Sk1lb7Kz0j\">pic.twitter.com/Sk1lb7Kz0j</a></p>&mdash; AeroPython (@AeroPython) <a href=\"https://twitter.com/AeroPython/status/903197147914543105\">August 31, 2017</a></blockquote>\n",
    "<script src=\"//platform.twitter.com/widgets.js\" charset=\"utf-8\"></script>\"\"\"\n",
    ")"
   ]
  },
  {
   "cell_type": "markdown",
   "metadata": {},
   "source": [
    "And now we can plot!"
   ]
  },
  {
   "cell_type": "code",
   "execution_count": 19,
   "metadata": {
    "scrolled": false
   },
   "outputs": [
    {
     "name": "stderr",
     "output_type": "stream",
     "text": [
      "/home/lobo/Documentos/Github/poliastro/src/poliastro/twobody/propagation.py:232: UserWarning:\n",
      "\n",
      "Frame <class 'astropy.coordinates.builtin_frames.icrs.ICRS'> does not support 'obstime', time values were not returned\n",
      "\n"
     ]
    },
    {
     "data": {
      "application/vnd.jupyter.widget-view+json": {
       "model_id": "a5a6e9ebaa5844109380a9b47ff97a24",
       "version_major": 2,
       "version_minor": 0
      },
      "text/plain": [
       "FigureWidget({\n",
       "    'data': [{'hoverinfo': 'none',\n",
       "              'line': {'color': 'rgb(31, 119, 180)', 'dash':…"
      ]
     },
     "metadata": {},
     "output_type": "display_data"
    }
   ],
   "source": [
    "frame = plot_solar_system(outer=False, epoch=EPOCH)\n",
    "frame.plot(florence_icrs, label=\"Florence\")"
   ]
  },
  {
   "cell_type": "markdown",
   "metadata": {},
   "source": [
    "The difference between doing it well and doing it wrong is clearly visible:"
   ]
  },
  {
   "cell_type": "code",
   "execution_count": 20,
   "metadata": {
    "scrolled": false
   },
   "outputs": [
    {
     "data": {
      "application/vnd.jupyter.widget-view+json": {
       "model_id": "2f565d920ae640b5bdb3e543227a1db5",
       "version_major": 2,
       "version_minor": 0
      },
      "text/plain": [
       "FigureWidget({\n",
       "    'data': [{'hoverinfo': 'none',\n",
       "              'line': {'color': 'rgb(31, 119, 180)', 'dash':…"
      ]
     },
     "metadata": {},
     "output_type": "display_data"
    }
   ],
   "source": [
    "frame = OrbitPlotter2D()\n",
    "\n",
    "frame.plot(earth, label=\"Earth\")\n",
    "\n",
    "frame.plot(florence, label=\"Florence (Ecliptic)\")\n",
    "frame.plot(florence_icrs, label=\"Florence (ICRS)\")"
   ]
  },
  {
   "cell_type": "markdown",
   "metadata": {},
   "source": [
    "And now let's do something more complicated: express our orbit with respect to the Earth! For that, we will use GCRS, with care of setting the correct observation time:"
   ]
  },
  {
   "cell_type": "code",
   "execution_count": 21,
   "metadata": {},
   "outputs": [],
   "source": [
    "from astropy.coordinates import GCRS, CartesianRepresentation"
   ]
  },
  {
   "cell_type": "code",
   "execution_count": 22,
   "metadata": {},
   "outputs": [],
   "source": [
    "florence_heclip = florence.frame.realize_frame(\n",
    "    florence.represent_as(CartesianRepresentation)\n",
    ")"
   ]
  },
  {
   "cell_type": "code",
   "execution_count": 23,
   "metadata": {},
   "outputs": [
    {
     "data": {
      "text/plain": [
       "<CartesianRepresentation (x, y, z) in km\n",
       "    (-1.43011927e+08, 2.0105151e+08, 1.66487175e+08)\n",
       " (has differentials w.r.t.: 's')>"
      ]
     },
     "execution_count": 23,
     "metadata": {},
     "output_type": "execute_result"
    }
   ],
   "source": [
    "florence_gcrs_trans_cart = florence_heclip.transform_to(\n",
    "    GCRS(obstime=EPOCH)\n",
    ").represent_as(CartesianRepresentation)\n",
    "\n",
    "florence_gcrs_trans_cart"
   ]
  },
  {
   "cell_type": "code",
   "execution_count": 24,
   "metadata": {},
   "outputs": [
    {
     "data": {
      "text/plain": [
       "296827048 x -296827562 km x 36.8 deg (GCRS) orbit around Earth (♁) at epoch 2017-09-01 12:05 (TDB)"
      ]
     },
     "execution_count": 24,
     "metadata": {},
     "output_type": "execute_result"
    }
   ],
   "source": [
    "florence_hyper = Orbit.from_vectors(\n",
    "    Earth,\n",
    "    r=florence_gcrs_trans_cart.xyz,\n",
    "    v=florence_gcrs_trans_cart.differentials['s'].d_xyz,\n",
    "    epoch=EPOCH\n",
    ")\n",
    "florence_hyper"
   ]
  },
  {
   "cell_type": "markdown",
   "metadata": {},
   "source": [
    "We now retrieve the ephemerides of the Moon, which are given directly in GCRS:"
   ]
  },
  {
   "cell_type": "code",
   "execution_count": 25,
   "metadata": {},
   "outputs": [
    {
     "data": {
      "text/plain": [
       "367937 x 405209 km x 19.4 deg (GCRS) orbit around Earth (♁) at epoch 2017-09-01 12:05 (TDB)"
      ]
     },
     "execution_count": 25,
     "metadata": {},
     "output_type": "execute_result"
    }
   ],
   "source": [
    "moon = Orbit.from_body_ephem(Moon, EPOCH)\n",
    "moon"
   ]
  },
  {
   "cell_type": "code",
   "execution_count": 26,
   "metadata": {},
   "outputs": [
    {
     "data": {
      "application/vnd.jupyter.widget-view+json": {
       "model_id": "ca23b4dfabac4f809e9abb7ff887106d",
       "version_major": 2,
       "version_minor": 0
      },
      "text/plain": [
       "FigureWidget({\n",
       "    'data': [{'hoverinfo': 'none',\n",
       "              'line': {'color': 'rgb(31, 119, 180)', 'dash':…"
      ]
     },
     "metadata": {},
     "output_type": "display_data"
    }
   ],
   "source": [
    "moon.plot(label=Moon)"
   ]
  },
  {
   "cell_type": "markdown",
   "metadata": {},
   "source": [
    "And now for the final plot:"
   ]
  },
  {
   "cell_type": "code",
   "execution_count": 27,
   "metadata": {},
   "outputs": [],
   "source": [
    "import matplotlib.pyplot as plt\n",
    "plt.ion()\n",
    "\n",
    "from poliastro.plotting.static import StaticOrbitPlotter"
   ]
  },
  {
   "cell_type": "code",
   "execution_count": 28,
   "metadata": {},
   "outputs": [
    {
     "name": "stderr",
     "output_type": "stream",
     "text": [
      "/home/lobo/Documentos/Github/poliastro/src/poliastro/twobody/orbit.py:838: OrbitSamplingWarning:\n",
      "\n",
      "anomaly outside range, clipping\n",
      "\n"
     ]
    },
    {
     "data": {
      "image/png": "[encoded data removed]",
      "text/plain": [
       "<Figure size 1008x432 with 1 Axes>"
      ]
     },
     "metadata": {
      "needs_background": "light"
     },
     "output_type": "display_data"
    }
   ],
   "source": [
    "frame = StaticOrbitPlotter()\n",
    "\n",
    "# This first plot sets the frame\n",
    "frame.plot(florence_hyper, label=\"Florence\")\n",
    "\n",
    "# And then we add the Moon\n",
    "frame.plot(moon, label=Moon)\n",
    "\n",
    "plt.xlim(-1000000, 8000000)\n",
    "plt.ylim(-5000000, 5000000)\n",
    "\n",
    "plt.gcf().autofmt_xdate()"
   ]
  },
  {
   "cell_type": "markdown",
   "metadata": {},
   "source": [
    "<div style=\"text-align: center; font-size: 3em;\"><em>Per Python ad astra!</em></div>"
   ]
  }
 ],
 "metadata": {
  "kernelspec": {
   "display_name": "Python 3",
   "language": "python",
   "name": "python3"
  },
  "language_info": {
   "codemirror_mode": {
    "name": "ipython",
    "version": 3
   },
   "file_extension": ".py",
   "mimetype": "text/x-python",
   "name": "python",
   "nbconvert_exporter": "python",
   "pygments_lexer": "ipython3",
   "version": "3.7.1"
  },
  "nbsphinx": {
   "execute": "never"
  },
  "widgets": {
   "application/vnd.jupyter.widget-state+json": {
    "state": {
     "5e7f3f7f7fd24be98b6d7902f96f513c": {
      "buffers": [
       {
        "data": "YcaocXCfoUE6rub0PZahQXPdrvmveqFBHN5m5+JMoUF3yYP0BQ2hQXdM3/Vau6BBa1/bGjZYoEF8SDUt+8efQW+/TW1Svp5BSU3kzoOUnUHoF2ROwkucQeKcTM9g5ZpBbT/cvtBimUH3IkCXoMWXQa7e0UR6D5ZBEHYKbyFClEEZK++mcV+SQT8X2HxcaZBBGsET/87DjEHgf2ZNVJaIQTWa6FWXToRBny2iNgPif0Hmx/VKJgR3QaJFbHd3GWxBvNRCzAYUVEFM5IZS4yZQwYTWk1I7LGrB47vvANkWdsG2jRwXowJ/weGv7N4k6IPBYgY27Fw7iMFKFQdbhHaMwZxBvlCfSpDBQEqTQaZJksGkIuQ4SDaUwQw4r2WJDpbB4sCH+ILQl8HZQmYZZXqZwWF9zMV4CpvBv9dPlSF/nMGG1bdi39adwQ9Z+tdPEJ/BO8G+7RcVoME9VJNurpGgwVyL7wBr/aDBW+kslt5XocHyuwTxq6ChwToTrQWI16HBM680Rzr8ocEMJc7hnA6iwQglzuGcDqLBJ680Rzr8ocElE60FiNehwdS7BPGroKHBNekslt5XocEui+8Aa/2gwQlUk26ukaDBAMG+7RcVoMGCWPrXTxCfwfPUt2Lf1p3BGNdPlSF/nMGufMzFeAqbwRZCZhllepnBHMCH+ILQl8E+N69liQ6Wwcoh5DhINpTBT0mTQaZJksGjQL5Qn0qQwVUTB1uEdozBXAQ27Fw7iMHZrezeJOiDwZCJHBejAn/BwbfvANkWdsEuzpNSOyxqwSbThlLjJlDBquVCzAYUVEHrTWx3dxlsQezL9UomBHdB3jGiNgPif0ExnOhVl06EQdWBZk1UlohBDMMT/87DjEEsGNh8XGmQQfsr76ZxX5JB6XYKbyFClEGC39FEeg+WQbwjQJegxZdBKEDcvtBimUGMnUzPYOWaQYsYZE7CS5xB203kzoOUnUHyv01tUr6eQepINS37x59Bn1/bGjZYoEGhTN/1WrugQZnJg/QFDaFBON5m5+JMoUGE3a75r3qhQUOu5vQ9lqFBYMaocXCfoUE=",
        "encoding": "base64",
        "path": [
         "_data",
         0,
         "x",
         "value"
        ]
       },
       {
        "data": "AAAAAACMwD6iBTM0WRtiQcgyWxgEEnJBEPur/boDe0FLyUKAzOyBQYC+/kVBRYZBWHebEcGGikGECMjO6KyOQURmgcy4WZFBo3wekhpLk0HLSPIBmSiVQdf09eVH8JZB+5DGg1GgmEEBx9mA+DaaQcJikq2ZsptBoXRbta0RnUGEoQyyylKeQefM96CldJ9BHMgP3Ak7oEEhYhvNBaugQavPFTTTCaFBTTeSVxBXoUHBS/yYbZKhQdYZq8atu6FBv4j1WqbSoUHIhgeoP9ehQUSzSvB0yaFBj1xJa1SpoUGKyAY3/3ahQe7i2zWpMqFBF4L72JjcoEEYZNXXJnWgQQZ8Ral7+Z9BzUT13LPnnkHLG7+CELadQen7k6nMZZxBwAWM8kL4mkF7YZYr7G6ZQQwyDstdy5dBkP3ETUgPlkFiYjF5dTyUQUenjYPGVJJB0pTMIzJakEGC1ccWhZ2MQfBEBZgmaYhBsbq7Vp4bhEEpYEedt3J/QWSEkbLHjXZB+NggFjAja0GwrrLurh1SQTq/su6uHVLBYeEgFjAja8GMiJGyx412wUZkR523cn/Bwry7Vp4bhMHlRgWYJmmIwWrXxxaFnYzBwJXMIzJakMEwqI2DxlSSwTljMXl1PJTBav7ETUgPlsHWMg7LXcuXwT5ilivsbpnBcQaM8kL4msGM/JOpzGWcwV8cv4IQtp3BWUX13LPnnsGEfEWpe/mfwU5k1dcmdaDBRIL72JjcoMEU49s1qTKhwabIBjf/dqHBpVxJa1SpocFQs0rwdMmhwc2GB6g/16HBu4j1WqbSocHIGavGrbuhwaxL/JhtkqHBLjeSVxBXocGGzxU00wmhwfJhG80Fq6DB5McP3Ak7oMFtzPegpXSfwfqgDLLKUp7BCnRbta0RncEYYpKtmbKbwU7G2YD4NprBPpDGg1GgmMET9PXlR/CWwfNH8gGZKJXBxnsekhpLk8FgZYHMuFmRwbIGyM7orI7BaHWbEcGGisGKvP5FQUWGwUvHQoDM7IHB7/ar/boDe8GXLlsYBBJywWP9MjRZG2LBAAAAAAAMwD4=",
        "encoding": "base64",
        "path": [
         "_data",
         0,
         "y",
         "value"
        ]
       },
       {
        "data": "5qXH3wPMmcE=",
        "encoding": "base64",
        "path": [
         "_data",
         1,
         "x",
         "value"
        ]
       },
       {
        "data": "zAUZ3ZIdmcE=",
        "encoding": "base64",
        "path": [
         "_data",
         1,
         "y",
         "value"
        ]
       },
       {
        "data": "WJhqg1uLh8GStX5xIqaAwWAcJ8jnO3PBhMEZLnzQU8GZv4q5ufhiQZifToapBnhB84Ma9eRNg0F8CTjsWpaKQT6ipl2a6pBBUo2RLn2BlEFN1LizIgyYQaEP11XkhptB7eTq3ivunkH9A12WOx+hQeUEUectuqJBLE5+RUVGpEEwDztk6cGlQbwW6euSK6dBNkRdDc2BqEFhSiwCN8OpQbKeUHiF7qpBBLqy54MCrEGWmzPQFf6sQVS28d434K1BlPmZ+QCorkHwZrEuo1SvQcWD34ls5a9BXGiv5eMssEHcF+uAnliwQVhQ/gK5dbBB+/DDaxWEsEFCFIPtpIOwQRyXMfxndLBBBpD8TG5WsEGPMRfG1imwQd+Rwb2e3a9BVFwF4SlLr0Eh+23u5ZyuQdSF8YiG061B+ZfbRNvvrEF3JtPRzvKrQX0X7whm3apBxP3S376wqUFYI+lBD26oQUvA6dCjFqdBkq74jd6rpUHbDrtsNS+kQfcH3dEwoqJBAP2U/mkGoUHlW4rVErueQZRE3R6KUptBI85wRr3Wl0EhBrmVQ0uUQRf9sH7Es5BBTJ8nr+cnikHcU58THN+CQVy7h+BQKXdBvFOm/kJAYUEkU0huaDlXwczv0ZVBE3TBnWSkuO8PgcGwT8ka3PKHwWpS5K5Mq47BQ/DC/imZksG5fDG/m8CVwado+kO7yJjBjoy4gWium8ETBBnvpm6ewZ56ekxQg6DBllpSh9S5ocFmc8QRoNmiwRMmeUGK4aPBRQXgCYPQpMEh9Z4UlKWlwes0gL/hX6bBuJDZ/qv+psHIWYMjT4GnwWUUk4NE56fBWu0rBSMwqMEj39WKn1uowSrZ60CNaajBfBfRy91ZqMFuCb5WoSyowVKFFYMG4qfBjndTOFp6p8G7mcZUB/amwYnpZj+WVabBJG46W6yZpcHbPNlcC8OkwQ96wIKQ0qPBHCtCsTPJosGm8PxyBqihwRYS494ycKDBsQfnyfRFnsE0UMMFaYObwcywAsSam5jBOGzIv4iRlcHrbFYGVWiSwcEYj3iDRo7BX5hqg1uLh8E=",
        "encoding": "base64",
        "path": [
         "_data",
         2,
         "x",
         "value"
        ]
       },
       {
        "data": "QxQyxkcDocEoxwzP3I+hweL2OFN7/aHBJ6FDU7JLosFMbAgvMXqiwVT1zfjHiKLBr7Wtpmd3osHGkhQiIkaiwYIcTDUq9aHBPYMfV9OEocFKPdJUkfWgwTkMwdr3R6DBj91QuHP5nsEh1Fq1USmdwYChzRxoIZvBKE6L3s7jmMGzqbVB1XKWwZzGLYP/0JPBtNd7PQQBkcHj/Zc5kwuMwQ5FxMPExIXB5qRl3CpofsHSc81qk8BwwWig1jy0BkXB9w3OPfnQZ0E0mQsDasx6QasgAx3M/YRBCL84IzCzjEFSNrNuNz+SQTrs08a/K5ZBKHKLmyUbmkGvrE56WgmeQX5Zd5Uo+aBBKoFk7gDpokHBvzInN9KkQc/wnPXSsqZBlyOq7eSIqEHun16AiFKqQSI3Ou/lDaxBDv2AMjS5rUG4I1nQulKvQXorbNFpbLBBe0WWRfYksUE81g+IRNKxQdhzJfOhc7JBCJ4yMGgIs0FH2hjj/Y+zQQXiVUjXCbRBc+0VxXZ1tEHnl61obdK0QTzm9V5bILVB0owUU/BetUGPoUrC6421QdZddD4drbVBymP1n2S8tUHuEN4msru1QRmzJ4sGq7VBl+P2+3KKtUHFy+QNGVq1QdmVYZgqGrVBYrhTgunKtEGgEil+p2y0Qbbgn7XF/7NBDVeeZbSEs0HDI4Bq8vuyQXYZUb0MZrJBc9B74p3DsUGXCoJKTRWxQe8JY6XOW7BBX4vDUsIvr0Eq2tObnZStQfrLvfbW56tBbsZWYSgrqkHXfOU+XGCoQVLTnX9LiaZBEQYdudunpEGdntwx/b2iQVYyoOGozaBB+4Da0byxnUGShksDRMOZQQs1ytX005VB7rOHpN3nkUE+y6byEgaMQXOSVMP3UoRBJAD3LbN8eUESoqxvI0BlQWwoZ7MXBU/BjCmguXf2ccGsLMOZ55J/wa/3x2D1U4bBEWmCegKUjMHQ+QHelEGRwR/Ms5WmDZTBeyWXQFSrlsFEZQON6xeZwXJT/8LsUJvBy7KwVw1UncErIPtJOh+fwZ5+7yJNWKDBQxQyxkcDocE=",
        "encoding": "base64",
        "path": [
         "_data",
         2,
         "y",
         "value"
        ]
       },
       {
        "data": "hyQQi0EVmsE=",
        "encoding": "base64",
        "path": [
         "_data",
         3,
         "x",
         "value"
        ]
       },
       {
        "data": "5aT7IQs6msE=",
        "encoding": "base64",
        "path": [
         "_data",
         3,
         "y",
         "value"
        ]
       },
       {
        "data": "46tIvk28jMER37WrbjSGwTcA/mn2/37BpYr6ablLccF4lKCsNdJKwcr7rXgEjGVBsqAbrZEGeUGWBnNMW6yDQWae1O3W1opBnWsvWqz9kEHV7V/hQYmUQWOmzn2ECphBLKwuRdd9m0Hxjv+qq9+eQSoxlZVCFqFBLwsEcX6wokG4XQ6H4jykQeAl9TvWuaVB5yMs3tAlp0Hj4yU7W3+oQeq6FiIRxalB6Qkg06L1qkHNSWlZ1g+sQVMdws6IEq1Bisx/h6/8rUHLDmElWc2uQTbGXJCug69Ba5kt6nkPsEFmh3pxRE+wQdNtOBz1gLBB0iaqsViksEEDC/+2SrmwQaCY7ZS1v7BBLhn1rZK3sEF7VC9l6qCwQYdJqxXUe7BBrdZZ+nVIsEF5IqUGBQewQVHJtl+Jb69BcqZKTw22rkGKw58PVeKtQe1DgN869axBQ7XtJ7Pvq0Ecky+Ay9KqQV3V7Jepn6lBrABvCIpXqEE+ykYOv/umQd+5oiyvjaVBRDK/u9MOpEHl0+xjt4CiQckwvob05KBBA1wAMGd6nkEZR2LQUhabQcqBc8QqoZdB07lvfH8elEE6PW1W75GQQb8Q48ZF/olB19gERJLTgkGE9lvITlZ3QRJzkjKYMWJB7HazmNYKVMG8L0Gkq+1ywXCd/YzeTIDBBsWUCmn8hsHi6sP/kH6NwevBBXVQ5pHBQm0AfQzwlMHewDLjWtmXwYUEfmA7n5rBgBY5M9I+ncHB438Ra7WfwUvYafk9AKHBxEkW19MOosFotOQ0YAWjwcaaHe3k4qPBT5otp32mpMFAuQfDYE+lwchX/Cjg3KXB/IUu/WlOpsHwwO41iaOmwUUaYBTm26bBsmzrfkb3psHdYCM9jvWmwe+F2xS/1qbBI4FUyPiapsGqNn/1eEKmwQereNaazaXBDhaA49Y8pcGnF8hWwpCkwbwQo5IOyqPB+zGpaojposHSvJRQF/ChwaEcrmW83qDBsIx74yJtn8EbMCqBj/GcwRpHs85NTZrBNpeu5RaDl8ETlWoAy5WUwRT/AINuiJHB6qtIvk28jME=",
        "encoding": "base64",
        "path": [
         "_data",
         4,
         "x",
         "value"
        ]
       },
       {
        "data": "JDfhr/B6oMEzxMv0MQKhwRLYBD96a6HBQHSLB122ocFQC7ccjeKhwaw/yvHc76HBLAjnzT7eocHb0zPaxK2hwSIYIw+hXqHBjJXwACXxoMFSbImLwWWgwQhga7wMep/BsM32zkLvncFPRKdDvCycwX0D1YNJNJrB8bGEjvIHmMFTZmHg9KmVwSP6kiTBHJPBhwjSsPhikMHHvKKe1f6KwUKskLIj6oTByL5plEAcfcFbrTFaZsVvwVjO/60IqkHBUMbep/i7Z0F+gsDDgkh6QTFT4fm6fYRBRQLoetfzi0HcgIL0cr+RQSxAjNiPi5VBxsxfVlhamUGqEiCa3yedQQlUiA0deKBB+WEG08BXokHhQj+x7DCkQWnw2Oa4AaZBTTY0VEbIp0F0xFBpwIKpQVBNzghfL6tBEM0YXmjMrEHJTtukMliuQd2z498l0a9BC4nZvt6asEFkkYT0REKxQeLu5gEZ3rFB+FRpRbptskFdNX6wlPCyQaGFQGAhZrNBx/B+KOfNs0GHIKQQeye0QWFc+8GAcrRBuNPf5qqutEHvdHR6u9u0QTokkgiE+bRB6muq3eUHtUGCSW0m0ga1QQR4Ef9J9rRBnHYvcl7WtEHgeTBnMKe0QeViY4DwaLRBSrPa6N4btEFqK0cSS8CzQVhCE2OTVrNBI+IT1STfskFxtzKFelqyQazghTQdybFBP85Xu6IrsUFTpLBurYKwQfyuAPLWna9BRwUsTSwirkEwDjtN4pOsQa+50IKT9KpBdAKjCexFqUFoTC3Pp4mnQZorFMmQwaVBxUoSHX3vo0HhEFU8TRWiQZuZPPTpNKBBdAj77ISgnEF8/Ve1lNKYQaR7fDbvA5VBcX0yIIE4kUGy5fSiZ+iKQYounqDSdYNBHiHxI+FBeEEeykjJQMVjQbrBalUxjVDBLMWWd3DBccGohhVrwul+wdilWAZZx4XBKUkgVJvRi8F0eQgat8aQwX2m1Ep0epPBqD81LTwBlsHan/UJdFiYweq6LzGyfZrBscYFd8BunMHKYUF7nimewSKcfrmDrJ/BIzfhr/B6oME=",
        "encoding": "base64",
        "path": [
         "_data",
         4,
         "y",
         "value"
        ]
       },
       {
        "data": "e/7qdPcwm8E=",
        "encoding": "base64",
        "path": [
         "_data",
         5,
         "x",
         "value"
        ]
       },
       {
        "data": "ldTh+vrNmcE=",
        "encoding": "base64",
        "path": [
         "_data",
         5,
         "y",
         "value"
        ]
       }
      ],
      "model_module": "plotlywidget",
      "model_module_version": "^0.6.0",
      "model_name": "FigureModel",
      "state": {
       "_config": {
        "plotlyServerURL": "https://plot.ly"
       },
       "_data": [
        {
         "hoverinfo": "none",
         "line": {
          "color": "rgb(31, 119, 180)",
          "dash": "dash",
          "width": 2
         },
         "mode": "lines",
         "name": "2017-09-01 12:05 (Earth)",
         "type": "scatter",
         "uid": "312e0547-0af9-447c-ab04-e56f715aa63f",
         "x": {
          "dtype": "float64",
          "shape": [
           100
          ],
          "value": {}
         },
         "y": {
          "dtype": "float64",
          "shape": [
           100
          ],
          "value": {}
         }
        },
        {
         "marker": {
          "color": "rgb(31, 119, 180)",
          "size": 10
         },
         "mode": "markers",
         "name": "2017-09-01 12:05 (Earth)",
         "type": "scatter",
         "uid": "96bfd686-38de-4344-9ba3-880b2d2fd49d",
         "x": {
          "dtype": "float64",
          "shape": [
           1
          ],
          "value": {}
         },
         "y": {
          "dtype": "float64",
          "shape": [
           1
          ],
          "value": {}
         }
        },
        {
         "hoverinfo": "none",
         "line": {
          "color": "rgb(255, 127, 14)",
          "dash": "dash",
          "width": 2
         },
         "mode": "lines",
         "name": "2017-09-01 12:05 (Florence (Ecliptic))",
         "type": "scatter",
         "uid": "e1d789c6-0a31-42c1-8e6b-431e63cea45a",
         "x": {
          "dtype": "float64",
          "shape": [
           100
          ],
          "value": {}
         },
         "y": {
          "dtype": "float64",
          "shape": [
           100
          ],
          "value": {}
         }
        },
        {
         "marker": {
          "color": "rgb(255, 127, 14)",
          "size": 10
         },
         "mode": "markers",
         "name": "2017-09-01 12:05 (Florence (Ecliptic))",
         "type": "scatter",
         "uid": "eed6e790-bbee-4806-87d6-10cb07d70239",
         "x": {
          "dtype": "float64",
          "shape": [
           1
          ],
          "value": {}
         },
         "y": {
          "dtype": "float64",
          "shape": [
           1
          ],
          "value": {}
         }
        },
        {
         "hoverinfo": "none",
         "line": {
          "color": "rgb(44, 160, 44)",
          "dash": "dash",
          "width": 2
         },
         "mode": "lines",
         "name": "2017-09-01 12:05 (Florence (ICRS))",
         "type": "scatter",
         "uid": "9f451c54-1687-4442-936c-5912bd6a66be",
         "x": {
          "dtype": "float64",
          "shape": [
           100
          ],
          "value": {}
         },
         "y": {
          "dtype": "float64",
          "shape": [
           100
          ],
          "value": {}
         }
        },
        {
         "marker": {
          "color": "rgb(44, 160, 44)",
          "size": 10
         },
         "mode": "markers",
         "name": "2017-09-01 12:05 (Florence (ICRS))",
         "type": "scatter",
         "uid": "b8f5de1c-ed94-4fcb-b7b1-75be0e01905b",
         "x": {
          "dtype": "float64",
          "shape": [
           1
          ],
          "value": {}
         },
         "y": {
          "dtype": "float64",
          "shape": [
           1
          ],
          "value": {}
         }
        }
       ],
       "_js2py_pointsCallback": {},
       "_js2py_relayout": {},
       "_js2py_restyle": {},
       "_js2py_update": {},
       "_last_layout_edit_id": 7,
       "_last_trace_edit_id": 7,
       "_layout": {
        "autosize": true,
        "shapes": [
         {
          "fillcolor": "#ffcc00",
          "line": {
           "color": "#ffcc00"
          },
          "opacity": 1,
          "type": "circle",
          "x0": -22174626.124446128,
          "x1": 22174626.124446128,
          "xref": "x",
          "y0": -22174626.124446128,
          "y1": 22174626.124446128,
          "yref": "y"
         }
        ],
        "template": {},
        "xaxis": {
         "constrain": "domain",
         "title": "x (km)"
        },
        "yaxis": {
         "scaleanchor": "x",
         "title": "y (km)"
        }
       },
       "_py2js_animate": {},
       "_py2js_deleteTraces": {},
       "_py2js_moveTraces": {},
       "_py2js_removeLayoutProps": {},
       "_py2js_removeTraceProps": {},
       "_py2js_restyle": {},
       "_view_count": 1
      }
     },
     "618acf6a25984266bde6ec61d0aff11c": {
      "buffers": [
       {
        "data": "JNkhtl/jgEF1TI2LFPyBQT4465sJ/oJBi0LM/jTog0EuMSBRpbmEQSyaCa6CcYVBXjtqjQ8PhkH6kEKHqZGGQe9FG/vJ+IZBouvLmgZEh0FR6w/YEXOHQbm7eDS7hYdBlPFqc+97h0ECpPKtuFWHQWazWkg+E4dBG66RycS0hkEmLoaUrTqGQQCBw4N2pYVBDhW2Z7n1hEGsZx1oKyyEQUXlTkmcSYNBxzkKlvVOgkEQ17uuOT2BQWfaJb+CFYBBL7sDNwOyfUHeEY8M+RF7QV+dt7+bTXhBX/0Gg8VndUFQgRIKc2NyQSyja+qAh25B8bzROcwXaEEyE/5/an5hQTTz7WBShFVBPkQRjM1PP0Ealk5grhg4werFQyXD+1PB6zQRxDf/YMGcZRzE3/9nwXTmF6qh+G7BAabi2CbxcsEK9+XR4Vp2wRL5FBf9tXnBIKqFEgP/fMFPOCNpSBmAwVFFBMOspoHB0R398hQmg8Fwgqe/9ZWEwXuth/HT9IXBmPTz2UVBh8G0PunH9HmIwdr6S2menYnBO3QpFxarisFrBKMLRqGLwTCrQ4Awf4zBDOOYs/BDjcGGCQHVu+6NwWRIvNXhfo7BCn1oHs7zjsFeCi0oCE2Pwa2w+Pgzio/BZVlRghKrj8HcGlTiga+PwSdzooZ9l4/BLbkYMR5jj8F86EjemRKPwUAW1I1Dpo7BH+3b7IoejsGYYeTi+3uNwWNJnAE+v4zBJn8h2BPpi8GfoXIqWvqKwWQq3Q0H9InBPXJS6yjXiMFOH6lo5aSHwT1T6jl4XobBZKDi2zEFhcHfPEY5dpqDwUUAzju7H4LBoV3HSoeWgMHOVklx3wB+wZUfWUIuvnrBuYbuc1dod8GT8uwtywJ0wQIgoskJkXDBuqqYa0AtasFrtE+bSC5jwX0fJpvEWFjBaQmuzBq7RMF8J+r6VjUsQVAh52GSRVFBsaxoxP3QXkFG3i9eew1mQX1gDTvlimxBvKHo7AVtcUG4oOIlN3p0QfgAXAPhaXdBK4CVsPw4ekGrs9/npOR8Qfabue4Yan9BJNkhtl/jgEE=",
        "encoding": "base64",
        "path": [
         "_data",
         0,
         "x",
         "value"
        ]
       },
       {
        "data": "eEseZsjRfcGvs5x/gSJ7wQZOE/LST3jBjIREsqVcdcGnYQo0BExywYjoyI8uQm7B3/tyskW+Z8FPtlAhBRNhwdKRgXeZjlTBZPwrye4QO8Gkq8V9X6s8QVZtrjhEMFVB6DCmpcqeYUGfBhVzJ6JoQXpT0NH9mm9BTrI/9A5Bc0F6TekPNah2QSLaHzxv/3lBvC+u4ktDfUF0rNixNjiAQZh848bGwYFBOigKf8A8g0FQmVUynaeEQQhk99TmAIZBGO/ceDlHh0EN75W8RHmIQST/EybNlYlBzefdZ62bikHnWWeP14mLQWF1VRtWX4xB4kKR+EwbjUGCQSNl+ryNQbAu7re3Q45B0SV7DPqujkG6/yXSUv6OQTVcFj5wMY9B8diPnx1Ij0GrjEKWQ0KPQV7JYyroH49BkU52xi7hjkHEVMgSWIaOQdoTzbLBD45B+niW5OV9jUGwi9ICW9GMQVxnzunSCoxBloweQBori0FEiamjFzOKQZls7rvKI4lBPhV8Mkv+h0GeAKmSx8OGQePGtBGEdYVB5b6UQNkUhEHwScSoMqOCQeLphlUNIoFBEtk8luwlf0EqIhTbEe97QQ0L6bDaonhBPsELVK1EdUHBfriEAthxQeSC5eXDwGxBu8D1Nb3CZUEx/XhYTHpdQXQVcx3v3E5BuEDPfGsHF0HLb3aIk+JIwSAOkpx6KFrBAFPwM3zTY8E06p4XbW9qwaaTOfGfcHDBnlb78yeRc8EC4ZpfFZZ2wcZHA3RLfHnBfkjTGs1AfMGudwj8v+B+wUP2bLe3rIDBvS3doSfUgcG1zVAyf+WCwahJdKSk34PBei0YHZbBhMGL3/6zaoqFwRyW8mNTOYbBEwMs4JvNhsECvC1Oq0aHwZ3IVOMEpIfBcet7ZUjlh8EKCy2OMgqIwSB7+k+dEojBaam4/X/+h8EOv29T782HwTb++2AdgYfBXORyVlkYh8EVQ4IyD5SGwYp0HVPH9IXBo2zr6CU7hcExjgZO6meEwV+7vEDue4PBAvYaAyV4gsEo7ytgml2BwZYB7JdxLYDBeUseZsjRfcE=",
        "encoding": "base64",
        "path": [
         "_data",
         0,
         "y",
         "value"
        ]
       },
       {
        "data": "3zTKSOundsE=",
        "encoding": "base64",
        "path": [
         "_data",
         1,
         "x",
         "value"
        ]
       },
       {
        "data": "HKbUIPLqhsE=",
        "encoding": "base64",
        "path": [
         "_data",
         1,
         "y",
         "value"
        ]
       },
       {
        "data": "P8echdOtmUE+dcBFps6ZQYqDcUt51JlBaZS1lUa/mUHo+4T+I4+ZQTRdRCRDRJlBwsOeNvHemEG58fSmll+YQS/os7y2xpdBAKQBDu8Ul0Gbjkvd9kqWQaQVXlyeaZVBxCTI1c1xlEFCu2e9hGSTQU9yFqnYQpJBHGWFMvQNkUGR4d6GK46PQYosvpoc34xB4Ky03H8RikGcIbUHOSiHQRxbEVtIJoRBFy2NgscOgUGmqnjIzMl7Qf9e7a7PV3VBt7sWIXmcbUGV2AgroWdgQTCFTj2k9ThBgjjdEzZhVMECTFY1lXhnwY5Ps5rEVXLBlLqD+O3deMGvjNEAC05/wfaAM2W8z4LB78+0BtrlhcGRvALtL+aIwSjwyBOmzYvBsFC2Gj6ZjsFWJb4tC6OQwfm2GHG26JHBhcaDIlEck8GHnDMsnjyUwaOVU150SJXBBN9eob8+lsG/cLoSgh6XwXLmagrV5pfBem/YCOqWmMFvvquLCy6ZweeL6Midq5nBF82ETx8PmsGEFNeMKViawS2RUjZxhprBMa4jl8aZmsHAUV3BFZKawRwKhKJmb5rBhPth+9wxmsFg+ys7uNmZwZHWHT5TZ5nBbSrR7yPbmMG2XK/RujWYwXv/+2XCd5fBGy4RgP6hlsGhEYN6S7WVweWh+lOdspTB3cixs/6ak8GILJTWj2+SwYD3H2aFMZHBjM9xdE7Ej8HkPmsOngWNwfonB/PNKYrBKOmhgNAzh8ErvnoRsyaEwXpdRNaaBYHBDBdGMIOne8Hqdt/K5Ch1wXTYtrIYLG3B99eUSQLXX8HAl+mhYO00waeEZGFfX1VBjBHO2NvuZ0GX6jVZGIlyQT5Ebp8RBnlB5H0jlKlnf0FwNuIiptOCQcjk+WFE34VBfJ6l4YvTiEHbcBgLca2LQRyoCXoDao5Bd9wkgjiDkEE3SBdRBMCRQU72a5oe6pJBcsq3E1QAlEEfuVf0hQGVQd88EB2r7JVBH3lYKdHAlkGZUjdpHX2XQULtsMLNIJhB/i7ceTmrmEEtB9Le0RuZQXovw+AicplBQMechdOtmUE=",
        "encoding": "base64",
        "path": [
         "_data",
         2,
         "x",
         "value"
        ]
       },
       {
        "data": "JGO61UfMZsF/lZYcixJTweCFJ3ZaHz5BftZ6nJQNYUGOrUPZA0ZuQaxLxSLMr3VBvMf/d2gmfEEWTEWoFkCBQen61mVHW4RBQH6kwZJhh0FWm9+S2k+KQQXdvnEZI41BCsy71GXYj0FCgIuIejaRQWrsxB0Pb5JBojcXc66Uk0EsImXcKaaUQb5sZ3BnopVBDIBGK2OIlkHL36H6L1eXQfUe8bH4DZhBL2xC5gCsmEG3MXSwpTCZQQaTIVVem5lBQq6U0bzrmUG1Vy1NbiGaQRtpx247PJpBOp3IlQg8mkFuJ5v21SCaQdCrd5q/6plB589+Qv2ZmUEfLkAu4i6ZQbvq6cXcqZhBml95KHYLmEFaMGKeUVSXQcx6PfErhZZB6KQuqdqelUGFYsYwS6KUQT3ZRuCBkJNBgihF8ZhqkkHY+rxbvzGRQYwGhDtvzo9BfKwi3qwYjUH0lrLDAkWKQWDoQ+RaVodBajKkCrtPhEHMLLq2QTSBQQe+0sxFDnxBIXKckEmXdUEqsOducRRuQfigogWo22BBnI+UD8COPEFBsVzll3ZTwabuksAN/mbBPToRAmEUcsElzosS65Z4wXFEGCrv/37BNvE42GikgsF+1DUWjLWFwaa2w/g3sIjBUh1DUlqRi8GQ/xxI+1WOwUlvBDGgfZDBIluEvTe/kcFESonIeO6SwYj/QLgqCpTBC1NIHCkRlcHWBh/bZAKWwbZYnEnl3JbBiD9EK8mfl8ELGHWaR0qYwftrftew25jBQ1rL/W5TmcG04GWeBrGZwYvAMz8X9JnBLNVpvlscmsH3WM+ZqimawX+ihxn2G5rBCz82XkzzmcF91m5S16+ZwcPbf3/cUZnBAJTExbzZmMEEWMj480eYwbIAol8YnZfBHxILGtrZlsGDVNJqAv+VwfIAZehyDZXBcF1ElCQGlMEEflfaJuqSwbjBIXmeupHBfHX+U8R4kMGSWjFhyEuOwTSb18G2hovBw5xati6liMHsziWCKKqFwbH48q+2mILBRNICzgXofsGwjvRQlX54wROsvPC3+3HBMWO61UfMZsE=",
        "encoding": "base64",
        "path": [
         "_data",
         2,
         "y",
         "value"
        ]
       },
       {
        "data": "XfvjEzwilUE=",
        "encoding": "base64",
        "path": [
         "_data",
         3,
         "x",
         "value"
        ]
       },
       {
        "data": "4vh+tc7ujcE=",
        "encoding": "base64",
        "path": [
         "_data",
         3,
         "y",
         "value"
        ]
       },
       {
        "data": "YcaocXCfoUE6rub0PZahQXPdrvmveqFBHN5m5+JMoUF3yYP0BQ2hQXdM3/Vau6BBa1/bGjZYoEF8SDUt+8efQW+/TW1Svp5BSU3kzoOUnUHoF2ROwkucQeKcTM9g5ZpBbT/cvtBimUH3IkCXoMWXQa7e0UR6D5ZBEHYKbyFClEEZK++mcV+SQT8X2HxcaZBBGsET/87DjEHgf2ZNVJaIQTWa6FWXToRBny2iNgPif0Hmx/VKJgR3QaJFbHd3GWxBvNRCzAYUVEFM5IZS4yZQwYTWk1I7LGrB47vvANkWdsG2jRwXowJ/weGv7N4k6IPBYgY27Fw7iMFKFQdbhHaMwZxBvlCfSpDBQEqTQaZJksGkIuQ4SDaUwQw4r2WJDpbB4sCH+ILQl8HZQmYZZXqZwWF9zMV4CpvBv9dPlSF/nMGG1bdi39adwQ9Z+tdPEJ/BO8G+7RcVoME9VJNurpGgwVyL7wBr/aDBW+kslt5XocHyuwTxq6ChwToTrQWI16HBM680Rzr8ocEMJc7hnA6iwQglzuGcDqLBJ680Rzr8ocElE60FiNehwdS7BPGroKHBNekslt5XocEui+8Aa/2gwQlUk26ukaDBAMG+7RcVoMGCWPrXTxCfwfPUt2Lf1p3BGNdPlSF/nMGufMzFeAqbwRZCZhllepnBHMCH+ILQl8E+N69liQ6Wwcoh5DhINpTBT0mTQaZJksGjQL5Qn0qQwVUTB1uEdozBXAQ27Fw7iMHZrezeJOiDwZCJHBejAn/BwbfvANkWdsEuzpNSOyxqwSbThlLjJlDBquVCzAYUVEHrTWx3dxlsQezL9UomBHdB3jGiNgPif0ExnOhVl06EQdWBZk1UlohBDMMT/87DjEEsGNh8XGmQQfsr76ZxX5JB6XYKbyFClEGC39FEeg+WQbwjQJegxZdBKEDcvtBimUGMnUzPYOWaQYsYZE7CS5xB203kzoOUnUHyv01tUr6eQepINS37x59Bn1/bGjZYoEGhTN/1WrugQZnJg/QFDaFBON5m5+JMoUGE3a75r3qhQUOu5vQ9lqFBYMaocXCfoUE=",
        "encoding": "base64",
        "path": [
         "_data",
         4,
         "x",
         "value"
        ]
       },
       {
        "data": "AAAAAACMwD6iBTM0WRtiQcgyWxgEEnJBEPur/boDe0FLyUKAzOyBQYC+/kVBRYZBWHebEcGGikGECMjO6KyOQURmgcy4WZFBo3wekhpLk0HLSPIBmSiVQdf09eVH8JZB+5DGg1GgmEEBx9mA+DaaQcJikq2ZsptBoXRbta0RnUGEoQyyylKeQefM96CldJ9BHMgP3Ak7oEEhYhvNBaugQavPFTTTCaFBTTeSVxBXoUHBS/yYbZKhQdYZq8atu6FBv4j1WqbSoUHIhgeoP9ehQUSzSvB0yaFBj1xJa1SpoUGKyAY3/3ahQe7i2zWpMqFBF4L72JjcoEEYZNXXJnWgQQZ8Ral7+Z9BzUT13LPnnkHLG7+CELadQen7k6nMZZxBwAWM8kL4mkF7YZYr7G6ZQQwyDstdy5dBkP3ETUgPlkFiYjF5dTyUQUenjYPGVJJB0pTMIzJakEGC1ccWhZ2MQfBEBZgmaYhBsbq7Vp4bhEEpYEedt3J/QWSEkbLHjXZB+NggFjAja0GwrrLurh1SQTq/su6uHVLBYeEgFjAja8GMiJGyx412wUZkR523cn/Bwry7Vp4bhMHlRgWYJmmIwWrXxxaFnYzBwJXMIzJakMEwqI2DxlSSwTljMXl1PJTBav7ETUgPlsHWMg7LXcuXwT5ilivsbpnBcQaM8kL4msGM/JOpzGWcwV8cv4IQtp3BWUX13LPnnsGEfEWpe/mfwU5k1dcmdaDBRIL72JjcoMEU49s1qTKhwabIBjf/dqHBpVxJa1SpocFQs0rwdMmhwc2GB6g/16HBu4j1WqbSocHIGavGrbuhwaxL/JhtkqHBLjeSVxBXocGGzxU00wmhwfJhG80Fq6DB5McP3Ak7oMFtzPegpXSfwfqgDLLKUp7BCnRbta0RncEYYpKtmbKbwU7G2YD4NprBPpDGg1GgmMET9PXlR/CWwfNH8gGZKJXBxnsekhpLk8FgZYHMuFmRwbIGyM7orI7BaHWbEcGGisGKvP5FQUWGwUvHQoDM7IHB7/ar/boDe8GXLlsYBBJywWP9MjRZG2LBAAAAAAAMwD4=",
        "encoding": "base64",
        "path": [
         "_data",
         4,
         "y",
         "value"
        ]
       },
       {
        "data": "5qXH3wPMmcE=",
        "encoding": "base64",
        "path": [
         "_data",
         5,
         "x",
         "value"
        ]
       },
       {
        "data": "zAUZ3ZIdmcE=",
        "encoding": "base64",
        "path": [
         "_data",
         5,
         "y",
         "value"
        ]
       },
       {
        "data": "vOstv+EVo8EgtzuyzPOhwfAY8g44vaDBvVAV+cfmnsERexrzSC+cwel7rfq/VpnBm6cqDRxglsHi7m0wa06TwUaVskzXJJDBzQhp00XNicHkqt+kSy6DwQ9W1Ysm53jB9AYLHzKQZsFgEFQdNZRDQZaBcpqROnBBIkJlDNMBfkH8NmiAC92FQSYpY3mcqoxB+ntOmUyxkUGCjQlWCv+UQaVL9qMfO5hBSMnq5zZim0E+EmoqEHGeQU0UoDhCsqBBOMatf8QcokFDaMU7mXajQYJgce9bvqRBX3vZvbrypUHhnQnHdxKnQdjdnW9qHKhBZjqCkoAPqUGmyIqbv+qpQYoGwYlFrapBoBBc2ElWq0EclHNNHuWrQXprmK0vWaxB4sOZUwayrEHUWNqrRu+sQXKjtpKxEK1Bwa6alSQWrUEneYQWmv+sQc5IzlEpzaxB3fo6RgZ/rEEU/lx/gRWsQQU5j8IHkatBsnHVniHyqkFJyxfgcjmqQfF0Sua5Z6lBQZYv4c59qEHtw33xonynQai0UDA/ZaZBa27kncM4pUGhnbT4ZfijQd0cMn5wpaJBD89XlkBBoUFza/vWipqfQZwSu9/8lZxBJvSdpPN3mUFOF6bHpUOWQZxNK99g/JJBVMNpHAxLj0HNrVgRDYWIQYMDAQ7ArYFBVluFs2SYdUG0jKFs3jtfQSByb95DylfB4ZIa8gaec8HUKTSBqZKAwfb/7Y5BPYfB4SORcOzHjcGKkcTu9RWSwfUl6rRUMZXB0hA1qN4ymMFUXsWGehebwUFXFOEs3J3BG+Z1lg0/oMHRQDpbR32hwbW7KbZ7p6LBuO75QXe8o8EASaJ5HLukwZjyrd5koqXBAGzRB2JxpsEl/6yWPienwWWsvhM/w6fB4dmgr8JEqMHfkc7oQ6uowSRwQhVZ9qjBJ2Fiz7QlqcFO7MdFJjmpwRLLkm2ZMKnBv+0RFxcMqcFmoa3kxMuowcU0HCTlb6jBrhkJitb4p8HI9nTQE2enwS5MMzgzu6bBRBMI7uX1pcF7AgVU9xelwW644i9MIqTBv+stv+EVo8E=",
        "encoding": "base64",
        "path": [
         "_data",
         6,
         "x",
         "value"
        ]
       },
       {
        "data": "Lso1SOZcn8F5654nmPmgwTV0InyaMaLBUz51gThVo8GOP5ycRWOkwXKAsG2rWqXB4HvT7mo6psFYNRF7nQGnwc4JIbx1r6fBQiYQfkBDqMFxc/tnZbyowUaLGplnGqnB0NV5KeZcqcEgHN+NnIOpwQ+Ycd5ijqnBlKvc/y19qcEw2MKuD1CpwVApdW02B6nBVeoBVO2iqMHjE8zCmyOowe87+/fEiafBLeExiAfWpsFOhxW7HAmmwYwlUczXI6XBR8jWESUnpMHs2UAICRSjwT80Tkaf66HBm8SNWBmvoMFfNM4Me7+ewSMViQPL/ZvBakFzBfobmcGdViqhAB2WweHNwnP1A5PB2GKZ8xOoj8FymkmJDiGJwfID7i6VeYLBt8e9vQdxd8F/lG3VQ5NjwSw+Icyfp09Bdnk35o68cUEiDnSG+n5/QUgLwO4Dl4ZBF8Pe8s1djUGQ+L6GbwaSQbsYTripTpVBHgA9bjOEmEEtwZ7MvaObQasxb6QQqp5B8oKU4gbKoEGAKcgZWi+iQbaoMKGRg6NBLSHZxE7FpEFG1/zcRfOlQZbX56M/DKdBXrbUdhoPqEEpqHyAy/qoQTgwJsxfzqlBUdsWQP2IqkFx3WV+4ymrQZPRR6tssKtBcTMHGA4crEFvVfnRWGysQRt23BT6oKxBdRApoLu5rEG0dP7ug7asQZ8DcVJWl6xBpu4e7lJcrEHvAg+XtgWsQQ2m+5Tak6tBJqhKRjQHq0GxyRCnVGCqQVCsnbvnn6lBhz0q37PGqEFtZGD3mNWnQdG3jo2PzaZBViZ2zqevpUEDqLlxCH2kQccvEYrtNqNBmgZ5P6feoUFjbK10mHWgQTJgr7Jq+p1B5bLL1APumkEKvzDEIMmXQelixDL/jpRB+fOMuPJCkUHstbPLwtCLQbFUxISABYVBOt3W8z5WfEH9/2h7wCJtQfAqpkjNUilB2yImEtbfacFClTpI/Y96weqxb1/KA4TB8PduyWekisHXFOn8gJGQwWF19ItzvJPB1n2joMfPlsEYMZeiUciZwbHX45YBo5zBKMo1SOZcn8E=",
        "encoding": "base64",
        "path": [
         "_data",
         6,
         "y",
         "value"
        ]
       },
       {
        "data": "x4CA51ncqkE=",
        "encoding": "base64",
        "path": [
         "_data",
         7,
         "x",
         "value"
        ]
       },
       {
        "data": "NYV53dTpmEE=",
        "encoding": "base64",
        "path": [
         "_data",
         7,
         "y",
         "value"
        ]
       },
       {
        "data": "46tIvk28jMER37WrbjSGwTcA/mn2/37BpYr6ablLccF4lKCsNdJKwcr7rXgEjGVBsqAbrZEGeUGWBnNMW6yDQWae1O3W1opBnWsvWqz9kEHV7V/hQYmUQWOmzn2ECphBLKwuRdd9m0Hxjv+qq9+eQSoxlZVCFqFBLwsEcX6wokG4XQ6H4jykQeAl9TvWuaVB5yMs3tAlp0Hj4yU7W3+oQeq6FiIRxalB6Qkg06L1qkHNSWlZ1g+sQVMdws6IEq1Bisx/h6/8rUHLDmElWc2uQTbGXJCug69Ba5kt6nkPsEFmh3pxRE+wQdNtOBz1gLBB0iaqsViksEEDC/+2SrmwQaCY7ZS1v7BBLhn1rZK3sEF7VC9l6qCwQYdJqxXUe7BBrdZZ+nVIsEF5IqUGBQewQVHJtl+Jb69BcqZKTw22rkGKw58PVeKtQe1DgN869axBQ7XtJ7Pvq0Ecky+Ay9KqQV3V7Jepn6lBrABvCIpXqEE+ykYOv/umQd+5oiyvjaVBRDK/u9MOpEHl0+xjt4CiQckwvob05KBBA1wAMGd6nkEZR2LQUhabQcqBc8QqoZdB07lvfH8elEE6PW1W75GQQb8Q48ZF/olB19gERJLTgkGE9lvITlZ3QRJzkjKYMWJB7HazmNYKVMG8L0Gkq+1ywXCd/YzeTIDBBsWUCmn8hsHi6sP/kH6NwevBBXVQ5pHBQm0AfQzwlMHewDLjWtmXwYUEfmA7n5rBgBY5M9I+ncHB438Ra7WfwUvYafk9AKHBxEkW19MOosFotOQ0YAWjwcaaHe3k4qPBT5otp32mpMFAuQfDYE+lwchX/Cjg3KXB/IUu/WlOpsHwwO41iaOmwUUaYBTm26bBsmzrfkb3psHdYCM9jvWmwe+F2xS/1qbBI4FUyPiapsGqNn/1eEKmwQereNaazaXBDhaA49Y8pcGnF8hWwpCkwbwQo5IOyqPB+zGpaojposHSvJRQF/ChwaEcrmW83qDBsIx74yJtn8EbMCqBj/GcwRpHs85NTZrBNpeu5RaDl8ETlWoAy5WUwRT/AINuiJHB6qtIvk28jME=",
        "encoding": "base64",
        "path": [
         "_data",
         8,
         "x",
         "value"
        ]
       },
       {
        "data": "JDfhr/B6oMEzxMv0MQKhwRLYBD96a6HBQHSLB122ocFQC7ccjeKhwaw/yvHc76HBLAjnzT7eocHb0zPaxK2hwSIYIw+hXqHBjJXwACXxoMFSbImLwWWgwQhga7wMep/BsM32zkLvncFPRKdDvCycwX0D1YNJNJrB8bGEjvIHmMFTZmHg9KmVwSP6kiTBHJPBhwjSsPhikMHHvKKe1f6KwUKskLIj6oTByL5plEAcfcFbrTFaZsVvwVjO/60IqkHBUMbep/i7Z0F+gsDDgkh6QTFT4fm6fYRBRQLoetfzi0HcgIL0cr+RQSxAjNiPi5VBxsxfVlhamUGqEiCa3yedQQlUiA0deKBB+WEG08BXokHhQj+x7DCkQWnw2Oa4AaZBTTY0VEbIp0F0xFBpwIKpQVBNzghfL6tBEM0YXmjMrEHJTtukMliuQd2z498l0a9BC4nZvt6asEFkkYT0REKxQeLu5gEZ3rFB+FRpRbptskFdNX6wlPCyQaGFQGAhZrNBx/B+KOfNs0GHIKQQeye0QWFc+8GAcrRBuNPf5qqutEHvdHR6u9u0QTokkgiE+bRB6muq3eUHtUGCSW0m0ga1QQR4Ef9J9rRBnHYvcl7WtEHgeTBnMKe0QeViY4DwaLRBSrPa6N4btEFqK0cSS8CzQVhCE2OTVrNBI+IT1STfskFxtzKFelqyQazghTQdybFBP85Xu6IrsUFTpLBurYKwQfyuAPLWna9BRwUsTSwirkEwDjtN4pOsQa+50IKT9KpBdAKjCexFqUFoTC3Pp4mnQZorFMmQwaVBxUoSHX3vo0HhEFU8TRWiQZuZPPTpNKBBdAj77ISgnEF8/Ve1lNKYQaR7fDbvA5VBcX0yIIE4kUGy5fSiZ+iKQYounqDSdYNBHiHxI+FBeEEeykjJQMVjQbrBalUxjVDBLMWWd3DBccGohhVrwul+wdilWAZZx4XBKUkgVJvRi8F0eQgat8aQwX2m1Ep0epPBqD81LTwBlsHan/UJdFiYweq6LzGyfZrBscYFd8BunMHKYUF7nimewSKcfrmDrJ/BIzfhr/B6oME=",
        "encoding": "base64",
        "path": [
         "_data",
         8,
         "y",
         "value"
        ]
       },
       {
        "data": "e/7qdPcwm8E=",
        "encoding": "base64",
        "path": [
         "_data",
         9,
         "x",
         "value"
        ]
       },
       {
        "data": "ldTh+vrNmcE=",
        "encoding": "base64",
        "path": [
         "_data",
         9,
         "y",
         "value"
        ]
       }
      ],
      "model_module": "plotlywidget",
      "model_module_version": "^0.6.0",
      "model_name": "FigureModel",
      "state": {
       "_config": {
        "plotlyServerURL": "https://plot.ly"
       },
       "_data": [
        {
         "hoverinfo": "none",
         "line": {
          "color": "rgb(31, 119, 180)",
          "dash": "dash",
          "width": 2
         },
         "mode": "lines",
         "name": "2017-09-01 12:05 (Mercury (☿))",
         "type": "scatter",
         "uid": "e78fb561-6b59-4ab1-bb0e-99b5c3225cf7",
         "x": {
          "dtype": "float64",
          "shape": [
           100
          ],
          "value": {}
         },
         "y": {
          "dtype": "float64",
          "shape": [
           100
          ],
          "value": {}
         }
        },
        {
         "marker": {
          "color": "rgb(31, 119, 180)",
          "size": 10
         },
         "mode": "markers",
         "name": "2017-09-01 12:05 (Mercury (☿))",
         "type": "scatter",
         "uid": "0c9cb57a-e1e7-4591-9843-d11a796c257b",
         "x": {
          "dtype": "float64",
          "shape": [
           1
          ],
          "value": {}
         },
         "y": {
          "dtype": "float64",
          "shape": [
           1
          ],
          "value": {}
         }
        },
        {
         "hoverinfo": "none",
         "line": {
          "color": "rgb(255, 127, 14)",
          "dash": "dash",
          "width": 2
         },
         "mode": "lines",
         "name": "2017-09-01 12:05 (Venus (♀))",
         "type": "scatter",
         "uid": "9e2726a2-bcab-41a0-b81f-1946acc0f9fa",
         "x": {
          "dtype": "float64",
          "shape": [
           100
          ],
          "value": {}
         },
         "y": {
          "dtype": "float64",
          "shape": [
           100
          ],
          "value": {}
         }
        },
        {
         "marker": {
          "color": "rgb(255, 127, 14)",
          "size": 10
         },
         "mode": "markers",
         "name": "2017-09-01 12:05 (Venus (♀))",
         "type": "scatter",
         "uid": "04dde415-2aa0-478d-a4a6-95e184f58183",
         "x": {
          "dtype": "float64",
          "shape": [
           1
          ],
          "value": {}
         },
         "y": {
          "dtype": "float64",
          "shape": [
           1
          ],
          "value": {}
         }
        },
        {
         "hoverinfo": "none",
         "line": {
          "color": "rgb(44, 160, 44)",
          "dash": "dash",
          "width": 2
         },
         "mode": "lines",
         "name": "2017-09-01 12:05 (Earth (♁))",
         "type": "scatter",
         "uid": "d5668875-195c-4dd6-bafd-046f70c4aae8",
         "x": {
          "dtype": "float64",
          "shape": [
           100
          ],
          "value": {}
         },
         "y": {
          "dtype": "float64",
          "shape": [
           100
          ],
          "value": {}
         }
        },
        {
         "marker": {
          "color": "rgb(44, 160, 44)",
          "size": 10
         },
         "mode": "markers",
         "name": "2017-09-01 12:05 (Earth (♁))",
         "type": "scatter",
         "uid": "5fd8aeb4-5a1d-4449-aae4-4e3b2d1e1b21",
         "x": {
          "dtype": "float64",
          "shape": [
           1
          ],
          "value": {}
         },
         "y": {
          "dtype": "float64",
          "shape": [
           1
          ],
          "value": {}
         }
        },
        {
         "hoverinfo": "none",
         "line": {
          "color": "rgb(214, 39, 40)",
          "dash": "dash",
          "width": 2
         },
         "mode": "lines",
         "name": "2017-09-01 12:05 (Mars (♂))",
         "type": "scatter",
         "uid": "46bfaaa0-73ce-4c09-8404-1bf4ba8a1a58",
         "x": {
          "dtype": "float64",
          "shape": [
           100
          ],
          "value": {}
         },
         "y": {
          "dtype": "float64",
          "shape": [
           100
          ],
          "value": {}
         }
        },
        {
         "marker": {
          "color": "rgb(214, 39, 40)",
          "size": 10
         },
         "mode": "markers",
         "name": "2017-09-01 12:05 (Mars (♂))",
         "type": "scatter",
         "uid": "f60adbfe-43e7-4ab0-a2b5-62ac78058e9f",
         "x": {
          "dtype": "float64",
          "shape": [
           1
          ],
          "value": {}
         },
         "y": {
          "dtype": "float64",
          "shape": [
           1
          ],
          "value": {}
         }
        },
        {
         "hoverinfo": "none",
         "line": {
          "color": "rgb(148, 103, 189)",
          "dash": "dash",
          "width": 2
         },
         "mode": "lines",
         "name": "2017-09-01 12:05 (Florence)",
         "type": "scatter",
         "uid": "c2e9d6f8-df32-4c05-b56e-47273a33588d",
         "x": {
          "dtype": "float64",
          "shape": [
           100
          ],
          "value": {}
         },
         "y": {
          "dtype": "float64",
          "shape": [
           100
          ],
          "value": {}
         }
        },
        {
         "marker": {
          "color": "rgb(148, 103, 189)",
          "size": 10
         },
         "mode": "markers",
         "name": "2017-09-01 12:05 (Florence)",
         "type": "scatter",
         "uid": "490d216a-1968-459a-abf7-9a1c59c06315",
         "x": {
          "dtype": "float64",
          "shape": [
           1
          ],
          "value": {}
         },
         "y": {
          "dtype": "float64",
          "shape": [
           1
          ],
          "value": {}
         }
        }
       ],
       "_js2py_pointsCallback": {},
       "_js2py_relayout": {},
       "_js2py_restyle": {},
       "_js2py_update": {},
       "_last_layout_edit_id": 11,
       "_last_trace_edit_id": 11,
       "_layout": {
        "autosize": true,
        "shapes": [
         {
          "fillcolor": "#ffcc00",
          "line": {
           "color": "#ffcc00"
          },
          "opacity": 1,
          "type": "circle",
          "x0": -7096333.71093346,
          "x1": 7096333.71093346,
          "xref": "x",
          "y0": -7096333.71093346,
          "y1": 7096333.71093346,
          "yref": "y"
         }
        ],
        "template": {},
        "xaxis": {
         "constrain": "domain",
         "title": "x (km)"
        },
        "yaxis": {
         "scaleanchor": "x",
         "title": "y (km)"
        }
       },
       "_py2js_animate": {},
       "_py2js_deleteTraces": {},
       "_py2js_moveTraces": {},
       "_py2js_removeLayoutProps": {},
       "_py2js_removeTraceProps": {},
       "_py2js_restyle": {},
       "_view_count": 1
      }
     },
     "63da23da0063400fafe6c8855f930b05": {
      "buffers": [
       {
        "data": "4iy/fQR1FkHlrotN22gWQdKGFUZsRBZBsJzd9dwHFkEomArKa7MVQQMpD85vRxVBisTvUVjEFEG6VYR3rCoUQSAoLKcKexNBdKSD7Ce2EkHFMcQ7z9wRQaWbjqDg7xBB6EvvraDgD0GAv4mfS74NQaZ1ukH1egtBba0KxvIYCUHmZyX8uJoGQaA0psnZAgRB143sgwFUAUE/sl1d6CH9QGBuSEQVefdAlu5qN1+z8UAyme7wcq3nQCidLbe7pNdAgPcYRjBIbsAAzTetYDDYwGL9NjACD+jAnRtGQjT78cCmfiAAD+H3wMdhqO38sv3Ak31xGH+1AcEprobUloEEwSBfIIHjOgfBMpGjU5beCcFMx7/F9mkMwQ0obWNl2g7BNEKJP6+WEMEJ5IRkPrARwaxt6+O9uBLB8aFCFx2vE8Fb2mEHXpIUwZoPPXKWYRXBpEVfvPAbFsHkbxvNrMAWwRfTkNQgTxfB6sW2+rnGF8GgX7v2/CYYwbQLGY6GbxjB6QHg+gugGMGLMso4W7gYwYkyyjhbuBjB6AHg+gugGMGzCxmOhm8YwZ1fu/b8JhjB5cW2+rnGF8ET05DUIE8Xwd9vG82swBbBnEVfvPAbFsGTDz1ylmEVwVTaYQdekhTB6KFCFx2vE8GgbevjvbgSwfrjhGQ+sBHBK0KJP6+WEMH1J21jZdoOwTbHv8X2aQzBDpGjU5beCcEAXyCB4zoHwQ2uhtSWgQTBeX1xGH+1AcF7Yajt/LL9wGt+IAAP4ffAYhtGQjT78cDa/DYwAg/owOnLN61gMNjAgIAYRjBIbsAIni23u6TXQIGZ7vByredA0u5qN1+z8UCSbkhEFXn3QHyyXV3oIf1A8o3sgwFUAUGzNKbJ2QIEQQFoJfy4mgZBhK0KxvIYCUHGdbpB9XoLQY6/iZ9Lvg1BA0zvraDgD0Gsm46g4O8QQc4xxDvP3BFBeqSD7Ce2EkEmKCynCnsTQcBVhHesKhRBkMTvUVjEFEEGKQ/Ob0cVQSuYCsprsxVBtJzd9dwHFkHUhhVGbEQWQeaui03baBZB4yy/fQR1FkE=",
        "encoding": "base64",
        "path": [
         "_data",
         0,
         "x",
         "value"
        ]
       },
       {
        "data": "AAAAAABA/T07D1QLX+rXQP2ZAYIL3udAw+s/kCbX8UBU/o1046z3QEGo7KY4av1AlPdPxJ2EAUF46j1eEEIEQdbh/A+h6gZBrMn2TpJ7CUHXwWzqPvILQTQgh8UcTA5BZfK9ul9DEEGmaIxg7U8RQSTyjn+iShJB85V7qHwyE0Ga0MTbjAYUQX/o9n/4xRRBvDQOQ/pvFUGDDd7l4gMWQZK6tvAZgRZBQyiQUB7nFkFtYBfchjUXQcufFcACbBdBcknB0lmKF0Ep1qLNbJAXQaYR0m01fhdBPWpqesZTF0G/qy+xSxEXQXwZd5kJtxZBImKDPV1FFkHKPpzKu7wVQYWaRBiyHRVBJcULF+RoFEGZWY8nDJ8TQY4LXFr6wBJBOGdzmZPPEUHpmVO80MsQQVAD6Q57bQ9B4dyEMO8iDUHYOGZ9WroKQYPKSIs4NghBJ8mLViGZBUG2fb6VxuUCQaSgp/LwHgBBZddIV/qO+kCbR6lAssT0QNjaeDIDyu1AGPaU1Ozr4UBm+0KGdO3HQMz9QoZ07cfAlPaU1Ozr4cBs23gyA8rtwNBHqUCyxPTAr9dIV/qO+sC+oKfy8B4AwdN9vpXG5QLBSMmLViGZBcGfykiLODYIwe44Zn1augrB+tyEMO8iDcFuA+kOe20PwfWZU7zQyxDBP2dzmZPPEcGXC1xa+sASwaFZjycMnxPBMMULF+RoFMGOmkQYsh0VwdE+nMq7vBXBJWKDPV1FFsGBGXeZCbcWwcGrL7FLERfBP2pqesZTF8GoEdJtNX4XwSrWos1skBfBcknB0lmKF8HKnxXAAmwXwW1gF9yGNRfBPyiQUB7nFsGNurbwGYEWwX8N3uXiAxbBtjQOQ/pvFcF76PZ/+MUUwZPQxNuMBhTB7JV7qHwyE8EY8o5/okoSwZ5ojGDtTxHBWPK9ul9DEMEkIIfFHEwOwbvBbOo+8gvBlsn2TpJ7CcG84fwPoeoGwWTqPV4QQgTBevdPxJ2EAcEVqOymOGr9wB3+jXTjrPfAcus/kCbX8cCOmQGCC97nwFoOVAtf6tfAAAAAAABA9D0=",
        "encoding": "base64",
        "path": [
         "_data",
         0,
         "y",
         "value"
        ]
       },
       {
        "data": "Vf9DjBN4FME=",
        "encoding": "base64",
        "path": [
         "_data",
         1,
         "x",
         "value"
        ]
       },
       {
        "data": "e3OBnQUGC8E=",
        "encoding": "base64",
        "path": [
         "_data",
         1,
         "y",
         "value"
        ]
       }
      ],
      "model_module": "plotlywidget",
      "model_module_version": "^0.6.0",
      "model_name": "FigureModel",
      "state": {
       "_config": {
        "plotlyServerURL": "https://plot.ly"
       },
       "_data": [
        {
         "hoverinfo": "none",
         "line": {
          "color": "rgb(31, 119, 180)",
          "dash": "dash",
          "width": 2
         },
         "mode": "lines",
         "name": "2017-09-01 12:05 (Moon (☾))",
         "type": "scatter",
         "uid": "4713386d-a113-4daa-b097-aadeb48568f5",
         "x": {
          "dtype": "float64",
          "shape": [
           100
          ],
          "value": {}
         },
         "y": {
          "dtype": "float64",
          "shape": [
           100
          ],
          "value": {}
         }
        },
        {
         "marker": {
          "color": "rgb(31, 119, 180)",
          "size": 10
         },
         "mode": "markers",
         "name": "2017-09-01 12:05 (Moon (☾))",
         "type": "scatter",
         "uid": "a92139f2-24ca-4efb-8daa-e733b080b192",
         "x": {
          "dtype": "float64",
          "shape": [
           1
          ],
          "value": {}
         },
         "y": {
          "dtype": "float64",
          "shape": [
           1
          ],
          "value": {}
         }
        }
       ],
       "_js2py_layoutDelta": {
        "layout_delta": {
         "annotations": [],
         "calendar": "gregorian",
         "clickmode": "event",
         "colorscale": {
          "diverging": [
           [
            0,
            "rgb(5,10,172)"
           ],
           [
            0.35,
            "rgb(106,137,247)"
           ],
           [
            0.5,
            "rgb(190,190,190)"
           ],
           [
            0.6,
            "rgb(220,170,132)"
           ],
           [
            0.7,
            "rgb(230,145,90)"
           ],
           [
            1,
            "rgb(178,10,28)"
           ]
          ],
          "sequential": [
           [
            0,
            "rgb(220,220,220)"
           ],
           [
            0.2,
            "rgb(245,195,157)"
           ],
           [
            0.4,
            "rgb(245,160,105)"
           ],
           [
            1,
            "rgb(178,10,28)"
           ]
          ],
          "sequentialminus": [
           [
            0,
            "rgb(5,10,172)"
           ],
           [
            0.35,
            "rgb(40,60,190)"
           ],
           [
            0.5,
            "rgb(70,100,245)"
           ],
           [
            0.6,
            "rgb(90,120,245)"
           ],
           [
            0.7,
            "rgb(106,137,247)"
           ],
           [
            1,
            "rgb(220,220,220)"
           ]
          ]
         },
         "colorway": [
          "#1f77b4",
          "#ff7f0e",
          "#2ca02c",
          "#d62728",
          "#9467bd",
          "#8c564b",
          "#e377c2",
          "#7f7f7f",
          "#bcbd22",
          "#17becf"
         ],
         "dragmode": "zoom",
         "font": {
          "color": "#444",
          "family": "\"Open Sans\", verdana, arial, sans-serif",
          "size": 12
         },
         "height": 470,
         "hidesources": false,
         "hoverdistance": 20,
         "hoverlabel": {
          "font": {
           "family": "Arial, sans-serif",
           "size": 13
          },
          "namelength": 15
         },
         "hovermode": "x",
         "images": [],
         "legend": {
          "bgcolor": "#fff",
          "bordercolor": "#444",
          "borderwidth": 0,
          "font": {
           "color": "#444",
           "family": "\"Open Sans\", verdana, arial, sans-serif",
           "size": 12
          },
          "orientation": "v",
          "traceorder": "normal",
          "valign": "middle",
          "x": 1.02,
          "xanchor": "left",
          "y": 1,
          "yanchor": "auto"
         },
         "margin": {
          "autoexpand": true,
          "b": 80,
          "l": 80,
          "pad": 0,
          "r": 80,
          "t": 100
         },
         "modebar": {
          "activecolor": "rgba(68, 68, 68, 0.7)",
          "bgcolor": "rgba(255, 255, 255, 0.5)",
          "color": "rgba(68, 68, 68, 0.3)",
          "orientation": "h"
         },
         "paper_bgcolor": "#fff",
         "plot_bgcolor": "#fff",
         "separators": ".,",
         "shapes": [
          {
           "layer": "above",
           "line": {
            "dash": "solid",
            "width": 2
           },
           "visible": true,
           "xsizemode": "scaled",
           "ysizemode": "scaled"
          }
         ],
         "showlegend": true,
         "sliders": [],
         "spikedistance": 20,
         "title": {
          "font": {
           "color": "#444",
           "family": "\"Open Sans\", verdana, arial, sans-serif",
           "size": 17
          },
          "pad": {
           "b": 0,
           "l": 0,
           "r": 0,
           "t": 0
          },
          "text": "Click to enter Plot title",
          "x": 0.5,
          "xanchor": "auto",
          "xref": "container",
          "y": "auto",
          "yanchor": "auto",
          "yref": "container"
         },
         "updatemenus": [],
         "width": 966.8,
         "xaxis": {
          "anchor": "y",
          "automargin": false,
          "autorange": true,
          "color": "#444",
          "constraintoward": "center",
          "domain": [
           0.2810587680687218,
           0.7189412319312782
          ],
          "dtick": 200000,
          "exponentformat": "B",
          "fixedrange": false,
          "gridcolor": "rgb(238, 238, 238)",
          "gridwidth": 1,
          "hoverformat": "",
          "layer": "above traces",
          "nticks": 0,
          "range": [
           -446897.7227695684,
           367937.12279958854
          ],
          "rangemode": "normal",
          "separatethousands": false,
          "showexponent": "all",
          "showgrid": true,
          "showline": false,
          "showspikes": false,
          "showticklabels": true,
          "side": "bottom",
          "tick0": 0,
          "tickangle": "auto",
          "tickfont": {
           "color": "#444",
           "family": "\"Open Sans\", verdana, arial, sans-serif",
           "size": 12
          },
          "tickformat": "",
          "tickmode": "auto",
          "tickprefix": "",
          "ticks": "",
          "ticksuffix": "",
          "title": {
           "font": {
            "color": "#444",
            "family": "\"Open Sans\", verdana, arial, sans-serif",
            "size": 14
           },
           "text": "x (km)"
          },
          "type": "linear",
          "visible": true,
          "zeroline": true,
          "zerolinecolor": "#444",
          "zerolinewidth": 1
         },
         "yaxis": {
          "anchor": "x",
          "automargin": false,
          "autorange": true,
          "color": "#444",
          "constrain": "range",
          "constraintoward": "middle",
          "domain": [
           0,
           1
          ],
          "dtick": 200000,
          "exponentformat": "B",
          "fixedrange": false,
          "gridcolor": "rgb(238, 238, 238)",
          "gridwidth": 1,
          "hoverformat": "",
          "layer": "above traces",
          "nticks": 0,
          "range": [
           -428972.4453516497,
           428972.44535164966
          ],
          "rangemode": "normal",
          "scaleratio": 1,
          "separatethousands": false,
          "showexponent": "all",
          "showgrid": true,
          "showline": false,
          "showspikes": false,
          "showticklabels": true,
          "side": "left",
          "tick0": 0,
          "tickangle": "auto",
          "tickfont": {
           "color": "#444",
           "family": "\"Open Sans\", verdana, arial, sans-serif",
           "size": 12
          },
          "tickformat": "",
          "tickmode": "auto",
          "tickprefix": "",
          "ticks": "",
          "ticksuffix": "",
          "title": {
           "font": {
            "color": "#444",
            "family": "\"Open Sans\", verdana, arial, sans-serif",
            "size": 14
           },
           "text": "y (km)"
          },
          "type": "linear",
          "visible": true,
          "zeroline": true,
          "zerolinecolor": "#444",
          "zerolinewidth": 1
         }
        },
        "layout_edit_id": 3
       },
       "_js2py_pointsCallback": {},
       "_js2py_relayout": {},
       "_js2py_restyle": {},
       "_js2py_traceDeltas": {
        "trace_deltas": [
         {
          "connectgaps": false,
          "error_x": {
           "visible": false
          },
          "error_y": {
           "visible": false
          },
          "fill": "none",
          "hoverlabel": {
           "font": {
            "family": "Arial, sans-serif",
            "size": 13
           },
           "namelength": 15
          },
          "hoveron": "points",
          "hovertemplate": "",
          "hovertext": "",
          "index": 0,
          "legendgroup": "",
          "line": {
           "shape": "linear",
           "simplify": true
          },
          "opacity": 1,
          "showlegend": true,
          "stackgroup": "",
          "text": "",
          "uid": "4713386d-a113-4daa-b097-aadeb48568f5",
          "visible": true,
          "xaxis": "x",
          "xcalendar": "gregorian",
          "yaxis": "y",
          "ycalendar": "gregorian"
         },
         {
          "cliponaxis": true,
          "error_x": {
           "visible": false
          },
          "error_y": {
           "visible": false
          },
          "fill": "none",
          "hoverinfo": "all",
          "hoverlabel": {
           "font": {
            "family": "Arial, sans-serif",
            "size": 13
           },
           "namelength": 15
          },
          "hoveron": "points",
          "hovertemplate": "",
          "hovertext": "",
          "index": 1,
          "legendgroup": "",
          "marker": {
           "gradient": {
            "type": "none"
           },
           "line": {
            "color": "#444",
            "width": 0
           },
           "maxdisplayed": 0,
           "opacity": 1,
           "symbol": "circle"
          },
          "opacity": 1,
          "selected": {
           "marker": {
            "opacity": 1
           }
          },
          "showlegend": true,
          "stackgroup": "",
          "text": "",
          "uid": "a92139f2-24ca-4efb-8daa-e733b080b192",
          "unselected": {
           "marker": {
            "opacity": 0.2
           }
          },
          "visible": true,
          "xaxis": "x",
          "xcalendar": "gregorian",
          "yaxis": "y",
          "ycalendar": "gregorian"
         }
        ],
        "trace_edit_id": 3
       },
       "_js2py_update": {},
       "_last_layout_edit_id": 3,
       "_last_trace_edit_id": 3,
       "_layout": {
        "autosize": true,
        "shapes": [
         {
          "fillcolor": "#204a87",
          "line": {
           "color": "#204a87"
          },
          "opacity": 1,
          "type": "circle",
          "x0": -55190.56841993835,
          "x1": 55190.56841993835,
          "xref": "x",
          "y0": -55190.56841993835,
          "y1": 55190.56841993835,
          "yref": "y"
         }
        ],
        "template": {},
        "xaxis": {
         "constrain": "domain",
         "title": "x (km)"
        },
        "yaxis": {
         "scaleanchor": "x",
         "title": "y (km)"
        }
       },
       "_py2js_animate": {},
       "_py2js_deleteTraces": {},
       "_py2js_moveTraces": {},
       "_py2js_removeLayoutProps": {},
       "_py2js_removeTraceProps": {},
       "_py2js_restyle": {},
       "_view_count": 1
      }
     },
     "6b01b068e1f2414895cacf936a02d51b": {
      "buffers": [
       {
        "data": "YcaocXCfoUE6rub0PZahQXPdrvmveqFBHN5m5+JMoUF3yYP0BQ2hQXdM3/Vau6BBa1/bGjZYoEF8SDUt+8efQW+/TW1Svp5BSU3kzoOUnUHoF2ROwkucQeKcTM9g5ZpBbT/cvtBimUH3IkCXoMWXQa7e0UR6D5ZBEHYKbyFClEEZK++mcV+SQT8X2HxcaZBBGsET/87DjEHgf2ZNVJaIQTWa6FWXToRBny2iNgPif0Hmx/VKJgR3QaJFbHd3GWxBvNRCzAYUVEFM5IZS4yZQwYTWk1I7LGrB47vvANkWdsG2jRwXowJ/weGv7N4k6IPBYgY27Fw7iMFKFQdbhHaMwZxBvlCfSpDBQEqTQaZJksGkIuQ4SDaUwQw4r2WJDpbB4sCH+ILQl8HZQmYZZXqZwWF9zMV4CpvBv9dPlSF/nMGG1bdi39adwQ9Z+tdPEJ/BO8G+7RcVoME9VJNurpGgwVyL7wBr/aDBW+kslt5XocHyuwTxq6ChwToTrQWI16HBM680Rzr8ocEMJc7hnA6iwQglzuGcDqLBJ680Rzr8ocElE60FiNehwdS7BPGroKHBNekslt5XocEui+8Aa/2gwQlUk26ukaDBAMG+7RcVoMGCWPrXTxCfwfPUt2Lf1p3BGNdPlSF/nMGufMzFeAqbwRZCZhllepnBHMCH+ILQl8E+N69liQ6Wwcoh5DhINpTBT0mTQaZJksGjQL5Qn0qQwVUTB1uEdozBXAQ27Fw7iMHZrezeJOiDwZCJHBejAn/BwbfvANkWdsEuzpNSOyxqwSbThlLjJlDBquVCzAYUVEHrTWx3dxlsQezL9UomBHdB3jGiNgPif0ExnOhVl06EQdWBZk1UlohBDMMT/87DjEEsGNh8XGmQQfsr76ZxX5JB6XYKbyFClEGC39FEeg+WQbwjQJegxZdBKEDcvtBimUGMnUzPYOWaQYsYZE7CS5xB203kzoOUnUHyv01tUr6eQepINS37x59Bn1/bGjZYoEGhTN/1WrugQZnJg/QFDaFBON5m5+JMoUGE3a75r3qhQUOu5vQ9lqFBYMaocXCfoUE=",
        "encoding": "base64",
        "path": [
         "_data",
         0,
         "x",
         "value"
        ]
       },
       {
        "data": "AAAAAACMwD6iBTM0WRtiQcgyWxgEEnJBEPur/boDe0FLyUKAzOyBQYC+/kVBRYZBWHebEcGGikGECMjO6KyOQURmgcy4WZFBo3wekhpLk0HLSPIBmSiVQdf09eVH8JZB+5DGg1GgmEEBx9mA+DaaQcJikq2ZsptBoXRbta0RnUGEoQyyylKeQefM96CldJ9BHMgP3Ak7oEEhYhvNBaugQavPFTTTCaFBTTeSVxBXoUHBS/yYbZKhQdYZq8atu6FBv4j1WqbSoUHIhgeoP9ehQUSzSvB0yaFBj1xJa1SpoUGKyAY3/3ahQe7i2zWpMqFBF4L72JjcoEEYZNXXJnWgQQZ8Ral7+Z9BzUT13LPnnkHLG7+CELadQen7k6nMZZxBwAWM8kL4mkF7YZYr7G6ZQQwyDstdy5dBkP3ETUgPlkFiYjF5dTyUQUenjYPGVJJB0pTMIzJakEGC1ccWhZ2MQfBEBZgmaYhBsbq7Vp4bhEEpYEedt3J/QWSEkbLHjXZB+NggFjAja0GwrrLurh1SQTq/su6uHVLBYeEgFjAja8GMiJGyx412wUZkR523cn/Bwry7Vp4bhMHlRgWYJmmIwWrXxxaFnYzBwJXMIzJakMEwqI2DxlSSwTljMXl1PJTBav7ETUgPlsHWMg7LXcuXwT5ilivsbpnBcQaM8kL4msGM/JOpzGWcwV8cv4IQtp3BWUX13LPnnsGEfEWpe/mfwU5k1dcmdaDBRIL72JjcoMEU49s1qTKhwabIBjf/dqHBpVxJa1SpocFQs0rwdMmhwc2GB6g/16HBu4j1WqbSocHIGavGrbuhwaxL/JhtkqHBLjeSVxBXocGGzxU00wmhwfJhG80Fq6DB5McP3Ak7oMFtzPegpXSfwfqgDLLKUp7BCnRbta0RncEYYpKtmbKbwU7G2YD4NprBPpDGg1GgmMET9PXlR/CWwfNH8gGZKJXBxnsekhpLk8FgZYHMuFmRwbIGyM7orI7BaHWbEcGGisGKvP5FQUWGwUvHQoDM7IHB7/ar/boDe8GXLlsYBBJywWP9MjRZG2LBAAAAAAAMwD4=",
        "encoding": "base64",
        "path": [
         "_data",
         0,
         "y",
         "value"
        ]
       },
       {
        "data": "5qXH3wPMmcE=",
        "encoding": "base64",
        "path": [
         "_data",
         1,
         "x",
         "value"
        ]
       },
       {
        "data": "zAUZ3ZIdmcE=",
        "encoding": "base64",
        "path": [
         "_data",
         1,
         "y",
         "value"
        ]
       }
      ],
      "model_module": "plotlywidget",
      "model_module_version": "^0.6.0",
      "model_name": "FigureModel",
      "state": {
       "_config": {
        "plotlyServerURL": "https://plot.ly"
       },
       "_data": [
        {
         "hoverinfo": "none",
         "line": {
          "color": "rgb(31, 119, 180)",
          "dash": "dash",
          "width": 2
         },
         "mode": "lines",
         "name": "2017-09-01 12:05 (Earth (♁))",
         "type": "scatter",
         "uid": "028e2abd-c968-42b5-a661-d95e8fd92121",
         "x": {
          "dtype": "float64",
          "shape": [
           100
          ],
          "value": {}
         },
         "y": {
          "dtype": "float64",
          "shape": [
           100
          ],
          "value": {}
         }
        },
        {
         "marker": {
          "color": "rgb(31, 119, 180)",
          "size": 10
         },
         "mode": "markers",
         "name": "2017-09-01 12:05 (Earth (♁))",
         "type": "scatter",
         "uid": "914b4477-7bb8-49c8-9b59-d4c99d8cecaa",
         "x": {
          "dtype": "float64",
          "shape": [
           1
          ],
          "value": {}
         },
         "y": {
          "dtype": "float64",
          "shape": [
           1
          ],
          "value": {}
         }
        }
       ],
       "_js2py_pointsCallback": {},
       "_js2py_relayout": {},
       "_js2py_restyle": {},
       "_js2py_update": {},
       "_last_layout_edit_id": 3,
       "_last_trace_edit_id": 3,
       "_layout": {
        "autosize": true,
        "shapes": [
         {
          "fillcolor": "#ffcc00",
          "line": {
           "color": "#ffcc00"
          },
          "opacity": 1,
          "type": "circle",
          "x0": -22174626.124446128,
          "x1": 22174626.124446128,
          "xref": "x",
          "y0": -22174626.124446128,
          "y1": 22174626.124446128,
          "yref": "y"
         }
        ],
        "template": {},
        "xaxis": {
         "constrain": "domain",
         "title": "x (km)"
        },
        "yaxis": {
         "scaleanchor": "x",
         "title": "y (km)"
        }
       },
       "_py2js_animate": {},
       "_py2js_deleteTraces": {},
       "_py2js_moveTraces": {},
       "_py2js_removeLayoutProps": {},
       "_py2js_removeTraceProps": {},
       "_py2js_restyle": {},
       "_view_count": 1
      }
     },
     "bce2f313793e4a43bddcd67f4bc61ebc": {
      "buffers": [
       {
        "data": "YcaocXCfoUE6rub0PZahQXPdrvmveqFBHd5m5+JMoUF3yYP0BQ2hQXdM3/Vau6BBal/bGjZYoEF9SDUt+8efQXG/TW1Svp5BSk3kzoOUnUHoF2ROwkucQdycTM9g5ZpBbT/cvtBimUH1IkCXoMWXQa7e0UR6D5ZBDXYKbyFClEEXK++mcV+SQT8X2HxcaZBBGsET/87DjEHgf2ZNVJaIQSua6FWXToRBqy2iNgPif0Hex/VKJgR3QbBFbHd3GWxB2NRCzAYUVEFw5IZS4yZQwbzWk1I7LGrB47vvANkWdsGtjRwXowJ/weGv7N4k6IPBYgY27Fw7iMFKFQdbhHaMwZhBvlCfSpDBQ0qTQaZJksGoIuQ4SDaUwRM4r2WJDpbB4sCH+ILQl8HWQmYZZXqZwWF9zMV4CpvBv9dPlSF/nMGL1bdi39adwQxZ+tdPEJ/BPMG+7RcVoME+VJNurpGgwVyL7wBr/aDBW+kslt5XocHyuwTxq6ChwToTrQWI16HBM680Rzr8ocEMJc7hnA6iwQclzuGcDqLBJ680Rzr8ocElE60FiNehwdS7BPGroKHBNekslt5XocEti+8Aa/2gwQdUk26ukaDBAcG+7RcVoMGCWPrXTxCfwfXUt2Lf1p3BGNdPlSF/nMGwfMzFeAqbwRhCZhllepnBGsCH+ILQl8E9N69liQ6Wwcwh5DhINpTBVkmTQaZJksGjQL5Qn0qQwVUTB1uEdozBbwQ27Fw7iMHXrezeJOiDwZiJHBejAn/BwbfvANkWdsEuzpNSOyxqwXjThlLjJlDBxuVCzAYUVEHKTWx3dxlsQefL9UomBHdBvjGiNgPif0EpnOhVl06EQdWBZk1UlohBCcMT/87DjEEqGNh8XGmQQfwr76ZxX5JB6HYKbyFClEF/39FEeg+WQb4jQJegxZdBJkDcvtBimUGKnUzPYOWaQYkYZE7CS5xB2U3kzoOUnUHyv01tUr6eQehINS37x59Bn1/bGjZYoEGhTN/1WrugQZrJg/QFDaFBON5m5+JMoUGD3a75r3qhQUSu5vQ9lqFBYcaocXCfoUE=",
        "encoding": "base64",
        "path": [
         "_data",
         0,
         "x",
         "value"
        ]
       },
       {
        "data": "AAAAAACMwD6qBTM0WRtiQbkyWxgEEnJBIvur/boDe0FVyUKAzOyBQYC+/kVBRYZBZnebEcGGikGACMjO6KyOQUJmgcy4WZFBpHwekhpLk0HMSPIBmSiVQdz09eVH8JZB+5DGg1GgmEEEx9mA+DaaQcJikq2ZsptBo3Rbta0RnUGFoQyyylKeQefM96CldJ9BHMgP3Ak7oEEhYhvNBaugQazPFTTTCaFBTjeSVxBXoUHBS/yYbZKhQdUZq8atu6FBv4j1WqbSoUHIhgeoP9ehQUSzSvB0yaFBj1xJa1SpoUGKyAY3/3ahQe7i2zWpMqFBF4L72JjcoEEYZNXXJnWgQQZ8Ral7+Z9By0T13LPnnkHIG7+CELadQeT7k6nMZZxBwAWM8kL4mkF/YZYr7G6ZQQwyDstdy5dBkP3ETUgPlkFaYjF5dTyUQUmnjYPGVJJBzpTMIzJakEF61ccWhZ2MQfBEBZgmaYhBurq7Vp4bhEEpYEedt3J/QWSEkbLHjXZB+NggFjAja0EMrrLurh1SQSK/su6uHVLBdeEgFjAja8GQiJGyx412wTxkR523cn/Bxry7Vp4bhMHpRgWYJmmIwW/XxxaFnYzBvJXMIzJakME1qI2DxlSSwTNjMXl1PJTBZ/7ETUgPlsHUMg7LXcuXwTxilivsbpnBcgaM8kL4msGM/JOpzGWcwVwcv4IQtp3BV0X13LPnnsGFfEWpe/mfwU5k1dcmdaDBRIL72JjcoMEV49s1qTKhwabIBjf/dqHBpVxJa1SpocFQs0rwdMmhwc2GB6g/16HBu4j1WqbSocHIGavGrbuhwaxL/JhtkqHBLzeSVxBXocGHzxU00wmhwfJhG80Fq6DB5McP3Ak7oMFuzPegpXSfwfqgDLLKUp7BDXRbta0RncEaYpKtmbKbwU3G2YD4NprBQJDGg1GgmMEV9PXlR/CWwfdH8gGZKJXByXsekhpLk8FiZYHMuFmRwbgGyM7orI7BZ3WbEcGGisGMvP5FQUWGwVDHQoDM7IHB+Par/boDe8GdLlsYBBJywVP9MjRZG2LBAAAAAABcwD4=",
        "encoding": "base64",
        "path": [
         "_data",
         0,
         "y",
         "value"
        ]
       },
       {
        "data": "5qXH3wPMmcE=",
        "encoding": "base64",
        "path": [
         "_data",
         1,
         "x",
         "value"
        ]
       },
       {
        "data": "zAUZ3ZIdmcE=",
        "encoding": "base64",
        "path": [
         "_data",
         1,
         "y",
         "value"
        ]
       }
      ],
      "model_module": "plotlywidget",
      "model_module_version": "^0.6.0",
      "model_name": "FigureModel",
      "state": {
       "_config": {
        "plotlyServerURL": "https://plot.ly"
       },
       "_data": [
        {
         "hoverinfo": "none",
         "line": {
          "color": "rgb(31, 119, 180)",
          "dash": "dash",
          "width": 2
         },
         "mode": "lines",
         "name": "2017-09-01 12:05 (Earth (♁))",
         "type": "scatter",
         "uid": "78636ac3-cf34-47bd-bc50-0d5e724342fb",
         "x": {
          "dtype": "float64",
          "shape": [
           100
          ],
          "value": {}
         },
         "y": {
          "dtype": "float64",
          "shape": [
           100
          ],
          "value": {}
         }
        },
        {
         "marker": {
          "color": "rgb(31, 119, 180)",
          "size": 10
         },
         "mode": "markers",
         "name": "2017-09-01 12:05 (Earth (♁))",
         "type": "scatter",
         "uid": "e90e01b4-90d4-416e-8913-1e807ee484d5",
         "x": {
          "dtype": "float64",
          "shape": [
           1
          ],
          "value": {}
         },
         "y": {
          "dtype": "float64",
          "shape": [
           1
          ],
          "value": {}
         }
        }
       ],
       "_js2py_pointsCallback": {},
       "_js2py_relayout": {},
       "_js2py_restyle": {},
       "_js2py_update": {},
       "_last_layout_edit_id": 3,
       "_last_trace_edit_id": 3,
       "_layout": {
        "autosize": true,
        "shapes": [
         {
          "fillcolor": "#ffcc00",
          "line": {
           "color": "#ffcc00"
          },
          "opacity": 1,
          "type": "circle",
          "x0": -22174626.124446128,
          "x1": 22174626.124446128,
          "xref": "x",
          "y0": -22174626.124446128,
          "y1": 22174626.124446128,
          "yref": "y"
         }
        ],
        "template": {},
        "xaxis": {
         "constrain": "domain",
         "title": {
          "text": "x (km)"
         }
        },
        "yaxis": {
         "scaleanchor": "x",
         "title": {
          "text": "y (km)"
         }
        }
       },
       "_py2js_animate": {},
       "_py2js_deleteTraces": {},
       "_py2js_moveTraces": {},
       "_py2js_removeLayoutProps": {},
       "_py2js_removeTraceProps": {},
       "_py2js_restyle": {},
       "_view_count": 1
      }
     },
     "be143180dbda420ea26f91d9d2c97856": {
      "buffers": [
       {
        "data": "4iy/fQR1FkHkrotN22gWQdKGFUZsRBZBsJzd9dwHFkEomArKa7MVQQIpD85vRxVBisTvUVjEFEG6VYR3rCoUQSIoLKcKexNBdKSD7Ce2EkHCMcQ7z9wRQaWbjqDg7xBB7kvvraDgD0F6v4mfS74NQal1ukH1egtBc60KxvIYCUHnZyX8uJoGQZc0psnZAgRB043sgwFUAUE/sl1d6CH9QGJuSEQVefdAnu5qN1+z8UAyme7wcq3nQHmdLbe7pNdAgPcYRjBIbsAwzTetYDDYwE/9NjACD+jApBtGQjT78cCefiAAD+H3wLlhqO38sv3AkX1xGH+1AcEkrobUloEEwRNfIIHjOgfBLJGjU5beCcFMx7/F9mkMwQ0obWNl2g7BNEKJP6+WEMEE5IRkPrARwalt6+O9uBLB76FCFx2vE8Fc2mEHXpIUwZsPPXKWYRXBpEVfvPAbFsHkbxvNrMAWwRfTkNQgTxfB6cW2+rnGF8GhX7v2/CYYwbQLGY6GbxjB6QHg+gugGMGLMso4W7gYwYgyyjhbuBjB6QHg+gugGMG0CxmOhm8YwZ1fu/b8JhjB5MW2+rnGF8ES05DUIE8XweBvG82swBbBnEVfvPAbFsGUDz1ylmEVwVTaYQdekhTB5KFCFx2vE8GebevjvbgSwfbjhGQ+sBHBKUKJP6+WEMH1J21jZdoOwTbHv8X2aQzBFpGjU5beCcH8XiCB4zoHwQCuhtSWgQTBbn1xGH+1AcFmYajt/LL9wFl+IAAP4ffAXRtGQjT78cDS/DYwAg/owA3MN61gMNjAgIQYRjBIbsANni23u6TXQIqZ7vByredAs+5qN1+z8UCbbkhEFXn3QGWyXV3oIf1A9o3sgwFUAUGvNKbJ2QIEQQloJfy4mgZBh60KxvIYCUHLdbpB9XoLQZa/iZ9Lvg1B/kvvraDgD0Gum46g4O8QQcwxxDvP3BFBfqSD7Ce2EkEmKCynCnsTQcRVhHesKhRBkMTvUVjEFEEDKQ/Ob0cVQSuYCsprsxVBtZzd9dwHFkHShhVGbEQWQeaui03baBZB4iy/fQR1FkE=",
        "encoding": "base64",
        "path": [
         "_data",
         0,
         "x",
         "value"
        ]
       },
       {
        "data": "AAAAAADABD7YDlQLX+rXQPiZAYIL3udAwus/kCbX8UBU/o1046z3QEuo7KY4av1AlPdPxJ2EAUF26j1eEEIEQc7h/A+h6gZBqsn2TpJ7CUHcwWzqPvILQTQgh8UcTA5BZPK9ul9DEEGpaIxg7U8RQSLyjn+iShJB8JV7qHwyE0GY0MTbjAYUQYHo9n/4xRRBvTQOQ/pvFUGDDd7l4gMWQZK6tvAZgRZBQiiQUB7nFkFtYBfchjUXQcifFcACbBdBcknB0lmKF0Ep1qLNbJAXQaQR0m01fhdBPGpqesZTF0G+qy+xSxEXQX0Zd5kJtxZBJGKDPV1FFkHLPpzKu7wVQYmaRBiyHRVBJcULF+RoFEGZWY8nDJ8TQY4LXFr6wBJBOGdzmZPPEUHsmVO80MsQQVwD6Q57bQ9B5tyEMO8iDUHTOGZ9WroKQX7KSIs4NghBLcmLViGZBUG2fb6VxuUCQaSgp/LwHgBBcddIV/qO+kCUR6lAssT0QOzaeDIDyu1AGPaU1Ozr4UBm+0KGdO3HQJL9QoZ07cfAoPaU1Ozr4cB223gyA8rtwMlHqUCyxPTAs9dIV/qO+sDAoKfy8B4Awc99vpXG5QLBTsmLViGZBcGdykiLODYIwes4Zn1augrBAd2EMO8iDcFyA+kOe20PwfmZU7zQyxDBP2dzmZPPEcGYC1xa+sASwaFZjycMnxPBLcULF+RoFMGNmkQYsh0VwdM+nMq7vBXBKWKDPV1FFsGCGXeZCbcWwcOrL7FLERfBP2pqesZTF8GnEdJtNX4XwSrWos1skBfBcUnB0lmKF8HKnxXAAmwXwW5gF9yGNRfBQiiQUB7nFsGOurbwGYEWwYEN3uXiAxbBtjQOQ/pvFcF66PZ/+MUUwY/QxNuMBhTB6ZV7qHwyE8EW8o5/okoSwZxojGDtTxHBWvK9ul9DEMEjIIfFHEwOwcTBbOo+8gvBksn2TpJ7CcG44fwPoeoGwU/qPV4QQgTBdvdPxJ2EAcFHqOymOGr9wBv+jXTjrPfAd+s/kCbX8cCQmQGCC97nwI8OVAtf6tfAAAAAAAAA9j0=",
        "encoding": "base64",
        "path": [
         "_data",
         0,
         "y",
         "value"
        ]
       },
       {
        "data": "Vf9DjBN4FME=",
        "encoding": "base64",
        "path": [
         "_data",
         1,
         "x",
         "value"
        ]
       },
       {
        "data": "e3OBnQUGC8E=",
        "encoding": "base64",
        "path": [
         "_data",
         1,
         "y",
         "value"
        ]
       }
      ],
      "model_module": "plotlywidget",
      "model_module_version": "^0.6.0",
      "model_name": "FigureModel",
      "state": {
       "_config": {
        "plotlyServerURL": "https://plot.ly"
       },
       "_data": [
        {
         "hoverinfo": "none",
         "line": {
          "color": "rgb(31, 119, 180)",
          "dash": "dash",
          "width": 2
         },
         "mode": "lines",
         "name": "2017-09-01 12:05 (Moon (☾))",
         "type": "scatter",
         "uid": "ea62d78b-398a-4659-abd6-a07922d418a3",
         "x": {
          "dtype": "float64",
          "shape": [
           100
          ],
          "value": {}
         },
         "y": {
          "dtype": "float64",
          "shape": [
           100
          ],
          "value": {}
         }
        },
        {
         "marker": {
          "color": "rgb(31, 119, 180)",
          "size": 10
         },
         "mode": "markers",
         "name": "2017-09-01 12:05 (Moon (☾))",
         "type": "scatter",
         "uid": "e512d42e-197c-4b82-82e5-52930c796298",
         "x": {
          "dtype": "float64",
          "shape": [
           1
          ],
          "value": {}
         },
         "y": {
          "dtype": "float64",
          "shape": [
           1
          ],
          "value": {}
         }
        }
       ],
       "_js2py_pointsCallback": {},
       "_js2py_relayout": {},
       "_js2py_restyle": {},
       "_js2py_update": {},
       "_last_layout_edit_id": 3,
       "_last_trace_edit_id": 3,
       "_layout": {
        "autosize": true,
        "shapes": [
         {
          "fillcolor": "#204a87",
          "line": {
           "color": "#204a87"
          },
          "opacity": 1,
          "type": "circle",
          "x0": -55190.56841993835,
          "x1": 55190.56841993835,
          "xref": "x",
          "y0": -55190.56841993835,
          "y1": 55190.56841993835,
          "yref": "y"
         }
        ],
        "template": {},
        "xaxis": {
         "constrain": "domain",
         "title": {
          "text": "x (km)"
         }
        },
        "yaxis": {
         "scaleanchor": "x",
         "title": {
          "text": "y (km)"
         }
        }
       },
       "_py2js_animate": {},
       "_py2js_deleteTraces": {},
       "_py2js_moveTraces": {},
       "_py2js_removeLayoutProps": {},
       "_py2js_removeTraceProps": {},
       "_py2js_restyle": {},
       "_view_count": 1
      }
     },
     "c764d2f1359f4ba697248f7bf2ddf3bd": {
      "buffers": [
       {
        "data": "LNkhtl/jgEGCTI2LFPyBQUY465sJ/oJBikLM/jTog0EwMSBRpbmEQS+aCa6CcYVBZDtqjQ8PhkH+kEKHqZGGQfJFG/vJ+IZBoevLmgZEh0FT6w/YEXOHQbi7eDS7hYdBlvFqc+97h0EApPKtuFWHQWezWkg+E4dBGq6RycS0hkEnLoaUrTqGQf+Aw4N2pYVBCxW2Z7n1hEGnZx1oKyyEQUDlTkmcSYNBxjkKlvVOgkEN17uuOT2BQWXaJb+CFYBBLbsDNwOyfUHPEY8M+RF7QVSdt7+bTXhBUf0Gg8VndUFGgRIKc2NyQSyja+qAh25B4rzROcwXaEEmE/5/an5hQRTz7WBShFVBmkMRjM1PP0Ecl05grhg4wfvFQyXD+1PBDTURxDf/YMGtZRzE3/9nwX7mF6qh+G7BAabi2CbxcsEX9+XR4Vp2wSL5FBf9tXnBK6qFEgP/fMFUOCNpSBmAwVFFBMOspoHB0R398hQmg8Fygqe/9ZWEwX+th/HT9IXBnPTz2UVBh8G0PunH9HmIwdj6S2menYnBO3QpFxarisFoBKMLRqGLwTCrQ4Awf4zBC+OYs/BDjcGHCQHVu+6NwWFIvNXhfo7BC31oHs7zjsFeCi0oCE2Pwayw+Pgzio/BZVlRghKrj8HeGlTiga+PwShzooZ9l4/BLLkYMR5jj8F+6EjemRKPwUAW1I1Dpo7BH+3b7IoejsGWYeTi+3uNwWBJnAE+v4zBJX8h2BPpi8GdoXIqWvqKwWYq3Q0H9InBOnJS6yjXiMFNH6lo5aSHwT1T6jl4XobBZqDi2zEFhcHaPEY5dpqDwTsAzju7H4LBoV3HSoeWgMHVVklx3wB+wYwfWUIuvnrBuYbuc1dod8GV8uwtywJ0wQwgoskJkXDBo6qYa0AtasFGtE+bSC5jwT4fJpvEWFjBaQmuzBq7RMGcJ+r6VjUsQSwh52GSRVFB36xoxP3QXkFC3i9eew1mQYRgDTvlimxBu6Ho7AVtcUG1oOIlN3p0QfgAXAPhaXdBJ4CVsPw4ekG0s9/npOR8QQScue4Yan9BJdkhtl/jgEE=",
        "encoding": "base64",
        "path": [
         "_data",
         0,
         "x",
         "value"
        ]
       },
       {
        "data": "ZkseZsjRfcGOs5x/gSJ7wfBNE/LST3jBkYREsqVcdcGYYQo0BExywWnoyI8uQm7BqvtyskW+Z8EWtlAhBRNhwYaRgXeZjlTBBvwrye4QO8H0q8V9X6s8QZJtrjhEMFVBIzGmpcqeYUHWBhVzJ6JoQYJT0NH9mm9BX7I/9A5Bc0F2TekPNah2QSLaHzxv/3lB0C+u4ktDfUF6rNixNjiAQaJ848bGwYFBPCgKf8A8g0FTmVUynaeEQQpk99TmAIZBGe/ceDlHh0ET75W8RHmIQSj/EybNlYlB0OfdZ62bikHtWWeP14mLQWF1VRtWX4xB40KR+EwbjUGCQSNl+ryNQbIu7re3Q45B0SV7DPqujkG8/yXSUv6OQTZcFj5wMY9B79iPnx1Ij0GpjEKWQ0KPQV3JYyroH49BkU52xi7hjkHEVMgSWIaOQdkTzbLBD45B+3iW5OV9jUGui9ICW9GMQVxnzunSCoxBloweQBori0FAiamjFzOKQZds7rvKI4lBPRV8Mkv+h0GeAKmSx8OGQeTGtBGEdYVB6L6UQNkUhEH1ScSoMqOCQeDphlUNIoFBFtk8luwlf0EcIhTbEe97QRAL6bDaonhBMcELVK1EdUHGfriEAthxQeqC5eXDwGxBxMD1Nb3CZUE+/XhYTHpdQVQVcx3v3E5BYD7PfGsHF0GAb3aIk+JIwfINkpx6KFrBAlPwM3zTY8FL6p4XbW9qwbKTOfGfcHDBqVb78yeRc8EF4ZpfFZZ2wcJHA3RLfHnBgkjTGs1AfMGqdwj8v+B+wUT2bLe3rIDBvi3doSfUgcG6zVAyf+WCwa5JdKSk34PBei0YHZbBhMGL3/6zaoqFwR2W8mNTOYbBEwMs4JvNhsEBvC1Oq0aHwZrIVOMEpIfBcOt7ZUjlh8EMCy2OMgqIwSB7+k+dEojBaam4/X/+h8EMv29T782HwTj++2AdgYfBW+RyVlkYh8EXQ4IyD5SGwYl0HVPH9IXBomzr6CU7hcEzjgZO6meEwV+7vEDue4PBBfYaAyV4gsEi7ytgml2BwZAB7JdxLYDBdkseZsjRfcE=",
        "encoding": "base64",
        "path": [
         "_data",
         0,
         "y",
         "value"
        ]
       },
       {
        "data": "3zTKSOundsE=",
        "encoding": "base64",
        "path": [
         "_data",
         1,
         "x",
         "value"
        ]
       },
       {
        "data": "HKbUIPLqhsE=",
        "encoding": "base64",
        "path": [
         "_data",
         1,
         "y",
         "value"
        ]
       },
       {
        "data": "P8echdOtmUE+dcBFps6ZQYqDcUt51JlBaZS1lUa/mUHo+4T+I4+ZQTVdRCRDRJlBwsOeNvHemEG78fSmll+YQSvos7y2xpdBAqQBDu8Ul0GYjkvd9kqWQaQVXlyeaZVBxSTI1c1xlEFCu2e9hGSTQU9yFqnYQpJBHGWFMvQNkUGR4d6GK46PQYssvpoc34xB2Ky03H8RikGZIbUHOSiHQR5bEVtIJoRBES2NgscOgUGWqnjIzMl7QQtf7a7PV3VBt7sWIXmcbUGV2AgroWdgQTCFTj2k9ThBgjjdEzZhVMECTFY1lXhnwY5Ps5rEVXLBlLqD+O3deMG8jNEAC05/wQCBM2W8z4LB78+0BtrlhcGRvALtL+aIwSjwyBOmzYvBsFC2Gj6ZjsFRJb4tC6OQwfm2GHG26JHBgcaDIlEck8GHnDMsnjyUwaOVU150SJXBBN9eob8+lsG/cLoSgh6XwXLmagrV5pfBem/YCOqWmMFvvquLCy6ZweeL6Midq5nBF82ETx8PmsGEFNeMKViawS2RUjZxhprBMq4jl8aZmsHBUV3BFZKawRwKhKJmb5rBhfth+9wxmsFg+ys7uNmZwZLWHT5TZ5nBbSrR7yPbmMG1XK/RujWYwXv/+2XCd5fBGy4RgP6hlsGiEYN6S7WVwd6h+lOdspTB3cixs/6ak8GILJTWj2+SwX73H2aFMZHBlM9xdE7Ej8HhPmsOngWNwfInB/PNKYrBJemhgNAzh8EnvnoRsyaEwXhdRNaaBYHBBxdGMIOne8Hidt/K5Ch1wXTYtrIYLG3BGNiUSQLXX8GUmOmhYO00wbqEZGFfX1VBjBHO2NvuZ0Gp6jVZGIlyQU1Ebp8RBnlB5H0jlKlnf0FwNuIiptOCQcjk+WFE34VBgp6l4YvTiEHbcBgLca2LQRmoCXoDao5BeNwkgjiDkEE3SBdRBMCRQVL2a5oe6pJBdsq3E1QAlEEYuVf0hQGVQdw8EB2r7JVBHnlYKdHAlkGZUjdpHX2XQULtsMLNIJhB/i7ceTmrmEEsB9Le0RuZQXovw+AicplBQMechdOtmUE=",
        "encoding": "base64",
        "path": [
         "_data",
         2,
         "x",
         "value"
        ]
       },
       {
        "data": "JGO61UfMZsH0lJYcixJTwQCGJ3ZaHz5BgtZ6nJQNYUFarUPZA0ZuQa5LxSLMr3VBvMf/d2gmfEERTEWoFkCBQez61mVHW4RBOX6kwZJhh0Fem9+S2k+KQQjdvnEZI41BB8y71GXYj0FCgIuIejaRQWrsxB0Pb5JBojcXc66Uk0EsImXcKaaUQb1sZ3BnopVBDoBGK2OIlkHL36H6L1eXQfQe8bH4DZhBL2xC5gCsmEG4MXSwpTCZQQOTIVVem5lBQq6U0bzrmUG1Vy1NbiGaQRtpx247PJpBOp3IlQg8mkFuJ5v21SCaQdCrd5q/6plB589+Qv2ZmUEfLkAu4i6ZQbvq6cXcqZhBml95KHYLmEFaMGKeUVSXQcx6PfErhZZB6KQuqdqelUGGYsYwS6KUQT3ZRuCBkJNBgyhF8ZhqkkHY+rxbvzGRQYwGhDtvzo9BfKwi3qwYjUH0lrLDAkWKQWDoQ+RaVodBajKkCrtPhEHMLLq2QTSBQQe+0sxFDnxBIXKckEmXdUEqsOducRRuQR6hogWo22BBCJCUD8COPEFZsVzll3ZTwa7uksAN/mbBQToRAmEUcsEuzosS65Z4wXlEGCrv/37BMfE42GikgsF81DUWjLWFwaS2w/g3sIjBUh1DUlqRi8GW/xxI+1WOwVBvBDGgfZDBJFuEvTe/kcFESonIeO6SwYn/QLgqCpTBCFNIHCkRlcHWBh/bZAKWwbdYnEnl3JbBiT9EK8mfl8EMGHWaR0qYwftrftew25jBRVrL/W5TmcG04GWeBrGZwYvAMz8X9JnBLNVpvlscmsH3WM+ZqimawYCihxn2G5rBCz82XkzzmcF81m5S16+ZwcHbf3/cUZnBAJTExbzZmMEEWMj480eYwbIAol8YnZfBHRILGtrZlsGDVNJqAv+VwfIAZehyDZXBcF1ElCQGlMEDflfaJuqSwbjBIXmeupHBenX+U8R4kMGiWjFhyEuOwTmb18G2hovBxJxati6liMHwziWCKKqFwbP48q+2mILBLNICzgXofsG5jvRQlX54wROsvPC3+3HBMWO61UfMZsE=",
        "encoding": "base64",
        "path": [
         "_data",
         2,
         "y",
         "value"
        ]
       },
       {
        "data": "XfvjEzwilUE=",
        "encoding": "base64",
        "path": [
         "_data",
         3,
         "x",
         "value"
        ]
       },
       {
        "data": "4vh+tc7ujcE=",
        "encoding": "base64",
        "path": [
         "_data",
         3,
         "y",
         "value"
        ]
       },
       {
        "data": "YcaocXCfoUE6rub0PZahQXPdrvmveqFBHd5m5+JMoUF3yYP0BQ2hQXdM3/Vau6BBal/bGjZYoEF9SDUt+8efQXG/TW1Svp5BSk3kzoOUnUHoF2ROwkucQdycTM9g5ZpBbT/cvtBimUH1IkCXoMWXQa7e0UR6D5ZBDXYKbyFClEEXK++mcV+SQT8X2HxcaZBBGsET/87DjEHgf2ZNVJaIQSua6FWXToRBqy2iNgPif0Hex/VKJgR3QbBFbHd3GWxB2NRCzAYUVEFw5IZS4yZQwbzWk1I7LGrB47vvANkWdsGtjRwXowJ/weGv7N4k6IPBYgY27Fw7iMFKFQdbhHaMwZhBvlCfSpDBQ0qTQaZJksGoIuQ4SDaUwRM4r2WJDpbB4sCH+ILQl8HWQmYZZXqZwWF9zMV4CpvBv9dPlSF/nMGL1bdi39adwQxZ+tdPEJ/BPMG+7RcVoME+VJNurpGgwVyL7wBr/aDBW+kslt5XocHyuwTxq6ChwToTrQWI16HBM680Rzr8ocEMJc7hnA6iwQclzuGcDqLBJ680Rzr8ocElE60FiNehwdS7BPGroKHBNekslt5XocEti+8Aa/2gwQdUk26ukaDBAcG+7RcVoMGCWPrXTxCfwfXUt2Lf1p3BGNdPlSF/nMGwfMzFeAqbwRhCZhllepnBGsCH+ILQl8E9N69liQ6Wwcwh5DhINpTBVkmTQaZJksGjQL5Qn0qQwVUTB1uEdozBbwQ27Fw7iMHXrezeJOiDwZiJHBejAn/BwbfvANkWdsEuzpNSOyxqwXjThlLjJlDBxuVCzAYUVEHKTWx3dxlsQefL9UomBHdBvjGiNgPif0EpnOhVl06EQdWBZk1UlohBCcMT/87DjEEqGNh8XGmQQfwr76ZxX5JB6HYKbyFClEF/39FEeg+WQb4jQJegxZdBJkDcvtBimUGKnUzPYOWaQYkYZE7CS5xB2U3kzoOUnUHyv01tUr6eQehINS37x59Bn1/bGjZYoEGhTN/1WrugQZrJg/QFDaFBON5m5+JMoUGD3a75r3qhQUSu5vQ9lqFBYcaocXCfoUE=",
        "encoding": "base64",
        "path": [
         "_data",
         4,
         "x",
         "value"
        ]
       },
       {
        "data": "AAAAAACMwD6qBTM0WRtiQbkyWxgEEnJBIvur/boDe0FVyUKAzOyBQYC+/kVBRYZBZnebEcGGikGACMjO6KyOQUJmgcy4WZFBpHwekhpLk0HMSPIBmSiVQdz09eVH8JZB+5DGg1GgmEEEx9mA+DaaQcJikq2ZsptBo3Rbta0RnUGFoQyyylKeQefM96CldJ9BHMgP3Ak7oEEhYhvNBaugQazPFTTTCaFBTjeSVxBXoUHBS/yYbZKhQdUZq8atu6FBv4j1WqbSoUHIhgeoP9ehQUSzSvB0yaFBj1xJa1SpoUGKyAY3/3ahQe7i2zWpMqFBF4L72JjcoEEYZNXXJnWgQQZ8Ral7+Z9By0T13LPnnkHIG7+CELadQeT7k6nMZZxBwAWM8kL4mkF/YZYr7G6ZQQwyDstdy5dBkP3ETUgPlkFaYjF5dTyUQUmnjYPGVJJBzpTMIzJakEF61ccWhZ2MQfBEBZgmaYhBurq7Vp4bhEEpYEedt3J/QWSEkbLHjXZB+NggFjAja0EMrrLurh1SQSK/su6uHVLBdeEgFjAja8GQiJGyx412wTxkR523cn/Bxry7Vp4bhMHpRgWYJmmIwW/XxxaFnYzBvJXMIzJakME1qI2DxlSSwTNjMXl1PJTBZ/7ETUgPlsHUMg7LXcuXwTxilivsbpnBcgaM8kL4msGM/JOpzGWcwVwcv4IQtp3BV0X13LPnnsGFfEWpe/mfwU5k1dcmdaDBRIL72JjcoMEV49s1qTKhwabIBjf/dqHBpVxJa1SpocFQs0rwdMmhwc2GB6g/16HBu4j1WqbSocHIGavGrbuhwaxL/JhtkqHBLzeSVxBXocGHzxU00wmhwfJhG80Fq6DB5McP3Ak7oMFuzPegpXSfwfqgDLLKUp7BDXRbta0RncEaYpKtmbKbwU3G2YD4NprBQJDGg1GgmMEV9PXlR/CWwfdH8gGZKJXByXsekhpLk8FiZYHMuFmRwbgGyM7orI7BZ3WbEcGGisGMvP5FQUWGwVDHQoDM7IHB+Par/boDe8GdLlsYBBJywVP9MjRZG2LBAAAAAABcwD4=",
        "encoding": "base64",
        "path": [
         "_data",
         4,
         "y",
         "value"
        ]
       },
       {
        "data": "5qXH3wPMmcE=",
        "encoding": "base64",
        "path": [
         "_data",
         5,
         "x",
         "value"
        ]
       },
       {
        "data": "zAUZ3ZIdmcE=",
        "encoding": "base64",
        "path": [
         "_data",
         5,
         "y",
         "value"
        ]
       },
       {
        "data": "v+stv+EVo8EetzuyzPOhwfAY8g44vaDBvVAV+cfmnsERexrzSC+cwel7rfq/VpnBmacqDRxglsHo7m0wa06TwUiVskzXJJDB0Qhp00XNicHkqt+kSy6DwQ9W1Ysm53jB9AYLHzKQZsFgEFQdNZRDQZaBcpqROnBBIkJlDNMBfkH8NmiAC92FQSYpY3mcqoxB9XtOmUyxkUGMjQlWCv+UQahL9qMfO5hBR8nq5zZim0E+EmoqEHGeQUwUoDhCsqBBOsatf8QcokFDaMU7mXajQYRgce9bvqRBX3vZvbrypUHhnQnHdxKnQdjdnW9qHKhBZjqCkoAPqUGoyIqbv+qpQYoGwYlFrapBoBBc2ElWq0EclHNNHuWrQXprmK0vWaxB4sOZUwayrEHUWNqrRu+sQXKjtpKxEK1Bwa6alSQWrUEneYQWmv+sQc5IzlEpzaxB3fo6RgZ/rEEU/lx/gRWsQQU5j8IHkatBsnHVniHyqkFJyxfgcjmqQfF0Sua5Z6lBQZYv4c59qEHtw33xonynQaS0UDA/ZaZBaG7kncM4pUGmnbT4ZfijQd8cMn5wpaJBDc9XlkBBoUF1a/vWipqfQZoSu9/8lZxBKPSdpPN3mUFTF6bHpUOWQZZNK99g/JJBXsNpHAxLj0HKrVgRDYWIQXoDAQ7ArYFBL1uFs2SYdUESjKFs3jtfQQBxb95DylfB0pIa8gaec8HYKTSBqZKAwRQA7o5BPYfB7iORcOzHjcGMkcTu9RWSwfMl6rRUMZXB1RA1qN4ymMFMXsWGehebwU5XFOEs3J3BHuZ1lg0/oMHTQDpbR32hwbm7KbZ7p6LBvO75QXe8o8EDSaJ5HLukwZfyrd5koqXBAGzRB2JxpsEi/6yWPienwWOsvhM/w6fB3tmgr8JEqMHhkc7oQ6uowSVwQhVZ9qjBKGFiz7QlqcFO7MdFJjmpwRPLkm2ZMKnBwO0RFxcMqcFmoa3kxMuowcY0HCTlb6jBrRkJitb4p8HI9nTQE2enwS5MMzgzu6bBRhMI7uX1pcF7AgVU9xelwW644i9MIqTBvustv+EVo8E=",
        "encoding": "base64",
        "path": [
         "_data",
         6,
         "x",
         "value"
        ]
       },
       {
        "data": "KMo1SOZcn8F8654nmPmgwTV0InyaMaLBUz51gThVo8GOP5ycRWOkwXKAsG2rWqXB43vT7mo6psFWNRF7nQGnwc8JIbx1r6fBQSYQfkBDqMFxc/tnZbyowUaLGplnGqnB0NV5KeZcqcEgHN+NnIOpwQ+Ycd5ijqnBlKvc/y19qcEw2MKuD1CpwVApdW02B6nBVeoBVO2iqMHkE8zCmyOowew7+/fEiafBLuExiAfWpsFOhxW7HAmmwY4lUczXI6XBR8jWESUnpMHs2UAICRSjwT00Tkaf66HBm8SNWBmvoMFfNM4Me7+ewSMViQPL/ZvBakFzBfobmcGYViqhAB2WweHNwnP1A5PB2GKZ8xOoj8FymkmJDiGJwf0D7i6VeYLBt8e9vQdxd8F/lG3VQ5NjwSw+Icyfp09Bdnk35o68cUEiDnSG+n5/QUgLwO4Dl4ZBF8Pe8s1djUGQ+L6GbwaSQbsYTripTpVBHgA9bjOEmEEtwZ7MvaObQasxb6QQqp5B8oKU4gbKoEGAKcgZWi+iQbmoMKGRg6NBLSHZxE7FpEFB1/zcRfOlQZTX56M/DKdBX7bUdhoPqEEoqHyAy/qoQTcwJsxfzqlBUNsWQP2IqkFw3WV+4ymrQZPRR6tssKtBcTMHGA4crEFxVfnRWGysQRp23BT6oKxBdBApoLu5rEGzdP7ug7asQaADcVJWl6xBp+4e7lJcrEHtAg+XtgWsQQym+5Tak6tBI6hKRjQHq0GvyRCnVGCqQVCsnbvnn6lBiD0q37PGqEFvZGD3mNWnQcq3jo2PzaZBVCZ2zqevpUEDqLlxCH2kQcMvEYrtNqNBmAZ5P6feoUFhbK10mHWgQTVgr7Jq+p1B5rLL1APumkERvzDEIMmXQfFixDL/jpRBBvSMuPJCkUHYtbPLwtCLQcxUxISABYVBQN3W8z5WfEFrAGl7wCJtQfAtpkjNUilBAyMmEtbfacEYlTpI/Y96weKxb1/KA4TB+fduyWekisHZFOn8gJGQwWR19ItzvJPB0n2joMfPlsEaMZeiUciZwbHX45YBo5zBLMo1SOZcn8E=",
        "encoding": "base64",
        "path": [
         "_data",
         6,
         "y",
         "value"
        ]
       },
       {
        "data": "x4CA51ncqkE=",
        "encoding": "base64",
        "path": [
         "_data",
         7,
         "x",
         "value"
        ]
       },
       {
        "data": "NYV53dTpmEE=",
        "encoding": "base64",
        "path": [
         "_data",
         7,
         "y",
         "value"
        ]
       },
       {
        "data": "M+Jgvk28jMFWbcCrbjSGwbNb9mn2/37BD9LUablLccHokniqNdJKwWy0eHkEjGVBI0uirZEGeUEFa8dMW6yDQVdoOu7W1opBqCVrWqz9kEEklqThQYmUQctMHH6ECphBeVeFRdd9m0F6PF+rq9+eQSCDyZVCFqFBvs08cX6wokG4gUuH4jykQaKXNjzWuaVBVctx3tAlp0GOpG87W3+oQTF0ZCIRxalBApdx06L1qkEJgr5Z1g+sQTLUGs+IEq1B89Hbh6/8rUFEL8AlWc2uQQzLvpCug69BLfFf6nkPsEFLFq5xRE+wQWMUbRz1gLBBc8TfsViksEEhfjW3SrmwQcm+JJW1v7BBNM8srpK3sEGfdmdl6qCwQZyz4xXUe7BBOmSS+nVIsEHirt0GBQewQZ+WJ2CJb69BTt+6Tw22rkGtHw8QVeKtQeF77t869axByYJaKLPvq0FksZqAy9KqQV8BVpipn6lBWfnVCIpXqEHLUKsOv/umQQiSBC2vjaVBkiIevNMOpEHUpUhkt4CiQRCxFof05KBBe1mqMGd6nkH66ATRUhabQS93DsUqoZdBvbkCfX8elEHNBvhW75GQQZzG58dF/olBLFL4RJLTgkHt1B/KTlZ3QbQZ0zWYMWJBKKDBktYKVMFvxOiiq+1ywShxY4zeTIDBs5MMCmn8hsFmk03/kH6NwWRp03RQ5pHBDMXWfAzwlME7nRHjWtmXweIwZWA7n5rBvFUoM9I+ncFk8HYRa7WfwZUeafk9AKHBYiUZ19MOosES9+o0YAWjwacSJ+3k4qPBSRI6p32mpMEd+RbDYE+lwXQkDing3KXBu6FC/WlOpsGx6wQ2iaOmwc8ReBTm26bB8+wEf0b3psEyJD49jvWmwWNF9xS/1qbBwPRwyPiapsG9FZz1eEKmwXGsldaazaXBjPCc49Y8pcEaguRWwpCkwX/CvpIOyqPBLePDaojposGGJq5QF/ChwVH5xWW83qDBC6Sn4yJtn8FbIVKBj/GcwUOS1s5NTZrBQ8HM5RaDl8ExKIMAy5WUwR2LE4NuiJHBN+Jgvk28jME=",
        "encoding": "base64",
        "path": [
         "_data",
         8,
         "x",
         "value"
        ]
       },
       {
        "data": "iYffr/B6oMHKMsz0MQKhwbIMBz96a6HB6hSPB122ocGOvLscjeKhwe6kz/Hc76HBKsTszT7eocHyiDnaxK2hwbdoKA+hXqHBbyT1ACXxoMET3YyLwWWgwcROb7wMep/BIxb3zkLvncG7NqNDvCycwZ30y4NJNJrBpvt1jvIHmMFmaEzg9KmVwcAadyTBHJPB+7SusPhikMFdF0ye1f6KwboCKbIj6oTBr3t2k0AcfcEjwf9XZsVvwSSk/aMIqkHBY9awqvi7Z0EEl1PFgkh6QblywPq6fYRBIjDde9fzi0H6Twj1cr+RQQZtHdmPi5VBIXH8VlhamUGIPMia3yedQbgs4g0deKBBlPll08BXokGHjqSx7DCkQWnfQ+e4AaZBNLKkVEbIp0H1sMZpwIKpQaSISQlfL6tB4i+ZXmjMrEF2rGClMliuQanabeAl0a9BquUgv96asEGDGc70REKxQZWCMgIZ3rFBNtK2RbptskEfeM2wlPCyQQ1okWAhZrNBWkvRKOfNs0E6yvcQeye0QdEqUMKAcrRBWJs156qutEEtCct6u9u0QbFX6QiE+bRBlhAC3uUHtUHnMMUm0ga1QWFzaf9J9rRBHVeHcl7WtEHKEIhnMKe0Qc2BuoDwaLRBOCwx6d4btEEc0ZwSS8CzQWLoZ2OTVrNBG11n1STfskEl3YSFelqyQUyI1jQdybFBh9Cmu6IrsUGp2/1urYKwQVdAl/LWna9ByXW+TSwirkGkHslN4pOsQVgvWoOT9KpBXKcnCuxFqUGF76zPp4mnQR6hjsmQwaVBJmyHHX3vo0EavcQ8TRWiQUa1pvTpNKBBY/PD7YSgnEFefBW2lNKYQYZ6LjfvA5VBV/TYIIE4kUFAyyqkZ+iKQS4rvaHSdYNBALcBJuFBeEHpZxDNQMVjQep0i04xjVDBO/UJdnDBccF4lbJpwul+wax0uwVZx4XBQaKWU5vRi8HSAs0Zt8aQwW0aokp0epPB5CILLTwBlsFLbtMJdFiYwWvoFDGyfZrBab/xdsBunMHuijN7nimewY5UdrmDrJ/BiYffr/B6oME=",
        "encoding": "base64",
        "path": [
         "_data",
         8,
         "y",
         "value"
        ]
       },
       {
        "data": "cf7qdPcwm8E=",
        "encoding": "base64",
        "path": [
         "_data",
         9,
         "x",
         "value"
        ]
       },
       {
        "data": "ldTh+vrNmcE=",
        "encoding": "base64",
        "path": [
         "_data",
         9,
         "y",
         "value"
        ]
       }
      ],
      "model_module": "plotlywidget",
      "model_module_version": "^0.6.0",
      "model_name": "FigureModel",
      "state": {
       "_config": {
        "plotlyServerURL": "https://plot.ly"
       },
       "_data": [
        {
         "hoverinfo": "none",
         "line": {
          "color": "rgb(31, 119, 180)",
          "dash": "dash",
          "width": 2
         },
         "mode": "lines",
         "name": "2017-09-01 12:05 (Mercury (☿))",
         "type": "scatter",
         "uid": "93d373b8-d956-4ec0-98de-ce0755fceb04",
         "x": {
          "dtype": "float64",
          "shape": [
           100
          ],
          "value": {}
         },
         "y": {
          "dtype": "float64",
          "shape": [
           100
          ],
          "value": {}
         }
        },
        {
         "marker": {
          "color": "rgb(31, 119, 180)",
          "size": 10
         },
         "mode": "markers",
         "name": "2017-09-01 12:05 (Mercury (☿))",
         "type": "scatter",
         "uid": "bd4e15b6-f975-4fc9-aef8-499cad67ddea",
         "x": {
          "dtype": "float64",
          "shape": [
           1
          ],
          "value": {}
         },
         "y": {
          "dtype": "float64",
          "shape": [
           1
          ],
          "value": {}
         }
        },
        {
         "hoverinfo": "none",
         "line": {
          "color": "rgb(255, 127, 14)",
          "dash": "dash",
          "width": 2
         },
         "mode": "lines",
         "name": "2017-09-01 12:05 (Venus (♀))",
         "type": "scatter",
         "uid": "00149e21-fe56-4290-bc1f-d7486a4dde37",
         "x": {
          "dtype": "float64",
          "shape": [
           100
          ],
          "value": {}
         },
         "y": {
          "dtype": "float64",
          "shape": [
           100
          ],
          "value": {}
         }
        },
        {
         "marker": {
          "color": "rgb(255, 127, 14)",
          "size": 10
         },
         "mode": "markers",
         "name": "2017-09-01 12:05 (Venus (♀))",
         "type": "scatter",
         "uid": "90f24c99-ac0b-4907-9616-3fee1cdc44bf",
         "x": {
          "dtype": "float64",
          "shape": [
           1
          ],
          "value": {}
         },
         "y": {
          "dtype": "float64",
          "shape": [
           1
          ],
          "value": {}
         }
        },
        {
         "hoverinfo": "none",
         "line": {
          "color": "rgb(44, 160, 44)",
          "dash": "dash",
          "width": 2
         },
         "mode": "lines",
         "name": "2017-09-01 12:05 (Earth (♁))",
         "type": "scatter",
         "uid": "b721b25a-3dcd-4e0e-853b-4e6d19d2fcb5",
         "x": {
          "dtype": "float64",
          "shape": [
           100
          ],
          "value": {}
         },
         "y": {
          "dtype": "float64",
          "shape": [
           100
          ],
          "value": {}
         }
        },
        {
         "marker": {
          "color": "rgb(44, 160, 44)",
          "size": 10
         },
         "mode": "markers",
         "name": "2017-09-01 12:05 (Earth (♁))",
         "type": "scatter",
         "uid": "0b618e10-c00f-4e1f-b42f-20d1517d1cd7",
         "x": {
          "dtype": "float64",
          "shape": [
           1
          ],
          "value": {}
         },
         "y": {
          "dtype": "float64",
          "shape": [
           1
          ],
          "value": {}
         }
        },
        {
         "hoverinfo": "none",
         "line": {
          "color": "rgb(214, 39, 40)",
          "dash": "dash",
          "width": 2
         },
         "mode": "lines",
         "name": "2017-09-01 12:05 (Mars (♂))",
         "type": "scatter",
         "uid": "5749d0d0-3586-45ea-89b0-250fec190aa5",
         "x": {
          "dtype": "float64",
          "shape": [
           100
          ],
          "value": {}
         },
         "y": {
          "dtype": "float64",
          "shape": [
           100
          ],
          "value": {}
         }
        },
        {
         "marker": {
          "color": "rgb(214, 39, 40)",
          "size": 10
         },
         "mode": "markers",
         "name": "2017-09-01 12:05 (Mars (♂))",
         "type": "scatter",
         "uid": "687dbc40-2217-44e7-bb72-f6e069234941",
         "x": {
          "dtype": "float64",
          "shape": [
           1
          ],
          "value": {}
         },
         "y": {
          "dtype": "float64",
          "shape": [
           1
          ],
          "value": {}
         }
        },
        {
         "hoverinfo": "none",
         "line": {
          "color": "rgb(148, 103, 189)",
          "dash": "dash",
          "width": 2
         },
         "mode": "lines",
         "name": "2017-09-01 12:05 (Florence)",
         "type": "scatter",
         "uid": "20696f36-74ee-4cbe-a495-3ee0d08152c3",
         "x": {
          "dtype": "float64",
          "shape": [
           100
          ],
          "value": {}
         },
         "y": {
          "dtype": "float64",
          "shape": [
           100
          ],
          "value": {}
         }
        },
        {
         "marker": {
          "color": "rgb(148, 103, 189)",
          "size": 10
         },
         "mode": "markers",
         "name": "2017-09-01 12:05 (Florence)",
         "type": "scatter",
         "uid": "ee229e4c-55f7-450b-a6d3-52328333e9f7",
         "x": {
          "dtype": "float64",
          "shape": [
           1
          ],
          "value": {}
         },
         "y": {
          "dtype": "float64",
          "shape": [
           1
          ],
          "value": {}
         }
        }
       ],
       "_js2py_pointsCallback": {},
       "_js2py_relayout": {},
       "_js2py_restyle": {},
       "_js2py_update": {},
       "_last_layout_edit_id": 11,
       "_last_trace_edit_id": 11,
       "_layout": {
        "autosize": true,
        "shapes": [
         {
          "fillcolor": "#ffcc00",
          "line": {
           "color": "#ffcc00"
          },
          "opacity": 1,
          "type": "circle",
          "x0": -7096333.71093346,
          "x1": 7096333.71093346,
          "xref": "x",
          "y0": -7096333.71093346,
          "y1": 7096333.71093346,
          "yref": "y"
         }
        ],
        "template": {},
        "xaxis": {
         "constrain": "domain",
         "title": {
          "text": "x (km)"
         }
        },
        "yaxis": {
         "scaleanchor": "x",
         "title": {
          "text": "y (km)"
         }
        }
       },
       "_py2js_animate": {},
       "_py2js_deleteTraces": {},
       "_py2js_moveTraces": {},
       "_py2js_removeLayoutProps": {},
       "_py2js_removeTraceProps": {},
       "_py2js_restyle": {},
       "_view_count": 1
      }
     },
     "cd41141932ca4fc48d0667ab1a14c847": {
      "buffers": [
       {
        "data": "YcaocXCfoUE6rub0PZahQXPdrvmveqFBHd5m5+JMoUF3yYP0BQ2hQXdM3/Vau6BBal/bGjZYoEF9SDUt+8efQXG/TW1Svp5BSk3kzoOUnUHoF2ROwkucQdycTM9g5ZpBbT/cvtBimUH1IkCXoMWXQa7e0UR6D5ZBDXYKbyFClEEXK++mcV+SQT8X2HxcaZBBGsET/87DjEHgf2ZNVJaIQSua6FWXToRBqy2iNgPif0Hex/VKJgR3QbBFbHd3GWxB2NRCzAYUVEFw5IZS4yZQwbzWk1I7LGrB47vvANkWdsGtjRwXowJ/weGv7N4k6IPBYgY27Fw7iMFKFQdbhHaMwZhBvlCfSpDBQ0qTQaZJksGoIuQ4SDaUwRM4r2WJDpbB4sCH+ILQl8HWQmYZZXqZwWF9zMV4CpvBv9dPlSF/nMGL1bdi39adwQxZ+tdPEJ/BPMG+7RcVoME+VJNurpGgwVyL7wBr/aDBW+kslt5XocHyuwTxq6ChwToTrQWI16HBM680Rzr8ocEMJc7hnA6iwQclzuGcDqLBJ680Rzr8ocElE60FiNehwdS7BPGroKHBNekslt5XocEti+8Aa/2gwQdUk26ukaDBAcG+7RcVoMGCWPrXTxCfwfXUt2Lf1p3BGNdPlSF/nMGwfMzFeAqbwRhCZhllepnBGsCH+ILQl8E9N69liQ6Wwcwh5DhINpTBVkmTQaZJksGjQL5Qn0qQwVUTB1uEdozBbwQ27Fw7iMHXrezeJOiDwZiJHBejAn/BwbfvANkWdsEuzpNSOyxqwXjThlLjJlDBxuVCzAYUVEHKTWx3dxlsQefL9UomBHdBvjGiNgPif0EpnOhVl06EQdWBZk1UlohBCcMT/87DjEEqGNh8XGmQQfwr76ZxX5JB6HYKbyFClEF/39FEeg+WQb4jQJegxZdBJkDcvtBimUGKnUzPYOWaQYkYZE7CS5xB2U3kzoOUnUHyv01tUr6eQehINS37x59Bn1/bGjZYoEGhTN/1WrugQZrJg/QFDaFBON5m5+JMoUGD3a75r3qhQUSu5vQ9lqFBYcaocXCfoUE=",
        "encoding": "base64",
        "path": [
         "_data",
         0,
         "x",
         "value"
        ]
       },
       {
        "data": "AAAAAACMwD6qBTM0WRtiQbkyWxgEEnJBIvur/boDe0FVyUKAzOyBQYC+/kVBRYZBZnebEcGGikGACMjO6KyOQUJmgcy4WZFBpHwekhpLk0HMSPIBmSiVQdz09eVH8JZB+5DGg1GgmEEEx9mA+DaaQcJikq2ZsptBo3Rbta0RnUGFoQyyylKeQefM96CldJ9BHMgP3Ak7oEEhYhvNBaugQazPFTTTCaFBTjeSVxBXoUHBS/yYbZKhQdUZq8atu6FBv4j1WqbSoUHIhgeoP9ehQUSzSvB0yaFBj1xJa1SpoUGKyAY3/3ahQe7i2zWpMqFBF4L72JjcoEEYZNXXJnWgQQZ8Ral7+Z9By0T13LPnnkHIG7+CELadQeT7k6nMZZxBwAWM8kL4mkF/YZYr7G6ZQQwyDstdy5dBkP3ETUgPlkFaYjF5dTyUQUmnjYPGVJJBzpTMIzJakEF61ccWhZ2MQfBEBZgmaYhBurq7Vp4bhEEpYEedt3J/QWSEkbLHjXZB+NggFjAja0EMrrLurh1SQSK/su6uHVLBdeEgFjAja8GQiJGyx412wTxkR523cn/Bxry7Vp4bhMHpRgWYJmmIwW/XxxaFnYzBvJXMIzJakME1qI2DxlSSwTNjMXl1PJTBZ/7ETUgPlsHUMg7LXcuXwTxilivsbpnBcgaM8kL4msGM/JOpzGWcwVwcv4IQtp3BV0X13LPnnsGFfEWpe/mfwU5k1dcmdaDBRIL72JjcoMEV49s1qTKhwabIBjf/dqHBpVxJa1SpocFQs0rwdMmhwc2GB6g/16HBu4j1WqbSocHIGavGrbuhwaxL/JhtkqHBLzeSVxBXocGHzxU00wmhwfJhG80Fq6DB5McP3Ak7oMFuzPegpXSfwfqgDLLKUp7BDXRbta0RncEaYpKtmbKbwU3G2YD4NprBQJDGg1GgmMEV9PXlR/CWwfdH8gGZKJXByXsekhpLk8FiZYHMuFmRwbgGyM7orI7BZ3WbEcGGisGMvP5FQUWGwVDHQoDM7IHB+Par/boDe8GdLlsYBBJywVP9MjRZG2LBAAAAAABcwD4=",
        "encoding": "base64",
        "path": [
         "_data",
         0,
         "y",
         "value"
        ]
       },
       {
        "data": "5qXH3wPMmcE=",
        "encoding": "base64",
        "path": [
         "_data",
         1,
         "x",
         "value"
        ]
       },
       {
        "data": "zAUZ3ZIdmcE=",
        "encoding": "base64",
        "path": [
         "_data",
         1,
         "y",
         "value"
        ]
       },
       {
        "data": "Yphqg1uLh8GUtX5xIqaAwcgcJ8jnO3PBWsEZLnzQU8EowIq5ufhiQYifToapBnhB84Ma9eRNg0FCCTjsWpaKQTaipl2a6pBBVY2RLn2BlEFb1LizIgyYQZYP11XkhptB5uTq3ivunkH9A12WOx+hQeEEUectuqJBJ05+RUVGpEEwDztk6cGlQbsW6euSK6dBMURdDc2BqEFYSiwCN8OpQbCeUHiF7qpBALqy54MCrEGWmzPQFf6sQVe28d434K1BlfmZ+QCorkHyZrEuo1SvQceD34ls5a9BX2iv5eMssEHgF+uAnliwQVpQ/gK5dbBB/fDDaxWEsEFFFIPtpIOwQR6XMfxndLBBCJD8TG5WsEGSMRfG1imwQeSRwb2e3a9BXFwF4SlLr0Et+23u5ZyuQd2F8YiG061BB5jbRNvvrEGAJtPRzvKrQYoX7whm3apBzP3S376wqUFiI+lBD26oQVvA6dCjFqdBn674jd6rpUHnDrtsNS+kQQUI3dEwoqJBDP2U/mkGoUH/W4rVErueQatE3R6KUptBMc5wRr3Wl0FBBrmVQ0uUQTL9sH7Es5BBeJ8nr+cnikEXVJ8THN+CQdq7h+BQKXdBelSm/kJAYUFkUUhuaDlXwWXv0ZVBE3TBdmSkuO8PgcGIT8ka3PKHwSxS5K5Mq47BLvDC/imZksGefDG/m8CVwZxo+kO7yJjBa4y4gWium8H4Axnvpm6ewZB6ekxQg6DBh1pSh9S5ocFdc8QRoNmiwQkmeUGK4aPBPAXgCYPQpMEV9Z4UlKWlweA0gL/hX6bBr5DZ/qv+psHCWYMjT4GnwWAUk4NE56fBUe0rBSMwqMEc39WKn1uowSTZ60CNaajBdxfRy91ZqMFnCb5WoSyowUyFFYMG4qfBindTOFp6p8G3mcZUB/amwYPpZj+WVabBIm46W6yZpcHYPNlcC8OkwQh6wIKQ0qPBGitCsTPJosGm8PxyBqihwRUS494ycKDBpgfnyfRFnsE3UMMFaYObwc+wAsSam5jBMWzIv4iRlcHsbFYGVWiSweAYj3iDRo7BZZhqg1uLh8E=",
        "encoding": "base64",
        "path": [
         "_data",
         2,
         "x",
         "value"
        ]
       },
       {
        "data": "PRQyxkcDocEixwzP3I+hwdn2OFN7/aHBIqFDU7JLosFIbAgvMXqiwU/1zfjHiKLBq7Wtpmd3osHFkhQiIkaiwX4cTDUq9aHBOYMfV9OEocFEPdJUkfWgwTYMwdr3R6DBit1QuHP5nsEZ1Fq1USmdwX+hzRxoIZvBL06L3s7jmMGtqbVB1XKWwZLGLYP/0JPBvdd7PQQBkcEJ/pc5kwuMwSBFxMPExIXBHqVl3CpofsHic81qk8BwwSyf1jy0BkXB7w3OPfnQZ0E6mQsDasx6QcMgAx3M/YRBFr84IzCzjEFYNrNuNz+SQTns08a/K5ZBLXKLmyUbmkGrrE56WgmeQXpZd5Uo+aBBJ4Fk7gDpokG6vzInN9KkQdXwnPXSsqZBkiOq7eSIqEHjn16AiFKqQSA3Ou/lDaxBDf2AMjS5rUG6I1nQulKvQX0rbNFpbLBBekWWRfYksUE+1g+IRNKxQdpzJfOhc7JBCZ4yMGgIs0FH2hjj/Y+zQQfiVUjXCbRBde0VxXZ1tEHql61obdK0QUHm9V5bILVB04wUU/BetUGQoUrC6421QdxddD4drbVBzmP1n2S8tUHzEN4msru1QR2zJ4sGq7VBmuP2+3KKtUHKy+QNGVq1Qd6VYZgqGrVBZ7hTgunKtEGkEil+p2y0Qbrgn7XF/7NBEVeeZbSEs0HJI4Bq8vuyQXgZUb0MZrJBdtB74p3DsUGeCoJKTRWxQfgJY6XOW7BBa4vDUsIvr0Ey2tObnZStQQnMvfbW56tBecZWYSgrqkHnfOU+XGCoQWHTnX9LiaZBHAYdudunpEGpntwx/b2iQWIyoOGozaBBB4Ha0byxnUGphksDRMOZQSs1ytX005VBGLSHpN3nkUFny6byEgaMQYqSVMP3UoRBXAD3LbN8eUGeoqxvI0BlQVwnZ7MXBU/BKimguXf2ccFsLMOZ55J/waz3x2D1U4bB9GiCegKUjMHA+QHelEGRwRHMs5WmDZTBcyWXQFSrlsEyZQON6xeZwWBT/8LsUJvBwrKwVw1UncEcIPtJOh+fwZZ+7yJNWKDBPRQyxkcDocE=",
        "encoding": "base64",
        "path": [
         "_data",
         2,
         "y",
         "value"
        ]
       },
       {
        "data": "fCQQi0EVmsE=",
        "encoding": "base64",
        "path": [
         "_data",
         3,
         "x",
         "value"
        ]
       },
       {
        "data": "5qT7IQs6msE=",
        "encoding": "base64",
        "path": [
         "_data",
         3,
         "y",
         "value"
        ]
       },
       {
        "data": "M+Jgvk28jMFWbcCrbjSGwbNb9mn2/37BD9LUablLccHokniqNdJKwWy0eHkEjGVBI0uirZEGeUEFa8dMW6yDQVdoOu7W1opBqCVrWqz9kEEklqThQYmUQctMHH6ECphBeVeFRdd9m0F6PF+rq9+eQSCDyZVCFqFBvs08cX6wokG4gUuH4jykQaKXNjzWuaVBVctx3tAlp0GOpG87W3+oQTF0ZCIRxalBApdx06L1qkEJgr5Z1g+sQTLUGs+IEq1B89Hbh6/8rUFEL8AlWc2uQQzLvpCug69BLfFf6nkPsEFLFq5xRE+wQWMUbRz1gLBBc8TfsViksEEhfjW3SrmwQcm+JJW1v7BBNM8srpK3sEGfdmdl6qCwQZyz4xXUe7BBOmSS+nVIsEHirt0GBQewQZ+WJ2CJb69BTt+6Tw22rkGtHw8QVeKtQeF77t869axByYJaKLPvq0FksZqAy9KqQV8BVpipn6lBWfnVCIpXqEHLUKsOv/umQQiSBC2vjaVBkiIevNMOpEHUpUhkt4CiQRCxFof05KBBe1mqMGd6nkH66ATRUhabQS93DsUqoZdBvbkCfX8elEHNBvhW75GQQZzG58dF/olBLFL4RJLTgkHt1B/KTlZ3QbQZ0zWYMWJBKKDBktYKVMFvxOiiq+1ywShxY4zeTIDBs5MMCmn8hsFmk03/kH6NwWRp03RQ5pHBDMXWfAzwlME7nRHjWtmXweIwZWA7n5rBvFUoM9I+ncFk8HYRa7WfwZUeafk9AKHBYiUZ19MOosES9+o0YAWjwacSJ+3k4qPBSRI6p32mpMEd+RbDYE+lwXQkDing3KXBu6FC/WlOpsGx6wQ2iaOmwc8ReBTm26bB8+wEf0b3psEyJD49jvWmwWNF9xS/1qbBwPRwyPiapsG9FZz1eEKmwXGsldaazaXBjPCc49Y8pcEaguRWwpCkwX/CvpIOyqPBLePDaojposGGJq5QF/ChwVH5xWW83qDBC6Sn4yJtn8FbIVKBj/GcwUOS1s5NTZrBQ8HM5RaDl8ExKIMAy5WUwR2LE4NuiJHBN+Jgvk28jME=",
        "encoding": "base64",
        "path": [
         "_data",
         4,
         "x",
         "value"
        ]
       },
       {
        "data": "iYffr/B6oMHKMsz0MQKhwbIMBz96a6HB6hSPB122ocGOvLscjeKhwe6kz/Hc76HBKsTszT7eocHyiDnaxK2hwbdoKA+hXqHBbyT1ACXxoMET3YyLwWWgwcROb7wMep/BIxb3zkLvncG7NqNDvCycwZ30y4NJNJrBpvt1jvIHmMFmaEzg9KmVwcAadyTBHJPB+7SusPhikMFdF0ye1f6KwboCKbIj6oTBr3t2k0AcfcEjwf9XZsVvwSSk/aMIqkHBY9awqvi7Z0EEl1PFgkh6QblywPq6fYRBIjDde9fzi0H6Twj1cr+RQQZtHdmPi5VBIXH8VlhamUGIPMia3yedQbgs4g0deKBBlPll08BXokGHjqSx7DCkQWnfQ+e4AaZBNLKkVEbIp0H1sMZpwIKpQaSISQlfL6tB4i+ZXmjMrEF2rGClMliuQanabeAl0a9BquUgv96asEGDGc70REKxQZWCMgIZ3rFBNtK2RbptskEfeM2wlPCyQQ1okWAhZrNBWkvRKOfNs0E6yvcQeye0QdEqUMKAcrRBWJs156qutEEtCct6u9u0QbFX6QiE+bRBlhAC3uUHtUHnMMUm0ga1QWFzaf9J9rRBHVeHcl7WtEHKEIhnMKe0Qc2BuoDwaLRBOCwx6d4btEEc0ZwSS8CzQWLoZ2OTVrNBG11n1STfskEl3YSFelqyQUyI1jQdybFBh9Cmu6IrsUGp2/1urYKwQVdAl/LWna9ByXW+TSwirkGkHslN4pOsQVgvWoOT9KpBXKcnCuxFqUGF76zPp4mnQR6hjsmQwaVBJmyHHX3vo0EavcQ8TRWiQUa1pvTpNKBBY/PD7YSgnEFefBW2lNKYQYZ6LjfvA5VBV/TYIIE4kUFAyyqkZ+iKQS4rvaHSdYNBALcBJuFBeEHpZxDNQMVjQep0i04xjVDBO/UJdnDBccF4lbJpwul+wax0uwVZx4XBQaKWU5vRi8HSAs0Zt8aQwW0aokp0epPB5CILLTwBlsFLbtMJdFiYwWvoFDGyfZrBab/xdsBunMHuijN7nimewY5UdrmDrJ/BiYffr/B6oME=",
        "encoding": "base64",
        "path": [
         "_data",
         4,
         "y",
         "value"
        ]
       },
       {
        "data": "cf7qdPcwm8E=",
        "encoding": "base64",
        "path": [
         "_data",
         5,
         "x",
         "value"
        ]
       },
       {
        "data": "ldTh+vrNmcE=",
        "encoding": "base64",
        "path": [
         "_data",
         5,
         "y",
         "value"
        ]
       }
      ],
      "model_module": "plotlywidget",
      "model_module_version": "^0.6.0",
      "model_name": "FigureModel",
      "state": {
       "_config": {
        "plotlyServerURL": "https://plot.ly"
       },
       "_data": [
        {
         "hoverinfo": "none",
         "line": {
          "color": "rgb(31, 119, 180)",
          "dash": "dash",
          "width": 2
         },
         "mode": "lines",
         "name": "2017-09-01 12:05 (Earth)",
         "type": "scatter",
         "uid": "09fc22b7-cc88-4353-b0ea-93d4cc6c05e1",
         "x": {
          "dtype": "float64",
          "shape": [
           100
          ],
          "value": {}
         },
         "y": {
          "dtype": "float64",
          "shape": [
           100
          ],
          "value": {}
         }
        },
        {
         "marker": {
          "color": "rgb(31, 119, 180)",
          "size": 10
         },
         "mode": "markers",
         "name": "2017-09-01 12:05 (Earth)",
         "type": "scatter",
         "uid": "01a982b7-9b20-4e3b-8893-4fc795b3f523",
         "x": {
          "dtype": "float64",
          "shape": [
           1
          ],
          "value": {}
         },
         "y": {
          "dtype": "float64",
          "shape": [
           1
          ],
          "value": {}
         }
        },
        {
         "hoverinfo": "none",
         "line": {
          "color": "rgb(255, 127, 14)",
          "dash": "dash",
          "width": 2
         },
         "mode": "lines",
         "name": "2017-09-01 12:05 (Florence (Ecliptic))",
         "type": "scatter",
         "uid": "363b423f-4da0-49a1-86d8-2fd628bfb0b8",
         "x": {
          "dtype": "float64",
          "shape": [
           100
          ],
          "value": {}
         },
         "y": {
          "dtype": "float64",
          "shape": [
           100
          ],
          "value": {}
         }
        },
        {
         "marker": {
          "color": "rgb(255, 127, 14)",
          "size": 10
         },
         "mode": "markers",
         "name": "2017-09-01 12:05 (Florence (Ecliptic))",
         "type": "scatter",
         "uid": "e681c031-135c-402b-a718-4e600023edda",
         "x": {
          "dtype": "float64",
          "shape": [
           1
          ],
          "value": {}
         },
         "y": {
          "dtype": "float64",
          "shape": [
           1
          ],
          "value": {}
         }
        },
        {
         "hoverinfo": "none",
         "line": {
          "color": "rgb(44, 160, 44)",
          "dash": "dash",
          "width": 2
         },
         "mode": "lines",
         "name": "2017-09-01 12:05 (Florence (ICRS))",
         "type": "scatter",
         "uid": "71c4d112-e62c-4c29-81e3-44d4527c8de3",
         "x": {
          "dtype": "float64",
          "shape": [
           100
          ],
          "value": {}
         },
         "y": {
          "dtype": "float64",
          "shape": [
           100
          ],
          "value": {}
         }
        },
        {
         "marker": {
          "color": "rgb(44, 160, 44)",
          "size": 10
         },
         "mode": "markers",
         "name": "2017-09-01 12:05 (Florence (ICRS))",
         "type": "scatter",
         "uid": "c694c2f8-1bd6-41c5-ae98-b11cb4c62431",
         "x": {
          "dtype": "float64",
          "shape": [
           1
          ],
          "value": {}
         },
         "y": {
          "dtype": "float64",
          "shape": [
           1
          ],
          "value": {}
         }
        }
       ],
       "_js2py_pointsCallback": {},
       "_js2py_relayout": {},
       "_js2py_restyle": {},
       "_js2py_update": {},
       "_last_layout_edit_id": 7,
       "_last_trace_edit_id": 7,
       "_layout": {
        "autosize": true,
        "shapes": [
         {
          "fillcolor": "#ffcc00",
          "line": {
           "color": "#ffcc00"
          },
          "opacity": 1,
          "type": "circle",
          "x0": -22174626.124446128,
          "x1": 22174626.124446128,
          "xref": "x",
          "y0": -22174626.124446128,
          "y1": 22174626.124446128,
          "yref": "y"
         }
        ],
        "template": {},
        "xaxis": {
         "constrain": "domain",
         "title": {
          "text": "x (km)"
         }
        },
        "yaxis": {
         "scaleanchor": "x",
         "title": {
          "text": "y (km)"
         }
        }
       },
       "_py2js_animate": {},
       "_py2js_deleteTraces": {},
       "_py2js_moveTraces": {},
       "_py2js_removeLayoutProps": {},
       "_py2js_removeTraceProps": {},
       "_py2js_restyle": {},
       "_view_count": 1
      }
     }
    },
    "version_major": 2,
    "version_minor": 0
   }
  }
 },
 "nbformat": 4,
 "nbformat_minor": 2
}
