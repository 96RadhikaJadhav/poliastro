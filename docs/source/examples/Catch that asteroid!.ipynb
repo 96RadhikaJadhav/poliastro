{
 "cells": [
  {
   "cell_type": "markdown",
   "metadata": {},
   "source": [
    "# Catch that asteroid!"
   ]
  },
  {
   "cell_type": "markdown",
   "metadata": {},
   "source": [
    "<div class=\"alert alert-warning\">This code requires a development version of astropy, which can be installed like this:\n",
    "\n",
    "<code>pip install https://github.com/Juanlu001/astropy/archive/ecliptic-precision.zip</code>\n",
    "\n",
    "As soon as these changes are merged and released we will update these instructions.\n",
    "</div>"
   ]
  },
  {
   "cell_type": "code",
   "execution_count": 1,
   "metadata": {
    "collapsed": true
   },
   "outputs": [],
   "source": [
    "%matplotlib inline\n",
    "import matplotlib.pyplot as plt\n",
    "\n",
    "from astropy import units as u\n",
    "from astropy.time import Time\n",
    "from astropy.coordinates import solar_system_ephemeris\n",
    "solar_system_ephemeris.set(\"jpl\")\n",
    "\n",
    "from poliastro.bodies import *\n",
    "from poliastro.twobody import Orbit\n",
    "from poliastro.plotting import OrbitPlotter, plot\n",
    "\n",
    "EPOCH = Time(\"2017-09-01 12:05:50\", scale=\"tdb\")"
   ]
  },
  {
   "cell_type": "code",
   "execution_count": 2,
   "metadata": {},
   "outputs": [
    {
     "data": {
      "text/plain": [
       "1 x 1 AU x 23.4 deg orbit around Sun (☉)"
      ]
     },
     "execution_count": 2,
     "metadata": {},
     "output_type": "execute_result"
    }
   ],
   "source": [
    "earth = Orbit.from_body_ephem(Earth, EPOCH)\n",
    "earth"
   ]
  },
  {
   "cell_type": "code",
   "execution_count": 3,
   "metadata": {},
   "outputs": [
    {
     "data": {
      "text/plain": [
       "[<matplotlib.lines.Line2D at 0x263d24c46a0>,\n",
       " <matplotlib.lines.Line2D at 0x263cb0301d0>]"
      ]
     },
     "execution_count": 3,
     "metadata": {},
     "output_type": "execute_result"
    },
    {
     "data": {
      "image/png": "[encoded data removed]",
      "text/plain": [
       "<matplotlib.figure.Figure at 0x263cc332278>"
      ]
     },
     "metadata": {},
     "output_type": "display_data"
    }
   ],
   "source": [
    "plot(earth, label=Earth)"
   ]
  },
  {
   "cell_type": "code",
   "execution_count": 4,
   "metadata": {
    "collapsed": true
   },
   "outputs": [],
   "source": [
    "from poliastro.neos import neows"
   ]
  },
  {
   "cell_type": "code",
   "execution_count": 5,
   "metadata": {},
   "outputs": [
    {
     "data": {
      "text/plain": [
       "1 x 3 AU x 22.2 deg orbit around Sun (☉)"
      ]
     },
     "execution_count": 5,
     "metadata": {},
     "output_type": "execute_result"
    }
   ],
   "source": [
    "florence = neows.orbit_from_name(\"Florence\")\n",
    "florence"
   ]
  },
  {
   "cell_type": "markdown",
   "metadata": {},
   "source": [
    "Two problems: the epoch is not the one we desire, and the inclination is with respect to the ecliptic!"
   ]
  },
  {
   "cell_type": "code",
   "execution_count": 6,
   "metadata": {},
   "outputs": [
    {
     "data": {
      "text/plain": [
       "<Time object: scale='tdb' format='jd' value=2458000.5>"
      ]
     },
     "execution_count": 6,
     "metadata": {},
     "output_type": "execute_result"
    }
   ],
   "source": [
    "florence.epoch"
   ]
  },
  {
   "cell_type": "code",
   "execution_count": 7,
   "metadata": {},
   "outputs": [
    {
     "data": {
      "text/plain": [
       "'2017-09-04 00:00:00.000'"
      ]
     },
     "execution_count": 7,
     "metadata": {},
     "output_type": "execute_result"
    }
   ],
   "source": [
    "florence.epoch.iso"
   ]
  },
  {
   "cell_type": "code",
   "execution_count": 8,
   "metadata": {},
   "outputs": [
    {
     "data": {
      "text/latex": [
       "$22.150777 \\; \\mathrm{{}^{\\circ}}$"
      ],
      "text/plain": [
       "<Quantity 22.15077672520176 deg>"
      ]
     },
     "execution_count": 8,
     "metadata": {},
     "output_type": "execute_result"
    }
   ],
   "source": [
    "florence.inc"
   ]
  },
  {
   "cell_type": "markdown",
   "metadata": {},
   "source": [
    "We first propagate:"
   ]
  },
  {
   "cell_type": "code",
   "execution_count": 9,
   "metadata": {},
   "outputs": [
    {
     "data": {
      "text/plain": [
       "'2017-09-01 12:05:50.000'"
      ]
     },
     "execution_count": 9,
     "metadata": {},
     "output_type": "execute_result"
    }
   ],
   "source": [
    "florence = florence.propagate(EPOCH - florence.epoch)\n",
    "florence.epoch.tdb.iso"
   ]
  },
  {
   "cell_type": "markdown",
   "metadata": {},
   "source": [
    "And now we have to convert to another reference frame, using http://docs.astropy.org/en/stable/coordinates/."
   ]
  },
  {
   "cell_type": "code",
   "execution_count": 10,
   "metadata": {
    "collapsed": true
   },
   "outputs": [],
   "source": [
    "from astropy.coordinates import (\n",
    "    ICRS, GCRS, HeliocentricTrueEcliptic,\n",
    "    CartesianRepresentation, CartesianDifferential\n",
    ")"
   ]
  },
  {
   "cell_type": "markdown",
   "metadata": {},
   "source": [
    "The NASA servers give the orbital elements of the asteroids in an Heliocentric Ecliptic frame. Fortunately, it is already defined in Astropy:"
   ]
  },
  {
   "cell_type": "code",
   "execution_count": 11,
   "metadata": {},
   "outputs": [
    {
     "ename": "TypeError",
     "evalue": "Coordinate frame got unexpected keywords: ['obstime']",
     "output_type": "error",
     "traceback": [
      "\u001b[1;31m---------------------------------------------------------------------------\u001b[0m",
      "\u001b[1;31mTypeError\u001b[0m                                 Traceback (most recent call last)",
      "\u001b[1;32m<ipython-input-11-fcf6ad2e7932>\u001b[0m in \u001b[0;36m<module>\u001b[1;34m()\u001b[0m\n\u001b[0;32m      4\u001b[0m     \u001b[0mrepresentation\u001b[0m\u001b[1;33m=\u001b[0m\u001b[0mCartesianRepresentation\u001b[0m\u001b[1;33m,\u001b[0m\u001b[1;33m\u001b[0m\u001b[0m\n\u001b[0;32m      5\u001b[0m     \u001b[0mdifferential_cls\u001b[0m\u001b[1;33m=\u001b[0m\u001b[0mCartesianDifferential\u001b[0m\u001b[1;33m,\u001b[0m\u001b[1;33m\u001b[0m\u001b[0m\n\u001b[1;32m----> 6\u001b[1;33m     \u001b[0mobstime\u001b[0m\u001b[1;33m=\u001b[0m\u001b[0mEPOCH\u001b[0m\u001b[1;33m\u001b[0m\u001b[0m\n\u001b[0m\u001b[0;32m      7\u001b[0m )\n\u001b[0;32m      8\u001b[0m \u001b[0mflorence_hte\u001b[0m\u001b[1;33m\u001b[0m\u001b[0m\n",
      "\u001b[1;32mc:\\programdata\\miniconda3\\lib\\site-packages\\astropy\\coordinates\\baseframe.py\u001b[0m in \u001b[0;36m__init__\u001b[1;34m(self, *args, **kwargs)\u001b[0m\n\u001b[0;32m    403\u001b[0m             raise TypeError(\n\u001b[0;32m    404\u001b[0m                 'Coordinate frame got unexpected keywords: {0}'.format(\n\u001b[1;32m--> 405\u001b[1;33m                     list(kwargs)))\n\u001b[0m\u001b[0;32m    406\u001b[0m \u001b[1;33m\u001b[0m\u001b[0m\n\u001b[0;32m    407\u001b[0m         \u001b[1;31m# We do ``is None`` because self._data might evaluate to false for\u001b[0m\u001b[1;33m\u001b[0m\u001b[1;33m\u001b[0m\u001b[0m\n",
      "\u001b[1;31mTypeError\u001b[0m: Coordinate frame got unexpected keywords: ['obstime']"
     ]
    }
   ],
   "source": [
    "florence_hte = HeliocentricTrueEcliptic(\n",
    "    x=florence.r[0], y=florence.r[1], z=florence.r[2],\n",
    "    d_x=florence.v[0], d_y=florence.v[1], d_z=florence.v[2],\n",
    "    representation=CartesianRepresentation,\n",
    "    differential_cls=CartesianDifferential,\n",
    "    obstime=EPOCH\n",
    ")\n",
    "florence_hte"
   ]
  },
  {
   "cell_type": "markdown",
   "metadata": {},
   "source": [
    "Now we just have to convert to ICRS, which is the \"standard\" reference in which poliastro works:"
   ]
  },
  {
   "cell_type": "code",
   "execution_count": null,
   "metadata": {},
   "outputs": [],
   "source": [
    "florence_icrs_trans = florence_hte.transform_to(ICRS)\n",
    "florence_icrs_trans.representation = CartesianRepresentation\n",
    "florence_icrs_trans"
   ]
  },
  {
   "cell_type": "code",
   "execution_count": null,
   "metadata": {},
   "outputs": [],
   "source": [
    "florence_icrs = Orbit.from_vectors(\n",
    "    Sun,\n",
    "    r=[florence_icrs_trans.x, florence_icrs_trans.y, florence_icrs_trans.z] * u.km,\n",
    "    v=[florence_icrs_trans.v_x, florence_icrs_trans.v_y, florence_icrs_trans.v_z] * (u.km / u.s),\n",
    "    epoch=florence.epoch\n",
    ")\n",
    "florence_icrs"
   ]
  },
  {
   "cell_type": "code",
   "execution_count": null,
   "metadata": {},
   "outputs": [],
   "source": [
    "florence_icrs.rv()"
   ]
  },
  {
   "cell_type": "markdown",
   "metadata": {},
   "source": [
    "Let us compute the distance between Florence and the Earth:"
   ]
  },
  {
   "cell_type": "code",
   "execution_count": null,
   "metadata": {
    "collapsed": true
   },
   "outputs": [],
   "source": [
    "from poliastro.util import norm"
   ]
  },
  {
   "cell_type": "code",
   "execution_count": null,
   "metadata": {},
   "outputs": [],
   "source": [
    "norm(florence_icrs.r - earth.r) - Earth.R"
   ]
  },
  {
   "cell_type": "markdown",
   "metadata": {},
   "source": [
    "<div class=\"alert alert-success\">This value is consistent with what ESA says! $7\\,060\\,160$ km</div>"
   ]
  },
  {
   "cell_type": "code",
   "execution_count": null,
   "metadata": {},
   "outputs": [],
   "source": [
    "from IPython.display import HTML\n",
    "\n",
    "HTML(\n",
    "\"\"\"<blockquote class=\"twitter-tweet\" data-lang=\"en\"><p lang=\"es\" dir=\"ltr\">La <a href=\"https://twitter.com/esa_es\">@esa_es</a> ha preparado un resumen del asteroide <a href=\"https://twitter.com/hashtag/Florence?src=hash\">#Florence</a> 😍 <a href=\"https://t.co/Sk1lb7Kz0j\">pic.twitter.com/Sk1lb7Kz0j</a></p>&mdash; AeroPython (@AeroPython) <a href=\"https://twitter.com/AeroPython/status/903197147914543105\">August 31, 2017</a></blockquote>\n",
    "<script async src=\"//platform.twitter.com/widgets.js\" charset=\"utf-8\"></script>\"\"\"\n",
    ")"
   ]
  },
  {
   "cell_type": "markdown",
   "metadata": {},
   "source": [
    "And now we can plot!"
   ]
  },
  {
   "cell_type": "code",
   "execution_count": null,
   "metadata": {
    "scrolled": false
   },
   "outputs": [],
   "source": [
    "frame = OrbitPlotter()\n",
    "\n",
    "frame.plot(earth, label=\"Earth\")\n",
    "\n",
    "frame.plot(Orbit.from_body_ephem(Mars, EPOCH))\n",
    "frame.plot(Orbit.from_body_ephem(Venus, EPOCH))\n",
    "frame.plot(Orbit.from_body_ephem(Mercury, EPOCH))\n",
    "\n",
    "frame.plot(florence_icrs, label=\"Florence\")"
   ]
  },
  {
   "cell_type": "markdown",
   "metadata": {},
   "source": [
    "The difference between doing it well and doing it wrong is clearly visible:"
   ]
  },
  {
   "cell_type": "code",
   "execution_count": null,
   "metadata": {
    "scrolled": false
   },
   "outputs": [],
   "source": [
    "frame = OrbitPlotter()\n",
    "\n",
    "frame.plot(earth, label=\"Earth\")\n",
    "\n",
    "frame.plot(florence, label=\"Florence (Ecliptic)\")\n",
    "frame.plot(florence_icrs, label=\"Florence (ICRS)\")"
   ]
  },
  {
   "cell_type": "markdown",
   "metadata": {},
   "source": [
    "And now let's do something more complicated: express our orbit with respect to the Earth! For that, we will use GCRS, with care of setting the correct observation time:"
   ]
  },
  {
   "cell_type": "code",
   "execution_count": null,
   "metadata": {},
   "outputs": [],
   "source": [
    "florence_gcrs_trans = florence_hte.transform_to(GCRS(obstime=EPOCH))\n",
    "florence_gcrs_trans.representation = CartesianRepresentation\n",
    "florence_gcrs_trans"
   ]
  },
  {
   "cell_type": "code",
   "execution_count": null,
   "metadata": {},
   "outputs": [],
   "source": [
    "florence_hyper = Orbit.from_vectors(\n",
    "    Earth,\n",
    "    r=[florence_gcrs_trans.x, florence_gcrs_trans.y, florence_gcrs_trans.z] * u.km,\n",
    "    v=[florence_gcrs_trans.v_x, florence_gcrs_trans.v_y, florence_gcrs_trans.v_z] * (u.km / u.s),\n",
    "    epoch=EPOCH\n",
    ")\n",
    "florence_hyper"
   ]
  },
  {
   "cell_type": "markdown",
   "metadata": {},
   "source": [
    "Notice that the ephemerides of the Moon is also given in ICRS, and therefore yields a weird hyperbolic orbit!"
   ]
  },
  {
   "cell_type": "code",
   "execution_count": null,
   "metadata": {},
   "outputs": [],
   "source": [
    "moon = Orbit.from_body_ephem(Moon, EPOCH)\n",
    "moon"
   ]
  },
  {
   "cell_type": "code",
   "execution_count": null,
   "metadata": {
    "scrolled": true
   },
   "outputs": [],
   "source": [
    "moon.a"
   ]
  },
  {
   "cell_type": "code",
   "execution_count": null,
   "metadata": {},
   "outputs": [],
   "source": [
    "moon.ecc"
   ]
  },
  {
   "cell_type": "markdown",
   "metadata": {},
   "source": [
    "So we have to convert again."
   ]
  },
  {
   "cell_type": "code",
   "execution_count": null,
   "metadata": {},
   "outputs": [],
   "source": [
    "moon_icrs = ICRS(\n",
    "    x=moon.r[0], y=moon.r[1], z=moon.r[2],\n",
    "    v_x=moon.v[0], v_y=moon.v[1], v_z=moon.v[2],\n",
    "    representation=CartesianRepresentation,\n",
    "    differential_cls=CartesianDifferential\n",
    ")\n",
    "moon_icrs"
   ]
  },
  {
   "cell_type": "code",
   "execution_count": null,
   "metadata": {},
   "outputs": [],
   "source": [
    "moon_gcrs = moon_icrs.transform_to(GCRS(obstime=EPOCH))\n",
    "moon_gcrs.representation = CartesianRepresentation\n",
    "moon_gcrs"
   ]
  },
  {
   "cell_type": "code",
   "execution_count": null,
   "metadata": {},
   "outputs": [],
   "source": [
    "moon = Orbit.from_vectors(\n",
    "    Earth,\n",
    "    [moon_gcrs.x, moon_gcrs.y, moon_gcrs.z] * u.km,\n",
    "    [moon_gcrs.v_x, moon_gcrs.v_y, moon_gcrs.v_z] * (u.km / u.s),\n",
    "    epoch=EPOCH\n",
    ")\n",
    "moon"
   ]
  },
  {
   "cell_type": "markdown",
   "metadata": {},
   "source": [
    "And finally, we plot the Moon:"
   ]
  },
  {
   "cell_type": "code",
   "execution_count": null,
   "metadata": {},
   "outputs": [],
   "source": [
    "plot(moon)\n",
    "plt.gcf().autofmt_xdate()"
   ]
  },
  {
   "cell_type": "markdown",
   "metadata": {},
   "source": [
    "And now for the final plot:"
   ]
  },
  {
   "cell_type": "code",
   "execution_count": null,
   "metadata": {},
   "outputs": [],
   "source": [
    "frame = OrbitPlotter()\n",
    "\n",
    "# This first plot sets the frame\n",
    "frame.plot(florence_hyper, label=\"Florence\")\n",
    "\n",
    "# And then we add the Moon\n",
    "frame.plot(moon, label=Moon)\n",
    "\n",
    "plt.xlim(-1000000, 8000000)\n",
    "plt.ylim(-5000000, 5000000)\n",
    "\n",
    "plt.gcf().autofmt_xdate()"
   ]
  },
  {
   "cell_type": "markdown",
   "metadata": {},
   "source": [
    "<div style=\"text-align: center; font-size: 3em;\"><em>Per Python ad astra!</em></div>"
   ]
  }
 ],
 "metadata": {
  "kernelspec": {
   "display_name": "Python 3",
   "language": "python",
   "name": "python3"
  },
  "language_info": {
   "codemirror_mode": {
    "name": "ipython",
    "version": 3
   },
   "file_extension": ".py",
   "mimetype": "text/x-python",
   "name": "python",
   "nbconvert_exporter": "python",
   "pygments_lexer": "ipython3",
   "version": "3.6.1"
  }
 },
 "nbformat": 4,
 "nbformat_minor": 2
}
