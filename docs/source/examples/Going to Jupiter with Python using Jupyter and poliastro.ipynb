{
 "cells": [
  {
   "cell_type": "markdown",
   "metadata": {},
   "source": [
    "# Going to Jupiter with Python using Jupyter and poliastro"
   ]
  },
  {
   "cell_type": "code",
   "execution_count": 1,
   "metadata": {},
   "outputs": [
    {
     "data": {
      "text/plain": [
       "<ScienceState solar_system_ephemeris: 'jpl'>"
      ]
     },
     "execution_count": 1,
     "metadata": {},
     "output_type": "execute_result"
    }
   ],
   "source": [
    "import numpy as np\n",
    "\n",
    "import astropy.units as u\n",
    "from astropy.time import Time\n",
    "from astropy.coordinates import solar_system_ephemeris\n",
    "\n",
    "from poliastro.bodies import Sun, Earth, Jupiter\n",
    "from poliastro.twobody import Orbit\n",
    "from poliastro.maneuver import Maneuver\n",
    "from poliastro.iod import izzo\n",
    "from poliastro.plotting import OrbitPlotter2D\n",
    "from poliastro.util import norm\n",
    "\n",
    "solar_system_ephemeris.set(\"jpl\")"
   ]
  },
  {
   "cell_type": "code",
   "execution_count": 2,
   "metadata": {},
   "outputs": [],
   "source": [
    "## Initial data\n",
    "# Links and sources: https://github.com/poliastro/poliastro/wiki/EuroPython:-Per-Python-ad-Astra\n",
    "date_launch = Time(\"2011-08-05 16:25\", scale=\"utc\")\n",
    "C_3 = 31.1 * u.km ** 2 / u.s ** 2\n",
    "date_flyby = Time(\"2013-10-09 19:21\", scale=\"utc\")\n",
    "date_arrival = Time(\"2016-07-05 03:18\", scale=\"utc\")"
   ]
  },
  {
   "cell_type": "code",
   "execution_count": 3,
   "metadata": {},
   "outputs": [
    {
     "name": "stderr",
     "output_type": "stream",
     "text": [
      "/home/juanlu/Development/poliastro/poliastro-library/src/poliastro/twobody/orbit.py:379: TimeScaleWarning:\n",
      "\n",
      "Input time was converted to scale='tdb' with value 2011-08-05 16:26:06.183. Use Time(..., scale='tdb') instead.\n",
      "\n"
     ]
    }
   ],
   "source": [
    "# Initial state of the Earth\n",
    "ss_e0 = Orbit.from_body_ephem(Earth, date_launch)\n",
    "r_e0, v_e0 = ss_e0.rv()"
   ]
  },
  {
   "cell_type": "code",
   "execution_count": 4,
   "metadata": {},
   "outputs": [
    {
     "data": {
      "text/latex": [
       "$[1.0246553 \\times 10^{8},~-1.023135 \\times 10^{8},~-44353346] \\; \\mathrm{km}$"
      ],
      "text/plain": [
       "<Quantity [ 1.02465527e+08, -1.02313505e+08, -4.43533465e+07] km>"
      ]
     },
     "execution_count": 4,
     "metadata": {},
     "output_type": "execute_result"
    }
   ],
   "source": [
    "r_e0"
   ]
  },
  {
   "cell_type": "code",
   "execution_count": 5,
   "metadata": {},
   "outputs": [
    {
     "data": {
      "text/latex": [
       "$[1847708.5,~1594323.4,~691089.12] \\; \\mathrm{\\frac{km}{d}}$"
      ],
      "text/plain": [
       "<Quantity [1847708.49619718, 1594323.36225826,  691089.12249534] km / d>"
      ]
     },
     "execution_count": 5,
     "metadata": {},
     "output_type": "execute_result"
    }
   ],
   "source": [
    "v_e0"
   ]
  },
  {
   "cell_type": "code",
   "execution_count": 6,
   "metadata": {},
   "outputs": [
    {
     "name": "stderr",
     "output_type": "stream",
     "text": [
      "/home/juanlu/Development/poliastro/poliastro-library/src/poliastro/twobody/orbit.py:379: TimeScaleWarning:\n",
      "\n",
      "Input time was converted to scale='tdb' with value 2013-10-09 19:22:07.182. Use Time(..., scale='tdb') instead.\n",
      "\n"
     ]
    }
   ],
   "source": [
    "# State of the Earth the day of the flyby\n",
    "ss_efly = Orbit.from_body_ephem(Earth, date_flyby)\n",
    "r_efly, v_efly = ss_efly.rv()"
   ]
  },
  {
   "cell_type": "code",
   "execution_count": 7,
   "metadata": {},
   "outputs": [],
   "source": [
    "# Assume that the insertion velocity is tangential to that of the Earth\n",
    "dv = C_3 ** 0.5 * v_e0 / norm(v_e0)\n",
    "man = Maneuver.impulse(dv)"
   ]
  },
  {
   "cell_type": "code",
   "execution_count": 8,
   "metadata": {},
   "outputs": [
    {
     "data": {
      "text/plain": [
       "(<Quantity [ 1.02465527e+08, -1.02313505e+08, -4.43533465e+07] km>,\n",
       " <Quantity [2198705.82621214, 1897186.74383867,  822370.88977492] km / d>)"
      ]
     },
     "execution_count": 8,
     "metadata": {},
     "output_type": "execute_result"
    }
   ],
   "source": [
    "# Inner Cruise 1\n",
    "ic1 = ss_e0.apply_maneuver(man)\n",
    "ic1.rv()"
   ]
  },
  {
   "cell_type": "code",
   "execution_count": 9,
   "metadata": {},
   "outputs": [
    {
     "data": {
      "text/latex": [
       "$2.1515474 \\; \\mathrm{yr}$"
      ],
      "text/plain": [
       "<Quantity 2.15154736 yr>"
      ]
     },
     "execution_count": 9,
     "metadata": {},
     "output_type": "execute_result"
    }
   ],
   "source": [
    "ic1.period.to(u.year)"
   ]
  },
  {
   "cell_type": "code",
   "execution_count": 10,
   "metadata": {},
   "outputs": [
    {
     "name": "stderr",
     "output_type": "stream",
     "text": [
      "/home/juanlu/Development/poliastro/poliastro-library/src/poliastro/twobody/propagation.py:232: UserWarning:\n",
      "\n",
      "Frame <class 'astropy.coordinates.builtin_frames.icrs.ICRS'> does not support 'obstime', time values were not returned\n",
      "\n"
     ]
    },
    {
     "data": {
      "application/vnd.jupyter.widget-view+json": {
       "model_id": "ad9b725689c4492599306c2909669abf",
       "version_major": 2,
       "version_minor": 0
      },
      "text/plain": [
       "FigureWidget({\n",
       "    'data': [{'hoverinfo': 'none',\n",
       "              'line': {'color': 'rgb(31, 119, 180)', 'dash':…"
      ]
     },
     "metadata": {},
     "output_type": "display_data"
    }
   ],
   "source": [
    "op = OrbitPlotter2D()\n",
    "\n",
    "op.plot(ss_e0)\n",
    "op.plot(ic1)"
   ]
  },
  {
   "cell_type": "code",
   "execution_count": 11,
   "metadata": {},
   "outputs": [
    {
     "data": {
      "text/plain": [
       "<Time object: scale='tdb' format='iso' value=2012-09-01 14:40>"
      ]
     },
     "execution_count": 11,
     "metadata": {},
     "output_type": "execute_result"
    }
   ],
   "source": [
    "# We propagate until the aphelion\n",
    "ss_aph = ic1.propagate(ic1.period / 2)\n",
    "ss_aph.epoch"
   ]
  },
  {
   "cell_type": "code",
   "execution_count": 12,
   "metadata": {},
   "outputs": [
    {
     "data": {
      "text/plain": [
       "<TimeDelta object: scale='tai' format='jd' value=403.1958969055241>"
      ]
     },
     "execution_count": 12,
     "metadata": {},
     "output_type": "execute_result"
    }
   ],
   "source": [
    "# Let's compute the Lambert solution to do the flyby of the Earth\n",
    "time_of_flight = date_flyby - ss_aph.epoch\n",
    "time_of_flight"
   ]
  },
  {
   "cell_type": "code",
   "execution_count": 13,
   "metadata": {},
   "outputs": [],
   "source": [
    "(v_aph, v_fly), = izzo.lambert(Sun.k, ss_aph.r, ss_efly.r, time_of_flight)"
   ]
  },
  {
   "cell_type": "code",
   "execution_count": 14,
   "metadata": {},
   "outputs": [
    {
     "data": {
      "text/latex": [
       "$1.079866 \\; \\mathrm{\\frac{km}{s}}$"
      ],
      "text/plain": [
       "<Quantity 1.07986596 km / s>"
      ]
     },
     "execution_count": 14,
     "metadata": {},
     "output_type": "execute_result"
    }
   ],
   "source": [
    "# Check the delta-V\n",
    "norm(v_aph - ss_aph.v)  # Too high!"
   ]
  },
  {
   "cell_type": "code",
   "execution_count": 15,
   "metadata": {},
   "outputs": [],
   "source": [
    "ss_aph_post = Orbit.from_vectors(Sun, ss_aph.r, v_aph, epoch=ss_aph.epoch)\n",
    "ss_junofly = Orbit.from_vectors(Sun, r_efly, v_fly, epoch=date_flyby)"
   ]
  },
  {
   "cell_type": "code",
   "execution_count": 16,
   "metadata": {},
   "outputs": [
    {
     "name": "stderr",
     "output_type": "stream",
     "text": [
      "/home/juanlu/Development/poliastro/poliastro-library/src/poliastro/twobody/propagation.py:232: UserWarning:\n",
      "\n",
      "Frame <class 'astropy.coordinates.builtin_frames.icrs.ICRS'> does not support 'obstime', time values were not returned\n",
      "\n"
     ]
    },
    {
     "data": {
      "application/vnd.jupyter.widget-view+json": {
       "model_id": "a126e43408e1465aa4317236b5e157ef",
       "version_major": 2,
       "version_minor": 0
      },
      "text/plain": [
       "FigureWidget({\n",
       "    'data': [{'hoverinfo': 'none',\n",
       "              'line': {'color': 'rgb(31, 119, 180)', 'dash':…"
      ]
     },
     "metadata": {},
     "output_type": "display_data"
    }
   ],
   "source": [
    "op = OrbitPlotter2D()\n",
    "\n",
    "op.plot(ss_e0, label=\"Earth\")\n",
    "op.plot_trajectory(ic1.sample(50, max_anomaly=180 * u.deg), label=\"Inner Cruise 1\")\n",
    "op.plot(ss_aph_post, label=\"Back to Earth\")"
   ]
  },
  {
   "cell_type": "code",
   "execution_count": 17,
   "metadata": {},
   "outputs": [
    {
     "name": "stderr",
     "output_type": "stream",
     "text": [
      "/home/juanlu/Development/poliastro/poliastro-library/src/poliastro/twobody/orbit.py:379: TimeScaleWarning:\n",
      "\n",
      "Input time was converted to scale='tdb' with value 2016-07-05 03:19:08.184. Use Time(..., scale='tdb') instead.\n",
      "\n"
     ]
    }
   ],
   "source": [
    "# And now, go to Jupiter!\n",
    "ss_j = Orbit.from_body_ephem(Jupiter, date_arrival)\n",
    "r_j, v_j = ss_j.rv()"
   ]
  },
  {
   "cell_type": "code",
   "execution_count": 18,
   "metadata": {},
   "outputs": [],
   "source": [
    "(v_flypre, v_oip), = izzo.lambert(Sun.k, r_efly, r_j, date_arrival - date_flyby)"
   ]
  },
  {
   "cell_type": "code",
   "execution_count": 19,
   "metadata": {},
   "outputs": [],
   "source": [
    "ss_oip = Orbit.from_vectors(Sun, r_j, v_oip, epoch=date_flyby)"
   ]
  },
  {
   "cell_type": "code",
   "execution_count": 20,
   "metadata": {},
   "outputs": [
    {
     "data": {
      "application/vnd.jupyter.widget-view+json": {
       "model_id": "3e4a431fa988425b8eb581348588829b",
       "version_major": 2,
       "version_minor": 0
      },
      "text/plain": [
       "FigureWidget({\n",
       "    'data': [{'hoverinfo': 'none',\n",
       "              'line': {'color': 'rgb(31, 119, 180)', 'dash':…"
      ]
     },
     "metadata": {},
     "output_type": "display_data"
    }
   ],
   "source": [
    "op = OrbitPlotter2D()\n",
    "\n",
    "# Plotting approximation, suggestions welcome\n",
    "op.plot(ss_e0, label=\"Earth\")\n",
    "op.plot_trajectory(ic1.sample(50, max_anomaly=180 * u.deg), label=\"Inner Cruise 1\")\n",
    "op.plot_trajectory(\n",
    "    ss_aph_post.sample(50, min_anomaly=180 * u.deg, max_anomaly=400 * u.deg),\n",
    "    label=\"Back to Earth\",\n",
    ")\n",
    "op.plot_trajectory(\n",
    "    ss_oip.sample(50, min_anomaly=10 * u.deg, max_anomaly=180 * u.deg),\n",
    "    label=\"Jupiter Orbit Insertion Phase\",\n",
    ")\n",
    "op.plot(ss_j, label=\"Jupiter\")"
   ]
  }
 ],
 "metadata": {
  "kernelspec": {
   "display_name": "Python 3",
   "language": "python",
   "name": "python3"
  },
  "language_info": {
   "codemirror_mode": {
    "name": "ipython",
    "version": 3
   },
   "file_extension": ".py",
   "mimetype": "text/x-python",
   "name": "python",
   "nbconvert_exporter": "python",
   "pygments_lexer": "ipython3",
   "version": "3.7.1"
  },
  "nbsphinx": {
   "execute": "never"
  },
  "widgets": {
   "application/vnd.jupyter.widget-state+json": {
    "state": {
     "0a796656a34c478893caf8f5f532b569": {
      "buffers": [
       {
        "data": "8HSogo9moUEg1g1CaF2hQQqkt+/7QaFBA/FY0GYUoUFMeLrg19SgQSQWS6WQg6BBr2SW5uQgoEH+N861dFqfQcd43HoQUp5B5i22pq0pnUGKzMW+feKbQb+HkQjSfZpBPpoQLhr9mEGZUKzC4mGXQcOBc6rTrZVBO9slZa7ik0Esbtk+TAKSQTUfGGicDpBBHcvX7kMTjEEQEdCs4+qHQetfpThhqINBsTCUYkGgfkGvDaQ+Oc11QesXTVyFwWlBOijvhoQgT0F0r0j3ZX5UwYYzMWfhQWzBI81Sq6wWd8EAWbD2kPd/wbi6wFE7XYTBeOpv1SqriMGTHDwgJ+GMwUACF35sfZDBrTp7LgN6ksF2NapdS2SUwU7F9qZLOpbBTHifjR/6l8HHHjpw+aGZwZehj2QkMJvBoaH9+QWjnMEcnY3gH/mdwVx5DXMRMZ/BXJlJkcwkoMGFffrgyqCgwV0L8NcDDKHB95gt7whmocEMRlJbfa6hweaKQGwW5aHBJaYb2psJosFtjEv/5xuiwWqMS//nG6LBHKYb2psJosHWikBsFuWhwfVFUlt9rqHB2pgt7whmocE7C/DXAwyhwV59+uDKoKDBL5lJkcwkoMH0eA1zETGfwa2cjeAf+Z3BJKH9+QWjnMESoY9kJDCbwTkeOnD5oZnBuHefjR/6l8GoxPamSzqWwdw0ql1LZJTB9jl7LgN6ksGLARd+bH2QwRcbPCAn4YzBD+lv1SqriMEvucBRO12EwfRVsPaQ93/BH8pSq6wWd8FcLTFn4UFswcqiSPdlflTBdUHvhoQgT0GSHU1chcFpQdMQpD45zXVB8TOUYkGgfkF0YaU4YaiDQYIS0Kzj6odBjczX7kMTjEHpHxhonA6QQdhu2T5MApJB6NslZa7ik0FignOq062VQSxRrMLiYZdBu5oQLhr9mEE8iJEI0n2aQf3Mxb594ptBVi62pq0pnUEoedx6EFKeQVU4zrV0Wp9B1GSW5uQgoEFDFkulkIOgQWR4uuDX1KBBF/FY0GYUoUEXpLfv+0GhQSfWDUJoXaFB8HSogo9moUE=",
        "encoding": "base64",
        "path": [
         "_data",
         0,
         "x",
         "value"
        ]
       },
       {
        "data": "AAAAAACuuT4APwYMpQRiQat21KNb+3FBVv/wg9vhekGvfCq2UtaBQXcYzZlUKYZBayFSTH5likG0vpw5coaOQTvQA233Q5FBUrTAiukyk0GUyJxCEQ6VQQlHvceE05ZBS3K6rHCBmEGrJnXFGRaaQUnB6+/ej5tB2HM3wjrtnEGjxvYbxSyeQZt/h5k0TZ9BT6HI868moEEBdcF6H5agQaJT4wJ29KBBDSpKTVJBoUF76jYfZXyhQV1xu5NxpaFBhO1/Wk28oUHGFmHj4MChQfU8unYns6FBOSVCOi+ToUHHsnUiGWGhQTZjn9AYHaFBC6OeXXTHoEEp16URhGCgQUAucxJk0Z9Bg86dj/PAnkG0ZvJwz5CdQfaQVjoxQpxBgQZB2nHWmkFDiClGCE+ZQX7ZBPiHrZdB2TlbTp/zlUGhGqbQFSOUQVJdvlnKPZJBryY/KrFFkEEZNLTJo3mMQYcbYe2KSohBOsOz22cChEGCAUYBSUt/QcahXBaAcXZBnXPOKikBa0FkiQvZ9wZSQVWWC9n3BlLB6HnOKikBa8H3pFwWgHF2wZYERgFJS3/BxcSz22cChMEFHWHtikqIwZQ1tMmjeYzBZCc/KrFFkMEDXr5Zyj2SwUcbptAVI5TBfTpbTp/zlcEV2gT4h62XwdiIKUYIT5nBBwdB2nHWmsF3kVY6MUKcwRxn8nDPkJ3B786dj/PAnsGeLnMSZNGfwVPXpRGEYKDBLaOeXXTHoMFTY5/QGB2hwd6ydSIZYaHBSiVCOi+TocH/PLp2J7OhwcgWYePgwKHBgO1/Wk28ocFVcbuTcaWhwWzqNh9lfKHB9SlKTVJBocGIU+MCdvSgweF0wXoflqDBJqHI868moME/f4eZNE2fwTzG9hvFLJ7BX3M3wjrtnMHLwOvv3o+bwSgmdcUZFprByHG6rHCBmMF5Rr3HhNOWwfvHnEIRDpXBp7PAiukyk8GQzwNt90ORwVW9nDlyho7B/h9STH5lisEAF82ZVCmGwTB7KrZS1oHBWvzwg9vhesGPc9SjW/txwfA4BgylBGLBAAAAAAD+tz4=",
        "encoding": "base64",
        "path": [
         "_data",
         0,
         "y",
         "value"
        ]
       },
       {
        "data": "ietIKgDTncE=",
        "encoding": "base64",
        "path": [
         "_data",
         1,
         "x",
         "value"
        ]
       },
       {
        "data": "L/AASgRalME=",
        "encoding": "base64",
        "path": [
         "_data",
         1,
         "y",
         "value"
        ]
       },
       {
        "data": "D/4BVfb0nMFibHoia8qawaB3G3X0cJjB3kZTTf7qlcGjESWKIjuTwR4pxDomZJDBfRlUh+3RisHg8jG0TZmEwegMnWStSXzBVEa7nL/sbcEKUkh58WY0wejofJ8RcGlB8N7NBJv2ekGj1llITLOEQTzMocWP/ItBJjGYnMqnkUELj4HpZ1KVQcYDQz5Y+phB6l+n0dabnEFt+Ym/khmgQbacGlFI3qFBMDTsczmao0FxcAGInEulQYvms86y8KZBaq43N8qHqEGpGw0ePw+qQRlVk/19hatBmuL9DQXprEEiagDTZTiuQTqulpVGcq9BuLAx5LFKsEGrOZuqSNCwQQ2FMeldSbFBjiRTz3S1sUEWHz3xHRSyQfTZ5br3ZLJBfA+T1K6nskGBI8N4/tuyQWBGEbuwAbNBNVPLv54Ys0G1HADksCCzQWDe3NXeGbNBRLRAnS8Es0FPQn2Uud+yQaQDTFGirLJBWgIQfh5rskHq54ujcRuyQS5cROPtvbFBWXbWovNSsUHyhJko8dqwQYyb8iliVrBBwSael56Lr0Hr5JIrm1OuQeDXE7H7Ba1BLqoBEBikq0Fs4UsUXS+qQdGP5vVKqahBqcK6zHMTp0Go8SnyeW+lQcOyz1EOv6NBrTo+q+4DokGXr4HG4z+gQe7mhzp/6ZxBb4zs9LZImUGext8kLKGVQaEM8Sqj9pFBxgTu+saZjEFdDY+GZ0+FQamZFr1XK3xBfPtEBhvQa0GAGZeXzFv8wGbN+l3ipmvB26UGVw8ve8GBxUuguBCEwWo/FTGfTorBqdGpG2YlkMFOUU4miv+SwQoVXhPLspXBjOqxU2A8mMFN9JpMrJmawUjAIAo/yJzBAXQwwtjFnsEfBhMTNkigwbXtJUAQE6HBbguRzanCocETEzy4TVaiwUCpTc9jzaLBDRMNUXEno8GRhmxpGWSjwRSruZEdg6PBvKUR0V2Eo8ECQlbd2GejwY48ghysLaPB+VFbhhPWosFgTqFmaWGiwWjW+f8l0KHBW9z4D98iocFUi8U0R1qgwTCK9Wla7p7BEP4BVfb0nME=",
        "encoding": "base64",
        "path": [
         "_data",
         2,
         "x",
         "value"
        ]
       },
       {
        "data": "9iNonLCNlcFqaAYiZ0OYwUapE5K80ZrBcS81bA42ncGdbSd/5W2fwZHLsTl8u6DBQ9lAE5enocFMl3TqT3qiwTqbyofNMqPBo8XzvVHQo8G9IN4tOlKkwe8cFe4AuKTBoaHLFD0BpcGhpwEkoy2lwdjhVVcFPaXB3jwz01MvpcGNkym1nASlweK+YAUMvaTB+QA1ietYpMHslCt3otijwcPGjQy1PKPBW0AYBcSFosHQDkv1i7ShwYosBYjkyaDBDuNnQH+Nn8EpKve+UFidwd+OsyWE9prBbnu8DI5qmMHkcV2CDreVwXkASVbO3pLBcHehdXjJj8F8WR9+05eJwWbDSUoQL4PBxnEDX5QrecFxQ1ITOktnwVjCbQCmLkFBltoJtIgocEH0rAeSDVR+QSgKZgPkTIZBtB5c3YB1jUGrvA0fPk6SQXVcmF073ZVBo0ELGQ1kmUGLlR2sEN+cQYleas5XJaBB37Wmp7HRoUFotRRU3HKjQf19cc0pB6VBf7ktUPmMpkEnkwkJuQKoQRmBSrPnZqlBLOXfJRa4qkEEI93N6PSrQbIGwxQZHK1B2ScnsXYsrkEOQV7g6CSvQYgT88M3ArBBroSyHhJlsEFD7RaanbqwQbmEqgeCArFBrn6+S3U8sUG+ds+pO2ixQRdLGQKohbFB8usaAJyUsUFCLdo5CJWxQfVfxz/shrFB7lEwnVZqsUEIPkLJZD+xQaggqghDBrFBCMDyPyy/sEFucs+2aWqwQVE2ksxSCLBBQvU1PJkyr0Gn3Dk7kzuuQbaQSjmSLK1Bfki6ka0GrEGveRs4FMuqQQ7i9n8Le6lBbg9xze0XqEHiFTkwKaOmQYOHMOo9HqVBB6dR47yKo0EGJGwMRuqhQXFhYrKGPqBB7n5Ch28SnUEmKzUTOJiZQWPHLbD8EZZBaHh6aF+DkkG3xePUFeCNQYekrIFdt4ZBzF7YGO4nf0EF8s5cfPpwQfRpOPQYqEdBCMApDRO0ZcEthyCRbWR4wR7JB+MZzoLBZFkFCt45icHkgYHP5G6PwdNWYBlks5LB9CNonLCNlcE=",
        "encoding": "base64",
        "path": [
         "_data",
         2,
         "y",
         "value"
        ]
       },
       {
        "data": "ietIKgDTncE=",
        "encoding": "base64",
        "path": [
         "_data",
         3,
         "x",
         "value"
        ]
       },
       {
        "data": "L/AASgRalME=",
        "encoding": "base64",
        "path": [
         "_data",
         3,
         "y",
         "value"
        ]
       }
      ],
      "model_module": "plotlywidget",
      "model_module_version": "^0.7.1",
      "model_name": "FigureModel",
      "state": {
       "_config": {
        "plotlyServerURL": "https://plot.ly"
       },
       "_data": [
        {
         "hoverinfo": "none",
         "line": {
          "color": "rgb(31, 119, 180)",
          "dash": "dash",
          "width": 2
         },
         "mode": "lines",
         "name": "2011-08-05 16:26",
         "type": "scatter",
         "uid": "10d10ddd-4910-4c24-9738-6921b11e2ad4",
         "x": {
          "dtype": "float64",
          "shape": [
           100
          ]
         },
         "y": {
          "dtype": "float64",
          "shape": [
           100
          ]
         }
        },
        {
         "marker": {
          "color": "rgb(31, 119, 180)",
          "size": 10
         },
         "mode": "markers",
         "name": "2011-08-05 16:26",
         "type": "scatter",
         "uid": "6c519405-a5f9-434c-ab7c-133494c91c32",
         "x": {
          "dtype": "float64",
          "shape": [
           1
          ]
         },
         "y": {
          "dtype": "float64",
          "shape": [
           1
          ]
         }
        },
        {
         "hoverinfo": "none",
         "line": {
          "color": "rgb(255, 127, 14)",
          "dash": "dash",
          "width": 2
         },
         "mode": "lines",
         "name": "2011-08-05 16:26",
         "type": "scatter",
         "uid": "8a29e976-ba35-4141-981e-9a1370e9d36b",
         "x": {
          "dtype": "float64",
          "shape": [
           100
          ]
         },
         "y": {
          "dtype": "float64",
          "shape": [
           100
          ]
         }
        },
        {
         "marker": {
          "color": "rgb(255, 127, 14)",
          "size": 10
         },
         "mode": "markers",
         "name": "2011-08-05 16:26",
         "type": "scatter",
         "uid": "0ef68ebe-f7dc-4101-9079-e96d11e26bba",
         "x": {
          "dtype": "float64",
          "shape": [
           1
          ]
         },
         "y": {
          "dtype": "float64",
          "shape": [
           1
          ]
         }
        }
       ],
       "_js2py_layoutDelta": {
        "layout_delta": {
         "annotations": [],
         "calendar": "gregorian",
         "clickmode": "event",
         "colorscale": {
          "diverging": [
           [
            0,
            "rgb(5,10,172)"
           ],
           [
            0.35,
            "rgb(106,137,247)"
           ],
           [
            0.5,
            "rgb(190,190,190)"
           ],
           [
            0.6,
            "rgb(220,170,132)"
           ],
           [
            0.7,
            "rgb(230,145,90)"
           ],
           [
            1,
            "rgb(178,10,28)"
           ]
          ],
          "sequential": [
           [
            0,
            "rgb(220,220,220)"
           ],
           [
            0.2,
            "rgb(245,195,157)"
           ],
           [
            0.4,
            "rgb(245,160,105)"
           ],
           [
            1,
            "rgb(178,10,28)"
           ]
          ],
          "sequentialminus": [
           [
            0,
            "rgb(5,10,172)"
           ],
           [
            0.35,
            "rgb(40,60,190)"
           ],
           [
            0.5,
            "rgb(70,100,245)"
           ],
           [
            0.6,
            "rgb(90,120,245)"
           ],
           [
            0.7,
            "rgb(106,137,247)"
           ],
           [
            1,
            "rgb(220,220,220)"
           ]
          ]
         },
         "colorway": [
          "#1f77b4",
          "#ff7f0e",
          "#2ca02c",
          "#d62728",
          "#9467bd",
          "#8c564b",
          "#e377c2",
          "#7f7f7f",
          "#bcbd22",
          "#17becf"
         ],
         "dragmode": "zoom",
         "font": {
          "color": "#444",
          "family": "\"Open Sans\", verdana, arial, sans-serif",
          "size": 12
         },
         "height": 470,
         "hidesources": false,
         "hoverdistance": 20,
         "hoverlabel": {
          "font": {
           "family": "Arial, sans-serif",
           "size": 13
          },
          "namelength": 15
         },
         "hovermode": "x",
         "images": [],
         "legend": {
          "bgcolor": "#fff",
          "bordercolor": "#444",
          "borderwidth": 0,
          "font": {
           "color": "#444",
           "family": "\"Open Sans\", verdana, arial, sans-serif",
           "size": 12
          },
          "orientation": "v",
          "traceorder": "normal",
          "valign": "middle",
          "x": 1.02,
          "xanchor": "left",
          "y": 1,
          "yanchor": "auto"
         },
         "margin": {
          "autoexpand": true,
          "b": 80,
          "l": 80,
          "pad": 0,
          "r": 80,
          "t": 100
         },
         "modebar": {
          "activecolor": "rgba(68, 68, 68, 0.7)",
          "bgcolor": "rgba(255, 255, 255, 0.5)",
          "color": "rgba(68, 68, 68, 0.3)",
          "orientation": "h"
         },
         "paper_bgcolor": "#fff",
         "plot_bgcolor": "#fff",
         "separators": ".,",
         "shapes": [
          {
           "layer": "above",
           "line": {
            "dash": "solid",
            "width": 2
           },
           "visible": true,
           "xsizemode": "scaled",
           "ysizemode": "scaled"
          }
         ],
         "showlegend": true,
         "sliders": [],
         "spikedistance": 20,
         "title": {
          "font": {
           "color": "#444",
           "family": "\"Open Sans\", verdana, arial, sans-serif",
           "size": 17
          },
          "pad": {
           "b": 0,
           "l": 0,
           "r": 0,
           "t": 0
          },
          "text": "Click to enter Plot title",
          "x": 0.5,
          "xanchor": "auto",
          "xref": "container",
          "y": "auto",
          "yanchor": "auto",
          "yref": "container"
         },
         "updatemenus": [],
         "width": 966.8,
         "xaxis": {
          "anchor": "y",
          "automargin": false,
          "autorange": true,
          "color": "#444",
          "constraintoward": "center",
          "domain": [
           0.2945425914958358,
           0.7054574085041643
          ],
          "dtick": 200000000,
          "exponentformat": "B",
          "fixedrange": false,
          "gridcolor": "rgb(238, 238, 238)",
          "gridwidth": 1,
          "hoverformat": "",
          "layer": "above traces",
          "nticks": 0,
          "range": [
           -199779075.05635914,
           320909540.00043803
          ],
          "rangemode": "normal",
          "separatethousands": false,
          "showexponent": "all",
          "showgrid": true,
          "showline": false,
          "showspikes": false,
          "showticklabels": true,
          "side": "bottom",
          "tick0": 0,
          "tickangle": "auto",
          "tickfont": {
           "color": "#444",
           "family": "\"Open Sans\", verdana, arial, sans-serif",
           "size": 12
          },
          "tickformat": "",
          "tickmode": "auto",
          "tickprefix": "",
          "ticks": "",
          "ticksuffix": "",
          "title": {
           "font": {
            "color": "#444",
            "family": "\"Open Sans\", verdana, arial, sans-serif",
            "size": 14
           }
          },
          "type": "linear",
          "visible": true,
          "zeroline": true,
          "zerolinecolor": "#444",
          "zerolinewidth": 1
         },
         "yaxis": {
          "anchor": "x",
          "automargin": false,
          "autorange": true,
          "color": "#444",
          "constrain": "range",
          "constraintoward": "middle",
          "domain": [
           0,
           1
          ],
          "dtick": 100000000,
          "exponentformat": "B",
          "fixedrange": false,
          "gridcolor": "rgb(238, 238, 238)",
          "gridwidth": 1,
          "hoverformat": "",
          "layer": "above traces",
          "nticks": 0,
          "range": [
           -204445851.97440487,
           321265194.1589193
          ],
          "rangemode": "normal",
          "scaleratio": 1,
          "separatethousands": false,
          "showexponent": "all",
          "showgrid": true,
          "showline": false,
          "showspikes": false,
          "showticklabels": true,
          "side": "left",
          "tick0": 0,
          "tickangle": "auto",
          "tickfont": {
           "color": "#444",
           "family": "\"Open Sans\", verdana, arial, sans-serif",
           "size": 12
          },
          "tickformat": "",
          "tickmode": "auto",
          "tickprefix": "",
          "ticks": "",
          "ticksuffix": "",
          "title": {
           "font": {
            "color": "#444",
            "family": "\"Open Sans\", verdana, arial, sans-serif",
            "size": 14
           }
          },
          "type": "linear",
          "visible": true,
          "zeroline": true,
          "zerolinecolor": "#444",
          "zerolinewidth": 1
         }
        },
        "layout_edit_id": 5
       },
       "_js2py_pointsCallback": {},
       "_js2py_relayout": {},
       "_js2py_restyle": {},
       "_js2py_traceDeltas": {
        "trace_deltas": [
         {
          "connectgaps": false,
          "error_x": {
           "visible": false
          },
          "error_y": {
           "visible": false
          },
          "fill": "none",
          "hoverlabel": {
           "font": {
            "family": "Arial, sans-serif",
            "size": 13
           },
           "namelength": 15
          },
          "hoveron": "points",
          "hovertemplate": "",
          "hovertext": "",
          "index": 0,
          "legendgroup": "",
          "line": {
           "shape": "linear",
           "simplify": true
          },
          "opacity": 1,
          "showlegend": true,
          "stackgroup": "",
          "text": "",
          "uid": "10d10ddd-4910-4c24-9738-6921b11e2ad4",
          "visible": true,
          "xaxis": "x",
          "xcalendar": "gregorian",
          "yaxis": "y",
          "ycalendar": "gregorian"
         },
         {
          "cliponaxis": true,
          "error_x": {
           "visible": false
          },
          "error_y": {
           "visible": false
          },
          "fill": "none",
          "hoverinfo": "all",
          "hoverlabel": {
           "font": {
            "family": "Arial, sans-serif",
            "size": 13
           },
           "namelength": 15
          },
          "hoveron": "points",
          "hovertemplate": "",
          "hovertext": "",
          "index": 1,
          "legendgroup": "",
          "marker": {
           "gradient": {
            "type": "none"
           },
           "line": {
            "color": "#444",
            "width": 0
           },
           "maxdisplayed": 0,
           "opacity": 1,
           "symbol": "circle"
          },
          "opacity": 1,
          "selected": {
           "marker": {
            "opacity": 1
           }
          },
          "showlegend": true,
          "stackgroup": "",
          "text": "",
          "uid": "6c519405-a5f9-434c-ab7c-133494c91c32",
          "unselected": {
           "marker": {
            "opacity": 0.2
           }
          },
          "visible": true,
          "xaxis": "x",
          "xcalendar": "gregorian",
          "yaxis": "y",
          "ycalendar": "gregorian"
         },
         {
          "connectgaps": false,
          "error_x": {
           "visible": false
          },
          "error_y": {
           "visible": false
          },
          "fill": "none",
          "hoverlabel": {
           "font": {
            "family": "Arial, sans-serif",
            "size": 13
           },
           "namelength": 15
          },
          "hoveron": "points",
          "hovertemplate": "",
          "hovertext": "",
          "index": 2,
          "legendgroup": "",
          "line": {
           "shape": "linear",
           "simplify": true
          },
          "opacity": 1,
          "showlegend": true,
          "stackgroup": "",
          "text": "",
          "uid": "8a29e976-ba35-4141-981e-9a1370e9d36b",
          "visible": true,
          "xaxis": "x",
          "xcalendar": "gregorian",
          "yaxis": "y",
          "ycalendar": "gregorian"
         },
         {
          "cliponaxis": true,
          "error_x": {
           "visible": false
          },
          "error_y": {
           "visible": false
          },
          "fill": "none",
          "hoverinfo": "all",
          "hoverlabel": {
           "font": {
            "family": "Arial, sans-serif",
            "size": 13
           },
           "namelength": 15
          },
          "hoveron": "points",
          "hovertemplate": "",
          "hovertext": "",
          "index": 3,
          "legendgroup": "",
          "marker": {
           "gradient": {
            "type": "none"
           },
           "line": {
            "color": "#444",
            "width": 0
           },
           "maxdisplayed": 0,
           "opacity": 1,
           "symbol": "circle"
          },
          "opacity": 1,
          "selected": {
           "marker": {
            "opacity": 1
           }
          },
          "showlegend": true,
          "stackgroup": "",
          "text": "",
          "uid": "0ef68ebe-f7dc-4101-9079-e96d11e26bba",
          "unselected": {
           "marker": {
            "opacity": 0.2
           }
          },
          "visible": true,
          "xaxis": "x",
          "xcalendar": "gregorian",
          "yaxis": "y",
          "ycalendar": "gregorian"
         }
        ],
        "trace_edit_id": 5
       },
       "_js2py_update": {},
       "_last_layout_edit_id": 5,
       "_last_trace_edit_id": 5,
       "_layout": {
        "autosize": true,
        "shapes": [
         {
          "fillcolor": "#ffcc00",
          "line": {
           "color": "#ffcc00"
          },
          "opacity": 1,
          "type": "circle",
          "x0": -21895056.19935296,
          "x1": 21895056.19935296,
          "xref": "x",
          "y0": -21895056.19935296,
          "y1": 21895056.19935296,
          "yref": "y"
         }
        ],
        "template": {},
        "xaxis": {
         "constrain": "domain",
         "title": {
          "text": "x (km)"
         }
        },
        "yaxis": {
         "scaleanchor": "x",
         "title": {
          "text": "y (km)"
         }
        }
       },
       "_py2js_animate": {},
       "_py2js_deleteTraces": {},
       "_py2js_moveTraces": {},
       "_py2js_removeLayoutProps": {},
       "_py2js_removeTraceProps": {},
       "_py2js_restyle": {},
       "_view_count": 1
      }
     },
     "142fcbef957b42b5829d0dbee61fceb6": {
      "buffers": [
       {
        "data": "8HSogo9moUEg1g1CaF2hQQqkt+/7QaFBA/FY0GYUoUFMeLrg19SgQSQWS6WQg6BBr2SW5uQgoEH+N861dFqfQcd43HoQUp5B5i22pq0pnUGKzMW+feKbQb+HkQjSfZpBPpoQLhr9mEGZUKzC4mGXQcOBc6rTrZVBO9slZa7ik0Esbtk+TAKSQTUfGGicDpBBHcvX7kMTjEEQEdCs4+qHQetfpThhqINBsTCUYkGgfkGvDaQ+Oc11QesXTVyFwWlBOijvhoQgT0F0r0j3ZX5UwYYzMWfhQWzBI81Sq6wWd8EAWbD2kPd/wbi6wFE7XYTBeOpv1SqriMGTHDwgJ+GMwUACF35sfZDBrTp7LgN6ksF2NapdS2SUwU7F9qZLOpbBTHifjR/6l8HHHjpw+aGZwZehj2QkMJvBoaH9+QWjnMEcnY3gH/mdwVx5DXMRMZ/BXJlJkcwkoMGFffrgyqCgwV0L8NcDDKHB95gt7whmocEMRlJbfa6hweaKQGwW5aHBJaYb2psJosFtjEv/5xuiwWqMS//nG6LBHKYb2psJosHWikBsFuWhwfVFUlt9rqHB2pgt7whmocE7C/DXAwyhwV59+uDKoKDBL5lJkcwkoMH0eA1zETGfwa2cjeAf+Z3BJKH9+QWjnMESoY9kJDCbwTkeOnD5oZnBuHefjR/6l8GoxPamSzqWwdw0ql1LZJTB9jl7LgN6ksGLARd+bH2QwRcbPCAn4YzBD+lv1SqriMEvucBRO12EwfRVsPaQ93/BH8pSq6wWd8FcLTFn4UFswcqiSPdlflTBdUHvhoQgT0GSHU1chcFpQdMQpD45zXVB8TOUYkGgfkF0YaU4YaiDQYIS0Kzj6odBjczX7kMTjEHpHxhonA6QQdhu2T5MApJB6NslZa7ik0FignOq062VQSxRrMLiYZdBu5oQLhr9mEE8iJEI0n2aQf3Mxb594ptBVi62pq0pnUEoedx6EFKeQVU4zrV0Wp9B1GSW5uQgoEFDFkulkIOgQWR4uuDX1KBBF/FY0GYUoUEXpLfv+0GhQSfWDUJoXaFB8HSogo9moUE=",
        "encoding": "base64",
        "path": [
         "_data",
         0,
         "x",
         "value"
        ]
       },
       {
        "data": "AAAAAACuuT4APwYMpQRiQat21KNb+3FBVv/wg9vhekGvfCq2UtaBQXcYzZlUKYZBayFSTH5likG0vpw5coaOQTvQA233Q5FBUrTAiukyk0GUyJxCEQ6VQQlHvceE05ZBS3K6rHCBmEGrJnXFGRaaQUnB6+/ej5tB2HM3wjrtnEGjxvYbxSyeQZt/h5k0TZ9BT6HI868moEEBdcF6H5agQaJT4wJ29KBBDSpKTVJBoUF76jYfZXyhQV1xu5NxpaFBhO1/Wk28oUHGFmHj4MChQfU8unYns6FBOSVCOi+ToUHHsnUiGWGhQTZjn9AYHaFBC6OeXXTHoEEp16URhGCgQUAucxJk0Z9Bg86dj/PAnkG0ZvJwz5CdQfaQVjoxQpxBgQZB2nHWmkFDiClGCE+ZQX7ZBPiHrZdB2TlbTp/zlUGhGqbQFSOUQVJdvlnKPZJBryY/KrFFkEEZNLTJo3mMQYcbYe2KSohBOsOz22cChEGCAUYBSUt/QcahXBaAcXZBnXPOKikBa0FkiQvZ9wZSQVWWC9n3BlLB6HnOKikBa8H3pFwWgHF2wZYERgFJS3/BxcSz22cChMEFHWHtikqIwZQ1tMmjeYzBZCc/KrFFkMEDXr5Zyj2SwUcbptAVI5TBfTpbTp/zlcEV2gT4h62XwdiIKUYIT5nBBwdB2nHWmsF3kVY6MUKcwRxn8nDPkJ3B786dj/PAnsGeLnMSZNGfwVPXpRGEYKDBLaOeXXTHoMFTY5/QGB2hwd6ydSIZYaHBSiVCOi+TocH/PLp2J7OhwcgWYePgwKHBgO1/Wk28ocFVcbuTcaWhwWzqNh9lfKHB9SlKTVJBocGIU+MCdvSgweF0wXoflqDBJqHI868moME/f4eZNE2fwTzG9hvFLJ7BX3M3wjrtnMHLwOvv3o+bwSgmdcUZFprByHG6rHCBmMF5Rr3HhNOWwfvHnEIRDpXBp7PAiukyk8GQzwNt90ORwVW9nDlyho7B/h9STH5lisEAF82ZVCmGwTB7KrZS1oHBWvzwg9vhesGPc9SjW/txwfA4BgylBGLBAAAAAAD+tz4=",
        "encoding": "base64",
        "path": [
         "_data",
         0,
         "y",
         "value"
        ]
       },
       {
        "data": "ietIKgDTncE=",
        "encoding": "base64",
        "path": [
         "_data",
         1,
         "x",
         "value"
        ]
       },
       {
        "data": "L/AASgRalME=",
        "encoding": "base64",
        "path": [
         "_data",
         1,
         "y",
         "value"
        ]
       },
       {
        "data": "jutIKgDTncEhxjqeOXScwbtlibkP/5rBTkc8PpdzmcEFLghp2NGXwYDUDHDQGZbBQUX0GHNLlMFORcFtrGaSwevguJhia5DBr/QV4u+yjMH8smGGmmGIwdOszsKI4oPBvcjHKAxrfsGyRbzR2LR0wdJGSJGuRGXB8BWU1TnSCcEsAjsBpC1lQa49+Ss3vHVB0yDHp5qdgEGSdzde7IiGQTBHe3O3noxB9f0gV5hukUG/wt8YA6GUQcYmtEok5ZdB76JK5ig5m0GFIE8C1ZqeQX0yQbK6A6FB+G+5POi9okFa4iyLC3qkQTggjMnqNaZBcDWk/fLup0ExpWEmMqKpQf4KwPpSTKtB1vIL/5rprEEKt4rB63WuQZTASiLI7K9BM6SKR6+ksEHo4saGTEOxQR5Pw+GZz7FBlqouMe1GskFndhM1pqayQebtq9JD7LJB5BI5xnsVs0G9h+7AUyCzQeLFc486C7NBDh5YnB/VskEwm3f6hn2yQT2CHSuYBLJBNOPCEiZrsUEe1l0Fr7KwQQ==",
        "encoding": "base64",
        "path": [
         "_data",
         2,
         "x",
         "value"
        ]
       },
       {
        "data": "KvAASgRalMFxgH83sDeWwbfuwzifBZjBc0Rpr2TDmcGx9PO5g3CbwTjVS4BtDJ3BxgAren+WnsE6pFDWAAegwW1NVW4SuaDB7SntWgBhocEWh6nySP6hwQb4XBVckKLBRNBPMZoWo8EXgAZIU5CjwXkDy/bF/KPBlxzSiB5bpMGzUdgadqqkwXajgNrR6aTB25CmbiIYpcGptkOZQzSlwccriSf8PKXBCFVhSf4wpcHsibFu6A6lwXrlTM5G1aTBxGBtwJWCpMFnY2gcRRWkwaWauM68i6PBDbWy4GLkosFdIF8tox2iwRCox/34NaHBUh8HwforoMFoK48P0PydwQs8QKtzWJvB8vfxdWppmMHcrEj8/y6VwYZHvMJtqZHBq8/nNxO0i8EZWk9354aDwR30ukQHp3XBLKsA1npUSsGwmrHaCdRvQbR7/8oN6YFBmiu1aRUhjEF9ZNNLCUKTQRlRthkRe5hBtX2iUY2snUGcxWLOU2OhQTlIbFue3KNB3K9P9S46pkHvbbbKa3SoQQ==",
        "encoding": "base64",
        "path": [
         "_data",
         2,
         "y",
         "value"
        ]
       },
       {
        "data": "kjd/gEvnlsFMvKsH9GI/QbY+eWAcK5hBul6lLzQdpUF8Y71eAW2rQYrrVY93p69Bo9OyKnIxsUHSoOb72gmyQau0Z5Byh7JB35gZLDfIskFdgZbj1+CyQcfVdmRX37JB2M1pYxDNskFfWYPGLbCyQbj4B3OzjLJBQ74zSzRlskFvV0cqTTuyQakuzQH3D7JBT+vZKr3jsUGYW30C4baxQeSO3/xwibFBM76WTFdbsUHNds/SYiyxQYGOHBhM/LBBpejYZ7fKsEEOIAG2NJewQQAjaqY9YbBB82IRzzEosEERLE05otavQXh4MSNoU69BrjWaz4LErkF+DxDQQCeuQS6iFhxOeK1BXwjCnYWzrEERN7IvtdOrQeq2OO1Q0qpBji9Z/xKnqUGCWsTChkeoQfGfv9eCpqZBSFEXbaCzpEGFyNNk1FqiQSaRRSv1CJ9B9bKDDuwsmEHNQe3Yld6PQde6iNwqwXhBHHPCtLfic8GelWaWSeqQweQImCGtsZvB4G3u1WUeoMHpOv8ew9eVwQ==",
        "encoding": "base64",
        "path": [
         "_data",
         3,
         "x",
         "value"
        ]
       },
       {
        "data": "PNr1GoCXksEpM2MMkRahwTL7p+sgvqHBuIdoo5+LncHFfaHtNw+VwR79kzRsZYjBDsipJtwob8EieEhOYwJsQYNJ9FiL14NBaf/8P7HYjkF49iyt/x2UQdPLGVW2H5hByg2QxtKOm0ESFFQYK4WeQXopm/RRjKBBe2zIfrOtoUGC/FQCLq6iQbSMMmbYk6NBfYID4qxjpEEBjRT8wCGlQSukA1Z00aVBSb9T55Z1pkGLZx/WhxCnQdtAhDVOpKdBxeq00qwyqEEySMcFMr2oQVyYmEBERalBQ0mQ2CvMqUEN76BFGlOqQZUcD8Mu26pBVRnl2Xdlq0HdC8rP8PKrQS4T1CN5hKxBs4DdA8MarUFv9Oi3M7atQSW/YgauVq5BsDJbADr7rkFAluG3dqGvQfuZGhRcIrBBNpG6glJusEEzZvA6iq2wQZbh53xp1LBBmd294WzQsEENZ5UntISwQSvaP/9ciq9B6V0VCUqgrEF+vmWEho2nQYbtnzJXsp5Bf5hk8k6lekHHn6cYW+WTwQ==",
        "encoding": "base64",
        "path": [
         "_data",
         3,
         "y",
         "value"
        ]
       },
       {
        "data": "NmZeR/y4nUHOPtorJ0mdQQGzy6GM1JxBJdS4pcRanEHd3MSoXdubQdZAmYLbVZtBcCpYRLbJmkEBjhzpWDaaQa5aReAfm5lBQvaJbVf3mEGW36TaOUqYQXC4R3btkpdBRY0XXILQlkFZzLMB8AGWQbOPX4USJpVBTsPuu6c7lEGdUEb9S0GTQRwQT7F2NZJBHrgCo3YWkUGK9E1J3MSPQap43C+eLo1B1bWU7q1likEAYGoYFmWHQR1yeiNqJ4RB17eAOcGmgEHTCggXZ7l5QWmHu/W2hHFBq4lvenFBYUGwi1jF1yEwwYhKJizl52bBYhk7jTjFdsEGJ6UKGYOBwVH9ajYhI4jBNEWUXXtJj8ERlJn4rH2TwUxPB4S7nZfB7jZC7HEEnMHeIqpHXVegwR0Y/C/ryqLBt/6ZZ/xWpcG+m12SMvKnwawdYydmjqrBals1jrkWrcHVzrg9mmyvwesNntBbsbDBdlYiit9ZscG5mI6Qu3exwZNKMGTFp7DBt+v5zqNJrMEsq04vwZygwQ==",
        "encoding": "base64",
        "path": [
         "_data",
         4,
         "x",
         "value"
        ]
       },
       {
        "data": "g+tTG8b7x0GNg//He/3HQZkmSVon/8dBuXoCpsYAyEHlVjoKVwLIQb6avFvVA8hBjrlZyz0FyEESrBnHiwbIQU0WT9W5B8hBHFlGaMEIyEH/zAapmgnIQabnRzc8CshBwmlV3JoKyEGmMyEuqQrIQS+wKh9XCshBHOotd5EJyEHdsrEvQQjIQa+Phq5KBshBUtQQ14wDyEEa0sjp3//HQRRWricU+8dBpnp8LfD0x0EdxDb4Lu3HQSiCNIJ948dBLX4n5XfXx0Gp7tbqpcjHQVDTj/N2tsdBqEPeFj2gx0GjdFhhJ4XHQVp3khE7ZMdB9dBKt0s8x0GpuyUb8gvHQdJBc9uB0cZBNd3Ps/2KxkED9o5xCjbGQThrGaTgz8VBd4jLIj1VxUFsa9qBUMLEQeRsjXitEsRBLU6k+DVBw0ErUo0sBkjCQVLB4ZxbIMFBR+rMheqEv0HslAYCz0q8QY9xEQq9fbhB7APchaUFtEGctQkHuY2tQaHHcCKbSqFBBNUCj2bYeUGMIMikxEaWwQ==",
        "encoding": "base64",
        "path": [
         "_data",
         4,
         "y",
         "value"
        ]
       },
       {
        "data": "8zXn/CYxj0HY2O+snT6bQV1tgy3cY6NB2y2FtP8TqUExh4dm3KmuQWFpXyrYD7JBLQXzSu23tEH5qsiJcEq3QSG1vRe7xLlBKPB9HT8kvEG09oFdima+QW/8zFykRMBBfb+1TCNFwUGmXLSXuTPCQbs+9UxxD8NBN4Ud72fXw0HMc8Ndz4rEQflE6anuKMVBJFif1CKxxUH7OAl33yLGQW1NGFOvfcZBXvlmzDTBxkGMo7dIKu3GQS0jtHdiAcdBtqCjgcj9xkFVw+YcYOLGQYoFJIpFr8ZBiiIod61kxkH+oZjI5ALGQdt7sEpQisVBTYlYSWz7xEHT3QYQzFbEQXQc6VEZncNBpEz2ehPPwkExgZzqju3BQY641Rh0+cBBNUILTX3nv0FBjC60+Lq9QXYNzBKYb7tBzv8g5LgHuUEGZ8wC1oW2Qds6YxqF7LNBNARg/XM+sUG0BlrEy/ysQe0/QxRhXqdBETnFqnKnoUHp86AaybuXQR488c+3HohBADA1npFpNUGFMHMfg8qGwYQV1SREFZfBlagknypXocE7tQQkQBKnwdx/ulP6tazBFv5KekQescGRxk/vHNCzwT6rWG2/bbbBNBNCrnn0uMGkXeQIsWG7wd43SSDlsr3B0kLFd7Llv8GyyqZ06vvAwf+sv/2U88HBdId4itnYwsHiXkTFy6rDwXhMXEOTaMTBpt/VY2wRxcHqm0sZqaTFwYWzR52xIcbBMQy4DAWIxsGNR8rsOdfGwQ3bppf+DsfBHiKbkBkvx8GjqFu/aTfHwaKXIZLmJ8fB0RmABqAAx8GonOiYvsHGwQ3s7hqDa8bBYy14cEb+xcHDmhk0eXrFwSJyBUOj4MTBcr/9MGMxxMFmYN2kbW3DwfLBX56MlcLBok3npZ6qwcFaKxnnla3AwTmadW7uPr/B9DOlELICvcHXv0GUxKi6wV7aMXSSM7jBkm0nR6SltcFjaAsjnAGzwYISIeYySrDBLoNa0WoEq8HH2ws0A1mlwS90DzAOMJ/BzAuJv8mOk8G603N62Gh/wd4VhBjeDG9BzDTn/CYxj0E=",
        "encoding": "base64",
        "path": [
         "_data",
         5,
         "x",
         "value"
        ]
       },
       {
        "data": "0XYPwCPjxcHbPvjT+bXFwTCZXc08ccXBUqukhzMVxcE/qkXiPKLEwbPN/17PGMTB1YGwp3h5w8G1w0v83MTCwZYwjIm2+8HB708JqdQewcH063kLGy/Awe2Z/ZsBW77BaJHP9h42vMH1dPP0w/G5wcgbn9RGkLfBdPAF3BsUtcErcbXR0n+ywRauMLEorK/By26yZD4zqsH0t+/VipqkwZRD8MGlz53B45gUZ+xBksHTvGz4SV96wU0q3VaHinRB1girlVnhkEHsbPhdOZicQWyFWfCWHaRBL4QvLBzfqUEDBK5yvYqvQWupWTJRjbJBdx8lnYdEtUG1q9dVNei3QQvhYtuhdbpBqVOEnSvqvEEzgRizSkO/QU8Y/rpJv8BBs+nlgNzMwUFNPHfJR8nCQWJIvWGHs8NB4vrS0amKxEEhH8xV0U3FQcYYT8I0/MVB54jzUyCVxkFKG5Bo9hfHQcR3uCEwhMdB7tfD713Zx0FC8cwEKBfIQceoNK9OPchBD0NKm6pLyEF3YtX7LELIQbYJWJnfIMhBhOj4x+Tnx0FYVyBEd5fHQa587PXpL8dBVwW7m6exxkF7iCBcMh3GQfQDvz8jc8VBX72Fkym0xEFyJP0zCuHDQb78WMKe+sJBsv0hxNQBwkGCKV6urPfAQXp8aLpxur9BJ4g18jhnvUHIgGyVFPi6QRLhN/2Gb7hBvA9+tCzQtUFRcrvGuRyzQZp3ovb2V7BBKvLBvn0Jq0F7owAH9kulQfcBojGD+p5B6w569rlGk0H87yvugSJ+QTGpJfq5znDB1uCHHzTEj8GPoyOhl3abwYO/H6ubcqPBLlGpLRgRqcGF74WF9pCuweC/5rdF9rHB1h+riCiPtMHq3RFUdhC3wXtGNAiad7nBySO1ixnCu8HPXGVLmO29wZxyeanZ97/BT7fmpWHvwMGrZ2ujL9DBwVwyhBFvncLBhmNJXUxWw8Egd8r2CPrDwSyjfRX8h8TB0yM8ZpP/xMGR7xeiU2DFwQZYbw3ZqcXB4Ji73tfbxcFUW7CMHPbFwR6mWwOM+MXB03YPwCPjxcE=",
        "encoding": "base64",
        "path": [
         "_data",
         5,
         "y",
         "value"
        ]
       },
       {
        "data": "tB0MCD3XokE=",
        "encoding": "base64",
        "path": [
         "_data",
         6,
         "x",
         "value"
        ]
       },
       {
        "data": "Eqfqa6/Jx0E=",
        "encoding": "base64",
        "path": [
         "_data",
         6,
         "y",
         "value"
        ]
       }
      ],
      "model_module": "plotlywidget",
      "model_module_version": "^0.7.1",
      "model_name": "FigureModel",
      "state": {
       "_config": {
        "plotlyServerURL": "https://plot.ly"
       },
       "_data": [
        {
         "hoverinfo": "none",
         "line": {
          "color": "rgb(31, 119, 180)",
          "dash": "dash",
          "width": 2
         },
         "mode": "lines",
         "name": "2011-08-05 16:26 (Earth)",
         "type": "scatter",
         "uid": "e17d3f67-259d-4956-b6ee-3eb56195faac",
         "x": {
          "dtype": "float64",
          "shape": [
           100
          ]
         },
         "y": {
          "dtype": "float64",
          "shape": [
           100
          ]
         }
        },
        {
         "marker": {
          "color": "rgb(31, 119, 180)",
          "size": 10
         },
         "mode": "markers",
         "name": "2011-08-05 16:26 (Earth)",
         "type": "scatter",
         "uid": "fd141dcc-f8c7-45d5-a006-67b256c1ad6e",
         "x": {
          "dtype": "float64",
          "shape": [
           1
          ]
         },
         "y": {
          "dtype": "float64",
          "shape": [
           1
          ]
         }
        },
        {
         "hoverinfo": "none",
         "line": {
          "color": "rgb(255, 127, 14)",
          "dash": "solid",
          "width": 2
         },
         "mode": "lines",
         "name": "Inner Cruise 1",
         "type": "scatter",
         "uid": "6fc9387d-5396-423c-a6f2-b12e6b242508",
         "x": {
          "dtype": "float64",
          "shape": [
           50
          ]
         },
         "y": {
          "dtype": "float64",
          "shape": [
           50
          ]
         }
        },
        {
         "hoverinfo": "none",
         "line": {
          "color": "rgb(44, 160, 44)",
          "dash": "solid",
          "width": 2
         },
         "mode": "lines",
         "name": "Back to Earth",
         "type": "scatter",
         "uid": "0d23e3c9-be05-4af2-8342-326e85e9f174",
         "x": {
          "dtype": "float64",
          "shape": [
           50
          ]
         },
         "y": {
          "dtype": "float64",
          "shape": [
           50
          ]
         }
        },
        {
         "hoverinfo": "none",
         "line": {
          "color": "rgb(214, 39, 40)",
          "dash": "solid",
          "width": 2
         },
         "mode": "lines",
         "name": "Jupiter Orbit Insertion Phase",
         "type": "scatter",
         "uid": "206b0e1e-42e4-4268-9821-219ba3efd2c7",
         "x": {
          "dtype": "float64",
          "shape": [
           50
          ]
         },
         "y": {
          "dtype": "float64",
          "shape": [
           50
          ]
         }
        },
        {
         "hoverinfo": "none",
         "line": {
          "color": "rgb(148, 103, 189)",
          "dash": "dash",
          "width": 2
         },
         "mode": "lines",
         "name": "2016-07-05 03:19 (Jupiter)",
         "type": "scatter",
         "uid": "c07796ce-7509-431d-9a22-c472a5da14dd",
         "x": {
          "dtype": "float64",
          "shape": [
           100
          ]
         },
         "y": {
          "dtype": "float64",
          "shape": [
           100
          ]
         }
        },
        {
         "marker": {
          "color": "rgb(148, 103, 189)",
          "size": 10
         },
         "mode": "markers",
         "name": "2016-07-05 03:19 (Jupiter)",
         "type": "scatter",
         "uid": "93847624-cbf2-41bd-bc16-ff412e069737",
         "x": {
          "dtype": "float64",
          "shape": [
           1
          ]
         },
         "y": {
          "dtype": "float64",
          "shape": [
           1
          ]
         }
        }
       ],
       "_js2py_pointsCallback": {},
       "_js2py_relayout": {},
       "_js2py_restyle": {},
       "_js2py_update": {},
       "_last_layout_edit_id": 8,
       "_last_trace_edit_id": 8,
       "_layout": {
        "autosize": true,
        "shapes": [
         {
          "fillcolor": "#ffcc00",
          "line": {
           "color": "#ffcc00"
          },
          "opacity": 1,
          "type": "circle",
          "x0": -21895056.19935296,
          "x1": 21895056.19935296,
          "xref": "x",
          "y0": -21895056.19935296,
          "y1": 21895056.19935296,
          "yref": "y"
         }
        ],
        "template": {},
        "xaxis": {
         "constrain": "domain",
         "title": {
          "text": "x (km)"
         }
        },
        "yaxis": {
         "scaleanchor": "x",
         "title": {
          "text": "y (km)"
         }
        }
       },
       "_py2js_animate": {},
       "_py2js_deleteTraces": {},
       "_py2js_moveTraces": {},
       "_py2js_removeLayoutProps": {},
       "_py2js_removeTraceProps": {},
       "_py2js_restyle": {},
       "_view_count": 0
      }
     },
     "1dd29aa239ef42caa49dfdd0f715bc03": {
      "buffers": [
       {
        "data": "8HSogo9moUEg1g1CaF2hQQqkt+/7QaFBA/FY0GYUoUFMeLrg19SgQSQWS6WQg6BBr2SW5uQgoEH+N861dFqfQcd43HoQUp5B5i22pq0pnUGKzMW+feKbQb+HkQjSfZpBPpoQLhr9mEGZUKzC4mGXQcOBc6rTrZVBO9slZa7ik0Esbtk+TAKSQTUfGGicDpBBHcvX7kMTjEEQEdCs4+qHQetfpThhqINBsTCUYkGgfkGvDaQ+Oc11QesXTVyFwWlBOijvhoQgT0F0r0j3ZX5UwYYzMWfhQWzBI81Sq6wWd8EAWbD2kPd/wbi6wFE7XYTBeOpv1SqriMGTHDwgJ+GMwUACF35sfZDBrTp7LgN6ksF2NapdS2SUwU7F9qZLOpbBTHifjR/6l8HHHjpw+aGZwZehj2QkMJvBoaH9+QWjnMEcnY3gH/mdwVx5DXMRMZ/BXJlJkcwkoMGFffrgyqCgwV0L8NcDDKHB95gt7whmocEMRlJbfa6hweaKQGwW5aHBJaYb2psJosFtjEv/5xuiwWqMS//nG6LBHKYb2psJosHWikBsFuWhwfVFUlt9rqHB2pgt7whmocE7C/DXAwyhwV59+uDKoKDBL5lJkcwkoMH0eA1zETGfwa2cjeAf+Z3BJKH9+QWjnMESoY9kJDCbwTkeOnD5oZnBuHefjR/6l8GoxPamSzqWwdw0ql1LZJTB9jl7LgN6ksGLARd+bH2QwRcbPCAn4YzBD+lv1SqriMEvucBRO12EwfRVsPaQ93/BH8pSq6wWd8FcLTFn4UFswcqiSPdlflTBdUHvhoQgT0GSHU1chcFpQdMQpD45zXVB8TOUYkGgfkF0YaU4YaiDQYIS0Kzj6odBjczX7kMTjEHpHxhonA6QQdhu2T5MApJB6NslZa7ik0FignOq062VQSxRrMLiYZdBu5oQLhr9mEE8iJEI0n2aQf3Mxb594ptBVi62pq0pnUEoedx6EFKeQVU4zrV0Wp9B1GSW5uQgoEFDFkulkIOgQWR4uuDX1KBBF/FY0GYUoUEXpLfv+0GhQSfWDUJoXaFB8HSogo9moUE=",
        "encoding": "base64",
        "path": [
         "_data",
         0,
         "x",
         "value"
        ]
       },
       {
        "data": "AAAAAACuuT4APwYMpQRiQat21KNb+3FBVv/wg9vhekGvfCq2UtaBQXcYzZlUKYZBayFSTH5likG0vpw5coaOQTvQA233Q5FBUrTAiukyk0GUyJxCEQ6VQQlHvceE05ZBS3K6rHCBmEGrJnXFGRaaQUnB6+/ej5tB2HM3wjrtnEGjxvYbxSyeQZt/h5k0TZ9BT6HI868moEEBdcF6H5agQaJT4wJ29KBBDSpKTVJBoUF76jYfZXyhQV1xu5NxpaFBhO1/Wk28oUHGFmHj4MChQfU8unYns6FBOSVCOi+ToUHHsnUiGWGhQTZjn9AYHaFBC6OeXXTHoEEp16URhGCgQUAucxJk0Z9Bg86dj/PAnkG0ZvJwz5CdQfaQVjoxQpxBgQZB2nHWmkFDiClGCE+ZQX7ZBPiHrZdB2TlbTp/zlUGhGqbQFSOUQVJdvlnKPZJBryY/KrFFkEEZNLTJo3mMQYcbYe2KSohBOsOz22cChEGCAUYBSUt/QcahXBaAcXZBnXPOKikBa0FkiQvZ9wZSQVWWC9n3BlLB6HnOKikBa8H3pFwWgHF2wZYERgFJS3/BxcSz22cChMEFHWHtikqIwZQ1tMmjeYzBZCc/KrFFkMEDXr5Zyj2SwUcbptAVI5TBfTpbTp/zlcEV2gT4h62XwdiIKUYIT5nBBwdB2nHWmsF3kVY6MUKcwRxn8nDPkJ3B786dj/PAnsGeLnMSZNGfwVPXpRGEYKDBLaOeXXTHoMFTY5/QGB2hwd6ydSIZYaHBSiVCOi+TocH/PLp2J7OhwcgWYePgwKHBgO1/Wk28ocFVcbuTcaWhwWzqNh9lfKHB9SlKTVJBocGIU+MCdvSgweF0wXoflqDBJqHI868moME/f4eZNE2fwTzG9hvFLJ7BX3M3wjrtnMHLwOvv3o+bwSgmdcUZFprByHG6rHCBmMF5Rr3HhNOWwfvHnEIRDpXBp7PAiukyk8GQzwNt90ORwVW9nDlyho7B/h9STH5lisEAF82ZVCmGwTB7KrZS1oHBWvzwg9vhesGPc9SjW/txwfA4BgylBGLBAAAAAAD+tz4=",
        "encoding": "base64",
        "path": [
         "_data",
         0,
         "y",
         "value"
        ]
       },
       {
        "data": "ietIKgDTncE=",
        "encoding": "base64",
        "path": [
         "_data",
         1,
         "x",
         "value"
        ]
       },
       {
        "data": "L/AASgRalME=",
        "encoding": "base64",
        "path": [
         "_data",
         1,
         "y",
         "value"
        ]
       },
       {
        "data": "jutIKgDTncEhxjqeOXScwbtlibkP/5rBTkc8PpdzmcEFLghp2NGXwYDUDHDQGZbBQUX0GHNLlMFORcFtrGaSwevguJhia5DBr/QV4u+yjMH8smGGmmGIwdOszsKI4oPBvcjHKAxrfsGyRbzR2LR0wdJGSJGuRGXB8BWU1TnSCcEsAjsBpC1lQa49+Ss3vHVB0yDHp5qdgEGSdzde7IiGQTBHe3O3noxB9f0gV5hukUG/wt8YA6GUQcYmtEok5ZdB76JK5ig5m0GFIE8C1ZqeQX0yQbK6A6FB+G+5POi9okFa4iyLC3qkQTggjMnqNaZBcDWk/fLup0ExpWEmMqKpQf4KwPpSTKtB1vIL/5rprEEKt4rB63WuQZTASiLI7K9BM6SKR6+ksEHo4saGTEOxQR5Pw+GZz7FBlqouMe1GskFndhM1pqayQebtq9JD7LJB5BI5xnsVs0G9h+7AUyCzQeLFc486C7NBDh5YnB/VskEwm3f6hn2yQT2CHSuYBLJBNOPCEiZrsUEe1l0Fr7KwQQ==",
        "encoding": "base64",
        "path": [
         "_data",
         2,
         "x",
         "value"
        ]
       },
       {
        "data": "KvAASgRalMFxgH83sDeWwbfuwzifBZjBc0Rpr2TDmcGx9PO5g3CbwTjVS4BtDJ3BxgAren+WnsE6pFDWAAegwW1NVW4SuaDB7SntWgBhocEWh6nySP6hwQb4XBVckKLBRNBPMZoWo8EXgAZIU5CjwXkDy/bF/KPBlxzSiB5bpMGzUdgadqqkwXajgNrR6aTB25CmbiIYpcGptkOZQzSlwccriSf8PKXBCFVhSf4wpcHsibFu6A6lwXrlTM5G1aTBxGBtwJWCpMFnY2gcRRWkwaWauM68i6PBDbWy4GLkosFdIF8tox2iwRCox/34NaHBUh8HwforoMFoK48P0PydwQs8QKtzWJvB8vfxdWppmMHcrEj8/y6VwYZHvMJtqZHBq8/nNxO0i8EZWk9354aDwR30ukQHp3XBLKsA1npUSsGwmrHaCdRvQbR7/8oN6YFBmiu1aRUhjEF9ZNNLCUKTQRlRthkRe5hBtX2iUY2snUGcxWLOU2OhQTlIbFue3KNB3K9P9S46pkHvbbbKa3SoQQ==",
        "encoding": "base64",
        "path": [
         "_data",
         2,
         "y",
         "value"
        ]
       },
       {
        "data": "kjd/gEvnlsFMvKsH9GI/QbY+eWAcK5hBul6lLzQdpUF8Y71eAW2rQYrrVY93p69Bo9OyKnIxsUHSoOb72gmyQau0Z5Byh7JB35gZLDfIskFdgZbj1+CyQcfVdmRX37JB2M1pYxDNskFfWYPGLbCyQbj4B3OzjLJBQ74zSzRlskFvV0cqTTuyQakuzQH3D7JBT+vZKr3jsUGYW30C4baxQeSO3/xwibFBM76WTFdbsUHNds/SYiyxQYGOHBhM/LBBpejYZ7fKsEEOIAG2NJewQQAjaqY9YbBB82IRzzEosEERLE05otavQXh4MSNoU69BrjWaz4LErkF+DxDQQCeuQS6iFhxOeK1BXwjCnYWzrEERN7IvtdOrQeq2OO1Q0qpBji9Z/xKnqUGCWsTChkeoQfGfv9eCpqZBSFEXbaCzpEGFyNNk1FqiQSaRRSv1CJ9B9bKDDuwsmEHNQe3Yld6PQde6iNwqwXhBHHPCtLfic8GelWaWSeqQweQImCGtsZvB4G3u1WUeoMHpOv8ew9eVwQ==",
        "encoding": "base64",
        "path": [
         "_data",
         3,
         "x",
         "value"
        ]
       },
       {
        "data": "PNr1GoCXksEpM2MMkRahwTL7p+sgvqHBuIdoo5+LncHFfaHtNw+VwR79kzRsZYjBDsipJtwob8EieEhOYwJsQYNJ9FiL14NBaf/8P7HYjkF49iyt/x2UQdPLGVW2H5hByg2QxtKOm0ESFFQYK4WeQXopm/RRjKBBe2zIfrOtoUGC/FQCLq6iQbSMMmbYk6NBfYID4qxjpEEBjRT8wCGlQSukA1Z00aVBSb9T55Z1pkGLZx/WhxCnQdtAhDVOpKdBxeq00qwyqEEySMcFMr2oQVyYmEBERalBQ0mQ2CvMqUEN76BFGlOqQZUcD8Mu26pBVRnl2Xdlq0HdC8rP8PKrQS4T1CN5hKxBs4DdA8MarUFv9Oi3M7atQSW/YgauVq5BsDJbADr7rkFAluG3dqGvQfuZGhRcIrBBNpG6glJusEEzZvA6iq2wQZbh53xp1LBBmd294WzQsEENZ5UntISwQSvaP/9ciq9B6V0VCUqgrEF+vmWEho2nQYbtnzJXsp5Bf5hk8k6lekHHn6cYW+WTwQ==",
        "encoding": "base64",
        "path": [
         "_data",
         3,
         "y",
         "value"
        ]
       },
       {
        "data": "CP1YSOuYqcHasNYsPXWpwfQ3hQsmUanBpyoA5qQsqcEe6va8uAepwYxnSJBg4qjB1L8gX5u8qMGQvBgoaJaowXZRV+nFb6jByyi1oLNIqMGWVuJLMCGowd9Hjug6+afBjgOSdNLQp8Fe1Rzu9aenwRl341OkfqfBK9NRpdxUp8Gec7/inSqnwVe5pg3n/6bBDO7eKLfUpsGcTdk4DammwYga4UPofKbBRNReUkdQpsFEqB5vKSOmwQ0ymqeN9aXBqZ5FDHPHpcE0S+Cw2JilwQHsyKy9aaXBmlZVGyE6pcHQ9S0cAgqlwar/rNNf2aTBKHVBazmopMFW9tURjnakwSJ6O/xcRKTBZeWXZaURpMH2j9iPZt6jweesKMSfqqPBr5xrU1B2o8HwFruWd0Gjwaoq6e8UDKPB1fwFyifWosGzNOmZr5+iwR75vt6raKLBC2CYIhwxosFEKf/6//ihwTWajAlXwKHBhkKD/CCHocFUdGuPXU2hwYMtsosME6HBHyRKyS3YoMEsq04vwZygwQ==",
        "encoding": "base64",
        "path": [
         "_data",
         4,
         "x",
         "value"
        ]
       },
       {
        "data": "aJdbyV7lZcE5lXSFoD5pwdZT/YOLl2zBRq4U6g/wb8GVviS1DqRxwVwU9qDRT3PBSBosG0j7dMEIVxtJaaZ2wWz+XBEsUXjB2ARqGof7ecFAtDPJcKV7wcY/uj/fTn3BtuGhW8j3fsGXfmPaEFCAwb3+6E3wI4HBSrllDH33gcEvpth0scqCwXjnhsCHnYPB9KJIAvpvhMGqk9clAkKFwXHfH++ZE4bBkrWT+brkhsF4N4K3XrWHwf5KcnF+hYjBR/qBRRNVicEK/comFiSKwc87zdx/8orB7+ffAknAi8HJHqoHao2MwRDIoyzbWY3BF6ifhZQljsGUll/4jfCOwU22Mzy/uo/BqO/S7A9CkMEKDhmVU6aQwRbABiwmCpHBtCv+LoNtkcH+g5wDZtCRwdpdtvfJMpLBWZldQaqUksH1fvH+AfaSwfa/OTfMVpPBqgaN2QO3k8F7yQO+oxaUwaYRuKWmdZTBfPMSOwfUlMEaZigSwDGVwWAyIqnLjpXBxLW6aCTrlcGMIMikxEaWwQ==",
        "encoding": "base64",
        "path": [
         "_data",
         4,
         "y",
         "value"
        ]
       },
       {
        "data": "8zXn/CYxj0HY2O+snT6bQV1tgy3cY6NB2y2FtP8TqUExh4dm3KmuQWFpXyrYD7JBLQXzSu23tEH5qsiJcEq3QSG1vRe7xLlBKPB9HT8kvEG09oFdima+QW/8zFykRMBBfb+1TCNFwUGmXLSXuTPCQbs+9UxxD8NBN4Ud72fXw0HMc8Ndz4rEQflE6anuKMVBJFif1CKxxUH7OAl33yLGQW1NGFOvfcZBXvlmzDTBxkGMo7dIKu3GQS0jtHdiAcdBtqCjgcj9xkFVw+YcYOLGQYoFJIpFr8ZBiiIod61kxkH+oZjI5ALGQdt7sEpQisVBTYlYSWz7xEHT3QYQzFbEQXQc6VEZncNBpEz2ehPPwkExgZzqju3BQY641Rh0+cBBNUILTX3nv0FBjC60+Lq9QXYNzBKYb7tBzv8g5LgHuUEGZ8wC1oW2Qds6YxqF7LNBNARg/XM+sUG0BlrEy/ysQe0/QxRhXqdBETnFqnKnoUHp86AaybuXQR488c+3HohBADA1npFpNUGFMHMfg8qGwYQV1SREFZfBlagknypXocE7tQQkQBKnwdx/ulP6tazBFv5KekQescGRxk/vHNCzwT6rWG2/bbbBNBNCrnn0uMGkXeQIsWG7wd43SSDlsr3B0kLFd7Llv8GyyqZ06vvAwf+sv/2U88HBdId4itnYwsHiXkTFy6rDwXhMXEOTaMTBpt/VY2wRxcHqm0sZqaTFwYWzR52xIcbBMQy4DAWIxsGNR8rsOdfGwQ3bppf+DsfBHiKbkBkvx8GjqFu/aTfHwaKXIZLmJ8fB0RmABqAAx8GonOiYvsHGwQ3s7hqDa8bBYy14cEb+xcHDmhk0eXrFwSJyBUOj4MTBcr/9MGMxxMFmYN2kbW3DwfLBX56MlcLBok3npZ6qwcFaKxnnla3AwTmadW7uPr/B9DOlELICvcHXv0GUxKi6wV7aMXSSM7jBkm0nR6SltcFjaAsjnAGzwYISIeYySrDBLoNa0WoEq8HH2ws0A1mlwS90DzAOMJ/BzAuJv8mOk8G603N62Gh/wd4VhBjeDG9BzDTn/CYxj0E=",
        "encoding": "base64",
        "path": [
         "_data",
         5,
         "x",
         "value"
        ]
       },
       {
        "data": "0XYPwCPjxcHbPvjT+bXFwTCZXc08ccXBUqukhzMVxcE/qkXiPKLEwbPN/17PGMTB1YGwp3h5w8G1w0v83MTCwZYwjIm2+8HB708JqdQewcH063kLGy/Awe2Z/ZsBW77BaJHP9h42vMH1dPP0w/G5wcgbn9RGkLfBdPAF3BsUtcErcbXR0n+ywRauMLEorK/By26yZD4zqsH0t+/VipqkwZRD8MGlz53B45gUZ+xBksHTvGz4SV96wU0q3VaHinRB1girlVnhkEHsbPhdOZicQWyFWfCWHaRBL4QvLBzfqUEDBK5yvYqvQWupWTJRjbJBdx8lnYdEtUG1q9dVNei3QQvhYtuhdbpBqVOEnSvqvEEzgRizSkO/QU8Y/rpJv8BBs+nlgNzMwUFNPHfJR8nCQWJIvWGHs8NB4vrS0amKxEEhH8xV0U3FQcYYT8I0/MVB54jzUyCVxkFKG5Bo9hfHQcR3uCEwhMdB7tfD713Zx0FC8cwEKBfIQceoNK9OPchBD0NKm6pLyEF3YtX7LELIQbYJWJnfIMhBhOj4x+Tnx0FYVyBEd5fHQa587PXpL8dBVwW7m6exxkF7iCBcMh3GQfQDvz8jc8VBX72Fkym0xEFyJP0zCuHDQb78WMKe+sJBsv0hxNQBwkGCKV6urPfAQXp8aLpxur9BJ4g18jhnvUHIgGyVFPi6QRLhN/2Gb7hBvA9+tCzQtUFRcrvGuRyzQZp3ovb2V7BBKvLBvn0Jq0F7owAH9kulQfcBojGD+p5B6w569rlGk0H87yvugSJ+QTGpJfq5znDB1uCHHzTEj8GPoyOhl3abwYO/H6ubcqPBLlGpLRgRqcGF74WF9pCuweC/5rdF9rHB1h+riCiPtMHq3RFUdhC3wXtGNAiad7nBySO1ixnCu8HPXGVLmO29wZxyeanZ97/BT7fmpWHvwMGrZ2ujL9DBwVwyhBFvncLBhmNJXUxWw8Egd8r2CPrDwSyjfRX8h8TB0yM8ZpP/xMGR7xeiU2DFwQZYbw3ZqcXB4Ji73tfbxcFUW7CMHPbFwR6mWwOM+MXB03YPwCPjxcE=",
        "encoding": "base64",
        "path": [
         "_data",
         5,
         "y",
         "value"
        ]
       },
       {
        "data": "tB0MCD3XokE=",
        "encoding": "base64",
        "path": [
         "_data",
         6,
         "x",
         "value"
        ]
       },
       {
        "data": "Eqfqa6/Jx0E=",
        "encoding": "base64",
        "path": [
         "_data",
         6,
         "y",
         "value"
        ]
       }
      ],
      "model_module": "plotlywidget",
      "model_module_version": "^0.7.1",
      "model_name": "FigureModel",
      "state": {
       "_config": {
        "plotlyServerURL": "https://plot.ly"
       },
       "_data": [
        {
         "hoverinfo": "none",
         "line": {
          "color": "rgb(31, 119, 180)",
          "dash": "dash",
          "width": 2
         },
         "mode": "lines",
         "name": "2011-08-05 16:26 (Earth)",
         "type": "scatter",
         "uid": "d208ddbe-1133-459c-ae7c-d0f0f217fba9",
         "x": {
          "dtype": "float64",
          "shape": [
           100
          ]
         },
         "y": {
          "dtype": "float64",
          "shape": [
           100
          ]
         }
        },
        {
         "marker": {
          "color": "rgb(31, 119, 180)",
          "size": 10
         },
         "mode": "markers",
         "name": "2011-08-05 16:26 (Earth)",
         "type": "scatter",
         "uid": "e2c7f8c9-af1d-4dfc-ba92-c1a3ab20bf0f",
         "x": {
          "dtype": "float64",
          "shape": [
           1
          ]
         },
         "y": {
          "dtype": "float64",
          "shape": [
           1
          ]
         }
        },
        {
         "hoverinfo": "none",
         "line": {
          "color": "rgb(255, 127, 14)",
          "dash": "solid",
          "width": 2
         },
         "mode": "lines",
         "name": "Inner Cruise 1",
         "type": "scatter",
         "uid": "0797d66b-985c-49c8-aced-7435c94b5c60",
         "x": {
          "dtype": "float64",
          "shape": [
           50
          ]
         },
         "y": {
          "dtype": "float64",
          "shape": [
           50
          ]
         }
        },
        {
         "hoverinfo": "none",
         "line": {
          "color": "rgb(44, 160, 44)",
          "dash": "solid",
          "width": 2
         },
         "mode": "lines",
         "name": "Back to Earth",
         "type": "scatter",
         "uid": "8a68bab9-858b-4f40-a4df-db4ba7689c4e",
         "x": {
          "dtype": "float64",
          "shape": [
           50
          ]
         },
         "y": {
          "dtype": "float64",
          "shape": [
           50
          ]
         }
        },
        {
         "hoverinfo": "none",
         "line": {
          "color": "rgb(214, 39, 40)",
          "dash": "solid",
          "width": 2
         },
         "mode": "lines",
         "name": "Jupiter Orbit Insertion Phase",
         "type": "scatter",
         "uid": "7b90dd9d-2b2d-4aad-b9f5-7c481bc0ff73",
         "x": {
          "dtype": "float64",
          "shape": [
           50
          ]
         },
         "y": {
          "dtype": "float64",
          "shape": [
           50
          ]
         }
        },
        {
         "hoverinfo": "none",
         "line": {
          "color": "rgb(148, 103, 189)",
          "dash": "dash",
          "width": 2
         },
         "mode": "lines",
         "name": "2016-07-05 03:19 (Jupiter)",
         "type": "scatter",
         "uid": "3f485d02-5782-4fd8-86e4-7a9cbc1be969",
         "x": {
          "dtype": "float64",
          "shape": [
           100
          ]
         },
         "y": {
          "dtype": "float64",
          "shape": [
           100
          ]
         }
        },
        {
         "marker": {
          "color": "rgb(148, 103, 189)",
          "size": 10
         },
         "mode": "markers",
         "name": "2016-07-05 03:19 (Jupiter)",
         "type": "scatter",
         "uid": "29309670-34e1-4626-b1e8-318b8deca768",
         "x": {
          "dtype": "float64",
          "shape": [
           1
          ]
         },
         "y": {
          "dtype": "float64",
          "shape": [
           1
          ]
         }
        }
       ],
       "_js2py_pointsCallback": {},
       "_js2py_relayout": {},
       "_js2py_restyle": {},
       "_js2py_update": {},
       "_last_layout_edit_id": 8,
       "_last_trace_edit_id": 8,
       "_layout": {
        "autosize": true,
        "shapes": [
         {
          "fillcolor": "#ffcc00",
          "line": {
           "color": "#ffcc00"
          },
          "opacity": 1,
          "type": "circle",
          "x0": -21895056.19935296,
          "x1": 21895056.19935296,
          "xref": "x",
          "y0": -21895056.19935296,
          "y1": 21895056.19935296,
          "yref": "y"
         }
        ],
        "template": {},
        "xaxis": {
         "constrain": "domain",
         "title": {
          "text": "x (km)"
         }
        },
        "yaxis": {
         "scaleanchor": "x",
         "title": {
          "text": "y (km)"
         }
        }
       },
       "_py2js_animate": {},
       "_py2js_deleteTraces": {},
       "_py2js_moveTraces": {},
       "_py2js_removeLayoutProps": {},
       "_py2js_removeTraceProps": {},
       "_py2js_restyle": {},
       "_view_count": 0
      }
     },
     "2370b53f9e514dcabf564d5d8456a848": {
      "buffers": [
       {
        "data": "8HSogo9moUEg1g1CaF2hQQqkt+/7QaFBA/FY0GYUoUFMeLrg19SgQSQWS6WQg6BBr2SW5uQgoEH+N861dFqfQcd43HoQUp5B5i22pq0pnUGKzMW+feKbQb+HkQjSfZpBPpoQLhr9mEGZUKzC4mGXQcOBc6rTrZVBO9slZa7ik0Esbtk+TAKSQTUfGGicDpBBHcvX7kMTjEEQEdCs4+qHQetfpThhqINBsTCUYkGgfkGvDaQ+Oc11QesXTVyFwWlBOijvhoQgT0F0r0j3ZX5UwYYzMWfhQWzBI81Sq6wWd8EAWbD2kPd/wbi6wFE7XYTBeOpv1SqriMGTHDwgJ+GMwUACF35sfZDBrTp7LgN6ksF2NapdS2SUwU7F9qZLOpbBTHifjR/6l8HHHjpw+aGZwZehj2QkMJvBoaH9+QWjnMEcnY3gH/mdwVx5DXMRMZ/BXJlJkcwkoMGFffrgyqCgwV0L8NcDDKHB95gt7whmocEMRlJbfa6hweaKQGwW5aHBJaYb2psJosFtjEv/5xuiwWqMS//nG6LBHKYb2psJosHWikBsFuWhwfVFUlt9rqHB2pgt7whmocE7C/DXAwyhwV59+uDKoKDBL5lJkcwkoMH0eA1zETGfwa2cjeAf+Z3BJKH9+QWjnMESoY9kJDCbwTkeOnD5oZnBuHefjR/6l8GoxPamSzqWwdw0ql1LZJTB9jl7LgN6ksGLARd+bH2QwRcbPCAn4YzBD+lv1SqriMEvucBRO12EwfRVsPaQ93/BH8pSq6wWd8FcLTFn4UFswcqiSPdlflTBdUHvhoQgT0GSHU1chcFpQdMQpD45zXVB8TOUYkGgfkF0YaU4YaiDQYIS0Kzj6odBjczX7kMTjEHpHxhonA6QQdhu2T5MApJB6NslZa7ik0FignOq062VQSxRrMLiYZdBu5oQLhr9mEE8iJEI0n2aQf3Mxb594ptBVi62pq0pnUEoedx6EFKeQVU4zrV0Wp9B1GSW5uQgoEFDFkulkIOgQWR4uuDX1KBBF/FY0GYUoUEXpLfv+0GhQSfWDUJoXaFB8HSogo9moUE=",
        "encoding": "base64",
        "path": [
         "_data",
         0,
         "x",
         "value"
        ]
       },
       {
        "data": "AAAAAACuuT4APwYMpQRiQat21KNb+3FBVv/wg9vhekGvfCq2UtaBQXcYzZlUKYZBayFSTH5likG0vpw5coaOQTvQA233Q5FBUrTAiukyk0GUyJxCEQ6VQQlHvceE05ZBS3K6rHCBmEGrJnXFGRaaQUnB6+/ej5tB2HM3wjrtnEGjxvYbxSyeQZt/h5k0TZ9BT6HI868moEEBdcF6H5agQaJT4wJ29KBBDSpKTVJBoUF76jYfZXyhQV1xu5NxpaFBhO1/Wk28oUHGFmHj4MChQfU8unYns6FBOSVCOi+ToUHHsnUiGWGhQTZjn9AYHaFBC6OeXXTHoEEp16URhGCgQUAucxJk0Z9Bg86dj/PAnkG0ZvJwz5CdQfaQVjoxQpxBgQZB2nHWmkFDiClGCE+ZQX7ZBPiHrZdB2TlbTp/zlUGhGqbQFSOUQVJdvlnKPZJBryY/KrFFkEEZNLTJo3mMQYcbYe2KSohBOsOz22cChEGCAUYBSUt/QcahXBaAcXZBnXPOKikBa0FkiQvZ9wZSQVWWC9n3BlLB6HnOKikBa8H3pFwWgHF2wZYERgFJS3/BxcSz22cChMEFHWHtikqIwZQ1tMmjeYzBZCc/KrFFkMEDXr5Zyj2SwUcbptAVI5TBfTpbTp/zlcEV2gT4h62XwdiIKUYIT5nBBwdB2nHWmsF3kVY6MUKcwRxn8nDPkJ3B786dj/PAnsGeLnMSZNGfwVPXpRGEYKDBLaOeXXTHoMFTY5/QGB2hwd6ydSIZYaHBSiVCOi+TocH/PLp2J7OhwcgWYePgwKHBgO1/Wk28ocFVcbuTcaWhwWzqNh9lfKHB9SlKTVJBocGIU+MCdvSgweF0wXoflqDBJqHI868moME/f4eZNE2fwTzG9hvFLJ7BX3M3wjrtnMHLwOvv3o+bwSgmdcUZFprByHG6rHCBmMF5Rr3HhNOWwfvHnEIRDpXBp7PAiukyk8GQzwNt90ORwVW9nDlyho7B/h9STH5lisEAF82ZVCmGwTB7KrZS1oHBWvzwg9vhesGPc9SjW/txwfA4BgylBGLBAAAAAAD+tz4=",
        "encoding": "base64",
        "path": [
         "_data",
         0,
         "y",
         "value"
        ]
       },
       {
        "data": "ietIKgDTncE=",
        "encoding": "base64",
        "path": [
         "_data",
         1,
         "x",
         "value"
        ]
       },
       {
        "data": "L/AASgRalME=",
        "encoding": "base64",
        "path": [
         "_data",
         1,
         "y",
         "value"
        ]
       },
       {
        "data": "jutIKgDTncEhxjqeOXScwbtlibkP/5rBTkc8PpdzmcEFLghp2NGXwYDUDHDQGZbBQUX0GHNLlMFORcFtrGaSwevguJhia5DBr/QV4u+yjMH8smGGmmGIwdOszsKI4oPBvcjHKAxrfsGyRbzR2LR0wdJGSJGuRGXB8BWU1TnSCcEsAjsBpC1lQa49+Ss3vHVB0yDHp5qdgEGSdzde7IiGQTBHe3O3noxB9f0gV5hukUG/wt8YA6GUQcYmtEok5ZdB76JK5ig5m0GFIE8C1ZqeQX0yQbK6A6FB+G+5POi9okFa4iyLC3qkQTggjMnqNaZBcDWk/fLup0ExpWEmMqKpQf4KwPpSTKtB1vIL/5rprEEKt4rB63WuQZTASiLI7K9BM6SKR6+ksEHo4saGTEOxQR5Pw+GZz7FBlqouMe1GskFndhM1pqayQebtq9JD7LJB5BI5xnsVs0G9h+7AUyCzQeLFc486C7NBDh5YnB/VskEwm3f6hn2yQT2CHSuYBLJBNOPCEiZrsUEe1l0Fr7KwQQ==",
        "encoding": "base64",
        "path": [
         "_data",
         2,
         "x",
         "value"
        ]
       },
       {
        "data": "KvAASgRalMFxgH83sDeWwbfuwzifBZjBc0Rpr2TDmcGx9PO5g3CbwTjVS4BtDJ3BxgAren+WnsE6pFDWAAegwW1NVW4SuaDB7SntWgBhocEWh6nySP6hwQb4XBVckKLBRNBPMZoWo8EXgAZIU5CjwXkDy/bF/KPBlxzSiB5bpMGzUdgadqqkwXajgNrR6aTB25CmbiIYpcGptkOZQzSlwccriSf8PKXBCFVhSf4wpcHsibFu6A6lwXrlTM5G1aTBxGBtwJWCpMFnY2gcRRWkwaWauM68i6PBDbWy4GLkosFdIF8tox2iwRCox/34NaHBUh8HwforoMFoK48P0PydwQs8QKtzWJvB8vfxdWppmMHcrEj8/y6VwYZHvMJtqZHBq8/nNxO0i8EZWk9354aDwR30ukQHp3XBLKsA1npUSsGwmrHaCdRvQbR7/8oN6YFBmiu1aRUhjEF9ZNNLCUKTQRlRthkRe5hBtX2iUY2snUGcxWLOU2OhQTlIbFue3KNB3K9P9S46pkHvbbbKa3SoQQ==",
        "encoding": "base64",
        "path": [
         "_data",
         2,
         "y",
         "value"
        ]
       },
       {
        "data": "kjd/gEvnlsFMvKsH9GI/QbY+eWAcK5hBul6lLzQdpUF8Y71eAW2rQYrrVY93p69Bo9OyKnIxsUHSoOb72gmyQau0Z5Byh7JB35gZLDfIskFdgZbj1+CyQcfVdmRX37JB2M1pYxDNskFfWYPGLbCyQbj4B3OzjLJBQ74zSzRlskFvV0cqTTuyQakuzQH3D7JBT+vZKr3jsUGYW30C4baxQeSO3/xwibFBM76WTFdbsUHNds/SYiyxQYGOHBhM/LBBpejYZ7fKsEEOIAG2NJewQQAjaqY9YbBB82IRzzEosEERLE05otavQXh4MSNoU69BrjWaz4LErkF+DxDQQCeuQS6iFhxOeK1BXwjCnYWzrEERN7IvtdOrQeq2OO1Q0qpBji9Z/xKnqUGCWsTChkeoQfGfv9eCpqZBSFEXbaCzpEGFyNNk1FqiQSaRRSv1CJ9B9bKDDuwsmEHNQe3Yld6PQde6iNwqwXhBHHPCtLfic8GelWaWSeqQweQImCGtsZvB4G3u1WUeoMHpOv8ew9eVwQ==",
        "encoding": "base64",
        "path": [
         "_data",
         3,
         "x",
         "value"
        ]
       },
       {
        "data": "PNr1GoCXksEpM2MMkRahwTL7p+sgvqHBuIdoo5+LncHFfaHtNw+VwR79kzRsZYjBDsipJtwob8EieEhOYwJsQYNJ9FiL14NBaf/8P7HYjkF49iyt/x2UQdPLGVW2H5hByg2QxtKOm0ESFFQYK4WeQXopm/RRjKBBe2zIfrOtoUGC/FQCLq6iQbSMMmbYk6NBfYID4qxjpEEBjRT8wCGlQSukA1Z00aVBSb9T55Z1pkGLZx/WhxCnQdtAhDVOpKdBxeq00qwyqEEySMcFMr2oQVyYmEBERalBQ0mQ2CvMqUEN76BFGlOqQZUcD8Mu26pBVRnl2Xdlq0HdC8rP8PKrQS4T1CN5hKxBs4DdA8MarUFv9Oi3M7atQSW/YgauVq5BsDJbADr7rkFAluG3dqGvQfuZGhRcIrBBNpG6glJusEEzZvA6iq2wQZbh53xp1LBBmd294WzQsEENZ5UntISwQSvaP/9ciq9B6V0VCUqgrEF+vmWEho2nQYbtnzJXsp5Bf5hk8k6lekHHn6cYW+WTwQ==",
        "encoding": "base64",
        "path": [
         "_data",
         3,
         "y",
         "value"
        ]
       },
       {
        "data": "UpIi65pZn0FkcRrusQefQTM+Sro4s55BWrigTQNcnkFIxFYI4wGeQfcWCYOmpJ1B48n9YxlEnUFM4PYzBOCcQQhaDzMseJxBg2hCLlMMnEEgW2RWN5ybQUGpgxmTJ5tBebre/xyumkFzYNmNhy+aQTDHoyyBq5lBHDeUG7QhmUECNo1sxpGYQX3JKQ5a+5dBvoHQ5gxel0ENVDkEebmWQdTGXuM0DZZBdLU71dNYlUFrcRWF5puUQVGjXaX71ZNBES1lyKAGk0FlEhxqYy2SQSpa4i/SSZFBA/zoYn5bkEGXjHlR+8OOQZBod/jXuYxBklupztuXikHyT/X2ZV2IQe65OwfxCYZBFJySzRidg0Gjbn5coBaBQZhF9nTw7HxBVyGqDol5d0F6VVbAxdNxQe6JCAm/+WdBLAcVMFnaV0GAqQxm+GMOwVBs7WlraVrB/pmQT109asHJRk3GvsVzwdba65T8inrBYkPbLa20gMEXucg8rS2EwbrJUkORrYfBDFMY+Egxi8FUCYutrbWOwQ==",
        "encoding": "base64",
        "path": [
         "_data",
         4,
         "x",
         "value"
        ]
       },
       {
        "data": "M5fjP3j0x0FJVbDQBfbHQWfLH2+Q98dBIA8+exf5x0E4klQ0mvrHQXwSiLQX/MdBkjvg6479x0Ggwqea/v7HQXpqEktlAMhBFiIVSsEByEFEZFufEAPIQY1FRARRBMhBvljR2X8FyEGz9XEdmgbIQWyyllycB8hBXVD7poIIyEFGVZl/SAnIQXppO8zoCchBcN2xw10KyEG+7LPaoArIQYsIiK+qCshB8kCg9HIKyEE2YW9a8AnIQfcD2HgYCchBdyu5uN8HyEGH50M+OQbIQbQL89QWBMhBOScw3mgByEE0XuZDHv7HQXIXenAk+sdBikPQTWf1x0G7uTxN0e/HQVf1TnpL6cdBfW6Amr3hx0H3CbhbDtnHQcuLYpMjz8dB2+WAj+LDx0FUinx6MLfHQWRVzNHyqMdBjDp77g+Zx0FBYHudb4fHQXwoasT7c8dBMVIYDqFex0HO9OeYT0fHQcZxAKD7LcdBP1mYF54Sx0EuT0Y0NfXGQbA3hdXE1cZBqyZrzFa0xkEXyfz4+pDGQQ==",
        "encoding": "base64",
        "path": [
         "_data",
         4,
         "y",
         "value"
        ]
       },
       {
        "data": "8zXn/CYxj0HY2O+snT6bQV1tgy3cY6NB2y2FtP8TqUExh4dm3KmuQWFpXyrYD7JBLQXzSu23tEH5qsiJcEq3QSG1vRe7xLlBKPB9HT8kvEG09oFdima+QW/8zFykRMBBfb+1TCNFwUGmXLSXuTPCQbs+9UxxD8NBN4Ud72fXw0HMc8Ndz4rEQflE6anuKMVBJFif1CKxxUH7OAl33yLGQW1NGFOvfcZBXvlmzDTBxkGMo7dIKu3GQS0jtHdiAcdBtqCjgcj9xkFVw+YcYOLGQYoFJIpFr8ZBiiIod61kxkH+oZjI5ALGQdt7sEpQisVBTYlYSWz7xEHT3QYQzFbEQXQc6VEZncNBpEz2ehPPwkExgZzqju3BQY641Rh0+cBBNUILTX3nv0FBjC60+Lq9QXYNzBKYb7tBzv8g5LgHuUEGZ8wC1oW2Qds6YxqF7LNBNARg/XM+sUG0BlrEy/ysQe0/QxRhXqdBETnFqnKnoUHp86AaybuXQR488c+3HohBADA1npFpNUGFMHMfg8qGwYQV1SREFZfBlagknypXocE7tQQkQBKnwdx/ulP6tazBFv5KekQescGRxk/vHNCzwT6rWG2/bbbBNBNCrnn0uMGkXeQIsWG7wd43SSDlsr3B0kLFd7Llv8GyyqZ06vvAwf+sv/2U88HBdId4itnYwsHiXkTFy6rDwXhMXEOTaMTBpt/VY2wRxcHqm0sZqaTFwYWzR52xIcbBMQy4DAWIxsGNR8rsOdfGwQ3bppf+DsfBHiKbkBkvx8GjqFu/aTfHwaKXIZLmJ8fB0RmABqAAx8GonOiYvsHGwQ3s7hqDa8bBYy14cEb+xcHDmhk0eXrFwSJyBUOj4MTBcr/9MGMxxMFmYN2kbW3DwfLBX56MlcLBok3npZ6qwcFaKxnnla3AwTmadW7uPr/B9DOlELICvcHXv0GUxKi6wV7aMXSSM7jBkm0nR6SltcFjaAsjnAGzwYISIeYySrDBLoNa0WoEq8HH2ws0A1mlwS90DzAOMJ/BzAuJv8mOk8G603N62Gh/wd4VhBjeDG9BzDTn/CYxj0E=",
        "encoding": "base64",
        "path": [
         "_data",
         5,
         "x",
         "value"
        ]
       },
       {
        "data": "0XYPwCPjxcHbPvjT+bXFwTCZXc08ccXBUqukhzMVxcE/qkXiPKLEwbPN/17PGMTB1YGwp3h5w8G1w0v83MTCwZYwjIm2+8HB708JqdQewcH063kLGy/Awe2Z/ZsBW77BaJHP9h42vMH1dPP0w/G5wcgbn9RGkLfBdPAF3BsUtcErcbXR0n+ywRauMLEorK/By26yZD4zqsH0t+/VipqkwZRD8MGlz53B45gUZ+xBksHTvGz4SV96wU0q3VaHinRB1girlVnhkEHsbPhdOZicQWyFWfCWHaRBL4QvLBzfqUEDBK5yvYqvQWupWTJRjbJBdx8lnYdEtUG1q9dVNei3QQvhYtuhdbpBqVOEnSvqvEEzgRizSkO/QU8Y/rpJv8BBs+nlgNzMwUFNPHfJR8nCQWJIvWGHs8NB4vrS0amKxEEhH8xV0U3FQcYYT8I0/MVB54jzUyCVxkFKG5Bo9hfHQcR3uCEwhMdB7tfD713Zx0FC8cwEKBfIQceoNK9OPchBD0NKm6pLyEF3YtX7LELIQbYJWJnfIMhBhOj4x+Tnx0FYVyBEd5fHQa587PXpL8dBVwW7m6exxkF7iCBcMh3GQfQDvz8jc8VBX72Fkym0xEFyJP0zCuHDQb78WMKe+sJBsv0hxNQBwkGCKV6urPfAQXp8aLpxur9BJ4g18jhnvUHIgGyVFPi6QRLhN/2Gb7hBvA9+tCzQtUFRcrvGuRyzQZp3ovb2V7BBKvLBvn0Jq0F7owAH9kulQfcBojGD+p5B6w569rlGk0H87yvugSJ+QTGpJfq5znDB1uCHHzTEj8GPoyOhl3abwYO/H6ubcqPBLlGpLRgRqcGF74WF9pCuweC/5rdF9rHB1h+riCiPtMHq3RFUdhC3wXtGNAiad7nBySO1ixnCu8HPXGVLmO29wZxyeanZ97/BT7fmpWHvwMGrZ2ujL9DBwVwyhBFvncLBhmNJXUxWw8Egd8r2CPrDwSyjfRX8h8TB0yM8ZpP/xMGR7xeiU2DFwQZYbw3ZqcXB4Ji73tfbxcFUW7CMHPbFwR6mWwOM+MXB03YPwCPjxcE=",
        "encoding": "base64",
        "path": [
         "_data",
         5,
         "y",
         "value"
        ]
       },
       {
        "data": "tB0MCD3XokE=",
        "encoding": "base64",
        "path": [
         "_data",
         6,
         "x",
         "value"
        ]
       },
       {
        "data": "Eqfqa6/Jx0E=",
        "encoding": "base64",
        "path": [
         "_data",
         6,
         "y",
         "value"
        ]
       }
      ],
      "model_module": "plotlywidget",
      "model_module_version": "^0.7.1",
      "model_name": "FigureModel",
      "state": {
       "_config": {
        "plotlyServerURL": "https://plot.ly"
       },
       "_data": [
        {
         "hoverinfo": "none",
         "line": {
          "color": "rgb(31, 119, 180)",
          "dash": "dash",
          "width": 2
         },
         "mode": "lines",
         "name": "2011-08-05 16:26 (Earth)",
         "type": "scatter",
         "uid": "db00faaa-8106-4a4a-91b8-219412d8f160",
         "x": {
          "dtype": "float64",
          "shape": [
           100
          ]
         },
         "y": {
          "dtype": "float64",
          "shape": [
           100
          ]
         }
        },
        {
         "marker": {
          "color": "rgb(31, 119, 180)",
          "size": 10
         },
         "mode": "markers",
         "name": "2011-08-05 16:26 (Earth)",
         "type": "scatter",
         "uid": "e81a31cc-828b-4187-89b4-b4b94a72b137",
         "x": {
          "dtype": "float64",
          "shape": [
           1
          ]
         },
         "y": {
          "dtype": "float64",
          "shape": [
           1
          ]
         }
        },
        {
         "hoverinfo": "none",
         "line": {
          "color": "rgb(255, 127, 14)",
          "dash": "solid",
          "width": 2
         },
         "mode": "lines",
         "name": "Inner Cruise 1",
         "type": "scatter",
         "uid": "0502dacd-4c1a-41bf-ac3e-18c5ccc0d964",
         "x": {
          "dtype": "float64",
          "shape": [
           50
          ]
         },
         "y": {
          "dtype": "float64",
          "shape": [
           50
          ]
         }
        },
        {
         "hoverinfo": "none",
         "line": {
          "color": "rgb(44, 160, 44)",
          "dash": "solid",
          "width": 2
         },
         "mode": "lines",
         "name": "Back to Earth",
         "type": "scatter",
         "uid": "32b72c86-d188-4741-b65e-c3fc2ca55240",
         "x": {
          "dtype": "float64",
          "shape": [
           50
          ]
         },
         "y": {
          "dtype": "float64",
          "shape": [
           50
          ]
         }
        },
        {
         "hoverinfo": "none",
         "line": {
          "color": "rgb(214, 39, 40)",
          "dash": "solid",
          "width": 2
         },
         "mode": "lines",
         "name": "Jupiter Orbit Insertion Phase",
         "type": "scatter",
         "uid": "707b26e8-616e-4a55-b8d1-65f994453c7e",
         "x": {
          "dtype": "float64",
          "shape": [
           50
          ]
         },
         "y": {
          "dtype": "float64",
          "shape": [
           50
          ]
         }
        },
        {
         "hoverinfo": "none",
         "line": {
          "color": "rgb(148, 103, 189)",
          "dash": "dash",
          "width": 2
         },
         "mode": "lines",
         "name": "2016-07-05 03:19 (Jupiter)",
         "type": "scatter",
         "uid": "8b27c16a-e343-40b5-9fb7-dbe8a755af5e",
         "x": {
          "dtype": "float64",
          "shape": [
           100
          ]
         },
         "y": {
          "dtype": "float64",
          "shape": [
           100
          ]
         }
        },
        {
         "marker": {
          "color": "rgb(148, 103, 189)",
          "size": 10
         },
         "mode": "markers",
         "name": "2016-07-05 03:19 (Jupiter)",
         "type": "scatter",
         "uid": "fb40eb16-31ce-4937-ae78-5dd49628844c",
         "x": {
          "dtype": "float64",
          "shape": [
           1
          ]
         },
         "y": {
          "dtype": "float64",
          "shape": [
           1
          ]
         }
        }
       ],
       "_js2py_restyle": {},
       "_js2py_update": {},
       "_last_layout_edit_id": 10,
       "_last_trace_edit_id": 8,
       "_layout": {
        "autosize": true,
        "shapes": [
         {
          "fillcolor": "#ffcc00",
          "line": {
           "color": "#ffcc00"
          },
          "opacity": 1,
          "type": "circle",
          "x0": -21895056.19935296,
          "x1": 21895056.19935296,
          "xref": "x",
          "y0": -21895056.19935296,
          "y1": 21895056.19935296,
          "yref": "y"
         }
        ],
        "template": {},
        "xaxis": {
         "constrain": "domain",
         "range": [
          -33620784.73116085,
          419642522.0542301
         ],
         "title": {
          "text": "x (km)"
         }
        },
        "yaxis": {
         "range": [
          -74141074.12585098,
          437600530.1583873
         ],
         "scaleanchor": "x",
         "title": {
          "text": "y (km)"
         }
        }
       },
       "_py2js_animate": {},
       "_py2js_deleteTraces": {},
       "_py2js_moveTraces": {},
       "_py2js_removeLayoutProps": {},
       "_py2js_removeTraceProps": {},
       "_py2js_restyle": {},
       "_view_count": 0
      }
     },
     "28f640d5bfd44ec08e9a37df1da0ff1d": {
      "buffers": [
       {
        "data": "8HSogo9moUEg1g1CaF2hQQukt+/7QaFBA/FY0GYUoUFMeLrg19SgQSUWS6WQg6BBr2SW5uQgoEH+N861dFqfQcd43HoQUp5B5i22pq0pnUGKzMW+feKbQb+HkQjSfZpBPpoQLhr9mEGZUKzC4mGXQcOBc6rTrZVBPdslZa7ik0Enbtk+TAKSQTUfGGicDpBBHcvX7kMTjEEQEdCs4+qHQetfpThhqINBwzCUYkGgfkGvDaQ+Oc11QZEXTVyFwWlBySjvhoQgT0Gar0j3ZX5UwagzMWfhQWzBI81Sq6wWd8H5WLD2kPd/wcC6wFE7XYTBc+pv1SqriMGQHDwgJ+GMwUUCF35sfZDBrTp7LgN6ksF2NapdS2SUwU7F9qZLOpbBSHifjR/6l8HHHjpw+aGZwZehj2QkMJvBpqH9+QWjnMEZnY3gH/mdwVx5DXMRMZ/BW5lJkcwkoMGFffrgyqCgwV0L8NcDDKHB95gt7whmocEMRlJbfa6hweaKQGwW5aHBJaYb2psJosFtjEv/5xuiwWqMS//nG6LBHaYb2psJosHWikBsFuWhwfZFUlt9rqHB2pgt7whmocE6C/DXAwyhwV59+uDKoKDBL5lJkcwkoMH1eA1zETGfwaycjeAf+Z3BJqH9+QWjnMEToY9kJDCbwTkeOnD5oZnBtnefjR/6l8GuxPamSzqWwdI0ql1LZJTB+Dl7LgN6ksGRARd+bH2QwSEbPCAn4YzBA+lv1SqriMEvucBRO12EweRVsPaQ93/BFcpSq6wWd8FZLTFn4UFswQ6jSPdlflTBA0LvhoQgT0HMHU1chcFpQboQpD45zXVBvTOUYkGgfkFvYaU4YaiDQYAS0Kzj6odBjczX7kMTjEHqHxhonA6QQdZu2T5MApJB4NslZa7ik0FhgnOq062VQS9RrMLiYZdBxpoQLhr9mEE8iJEI0n2aQf/Mxb594ptBVC62pq0pnUEoedx6EFKeQVU4zrV0Wp9B1GSW5uQgoEFFFkulkIOgQWZ4uuDX1KBBF/FY0GYUoUEXpLfv+0GhQSbWDUJoXaFB8HSogo9moUE=",
        "encoding": "base64",
        "path": [
         "_data",
         0,
         "x",
         "value"
        ]
       },
       {
        "data": "AAAAAACOuD4APwYMpQRiQZZ21KNb+3FBRv/wg9vhekGvfCq2UtaBQW4YzZlUKYZBayFSTH5likG0vpw5coaOQTvQA233Q5FBT7TAiukyk0GUyJxCEQ6VQQtHvceE05ZBS3K6rHCBmEGsJnXFGRaaQUnB6+/ej5tB1XM3wjrtnEGmxvYbxSyeQZt/h5k0TZ9BT6HI868moEEBdcF6H5agQaJT4wJ29KBBDCpKTVJBoUF76jYfZXyhQV5xu5NxpaFBhO1/Wk28oUHGFmHj4MChQfU8unYns6FBOSVCOi+ToUHHsnUiGWGhQTVjn9AYHaFBDKOeXXTHoEEq16URhGCgQT0ucxJk0Z9Bg86dj/PAnkG0ZvJwz5CdQfaQVjoxQpxBgwZB2nHWmkFDiClGCE+ZQX7ZBPiHrZdB0DlbTp/zlUGkGqbQFSOUQVJdvlnKPZJBtyY/KrFFkEEZNLTJo3mMQX0bYe2KSohBQsOz22cChEFvAUYBSUt/QcahXBaAcXZBnXPOKikBa0FkiQvZ9wZSQTWWC9n3BlLB/HnOKikBa8HvpFwWgHF2wY4ERgFJS3/BwsSz22cChMEIHWHtikqIwZI1tMmjeYzBYyc/KrFFkMEDXr5Zyj2SwUobptAVI5TBfDpbTp/zlcEU2gT4h62XwdSIKUYIT5nBCAdB2nHWmsFzkVY6MUKcwSNn8nDPkJ3B786dj/PAnsGcLnMSZNGfwVHXpRGEYKDBLqOeXXTHoMFTY5/QGB2hwd2ydSIZYaHBSiVCOi+TocH/PLp2J7OhwckWYePgwKHBge1/Wk28ocFVcbuTcaWhwWzqNh9lfKHB9ylKTVJBocGIU+MCdvSgweF0wXoflqDBJqHI868moME9f4eZNE2fwT7G9hvFLJ7BZHM3wjrtnMHNwOvv3o+bwSQmdcUZFprBwHG6rHCBmMF5Rr3HhNOWwfbHnEIRDpXBrLPAiukyk8GQzwNt90ORwVG9nDlyho7B/h9STH5lisH4Fs2ZVCmGwTN7KrZS1oHBMfzwg9vhesGKc9SjW/txwdo4BgylBGLBAAAAAAButz4=",
        "encoding": "base64",
        "path": [
         "_data",
         0,
         "y",
         "value"
        ]
       },
       {
        "data": "ietIKgDTncE=",
        "encoding": "base64",
        "path": [
         "_data",
         1,
         "x",
         "value"
        ]
       },
       {
        "data": "L/AASgRalME=",
        "encoding": "base64",
        "path": [
         "_data",
         1,
         "y",
         "value"
        ]
       },
       {
        "data": "D/4BVfb0nMG1P5SgS4ibwew7CDDwBZrBgARIHAdumMGdNTU9psCWwe4QIZfX/ZTB6jQw4Jolk8H+0x4l5zeRwXYO9CtZaY7BPK01Ca03isHu0gNAm9qFwYVZP/L0UYHBy+lmfCE7ecHKdKwVRfVuwXld+SJliVXBKudG+lc2VEEfhgaldqlvQfS66J1E8npBdMI4CXIyg0G4kQiDWRWJQfZE6nqIII9BknX6mB+pkkGeiUXWHNSVQayhyFvMD5lBTJRDXWRanEGHAqg+s7GfQcPCYYyIiaFBt7Y2Uag9o0HI4m3xV/OkQeXnnp1kqKZBfGVYw0JaqEGX7YcjCAaqQQ5EUIhnqKtBbuMA0a49rUFunU4lyMGuQYAszZkfGLBBriyksSXCsEGZI57qb1yxQWJARPFg5LFBE3oUP1NXskHGwEs3q7KyQTMO9V/s87JBCeYED9EYs0HgSpWDYx+zQaMZxQcXBrNB6M+abt/LskFKtusZRXCyQX9iF7xz87FBTKJ5SEJWsUHybYv7MpqwQQ==",
        "encoding": "base64",
        "path": [
         "_data",
         2,
         "x",
         "value"
        ]
       },
       {
        "data": "9iNonLCNlcGV6LVKxWCXwc6xkn48I5nB43sMObXUmsEHiXwqv3ScwUgH5/PYAp7BiOHdYG5+n8HYAoRLa3OgwdxOqRypHaHBBn3tvoS9ocE3s20bhVKiwSMhMegi3KLB6bU1o8dZo8HvhJaMzMqjwbPAEKR5LqTB1ZTVrwSEpMEW05tUkMqkwXJTU0krAaXBl/PDs88mpcFYwdC+YjqlwbYTF3+0OqXButk0P4AmpcH7gSJSbfykwW/+pI8Qu6TBOAC+pO5gpMFxNt5nf+yjweCB/2UyXKPBB1cG4nSuosEykOuBueGhwdJZAuSB9KDBhRVWodTKn8FJT0Bgb2adwf14m63PuZrBE2+vNYjDl8GEgPTy64KUwWLq5bM6+JDBCkDW2J5JisHr3vOJnBaCwdq5Pco+v3LBgILWbkQFGMH6s6+irtJyQYjXdcI6WoNBjBDf2N6MjUH70TaSIfSTQWwmwo5GKJlBpvpyBM9TnkHPgv+TdbOhQbzy4qq/KKRB83UMw9KBpkHCKbzjGbeoQQ==",
        "encoding": "base64",
        "path": [
         "_data",
         2,
         "y",
         "value"
        ]
       },
       {
        "data": "74TUjFTJsEE1rL1njkGvQc5kxC9yiKxBeZRXdPp8qUGnr1dNQjemQeuxTgbpz6JBJjw1p6K8nkHOD3f7je6XQdgdRt1IWJFBVTYzidgphkEAYe8ONeB0QVB1RSeJyyjBCMEHd2iEdMHcbSLdkSiDwbflUG8MGYvBD89zbMgNkcHkpbuRvx2UwadyQcglw5bBbhjFRzgFmcH4Dny2U+uawaKbD76tfJzB/7d3yCXAncEHTy5sJ7yewdBvPuqZdp/BLqSQBdn0n8F8ntMm2h2gwW7VxFW5J6DBVAB5SewZoMGki+itL+yfwTK3CjJPe5/BgRqaUaTjnsGex8FrOieewSxrU8PCR53BVZz0nJtGnMGkRga41iSbwQG3nyI/45nBTtxucl6CmMFgx3tzgQKXwXhGtGO8Y5XBQvqZ1+6lk8FEhiVqx8iRwUbXHMGOl4/BBMSH5Yxci8Guzznn7d6GweuihEHVHILB4JEUy2EoesG3OnTTHgtvwcQOLx1fMlHB1FE9lWscXkFI5M/e2/lzQQ==",
        "encoding": "base64",
        "path": [
         "_data",
         3,
         "x",
         "value"
        ]
       },
       {
        "data": "jmq6xIU2qEGIa1rP/+yqQdD7tEzoOa1BukebSp0Qr0FrjbRzQzWwQRFnV2+Co7BB4r9qUWDVsEE2H2uZSs+wQcBgrVQjl7BBc7+q3p4zsEFiH4CnbFevQTfKBYdxDK5BLEpnRfuSrEE35Pt6a/aqQTgLyzOqQKlBGYMVtx56p0GZFtw7wamlQYFz3oM71aNBwKPRxxABokEK09mqxzCgQdAqmqIlzpxB/bhXTuxLmUG3rqLNz92VQWOeGzjahZJBKJwYJMeKjkHu+3MxdDqIQV/bzAuHG4JBzKKyNGFceEGKqKBmzshpQUSg550V4TxBPh8MNBHQYcFuRnOHeD9zwUn+zGfSOX3BB0P2nkVsg8HZJddmbg6IwQZ8XFrWg4zBflrEbF1mkMF/ETiHjHSSwdS1DKRRbJTBzEnECFtNlsFXe2hUJheYwZ7KvkD6yJnBqIfkwd9hm8H8SQ5gmuCcwYVywKqfQ57BFIPwqQ2Jn8HVVaUcUFegwegW96LS2KDBMgG//HdHocHvrKB8ZaGhwQ==",
        "encoding": "base64",
        "path": [
         "_data",
         3,
         "y",
         "value"
        ]
       },
       {
        "data": "NrskiJbAoUEUMirJ76uiQa1Z/4ZtmqNBzN3RFh6MpEHQiGG3DIGlQVqvUexAeaZBkbtKvr10p0ENyMTbgHOoQRJpwZWBdalBdyUZs696qkHrb1EU8oKrQbQpNCEljqxBAoWd+BicrUGZmi5aj6yuQZuw00A5v69BaIsxEtppsEF3cAxsw/SwQXOAvP0OgLFBqqep+WMLskGEL7wwWJayQc72s4ltILNB4CeeMQ+ps0F502GFji+0Qbnf0rcfs7RBwnWnPNYytUE1qnEHoa21QXfTyrZGIrZB/mafz2GPtkH7YWQ7XfO2QVzJME5xTLdBn0U0r6GYt0HkakiWvNW3QbIRHutbAbhBnPtz6+gYuEEgxBsSoxm4QX3l8AKrALhBcZErORLLt0FYkxwV8HW3QeTTXKN8/rZBjnscCjFitkFc2NLt7J61QTCO5lgfs7RBE8vY0PCds0EOiGdja1+yQVQ4c8Cc+LBBJcMCOFzXrkEt3fWM23erQcnQnpCO26dBSsF7tVANpEECVZtUphmgQQ==",
        "encoding": "base64",
        "path": [
         "_data",
         4,
         "x",
         "value"
        ]
       },
       {
        "data": "2EYyfSAhm8GlS5+YISGawTbozYtEDZnBkMRvQ27kl8Gyb4ymbaWWwcKUxSP6TpXBXdutL7Lfk8HivX63GVaSwc+y3IyYsJDBicI4ovHajcFE9GrRyhWKwXtGtQTRDYbBNONRgdS+gcHRusRmvkh6wUC9rRNmc3DBorIVaknOV8FiKX0EbQVVQXCHJTeONnFBURF8J7f3fUFWUQdxf8iFQRZw03R5B41B4KDucppfkkGRN4JWF3uWQXg5DCBu2ZpB3mq0hsV9n0FHybK8jTWiQfzWb4oV0qRB+2fiP6aVp0HyFWDtJoGqQXxBN0Qila1BEAtokNVosEEBkVJwHhuyQbSh7dbL4LNB3bOBpsy4tUFF6Oy/iaG3QeOT5N3QmLlBTVTHYMCbu0Hr3rXEtaa9QSq+Lu9Atb9BxMeocQ/hwEFb+4tRn+PBQcMj83jp3sJBGMZymTnPw0EMDvVRprDEQTZq/Noxf8VBMowxqvE2xkGSp4nhOtTGQW9xg1rQU8dB4RLVYA6zx0HUYR7tD/DHQQ==",
        "encoding": "base64",
        "path": [
         "_data",
         4,
         "y",
         "value"
        ]
       },
       {
        "data": "8zXn/CYxj0HY2O+snT6bQV1tgy3cY6NB2S2FtP8TqUEvh4dm3KmuQWBpXyrYD7JBLQXzSu23tEH5qsiJcEq3QSG1vRe7xLlBKPB9HT8kvEGy9oFdima+QW78zFykRMBBe7+1TCNFwUGlXLSXuTPCQbw+9UxxD8NBNoUd72fXw0HKc8Ndz4rEQflE6anuKMVBI1if1CKxxUH7OAl33yLGQW1NGFOvfcZBXvlmzDTBxkGMo7dIKu3GQS8jtHdiAcdBtaCjgcj9xkFVw+YcYOLGQYoFJIpFr8ZBiSIod61kxkH+oZjI5ALGQdt7sEpQisVBUIlYSWz7xEHQ3QYQzFbEQXQc6VEZncNBpEz2ehPPwkExgZzqju3BQYu41Rh0+cBBNUILTX3nv0E6jC60+Lq9QXYNzBKYb7tBzv8g5LgHuUEGZ8wC1oW2QeA6YxqF7LNBNARg/XM+sUG0BlrEy/ysQe0/QxRhXqdBETnFqnKnoUHp86AaybuXQR488c+3HohBADA1npFpNUGFMHMfg8qGwawV1SREFZfBp6gknypXocFatQQkQBKnwQWAulP6tazBI/5KekQescGTxk/vHNCzwVGrWG2/bbbBTxNCrnn0uMGwXeQIsWG7wes3SSDlsr3B3ULFd7Llv8G5yqZ06vvAwQOtv/2U88HBdod4itnYwsHjXkTFy6rDwXtMXEOTaMTBqN/VY2wRxcHrm0sZqaTFwYuzR52xIcbBMwy4DAWIxsGRR8rsOdfGwQzbppf+DsfBHyKbkBkvx8GkqFu/aTfHwaCXIZLmJ8fB0BmABqAAx8GqnOiYvsHGwQrs7hqDa8bBYC14cEb+xcHFmhk0eXrFwR5yBUOj4MTBcr/9MGMxxMFkYN2kbW3DwevBX56MlcLBoE3npZ6qwcFPKxnnla3AwS6adW7uPr/B5jOlELICvcHTv0GUxKi6wVzaMXSSM7jBem0nR6SltcFLaAsjnAGzwXUSIeYySrDBCoNa0WoEq8GW2ws0A1mlwQ90DzAOMJ/BpAuJv8mOk8FP0nN62Gh/wUgZhBjeDG9BwzXn/CYxj0E=",
        "encoding": "base64",
        "path": [
         "_data",
         5,
         "x",
         "value"
        ]
       },
       {
        "data": "0XYPwCPjxcHbPvjT+bXFwTCZXc08ccXBUqukhzMVxcE/qkXiPKLEwbPN/17PGMTB1YGwp3h5w8G1w0v83MTCwZYwjIm2+8HB708JqdQewcH063kLGy/Awe2Z/ZsBW77BapHP9h42vMH3dPP0w/G5wc0bn9RGkLfBefAF3BsUtcExcbXR0n+ywRauMLEorK/B0G6yZD4zqsH0t+/VipqkwZRD8MGlz53B7pgUZ+xBksHTvGz4SV96wRUq3VaHinRBvgirlVnhkEHsbPhdOZicQWiFWfCWHaRBK4QvLBzfqUEDBK5yvYqvQWupWTJRjbJBcR8lnYdEtUG6q9dVNei3QQvhYtuhdbpBqVOEnSvqvEEzgRizSkO/QVEY/rpJv8BBs+nlgNzMwUFQPHfJR8nCQWJIvWGHs8NB4vrS0amKxEEhH8xV0U3FQcUYT8I0/MVB54jzUyCVxkFKG5Bo9hfHQcR3uCEwhMdB7tfD713Zx0FC8cwEKBfIQceoNK9OPchBD0NKm6pLyEF3YtX7LELIQbUJWJnfIMhBg+j4x+Tnx0FWVyBEd5fHQap87PXpL8dBVAW7m6exxkF6iCBcMh3GQfADvz8jc8VBVb2Fkym0xEFuJP0zCuHDQbr8WMKe+sJBrP0hxNQBwkF9KV6urPfAQW58aLpxur9BHYg18jhnvUHBgGyVFPi6QQXhN/2Gb7hBug9+tCzQtUFJcrvGuRyzQYp3ovb2V7BBH/LBvn0Jq0E5owAH9kulQbMBojGD+p5BpA569rlGk0GD7ivugSJ+QW2pJfq5znDBCOGHHzTEj8FuoyOhl3abwai/H6ubcqPBYFGpLRgRqcF974WF9pCuwfO/5rdF9rHB2h+riCiPtMH73RFUdhC3wZRGNAiad7nBziO1ixnCu8HlXGVLmO29waVyeanZ97/BVbfmpWHvwMGsZ2ujL9DBwV0yhBFvncLBjmNJXUxWw8Ejd8r2CPrDwS6jfRX8h8TB1CM8ZpP/xMGV7xeiU2DFwQdYbw3ZqcXB4Zi73tfbxcFXW7CMHPbFwR+mWwOM+MXB0XYPwCPjxcE=",
        "encoding": "base64",
        "path": [
         "_data",
         5,
         "y",
         "value"
        ]
       },
       {
        "data": "tB0MCD3XokE=",
        "encoding": "base64",
        "path": [
         "_data",
         6,
         "x",
         "value"
        ]
       },
       {
        "data": "Eqfqa6/Jx0E=",
        "encoding": "base64",
        "path": [
         "_data",
         6,
         "y",
         "value"
        ]
       }
      ],
      "model_module": "plotlywidget",
      "model_module_version": "^0.7.1",
      "model_name": "FigureModel",
      "state": {
       "_config": {
        "plotlyServerURL": "https://plot.ly"
       },
       "_data": [
        {
         "hoverinfo": "none",
         "line": {
          "color": "rgb(31, 119, 180)",
          "dash": "dash",
          "width": 2
         },
         "mode": "lines",
         "name": "2011-08-05 16:26 (Earth)",
         "type": "scatter",
         "uid": "6914119c-418a-4c8c-b6a3-f3d66530dd5c",
         "x": {
          "dtype": "float64",
          "shape": [
           100
          ]
         },
         "y": {
          "dtype": "float64",
          "shape": [
           100
          ]
         }
        },
        {
         "marker": {
          "color": "rgb(31, 119, 180)",
          "size": 10
         },
         "mode": "markers",
         "name": "2011-08-05 16:26 (Earth)",
         "type": "scatter",
         "uid": "8d9770f2-15b8-4614-a1f2-c435137611f1",
         "x": {
          "dtype": "float64",
          "shape": [
           1
          ]
         },
         "y": {
          "dtype": "float64",
          "shape": [
           1
          ]
         }
        },
        {
         "hoverinfo": "none",
         "line": {
          "color": "rgb(255, 127, 14)",
          "dash": "solid",
          "width": 2
         },
         "mode": "lines",
         "name": "Inner Cruise 1",
         "type": "scatter",
         "uid": "c98217bb-85c4-485c-b64c-f2b30e2aa263",
         "x": {
          "dtype": "float64",
          "shape": [
           50
          ]
         },
         "y": {
          "dtype": "float64",
          "shape": [
           50
          ]
         }
        },
        {
         "hoverinfo": "none",
         "line": {
          "color": "rgb(44, 160, 44)",
          "dash": "solid",
          "width": 2
         },
         "mode": "lines",
         "name": "Back to Earth",
         "type": "scatter",
         "uid": "49a1f96d-a88c-4b6b-bae6-c311d88be494",
         "x": {
          "dtype": "float64",
          "shape": [
           50
          ]
         },
         "y": {
          "dtype": "float64",
          "shape": [
           50
          ]
         }
        },
        {
         "hoverinfo": "none",
         "line": {
          "color": "rgb(214, 39, 40)",
          "dash": "solid",
          "width": 2
         },
         "mode": "lines",
         "name": "Jupiter Orbit Insertion Phase",
         "type": "scatter",
         "uid": "942d0264-7b3e-4776-9d97-012612e19c64",
         "x": {
          "dtype": "float64",
          "shape": [
           50
          ]
         },
         "y": {
          "dtype": "float64",
          "shape": [
           50
          ]
         }
        },
        {
         "hoverinfo": "none",
         "line": {
          "color": "rgb(148, 103, 189)",
          "dash": "dash",
          "width": 2
         },
         "mode": "lines",
         "name": "2016-07-05 03:19 (Jupiter)",
         "type": "scatter",
         "uid": "a72f9b76-4aa7-4c50-8011-054ee4b2d764",
         "x": {
          "dtype": "float64",
          "shape": [
           100
          ]
         },
         "y": {
          "dtype": "float64",
          "shape": [
           100
          ]
         }
        },
        {
         "marker": {
          "color": "rgb(148, 103, 189)",
          "size": 10
         },
         "mode": "markers",
         "name": "2016-07-05 03:19 (Jupiter)",
         "type": "scatter",
         "uid": "393cf20a-bc99-40db-af32-c16c6db736c2",
         "x": {
          "dtype": "float64",
          "shape": [
           1
          ]
         },
         "y": {
          "dtype": "float64",
          "shape": [
           1
          ]
         }
        }
       ],
       "_js2py_pointsCallback": {},
       "_js2py_relayout": {},
       "_js2py_restyle": {},
       "_js2py_update": {},
       "_last_layout_edit_id": 8,
       "_last_trace_edit_id": 8,
       "_layout": {
        "autosize": true,
        "shapes": [
         {
          "fillcolor": "#ffcc00",
          "line": {
           "color": "#ffcc00"
          },
          "opacity": 1,
          "type": "circle",
          "x0": -21895056.19935296,
          "x1": 21895056.19935296,
          "xref": "x",
          "y0": -21895056.19935296,
          "y1": 21895056.19935296,
          "yref": "y"
         }
        ],
        "template": {},
        "xaxis": {
         "constrain": "domain",
         "title": "x (km)"
        },
        "yaxis": {
         "scaleanchor": "x",
         "title": "y (km)"
        }
       },
       "_py2js_animate": {},
       "_py2js_deleteTraces": {},
       "_py2js_moveTraces": {},
       "_py2js_removeLayoutProps": {},
       "_py2js_removeTraceProps": {},
       "_py2js_restyle": {},
       "_view_count": 1
      }
     },
     "29ca2f66264c4d33b07c09c1abade17f": {
      "buffers": [
       {
        "data": "8HSogo9moUEg1g1CaF2hQQqkt+/7QaFBA/FY0GYUoUFMeLrg19SgQSQWS6WQg6BBr2SW5uQgoEH+N861dFqfQcd43HoQUp5B5i22pq0pnUGKzMW+feKbQb+HkQjSfZpBPpoQLhr9mEGZUKzC4mGXQcOBc6rTrZVBO9slZa7ik0Esbtk+TAKSQTUfGGicDpBBHcvX7kMTjEEQEdCs4+qHQetfpThhqINBsTCUYkGgfkGvDaQ+Oc11QesXTVyFwWlBOijvhoQgT0F0r0j3ZX5UwYYzMWfhQWzBI81Sq6wWd8EAWbD2kPd/wbi6wFE7XYTBeOpv1SqriMGTHDwgJ+GMwUACF35sfZDBrTp7LgN6ksF2NapdS2SUwU7F9qZLOpbBTHifjR/6l8HHHjpw+aGZwZehj2QkMJvBoaH9+QWjnMEcnY3gH/mdwVx5DXMRMZ/BXJlJkcwkoMGFffrgyqCgwV0L8NcDDKHB95gt7whmocEMRlJbfa6hweaKQGwW5aHBJaYb2psJosFtjEv/5xuiwWqMS//nG6LBHKYb2psJosHWikBsFuWhwfVFUlt9rqHB2pgt7whmocE7C/DXAwyhwV59+uDKoKDBL5lJkcwkoMH0eA1zETGfwa2cjeAf+Z3BJKH9+QWjnMESoY9kJDCbwTkeOnD5oZnBuHefjR/6l8GoxPamSzqWwdw0ql1LZJTB9jl7LgN6ksGLARd+bH2QwRcbPCAn4YzBD+lv1SqriMEvucBRO12EwfRVsPaQ93/BH8pSq6wWd8FcLTFn4UFswcqiSPdlflTBdUHvhoQgT0GSHU1chcFpQdMQpD45zXVB8TOUYkGgfkF0YaU4YaiDQYIS0Kzj6odBjczX7kMTjEHpHxhonA6QQdhu2T5MApJB6NslZa7ik0FignOq062VQSxRrMLiYZdBu5oQLhr9mEE8iJEI0n2aQf3Mxb594ptBVi62pq0pnUEoedx6EFKeQVU4zrV0Wp9B1GSW5uQgoEFDFkulkIOgQWR4uuDX1KBBF/FY0GYUoUEXpLfv+0GhQSfWDUJoXaFB8HSogo9moUE=",
        "encoding": "base64",
        "path": [
         "_data",
         0,
         "x",
         "value"
        ]
       },
       {
        "data": "AAAAAACuuT4APwYMpQRiQat21KNb+3FBVv/wg9vhekGvfCq2UtaBQXcYzZlUKYZBayFSTH5likG0vpw5coaOQTvQA233Q5FBUrTAiukyk0GUyJxCEQ6VQQlHvceE05ZBS3K6rHCBmEGrJnXFGRaaQUnB6+/ej5tB2HM3wjrtnEGjxvYbxSyeQZt/h5k0TZ9BT6HI868moEEBdcF6H5agQaJT4wJ29KBBDSpKTVJBoUF76jYfZXyhQV1xu5NxpaFBhO1/Wk28oUHGFmHj4MChQfU8unYns6FBOSVCOi+ToUHHsnUiGWGhQTZjn9AYHaFBC6OeXXTHoEEp16URhGCgQUAucxJk0Z9Bg86dj/PAnkG0ZvJwz5CdQfaQVjoxQpxBgQZB2nHWmkFDiClGCE+ZQX7ZBPiHrZdB2TlbTp/zlUGhGqbQFSOUQVJdvlnKPZJBryY/KrFFkEEZNLTJo3mMQYcbYe2KSohBOsOz22cChEGCAUYBSUt/QcahXBaAcXZBnXPOKikBa0FkiQvZ9wZSQVWWC9n3BlLB6HnOKikBa8H3pFwWgHF2wZYERgFJS3/BxcSz22cChMEFHWHtikqIwZQ1tMmjeYzBZCc/KrFFkMEDXr5Zyj2SwUcbptAVI5TBfTpbTp/zlcEV2gT4h62XwdiIKUYIT5nBBwdB2nHWmsF3kVY6MUKcwRxn8nDPkJ3B786dj/PAnsGeLnMSZNGfwVPXpRGEYKDBLaOeXXTHoMFTY5/QGB2hwd6ydSIZYaHBSiVCOi+TocH/PLp2J7OhwcgWYePgwKHBgO1/Wk28ocFVcbuTcaWhwWzqNh9lfKHB9SlKTVJBocGIU+MCdvSgweF0wXoflqDBJqHI868moME/f4eZNE2fwTzG9hvFLJ7BX3M3wjrtnMHLwOvv3o+bwSgmdcUZFprByHG6rHCBmMF5Rr3HhNOWwfvHnEIRDpXBp7PAiukyk8GQzwNt90ORwVW9nDlyho7B/h9STH5lisEAF82ZVCmGwTB7KrZS1oHBWvzwg9vhesGPc9SjW/txwfA4BgylBGLBAAAAAAD+tz4=",
        "encoding": "base64",
        "path": [
         "_data",
         0,
         "y",
         "value"
        ]
       },
       {
        "data": "ietIKgDTncE=",
        "encoding": "base64",
        "path": [
         "_data",
         1,
         "x",
         "value"
        ]
       },
       {
        "data": "L/AASgRalME=",
        "encoding": "base64",
        "path": [
         "_data",
         1,
         "y",
         "value"
        ]
       },
       {
        "data": "jutIKgDTncEhxjqeOXScwbtlibkP/5rBTkc8PpdzmcEFLghp2NGXwYDUDHDQGZbBQUX0GHNLlMFORcFtrGaSwevguJhia5DBr/QV4u+yjMH8smGGmmGIwdOszsKI4oPBvcjHKAxrfsGyRbzR2LR0wdJGSJGuRGXB8BWU1TnSCcEsAjsBpC1lQa49+Ss3vHVB0yDHp5qdgEGSdzde7IiGQTBHe3O3noxB9f0gV5hukUG/wt8YA6GUQcYmtEok5ZdB76JK5ig5m0GFIE8C1ZqeQX0yQbK6A6FB+G+5POi9okFa4iyLC3qkQTggjMnqNaZBcDWk/fLup0ExpWEmMqKpQf4KwPpSTKtB1vIL/5rprEEKt4rB63WuQZTASiLI7K9BM6SKR6+ksEHo4saGTEOxQR5Pw+GZz7FBlqouMe1GskFndhM1pqayQebtq9JD7LJB5BI5xnsVs0G9h+7AUyCzQeLFc486C7NBDh5YnB/VskEwm3f6hn2yQT2CHSuYBLJBNOPCEiZrsUEe1l0Fr7KwQQ==",
        "encoding": "base64",
        "path": [
         "_data",
         2,
         "x",
         "value"
        ]
       },
       {
        "data": "KvAASgRalMFxgH83sDeWwbfuwzifBZjBc0Rpr2TDmcGx9PO5g3CbwTjVS4BtDJ3BxgAren+WnsE6pFDWAAegwW1NVW4SuaDB7SntWgBhocEWh6nySP6hwQb4XBVckKLBRNBPMZoWo8EXgAZIU5CjwXkDy/bF/KPBlxzSiB5bpMGzUdgadqqkwXajgNrR6aTB25CmbiIYpcGptkOZQzSlwccriSf8PKXBCFVhSf4wpcHsibFu6A6lwXrlTM5G1aTBxGBtwJWCpMFnY2gcRRWkwaWauM68i6PBDbWy4GLkosFdIF8tox2iwRCox/34NaHBUh8HwforoMFoK48P0PydwQs8QKtzWJvB8vfxdWppmMHcrEj8/y6VwYZHvMJtqZHBq8/nNxO0i8EZWk9354aDwR30ukQHp3XBLKsA1npUSsGwmrHaCdRvQbR7/8oN6YFBmiu1aRUhjEF9ZNNLCUKTQRlRthkRe5hBtX2iUY2snUGcxWLOU2OhQTlIbFue3KNB3K9P9S46pkHvbbbKa3SoQQ==",
        "encoding": "base64",
        "path": [
         "_data",
         2,
         "y",
         "value"
        ]
       },
       {
        "data": "1iHMLujpl8Gnfd0DNv2VwVN2rN6Q45PBYFCS9iKfkcHSgIA6hWSOwdaR+avfPonB9A/Ng6PSg8GaJJKPz0p8wQ/zVvwMenDBNDh+K7X8UMGqe/FKaLJgQYrFypEbQnVBXwLsGh03gUFftOcB/ueHQY4xv9HKrI5BpSegqkS/kkFYfrH/GCuWQeStJpVblplB/2RQLob9nEFNSmRjiy6gQZI/EpjJ2KFBv3zJU8Z7o0GIetqv0RWlQX1Ihf1EpaZBKGmveYQoqEEY3lf1AJ6pQdnaE3E5BKtBK/PrqbxZrEELrACWKp2tQY4Pbs81za5BnTD466Tor0EtLQ/gKXewQXrxI0aa7rBBPRZqiShasUH7mPfKZbmxQZR8Et7vC7JBCCVkrXFRskFYBK6So4myQY4vpaBLtLJB4rmo3j3RskFVSBV2XOCyQW8kB9GX4bJBnBlrqu7UskFRjU0PbrqyQZp4ZlExkrJBXiHw6mFcskGYmuVTNxmyQZse1cj2yLFBBjSBA/NrsUGEL5rliwKxQYz55xUujbBBafpJkFIMsEE9QAFS/ACvQb8ZggeC1K1BICVA/muUrEHjSdspBEKrQeakSmCn3qlBVSJG8sNrqEFTa6sx2OqmQSRmY+dwXaVB1IheuifFo0ErnU2JoSOiQStByriMeqBBObZc7z6XnUFDq8f2KzGaQRGB/GthxpZBprPsD2Vak0ENCZC9e+GPQa3dVtrgGYlBDk6Vj/ZkgkFOZ0RlTZN3Qf+rh9ECO2VB/JZuPtZQQMEAaz1t96xswaGo9/jzOnrBTjBXoKDVgsHO85Z/zE2IwehRh0ZagI3B45ttMvczkcHFWcFJvX+TwVsoa4UhoZXBBg3csfGVl8GZUVGPKVyZwUqp/eX08ZrB3GOvaLFVnMFNKgJk8IWdweHHXzh4gZ7B9VhKnUVHn8EGnqKsjNafwf93a9pcF6DBFBaR6LgnoMED1J6jSRygwTCXJao16p/BNw3Mwalkn8GZp9M3eaiewaC2pwlmtp3BoiyEwGmPnMEudTtwtDSbwTtcw32rp5nB1yHMLujpl8E=",
        "encoding": "base64",
        "path": [
         "_data",
         3,
         "x",
         "value"
        ]
       },
       {
        "data": "GSXXRCg/kcFyJ+XG2biTwagLed4kDpbBFxKi16E8mMH0fL3+EEKawZmu6PFcHJzBEJ7TxpzJncEc3LwCFkifwcvSRzEfS6DBQeqmuF7ZoMFLYJH1Nk6hwd6E2HUvqaHB+dYxc+rpocHzOOEzJRCiwVspgU+4G6LBWBmi15cMosHDABdk0+KhwVaC4gKWnqHBoDHVCyZAocGTugrY5MegweSpkF1ONqDBwI08X/EXn8EFb8LHJpOdwczM/LrN35vBVHwD/ab/mcFLUCOBofSXwRF4qWvYwJXBQy8h5pBmk8H0oEDIN+iQwYoQ3S++kIzBIIboxXYTh8HRFy/qQV6BwZoM77UD7nbBOEJjsjGPZcEoHb6LZ6M6QX3PzX4stWxBqs9A/HE8e0GqHykXQSGEQQKsQQGtr4pB8CGXSl2hkEEKAL9y0emTQQq8eJ3QLZdBttxMB/1pmkEtNz/9AJudQZzyaCbJXqBBbX4W1DrnoUECD3b9QGWjQbxgEdZR16RBSMcd5e87pkHJ6baOq5GnQZ02z44k16hBUnBPZAsLqkEiA++qIiyrQcShYGJAOaxBmOeBIU8xrUFQWFE0TxOuQWL3g6NX3q5BSsGqJJeRr0FjPfh4KhawQdK4SMT4VrBBU2ykpvOKsEHtHwWL5bGwQYeYPEymy7BBk4hWXhvYsEHD+vXpN9ewQWgBktn8yLBBaAWE2HitsEHRrehDyISwQYH2Yg0VT7BBm5nfj5YMsEGtugqtInuvQW4wGqytxK5BNYKUMYr2rUExMnW7jBGtQeW4AVahFqxBAMB2qMoGq0HSCGjqIOOpQWLW5cLQrKhBoZyREhplp0EObuGpTg2mQcIM5uzQpqRBJ5b6ZRIzo0ETW9ZIkrOhQdWPiefbKaBB6Qr4NQovnUEu9yNBWfyZQYeYTN3wvpZB0kYlAyh6k0GxRgxGXTGQQXTMwrXmz4lBCQQ1NZtCg0FEjLsQMoN5QbLomAtSTmlBADxu/mAzusDUszrnS9RowaBGXciUhXjBCa7yXrojgsGdraeX09GHwWh0vyM7R43BGCXXRCg/kcE=",
        "encoding": "base64",
        "path": [
         "_data",
         3,
         "y",
         "value"
        ]
       },
       {
        "data": "HtZdBa+ysEE=",
        "encoding": "base64",
        "path": [
         "_data",
         4,
         "x",
         "value"
        ]
       },
       {
        "data": "7222ymt0qEE=",
        "encoding": "base64",
        "path": [
         "_data",
         4,
         "y",
         "value"
        ]
       }
      ],
      "model_module": "plotlywidget",
      "model_module_version": "^0.7.1",
      "model_name": "FigureModel",
      "state": {
       "_config": {
        "plotlyServerURL": "https://plot.ly"
       },
       "_data": [
        {
         "hoverinfo": "none",
         "line": {
          "color": "rgb(31, 119, 180)",
          "dash": "dash",
          "width": 2
         },
         "mode": "lines",
         "name": "2011-08-05 16:26 (Earth)",
         "type": "scatter",
         "uid": "d74a4a6b-6fa6-4418-9766-d3763a2887bd",
         "x": {
          "dtype": "float64",
          "shape": [
           100
          ]
         },
         "y": {
          "dtype": "float64",
          "shape": [
           100
          ]
         }
        },
        {
         "marker": {
          "color": "rgb(31, 119, 180)",
          "size": 10
         },
         "mode": "markers",
         "name": "2011-08-05 16:26 (Earth)",
         "type": "scatter",
         "uid": "5391ec5b-ce3a-4543-9438-678e642cc53b",
         "x": {
          "dtype": "float64",
          "shape": [
           1
          ]
         },
         "y": {
          "dtype": "float64",
          "shape": [
           1
          ]
         }
        },
        {
         "hoverinfo": "none",
         "line": {
          "color": "rgb(255, 127, 14)",
          "dash": "solid",
          "width": 2
         },
         "mode": "lines",
         "name": "Inner Cruise 1",
         "type": "scatter",
         "uid": "51a34e0d-e1f0-4e40-b77a-9eae033b2cc7",
         "x": {
          "dtype": "float64",
          "shape": [
           50
          ]
         },
         "y": {
          "dtype": "float64",
          "shape": [
           50
          ]
         }
        },
        {
         "hoverinfo": "none",
         "line": {
          "color": "rgb(44, 160, 44)",
          "dash": "dash",
          "width": 2
         },
         "mode": "lines",
         "name": "2012-09-01 14:40 (Back to Earth)",
         "type": "scatter",
         "uid": "2e3d6eb2-8f9e-4b7b-b600-8943dc6e75c2",
         "x": {
          "dtype": "float64",
          "shape": [
           100
          ]
         },
         "y": {
          "dtype": "float64",
          "shape": [
           100
          ]
         }
        },
        {
         "marker": {
          "color": "rgb(44, 160, 44)",
          "size": 10
         },
         "mode": "markers",
         "name": "2012-09-01 14:40 (Back to Earth)",
         "type": "scatter",
         "uid": "e70601fa-1ab6-42f0-910b-66bdde68da42",
         "x": {
          "dtype": "float64",
          "shape": [
           1
          ]
         },
         "y": {
          "dtype": "float64",
          "shape": [
           1
          ]
         }
        }
       ],
       "_js2py_pointsCallback": {},
       "_js2py_relayout": {},
       "_js2py_restyle": {},
       "_js2py_update": {},
       "_last_layout_edit_id": 6,
       "_last_trace_edit_id": 6,
       "_layout": {
        "autosize": true,
        "shapes": [
         {
          "fillcolor": "#ffcc00",
          "line": {
           "color": "#ffcc00"
          },
          "opacity": 1,
          "type": "circle",
          "x0": -21895056.19935296,
          "x1": 21895056.19935296,
          "xref": "x",
          "y0": -21895056.19935296,
          "y1": 21895056.19935296,
          "yref": "y"
         }
        ],
        "template": {},
        "xaxis": {
         "constrain": "domain",
         "title": {
          "text": "x (km)"
         }
        },
        "yaxis": {
         "scaleanchor": "x",
         "title": {
          "text": "y (km)"
         }
        }
       },
       "_py2js_animate": {},
       "_py2js_deleteTraces": {},
       "_py2js_moveTraces": {},
       "_py2js_removeLayoutProps": {},
       "_py2js_removeTraceProps": {},
       "_py2js_restyle": {},
       "_view_count": 0
      }
     },
     "323b5fbc11b04855afb08b6550cbda1f": {
      "buffers": [
       {
        "data": "8HSogo9moUEg1g1CaF2hQQqkt+/7QaFBA/FY0GYUoUFMeLrg19SgQSQWS6WQg6BBr2SW5uQgoEH+N861dFqfQcd43HoQUp5B5i22pq0pnUGKzMW+feKbQb+HkQjSfZpBPpoQLhr9mEGZUKzC4mGXQcOBc6rTrZVBO9slZa7ik0Esbtk+TAKSQTUfGGicDpBBHcvX7kMTjEEQEdCs4+qHQetfpThhqINBsTCUYkGgfkGvDaQ+Oc11QesXTVyFwWlBOijvhoQgT0F0r0j3ZX5UwYYzMWfhQWzBI81Sq6wWd8EAWbD2kPd/wbi6wFE7XYTBeOpv1SqriMGTHDwgJ+GMwUACF35sfZDBrTp7LgN6ksF2NapdS2SUwU7F9qZLOpbBTHifjR/6l8HHHjpw+aGZwZehj2QkMJvBoaH9+QWjnMEcnY3gH/mdwVx5DXMRMZ/BXJlJkcwkoMGFffrgyqCgwV0L8NcDDKHB95gt7whmocEMRlJbfa6hweaKQGwW5aHBJaYb2psJosFtjEv/5xuiwWqMS//nG6LBHKYb2psJosHWikBsFuWhwfVFUlt9rqHB2pgt7whmocE7C/DXAwyhwV59+uDKoKDBL5lJkcwkoMH0eA1zETGfwa2cjeAf+Z3BJKH9+QWjnMESoY9kJDCbwTkeOnD5oZnBuHefjR/6l8GoxPamSzqWwdw0ql1LZJTB9jl7LgN6ksGLARd+bH2QwRcbPCAn4YzBD+lv1SqriMEvucBRO12EwfRVsPaQ93/BH8pSq6wWd8FcLTFn4UFswcqiSPdlflTBdUHvhoQgT0GSHU1chcFpQdMQpD45zXVB8TOUYkGgfkF0YaU4YaiDQYIS0Kzj6odBjczX7kMTjEHpHxhonA6QQdhu2T5MApJB6NslZa7ik0FignOq062VQSxRrMLiYZdBu5oQLhr9mEE8iJEI0n2aQf3Mxb594ptBVi62pq0pnUEoedx6EFKeQVU4zrV0Wp9B1GSW5uQgoEFDFkulkIOgQWR4uuDX1KBBF/FY0GYUoUEXpLfv+0GhQSfWDUJoXaFB8HSogo9moUE=",
        "encoding": "base64",
        "path": [
         "_data",
         0,
         "x",
         "value"
        ]
       },
       {
        "data": "AAAAAACuuT4APwYMpQRiQat21KNb+3FBVv/wg9vhekGvfCq2UtaBQXcYzZlUKYZBayFSTH5likG0vpw5coaOQTvQA233Q5FBUrTAiukyk0GUyJxCEQ6VQQlHvceE05ZBS3K6rHCBmEGrJnXFGRaaQUnB6+/ej5tB2HM3wjrtnEGjxvYbxSyeQZt/h5k0TZ9BT6HI868moEEBdcF6H5agQaJT4wJ29KBBDSpKTVJBoUF76jYfZXyhQV1xu5NxpaFBhO1/Wk28oUHGFmHj4MChQfU8unYns6FBOSVCOi+ToUHHsnUiGWGhQTZjn9AYHaFBC6OeXXTHoEEp16URhGCgQUAucxJk0Z9Bg86dj/PAnkG0ZvJwz5CdQfaQVjoxQpxBgQZB2nHWmkFDiClGCE+ZQX7ZBPiHrZdB2TlbTp/zlUGhGqbQFSOUQVJdvlnKPZJBryY/KrFFkEEZNLTJo3mMQYcbYe2KSohBOsOz22cChEGCAUYBSUt/QcahXBaAcXZBnXPOKikBa0FkiQvZ9wZSQVWWC9n3BlLB6HnOKikBa8H3pFwWgHF2wZYERgFJS3/BxcSz22cChMEFHWHtikqIwZQ1tMmjeYzBZCc/KrFFkMEDXr5Zyj2SwUcbptAVI5TBfTpbTp/zlcEV2gT4h62XwdiIKUYIT5nBBwdB2nHWmsF3kVY6MUKcwRxn8nDPkJ3B786dj/PAnsGeLnMSZNGfwVPXpRGEYKDBLaOeXXTHoMFTY5/QGB2hwd6ydSIZYaHBSiVCOi+TocH/PLp2J7OhwcgWYePgwKHBgO1/Wk28ocFVcbuTcaWhwWzqNh9lfKHB9SlKTVJBocGIU+MCdvSgweF0wXoflqDBJqHI868moME/f4eZNE2fwTzG9hvFLJ7BX3M3wjrtnMHLwOvv3o+bwSgmdcUZFprByHG6rHCBmMF5Rr3HhNOWwfvHnEIRDpXBp7PAiukyk8GQzwNt90ORwVW9nDlyho7B/h9STH5lisEAF82ZVCmGwTB7KrZS1oHBWvzwg9vhesGPc9SjW/txwfA4BgylBGLBAAAAAAD+tz4=",
        "encoding": "base64",
        "path": [
         "_data",
         0,
         "y",
         "value"
        ]
       },
       {
        "data": "ietIKgDTncE=",
        "encoding": "base64",
        "path": [
         "_data",
         1,
         "x",
         "value"
        ]
       },
       {
        "data": "L/AASgRalME=",
        "encoding": "base64",
        "path": [
         "_data",
         1,
         "y",
         "value"
        ]
       },
       {
        "data": "D/4BVfb0nMFibHoia8qawaB3G3X0cJjB3kZTTf7qlcGjESWKIjuTwR4pxDomZJDBfRlUh+3RisHg8jG0TZmEwegMnWStSXzBVEa7nL/sbcEKUkh58WY0wejofJ8RcGlB8N7NBJv2ekGj1llITLOEQTzMocWP/ItBJjGYnMqnkUELj4HpZ1KVQcYDQz5Y+phB6l+n0dabnEFt+Ym/khmgQbacGlFI3qFBMDTsczmao0FxcAGInEulQYvms86y8KZBaq43N8qHqEGpGw0ePw+qQRlVk/19hatBmuL9DQXprEEiagDTZTiuQTqulpVGcq9BuLAx5LFKsEGrOZuqSNCwQQ2FMeldSbFBjiRTz3S1sUEWHz3xHRSyQfTZ5br3ZLJBfA+T1K6nskGBI8N4/tuyQWBGEbuwAbNBNVPLv54Ys0G1HADksCCzQWDe3NXeGbNBRLRAnS8Es0FPQn2Uud+yQaQDTFGirLJBWgIQfh5rskHq54ujcRuyQS5cROPtvbFBWXbWovNSsUHyhJko8dqwQYyb8iliVrBBwSael56Lr0Hr5JIrm1OuQeDXE7H7Ba1BLqoBEBikq0Fs4UsUXS+qQdGP5vVKqahBqcK6zHMTp0Go8SnyeW+lQcOyz1EOv6NBrTo+q+4DokGXr4HG4z+gQe7mhzp/6ZxBb4zs9LZImUGext8kLKGVQaEM8Sqj9pFBxgTu+saZjEFdDY+GZ0+FQamZFr1XK3xBfPtEBhvQa0GAGZeXzFv8wGbN+l3ipmvB26UGVw8ve8GBxUuguBCEwWo/FTGfTorBqdGpG2YlkMFOUU4miv+SwQoVXhPLspXBjOqxU2A8mMFN9JpMrJmawUjAIAo/yJzBAXQwwtjFnsEfBhMTNkigwbXtJUAQE6HBbguRzanCocETEzy4TVaiwUCpTc9jzaLBDRMNUXEno8GRhmxpGWSjwRSruZEdg6PBvKUR0V2Eo8ECQlbd2GejwY48ghysLaPB+VFbhhPWosFgTqFmaWGiwWjW+f8l0KHBW9z4D98iocFUi8U0R1qgwTCK9Wla7p7BEP4BVfb0nME=",
        "encoding": "base64",
        "path": [
         "_data",
         2,
         "x",
         "value"
        ]
       },
       {
        "data": "9iNonLCNlcFqaAYiZ0OYwUapE5K80ZrBcS81bA42ncGdbSd/5W2fwZHLsTl8u6DBQ9lAE5enocFMl3TqT3qiwTqbyofNMqPBo8XzvVHQo8G9IN4tOlKkwe8cFe4AuKTBoaHLFD0BpcGhpwEkoy2lwdjhVVcFPaXB3jwz01MvpcGNkym1nASlweK+YAUMvaTB+QA1ietYpMHslCt3otijwcPGjQy1PKPBW0AYBcSFosHQDkv1i7ShwYosBYjkyaDBDuNnQH+Nn8EpKve+UFidwd+OsyWE9prBbnu8DI5qmMHkcV2CDreVwXkASVbO3pLBcHehdXjJj8F8WR9+05eJwWbDSUoQL4PBxnEDX5QrecFxQ1ITOktnwVjCbQCmLkFBltoJtIgocEH0rAeSDVR+QSgKZgPkTIZBtB5c3YB1jUGrvA0fPk6SQXVcmF073ZVBo0ELGQ1kmUGLlR2sEN+cQYleas5XJaBB37Wmp7HRoUFotRRU3HKjQf19cc0pB6VBf7ktUPmMpkEnkwkJuQKoQRmBSrPnZqlBLOXfJRa4qkEEI93N6PSrQbIGwxQZHK1B2ScnsXYsrkEOQV7g6CSvQYgT88M3ArBBroSyHhJlsEFD7RaanbqwQbmEqgeCArFBrn6+S3U8sUG+ds+pO2ixQRdLGQKohbFB8usaAJyUsUFCLdo5CJWxQfVfxz/shrFB7lEwnVZqsUEIPkLJZD+xQaggqghDBrFBCMDyPyy/sEFucs+2aWqwQVE2ksxSCLBBQvU1PJkyr0Gn3Dk7kzuuQbaQSjmSLK1Bfki6ka0GrEGveRs4FMuqQQ7i9n8Le6lBbg9xze0XqEHiFTkwKaOmQYOHMOo9HqVBB6dR47yKo0EGJGwMRuqhQXFhYrKGPqBB7n5Ch28SnUEmKzUTOJiZQWPHLbD8EZZBaHh6aF+DkkG3xePUFeCNQYekrIFdt4ZBzF7YGO4nf0EF8s5cfPpwQfRpOPQYqEdBCMApDRO0ZcEthyCRbWR4wR7JB+MZzoLBZFkFCt45icHkgYHP5G6PwdNWYBlks5LB9CNonLCNlcE=",
        "encoding": "base64",
        "path": [
         "_data",
         2,
         "y",
         "value"
        ]
       },
       {
        "data": "ietIKgDTncE=",
        "encoding": "base64",
        "path": [
         "_data",
         3,
         "x",
         "value"
        ]
       },
       {
        "data": "L/AASgRalME=",
        "encoding": "base64",
        "path": [
         "_data",
         3,
         "y",
         "value"
        ]
       }
      ],
      "model_module": "plotlywidget",
      "model_module_version": "^0.7.1",
      "model_name": "FigureModel",
      "state": {
       "_config": {
        "plotlyServerURL": "https://plot.ly"
       },
       "_data": [
        {
         "hoverinfo": "none",
         "line": {
          "color": "rgb(31, 119, 180)",
          "dash": "dash",
          "width": 2
         },
         "mode": "lines",
         "name": "2011-08-05 16:26",
         "type": "scatter",
         "uid": "c23305da-698e-4c21-8565-db05b8b2b71d",
         "x": {
          "dtype": "float64",
          "shape": [
           100
          ]
         },
         "y": {
          "dtype": "float64",
          "shape": [
           100
          ]
         }
        },
        {
         "marker": {
          "color": "rgb(31, 119, 180)",
          "size": 10
         },
         "mode": "markers",
         "name": "2011-08-05 16:26",
         "type": "scatter",
         "uid": "abd123a5-6e0f-4f41-8e90-608ba3c0b44f",
         "x": {
          "dtype": "float64",
          "shape": [
           1
          ]
         },
         "y": {
          "dtype": "float64",
          "shape": [
           1
          ]
         }
        },
        {
         "hoverinfo": "none",
         "line": {
          "color": "rgb(255, 127, 14)",
          "dash": "dash",
          "width": 2
         },
         "mode": "lines",
         "name": "2011-08-05 16:26",
         "type": "scatter",
         "uid": "678660b5-2f29-49c2-b272-dca8e30d4bb8",
         "x": {
          "dtype": "float64",
          "shape": [
           100
          ]
         },
         "y": {
          "dtype": "float64",
          "shape": [
           100
          ]
         }
        },
        {
         "marker": {
          "color": "rgb(255, 127, 14)",
          "size": 10
         },
         "mode": "markers",
         "name": "2011-08-05 16:26",
         "type": "scatter",
         "uid": "c973dd82-1a57-4d23-ae53-1c0cf04ba62c",
         "x": {
          "dtype": "float64",
          "shape": [
           1
          ]
         },
         "y": {
          "dtype": "float64",
          "shape": [
           1
          ]
         }
        }
       ],
       "_js2py_pointsCallback": {},
       "_js2py_restyle": {},
       "_js2py_update": {},
       "_last_layout_edit_id": 5,
       "_last_trace_edit_id": 5,
       "_layout": {
        "autosize": true,
        "shapes": [
         {
          "fillcolor": "#ffcc00",
          "line": {
           "color": "#ffcc00"
          },
          "opacity": 1,
          "type": "circle",
          "x0": -21895056.19935296,
          "x1": 21895056.19935296,
          "xref": "x",
          "y0": -21895056.19935296,
          "y1": 21895056.19935296,
          "yref": "y"
         }
        ],
        "template": {},
        "xaxis": {
         "constrain": "domain",
         "title": {
          "text": "x (km)"
         }
        },
        "yaxis": {
         "scaleanchor": "x",
         "title": {
          "text": "y (km)"
         }
        }
       },
       "_py2js_animate": {},
       "_py2js_deleteTraces": {},
       "_py2js_moveTraces": {},
       "_py2js_removeLayoutProps": {},
       "_py2js_removeTraceProps": {},
       "_py2js_restyle": {},
       "_view_count": 0
      }
     },
     "3e4a431fa988425b8eb581348588829b": {
      "buffers": [
       {
        "data": "8HSogo9moUEg1g1CaF2hQQqkt+/7QaFBA/FY0GYUoUFMeLrg19SgQSQWS6WQg6BBr2SW5uQgoEH+N861dFqfQcd43HoQUp5B5i22pq0pnUGKzMW+feKbQb+HkQjSfZpBPpoQLhr9mEGZUKzC4mGXQcOBc6rTrZVBO9slZa7ik0Esbtk+TAKSQTUfGGicDpBBHcvX7kMTjEEQEdCs4+qHQetfpThhqINBsTCUYkGgfkGvDaQ+Oc11QesXTVyFwWlBOijvhoQgT0F0r0j3ZX5UwYYzMWfhQWzBI81Sq6wWd8EAWbD2kPd/wbi6wFE7XYTBeOpv1SqriMGTHDwgJ+GMwUACF35sfZDBrTp7LgN6ksF2NapdS2SUwU7F9qZLOpbBTHifjR/6l8HHHjpw+aGZwZehj2QkMJvBoaH9+QWjnMEcnY3gH/mdwVx5DXMRMZ/BXJlJkcwkoMGFffrgyqCgwV0L8NcDDKHB95gt7whmocEMRlJbfa6hweaKQGwW5aHBJaYb2psJosFtjEv/5xuiwWqMS//nG6LBHKYb2psJosHWikBsFuWhwfVFUlt9rqHB2pgt7whmocE7C/DXAwyhwV59+uDKoKDBL5lJkcwkoMH0eA1zETGfwa2cjeAf+Z3BJKH9+QWjnMESoY9kJDCbwTkeOnD5oZnBuHefjR/6l8GoxPamSzqWwdw0ql1LZJTB9jl7LgN6ksGLARd+bH2QwRcbPCAn4YzBD+lv1SqriMEvucBRO12EwfRVsPaQ93/BH8pSq6wWd8FcLTFn4UFswcqiSPdlflTBdUHvhoQgT0GSHU1chcFpQdMQpD45zXVB8TOUYkGgfkF0YaU4YaiDQYIS0Kzj6odBjczX7kMTjEHpHxhonA6QQdhu2T5MApJB6NslZa7ik0FignOq062VQSxRrMLiYZdBu5oQLhr9mEE8iJEI0n2aQf3Mxb594ptBVi62pq0pnUEoedx6EFKeQVU4zrV0Wp9B1GSW5uQgoEFDFkulkIOgQWR4uuDX1KBBF/FY0GYUoUEXpLfv+0GhQSfWDUJoXaFB8HSogo9moUE=",
        "encoding": "base64",
        "path": [
         "_data",
         0,
         "x",
         "value"
        ]
       },
       {
        "data": "AAAAAACuuT4APwYMpQRiQat21KNb+3FBVv/wg9vhekGvfCq2UtaBQXcYzZlUKYZBayFSTH5likG0vpw5coaOQTvQA233Q5FBUrTAiukyk0GUyJxCEQ6VQQlHvceE05ZBS3K6rHCBmEGrJnXFGRaaQUnB6+/ej5tB2HM3wjrtnEGjxvYbxSyeQZt/h5k0TZ9BT6HI868moEEBdcF6H5agQaJT4wJ29KBBDSpKTVJBoUF76jYfZXyhQV1xu5NxpaFBhO1/Wk28oUHGFmHj4MChQfU8unYns6FBOSVCOi+ToUHHsnUiGWGhQTZjn9AYHaFBC6OeXXTHoEEp16URhGCgQUAucxJk0Z9Bg86dj/PAnkG0ZvJwz5CdQfaQVjoxQpxBgQZB2nHWmkFDiClGCE+ZQX7ZBPiHrZdB2TlbTp/zlUGhGqbQFSOUQVJdvlnKPZJBryY/KrFFkEEZNLTJo3mMQYcbYe2KSohBOsOz22cChEGCAUYBSUt/QcahXBaAcXZBnXPOKikBa0FkiQvZ9wZSQVWWC9n3BlLB6HnOKikBa8H3pFwWgHF2wZYERgFJS3/BxcSz22cChMEFHWHtikqIwZQ1tMmjeYzBZCc/KrFFkMEDXr5Zyj2SwUcbptAVI5TBfTpbTp/zlcEV2gT4h62XwdiIKUYIT5nBBwdB2nHWmsF3kVY6MUKcwRxn8nDPkJ3B786dj/PAnsGeLnMSZNGfwVPXpRGEYKDBLaOeXXTHoMFTY5/QGB2hwd6ydSIZYaHBSiVCOi+TocH/PLp2J7OhwcgWYePgwKHBgO1/Wk28ocFVcbuTcaWhwWzqNh9lfKHB9SlKTVJBocGIU+MCdvSgweF0wXoflqDBJqHI868moME/f4eZNE2fwTzG9hvFLJ7BX3M3wjrtnMHLwOvv3o+bwSgmdcUZFprByHG6rHCBmMF5Rr3HhNOWwfvHnEIRDpXBp7PAiukyk8GQzwNt90ORwVW9nDlyho7B/h9STH5lisEAF82ZVCmGwTB7KrZS1oHBWvzwg9vhesGPc9SjW/txwfA4BgylBGLBAAAAAAD+tz4=",
        "encoding": "base64",
        "path": [
         "_data",
         0,
         "y",
         "value"
        ]
       },
       {
        "data": "ietIKgDTncE=",
        "encoding": "base64",
        "path": [
         "_data",
         1,
         "x",
         "value"
        ]
       },
       {
        "data": "L/AASgRalME=",
        "encoding": "base64",
        "path": [
         "_data",
         1,
         "y",
         "value"
        ]
       },
       {
        "data": "D/4BVfb0nMGyhaabg8SawXK+GFE1ZJjB3JQBX4vWlcGrswVmNR6TwSxoauoPPpDBGpwDo0JyisFuwhFmLSWEwVeoQQcCN3vBPWykeXhwa8Fg0i3kJeIBQeDGrHDWnGxBRgsTctG4fEE+tX5p5qmFQatu2gwACI1BvyDGxHo3kkEKUyq6fuuVQc3VoaAmnJlB8qnzupBFnUEomwJ18XGgQc0hG12nOaJBGyE7sgr4o0GOQm7fRaulQWQ3TwyPUadBXSOq/inpqEFgssvtaXCqQfdBkUWz5atBMJ9fV31HrUGb4jj3U5SuQebdPgPZyq9BriAD6uJ0sEFXgRtK9vewQbhECL8cbrFBV8/B/tnWsUHneNjavzGyQWWPXLRufrJB1Sx14JW8skEXDzz98+uyQfwshTZXDLNBSq5Jep0ds0F0In+ctB+zQRpCNWqaErNBPB/mq1z2skEdVfYWGcuyQcZ4dC79kLJBC6o4E0ZIskGeopZDQPGxQW7o5UpHjLFBRMk0YcUZsUHybYv7MpqwQQ==",
        "encoding": "base64",
        "path": [
         "_data",
         2,
         "x",
         "value"
        ]
       },
       {
        "data": "9iNonLCNlcFknSKBSEqYwQGLTVyp3prBKyALfRxIncH+pztbGISfwYWwYqEhyKDB1hFG5jq1ocGHez+RXoiiwZSyLIauQKPBj0N44Wjdo8HUGhDE6F2kwUSf1QCnwaTBJdzQqjoIpcHDI5GDWTGlwQUOR0nYPKXB0alF5KoqpcEWA7tz5PqkwaGbkjm3raTBxP+WZXRDpMGrFArAi7yjwbX3DTSLGaPBmCJaOh5bosFo4NkkDYKhwenU8Us8j6DBeoaUPFYHn8H4iTUo5sCcwYk4JA6NTZrBQDYj4N6vl8F0Rx4YnOqUwVDRFdOuAJLBr996gE/qjcG5lQ7PdZaHwUoIAZZ4DIHBXMUomnGmdMHF3NsZSY5bwcQYT5HLhFxBJugWqR5ZdUGUKdv9ndqBQV47jd43E4lBm3XPJ2InkEHMJCTI08KTQTV/eGMlWJdBfFR+/pHjmkEtboQGX2GeQVM+0R7w5qBB2c3oy72SokFKeHCCVjKkQcADpREFxKVBCnUA7CJGp0HCKbzjGbeoQQ==",
        "encoding": "base64",
        "path": [
         "_data",
         2,
         "y",
         "value"
        ]
       },
       {
        "data": "7oTUjFTJsEHI4+zFmS+wQUA/uIncCa9ByK2cYbyUrUFs5MlSHQKsQe7nU/R3VKpB1GE2U2+OqEGGgLTNzLKmQWW1hLJ7xKRBxVapqoTGokGZ8yr1CLygQXU7Y/h6UJ1BqT5ulsscmUFpP3ncneOUQciuJISUq5BB8qpd96D2iEGWm4r3zLKAQZtCFcJSMXFBgHhveiGeNkG8EY/C2q9rwaP3i+4ifHzBg7tSut41hcHyBsrNa8iLwYIMdo2y9ZDBQkDjLJPKk8HRTajbZF6WwWAeJegarZjBdLdyNRWzmsG7e57tJW2cwbanWICW2J3Biv885ivznsEuFAMiKrufwXc9Cn2rF6DBYncg830noMGaVESX8wygwTpZOjlskJ/B4fvpB2OznsEJeA7kJoSdwQo5Wz2UBJzB2xgvvQU3msHZurCTUB6YwaoTaATAvZXBSlFTORAZk8E20phkaDSQwW8gHXSoKIrBoTKvlXl7g8F3REE5g9d4wVVbRSNjEmTBTrcPGvpyVUFkxcqRG0J1QQ==",
        "encoding": "base64",
        "path": [
         "_data",
         3,
         "x",
         "value"
        ]
       },
       {
        "data": "omq6xIU2qEHEJGfSI7upQblMC4uTI6tBRahDn55trEEiDHWAPpetQbJRi4+fnq5Bft6w+yOCr0H8Lj4mMyCwQeKQy8kdbLBBRto0oVqksEEiV3ZQkciwQVRxqPGI2LBBQFVlbijUsEFPrjOndruwQeSMuGiajrBBBHDBLtpNsEFodAxrN/OvQXYhorPGJK9BFJQOkqYxrkHAVrQEVRutQYOfX1WH46tB6G03aieMqkECdwXEUBepQSQ9ji5Nh6dB/SQtKJHepUFFoVoGuB+kQWD1K91/TaJBPvA7MMVqoEElkIPn/PScQam9zMlu/5hByIVQgRj7lEHlkabBSe6QQdNh5Rq/volBrrbabXSpgUEwDuJszVJzQc39xwd9skxBDILNGa6TZ8EM6OY2frV6wTLHokCaioTBkTzFNzJpi8FCvxH43fWQwQMR6H3+A5TBPIrW0C3alsEmu3j59nOZwWZePuZDzZvBw/b61mPincHpI0UpEbCfwZi8RD67maDBioXekhk1ocHdhNh1L6mhwQ==",
        "encoding": "base64",
        "path": [
         "_data",
         3,
         "y",
         "value"
        ]
       },
       {
        "data": "IK6SMF0kgUEATGYPuTeLQVgPfnsppZJBnNz0oFupl0EeLaLvvaOcQVs+CErSx6BBCzvzqDg0o0EVUKHsy5SlQfW2ogVR56dBlD/kFJopqkFntSp3iFmsQUrUQsIOda5Bbv8DWRk9sEGfirmBhzOxQbTS+Z3qHLJBEBe0rWf4skFOHo+7MMWzQUJdLJ6FgrRB69x4rLQvtUHfq2JkG8y1Qb5sVgMnV7ZBYur1D1XQtkFteIbUMze3QRA+pMlii7dBe0vW8JLMt0Eae64eh/q3Qe6QLzQUFbhBL7tDRyEcuEGdfB26pw+4QWkQbUGz77dBIHRk2WG8t0GcZpSp43W3QW7CvNd6HLdB9Jq6SXuwtkHQWc5WSjK2QeC8g2heorVBkO+Uiz4BtUFwAzHxgU+0QUixHGHPjbNBcoMyndy8skFjQ9W2bd2xQaO09FZU8LBB5oGi8t3sr0HaYm43UOGtQYm16sPqv6tBTmu7Xq2KqUF1WlBtqkOnQUHnMQIF7aRBXb6n2+6IokECVZtUphmgQQ==",
        "encoding": "base64",
        "path": [
         "_data",
         4,
         "x",
         "value"
        ]
       },
       {
        "data": "8AO6hE+NocEd4MKpeEOhwWpcMCqWxKDBDPwoFh8RoMF/9Eipd1OewZqzzAqLHpzB1A+BaoqFmcGFgbrK5YqWwVYt88xoMZPBklWNJHD4jsFFRtWQnN2GwbcJo5fjM3zBTPRRxaTWYsFwR4+utBllQb4o3IvloX9BKyPgcAPgikHe6zFQnzSTQZpL4JLoMJlBAjv7qz9fn0HIuIjn69yiQcyzglRdHaZBaeIk/OZtqUHkm2qjbMusQRGIG/BiGbBBg/f0h2DQsUEkiE0rE4mzQUOWFlLdQbVBOB0xXiH5tkEYm4wfQ624QeV17lapXLpBgvP2Nb8FvEEYa/va9aa9QbZAUcfFPr9BATlVJ9hlwEG1fhV/ICbBQWMY83yH38FBsva9J1+RwkHuEUyeADvDQSgUEbTM28NBdP96hixzxEEZqIcKkgDFQREoDpJ4g8VBZDk/SGX7xUH/o+ek52fGQWGXCNaZyMZBH9piHyEdx0HrJ5svLmXHQVbZp2p9oMdBDf5BKdfOx0HUYR7tD/DHQQ==",
        "encoding": "base64",
        "path": [
         "_data",
         4,
         "y",
         "value"
        ]
       },
       {
        "data": "8zXn/CYxj0HY2O+snT6bQV1tgy3cY6NB2y2FtP8TqUExh4dm3KmuQWFpXyrYD7JBLQXzSu23tEH5qsiJcEq3QSG1vRe7xLlBKPB9HT8kvEG09oFdima+QW/8zFykRMBBfb+1TCNFwUGmXLSXuTPCQbs+9UxxD8NBN4Ud72fXw0HMc8Ndz4rEQflE6anuKMVBJFif1CKxxUH7OAl33yLGQW1NGFOvfcZBXvlmzDTBxkGMo7dIKu3GQS0jtHdiAcdBtqCjgcj9xkFVw+YcYOLGQYoFJIpFr8ZBiiIod61kxkH+oZjI5ALGQdt7sEpQisVBTYlYSWz7xEHT3QYQzFbEQXQc6VEZncNBpEz2ehPPwkExgZzqju3BQY641Rh0+cBBNUILTX3nv0FBjC60+Lq9QXYNzBKYb7tBzv8g5LgHuUEGZ8wC1oW2Qds6YxqF7LNBNARg/XM+sUG0BlrEy/ysQe0/QxRhXqdBETnFqnKnoUHp86AaybuXQR488c+3HohBADA1npFpNUGFMHMfg8qGwYQV1SREFZfBlagknypXocE7tQQkQBKnwdx/ulP6tazBFv5KekQescGRxk/vHNCzwT6rWG2/bbbBNBNCrnn0uMGkXeQIsWG7wd43SSDlsr3B0kLFd7Llv8GyyqZ06vvAwf+sv/2U88HBdId4itnYwsHiXkTFy6rDwXhMXEOTaMTBpt/VY2wRxcHqm0sZqaTFwYWzR52xIcbBMQy4DAWIxsGNR8rsOdfGwQ3bppf+DsfBHiKbkBkvx8GjqFu/aTfHwaKXIZLmJ8fB0RmABqAAx8GonOiYvsHGwQ3s7hqDa8bBYy14cEb+xcHDmhk0eXrFwSJyBUOj4MTBcr/9MGMxxMFmYN2kbW3DwfLBX56MlcLBok3npZ6qwcFaKxnnla3AwTmadW7uPr/B9DOlELICvcHXv0GUxKi6wV7aMXSSM7jBkm0nR6SltcFjaAsjnAGzwYISIeYySrDBLoNa0WoEq8HH2ws0A1mlwS90DzAOMJ/BzAuJv8mOk8G603N62Gh/wd4VhBjeDG9BzDTn/CYxj0E=",
        "encoding": "base64",
        "path": [
         "_data",
         5,
         "x",
         "value"
        ]
       },
       {
        "data": "0XYPwCPjxcHbPvjT+bXFwTCZXc08ccXBUqukhzMVxcE/qkXiPKLEwbPN/17PGMTB1YGwp3h5w8G1w0v83MTCwZYwjIm2+8HB708JqdQewcH063kLGy/Awe2Z/ZsBW77BaJHP9h42vMH1dPP0w/G5wcgbn9RGkLfBdPAF3BsUtcErcbXR0n+ywRauMLEorK/By26yZD4zqsH0t+/VipqkwZRD8MGlz53B45gUZ+xBksHTvGz4SV96wU0q3VaHinRB1girlVnhkEHsbPhdOZicQWyFWfCWHaRBL4QvLBzfqUEDBK5yvYqvQWupWTJRjbJBdx8lnYdEtUG1q9dVNei3QQvhYtuhdbpBqVOEnSvqvEEzgRizSkO/QU8Y/rpJv8BBs+nlgNzMwUFNPHfJR8nCQWJIvWGHs8NB4vrS0amKxEEhH8xV0U3FQcYYT8I0/MVB54jzUyCVxkFKG5Bo9hfHQcR3uCEwhMdB7tfD713Zx0FC8cwEKBfIQceoNK9OPchBD0NKm6pLyEF3YtX7LELIQbYJWJnfIMhBhOj4x+Tnx0FYVyBEd5fHQa587PXpL8dBVwW7m6exxkF7iCBcMh3GQfQDvz8jc8VBX72Fkym0xEFyJP0zCuHDQb78WMKe+sJBsv0hxNQBwkGCKV6urPfAQXp8aLpxur9BJ4g18jhnvUHIgGyVFPi6QRLhN/2Gb7hBvA9+tCzQtUFRcrvGuRyzQZp3ovb2V7BBKvLBvn0Jq0F7owAH9kulQfcBojGD+p5B6w569rlGk0H87yvugSJ+QTGpJfq5znDB1uCHHzTEj8GPoyOhl3abwYO/H6ubcqPBLlGpLRgRqcGF74WF9pCuweC/5rdF9rHB1h+riCiPtMHq3RFUdhC3wXtGNAiad7nBySO1ixnCu8HPXGVLmO29wZxyeanZ97/BT7fmpWHvwMGrZ2ujL9DBwVwyhBFvncLBhmNJXUxWw8Egd8r2CPrDwSyjfRX8h8TB0yM8ZpP/xMGR7xeiU2DFwQZYbw3ZqcXB4Ji73tfbxcFUW7CMHPbFwR6mWwOM+MXB03YPwCPjxcE=",
        "encoding": "base64",
        "path": [
         "_data",
         5,
         "y",
         "value"
        ]
       },
       {
        "data": "tB0MCD3XokE=",
        "encoding": "base64",
        "path": [
         "_data",
         6,
         "x",
         "value"
        ]
       },
       {
        "data": "Eqfqa6/Jx0E=",
        "encoding": "base64",
        "path": [
         "_data",
         6,
         "y",
         "value"
        ]
       }
      ],
      "model_module": "plotlywidget",
      "model_module_version": "^0.7.1",
      "model_name": "FigureModel",
      "state": {
       "_config": {
        "plotlyServerURL": "https://plot.ly"
       },
       "_data": [
        {
         "hoverinfo": "none",
         "line": {
          "color": "rgb(31, 119, 180)",
          "dash": "dash",
          "width": 2
         },
         "mode": "lines",
         "name": "2011-08-05 16:26 (Earth)",
         "type": "scatter",
         "uid": "9bde6d33-4527-4eb4-9b88-8f51db579ecb",
         "x": {
          "dtype": "float64",
          "shape": [
           100
          ]
         },
         "y": {
          "dtype": "float64",
          "shape": [
           100
          ]
         }
        },
        {
         "marker": {
          "color": "rgb(31, 119, 180)",
          "size": 10
         },
         "mode": "markers",
         "name": "2011-08-05 16:26 (Earth)",
         "type": "scatter",
         "uid": "93550dce-7297-43e6-b0d5-114c8d415a8c",
         "x": {
          "dtype": "float64",
          "shape": [
           1
          ]
         },
         "y": {
          "dtype": "float64",
          "shape": [
           1
          ]
         }
        },
        {
         "hoverinfo": "none",
         "line": {
          "color": "rgb(255, 127, 14)",
          "dash": "solid",
          "width": 2
         },
         "mode": "lines",
         "name": "Inner Cruise 1",
         "type": "scatter",
         "uid": "a55a3753-e38d-4679-baa7-7336b4f1d318",
         "x": {
          "dtype": "float64",
          "shape": [
           50
          ]
         },
         "y": {
          "dtype": "float64",
          "shape": [
           50
          ]
         }
        },
        {
         "hoverinfo": "none",
         "line": {
          "color": "rgb(44, 160, 44)",
          "dash": "solid",
          "width": 2
         },
         "mode": "lines",
         "name": "Back to Earth",
         "type": "scatter",
         "uid": "62c1cd08-c859-481a-9455-ad6bdce8d8cd",
         "x": {
          "dtype": "float64",
          "shape": [
           50
          ]
         },
         "y": {
          "dtype": "float64",
          "shape": [
           50
          ]
         }
        },
        {
         "hoverinfo": "none",
         "line": {
          "color": "rgb(214, 39, 40)",
          "dash": "solid",
          "width": 2
         },
         "mode": "lines",
         "name": "Jupiter Orbit Insertion Phase",
         "type": "scatter",
         "uid": "1bfe20ae-62ac-47c8-b870-cd08318ac785",
         "x": {
          "dtype": "float64",
          "shape": [
           50
          ]
         },
         "y": {
          "dtype": "float64",
          "shape": [
           50
          ]
         }
        },
        {
         "hoverinfo": "none",
         "line": {
          "color": "rgb(148, 103, 189)",
          "dash": "dash",
          "width": 2
         },
         "mode": "lines",
         "name": "2016-07-05 03:19 (Jupiter)",
         "type": "scatter",
         "uid": "006e0d84-32fb-4cc0-a693-6d225bb5a96e",
         "x": {
          "dtype": "float64",
          "shape": [
           100
          ]
         },
         "y": {
          "dtype": "float64",
          "shape": [
           100
          ]
         }
        },
        {
         "marker": {
          "color": "rgb(148, 103, 189)",
          "size": 10
         },
         "mode": "markers",
         "name": "2016-07-05 03:19 (Jupiter)",
         "type": "scatter",
         "uid": "361bc1d4-3c75-4b62-a62d-526885c76f03",
         "x": {
          "dtype": "float64",
          "shape": [
           1
          ]
         },
         "y": {
          "dtype": "float64",
          "shape": [
           1
          ]
         }
        }
       ],
       "_js2py_pointsCallback": {},
       "_js2py_relayout": {},
       "_js2py_restyle": {},
       "_js2py_update": {},
       "_last_layout_edit_id": 8,
       "_last_trace_edit_id": 8,
       "_layout": {
        "autosize": true,
        "shapes": [
         {
          "fillcolor": "#ffcc00",
          "line": {
           "color": "#ffcc00"
          },
          "opacity": 1,
          "type": "circle",
          "x0": -21895056.19935296,
          "x1": 21895056.19935296,
          "xref": "x",
          "y0": -21895056.19935296,
          "y1": 21895056.19935296,
          "yref": "y"
         }
        ],
        "template": {},
        "xaxis": {
         "constrain": "domain",
         "title": {
          "text": "x (km)"
         }
        },
        "yaxis": {
         "scaleanchor": "x",
         "title": {
          "text": "y (km)"
         }
        }
       },
       "_py2js_animate": {},
       "_py2js_deleteTraces": {},
       "_py2js_moveTraces": {},
       "_py2js_removeLayoutProps": {},
       "_py2js_removeTraceProps": {},
       "_py2js_restyle": {},
       "_view_count": 1
      }
     },
     "44170e3049fe4dd29d28aa50911f93d9": {
      "buffers": [
       {
        "data": "8HSogo9moUEg1g1CaF2hQQukt+/7QaFBA/FY0GYUoUFMeLrg19SgQSUWS6WQg6BBr2SW5uQgoEH+N861dFqfQcd43HoQUp5B5i22pq0pnUGKzMW+feKbQb+HkQjSfZpBPpoQLhr9mEGZUKzC4mGXQcOBc6rTrZVBPdslZa7ik0Enbtk+TAKSQTUfGGicDpBBHcvX7kMTjEEQEdCs4+qHQetfpThhqINBwzCUYkGgfkGvDaQ+Oc11QZEXTVyFwWlBySjvhoQgT0Gar0j3ZX5UwagzMWfhQWzBI81Sq6wWd8H5WLD2kPd/wcC6wFE7XYTBc+pv1SqriMGQHDwgJ+GMwUUCF35sfZDBrTp7LgN6ksF2NapdS2SUwU7F9qZLOpbBSHifjR/6l8HHHjpw+aGZwZehj2QkMJvBpqH9+QWjnMEZnY3gH/mdwVx5DXMRMZ/BW5lJkcwkoMGFffrgyqCgwV0L8NcDDKHB95gt7whmocEMRlJbfa6hweaKQGwW5aHBJaYb2psJosFtjEv/5xuiwWqMS//nG6LBHaYb2psJosHWikBsFuWhwfZFUlt9rqHB2pgt7whmocE6C/DXAwyhwV59+uDKoKDBL5lJkcwkoMH1eA1zETGfwaycjeAf+Z3BJqH9+QWjnMEToY9kJDCbwTkeOnD5oZnBtnefjR/6l8GuxPamSzqWwdI0ql1LZJTB+Dl7LgN6ksGRARd+bH2QwSEbPCAn4YzBA+lv1SqriMEvucBRO12EweRVsPaQ93/BFcpSq6wWd8FZLTFn4UFswQ6jSPdlflTBA0LvhoQgT0HMHU1chcFpQboQpD45zXVBvTOUYkGgfkFvYaU4YaiDQYAS0Kzj6odBjczX7kMTjEHqHxhonA6QQdZu2T5MApJB4NslZa7ik0FhgnOq062VQS9RrMLiYZdBxpoQLhr9mEE8iJEI0n2aQf/Mxb594ptBVC62pq0pnUEoedx6EFKeQVU4zrV0Wp9B1GSW5uQgoEFFFkulkIOgQWZ4uuDX1KBBF/FY0GYUoUEXpLfv+0GhQSbWDUJoXaFB8HSogo9moUE=",
        "encoding": "base64",
        "path": [
         "_data",
         0,
         "x",
         "value"
        ]
       },
       {
        "data": "AAAAAACOuD4APwYMpQRiQZZ21KNb+3FBRv/wg9vhekGvfCq2UtaBQW4YzZlUKYZBayFSTH5likG0vpw5coaOQTvQA233Q5FBT7TAiukyk0GUyJxCEQ6VQQtHvceE05ZBS3K6rHCBmEGsJnXFGRaaQUnB6+/ej5tB1XM3wjrtnEGmxvYbxSyeQZt/h5k0TZ9BT6HI868moEEBdcF6H5agQaJT4wJ29KBBDCpKTVJBoUF76jYfZXyhQV5xu5NxpaFBhO1/Wk28oUHGFmHj4MChQfU8unYns6FBOSVCOi+ToUHHsnUiGWGhQTVjn9AYHaFBDKOeXXTHoEEq16URhGCgQT0ucxJk0Z9Bg86dj/PAnkG0ZvJwz5CdQfaQVjoxQpxBgwZB2nHWmkFDiClGCE+ZQX7ZBPiHrZdB0DlbTp/zlUGkGqbQFSOUQVJdvlnKPZJBtyY/KrFFkEEZNLTJo3mMQX0bYe2KSohBQsOz22cChEFvAUYBSUt/QcahXBaAcXZBnXPOKikBa0FkiQvZ9wZSQTWWC9n3BlLB/HnOKikBa8HvpFwWgHF2wY4ERgFJS3/BwsSz22cChMEIHWHtikqIwZI1tMmjeYzBYyc/KrFFkMEDXr5Zyj2SwUobptAVI5TBfDpbTp/zlcEU2gT4h62XwdSIKUYIT5nBCAdB2nHWmsFzkVY6MUKcwSNn8nDPkJ3B786dj/PAnsGcLnMSZNGfwVHXpRGEYKDBLqOeXXTHoMFTY5/QGB2hwd2ydSIZYaHBSiVCOi+TocH/PLp2J7OhwckWYePgwKHBge1/Wk28ocFVcbuTcaWhwWzqNh9lfKHB9ylKTVJBocGIU+MCdvSgweF0wXoflqDBJqHI868moME9f4eZNE2fwT7G9hvFLJ7BZHM3wjrtnMHNwOvv3o+bwSQmdcUZFprBwHG6rHCBmMF5Rr3HhNOWwfbHnEIRDpXBrLPAiukyk8GQzwNt90ORwVG9nDlyho7B/h9STH5lisH4Fs2ZVCmGwTN7KrZS1oHBMfzwg9vhesGKc9SjW/txwdo4BgylBGLBAAAAAAButz4=",
        "encoding": "base64",
        "path": [
         "_data",
         0,
         "y",
         "value"
        ]
       },
       {
        "data": "ietIKgDTncE=",
        "encoding": "base64",
        "path": [
         "_data",
         1,
         "x",
         "value"
        ]
       },
       {
        "data": "L/AASgRalME=",
        "encoding": "base64",
        "path": [
         "_data",
         1,
         "y",
         "value"
        ]
       },
       {
        "data": "D/4BVfb0nMG1P5SgS4ibwew7CDDwBZrBgARIHAdumMGdNTU9psCWwe4QIZfX/ZTB6jQw4Jolk8H+0x4l5zeRwXYO9CtZaY7BPK01Ca03isHu0gNAm9qFwYVZP/L0UYHBy+lmfCE7ecHKdKwVRfVuwXld+SJliVXBKudG+lc2VEEfhgaldqlvQfS66J1E8npBdMI4CXIyg0G4kQiDWRWJQfZE6nqIII9BknX6mB+pkkGeiUXWHNSVQayhyFvMD5lBTJRDXWRanEGHAqg+s7GfQcPCYYyIiaFBt7Y2Uag9o0HI4m3xV/OkQeXnnp1kqKZBfGVYw0JaqEGX7YcjCAaqQQ5EUIhnqKtBbuMA0a49rUFunU4lyMGuQYAszZkfGLBBriyksSXCsEGZI57qb1yxQWJARPFg5LFBE3oUP1NXskHGwEs3q7KyQTMO9V/s87JBCeYED9EYs0HgSpWDYx+zQaMZxQcXBrNB6M+abt/LskFKtusZRXCyQX9iF7xz87FBTKJ5SEJWsUHybYv7MpqwQQ==",
        "encoding": "base64",
        "path": [
         "_data",
         2,
         "x",
         "value"
        ]
       },
       {
        "data": "9iNonLCNlcGV6LVKxWCXwc6xkn48I5nB43sMObXUmsEHiXwqv3ScwUgH5/PYAp7BiOHdYG5+n8HYAoRLa3OgwdxOqRypHaHBBn3tvoS9ocE3s20bhVKiwSMhMegi3KLB6bU1o8dZo8HvhJaMzMqjwbPAEKR5LqTB1ZTVrwSEpMEW05tUkMqkwXJTU0krAaXBl/PDs88mpcFYwdC+YjqlwbYTF3+0OqXButk0P4AmpcH7gSJSbfykwW/+pI8Qu6TBOAC+pO5gpMFxNt5nf+yjweCB/2UyXKPBB1cG4nSuosEykOuBueGhwdJZAuSB9KDBhRVWodTKn8FJT0Bgb2adwf14m63PuZrBE2+vNYjDl8GEgPTy64KUwWLq5bM6+JDBCkDW2J5JisHr3vOJnBaCwdq5Pco+v3LBgILWbkQFGMH6s6+irtJyQYjXdcI6WoNBjBDf2N6MjUH70TaSIfSTQWwmwo5GKJlBpvpyBM9TnkHPgv+TdbOhQbzy4qq/KKRB83UMw9KBpkHCKbzjGbeoQQ==",
        "encoding": "base64",
        "path": [
         "_data",
         2,
         "y",
         "value"
        ]
       },
       {
        "data": "2SHMLujpl8Gtfd0DNv2VwVp2rN6Q45PBZ1CS9iKfkcHfgIA6hWSOwdaR+avfPonBDhDNg6PSg8F4JJKPz0p8wSPzVvwMenDBjjh+K7X8UMFZe/FKaLJgQT3FypEbQnVBNwLsGh03gUFLtOcB/ueHQV4xv9HKrI5BjyegqkS/kkFDfrH/GCuWQdWtJpVblplBAGVQLob9nEFASmRjiy6gQY8/EpjJ2KFBt3zJU8Z7o0F5etqv0RWlQXFIhf1EpaZBIGmveYQoqEEQ3lf1AJ6pQdjaE3E5BKtBI/PrqbxZrEEBrACWKp2tQYcPbs81za5BkjD466Tor0EoLQ/gKXewQXbxI0aa7rBBOhZqiShasUH4mPfKZbmxQZF8Et7vC7JBBiVkrXFRskFVBK6So4myQYwvpaBLtLJB4rmo3j3RskFUSBV2XOCyQW4kB9GX4bJBnBlrqu7UskFRjU0PbrqyQZx4ZlExkrJBXyHw6mFcskGamuVTNxmyQZwe1cj2yLFBCDSBA/NrsUGGL5rliwKxQZD55xUujbBBavpJkFIMsEFGQAFS/ACvQckZggeC1K1BKSVA/muUrEHrSdspBEKrQfKkSmCn3qlBYSJG8sNrqEFga6sx2OqmQS5mY+dwXaVB5YheuifFo0E1nU2JoSOiQTdByriMeqBBUrZc7z6XnUFUq8f2KzGaQSyB/GthxpZBubPsD2Vak0E9CZC9e+GPQcvdVtrgGYlBJE6Vj/ZkgkGVZ0RlTZN3QWSsh9ECO2VBlpRuPtZQQMHqaj1t96xswY6o9/jzOnrBJjBXoKDVgsGw85Z/zE2IwcZRh0ZagI3BypttMvczkcG3WcFJvX+TwVooa4UhoZXB9AzcsfGVl8GKUVGPKVyZwUGp/eX08ZrB1mOvaLFVnMFJKgJk8IWdwdnHXzh4gZ7B71hKnUVHn8EAnqKsjNafwfx3a9pcF6DBExaR6LgnoMEB1J6jSRygwTGXJao16p/BNA3Mwalkn8GYp9M3eaiewaS2pwlmtp3BpiyEwGmPnMEpdTtwtDSbwTlcw32rp5nB2SHMLujpl8E=",
        "encoding": "base64",
        "path": [
         "_data",
         3,
         "x",
         "value"
        ]
       },
       {
        "data": "GCXXRCg/kcFxJ+XG2biTwaYLed4kDpbBFBKi16E8mMHwfL3+EEKawZ2u6PFcHJzBDZ7TxpzJncEh3LwCFkifwc7SRzEfS6DBQ+qmuF7ZoMFMYJH1Nk6hweGE2HUvqaHB+9Yxc+rpocH2OOEzJRCiwV0pgU+4G6LBWxmi15cMosHJABdk0+KhwV2C4gKWnqHBpDHVCyZAocGcugrY5MegweypkF1ONqDB0408X/EXn8Ecb8LHJpOdweXM/LrN35vBanwD/ab/mcFkUCOBofSXwSF4qWvYwJXBXy8h5pBmk8EVoUDIN+iQwcQQ3S++kIzBaoboxXYTh8EzGC/qQV6BwSIN77UD7nbBdENjsjGPZcE0FL6LZ6M6QVLOzX4stWxBNs9A/HE8e0FJHykXQSGEQaKrQQGtr4pBxyGXSl2hkEHT/75y0emTQeu7eJ3QLZdBi9xMB/1pmkEPNz/9AJudQYjyaCbJXqBBWX4W1DrnoUHzDnb9QGWjQa1gEdZR16RBMscd5e87pkG46baOq5GnQYo2z44k16hBPnBPZAsLqkEKA++qIiyrQbShYGJAOaxBgueBIU8xrUE+WFE0TxOuQVD3g6NX3q5BNsGqJJeRr0FZPfh4KhawQci4SMT4VrBBS2ykpvOKsEHnHwWL5bGwQYGYPEymy7BBjohWXhvYsEG8+vXpN9ewQWIBktn8yLBBZAWE2HitsEHNrehDyISwQX32Yg0VT7BBl5nfj5YMsEGlugqtInuvQWcwGqytxK5BLoKUMYr2rUEqMnW7jBGtQdy4AVahFqxB/b92qMoGq0HPCGjqIOOpQWDW5cLQrKhBpZyREhplp0EObuGpTg2mQboM5uzQpqRBK5b6ZRIzo0EWW9ZIkrOhQdePiefbKaBB2wr4NQovnUEm9yNBWfyZQYWYTN3wvpZB2EYlAyh6k0GwRgxGXTGQQZLMwrXmz4lBCgQ1NZtCg0ESjLsQMoN5QQTpmAtSTmlBAHBv/mAzusDvszrnS9RowVNGXciUhXjB/K3yXrojgsGzraeX09GHwXd0vyM7R43BGCXXRCg/kcE=",
        "encoding": "base64",
        "path": [
         "_data",
         3,
         "y",
         "value"
        ]
       },
       {
        "data": "ItZdBa+ysEE=",
        "encoding": "base64",
        "path": [
         "_data",
         4,
         "x",
         "value"
        ]
       },
       {
        "data": "5m22ymt0qEE=",
        "encoding": "base64",
        "path": [
         "_data",
         4,
         "y",
         "value"
        ]
       }
      ],
      "model_module": "plotlywidget",
      "model_module_version": "^0.7.1",
      "model_name": "FigureModel",
      "state": {
       "_config": {
        "plotlyServerURL": "https://plot.ly"
       },
       "_data": [
        {
         "hoverinfo": "none",
         "line": {
          "color": "rgb(31, 119, 180)",
          "dash": "dash",
          "width": 2
         },
         "mode": "lines",
         "name": "2011-08-05 16:26 (Earth)",
         "type": "scatter",
         "uid": "61e7afc8-f05b-4c82-a01c-78c548bd9a36",
         "x": {
          "dtype": "float64",
          "shape": [
           100
          ]
         },
         "y": {
          "dtype": "float64",
          "shape": [
           100
          ]
         }
        },
        {
         "marker": {
          "color": "rgb(31, 119, 180)",
          "size": 10
         },
         "mode": "markers",
         "name": "2011-08-05 16:26 (Earth)",
         "type": "scatter",
         "uid": "2455c67a-55ac-4643-9535-a0ca3ea11a4a",
         "x": {
          "dtype": "float64",
          "shape": [
           1
          ]
         },
         "y": {
          "dtype": "float64",
          "shape": [
           1
          ]
         }
        },
        {
         "hoverinfo": "none",
         "line": {
          "color": "rgb(255, 127, 14)",
          "dash": "solid",
          "width": 2
         },
         "mode": "lines",
         "name": "Inner Cruise 1",
         "type": "scatter",
         "uid": "f872c3fb-ac6b-4187-8b9d-48814db25c0b",
         "x": {
          "dtype": "float64",
          "shape": [
           50
          ]
         },
         "y": {
          "dtype": "float64",
          "shape": [
           50
          ]
         }
        },
        {
         "hoverinfo": "none",
         "line": {
          "color": "rgb(44, 160, 44)",
          "dash": "dash",
          "width": 2
         },
         "mode": "lines",
         "name": "2012-09-01 14:40 (Back to Earth)",
         "type": "scatter",
         "uid": "71d9bb6c-64f1-4bf2-a6f1-759e0bd7c57e",
         "x": {
          "dtype": "float64",
          "shape": [
           100
          ]
         },
         "y": {
          "dtype": "float64",
          "shape": [
           100
          ]
         }
        },
        {
         "marker": {
          "color": "rgb(44, 160, 44)",
          "size": 10
         },
         "mode": "markers",
         "name": "2012-09-01 14:40 (Back to Earth)",
         "type": "scatter",
         "uid": "2f930751-c89f-4f03-82ad-d05d2ef3d58f",
         "x": {
          "dtype": "float64",
          "shape": [
           1
          ]
         },
         "y": {
          "dtype": "float64",
          "shape": [
           1
          ]
         }
        }
       ],
       "_js2py_pointsCallback": {},
       "_js2py_relayout": {},
       "_js2py_restyle": {},
       "_js2py_update": {},
       "_last_layout_edit_id": 6,
       "_last_trace_edit_id": 6,
       "_layout": {
        "autosize": true,
        "shapes": [
         {
          "fillcolor": "#ffcc00",
          "line": {
           "color": "#ffcc00"
          },
          "opacity": 1,
          "type": "circle",
          "x0": -21895056.19935296,
          "x1": 21895056.19935296,
          "xref": "x",
          "y0": -21895056.19935296,
          "y1": 21895056.19935296,
          "yref": "y"
         }
        ],
        "template": {},
        "xaxis": {
         "constrain": "domain",
         "title": "x (km)"
        },
        "yaxis": {
         "scaleanchor": "x",
         "title": "y (km)"
        }
       },
       "_py2js_animate": {},
       "_py2js_deleteTraces": {},
       "_py2js_moveTraces": {},
       "_py2js_removeLayoutProps": {},
       "_py2js_removeTraceProps": {},
       "_py2js_restyle": {},
       "_view_count": 1
      }
     },
     "4eb530f457dc403b9fa1159473906998": {
      "buffers": [
       {
        "data": "8HSogo9moUEg1g1CaF2hQQqkt+/7QaFBA/FY0GYUoUFMeLrg19SgQSQWS6WQg6BBr2SW5uQgoEH+N861dFqfQcd43HoQUp5B5i22pq0pnUGKzMW+feKbQb+HkQjSfZpBPpoQLhr9mEGZUKzC4mGXQcOBc6rTrZVBO9slZa7ik0Esbtk+TAKSQTUfGGicDpBBHcvX7kMTjEEQEdCs4+qHQetfpThhqINBsTCUYkGgfkGvDaQ+Oc11QesXTVyFwWlBOijvhoQgT0F0r0j3ZX5UwYYzMWfhQWzBI81Sq6wWd8EAWbD2kPd/wbi6wFE7XYTBeOpv1SqriMGTHDwgJ+GMwUACF35sfZDBrTp7LgN6ksF2NapdS2SUwU7F9qZLOpbBTHifjR/6l8HHHjpw+aGZwZehj2QkMJvBoaH9+QWjnMEcnY3gH/mdwVx5DXMRMZ/BXJlJkcwkoMGFffrgyqCgwV0L8NcDDKHB95gt7whmocEMRlJbfa6hweaKQGwW5aHBJaYb2psJosFtjEv/5xuiwWqMS//nG6LBHKYb2psJosHWikBsFuWhwfVFUlt9rqHB2pgt7whmocE7C/DXAwyhwV59+uDKoKDBL5lJkcwkoMH0eA1zETGfwa2cjeAf+Z3BJKH9+QWjnMESoY9kJDCbwTkeOnD5oZnBuHefjR/6l8GoxPamSzqWwdw0ql1LZJTB9jl7LgN6ksGLARd+bH2QwRcbPCAn4YzBD+lv1SqriMEvucBRO12EwfRVsPaQ93/BH8pSq6wWd8FcLTFn4UFswcqiSPdlflTBdUHvhoQgT0GSHU1chcFpQdMQpD45zXVB8TOUYkGgfkF0YaU4YaiDQYIS0Kzj6odBjczX7kMTjEHpHxhonA6QQdhu2T5MApJB6NslZa7ik0FignOq062VQSxRrMLiYZdBu5oQLhr9mEE8iJEI0n2aQf3Mxb594ptBVi62pq0pnUEoedx6EFKeQVU4zrV0Wp9B1GSW5uQgoEFDFkulkIOgQWR4uuDX1KBBF/FY0GYUoUEXpLfv+0GhQSfWDUJoXaFB8HSogo9moUE=",
        "encoding": "base64",
        "path": [
         "_data",
         0,
         "x",
         "value"
        ]
       },
       {
        "data": "AAAAAACuuT4APwYMpQRiQat21KNb+3FBVv/wg9vhekGvfCq2UtaBQXcYzZlUKYZBayFSTH5likG0vpw5coaOQTvQA233Q5FBUrTAiukyk0GUyJxCEQ6VQQlHvceE05ZBS3K6rHCBmEGrJnXFGRaaQUnB6+/ej5tB2HM3wjrtnEGjxvYbxSyeQZt/h5k0TZ9BT6HI868moEEBdcF6H5agQaJT4wJ29KBBDSpKTVJBoUF76jYfZXyhQV1xu5NxpaFBhO1/Wk28oUHGFmHj4MChQfU8unYns6FBOSVCOi+ToUHHsnUiGWGhQTZjn9AYHaFBC6OeXXTHoEEp16URhGCgQUAucxJk0Z9Bg86dj/PAnkG0ZvJwz5CdQfaQVjoxQpxBgQZB2nHWmkFDiClGCE+ZQX7ZBPiHrZdB2TlbTp/zlUGhGqbQFSOUQVJdvlnKPZJBryY/KrFFkEEZNLTJo3mMQYcbYe2KSohBOsOz22cChEGCAUYBSUt/QcahXBaAcXZBnXPOKikBa0FkiQvZ9wZSQVWWC9n3BlLB6HnOKikBa8H3pFwWgHF2wZYERgFJS3/BxcSz22cChMEFHWHtikqIwZQ1tMmjeYzBZCc/KrFFkMEDXr5Zyj2SwUcbptAVI5TBfTpbTp/zlcEV2gT4h62XwdiIKUYIT5nBBwdB2nHWmsF3kVY6MUKcwRxn8nDPkJ3B786dj/PAnsGeLnMSZNGfwVPXpRGEYKDBLaOeXXTHoMFTY5/QGB2hwd6ydSIZYaHBSiVCOi+TocH/PLp2J7OhwcgWYePgwKHBgO1/Wk28ocFVcbuTcaWhwWzqNh9lfKHB9SlKTVJBocGIU+MCdvSgweF0wXoflqDBJqHI868moME/f4eZNE2fwTzG9hvFLJ7BX3M3wjrtnMHLwOvv3o+bwSgmdcUZFprByHG6rHCBmMF5Rr3HhNOWwfvHnEIRDpXBp7PAiukyk8GQzwNt90ORwVW9nDlyho7B/h9STH5lisEAF82ZVCmGwTB7KrZS1oHBWvzwg9vhesGPc9SjW/txwfA4BgylBGLBAAAAAAD+tz4=",
        "encoding": "base64",
        "path": [
         "_data",
         0,
         "y",
         "value"
        ]
       },
       {
        "data": "ietIKgDTncE=",
        "encoding": "base64",
        "path": [
         "_data",
         1,
         "x",
         "value"
        ]
       },
       {
        "data": "L/AASgRalME=",
        "encoding": "base64",
        "path": [
         "_data",
         1,
         "y",
         "value"
        ]
       },
       {
        "data": "jutIKgDTncEhxjqeOXScwbtlibkP/5rBTkc8PpdzmcEFLghp2NGXwYDUDHDQGZbBQUX0GHNLlMFORcFtrGaSwevguJhia5DBr/QV4u+yjMH8smGGmmGIwdOszsKI4oPBvcjHKAxrfsGyRbzR2LR0wdJGSJGuRGXB8BWU1TnSCcEsAjsBpC1lQa49+Ss3vHVB0yDHp5qdgEGSdzde7IiGQTBHe3O3noxB9f0gV5hukUG/wt8YA6GUQcYmtEok5ZdB76JK5ig5m0GFIE8C1ZqeQX0yQbK6A6FB+G+5POi9okFa4iyLC3qkQTggjMnqNaZBcDWk/fLup0ExpWEmMqKpQf4KwPpSTKtB1vIL/5rprEEKt4rB63WuQZTASiLI7K9BM6SKR6+ksEHo4saGTEOxQR5Pw+GZz7FBlqouMe1GskFndhM1pqayQebtq9JD7LJB5BI5xnsVs0G9h+7AUyCzQeLFc486C7NBDh5YnB/VskEwm3f6hn2yQT2CHSuYBLJBNOPCEiZrsUEe1l0Fr7KwQQ==",
        "encoding": "base64",
        "path": [
         "_data",
         2,
         "x",
         "value"
        ]
       },
       {
        "data": "KvAASgRalMFxgH83sDeWwbfuwzifBZjBc0Rpr2TDmcGx9PO5g3CbwTjVS4BtDJ3BxgAren+WnsE6pFDWAAegwW1NVW4SuaDB7SntWgBhocEWh6nySP6hwQb4XBVckKLBRNBPMZoWo8EXgAZIU5CjwXkDy/bF/KPBlxzSiB5bpMGzUdgadqqkwXajgNrR6aTB25CmbiIYpcGptkOZQzSlwccriSf8PKXBCFVhSf4wpcHsibFu6A6lwXrlTM5G1aTBxGBtwJWCpMFnY2gcRRWkwaWauM68i6PBDbWy4GLkosFdIF8tox2iwRCox/34NaHBUh8HwforoMFoK48P0PydwQs8QKtzWJvB8vfxdWppmMHcrEj8/y6VwYZHvMJtqZHBq8/nNxO0i8EZWk9354aDwR30ukQHp3XBLKsA1npUSsGwmrHaCdRvQbR7/8oN6YFBmiu1aRUhjEF9ZNNLCUKTQRlRthkRe5hBtX2iUY2snUGcxWLOU2OhQTlIbFue3KNB3K9P9S46pkHvbbbKa3SoQQ==",
        "encoding": "base64",
        "path": [
         "_data",
         2,
         "y",
         "value"
        ]
       },
       {
        "data": "kjd/gEvnlsFMvKsH9GI/QbY+eWAcK5hBul6lLzQdpUF8Y71eAW2rQYrrVY93p69Bo9OyKnIxsUHSoOb72gmyQau0Z5Byh7JB35gZLDfIskFdgZbj1+CyQcfVdmRX37JB2M1pYxDNskFfWYPGLbCyQbj4B3OzjLJBQ74zSzRlskFvV0cqTTuyQakuzQH3D7JBT+vZKr3jsUGYW30C4baxQeSO3/xwibFBM76WTFdbsUHNds/SYiyxQYGOHBhM/LBBpejYZ7fKsEEOIAG2NJewQQAjaqY9YbBB82IRzzEosEERLE05otavQXh4MSNoU69BrjWaz4LErkF+DxDQQCeuQS6iFhxOeK1BXwjCnYWzrEERN7IvtdOrQeq2OO1Q0qpBji9Z/xKnqUGCWsTChkeoQfGfv9eCpqZBSFEXbaCzpEGFyNNk1FqiQSaRRSv1CJ9B9bKDDuwsmEHNQe3Yld6PQde6iNwqwXhBHHPCtLfic8GelWaWSeqQweQImCGtsZvB4G3u1WUeoMHpOv8ew9eVwQ==",
        "encoding": "base64",
        "path": [
         "_data",
         3,
         "x",
         "value"
        ]
       },
       {
        "data": "PNr1GoCXksEpM2MMkRahwTL7p+sgvqHBuIdoo5+LncHFfaHtNw+VwR79kzRsZYjBDsipJtwob8EieEhOYwJsQYNJ9FiL14NBaf/8P7HYjkF49iyt/x2UQdPLGVW2H5hByg2QxtKOm0ESFFQYK4WeQXopm/RRjKBBe2zIfrOtoUGC/FQCLq6iQbSMMmbYk6NBfYID4qxjpEEBjRT8wCGlQSukA1Z00aVBSb9T55Z1pkGLZx/WhxCnQdtAhDVOpKdBxeq00qwyqEEySMcFMr2oQVyYmEBERalBQ0mQ2CvMqUEN76BFGlOqQZUcD8Mu26pBVRnl2Xdlq0HdC8rP8PKrQS4T1CN5hKxBs4DdA8MarUFv9Oi3M7atQSW/YgauVq5BsDJbADr7rkFAluG3dqGvQfuZGhRcIrBBNpG6glJusEEzZvA6iq2wQZbh53xp1LBBmd294WzQsEENZ5UntISwQSvaP/9ciq9B6V0VCUqgrEF+vmWEho2nQYbtnzJXsp5Bf5hk8k6lekHHn6cYW+WTwQ==",
        "encoding": "base64",
        "path": [
         "_data",
         3,
         "y",
         "value"
        ]
       },
       {
        "data": "CP1YSOuYqcEo24rGHJqrQTYedNX537ZBXHrM3agTuEFI1pyxIvS2QXZ7tN/zLrVBDuk31Dxls0F9AAJ8I8+xQelHWNssebBBNMSpoSW+rkGfjP5f4+6sQSgDlv8AcatBn2D4XGYzqkE4FWEyKiipQS/tGixURKhB2bvMfll/p0ElESAFl9KmQSKitbneOKZBzWPTbByupUH9Dh4/Dy+lQYlb8skTuaRBitdS+/pJpEEwNw5O6t+jQesb9bVCeaNB2zWuKowUo0GTui4oZLCiQTdM8sJtS6JBEOO+EkLkoUFpwKu6X3mhQdFN6zYYCaFBrqIeU3mRoEE/6jK0MBCgQSnXg0vNBJ9BUQothhjJnUHmi474LmScQVH9UGxKyppBDzdQaO3rmEEGh/JXd7SWQUZpiCQtCJRBUG2pH4/BkEH8Ft2Vz1uJQWwXGi47JX5BqN7NYf9oT0Eeb6zG9qF9wfJcEAZbFJLBkIsA8IdRn8Em86Y2/mGnwd4q0f92G6/BmixPoPV7scE5q04vwZygwQ==",
        "encoding": "base64",
        "path": [
         "_data",
         4,
         "x",
         "value"
        ]
       },
       {
        "data": "aJdbyV7lZcEv8IVWl76JwT2f5DDT5qlBItyP7JRXuEEB1ehIgty/QYwChAiPYcJB795QstT6w0GDE4Lp+wjFQXYZ2KDKvsVB6TlldB88xkGKe7nV05TGQV8wlJxS1cZBIqppFHkFx0Fplk1JWCrHQTlx6lhER8dBxVLUuHhex0HJ8letfHHHQVkRdpxhgcdBC31qXeqOx0GGJB51pJrHQUSpJpT4pMdB1/pjjjWux0G6nfvEl7bHQaxpTjxOvsdB1ckyI37Fx0GLJ21IRczHQZceBM270sdBkTrAQvXYx0GQN+pOAd/HQU79GtXr5MdBr2sUmLzqx0H0LKohdvDHQX+Xq5YT9sdBVAgM04T7x0EgbWmtpwDIQakWT2Q8BchBqPSkq9EIyEEvj8ECogrIQUfpEd5WCchBNjVn3pwCyEHTiJKQY/LHQXs5jwmG0cdBs4YaRGqTx0H+Xk354SHHQWmm4dVTVsZBumBJPjHvxEGA8yW3UIHCQd67X0HPybxBsut4Us9crkF2IMikxEaWwQ==",
        "encoding": "base64",
        "path": [
         "_data",
         4,
         "y",
         "value"
        ]
       },
       {
        "data": "8zXn/CYxj0HY2O+snT6bQV1tgy3cY6NB2y2FtP8TqUExh4dm3KmuQWFpXyrYD7JBLQXzSu23tEH5qsiJcEq3QSG1vRe7xLlBKPB9HT8kvEG09oFdima+QW/8zFykRMBBfb+1TCNFwUGmXLSXuTPCQbs+9UxxD8NBN4Ud72fXw0HMc8Ndz4rEQflE6anuKMVBJFif1CKxxUH7OAl33yLGQW1NGFOvfcZBXvlmzDTBxkGMo7dIKu3GQS0jtHdiAcdBtqCjgcj9xkFVw+YcYOLGQYoFJIpFr8ZBiiIod61kxkH+oZjI5ALGQdt7sEpQisVBTYlYSWz7xEHT3QYQzFbEQXQc6VEZncNBpEz2ehPPwkExgZzqju3BQY641Rh0+cBBNUILTX3nv0FBjC60+Lq9QXYNzBKYb7tBzv8g5LgHuUEGZ8wC1oW2Qds6YxqF7LNBNARg/XM+sUG0BlrEy/ysQe0/QxRhXqdBETnFqnKnoUHp86AaybuXQR488c+3HohBADA1npFpNUGFMHMfg8qGwYQV1SREFZfBlagknypXocE7tQQkQBKnwdx/ulP6tazBFv5KekQescGRxk/vHNCzwT6rWG2/bbbBNBNCrnn0uMGkXeQIsWG7wd43SSDlsr3B0kLFd7Llv8GyyqZ06vvAwf+sv/2U88HBdId4itnYwsHiXkTFy6rDwXhMXEOTaMTBpt/VY2wRxcHqm0sZqaTFwYWzR52xIcbBMQy4DAWIxsGNR8rsOdfGwQ3bppf+DsfBHiKbkBkvx8GjqFu/aTfHwaKXIZLmJ8fB0RmABqAAx8GonOiYvsHGwQ3s7hqDa8bBYy14cEb+xcHDmhk0eXrFwSJyBUOj4MTBcr/9MGMxxMFmYN2kbW3DwfLBX56MlcLBok3npZ6qwcFaKxnnla3AwTmadW7uPr/B9DOlELICvcHXv0GUxKi6wV7aMXSSM7jBkm0nR6SltcFjaAsjnAGzwYISIeYySrDBLoNa0WoEq8HH2ws0A1mlwS90DzAOMJ/BzAuJv8mOk8G603N62Gh/wd4VhBjeDG9BzDTn/CYxj0E=",
        "encoding": "base64",
        "path": [
         "_data",
         5,
         "x",
         "value"
        ]
       },
       {
        "data": "0XYPwCPjxcHbPvjT+bXFwTCZXc08ccXBUqukhzMVxcE/qkXiPKLEwbPN/17PGMTB1YGwp3h5w8G1w0v83MTCwZYwjIm2+8HB708JqdQewcH063kLGy/Awe2Z/ZsBW77BaJHP9h42vMH1dPP0w/G5wcgbn9RGkLfBdPAF3BsUtcErcbXR0n+ywRauMLEorK/By26yZD4zqsH0t+/VipqkwZRD8MGlz53B45gUZ+xBksHTvGz4SV96wU0q3VaHinRB1girlVnhkEHsbPhdOZicQWyFWfCWHaRBL4QvLBzfqUEDBK5yvYqvQWupWTJRjbJBdx8lnYdEtUG1q9dVNei3QQvhYtuhdbpBqVOEnSvqvEEzgRizSkO/QU8Y/rpJv8BBs+nlgNzMwUFNPHfJR8nCQWJIvWGHs8NB4vrS0amKxEEhH8xV0U3FQcYYT8I0/MVB54jzUyCVxkFKG5Bo9hfHQcR3uCEwhMdB7tfD713Zx0FC8cwEKBfIQceoNK9OPchBD0NKm6pLyEF3YtX7LELIQbYJWJnfIMhBhOj4x+Tnx0FYVyBEd5fHQa587PXpL8dBVwW7m6exxkF7iCBcMh3GQfQDvz8jc8VBX72Fkym0xEFyJP0zCuHDQb78WMKe+sJBsv0hxNQBwkGCKV6urPfAQXp8aLpxur9BJ4g18jhnvUHIgGyVFPi6QRLhN/2Gb7hBvA9+tCzQtUFRcrvGuRyzQZp3ovb2V7BBKvLBvn0Jq0F7owAH9kulQfcBojGD+p5B6w569rlGk0H87yvugSJ+QTGpJfq5znDB1uCHHzTEj8GPoyOhl3abwYO/H6ubcqPBLlGpLRgRqcGF74WF9pCuweC/5rdF9rHB1h+riCiPtMHq3RFUdhC3wXtGNAiad7nBySO1ixnCu8HPXGVLmO29wZxyeanZ97/BT7fmpWHvwMGrZ2ujL9DBwVwyhBFvncLBhmNJXUxWw8Egd8r2CPrDwSyjfRX8h8TB0yM8ZpP/xMGR7xeiU2DFwQZYbw3ZqcXB4Ji73tfbxcFUW7CMHPbFwR6mWwOM+MXB03YPwCPjxcE=",
        "encoding": "base64",
        "path": [
         "_data",
         5,
         "y",
         "value"
        ]
       },
       {
        "data": "tB0MCD3XokE=",
        "encoding": "base64",
        "path": [
         "_data",
         6,
         "x",
         "value"
        ]
       },
       {
        "data": "Eqfqa6/Jx0E=",
        "encoding": "base64",
        "path": [
         "_data",
         6,
         "y",
         "value"
        ]
       }
      ],
      "model_module": "plotlywidget",
      "model_module_version": "^0.7.1",
      "model_name": "FigureModel",
      "state": {
       "_config": {
        "plotlyServerURL": "https://plot.ly"
       },
       "_data": [
        {
         "hoverinfo": "none",
         "line": {
          "color": "rgb(31, 119, 180)",
          "dash": "dash",
          "width": 2
         },
         "mode": "lines",
         "name": "2011-08-05 16:26 (Earth)",
         "type": "scatter",
         "uid": "0b09a89d-5309-4efc-a0e4-6cb9e2fdfc3a",
         "x": {
          "dtype": "float64",
          "shape": [
           100
          ]
         },
         "y": {
          "dtype": "float64",
          "shape": [
           100
          ]
         }
        },
        {
         "marker": {
          "color": "rgb(31, 119, 180)",
          "size": 10
         },
         "mode": "markers",
         "name": "2011-08-05 16:26 (Earth)",
         "type": "scatter",
         "uid": "6a34127b-6c75-4edf-b04d-717ed015820f",
         "x": {
          "dtype": "float64",
          "shape": [
           1
          ]
         },
         "y": {
          "dtype": "float64",
          "shape": [
           1
          ]
         }
        },
        {
         "hoverinfo": "none",
         "line": {
          "color": "rgb(255, 127, 14)",
          "dash": "solid",
          "width": 2
         },
         "mode": "lines",
         "name": "Inner Cruise 1",
         "type": "scatter",
         "uid": "53f768b2-bb90-4099-a39b-617028edeaac",
         "x": {
          "dtype": "float64",
          "shape": [
           50
          ]
         },
         "y": {
          "dtype": "float64",
          "shape": [
           50
          ]
         }
        },
        {
         "hoverinfo": "none",
         "line": {
          "color": "rgb(44, 160, 44)",
          "dash": "solid",
          "width": 2
         },
         "mode": "lines",
         "name": "Back to Earth",
         "type": "scatter",
         "uid": "37f328c0-6aba-4f8e-a16d-7d2c8dcf3e81",
         "x": {
          "dtype": "float64",
          "shape": [
           50
          ]
         },
         "y": {
          "dtype": "float64",
          "shape": [
           50
          ]
         }
        },
        {
         "hoverinfo": "none",
         "line": {
          "color": "rgb(214, 39, 40)",
          "dash": "solid",
          "width": 2
         },
         "mode": "lines",
         "name": "Jupiter Orbit Insertion Phase",
         "type": "scatter",
         "uid": "32a82e16-639f-435a-bca7-17ef792be7af",
         "x": {
          "dtype": "float64",
          "shape": [
           50
          ]
         },
         "y": {
          "dtype": "float64",
          "shape": [
           50
          ]
         }
        },
        {
         "hoverinfo": "none",
         "line": {
          "color": "rgb(148, 103, 189)",
          "dash": "dash",
          "width": 2
         },
         "mode": "lines",
         "name": "2016-07-05 03:19 (Jupiter)",
         "type": "scatter",
         "uid": "5f97b8c7-a8b6-46c5-9a20-93950a821e59",
         "x": {
          "dtype": "float64",
          "shape": [
           100
          ]
         },
         "y": {
          "dtype": "float64",
          "shape": [
           100
          ]
         }
        },
        {
         "marker": {
          "color": "rgb(148, 103, 189)",
          "size": 10
         },
         "mode": "markers",
         "name": "2016-07-05 03:19 (Jupiter)",
         "type": "scatter",
         "uid": "0a184712-9a84-4756-bec0-8793459c2870",
         "x": {
          "dtype": "float64",
          "shape": [
           1
          ]
         },
         "y": {
          "dtype": "float64",
          "shape": [
           1
          ]
         }
        }
       ],
       "_js2py_pointsCallback": {},
       "_js2py_relayout": {},
       "_js2py_restyle": {},
       "_js2py_update": {},
       "_last_layout_edit_id": 8,
       "_last_trace_edit_id": 8,
       "_layout": {
        "autosize": true,
        "shapes": [
         {
          "fillcolor": "#ffcc00",
          "line": {
           "color": "#ffcc00"
          },
          "opacity": 1,
          "type": "circle",
          "x0": -21895056.19935296,
          "x1": 21895056.19935296,
          "xref": "x",
          "y0": -21895056.19935296,
          "y1": 21895056.19935296,
          "yref": "y"
         }
        ],
        "template": {},
        "xaxis": {
         "constrain": "domain",
         "title": {
          "text": "x (km)"
         }
        },
        "yaxis": {
         "scaleanchor": "x",
         "title": {
          "text": "y (km)"
         }
        }
       },
       "_py2js_animate": {},
       "_py2js_deleteTraces": {},
       "_py2js_moveTraces": {},
       "_py2js_removeLayoutProps": {},
       "_py2js_removeTraceProps": {},
       "_py2js_restyle": {},
       "_view_count": 0
      }
     },
     "5680e0c513cc42c29086d86bb8983881": {
      "buffers": [
       {
        "data": "8HSogo9moUEg1g1CaF2hQQqkt+/7QaFBA/FY0GYUoUFMeLrg19SgQSQWS6WQg6BBr2SW5uQgoEH+N861dFqfQcd43HoQUp5B5i22pq0pnUGKzMW+feKbQb+HkQjSfZpBPpoQLhr9mEGZUKzC4mGXQcOBc6rTrZVBO9slZa7ik0Esbtk+TAKSQTUfGGicDpBBHcvX7kMTjEEQEdCs4+qHQetfpThhqINBsTCUYkGgfkGvDaQ+Oc11QesXTVyFwWlBOijvhoQgT0F0r0j3ZX5UwYYzMWfhQWzBI81Sq6wWd8EAWbD2kPd/wbi6wFE7XYTBeOpv1SqriMGTHDwgJ+GMwUACF35sfZDBrTp7LgN6ksF2NapdS2SUwU7F9qZLOpbBTHifjR/6l8HHHjpw+aGZwZehj2QkMJvBoaH9+QWjnMEcnY3gH/mdwVx5DXMRMZ/BXJlJkcwkoMGFffrgyqCgwV0L8NcDDKHB95gt7whmocEMRlJbfa6hweaKQGwW5aHBJaYb2psJosFtjEv/5xuiwWqMS//nG6LBHKYb2psJosHWikBsFuWhwfVFUlt9rqHB2pgt7whmocE7C/DXAwyhwV59+uDKoKDBL5lJkcwkoMH0eA1zETGfwa2cjeAf+Z3BJKH9+QWjnMESoY9kJDCbwTkeOnD5oZnBuHefjR/6l8GoxPamSzqWwdw0ql1LZJTB9jl7LgN6ksGLARd+bH2QwRcbPCAn4YzBD+lv1SqriMEvucBRO12EwfRVsPaQ93/BH8pSq6wWd8FcLTFn4UFswcqiSPdlflTBdUHvhoQgT0GSHU1chcFpQdMQpD45zXVB8TOUYkGgfkF0YaU4YaiDQYIS0Kzj6odBjczX7kMTjEHpHxhonA6QQdhu2T5MApJB6NslZa7ik0FignOq062VQSxRrMLiYZdBu5oQLhr9mEE8iJEI0n2aQf3Mxb594ptBVi62pq0pnUEoedx6EFKeQVU4zrV0Wp9B1GSW5uQgoEFDFkulkIOgQWR4uuDX1KBBF/FY0GYUoUEXpLfv+0GhQSfWDUJoXaFB8HSogo9moUE=",
        "encoding": "base64",
        "path": [
         "_data",
         0,
         "x",
         "value"
        ]
       },
       {
        "data": "AAAAAACuuT4APwYMpQRiQat21KNb+3FBVv/wg9vhekGvfCq2UtaBQXcYzZlUKYZBayFSTH5likG0vpw5coaOQTvQA233Q5FBUrTAiukyk0GUyJxCEQ6VQQlHvceE05ZBS3K6rHCBmEGrJnXFGRaaQUnB6+/ej5tB2HM3wjrtnEGjxvYbxSyeQZt/h5k0TZ9BT6HI868moEEBdcF6H5agQaJT4wJ29KBBDSpKTVJBoUF76jYfZXyhQV1xu5NxpaFBhO1/Wk28oUHGFmHj4MChQfU8unYns6FBOSVCOi+ToUHHsnUiGWGhQTZjn9AYHaFBC6OeXXTHoEEp16URhGCgQUAucxJk0Z9Bg86dj/PAnkG0ZvJwz5CdQfaQVjoxQpxBgQZB2nHWmkFDiClGCE+ZQX7ZBPiHrZdB2TlbTp/zlUGhGqbQFSOUQVJdvlnKPZJBryY/KrFFkEEZNLTJo3mMQYcbYe2KSohBOsOz22cChEGCAUYBSUt/QcahXBaAcXZBnXPOKikBa0FkiQvZ9wZSQVWWC9n3BlLB6HnOKikBa8H3pFwWgHF2wZYERgFJS3/BxcSz22cChMEFHWHtikqIwZQ1tMmjeYzBZCc/KrFFkMEDXr5Zyj2SwUcbptAVI5TBfTpbTp/zlcEV2gT4h62XwdiIKUYIT5nBBwdB2nHWmsF3kVY6MUKcwRxn8nDPkJ3B786dj/PAnsGeLnMSZNGfwVPXpRGEYKDBLaOeXXTHoMFTY5/QGB2hwd6ydSIZYaHBSiVCOi+TocH/PLp2J7OhwcgWYePgwKHBgO1/Wk28ocFVcbuTcaWhwWzqNh9lfKHB9SlKTVJBocGIU+MCdvSgweF0wXoflqDBJqHI868moME/f4eZNE2fwTzG9hvFLJ7BX3M3wjrtnMHLwOvv3o+bwSgmdcUZFprByHG6rHCBmMF5Rr3HhNOWwfvHnEIRDpXBp7PAiukyk8GQzwNt90ORwVW9nDlyho7B/h9STH5lisEAF82ZVCmGwTB7KrZS1oHBWvzwg9vhesGPc9SjW/txwfA4BgylBGLBAAAAAAD+tz4=",
        "encoding": "base64",
        "path": [
         "_data",
         0,
         "y",
         "value"
        ]
       },
       {
        "data": "ietIKgDTncE=",
        "encoding": "base64",
        "path": [
         "_data",
         1,
         "x",
         "value"
        ]
       },
       {
        "data": "L/AASgRalME=",
        "encoding": "base64",
        "path": [
         "_data",
         1,
         "y",
         "value"
        ]
       },
       {
        "data": "D/4BVfb0nMGyhaabg8SawXK+GFE1ZJjB3JQBX4vWlcGrswVmNR6TwSxoauoPPpDBGpwDo0JyisFuwhFmLSWEwVeoQQcCN3vBPWykeXhwa8Fg0i3kJeIBQeDGrHDWnGxBRgsTctG4fEE+tX5p5qmFQatu2gwACI1BvyDGxHo3kkEKUyq6fuuVQc3VoaAmnJlB8qnzupBFnUEzmwJ18XGgQc0hG12nOaJBGyE7sgr4o0GOQm7fRaulQWo3TwyPUadBaCOq/inpqEFgssvtaXCqQfdBkUWz5atBMJ9fV31HrUGb4jj3U5SuQebdPgPZyq9BriAD6uJ0sEFXgRtK9vewQbhECL8cbrFBV8/B/tnWsUHneNjavzGyQWWPXLRufrJB1Sx14JW8skEXDzz98+uyQf0shTZXDLNBSK5Jep0ds0FyIn+ctB+zQRpCNWqaErNBOh/mq1z2skEdVfYWGcuyQcZ4dC79kLJBCKo4E0ZIskGeopZDQPGxQW7o5UpHjLFBQck0YcUZsUHybYv7MpqwQQ==",
        "encoding": "base64",
        "path": [
         "_data",
         2,
         "x",
         "value"
        ]
       },
       {
        "data": "9iNonLCNlcFknSKBSEqYwQGLTVyp3prBKyALfRxIncH+pztbGISfwYWwYqEhyKDB1hFG5jq1ocGHez+RXoiiwZSyLIauQKPBj0N44Wjdo8HUGhDE6F2kwUSf1QCnwaTBJdzQqjoIpcHDI5GDWTGlwQUOR0nYPKXB0alF5KoqpcEWA7tz5PqkwaGbkjm3raTBxP+WZXRDpMGnFArAi7yjwbX3DTSLGaPBmCJaOh5bosFo4NkkDYKhweXU8Us8j6DBaoaUPFYHn8H4iTUo5sCcwYk4JA6NTZrBQDYj4N6vl8F0Rx4YnOqUwVDRFdOuAJLBr996gE/qjcG5lQ7PdZaHwUoIAZZ4DIHBXMUomnGmdMHF3NsZSY5bwcQYT5HLhFxBJugWqR5ZdUGUKdv9ndqBQXU7jd43E4lBrnXPJ2InkEHpJCTI08KTQTV/eGMlWJdBi1R+/pHjmkEtboQGX2GeQVM+0R7w5qBB4c3oy72SokFKeHCCVjKkQcADpREFxKVBFHUA7CJGp0HCKbzjGbeoQQ==",
        "encoding": "base64",
        "path": [
         "_data",
         2,
         "y",
         "value"
        ]
       },
       {
        "data": "1iHMLujpl8Gnfd0DNv2VwVN2rN6Q45PBYFCS9iKfkcHSgIA6hWSOwdaR+avfPonB9A/Ng6PSg8GaJJKPz0p8wQ/zVvwMenDBNDh+K7X8UMGqe/FKaLJgQYrFypEbQnVBXwLsGh03gUFftOcB/ueHQY4xv9HKrI5BpSegqkS/kkFYfrH/GCuWQeStJpVblplB/2RQLob9nEFNSmRjiy6gQZI/EpjJ2KFBv3zJU8Z7o0GIetqv0RWlQX1Ihf1EpaZBKGmveYQoqEEY3lf1AJ6pQdnaE3E5BKtBK/PrqbxZrEELrACWKp2tQY4Pbs81za5BnTD466Tor0EtLQ/gKXewQXrxI0aa7rBBPRZqiShasUH7mPfKZbmxQZR8Et7vC7JBCCVkrXFRskFYBK6So4myQY4vpaBLtLJB4rmo3j3RskFVSBV2XOCyQW8kB9GX4bJBnBlrqu7UskFRjU0PbrqyQZp4ZlExkrJBXiHw6mFcskGYmuVTNxmyQZse1cj2yLFBBjSBA/NrsUGEL5rliwKxQYz55xUujbBBafpJkFIMsEE9QAFS/ACvQb8ZggeC1K1BICVA/muUrEHjSdspBEKrQeakSmCn3qlBVSJG8sNrqEFTa6sx2OqmQSRmY+dwXaVB1IheuifFo0ErnU2JoSOiQStByriMeqBBObZc7z6XnUFDq8f2KzGaQRGB/GthxpZBprPsD2Vak0ENCZC9e+GPQa3dVtrgGYlBDk6Vj/ZkgkFOZ0RlTZN3Qf+rh9ECO2VB/JZuPtZQQMEAaz1t96xswaGo9/jzOnrBTjBXoKDVgsHO85Z/zE2IwehRh0ZagI3B45ttMvczkcHFWcFJvX+TwVsoa4UhoZXBBg3csfGVl8GZUVGPKVyZwUqp/eX08ZrB3GOvaLFVnMFNKgJk8IWdweHHXzh4gZ7B9VhKnUVHn8EGnqKsjNafwf93a9pcF6DBFBaR6LgnoMED1J6jSRygwTCXJao16p/BNw3Mwalkn8GZp9M3eaiewaC2pwlmtp3BoiyEwGmPnMEudTtwtDSbwTtcw32rp5nB1yHMLujpl8E=",
        "encoding": "base64",
        "path": [
         "_data",
         3,
         "x",
         "value"
        ]
       },
       {
        "data": "GSXXRCg/kcFyJ+XG2biTwagLed4kDpbBFxKi16E8mMH0fL3+EEKawZmu6PFcHJzBEJ7TxpzJncEc3LwCFkifwcvSRzEfS6DBQeqmuF7ZoMFLYJH1Nk6hwd6E2HUvqaHB+dYxc+rpocHzOOEzJRCiwVspgU+4G6LBWBmi15cMosHDABdk0+KhwVaC4gKWnqHBoDHVCyZAocGTugrY5MegweSpkF1ONqDBwI08X/EXn8EFb8LHJpOdwczM/LrN35vBVHwD/ab/mcFLUCOBofSXwRF4qWvYwJXBQy8h5pBmk8H0oEDIN+iQwYoQ3S++kIzBIIboxXYTh8HRFy/qQV6BwZoM77UD7nbBOEJjsjGPZcEoHb6LZ6M6QX3PzX4stWxBqs9A/HE8e0GqHykXQSGEQQKsQQGtr4pB8CGXSl2hkEEKAL9y0emTQQq8eJ3QLZdBttxMB/1pmkEtNz/9AJudQZzyaCbJXqBBbX4W1DrnoUECD3b9QGWjQbxgEdZR16RBSMcd5e87pkHJ6baOq5GnQZ02z44k16hBUnBPZAsLqkEiA++qIiyrQcShYGJAOaxBmOeBIU8xrUFQWFE0TxOuQWL3g6NX3q5BSsGqJJeRr0FjPfh4KhawQdK4SMT4VrBBU2ykpvOKsEHtHwWL5bGwQYeYPEymy7BBk4hWXhvYsEHD+vXpN9ewQWgBktn8yLBBaAWE2HitsEHRrehDyISwQYH2Yg0VT7BBm5nfj5YMsEGtugqtInuvQW4wGqytxK5BNYKUMYr2rUExMnW7jBGtQeW4AVahFqxBAMB2qMoGq0HSCGjqIOOpQWLW5cLQrKhBoZyREhplp0EObuGpTg2mQcIM5uzQpqRBJ5b6ZRIzo0ETW9ZIkrOhQdWPiefbKaBB6Qr4NQovnUEu9yNBWfyZQYeYTN3wvpZB0kYlAyh6k0GxRgxGXTGQQXTMwrXmz4lBCQQ1NZtCg0FEjLsQMoN5QbLomAtSTmlBADxu/mAzusDUszrnS9RowaBGXciUhXjBCa7yXrojgsGdraeX09GHwWh0vyM7R43BGCXXRCg/kcE=",
        "encoding": "base64",
        "path": [
         "_data",
         3,
         "y",
         "value"
        ]
       },
       {
        "data": "HtZdBa+ysEE=",
        "encoding": "base64",
        "path": [
         "_data",
         4,
         "x",
         "value"
        ]
       },
       {
        "data": "7222ymt0qEE=",
        "encoding": "base64",
        "path": [
         "_data",
         4,
         "y",
         "value"
        ]
       }
      ],
      "model_module": "plotlywidget",
      "model_module_version": "^0.7.1",
      "model_name": "FigureModel",
      "state": {
       "_config": {
        "plotlyServerURL": "https://plot.ly"
       },
       "_data": [
        {
         "hoverinfo": "none",
         "line": {
          "color": "rgb(31, 119, 180)",
          "dash": "dash",
          "width": 2
         },
         "mode": "lines",
         "name": "2011-08-05 16:26 (Earth)",
         "type": "scatter",
         "uid": "1052627d-466a-431e-8646-8a7b85c203df",
         "x": {
          "dtype": "float64",
          "shape": [
           100
          ]
         },
         "y": {
          "dtype": "float64",
          "shape": [
           100
          ]
         }
        },
        {
         "marker": {
          "color": "rgb(31, 119, 180)",
          "size": 10
         },
         "mode": "markers",
         "name": "2011-08-05 16:26 (Earth)",
         "type": "scatter",
         "uid": "40a32873-a871-440e-8c2f-2b7ec3ffe366",
         "x": {
          "dtype": "float64",
          "shape": [
           1
          ]
         },
         "y": {
          "dtype": "float64",
          "shape": [
           1
          ]
         }
        },
        {
         "hoverinfo": "none",
         "line": {
          "color": "rgb(255, 127, 14)",
          "dash": "solid",
          "width": 2
         },
         "mode": "lines",
         "name": "Inner Cruise 1",
         "type": "scatter",
         "uid": "6e8f1732-1460-4c89-bd94-097877ca1280",
         "x": {
          "dtype": "float64",
          "shape": [
           50
          ]
         },
         "y": {
          "dtype": "float64",
          "shape": [
           50
          ]
         }
        },
        {
         "hoverinfo": "none",
         "line": {
          "color": "rgb(44, 160, 44)",
          "dash": "dash",
          "width": 2
         },
         "mode": "lines",
         "name": "2012-09-01 14:40 (Back to Earth)",
         "type": "scatter",
         "uid": "2057772c-9a8b-45ea-bf43-255b06fb01fa",
         "x": {
          "dtype": "float64",
          "shape": [
           100
          ]
         },
         "y": {
          "dtype": "float64",
          "shape": [
           100
          ]
         }
        },
        {
         "marker": {
          "color": "rgb(44, 160, 44)",
          "size": 10
         },
         "mode": "markers",
         "name": "2012-09-01 14:40 (Back to Earth)",
         "type": "scatter",
         "uid": "41f1d25a-a7af-462b-be90-7730fb0e12d5",
         "x": {
          "dtype": "float64",
          "shape": [
           1
          ]
         },
         "y": {
          "dtype": "float64",
          "shape": [
           1
          ]
         }
        }
       ],
       "_js2py_restyle": {},
       "_js2py_update": {},
       "_last_layout_edit_id": 6,
       "_last_trace_edit_id": 6,
       "_layout": {
        "autosize": true,
        "shapes": [
         {
          "fillcolor": "#ffcc00",
          "line": {
           "color": "#ffcc00"
          },
          "opacity": 1,
          "type": "circle",
          "x0": -21895056.19935296,
          "x1": 21895056.19935296,
          "xref": "x",
          "y0": -21895056.19935296,
          "y1": 21895056.19935296,
          "yref": "y"
         }
        ],
        "template": {},
        "xaxis": {
         "constrain": "domain",
         "title": {
          "text": "x (km)"
         }
        },
        "yaxis": {
         "scaleanchor": "x",
         "title": {
          "text": "y (km)"
         }
        }
       },
       "_py2js_animate": {},
       "_py2js_deleteTraces": {},
       "_py2js_moveTraces": {},
       "_py2js_removeLayoutProps": {},
       "_py2js_removeTraceProps": {},
       "_py2js_restyle": {},
       "_view_count": 0
      }
     },
     "5918559254f94bfcb9e4cd41a6445368": {
      "buffers": [
       {
        "data": "8HSogo9moUEg1g1CaF2hQQqkt+/7QaFBA/FY0GYUoUFMeLrg19SgQSQWS6WQg6BBr2SW5uQgoEH+N861dFqfQcd43HoQUp5B5i22pq0pnUGKzMW+feKbQb+HkQjSfZpBPpoQLhr9mEGZUKzC4mGXQcOBc6rTrZVBO9slZa7ik0Esbtk+TAKSQTUfGGicDpBBHcvX7kMTjEEQEdCs4+qHQetfpThhqINBsTCUYkGgfkGvDaQ+Oc11QesXTVyFwWlBOijvhoQgT0F0r0j3ZX5UwYYzMWfhQWzBI81Sq6wWd8EAWbD2kPd/wbi6wFE7XYTBeOpv1SqriMGTHDwgJ+GMwUACF35sfZDBrTp7LgN6ksF2NapdS2SUwU7F9qZLOpbBTHifjR/6l8HHHjpw+aGZwZehj2QkMJvBoaH9+QWjnMEcnY3gH/mdwVx5DXMRMZ/BXJlJkcwkoMGFffrgyqCgwV0L8NcDDKHB95gt7whmocEMRlJbfa6hweaKQGwW5aHBJaYb2psJosFtjEv/5xuiwWqMS//nG6LBHKYb2psJosHWikBsFuWhwfVFUlt9rqHB2pgt7whmocE7C/DXAwyhwV59+uDKoKDBL5lJkcwkoMH0eA1zETGfwa2cjeAf+Z3BJKH9+QWjnMESoY9kJDCbwTkeOnD5oZnBuHefjR/6l8GoxPamSzqWwdw0ql1LZJTB9jl7LgN6ksGLARd+bH2QwRcbPCAn4YzBD+lv1SqriMEvucBRO12EwfRVsPaQ93/BH8pSq6wWd8FcLTFn4UFswcqiSPdlflTBdUHvhoQgT0GSHU1chcFpQdMQpD45zXVB8TOUYkGgfkF0YaU4YaiDQYIS0Kzj6odBjczX7kMTjEHpHxhonA6QQdhu2T5MApJB6NslZa7ik0FignOq062VQSxRrMLiYZdBu5oQLhr9mEE8iJEI0n2aQf3Mxb594ptBVi62pq0pnUEoedx6EFKeQVU4zrV0Wp9B1GSW5uQgoEFDFkulkIOgQWR4uuDX1KBBF/FY0GYUoUEXpLfv+0GhQSfWDUJoXaFB8HSogo9moUE=",
        "encoding": "base64",
        "path": [
         "_data",
         0,
         "x",
         "value"
        ]
       },
       {
        "data": "AAAAAACuuT4APwYMpQRiQat21KNb+3FBVv/wg9vhekGvfCq2UtaBQXcYzZlUKYZBayFSTH5likG0vpw5coaOQTvQA233Q5FBUrTAiukyk0GUyJxCEQ6VQQlHvceE05ZBS3K6rHCBmEGrJnXFGRaaQUnB6+/ej5tB2HM3wjrtnEGjxvYbxSyeQZt/h5k0TZ9BT6HI868moEEBdcF6H5agQaJT4wJ29KBBDSpKTVJBoUF76jYfZXyhQV1xu5NxpaFBhO1/Wk28oUHGFmHj4MChQfU8unYns6FBOSVCOi+ToUHHsnUiGWGhQTZjn9AYHaFBC6OeXXTHoEEp16URhGCgQUAucxJk0Z9Bg86dj/PAnkG0ZvJwz5CdQfaQVjoxQpxBgQZB2nHWmkFDiClGCE+ZQX7ZBPiHrZdB2TlbTp/zlUGhGqbQFSOUQVJdvlnKPZJBryY/KrFFkEEZNLTJo3mMQYcbYe2KSohBOsOz22cChEGCAUYBSUt/QcahXBaAcXZBnXPOKikBa0FkiQvZ9wZSQVWWC9n3BlLB6HnOKikBa8H3pFwWgHF2wZYERgFJS3/BxcSz22cChMEFHWHtikqIwZQ1tMmjeYzBZCc/KrFFkMEDXr5Zyj2SwUcbptAVI5TBfTpbTp/zlcEV2gT4h62XwdiIKUYIT5nBBwdB2nHWmsF3kVY6MUKcwRxn8nDPkJ3B786dj/PAnsGeLnMSZNGfwVPXpRGEYKDBLaOeXXTHoMFTY5/QGB2hwd6ydSIZYaHBSiVCOi+TocH/PLp2J7OhwcgWYePgwKHBgO1/Wk28ocFVcbuTcaWhwWzqNh9lfKHB9SlKTVJBocGIU+MCdvSgweF0wXoflqDBJqHI868moME/f4eZNE2fwTzG9hvFLJ7BX3M3wjrtnMHLwOvv3o+bwSgmdcUZFprByHG6rHCBmMF5Rr3HhNOWwfvHnEIRDpXBp7PAiukyk8GQzwNt90ORwVW9nDlyho7B/h9STH5lisEAF82ZVCmGwTB7KrZS1oHBWvzwg9vhesGPc9SjW/txwfA4BgylBGLBAAAAAAD+tz4=",
        "encoding": "base64",
        "path": [
         "_data",
         0,
         "y",
         "value"
        ]
       },
       {
        "data": "ietIKgDTncE=",
        "encoding": "base64",
        "path": [
         "_data",
         1,
         "x",
         "value"
        ]
       },
       {
        "data": "L/AASgRalME=",
        "encoding": "base64",
        "path": [
         "_data",
         1,
         "y",
         "value"
        ]
       },
       {
        "data": "D/4BVfb0nMGyhaabg8SawXK+GFE1ZJjB3JQBX4vWlcGrswVmNR6TwSxoauoPPpDBGpwDo0JyisFuwhFmLSWEwVeoQQcCN3vBPWykeXhwa8Fg0i3kJeIBQeDGrHDWnGxBRgsTctG4fEE+tX5p5qmFQatu2gwACI1BvyDGxHo3kkEKUyq6fuuVQc3VoaAmnJlB8qnzupBFnUEzmwJ18XGgQc0hG12nOaJBGyE7sgr4o0GOQm7fRaulQWo3TwyPUadBaCOq/inpqEFgssvtaXCqQfdBkUWz5atBMJ9fV31HrUGb4jj3U5SuQebdPgPZyq9BriAD6uJ0sEFXgRtK9vewQbhECL8cbrFBV8/B/tnWsUHneNjavzGyQWWPXLRufrJB1Sx14JW8skEXDzz98+uyQf0shTZXDLNBSK5Jep0ds0FyIn+ctB+zQRpCNWqaErNBOh/mq1z2skEdVfYWGcuyQcZ4dC79kLJBCKo4E0ZIskGeopZDQPGxQW7o5UpHjLFBQck0YcUZsUHybYv7MpqwQQ==",
        "encoding": "base64",
        "path": [
         "_data",
         2,
         "x",
         "value"
        ]
       },
       {
        "data": "9iNonLCNlcFknSKBSEqYwQGLTVyp3prBKyALfRxIncH+pztbGISfwYWwYqEhyKDB1hFG5jq1ocGHez+RXoiiwZSyLIauQKPBj0N44Wjdo8HUGhDE6F2kwUSf1QCnwaTBJdzQqjoIpcHDI5GDWTGlwQUOR0nYPKXB0alF5KoqpcEWA7tz5PqkwaGbkjm3raTBxP+WZXRDpMGnFArAi7yjwbX3DTSLGaPBmCJaOh5bosFo4NkkDYKhweXU8Us8j6DBaoaUPFYHn8H4iTUo5sCcwYk4JA6NTZrBQDYj4N6vl8F0Rx4YnOqUwVDRFdOuAJLBr996gE/qjcG5lQ7PdZaHwUoIAZZ4DIHBXMUomnGmdMHF3NsZSY5bwcQYT5HLhFxBJugWqR5ZdUGUKdv9ndqBQXU7jd43E4lBrnXPJ2InkEHpJCTI08KTQTV/eGMlWJdBi1R+/pHjmkEtboQGX2GeQVM+0R7w5qBB4c3oy72SokFKeHCCVjKkQcADpREFxKVBFHUA7CJGp0HCKbzjGbeoQQ==",
        "encoding": "base64",
        "path": [
         "_data",
         2,
         "y",
         "value"
        ]
       },
       {
        "data": "1iHMLujpl8Gnfd0DNv2VwVN2rN6Q45PBYFCS9iKfkcHSgIA6hWSOwdaR+avfPonB9A/Ng6PSg8GaJJKPz0p8wQ/zVvwMenDBNDh+K7X8UMGqe/FKaLJgQYrFypEbQnVBXwLsGh03gUFftOcB/ueHQY4xv9HKrI5BpSegqkS/kkFYfrH/GCuWQeStJpVblplB/2RQLob9nEFNSmRjiy6gQZI/EpjJ2KFBv3zJU8Z7o0GIetqv0RWlQX1Ihf1EpaZBKGmveYQoqEEY3lf1AJ6pQdnaE3E5BKtBK/PrqbxZrEELrACWKp2tQY4Pbs81za5BnTD466Tor0EtLQ/gKXewQXrxI0aa7rBBPRZqiShasUH7mPfKZbmxQZR8Et7vC7JBCCVkrXFRskFYBK6So4myQY4vpaBLtLJB4rmo3j3RskFVSBV2XOCyQW8kB9GX4bJBnBlrqu7UskFRjU0PbrqyQZp4ZlExkrJBXiHw6mFcskGYmuVTNxmyQZse1cj2yLFBBjSBA/NrsUGEL5rliwKxQYz55xUujbBBafpJkFIMsEE9QAFS/ACvQb8ZggeC1K1BICVA/muUrEHjSdspBEKrQeakSmCn3qlBVSJG8sNrqEFTa6sx2OqmQSRmY+dwXaVB1IheuifFo0ErnU2JoSOiQStByriMeqBBObZc7z6XnUFDq8f2KzGaQRGB/GthxpZBprPsD2Vak0ENCZC9e+GPQa3dVtrgGYlBDk6Vj/ZkgkFOZ0RlTZN3Qf+rh9ECO2VB/JZuPtZQQMEAaz1t96xswaGo9/jzOnrBTjBXoKDVgsHO85Z/zE2IwehRh0ZagI3B45ttMvczkcHFWcFJvX+TwVsoa4UhoZXBBg3csfGVl8GZUVGPKVyZwUqp/eX08ZrB3GOvaLFVnMFNKgJk8IWdweHHXzh4gZ7B9VhKnUVHn8EGnqKsjNafwf93a9pcF6DBFBaR6LgnoMED1J6jSRygwTCXJao16p/BNw3Mwalkn8GZp9M3eaiewaC2pwlmtp3BoiyEwGmPnMEudTtwtDSbwTtcw32rp5nB1yHMLujpl8E=",
        "encoding": "base64",
        "path": [
         "_data",
         3,
         "x",
         "value"
        ]
       },
       {
        "data": "GSXXRCg/kcFyJ+XG2biTwagLed4kDpbBFxKi16E8mMH0fL3+EEKawZmu6PFcHJzBEJ7TxpzJncEc3LwCFkifwcvSRzEfS6DBQeqmuF7ZoMFLYJH1Nk6hwd6E2HUvqaHB+dYxc+rpocHzOOEzJRCiwVspgU+4G6LBWBmi15cMosHDABdk0+KhwVaC4gKWnqHBoDHVCyZAocGTugrY5MegweSpkF1ONqDBwI08X/EXn8EFb8LHJpOdwczM/LrN35vBVHwD/ab/mcFLUCOBofSXwRF4qWvYwJXBQy8h5pBmk8H0oEDIN+iQwYoQ3S++kIzBIIboxXYTh8HRFy/qQV6BwZoM77UD7nbBOEJjsjGPZcEoHb6LZ6M6QX3PzX4stWxBqs9A/HE8e0GqHykXQSGEQQKsQQGtr4pB8CGXSl2hkEEKAL9y0emTQQq8eJ3QLZdBttxMB/1pmkEtNz/9AJudQZzyaCbJXqBBbX4W1DrnoUECD3b9QGWjQbxgEdZR16RBSMcd5e87pkHJ6baOq5GnQZ02z44k16hBUnBPZAsLqkEiA++qIiyrQcShYGJAOaxBmOeBIU8xrUFQWFE0TxOuQWL3g6NX3q5BSsGqJJeRr0FjPfh4KhawQdK4SMT4VrBBU2ykpvOKsEHtHwWL5bGwQYeYPEymy7BBk4hWXhvYsEHD+vXpN9ewQWgBktn8yLBBaAWE2HitsEHRrehDyISwQYH2Yg0VT7BBm5nfj5YMsEGtugqtInuvQW4wGqytxK5BNYKUMYr2rUExMnW7jBGtQeW4AVahFqxBAMB2qMoGq0HSCGjqIOOpQWLW5cLQrKhBoZyREhplp0EObuGpTg2mQcIM5uzQpqRBJ5b6ZRIzo0ETW9ZIkrOhQdWPiefbKaBB6Qr4NQovnUEu9yNBWfyZQYeYTN3wvpZB0kYlAyh6k0GxRgxGXTGQQXTMwrXmz4lBCQQ1NZtCg0FEjLsQMoN5QbLomAtSTmlBADxu/mAzusDUszrnS9RowaBGXciUhXjBCa7yXrojgsGdraeX09GHwWh0vyM7R43BGCXXRCg/kcE=",
        "encoding": "base64",
        "path": [
         "_data",
         3,
         "y",
         "value"
        ]
       },
       {
        "data": "HtZdBa+ysEE=",
        "encoding": "base64",
        "path": [
         "_data",
         4,
         "x",
         "value"
        ]
       },
       {
        "data": "7222ymt0qEE=",
        "encoding": "base64",
        "path": [
         "_data",
         4,
         "y",
         "value"
        ]
       }
      ],
      "model_module": "plotlywidget",
      "model_module_version": "^0.7.1",
      "model_name": "FigureModel",
      "state": {
       "_config": {
        "plotlyServerURL": "https://plot.ly"
       },
       "_data": [
        {
         "hoverinfo": "none",
         "line": {
          "color": "rgb(31, 119, 180)",
          "dash": "dash",
          "width": 2
         },
         "mode": "lines",
         "name": "2011-08-05 16:26 (Earth)",
         "type": "scatter",
         "uid": "c18c40d7-19c7-437d-8607-6b69ea1e65d2",
         "x": {
          "dtype": "float64",
          "shape": [
           100
          ]
         },
         "y": {
          "dtype": "float64",
          "shape": [
           100
          ]
         }
        },
        {
         "marker": {
          "color": "rgb(31, 119, 180)",
          "size": 10
         },
         "mode": "markers",
         "name": "2011-08-05 16:26 (Earth)",
         "type": "scatter",
         "uid": "723aa31e-47ee-4edb-84db-ba9b1e3427b4",
         "x": {
          "dtype": "float64",
          "shape": [
           1
          ]
         },
         "y": {
          "dtype": "float64",
          "shape": [
           1
          ]
         }
        },
        {
         "hoverinfo": "none",
         "line": {
          "color": "rgb(255, 127, 14)",
          "dash": "solid",
          "width": 2
         },
         "mode": "lines",
         "name": "Inner Cruise 1",
         "type": "scatter",
         "uid": "faaf2794-3fd3-43ce-ad8a-ffa867ac0bb3",
         "x": {
          "dtype": "float64",
          "shape": [
           50
          ]
         },
         "y": {
          "dtype": "float64",
          "shape": [
           50
          ]
         }
        },
        {
         "hoverinfo": "none",
         "line": {
          "color": "rgb(44, 160, 44)",
          "dash": "dash",
          "width": 2
         },
         "mode": "lines",
         "name": "2012-09-01 14:40 (Back to Earth)",
         "type": "scatter",
         "uid": "9a40fe8d-d091-4b70-80be-dcfa99a889a4",
         "x": {
          "dtype": "float64",
          "shape": [
           100
          ]
         },
         "y": {
          "dtype": "float64",
          "shape": [
           100
          ]
         }
        },
        {
         "marker": {
          "color": "rgb(44, 160, 44)",
          "size": 10
         },
         "mode": "markers",
         "name": "2012-09-01 14:40 (Back to Earth)",
         "type": "scatter",
         "uid": "e7604ea5-c2ff-4c22-a576-0c640b3707de",
         "x": {
          "dtype": "float64",
          "shape": [
           1
          ]
         },
         "y": {
          "dtype": "float64",
          "shape": [
           1
          ]
         }
        }
       ],
       "_js2py_pointsCallback": {},
       "_js2py_relayout": {},
       "_js2py_restyle": {},
       "_js2py_update": {},
       "_last_layout_edit_id": 6,
       "_last_trace_edit_id": 6,
       "_layout": {
        "autosize": true,
        "shapes": [
         {
          "fillcolor": "#ffcc00",
          "line": {
           "color": "#ffcc00"
          },
          "opacity": 1,
          "type": "circle",
          "x0": -21895056.19935296,
          "x1": 21895056.19935296,
          "xref": "x",
          "y0": -21895056.19935296,
          "y1": 21895056.19935296,
          "yref": "y"
         }
        ],
        "template": {},
        "xaxis": {
         "constrain": "domain",
         "title": {
          "text": "x (km)"
         }
        },
        "yaxis": {
         "scaleanchor": "x",
         "title": {
          "text": "y (km)"
         }
        }
       },
       "_py2js_animate": {},
       "_py2js_deleteTraces": {},
       "_py2js_moveTraces": {},
       "_py2js_removeLayoutProps": {},
       "_py2js_removeTraceProps": {},
       "_py2js_restyle": {},
       "_view_count": 0
      }
     },
     "674902b77f34466e88ac0507e64f048e": {
      "buffers": [
       {
        "data": "8HSogo9moUEg1g1CaF2hQQukt+/7QaFBA/FY0GYUoUFMeLrg19SgQSUWS6WQg6BBr2SW5uQgoEH+N861dFqfQcd43HoQUp5B5i22pq0pnUGKzMW+feKbQb+HkQjSfZpBPpoQLhr9mEGZUKzC4mGXQcOBc6rTrZVBPdslZa7ik0Enbtk+TAKSQTUfGGicDpBBHcvX7kMTjEEQEdCs4+qHQetfpThhqINBwzCUYkGgfkGvDaQ+Oc11QZEXTVyFwWlBySjvhoQgT0Gar0j3ZX5UwagzMWfhQWzBI81Sq6wWd8H5WLD2kPd/wcC6wFE7XYTBc+pv1SqriMGQHDwgJ+GMwUUCF35sfZDBrTp7LgN6ksF2NapdS2SUwU7F9qZLOpbBSHifjR/6l8HHHjpw+aGZwZehj2QkMJvBpqH9+QWjnMEZnY3gH/mdwVx5DXMRMZ/BW5lJkcwkoMGFffrgyqCgwV0L8NcDDKHB95gt7whmocEMRlJbfa6hweaKQGwW5aHBJaYb2psJosFtjEv/5xuiwWqMS//nG6LBHaYb2psJosHWikBsFuWhwfZFUlt9rqHB2pgt7whmocE6C/DXAwyhwV59+uDKoKDBL5lJkcwkoMH1eA1zETGfwaycjeAf+Z3BJqH9+QWjnMEToY9kJDCbwTkeOnD5oZnBtnefjR/6l8GuxPamSzqWwdI0ql1LZJTB+Dl7LgN6ksGRARd+bH2QwSEbPCAn4YzBA+lv1SqriMEvucBRO12EweRVsPaQ93/BFcpSq6wWd8FZLTFn4UFswQ6jSPdlflTBA0LvhoQgT0HMHU1chcFpQboQpD45zXVBvTOUYkGgfkFvYaU4YaiDQYAS0Kzj6odBjczX7kMTjEHqHxhonA6QQdZu2T5MApJB4NslZa7ik0FhgnOq062VQS9RrMLiYZdBxpoQLhr9mEE8iJEI0n2aQf/Mxb594ptBVC62pq0pnUEoedx6EFKeQVU4zrV0Wp9B1GSW5uQgoEFFFkulkIOgQWZ4uuDX1KBBF/FY0GYUoUEXpLfv+0GhQSbWDUJoXaFB8HSogo9moUE=",
        "encoding": "base64",
        "path": [
         "_data",
         0,
         "x",
         "value"
        ]
       },
       {
        "data": "AAAAAACOuD4APwYMpQRiQZZ21KNb+3FBRv/wg9vhekGvfCq2UtaBQW4YzZlUKYZBayFSTH5likG0vpw5coaOQTvQA233Q5FBT7TAiukyk0GUyJxCEQ6VQQtHvceE05ZBS3K6rHCBmEGsJnXFGRaaQUnB6+/ej5tB1XM3wjrtnEGmxvYbxSyeQZt/h5k0TZ9BT6HI868moEEBdcF6H5agQaJT4wJ29KBBDCpKTVJBoUF76jYfZXyhQV5xu5NxpaFBhO1/Wk28oUHGFmHj4MChQfU8unYns6FBOSVCOi+ToUHHsnUiGWGhQTVjn9AYHaFBDKOeXXTHoEEq16URhGCgQT0ucxJk0Z9Bg86dj/PAnkG0ZvJwz5CdQfaQVjoxQpxBgwZB2nHWmkFDiClGCE+ZQX7ZBPiHrZdB0DlbTp/zlUGkGqbQFSOUQVJdvlnKPZJBtyY/KrFFkEEZNLTJo3mMQX0bYe2KSohBQsOz22cChEFvAUYBSUt/QcahXBaAcXZBnXPOKikBa0FkiQvZ9wZSQTWWC9n3BlLB/HnOKikBa8HvpFwWgHF2wY4ERgFJS3/BwsSz22cChMEIHWHtikqIwZI1tMmjeYzBYyc/KrFFkMEDXr5Zyj2SwUobptAVI5TBfDpbTp/zlcEU2gT4h62XwdSIKUYIT5nBCAdB2nHWmsFzkVY6MUKcwSNn8nDPkJ3B786dj/PAnsGcLnMSZNGfwVHXpRGEYKDBLqOeXXTHoMFTY5/QGB2hwd2ydSIZYaHBSiVCOi+TocH/PLp2J7OhwckWYePgwKHBge1/Wk28ocFVcbuTcaWhwWzqNh9lfKHB9ylKTVJBocGIU+MCdvSgweF0wXoflqDBJqHI868moME9f4eZNE2fwT7G9hvFLJ7BZHM3wjrtnMHNwOvv3o+bwSQmdcUZFprBwHG6rHCBmMF5Rr3HhNOWwfbHnEIRDpXBrLPAiukyk8GQzwNt90ORwVG9nDlyho7B/h9STH5lisH4Fs2ZVCmGwTN7KrZS1oHBMfzwg9vhesGKc9SjW/txwdo4BgylBGLBAAAAAAButz4=",
        "encoding": "base64",
        "path": [
         "_data",
         0,
         "y",
         "value"
        ]
       },
       {
        "data": "ietIKgDTncE=",
        "encoding": "base64",
        "path": [
         "_data",
         1,
         "x",
         "value"
        ]
       },
       {
        "data": "L/AASgRalME=",
        "encoding": "base64",
        "path": [
         "_data",
         1,
         "y",
         "value"
        ]
       },
       {
        "data": "D/4BVfb0nMFnbHoia8qawZp3G3X0cJjB10ZTTf7qlcGjESWKIjuTwTopxDomZJDBjxlUh+3RisHx8jG0TZmEwaIMnWStSXzBVEa7nL/sbcE8U0h58WY0wYzofJ8RcGlB8N7NBJv2ekGX1llITLOEQUDMocWP/ItBJjGYnMqnkUEEj4HpZ1KVQc4DQz5Y+phB61+n0dabnEF2+Ym/khmgQa6cGlFI3qFBKDTsczmao0FvcAGInEulQY3ms86y8KZBZq43N8qHqEGjGw0ePw+qQRlVk/19hatBmOL9DQXprEEcagDTZTiuQTqulpVGcq9BtrAx5LFKsEGqOZuqSNCwQQ2FMeldSbFBjiRTz3S1sUEWHz3xHRSyQfbZ5br3ZLJBfA+T1K6nskGCI8N4/tuyQV9GEbuwAbNBNlPLv54Ys0G2HADksCCzQWDe3NXeGbNBRLRAnS8Es0FSQn2Uud+yQaQDTFGirLJBWgIQfh5rskHo54ujcRuyQS5cROPtvbFBWXbWovNSsUHvhJko8dqwQY2b8iliVrBBwyael56Lr0Ho5JIrm1OuQdrXE7H7Ba1BMKoBEBikq0Fw4UsUXS+qQdGP5vVKqahBpMK6zHMTp0Gt8SnyeW+lQcKyz1EOv6NBsTo+q+4DokGVr4HG4z+gQejmhzp/6ZxBdozs9LZImUGkxt8kLKGVQa4M8Sqj9pFB1ATu+saZjEFCDY+GZ0+FQYeZFr1XK3xB1PtEBhvQa0GALpeXzFv8wIrN+l3ipmvBzKUGVw8ve8GKxUuguBCEwYc/FTGfTorBqdGpG2YlkMFaUU4miv+SwQQVXhPLspXBjuqxU2A8mMFV9JpMrJmawUbAIAo/yJzB/nMwwtjFnsEbBhMTNkigwbTtJUAQE6HBbguRzanCocEWEzy4TVaiwT+pTc9jzaLBDRMNUXEno8GRhmxpGWSjwRSruZEdg6PBvKUR0V2Eo8ECQlbd2GejwY08ghysLaPB+lFbhhPWosFjTqFmaWGiwWfW+f8l0KHBV9z4D98iocFWi8U0R1qgwTiK9Wla7p7BEv4BVfb0nME=",
        "encoding": "base64",
        "path": [
         "_data",
         2,
         "x",
         "value"
        ]
       },
       {
        "data": "9iNonLCNlcFiaAYiZ0OYwVCpE5K80ZrBeC81bA42ncGfbSd/5W2fwYjLsTl8u6DBQdlAE5enocFJl3TqT3qiwT+byofNMqPBo8XzvVHQo8G7IN4tOlKkwe0cFe4AuKTBoaHLFD0BpcGhpwEkoy2lwdfhVVcFPaXB3jwz01MvpcGOkym1nASlweG+YAUMvaTB+AA1ietYpMHolCt3otijwcfGjQy1PKPBXEAYBcSFosHSDkv1i7ShwYksBYjkyaDBEeNnQH+Nn8EzKve+UFidwd+OsyWE9prBcnu8DI5qmMHrcV2CDreVwXkASVbO3pLBgXehdXjJj8GFWR9+05eJwWbDSUoQL4PBnnEDX5QrecGvQ1ITOktnwTTBbQCmLkFBltoJtIgocEEgrQeSDVR+QVEKZgPkTIZBnB5c3YB1jUGcvA0fPk6SQXVcmF073ZVBo0ELGQ1kmUF2lR2sEN+cQYleas5XJaBB37Wmp7HRoUFstRRU3HKjQf19cc0pB6VBf7ktUPmMpkEskwkJuQKoQRiBSrPnZqlBKuXfJRa4qkEGI93N6PSrQbkGwxQZHK1B1ycnsXYsrkENQV7g6CSvQYgT88M3ArBBroSyHhJlsEFC7RaanbqwQbuEqgeCArFBrn6+S3U8sUG/ds+pO2ixQRdLGQKohbFB8usaAJyUsUFDLdo5CJWxQfVfxz/shrFB8FEwnVZqsUEIPkLJZD+xQacgqghDBrFBCsDyPyy/sEFtcs+2aWqwQVA2ksxSCLBBRPU1PJkyr0Gl3Dk7kzuuQbGQSjmSLK1Bfki6ka0GrEGqeRs4FMuqQRDi9n8Le6lBaw9xze0XqEHcFTkwKaOmQYSHMOo9HqVBCKdR47yKo0EQJGwMRuqhQXNhYrKGPqBB8n5Ch28SnUEbKzUTOJiZQW/HLbD8EZZBVnh6aF+DkkG3xePUFeCNQYekrIFdt4ZBzF7YGO4nf0H58c5cfPpwQfRqOPQYqEdBkL8pDRO0ZcHvhiCRbWR4wSLJB+MZzoLBflkFCt45icHdgYHP5G6PwcdWYBlks5LB8yNonLCNlcE=",
        "encoding": "base64",
        "path": [
         "_data",
         2,
         "y",
         "value"
        ]
       },
       {
        "data": "ietIKgDTncE=",
        "encoding": "base64",
        "path": [
         "_data",
         3,
         "x",
         "value"
        ]
       },
       {
        "data": "L/AASgRalME=",
        "encoding": "base64",
        "path": [
         "_data",
         3,
         "y",
         "value"
        ]
       }
      ],
      "model_module": "plotlywidget",
      "model_module_version": "^0.7.1",
      "model_name": "FigureModel",
      "state": {
       "_config": {
        "plotlyServerURL": "https://plot.ly"
       },
       "_data": [
        {
         "hoverinfo": "none",
         "line": {
          "color": "rgb(31, 119, 180)",
          "dash": "dash",
          "width": 2
         },
         "mode": "lines",
         "name": "2011-08-05 16:26",
         "type": "scatter",
         "uid": "70632226-53fd-413d-8b32-c19035492e1b",
         "x": {
          "dtype": "float64",
          "shape": [
           100
          ]
         },
         "y": {
          "dtype": "float64",
          "shape": [
           100
          ]
         }
        },
        {
         "marker": {
          "color": "rgb(31, 119, 180)",
          "size": 10
         },
         "mode": "markers",
         "name": "2011-08-05 16:26",
         "type": "scatter",
         "uid": "7a573624-5f06-4b80-a6fe-0a44a04af4f2",
         "x": {
          "dtype": "float64",
          "shape": [
           1
          ]
         },
         "y": {
          "dtype": "float64",
          "shape": [
           1
          ]
         }
        },
        {
         "hoverinfo": "none",
         "line": {
          "color": "rgb(255, 127, 14)",
          "dash": "dash",
          "width": 2
         },
         "mode": "lines",
         "name": "2011-08-05 16:26",
         "type": "scatter",
         "uid": "571d3079-4d0e-401c-8134-fd981e767ebf",
         "x": {
          "dtype": "float64",
          "shape": [
           100
          ]
         },
         "y": {
          "dtype": "float64",
          "shape": [
           100
          ]
         }
        },
        {
         "marker": {
          "color": "rgb(255, 127, 14)",
          "size": 10
         },
         "mode": "markers",
         "name": "2011-08-05 16:26",
         "type": "scatter",
         "uid": "d8973d07-3f73-4aac-82c5-724d3984740c",
         "x": {
          "dtype": "float64",
          "shape": [
           1
          ]
         },
         "y": {
          "dtype": "float64",
          "shape": [
           1
          ]
         }
        }
       ],
       "_js2py_pointsCallback": {},
       "_js2py_relayout": {},
       "_js2py_restyle": {},
       "_js2py_update": {},
       "_last_layout_edit_id": 5,
       "_last_trace_edit_id": 5,
       "_layout": {
        "autosize": true,
        "shapes": [
         {
          "fillcolor": "#ffcc00",
          "line": {
           "color": "#ffcc00"
          },
          "opacity": 1,
          "type": "circle",
          "x0": -21895056.19935296,
          "x1": 21895056.19935296,
          "xref": "x",
          "y0": -21895056.19935296,
          "y1": 21895056.19935296,
          "yref": "y"
         }
        ],
        "template": {},
        "xaxis": {
         "constrain": "domain",
         "title": "x (km)"
        },
        "yaxis": {
         "scaleanchor": "x",
         "title": "y (km)"
        }
       },
       "_py2js_animate": {},
       "_py2js_deleteTraces": {},
       "_py2js_moveTraces": {},
       "_py2js_removeLayoutProps": {},
       "_py2js_removeTraceProps": {},
       "_py2js_restyle": {},
       "_view_count": 1
      }
     },
     "67a42927ba94430fb7945cd101fadd32": {
      "buffers": [
       {
        "data": "8HSogo9moUEg1g1CaF2hQQqkt+/7QaFBA/FY0GYUoUFMeLrg19SgQSQWS6WQg6BBr2SW5uQgoEH+N861dFqfQcd43HoQUp5B5i22pq0pnUGKzMW+feKbQb+HkQjSfZpBPpoQLhr9mEGZUKzC4mGXQcOBc6rTrZVBO9slZa7ik0Esbtk+TAKSQTUfGGicDpBBHcvX7kMTjEEQEdCs4+qHQetfpThhqINBsTCUYkGgfkGvDaQ+Oc11QesXTVyFwWlBOijvhoQgT0F0r0j3ZX5UwYYzMWfhQWzBI81Sq6wWd8EAWbD2kPd/wbi6wFE7XYTBeOpv1SqriMGTHDwgJ+GMwUACF35sfZDBrTp7LgN6ksF2NapdS2SUwU7F9qZLOpbBTHifjR/6l8HHHjpw+aGZwZehj2QkMJvBoaH9+QWjnMEcnY3gH/mdwVx5DXMRMZ/BXJlJkcwkoMGFffrgyqCgwV0L8NcDDKHB95gt7whmocEMRlJbfa6hweaKQGwW5aHBJaYb2psJosFtjEv/5xuiwWqMS//nG6LBHKYb2psJosHWikBsFuWhwfVFUlt9rqHB2pgt7whmocE7C/DXAwyhwV59+uDKoKDBL5lJkcwkoMH0eA1zETGfwa2cjeAf+Z3BJKH9+QWjnMESoY9kJDCbwTkeOnD5oZnBuHefjR/6l8GoxPamSzqWwdw0ql1LZJTB9jl7LgN6ksGLARd+bH2QwRcbPCAn4YzBD+lv1SqriMEvucBRO12EwfRVsPaQ93/BH8pSq6wWd8FcLTFn4UFswcqiSPdlflTBdUHvhoQgT0GSHU1chcFpQdMQpD45zXVB8TOUYkGgfkF0YaU4YaiDQYIS0Kzj6odBjczX7kMTjEHpHxhonA6QQdhu2T5MApJB6NslZa7ik0FignOq062VQSxRrMLiYZdBu5oQLhr9mEE8iJEI0n2aQf3Mxb594ptBVi62pq0pnUEoedx6EFKeQVU4zrV0Wp9B1GSW5uQgoEFDFkulkIOgQWR4uuDX1KBBF/FY0GYUoUEXpLfv+0GhQSfWDUJoXaFB8HSogo9moUE=",
        "encoding": "base64",
        "path": [
         "_data",
         0,
         "x",
         "value"
        ]
       },
       {
        "data": "AAAAAACuuT4APwYMpQRiQat21KNb+3FBVv/wg9vhekGvfCq2UtaBQXcYzZlUKYZBayFSTH5likG0vpw5coaOQTvQA233Q5FBUrTAiukyk0GUyJxCEQ6VQQlHvceE05ZBS3K6rHCBmEGrJnXFGRaaQUnB6+/ej5tB2HM3wjrtnEGjxvYbxSyeQZt/h5k0TZ9BT6HI868moEEBdcF6H5agQaJT4wJ29KBBDSpKTVJBoUF76jYfZXyhQV1xu5NxpaFBhO1/Wk28oUHGFmHj4MChQfU8unYns6FBOSVCOi+ToUHHsnUiGWGhQTZjn9AYHaFBC6OeXXTHoEEp16URhGCgQUAucxJk0Z9Bg86dj/PAnkG0ZvJwz5CdQfaQVjoxQpxBgQZB2nHWmkFDiClGCE+ZQX7ZBPiHrZdB2TlbTp/zlUGhGqbQFSOUQVJdvlnKPZJBryY/KrFFkEEZNLTJo3mMQYcbYe2KSohBOsOz22cChEGCAUYBSUt/QcahXBaAcXZBnXPOKikBa0FkiQvZ9wZSQVWWC9n3BlLB6HnOKikBa8H3pFwWgHF2wZYERgFJS3/BxcSz22cChMEFHWHtikqIwZQ1tMmjeYzBZCc/KrFFkMEDXr5Zyj2SwUcbptAVI5TBfTpbTp/zlcEV2gT4h62XwdiIKUYIT5nBBwdB2nHWmsF3kVY6MUKcwRxn8nDPkJ3B786dj/PAnsGeLnMSZNGfwVPXpRGEYKDBLaOeXXTHoMFTY5/QGB2hwd6ydSIZYaHBSiVCOi+TocH/PLp2J7OhwcgWYePgwKHBgO1/Wk28ocFVcbuTcaWhwWzqNh9lfKHB9SlKTVJBocGIU+MCdvSgweF0wXoflqDBJqHI868moME/f4eZNE2fwTzG9hvFLJ7BX3M3wjrtnMHLwOvv3o+bwSgmdcUZFprByHG6rHCBmMF5Rr3HhNOWwfvHnEIRDpXBp7PAiukyk8GQzwNt90ORwVW9nDlyho7B/h9STH5lisEAF82ZVCmGwTB7KrZS1oHBWvzwg9vhesGPc9SjW/txwfA4BgylBGLBAAAAAAD+tz4=",
        "encoding": "base64",
        "path": [
         "_data",
         0,
         "y",
         "value"
        ]
       },
       {
        "data": "ietIKgDTncE=",
        "encoding": "base64",
        "path": [
         "_data",
         1,
         "x",
         "value"
        ]
       },
       {
        "data": "L/AASgRalME=",
        "encoding": "base64",
        "path": [
         "_data",
         1,
         "y",
         "value"
        ]
       },
       {
        "data": "D/4BVfb0nMGyhaabg8SawXK+GFE1ZJjB3JQBX4vWlcGrswVmNR6TwSxoauoPPpDBGpwDo0JyisFuwhFmLSWEwVeoQQcCN3vBPWykeXhwa8Fg0i3kJeIBQeDGrHDWnGxBRgsTctG4fEE+tX5p5qmFQatu2gwACI1BvyDGxHo3kkEKUyq6fuuVQc3VoaAmnJlB8qnzupBFnUEzmwJ18XGgQc0hG12nOaJBGyE7sgr4o0GOQm7fRaulQWo3TwyPUadBaCOq/inpqEFgssvtaXCqQfdBkUWz5atBMJ9fV31HrUGb4jj3U5SuQebdPgPZyq9BriAD6uJ0sEFXgRtK9vewQbhECL8cbrFBV8/B/tnWsUHneNjavzGyQWWPXLRufrJB1Sx14JW8skEXDzz98+uyQf0shTZXDLNBSK5Jep0ds0FyIn+ctB+zQRpCNWqaErNBOh/mq1z2skEdVfYWGcuyQcZ4dC79kLJBCKo4E0ZIskGeopZDQPGxQW7o5UpHjLFBQck0YcUZsUHybYv7MpqwQQ==",
        "encoding": "base64",
        "path": [
         "_data",
         2,
         "x",
         "value"
        ]
       },
       {
        "data": "9iNonLCNlcFknSKBSEqYwQGLTVyp3prBKyALfRxIncH+pztbGISfwYWwYqEhyKDB1hFG5jq1ocGHez+RXoiiwZSyLIauQKPBj0N44Wjdo8HUGhDE6F2kwUSf1QCnwaTBJdzQqjoIpcHDI5GDWTGlwQUOR0nYPKXB0alF5KoqpcEWA7tz5PqkwaGbkjm3raTBxP+WZXRDpMGnFArAi7yjwbX3DTSLGaPBmCJaOh5bosFo4NkkDYKhweXU8Us8j6DBaoaUPFYHn8H4iTUo5sCcwYk4JA6NTZrBQDYj4N6vl8F0Rx4YnOqUwVDRFdOuAJLBr996gE/qjcG5lQ7PdZaHwUoIAZZ4DIHBXMUomnGmdMHF3NsZSY5bwcQYT5HLhFxBJugWqR5ZdUGUKdv9ndqBQXU7jd43E4lBrnXPJ2InkEHpJCTI08KTQTV/eGMlWJdBi1R+/pHjmkEtboQGX2GeQVM+0R7w5qBB4c3oy72SokFKeHCCVjKkQcADpREFxKVBFHUA7CJGp0HCKbzjGbeoQQ==",
        "encoding": "base64",
        "path": [
         "_data",
         2,
         "y",
         "value"
        ]
       },
       {
        "data": "7oTUjFTJsEHI4+zFmS+wQUA/uIncCa9ByK2cYbyUrUFg5MlSHQKsQejnU/R3VKpBz2E2U2+OqEGGgLTNzLKmQWq1hLJ7xKRBxVapqoTGokGZ8yr1CLygQXU7Y/h6UJ1BqT5ulsscmUFpP3ncneOUQciuJISUq5BB3qpd96D2iEGpm4r3zLKAQdNCFcJSMXFBgHhveiGeNkG8EY/C2q9rwaP3i+4ifHzBg7tSut41hcHyBsrNa8iLwYIMdo2y9ZDBSkDjLJPKk8HRTajbZF6WwWweJegarZjBdLdyNRWzmsG/e57tJW2cwaenWICW2J3Bhv885ivznsEuFAMiKrufwXc9Cn2rF6DBYncg830noMGaVESX8wygwTtZOjlskJ/B4fvpB2OznsEJeA7kJoSdwQo5Wz2UBJzB2xgvvQU3msHhurCTUB6YwaoTaATAvZXBSlFTORAZk8E20phkaDSQwW8gHXSoKIrBoTKvlXl7g8F3REE5g9d4wV9cRSNjEmTBTrcPGvpyVUFkxcqRG0J1QQ==",
        "encoding": "base64",
        "path": [
         "_data",
         3,
         "x",
         "value"
        ]
       },
       {
        "data": "omq6xIU2qEHEJGfSI7upQblMC4uTI6tBRahDn55trEEmDHWAPpetQbNRi4+fnq5Bft6w+yOCr0H8Lj4mMyCwQeGQy8kdbLBBRto0oVqksEEiV3ZQkciwQVRxqPGI2LBBQFVlbijUsEFPrjOndruwQeSMuGiajrBBA3DBLtpNsEFqdAxrN/OvQXkhorPGJK9BFJQOkqYxrkHAVrQEVRutQYOfX1WH46tB6G03aieMqkECdwXEUBepQSQ9ji5Nh6dB9yQtKJHepUFFoVoGuB+kQVb1K91/TaJBPvA7MMVqoEEakIPn/PScQdq9zMlu/5hB24VQgRj7lEHlkabBSe6QQfhh5Rq/volBrrbabXSpgUEwDuJszVJzQcj/xwd9skxBDILNGa6TZ8EM6OY2frV6wTLHokCaioTBkTzFNzJpi8E2vxH43fWQwQMR6H3+A5TBPIrW0C3alsEmu3j59nOZwWZePuZDzZvBw/b61mPincHpI0UpEbCfwZO8RD67maDBioXekhk1ocHdhNh1L6mhwQ==",
        "encoding": "base64",
        "path": [
         "_data",
         3,
         "y",
         "value"
        ]
       },
       {
        "data": "4QfieSMpd8EHcIBI9+FBwStw/kCQ6nJB260R7oQahEFaka8dZMaOQcAFHO/VtpRB1i6GmZMCmkE2Iw/f2ECfQdKxIN4QNqJBLzNNE3+/pEGep3TiCzqnQdZKU8Ybo6lBV0kunyX4q0GKyq1dtTauQa40x0s3LrBBn4q5gYczsUFmQJ1sOCqyQTQWLIpGEbNBpVPoyr7ns0EgVs2Rv6y0QVaTpaF5X7VBEWUM9zD/tUG4SDaOPYu2QWaDrxMMA7dBCD1Xfx5mt0HcCfSYDLS3QXxq1mWE7LdBPu0Vf0oPuEEoOQ5QOhy4QdhF2jxGE7hBgEWlsHf0t0GeMcIT77+3QZxmlKnjdbdBNCttVqMWt0FlS5tNkqK2QVT5AqgqGrZBC9as4/t9tUHWP9NMqs60QZGwDFHuDLRBbvxIvZM5s0HhiG3neFWyQeACcsSNYbFB3J7z69JesEEn2pAUsZyuQfZpXYR6YqxBuxGL/lkRqkGGiBd1v6unQYC0YmQwNKVB6l8oLEWtokECVZtUphmgQQ==",
        "encoding": "base64",
        "path": [
         "_data",
         4,
         "x",
         "value"
        ]
       },
       {
        "data": "qNW4hLc3ocEpWyuHpIqhwRwJxP7OoaHBG0fnjB59ocHqXwzKuRyhwVipIx0GgaDBOY/VoU5Vn8FshT7P/TSdwT1eiVtWo5rBiu7vGQyjl8GpMBlARzeUwRU75ROhY5DBdCmSREBYiMFwmdcM0FR+wYCv/3eFHWXBcEePrrQZZUEhY+1l6XOAQT1CpCZRNYxB36Y9VCM/lEFSw6nG7qCaQdoXoB2qnKBBUSEwybEApEHr0UNE/XinQfnovBvmAatB578gYrSXrkGp6H1MURuxQWdWRdRw7bJBzfO9cE7AtEEH/0kC/5G2QSTz+qWYYLhBt63ouDQqukHyUh3Y8ey7QRhr+9r1pr1BXIMJxm9Wv0GHTQvazHzAQdVn2lldR8FBh/6JSxQKwkGPLiraJMTCQcPEPErLdMNB/kOcx00bxEGY1vco/bbEQSOHFqg1R8VBVuofjl/LxUGJ/TTT70LGQWtWsbBorcZBCsl6JVoKx0G4VNRrYlnHQadlOGAumsdB4zjO2HnMx0HUYR7tD/DHQQ==",
        "encoding": "base64",
        "path": [
         "_data",
         4,
         "y",
         "value"
        ]
       },
       {
        "data": "8zXn/CYxj0HY2O+snT6bQV1tgy3cY6NB2y2FtP8TqUExh4dm3KmuQWFpXyrYD7JBLQXzSu23tEH5qsiJcEq3QSG1vRe7xLlBKPB9HT8kvEG09oFdima+QW/8zFykRMBBfb+1TCNFwUGmXLSXuTPCQbs+9UxxD8NBN4Ud72fXw0HMc8Ndz4rEQflE6anuKMVBJFif1CKxxUH7OAl33yLGQW1NGFOvfcZBXvlmzDTBxkGMo7dIKu3GQS0jtHdiAcdBtqCjgcj9xkFVw+YcYOLGQYoFJIpFr8ZBiiIod61kxkH+oZjI5ALGQdt7sEpQisVBTYlYSWz7xEHT3QYQzFbEQXQc6VEZncNBpEz2ehPPwkExgZzqju3BQY641Rh0+cBBNUILTX3nv0FBjC60+Lq9QXYNzBKYb7tBzv8g5LgHuUEGZ8wC1oW2Qds6YxqF7LNBNARg/XM+sUG0BlrEy/ysQe0/QxRhXqdBETnFqnKnoUHp86AaybuXQR488c+3HohBADA1npFpNUGFMHMfg8qGwYQV1SREFZfBlagknypXocE7tQQkQBKnwdx/ulP6tazBFv5KekQescGRxk/vHNCzwT6rWG2/bbbBNBNCrnn0uMGkXeQIsWG7wd43SSDlsr3B0kLFd7Llv8GyyqZ06vvAwf+sv/2U88HBdId4itnYwsHiXkTFy6rDwXhMXEOTaMTBpt/VY2wRxcHqm0sZqaTFwYWzR52xIcbBMQy4DAWIxsGNR8rsOdfGwQ3bppf+DsfBHiKbkBkvx8GjqFu/aTfHwaKXIZLmJ8fB0RmABqAAx8GonOiYvsHGwQ3s7hqDa8bBYy14cEb+xcHDmhk0eXrFwSJyBUOj4MTBcr/9MGMxxMFmYN2kbW3DwfLBX56MlcLBok3npZ6qwcFaKxnnla3AwTmadW7uPr/B9DOlELICvcHXv0GUxKi6wV7aMXSSM7jBkm0nR6SltcFjaAsjnAGzwYISIeYySrDBLoNa0WoEq8HH2ws0A1mlwS90DzAOMJ/BzAuJv8mOk8G603N62Gh/wd4VhBjeDG9BzDTn/CYxj0E=",
        "encoding": "base64",
        "path": [
         "_data",
         5,
         "x",
         "value"
        ]
       },
       {
        "data": "0XYPwCPjxcHbPvjT+bXFwTCZXc08ccXBUqukhzMVxcE/qkXiPKLEwbPN/17PGMTB1YGwp3h5w8G1w0v83MTCwZYwjIm2+8HB708JqdQewcH063kLGy/Awe2Z/ZsBW77BaJHP9h42vMH1dPP0w/G5wcgbn9RGkLfBdPAF3BsUtcErcbXR0n+ywRauMLEorK/By26yZD4zqsH0t+/VipqkwZRD8MGlz53B45gUZ+xBksHTvGz4SV96wU0q3VaHinRB1girlVnhkEHsbPhdOZicQWyFWfCWHaRBL4QvLBzfqUEDBK5yvYqvQWupWTJRjbJBdx8lnYdEtUG1q9dVNei3QQvhYtuhdbpBqVOEnSvqvEEzgRizSkO/QU8Y/rpJv8BBs+nlgNzMwUFNPHfJR8nCQWJIvWGHs8NB4vrS0amKxEEhH8xV0U3FQcYYT8I0/MVB54jzUyCVxkFKG5Bo9hfHQcR3uCEwhMdB7tfD713Zx0FC8cwEKBfIQceoNK9OPchBD0NKm6pLyEF3YtX7LELIQbYJWJnfIMhBhOj4x+Tnx0FYVyBEd5fHQa587PXpL8dBVwW7m6exxkF7iCBcMh3GQfQDvz8jc8VBX72Fkym0xEFyJP0zCuHDQb78WMKe+sJBsv0hxNQBwkGCKV6urPfAQXp8aLpxur9BJ4g18jhnvUHIgGyVFPi6QRLhN/2Gb7hBvA9+tCzQtUFRcrvGuRyzQZp3ovb2V7BBKvLBvn0Jq0F7owAH9kulQfcBojGD+p5B6w569rlGk0H87yvugSJ+QTGpJfq5znDB1uCHHzTEj8GPoyOhl3abwYO/H6ubcqPBLlGpLRgRqcGF74WF9pCuweC/5rdF9rHB1h+riCiPtMHq3RFUdhC3wXtGNAiad7nBySO1ixnCu8HPXGVLmO29wZxyeanZ97/BT7fmpWHvwMGrZ2ujL9DBwVwyhBFvncLBhmNJXUxWw8Egd8r2CPrDwSyjfRX8h8TB0yM8ZpP/xMGR7xeiU2DFwQZYbw3ZqcXB4Ji73tfbxcFUW7CMHPbFwR6mWwOM+MXB03YPwCPjxcE=",
        "encoding": "base64",
        "path": [
         "_data",
         5,
         "y",
         "value"
        ]
       },
       {
        "data": "tB0MCD3XokE=",
        "encoding": "base64",
        "path": [
         "_data",
         6,
         "x",
         "value"
        ]
       },
       {
        "data": "Eqfqa6/Jx0E=",
        "encoding": "base64",
        "path": [
         "_data",
         6,
         "y",
         "value"
        ]
       }
      ],
      "model_module": "plotlywidget",
      "model_module_version": "^0.7.1",
      "model_name": "FigureModel",
      "state": {
       "_config": {
        "plotlyServerURL": "https://plot.ly"
       },
       "_data": [
        {
         "hoverinfo": "none",
         "line": {
          "color": "rgb(31, 119, 180)",
          "dash": "dash",
          "width": 2
         },
         "mode": "lines",
         "name": "2011-08-05 16:26 (Earth)",
         "type": "scatter",
         "uid": "7f230d7b-c404-46e6-9916-27e50a520cfa",
         "x": {
          "dtype": "float64",
          "shape": [
           100
          ]
         },
         "y": {
          "dtype": "float64",
          "shape": [
           100
          ]
         }
        },
        {
         "marker": {
          "color": "rgb(31, 119, 180)",
          "size": 10
         },
         "mode": "markers",
         "name": "2011-08-05 16:26 (Earth)",
         "type": "scatter",
         "uid": "cb1b764c-8e62-4c37-ac5c-822b1fc7af97",
         "x": {
          "dtype": "float64",
          "shape": [
           1
          ]
         },
         "y": {
          "dtype": "float64",
          "shape": [
           1
          ]
         }
        },
        {
         "hoverinfo": "none",
         "line": {
          "color": "rgb(255, 127, 14)",
          "dash": "solid",
          "width": 2
         },
         "mode": "lines",
         "name": "Inner Cruise 1",
         "type": "scatter",
         "uid": "9bc2a69e-6e88-46c5-8012-378262f8bffa",
         "x": {
          "dtype": "float64",
          "shape": [
           50
          ]
         },
         "y": {
          "dtype": "float64",
          "shape": [
           50
          ]
         }
        },
        {
         "hoverinfo": "none",
         "line": {
          "color": "rgb(44, 160, 44)",
          "dash": "solid",
          "width": 2
         },
         "mode": "lines",
         "name": "Back to Earth",
         "type": "scatter",
         "uid": "b09f8148-7302-49d0-8c3c-ae41f7ac74be",
         "x": {
          "dtype": "float64",
          "shape": [
           50
          ]
         },
         "y": {
          "dtype": "float64",
          "shape": [
           50
          ]
         }
        },
        {
         "hoverinfo": "none",
         "line": {
          "color": "rgb(214, 39, 40)",
          "dash": "solid",
          "width": 2
         },
         "mode": "lines",
         "name": "Jupiter Orbit Insertion Phase",
         "type": "scatter",
         "uid": "9e40e306-3df1-48e9-ab97-1c1aab9cd514",
         "x": {
          "dtype": "float64",
          "shape": [
           50
          ]
         },
         "y": {
          "dtype": "float64",
          "shape": [
           50
          ]
         }
        },
        {
         "hoverinfo": "none",
         "line": {
          "color": "rgb(148, 103, 189)",
          "dash": "dash",
          "width": 2
         },
         "mode": "lines",
         "name": "2016-07-05 03:19 (Jupiter)",
         "type": "scatter",
         "uid": "589ccfb9-36d8-4be0-b929-23ff747961de",
         "x": {
          "dtype": "float64",
          "shape": [
           100
          ]
         },
         "y": {
          "dtype": "float64",
          "shape": [
           100
          ]
         }
        },
        {
         "marker": {
          "color": "rgb(148, 103, 189)",
          "size": 10
         },
         "mode": "markers",
         "name": "2016-07-05 03:19 (Jupiter)",
         "type": "scatter",
         "uid": "c2f2ef29-9606-40e6-bcb1-33b3bbf14596",
         "x": {
          "dtype": "float64",
          "shape": [
           1
          ]
         },
         "y": {
          "dtype": "float64",
          "shape": [
           1
          ]
         }
        }
       ],
       "_js2py_restyle": {},
       "_js2py_update": {},
       "_last_layout_edit_id": 10,
       "_last_trace_edit_id": 8,
       "_layout": {
        "autosize": true,
        "shapes": [
         {
          "fillcolor": "#ffcc00",
          "line": {
           "color": "#ffcc00"
          },
          "opacity": 1,
          "type": "circle",
          "x0": -21895056.19935296,
          "x1": 21895056.19935296,
          "xref": "x",
          "y0": -21895056.19935296,
          "y1": 21895056.19935296,
          "yref": "y"
         }
        ],
        "template": {},
        "xaxis": {
         "constrain": "domain",
         "range": [
          -35957979.545870095,
          94863020.33044475
         ],
         "title": {
          "text": "x (km)"
         }
        },
        "yaxis": {
         "range": [
          -173255457.58675092,
          -25556432.872908443
         ],
         "scaleanchor": "x",
         "title": {
          "text": "y (km)"
         }
        }
       },
       "_py2js_animate": {},
       "_py2js_deleteTraces": {},
       "_py2js_moveTraces": {},
       "_py2js_removeLayoutProps": {},
       "_py2js_removeTraceProps": {},
       "_py2js_restyle": {},
       "_view_count": 0
      }
     },
     "6c522899630244208c88be9415c5acaf": {
      "buffers": [
       {
        "data": "8HSogo9moUEg1g1CaF2hQQqkt+/7QaFBA/FY0GYUoUFMeLrg19SgQSQWS6WQg6BBr2SW5uQgoEH+N861dFqfQcd43HoQUp5B5i22pq0pnUGKzMW+feKbQb+HkQjSfZpBPpoQLhr9mEGZUKzC4mGXQcOBc6rTrZVBO9slZa7ik0Esbtk+TAKSQTUfGGicDpBBHcvX7kMTjEEQEdCs4+qHQetfpThhqINBsTCUYkGgfkGvDaQ+Oc11QesXTVyFwWlBOijvhoQgT0F0r0j3ZX5UwYYzMWfhQWzBI81Sq6wWd8EAWbD2kPd/wbi6wFE7XYTBeOpv1SqriMGTHDwgJ+GMwUACF35sfZDBrTp7LgN6ksF2NapdS2SUwU7F9qZLOpbBTHifjR/6l8HHHjpw+aGZwZehj2QkMJvBoaH9+QWjnMEcnY3gH/mdwVx5DXMRMZ/BXJlJkcwkoMGFffrgyqCgwV0L8NcDDKHB95gt7whmocEMRlJbfa6hweaKQGwW5aHBJaYb2psJosFtjEv/5xuiwWqMS//nG6LBHKYb2psJosHWikBsFuWhwfVFUlt9rqHB2pgt7whmocE7C/DXAwyhwV59+uDKoKDBL5lJkcwkoMH0eA1zETGfwa2cjeAf+Z3BJKH9+QWjnMESoY9kJDCbwTkeOnD5oZnBuHefjR/6l8GoxPamSzqWwdw0ql1LZJTB9jl7LgN6ksGLARd+bH2QwRcbPCAn4YzBD+lv1SqriMEvucBRO12EwfRVsPaQ93/BH8pSq6wWd8FcLTFn4UFswcqiSPdlflTBdUHvhoQgT0GSHU1chcFpQdMQpD45zXVB8TOUYkGgfkF0YaU4YaiDQYIS0Kzj6odBjczX7kMTjEHpHxhonA6QQdhu2T5MApJB6NslZa7ik0FignOq062VQSxRrMLiYZdBu5oQLhr9mEE8iJEI0n2aQf3Mxb594ptBVi62pq0pnUEoedx6EFKeQVU4zrV0Wp9B1GSW5uQgoEFDFkulkIOgQWR4uuDX1KBBF/FY0GYUoUEXpLfv+0GhQSfWDUJoXaFB8HSogo9moUE=",
        "encoding": "base64",
        "path": [
         "_data",
         0,
         "x",
         "value"
        ]
       },
       {
        "data": "AAAAAACuuT4APwYMpQRiQat21KNb+3FBVv/wg9vhekGvfCq2UtaBQXcYzZlUKYZBayFSTH5likG0vpw5coaOQTvQA233Q5FBUrTAiukyk0GUyJxCEQ6VQQlHvceE05ZBS3K6rHCBmEGrJnXFGRaaQUnB6+/ej5tB2HM3wjrtnEGjxvYbxSyeQZt/h5k0TZ9BT6HI868moEEBdcF6H5agQaJT4wJ29KBBDSpKTVJBoUF76jYfZXyhQV1xu5NxpaFBhO1/Wk28oUHGFmHj4MChQfU8unYns6FBOSVCOi+ToUHHsnUiGWGhQTZjn9AYHaFBC6OeXXTHoEEp16URhGCgQUAucxJk0Z9Bg86dj/PAnkG0ZvJwz5CdQfaQVjoxQpxBgQZB2nHWmkFDiClGCE+ZQX7ZBPiHrZdB2TlbTp/zlUGhGqbQFSOUQVJdvlnKPZJBryY/KrFFkEEZNLTJo3mMQYcbYe2KSohBOsOz22cChEGCAUYBSUt/QcahXBaAcXZBnXPOKikBa0FkiQvZ9wZSQVWWC9n3BlLB6HnOKikBa8H3pFwWgHF2wZYERgFJS3/BxcSz22cChMEFHWHtikqIwZQ1tMmjeYzBZCc/KrFFkMEDXr5Zyj2SwUcbptAVI5TBfTpbTp/zlcEV2gT4h62XwdiIKUYIT5nBBwdB2nHWmsF3kVY6MUKcwRxn8nDPkJ3B786dj/PAnsGeLnMSZNGfwVPXpRGEYKDBLaOeXXTHoMFTY5/QGB2hwd6ydSIZYaHBSiVCOi+TocH/PLp2J7OhwcgWYePgwKHBgO1/Wk28ocFVcbuTcaWhwWzqNh9lfKHB9SlKTVJBocGIU+MCdvSgweF0wXoflqDBJqHI868moME/f4eZNE2fwTzG9hvFLJ7BX3M3wjrtnMHLwOvv3o+bwSgmdcUZFprByHG6rHCBmMF5Rr3HhNOWwfvHnEIRDpXBp7PAiukyk8GQzwNt90ORwVW9nDlyho7B/h9STH5lisEAF82ZVCmGwTB7KrZS1oHBWvzwg9vhesGPc9SjW/txwfA4BgylBGLBAAAAAAD+tz4=",
        "encoding": "base64",
        "path": [
         "_data",
         0,
         "y",
         "value"
        ]
       },
       {
        "data": "ietIKgDTncE=",
        "encoding": "base64",
        "path": [
         "_data",
         1,
         "x",
         "value"
        ]
       },
       {
        "data": "L/AASgRalME=",
        "encoding": "base64",
        "path": [
         "_data",
         1,
         "y",
         "value"
        ]
       },
       {
        "data": "D/4BVfb0nMFibHoia8qawaB3G3X0cJjB3kZTTf7qlcGjESWKIjuTwR4pxDomZJDBfRlUh+3RisHg8jG0TZmEwegMnWStSXzBVEa7nL/sbcEKUkh58WY0wejofJ8RcGlB8N7NBJv2ekGj1llITLOEQTzMocWP/ItBJjGYnMqnkUELj4HpZ1KVQcYDQz5Y+phB6l+n0dabnEFt+Ym/khmgQbacGlFI3qFBMDTsczmao0FxcAGInEulQYvms86y8KZBaq43N8qHqEGpGw0ePw+qQRlVk/19hatBmuL9DQXprEEiagDTZTiuQTqulpVGcq9BuLAx5LFKsEGrOZuqSNCwQQ2FMeldSbFBjiRTz3S1sUEWHz3xHRSyQfTZ5br3ZLJBfA+T1K6nskGBI8N4/tuyQWBGEbuwAbNBNVPLv54Ys0G1HADksCCzQWDe3NXeGbNBRLRAnS8Es0FPQn2Uud+yQaQDTFGirLJBWgIQfh5rskHq54ujcRuyQS5cROPtvbFBWXbWovNSsUHyhJko8dqwQYyb8iliVrBBwSael56Lr0Hr5JIrm1OuQeDXE7H7Ba1BLqoBEBikq0Fs4UsUXS+qQdGP5vVKqahBqcK6zHMTp0Go8SnyeW+lQcOyz1EOv6NBrTo+q+4DokGXr4HG4z+gQe7mhzp/6ZxBb4zs9LZImUGext8kLKGVQaEM8Sqj9pFBxgTu+saZjEFdDY+GZ0+FQamZFr1XK3xBfPtEBhvQa0GAGZeXzFv8wGbN+l3ipmvB26UGVw8ve8GBxUuguBCEwWo/FTGfTorBqdGpG2YlkMFOUU4miv+SwQoVXhPLspXBjOqxU2A8mMFN9JpMrJmawUjAIAo/yJzBAXQwwtjFnsEfBhMTNkigwbXtJUAQE6HBbguRzanCocETEzy4TVaiwUCpTc9jzaLBDRMNUXEno8GRhmxpGWSjwRSruZEdg6PBvKUR0V2Eo8ECQlbd2GejwY48ghysLaPB+VFbhhPWosFgTqFmaWGiwWjW+f8l0KHBW9z4D98iocFUi8U0R1qgwTCK9Wla7p7BEP4BVfb0nME=",
        "encoding": "base64",
        "path": [
         "_data",
         2,
         "x",
         "value"
        ]
       },
       {
        "data": "9iNonLCNlcFqaAYiZ0OYwUapE5K80ZrBcS81bA42ncGdbSd/5W2fwZHLsTl8u6DBQ9lAE5enocFMl3TqT3qiwTqbyofNMqPBo8XzvVHQo8G9IN4tOlKkwe8cFe4AuKTBoaHLFD0BpcGhpwEkoy2lwdjhVVcFPaXB3jwz01MvpcGNkym1nASlweK+YAUMvaTB+QA1ietYpMHslCt3otijwcPGjQy1PKPBW0AYBcSFosHQDkv1i7ShwYosBYjkyaDBDuNnQH+Nn8EpKve+UFidwd+OsyWE9prBbnu8DI5qmMHkcV2CDreVwXkASVbO3pLBcHehdXjJj8F8WR9+05eJwWbDSUoQL4PBxnEDX5QrecFxQ1ITOktnwVjCbQCmLkFBltoJtIgocEH0rAeSDVR+QSgKZgPkTIZBtB5c3YB1jUGrvA0fPk6SQXVcmF073ZVBo0ELGQ1kmUGLlR2sEN+cQYleas5XJaBB37Wmp7HRoUFotRRU3HKjQf19cc0pB6VBf7ktUPmMpkEnkwkJuQKoQRmBSrPnZqlBLOXfJRa4qkEEI93N6PSrQbIGwxQZHK1B2ScnsXYsrkEOQV7g6CSvQYgT88M3ArBBroSyHhJlsEFD7RaanbqwQbmEqgeCArFBrn6+S3U8sUG+ds+pO2ixQRdLGQKohbFB8usaAJyUsUFCLdo5CJWxQfVfxz/shrFB7lEwnVZqsUEIPkLJZD+xQaggqghDBrFBCMDyPyy/sEFucs+2aWqwQVE2ksxSCLBBQvU1PJkyr0Gn3Dk7kzuuQbaQSjmSLK1Bfki6ka0GrEGveRs4FMuqQQ7i9n8Le6lBbg9xze0XqEHiFTkwKaOmQYOHMOo9HqVBB6dR47yKo0EGJGwMRuqhQXFhYrKGPqBB7n5Ch28SnUEmKzUTOJiZQWPHLbD8EZZBaHh6aF+DkkG3xePUFeCNQYekrIFdt4ZBzF7YGO4nf0EF8s5cfPpwQfRpOPQYqEdBCMApDRO0ZcEthyCRbWR4wR7JB+MZzoLBZFkFCt45icHkgYHP5G6PwdNWYBlks5LB9CNonLCNlcE=",
        "encoding": "base64",
        "path": [
         "_data",
         2,
         "y",
         "value"
        ]
       },
       {
        "data": "ietIKgDTncE=",
        "encoding": "base64",
        "path": [
         "_data",
         3,
         "x",
         "value"
        ]
       },
       {
        "data": "L/AASgRalME=",
        "encoding": "base64",
        "path": [
         "_data",
         3,
         "y",
         "value"
        ]
       }
      ],
      "model_module": "plotlywidget",
      "model_module_version": "^0.7.1",
      "model_name": "FigureModel",
      "state": {
       "_config": {
        "plotlyServerURL": "https://plot.ly"
       },
       "_data": [
        {
         "hoverinfo": "none",
         "line": {
          "color": "rgb(31, 119, 180)",
          "dash": "dash",
          "width": 2
         },
         "mode": "lines",
         "name": "2011-08-05 16:26",
         "type": "scatter",
         "uid": "226862fa-9950-4889-b724-496ff5c623de",
         "x": {
          "dtype": "float64",
          "shape": [
           100
          ]
         },
         "y": {
          "dtype": "float64",
          "shape": [
           100
          ]
         }
        },
        {
         "marker": {
          "color": "rgb(31, 119, 180)",
          "size": 10
         },
         "mode": "markers",
         "name": "2011-08-05 16:26",
         "type": "scatter",
         "uid": "afaaeebe-ee18-44e7-8995-106e276875c9",
         "x": {
          "dtype": "float64",
          "shape": [
           1
          ]
         },
         "y": {
          "dtype": "float64",
          "shape": [
           1
          ]
         }
        },
        {
         "hoverinfo": "none",
         "line": {
          "color": "rgb(255, 127, 14)",
          "dash": "dash",
          "width": 2
         },
         "mode": "lines",
         "name": "2011-08-05 16:26",
         "type": "scatter",
         "uid": "55f37664-c9cf-43a6-bdf9-a337cf1a8a5e",
         "x": {
          "dtype": "float64",
          "shape": [
           100
          ]
         },
         "y": {
          "dtype": "float64",
          "shape": [
           100
          ]
         }
        },
        {
         "marker": {
          "color": "rgb(255, 127, 14)",
          "size": 10
         },
         "mode": "markers",
         "name": "2011-08-05 16:26",
         "type": "scatter",
         "uid": "d5cac3b3-0041-4b84-912c-9cbd4a4d2921",
         "x": {
          "dtype": "float64",
          "shape": [
           1
          ]
         },
         "y": {
          "dtype": "float64",
          "shape": [
           1
          ]
         }
        }
       ],
       "_js2py_pointsCallback": {},
       "_js2py_relayout": {},
       "_js2py_restyle": {},
       "_js2py_update": {},
       "_last_layout_edit_id": 5,
       "_last_trace_edit_id": 5,
       "_layout": {
        "autosize": true,
        "shapes": [
         {
          "fillcolor": "#ffcc00",
          "line": {
           "color": "#ffcc00"
          },
          "opacity": 1,
          "type": "circle",
          "x0": -21895056.19935296,
          "x1": 21895056.19935296,
          "xref": "x",
          "y0": -21895056.19935296,
          "y1": 21895056.19935296,
          "yref": "y"
         }
        ],
        "template": {},
        "xaxis": {
         "constrain": "domain",
         "title": {
          "text": "x (km)"
         }
        },
        "yaxis": {
         "scaleanchor": "x",
         "title": {
          "text": "y (km)"
         }
        }
       },
       "_py2js_animate": {},
       "_py2js_deleteTraces": {},
       "_py2js_moveTraces": {},
       "_py2js_removeLayoutProps": {},
       "_py2js_removeTraceProps": {},
       "_py2js_restyle": {},
       "_view_count": 0
      }
     },
     "76be6f6b502047b4b140ec3797b5d9d3": {
      "buffers": [
       {
        "data": "8HSogo9moUEg1g1CaF2hQQqkt+/7QaFBA/FY0GYUoUFMeLrg19SgQSQWS6WQg6BBr2SW5uQgoEH+N861dFqfQcd43HoQUp5B5i22pq0pnUGKzMW+feKbQb+HkQjSfZpBPpoQLhr9mEGZUKzC4mGXQcOBc6rTrZVBO9slZa7ik0Esbtk+TAKSQTUfGGicDpBBHcvX7kMTjEEQEdCs4+qHQetfpThhqINBsTCUYkGgfkGvDaQ+Oc11QesXTVyFwWlBOijvhoQgT0F0r0j3ZX5UwYYzMWfhQWzBI81Sq6wWd8EAWbD2kPd/wbi6wFE7XYTBeOpv1SqriMGTHDwgJ+GMwUACF35sfZDBrTp7LgN6ksF2NapdS2SUwU7F9qZLOpbBTHifjR/6l8HHHjpw+aGZwZehj2QkMJvBoaH9+QWjnMEcnY3gH/mdwVx5DXMRMZ/BXJlJkcwkoMGFffrgyqCgwV0L8NcDDKHB95gt7whmocEMRlJbfa6hweaKQGwW5aHBJaYb2psJosFtjEv/5xuiwWqMS//nG6LBHKYb2psJosHWikBsFuWhwfVFUlt9rqHB2pgt7whmocE7C/DXAwyhwV59+uDKoKDBL5lJkcwkoMH0eA1zETGfwa2cjeAf+Z3BJKH9+QWjnMESoY9kJDCbwTkeOnD5oZnBuHefjR/6l8GoxPamSzqWwdw0ql1LZJTB9jl7LgN6ksGLARd+bH2QwRcbPCAn4YzBD+lv1SqriMEvucBRO12EwfRVsPaQ93/BH8pSq6wWd8FcLTFn4UFswcqiSPdlflTBdUHvhoQgT0GSHU1chcFpQdMQpD45zXVB8TOUYkGgfkF0YaU4YaiDQYIS0Kzj6odBjczX7kMTjEHpHxhonA6QQdhu2T5MApJB6NslZa7ik0FignOq062VQSxRrMLiYZdBu5oQLhr9mEE8iJEI0n2aQf3Mxb594ptBVi62pq0pnUEoedx6EFKeQVU4zrV0Wp9B1GSW5uQgoEFDFkulkIOgQWR4uuDX1KBBF/FY0GYUoUEXpLfv+0GhQSfWDUJoXaFB8HSogo9moUE=",
        "encoding": "base64",
        "path": [
         "_data",
         0,
         "x",
         "value"
        ]
       },
       {
        "data": "AAAAAACuuT4APwYMpQRiQat21KNb+3FBVv/wg9vhekGvfCq2UtaBQXcYzZlUKYZBayFSTH5likG0vpw5coaOQTvQA233Q5FBUrTAiukyk0GUyJxCEQ6VQQlHvceE05ZBS3K6rHCBmEGrJnXFGRaaQUnB6+/ej5tB2HM3wjrtnEGjxvYbxSyeQZt/h5k0TZ9BT6HI868moEEBdcF6H5agQaJT4wJ29KBBDSpKTVJBoUF76jYfZXyhQV1xu5NxpaFBhO1/Wk28oUHGFmHj4MChQfU8unYns6FBOSVCOi+ToUHHsnUiGWGhQTZjn9AYHaFBC6OeXXTHoEEp16URhGCgQUAucxJk0Z9Bg86dj/PAnkG0ZvJwz5CdQfaQVjoxQpxBgQZB2nHWmkFDiClGCE+ZQX7ZBPiHrZdB2TlbTp/zlUGhGqbQFSOUQVJdvlnKPZJBryY/KrFFkEEZNLTJo3mMQYcbYe2KSohBOsOz22cChEGCAUYBSUt/QcahXBaAcXZBnXPOKikBa0FkiQvZ9wZSQVWWC9n3BlLB6HnOKikBa8H3pFwWgHF2wZYERgFJS3/BxcSz22cChMEFHWHtikqIwZQ1tMmjeYzBZCc/KrFFkMEDXr5Zyj2SwUcbptAVI5TBfTpbTp/zlcEV2gT4h62XwdiIKUYIT5nBBwdB2nHWmsF3kVY6MUKcwRxn8nDPkJ3B786dj/PAnsGeLnMSZNGfwVPXpRGEYKDBLaOeXXTHoMFTY5/QGB2hwd6ydSIZYaHBSiVCOi+TocH/PLp2J7OhwcgWYePgwKHBgO1/Wk28ocFVcbuTcaWhwWzqNh9lfKHB9SlKTVJBocGIU+MCdvSgweF0wXoflqDBJqHI868moME/f4eZNE2fwTzG9hvFLJ7BX3M3wjrtnMHLwOvv3o+bwSgmdcUZFprByHG6rHCBmMF5Rr3HhNOWwfvHnEIRDpXBp7PAiukyk8GQzwNt90ORwVW9nDlyho7B/h9STH5lisEAF82ZVCmGwTB7KrZS1oHBWvzwg9vhesGPc9SjW/txwfA4BgylBGLBAAAAAAD+tz4=",
        "encoding": "base64",
        "path": [
         "_data",
         0,
         "y",
         "value"
        ]
       },
       {
        "data": "ietIKgDTncE=",
        "encoding": "base64",
        "path": [
         "_data",
         1,
         "x",
         "value"
        ]
       },
       {
        "data": "L/AASgRalME=",
        "encoding": "base64",
        "path": [
         "_data",
         1,
         "y",
         "value"
        ]
       },
       {
        "data": "D/4BVfb0nMGyhaabg8SawXK+GFE1ZJjB3JQBX4vWlcGrswVmNR6TwSxoauoPPpDBGpwDo0JyisFuwhFmLSWEwVeoQQcCN3vBPWykeXhwa8Fg0i3kJeIBQeDGrHDWnGxBRgsTctG4fEE+tX5p5qmFQatu2gwACI1BvyDGxHo3kkEKUyq6fuuVQc3VoaAmnJlB8qnzupBFnUEzmwJ18XGgQc0hG12nOaJBGyE7sgr4o0GOQm7fRaulQWo3TwyPUadBaCOq/inpqEFgssvtaXCqQfdBkUWz5atBMJ9fV31HrUGb4jj3U5SuQebdPgPZyq9BriAD6uJ0sEFXgRtK9vewQbhECL8cbrFBV8/B/tnWsUHneNjavzGyQWWPXLRufrJB1Sx14JW8skEXDzz98+uyQf0shTZXDLNBSK5Jep0ds0FyIn+ctB+zQRpCNWqaErNBOh/mq1z2skEdVfYWGcuyQcZ4dC79kLJBCKo4E0ZIskGeopZDQPGxQW7o5UpHjLFBQck0YcUZsUHybYv7MpqwQQ==",
        "encoding": "base64",
        "path": [
         "_data",
         2,
         "x",
         "value"
        ]
       },
       {
        "data": "9iNonLCNlcFknSKBSEqYwQGLTVyp3prBKyALfRxIncH+pztbGISfwYWwYqEhyKDB1hFG5jq1ocGHez+RXoiiwZSyLIauQKPBj0N44Wjdo8HUGhDE6F2kwUSf1QCnwaTBJdzQqjoIpcHDI5GDWTGlwQUOR0nYPKXB0alF5KoqpcEWA7tz5PqkwaGbkjm3raTBxP+WZXRDpMGnFArAi7yjwbX3DTSLGaPBmCJaOh5bosFo4NkkDYKhweXU8Us8j6DBaoaUPFYHn8H4iTUo5sCcwYk4JA6NTZrBQDYj4N6vl8F0Rx4YnOqUwVDRFdOuAJLBr996gE/qjcG5lQ7PdZaHwUoIAZZ4DIHBXMUomnGmdMHF3NsZSY5bwcQYT5HLhFxBJugWqR5ZdUGUKdv9ndqBQXU7jd43E4lBrnXPJ2InkEHpJCTI08KTQTV/eGMlWJdBi1R+/pHjmkEtboQGX2GeQVM+0R7w5qBB4c3oy72SokFKeHCCVjKkQcADpREFxKVBFHUA7CJGp0HCKbzjGbeoQQ==",
        "encoding": "base64",
        "path": [
         "_data",
         2,
         "y",
         "value"
        ]
       },
       {
        "data": "7oTUjFTJsEEgcLwtxSCwQRIES/JRyK5BaqRXI8EprUHMH3IG32irQZC54dzyiKlBqnJE8H2Np0FEt/EENXqlQR9vHWz5UqNBRPKvwtEboUHtOcbUxLGdQak+bpbLHJlBMWJz10iBlEHVSJ27s8+PQSZnfhowsoZBCZLXTSN2e0G/j5XMbexjQazOJXS06lvBId1jQ9w8d8GAhPJb+FiDwVsxbw+CnorBo8OKZ7mwkMFKQOMsk8qTwayAgB4Cl5bBPtRrwcoQmcEhu1QhTDObwXdbBHiI+pzBwfq5oyxjnsG3xXxelmqfwcTXYZVsB6DByzYf9mAnoMEMAQOT7BSgwR9OA9pjoJ/B4fvpB2OznsF9+rjMkWSdwR7oQiZitpvBjlzLYPirmcE9SkU3JUmXwan1LbFekpTBYMRay7eMkcHo6qP2rXuMwUL+1T3XV4XBtTjbr4l2e8H4rnWsx9BmwU63Dxr6clVBUxHNvIK5dkG+KJxRuUaEQWGb0aCcW41BmGe3SDhFk0E2Ppn0BOGXQQ==",
        "encoding": "base64",
        "path": [
         "_data",
         3,
         "x",
         "value"
        ]
       },
       {
        "data": "omq6xIU2qEFQdGocG92pQRwt9yHoYatBgdNe6RXCrEGbEw7/EfutQTET8zaTCq9BLcOO8p3ur0FeeAPrw1KwQc9TpXL9lrBBdUK7AXzDsEEPxeZn7NewQUBVZW4o1LBBOL6CHze4sEGHcm+5TISwQXB7k0zKOLBBZUApDHqsr0ElI8ZPurquQT4wdGAZnq1By7gxZqtYrEHMh5LR0OyqQYn5LeoxXalBIEy81rmsp0H3JC0okd6lQTsH6/EX9qNBoidWet/2oUGxJIYeR8mfQdIn6xWHhptBLf5JLXYtl0FAWyZwNcaSQfI8iuAAsoxBggyCwjvcg0EC0zx9QDd2Qc7IGeJbBFRBDILNGa6TZ8EWJIoTJAp8wY3H9eW20IXBJ4Kq8kY5jcHq2m8jdBiSwTJHQw9KVZXBpgWvmhdNmMHIer80UPqawSV0pL3yV53BYnzy4ZJhn8EoWtivsImgwYqF3pIZNaHBeNwaoMOxocFTamrDxf6hwRHAPgKQG6LBnpbOiOwHosG9MrkOAMShwQ==",
        "encoding": "base64",
        "path": [
         "_data",
         3,
         "y",
         "value"
        ]
       },
       {
        "data": "0gubaeUFs0FoGtT7rJSzQeTdUHYgHLRBwk9Q3wKctEFBdxKlGhS1Qf7bwrcxhLVBzsHOoRXstUFBOZyel0u2QffKl6+MorZBk0OPr83wtkHM6VBkNza3QbUvh46qcrdBGrzJ9wumt0Etdt1+RNC3QXwQHiJB8bdBymIMCPMIuEHouP2FTxe4QVMU6SRQHLhB1jZQpPIXuEFNJ0P7OAq4QUi7fVcp87dBv4ufGs7St0FAlX/VNam3QUKenUFzdrdBJle0OJ06t0Fv/2+qzvW2QZsxTpAmqLZB0Eqs38dRtkGvtQp62fK1QYUtjBuGi7VBKdu4R/wbtUFY9I00bqS0QfZK47MRJbRBlfgwGyCes0HQDsAp1g+zQabqUe1zerJBQXpKpTzesUEdcGqkdjuxQeUEJzFrkrBBBg5byczGr0GWJUMRbl2uQRK8Sudc6axBFh14yUBrq0GWLy27xeOpQSswuPebU6hBW0X+one7pkH/pWN4EBylQYrRFXghdqNBPBjdkmjKoUECVZtUphmgQQ==",
        "encoding": "base64",
        "path": [
         "_data",
         4,
         "x",
         "value"
        ]
       },
       {
        "data": "1iFqMJmYi0FogUD4ZMeRQegEbtrW3ZVBqV6SK8sNmkHcTLlcX1WeQQ1xMB5TWaFBKj0/atSRo0ETrHSmM9OlQWR+4uhsHKhBoMHBvnhsqkErUgujTMKsQc9OcnbbHK9BVz5F/Iq9sEE6B/Kg9e2xQVXtcp8kH7NBUliXlY5QtEH5IKMGqoG1Qa35MpntsbZBc+wQVdDgt0HvGt3gyQ25QTz9br9SOLpBJH7TjORfu0HDgMw6+oO8QaCStkwQpL1BVtO5EqW/vkHlbSvkONa/QeCsgiync8BBW0MtQTX5wEEpBNeQinvBQQ8sim9s+sFBHCgDv6F1wkFbC2cI8+zCQb9pO5UqYMNB6lqUhxTPw0Eiwm3xfjnEQdhYJes5n8RBYF0LqRcAxUG9MACQ7FvFQV2bFUmPssVBK+Mq1NgDxkGiUXuZpE/GQRtDF3rQlcZBulRA3zzWxkH9xqHIzBDHQdGtXtllRcdBIQ7wY/Bzx0HDkM10V5zHQab+29uIvsdBS0edNHXax0HUYR7tD/DHQQ==",
        "encoding": "base64",
        "path": [
         "_data",
         4,
         "y",
         "value"
        ]
       },
       {
        "data": "8zXn/CYxj0HY2O+snT6bQV1tgy3cY6NB2y2FtP8TqUExh4dm3KmuQWFpXyrYD7JBLQXzSu23tEH5qsiJcEq3QSG1vRe7xLlBKPB9HT8kvEG09oFdima+QW/8zFykRMBBfb+1TCNFwUGmXLSXuTPCQbs+9UxxD8NBN4Ud72fXw0HMc8Ndz4rEQflE6anuKMVBJFif1CKxxUH7OAl33yLGQW1NGFOvfcZBXvlmzDTBxkGMo7dIKu3GQS0jtHdiAcdBtqCjgcj9xkFVw+YcYOLGQYoFJIpFr8ZBiiIod61kxkH+oZjI5ALGQdt7sEpQisVBTYlYSWz7xEHT3QYQzFbEQXQc6VEZncNBpEz2ehPPwkExgZzqju3BQY641Rh0+cBBNUILTX3nv0FBjC60+Lq9QXYNzBKYb7tBzv8g5LgHuUEGZ8wC1oW2Qds6YxqF7LNBNARg/XM+sUG0BlrEy/ysQe0/QxRhXqdBETnFqnKnoUHp86AaybuXQR488c+3HohBADA1npFpNUGFMHMfg8qGwYQV1SREFZfBlagknypXocE7tQQkQBKnwdx/ulP6tazBFv5KekQescGRxk/vHNCzwT6rWG2/bbbBNBNCrnn0uMGkXeQIsWG7wd43SSDlsr3B0kLFd7Llv8GyyqZ06vvAwf+sv/2U88HBdId4itnYwsHiXkTFy6rDwXhMXEOTaMTBpt/VY2wRxcHqm0sZqaTFwYWzR52xIcbBMQy4DAWIxsGNR8rsOdfGwQ3bppf+DsfBHiKbkBkvx8GjqFu/aTfHwaKXIZLmJ8fB0RmABqAAx8GonOiYvsHGwQ3s7hqDa8bBYy14cEb+xcHDmhk0eXrFwSJyBUOj4MTBcr/9MGMxxMFmYN2kbW3DwfLBX56MlcLBok3npZ6qwcFaKxnnla3AwTmadW7uPr/B9DOlELICvcHXv0GUxKi6wV7aMXSSM7jBkm0nR6SltcFjaAsjnAGzwYISIeYySrDBLoNa0WoEq8HH2ws0A1mlwS90DzAOMJ/BzAuJv8mOk8G603N62Gh/wd4VhBjeDG9BzDTn/CYxj0E=",
        "encoding": "base64",
        "path": [
         "_data",
         5,
         "x",
         "value"
        ]
       },
       {
        "data": "0XYPwCPjxcHbPvjT+bXFwTCZXc08ccXBUqukhzMVxcE/qkXiPKLEwbPN/17PGMTB1YGwp3h5w8G1w0v83MTCwZYwjIm2+8HB708JqdQewcH063kLGy/Awe2Z/ZsBW77BaJHP9h42vMH1dPP0w/G5wcgbn9RGkLfBdPAF3BsUtcErcbXR0n+ywRauMLEorK/By26yZD4zqsH0t+/VipqkwZRD8MGlz53B45gUZ+xBksHTvGz4SV96wU0q3VaHinRB1girlVnhkEHsbPhdOZicQWyFWfCWHaRBL4QvLBzfqUEDBK5yvYqvQWupWTJRjbJBdx8lnYdEtUG1q9dVNei3QQvhYtuhdbpBqVOEnSvqvEEzgRizSkO/QU8Y/rpJv8BBs+nlgNzMwUFNPHfJR8nCQWJIvWGHs8NB4vrS0amKxEEhH8xV0U3FQcYYT8I0/MVB54jzUyCVxkFKG5Bo9hfHQcR3uCEwhMdB7tfD713Zx0FC8cwEKBfIQceoNK9OPchBD0NKm6pLyEF3YtX7LELIQbYJWJnfIMhBhOj4x+Tnx0FYVyBEd5fHQa587PXpL8dBVwW7m6exxkF7iCBcMh3GQfQDvz8jc8VBX72Fkym0xEFyJP0zCuHDQb78WMKe+sJBsv0hxNQBwkGCKV6urPfAQXp8aLpxur9BJ4g18jhnvUHIgGyVFPi6QRLhN/2Gb7hBvA9+tCzQtUFRcrvGuRyzQZp3ovb2V7BBKvLBvn0Jq0F7owAH9kulQfcBojGD+p5B6w569rlGk0H87yvugSJ+QTGpJfq5znDB1uCHHzTEj8GPoyOhl3abwYO/H6ubcqPBLlGpLRgRqcGF74WF9pCuweC/5rdF9rHB1h+riCiPtMHq3RFUdhC3wXtGNAiad7nBySO1ixnCu8HPXGVLmO29wZxyeanZ97/BT7fmpWHvwMGrZ2ujL9DBwVwyhBFvncLBhmNJXUxWw8Egd8r2CPrDwSyjfRX8h8TB0yM8ZpP/xMGR7xeiU2DFwQZYbw3ZqcXB4Ji73tfbxcFUW7CMHPbFwR6mWwOM+MXB03YPwCPjxcE=",
        "encoding": "base64",
        "path": [
         "_data",
         5,
         "y",
         "value"
        ]
       },
       {
        "data": "tB0MCD3XokE=",
        "encoding": "base64",
        "path": [
         "_data",
         6,
         "x",
         "value"
        ]
       },
       {
        "data": "Eqfqa6/Jx0E=",
        "encoding": "base64",
        "path": [
         "_data",
         6,
         "y",
         "value"
        ]
       }
      ],
      "model_module": "plotlywidget",
      "model_module_version": "^0.7.1",
      "model_name": "FigureModel",
      "state": {
       "_config": {
        "plotlyServerURL": "https://plot.ly"
       },
       "_data": [
        {
         "hoverinfo": "none",
         "line": {
          "color": "rgb(31, 119, 180)",
          "dash": "dash",
          "width": 2
         },
         "mode": "lines",
         "name": "2011-08-05 16:26 (Earth)",
         "type": "scatter",
         "uid": "95171641-f476-4b28-94df-561cb71fce10",
         "x": {
          "dtype": "float64",
          "shape": [
           100
          ]
         },
         "y": {
          "dtype": "float64",
          "shape": [
           100
          ]
         }
        },
        {
         "marker": {
          "color": "rgb(31, 119, 180)",
          "size": 10
         },
         "mode": "markers",
         "name": "2011-08-05 16:26 (Earth)",
         "type": "scatter",
         "uid": "d0afa09d-5799-413f-aedb-648bdf56175b",
         "x": {
          "dtype": "float64",
          "shape": [
           1
          ]
         },
         "y": {
          "dtype": "float64",
          "shape": [
           1
          ]
         }
        },
        {
         "hoverinfo": "none",
         "line": {
          "color": "rgb(255, 127, 14)",
          "dash": "solid",
          "width": 2
         },
         "mode": "lines",
         "name": "Inner Cruise 1",
         "type": "scatter",
         "uid": "57ba487b-cef6-4669-9006-a7ea79dcf4e9",
         "x": {
          "dtype": "float64",
          "shape": [
           50
          ]
         },
         "y": {
          "dtype": "float64",
          "shape": [
           50
          ]
         }
        },
        {
         "hoverinfo": "none",
         "line": {
          "color": "rgb(44, 160, 44)",
          "dash": "solid",
          "width": 2
         },
         "mode": "lines",
         "name": "Back to Earth",
         "type": "scatter",
         "uid": "10bba574-fecf-4557-a478-30a5a9c9a5b7",
         "x": {
          "dtype": "float64",
          "shape": [
           50
          ]
         },
         "y": {
          "dtype": "float64",
          "shape": [
           50
          ]
         }
        },
        {
         "hoverinfo": "none",
         "line": {
          "color": "rgb(214, 39, 40)",
          "dash": "solid",
          "width": 2
         },
         "mode": "lines",
         "name": "Jupiter Orbit Insertion Phase",
         "type": "scatter",
         "uid": "1f64d0a5-d47f-4c6b-b5a3-ce6a90a0f46e",
         "x": {
          "dtype": "float64",
          "shape": [
           50
          ]
         },
         "y": {
          "dtype": "float64",
          "shape": [
           50
          ]
         }
        },
        {
         "hoverinfo": "none",
         "line": {
          "color": "rgb(148, 103, 189)",
          "dash": "dash",
          "width": 2
         },
         "mode": "lines",
         "name": "2016-07-05 03:19 (Jupiter)",
         "type": "scatter",
         "uid": "8dc80831-fd58-4274-834d-7f84ebc56806",
         "x": {
          "dtype": "float64",
          "shape": [
           100
          ]
         },
         "y": {
          "dtype": "float64",
          "shape": [
           100
          ]
         }
        },
        {
         "marker": {
          "color": "rgb(148, 103, 189)",
          "size": 10
         },
         "mode": "markers",
         "name": "2016-07-05 03:19 (Jupiter)",
         "type": "scatter",
         "uid": "0f6ad05a-2d24-4f0d-a7a2-a7aee575cc06",
         "x": {
          "dtype": "float64",
          "shape": [
           1
          ]
         },
         "y": {
          "dtype": "float64",
          "shape": [
           1
          ]
         }
        }
       ],
       "_js2py_pointsCallback": {},
       "_js2py_relayout": {},
       "_js2py_restyle": {},
       "_js2py_update": {},
       "_last_layout_edit_id": 8,
       "_last_trace_edit_id": 8,
       "_layout": {
        "autosize": true,
        "shapes": [
         {
          "fillcolor": "#ffcc00",
          "line": {
           "color": "#ffcc00"
          },
          "opacity": 1,
          "type": "circle",
          "x0": -21895056.19935296,
          "x1": 21895056.19935296,
          "xref": "x",
          "y0": -21895056.19935296,
          "y1": 21895056.19935296,
          "yref": "y"
         }
        ],
        "template": {},
        "xaxis": {
         "constrain": "domain",
         "title": {
          "text": "x (km)"
         }
        },
        "yaxis": {
         "scaleanchor": "x",
         "title": {
          "text": "y (km)"
         }
        }
       },
       "_py2js_animate": {},
       "_py2js_deleteTraces": {},
       "_py2js_moveTraces": {},
       "_py2js_removeLayoutProps": {},
       "_py2js_removeTraceProps": {},
       "_py2js_restyle": {},
       "_view_count": 0
      }
     },
     "7a05371354384e728b6f6530c85818d4": {
      "buffers": [
       {
        "data": "8HSogo9moUEg1g1CaF2hQQqkt+/7QaFBA/FY0GYUoUFMeLrg19SgQSQWS6WQg6BBr2SW5uQgoEH+N861dFqfQcd43HoQUp5B5i22pq0pnUGKzMW+feKbQb+HkQjSfZpBPpoQLhr9mEGZUKzC4mGXQcOBc6rTrZVBO9slZa7ik0Esbtk+TAKSQTUfGGicDpBBHcvX7kMTjEEQEdCs4+qHQetfpThhqINBsTCUYkGgfkGvDaQ+Oc11QesXTVyFwWlBOijvhoQgT0F0r0j3ZX5UwYYzMWfhQWzBI81Sq6wWd8EAWbD2kPd/wbi6wFE7XYTBeOpv1SqriMGTHDwgJ+GMwUACF35sfZDBrTp7LgN6ksF2NapdS2SUwU7F9qZLOpbBTHifjR/6l8HHHjpw+aGZwZehj2QkMJvBoaH9+QWjnMEcnY3gH/mdwVx5DXMRMZ/BXJlJkcwkoMGFffrgyqCgwV0L8NcDDKHB95gt7whmocEMRlJbfa6hweaKQGwW5aHBJaYb2psJosFtjEv/5xuiwWqMS//nG6LBHKYb2psJosHWikBsFuWhwfVFUlt9rqHB2pgt7whmocE7C/DXAwyhwV59+uDKoKDBL5lJkcwkoMH0eA1zETGfwa2cjeAf+Z3BJKH9+QWjnMESoY9kJDCbwTkeOnD5oZnBuHefjR/6l8GoxPamSzqWwdw0ql1LZJTB9jl7LgN6ksGLARd+bH2QwRcbPCAn4YzBD+lv1SqriMEvucBRO12EwfRVsPaQ93/BH8pSq6wWd8FcLTFn4UFswcqiSPdlflTBdUHvhoQgT0GSHU1chcFpQdMQpD45zXVB8TOUYkGgfkF0YaU4YaiDQYIS0Kzj6odBjczX7kMTjEHpHxhonA6QQdhu2T5MApJB6NslZa7ik0FignOq062VQSxRrMLiYZdBu5oQLhr9mEE8iJEI0n2aQf3Mxb594ptBVi62pq0pnUEoedx6EFKeQVU4zrV0Wp9B1GSW5uQgoEFDFkulkIOgQWR4uuDX1KBBF/FY0GYUoUEXpLfv+0GhQSfWDUJoXaFB8HSogo9moUE=",
        "encoding": "base64",
        "path": [
         "_data",
         0,
         "x",
         "value"
        ]
       },
       {
        "data": "AAAAAACuuT4APwYMpQRiQat21KNb+3FBVv/wg9vhekGvfCq2UtaBQXcYzZlUKYZBayFSTH5likG0vpw5coaOQTvQA233Q5FBUrTAiukyk0GUyJxCEQ6VQQlHvceE05ZBS3K6rHCBmEGrJnXFGRaaQUnB6+/ej5tB2HM3wjrtnEGjxvYbxSyeQZt/h5k0TZ9BT6HI868moEEBdcF6H5agQaJT4wJ29KBBDSpKTVJBoUF76jYfZXyhQV1xu5NxpaFBhO1/Wk28oUHGFmHj4MChQfU8unYns6FBOSVCOi+ToUHHsnUiGWGhQTZjn9AYHaFBC6OeXXTHoEEp16URhGCgQUAucxJk0Z9Bg86dj/PAnkG0ZvJwz5CdQfaQVjoxQpxBgQZB2nHWmkFDiClGCE+ZQX7ZBPiHrZdB2TlbTp/zlUGhGqbQFSOUQVJdvlnKPZJBryY/KrFFkEEZNLTJo3mMQYcbYe2KSohBOsOz22cChEGCAUYBSUt/QcahXBaAcXZBnXPOKikBa0FkiQvZ9wZSQVWWC9n3BlLB6HnOKikBa8H3pFwWgHF2wZYERgFJS3/BxcSz22cChMEFHWHtikqIwZQ1tMmjeYzBZCc/KrFFkMEDXr5Zyj2SwUcbptAVI5TBfTpbTp/zlcEV2gT4h62XwdiIKUYIT5nBBwdB2nHWmsF3kVY6MUKcwRxn8nDPkJ3B786dj/PAnsGeLnMSZNGfwVPXpRGEYKDBLaOeXXTHoMFTY5/QGB2hwd6ydSIZYaHBSiVCOi+TocH/PLp2J7OhwcgWYePgwKHBgO1/Wk28ocFVcbuTcaWhwWzqNh9lfKHB9SlKTVJBocGIU+MCdvSgweF0wXoflqDBJqHI868moME/f4eZNE2fwTzG9hvFLJ7BX3M3wjrtnMHLwOvv3o+bwSgmdcUZFprByHG6rHCBmMF5Rr3HhNOWwfvHnEIRDpXBp7PAiukyk8GQzwNt90ORwVW9nDlyho7B/h9STH5lisEAF82ZVCmGwTB7KrZS1oHBWvzwg9vhesGPc9SjW/txwfA4BgylBGLBAAAAAAD+tz4=",
        "encoding": "base64",
        "path": [
         "_data",
         0,
         "y",
         "value"
        ]
       },
       {
        "data": "ietIKgDTncE=",
        "encoding": "base64",
        "path": [
         "_data",
         1,
         "x",
         "value"
        ]
       },
       {
        "data": "L/AASgRalME=",
        "encoding": "base64",
        "path": [
         "_data",
         1,
         "y",
         "value"
        ]
       },
       {
        "data": "D/4BVfb0nMGyhaabg8SawXK+GFE1ZJjB3JQBX4vWlcGrswVmNR6TwSxoauoPPpDBGpwDo0JyisFuwhFmLSWEwVeoQQcCN3vBPWykeXhwa8Fg0i3kJeIBQeDGrHDWnGxBRgsTctG4fEE+tX5p5qmFQatu2gwACI1BvyDGxHo3kkEKUyq6fuuVQc3VoaAmnJlB8qnzupBFnUEzmwJ18XGgQc0hG12nOaJBGyE7sgr4o0GOQm7fRaulQWo3TwyPUadBaCOq/inpqEFgssvtaXCqQfdBkUWz5atBMJ9fV31HrUGb4jj3U5SuQebdPgPZyq9BriAD6uJ0sEFXgRtK9vewQbhECL8cbrFBV8/B/tnWsUHneNjavzGyQWWPXLRufrJB1Sx14JW8skEXDzz98+uyQf0shTZXDLNBSK5Jep0ds0FyIn+ctB+zQRpCNWqaErNBOh/mq1z2skEdVfYWGcuyQcZ4dC79kLJBCKo4E0ZIskGeopZDQPGxQW7o5UpHjLFBQck0YcUZsUHybYv7MpqwQQ==",
        "encoding": "base64",
        "path": [
         "_data",
         2,
         "x",
         "value"
        ]
       },
       {
        "data": "9iNonLCNlcFknSKBSEqYwQGLTVyp3prBKyALfRxIncH+pztbGISfwYWwYqEhyKDB1hFG5jq1ocGHez+RXoiiwZSyLIauQKPBj0N44Wjdo8HUGhDE6F2kwUSf1QCnwaTBJdzQqjoIpcHDI5GDWTGlwQUOR0nYPKXB0alF5KoqpcEWA7tz5PqkwaGbkjm3raTBxP+WZXRDpMGnFArAi7yjwbX3DTSLGaPBmCJaOh5bosFo4NkkDYKhweXU8Us8j6DBaoaUPFYHn8H4iTUo5sCcwYk4JA6NTZrBQDYj4N6vl8F0Rx4YnOqUwVDRFdOuAJLBr996gE/qjcG5lQ7PdZaHwUoIAZZ4DIHBXMUomnGmdMHF3NsZSY5bwcQYT5HLhFxBJugWqR5ZdUGUKdv9ndqBQXU7jd43E4lBrnXPJ2InkEHpJCTI08KTQTV/eGMlWJdBi1R+/pHjmkEtboQGX2GeQVM+0R7w5qBB4c3oy72SokFKeHCCVjKkQcADpREFxKVBFHUA7CJGp0HCKbzjGbeoQQ==",
        "encoding": "base64",
        "path": [
         "_data",
         2,
         "y",
         "value"
        ]
       },
       {
        "data": "7oTUjFTJsEHI4+zFmS+wQUA/uIncCa9ByK2cYbyUrUFg5MlSHQKsQejnU/R3VKpBz2E2U2+OqEGGgLTNzLKmQWq1hLJ7xKRBxVapqoTGokGZ8yr1CLygQXU7Y/h6UJ1BqT5ulsscmUFpP3ncneOUQciuJISUq5BB3qpd96D2iEGpm4r3zLKAQdNCFcJSMXFBgHhveiGeNkG8EY/C2q9rwaP3i+4ifHzBg7tSut41hcHyBsrNa8iLwYIMdo2y9ZDBSkDjLJPKk8HRTajbZF6WwWweJegarZjBdLdyNRWzmsG/e57tJW2cwaenWICW2J3Bhv885ivznsEuFAMiKrufwXc9Cn2rF6DBYncg830noMGaVESX8wygwTtZOjlskJ/B4fvpB2OznsEJeA7kJoSdwQo5Wz2UBJzB2xgvvQU3msHhurCTUB6YwaoTaATAvZXBSlFTORAZk8E20phkaDSQwW8gHXSoKIrBoTKvlXl7g8F3REE5g9d4wV9cRSNjEmTBTrcPGvpyVUFkxcqRG0J1QQ==",
        "encoding": "base64",
        "path": [
         "_data",
         3,
         "x",
         "value"
        ]
       },
       {
        "data": "omq6xIU2qEHEJGfSI7upQblMC4uTI6tBRahDn55trEEmDHWAPpetQbNRi4+fnq5Bft6w+yOCr0H8Lj4mMyCwQeGQy8kdbLBBRto0oVqksEEiV3ZQkciwQVRxqPGI2LBBQFVlbijUsEFPrjOndruwQeSMuGiajrBBA3DBLtpNsEFqdAxrN/OvQXkhorPGJK9BFJQOkqYxrkHAVrQEVRutQYOfX1WH46tB6G03aieMqkECdwXEUBepQSQ9ji5Nh6dB9yQtKJHepUFFoVoGuB+kQVb1K91/TaJBPvA7MMVqoEEakIPn/PScQdq9zMlu/5hB24VQgRj7lEHlkabBSe6QQfhh5Rq/volBrrbabXSpgUEwDuJszVJzQcj/xwd9skxBDILNGa6TZ8EM6OY2frV6wTLHokCaioTBkTzFNzJpi8E2vxH43fWQwQMR6H3+A5TBPIrW0C3alsEmu3j59nOZwWZePuZDzZvBw/b61mPincHpI0UpEbCfwZO8RD67maDBioXekhk1ocHdhNh1L6mhwQ==",
        "encoding": "base64",
        "path": [
         "_data",
         3,
         "y",
         "value"
        ]
       },
       {
        "data": "IK6SMF0kgUEATGYPuTeLQVgPfnsppZJBnNz0oFupl0EeLaLvvaOcQVs+CErSx6BBATvzqDg0o0EVUKHsy5SlQfW2ogVR56dBlD/kFJopqkFntSp3iFmsQUrUQsIOda5Bbv8DWRk9sEGfirmBhzOxQbTS+Z3qHLJBDhe0rWf4skFOHo+7MMWzQUJdLJ6FgrRB69x4rLQvtUHfq2JkG8y1Qb1sVgMnV7ZBYur1D1XQtkFteIbUMze3QRA+pMlii7dBe0vW8JLMt0Eae64eh/q3Qe2QLzQUFbhBLrtDRyEcuEGdfB26pw+4QWkQbUGz77dBJHRk2WG8t0GcZpSp43W3QW7CvNd6HLdB8pq6SXuwtkHQWc5WSjK2QeC8g2heorVBkO+Uiz4BtUFwAzHxgU+0QUixHGHPjbNBdYMyndy8skFeQ9W2bd2xQaO09FZU8LBB5oGi8t3sr0HPYm43UOGtQYm16sPqv6tBTmu7Xq2KqUGBWlBtqkOnQTTnMQIF7aRBUr6n2+6IokECVZtUphmgQQ==",
        "encoding": "base64",
        "path": [
         "_data",
         4,
         "x",
         "value"
        ]
       },
       {
        "data": "8AO6hE+NocEd4MKpeEOhwWpcMCqWxKDBDPwoFh8RoMF/9Eipd1OewZqzzAqLHpzB4Q+BaoqFmcGFgbrK5YqWwVYt88xoMZPBklWNJHD4jsFFRtWQnN2GwbcJo5fjM3zBTPRRxaTWYsFwR4+utBllQb4o3IvloX9BCiPgcAPgikHe6zFQnzSTQZpL4JLoMJlBAjv7qz9fn0HIuIjn69yiQcKzglRdHaZBaeIk/OZtqUHkm2qjbMusQRGIG/BiGbBBg/f0h2DQsUEkiE0rE4mzQT6WFlLdQbVBLh0xXiH5tkEYm4wfQ624QeV17lapXLpBffP2Nb8FvEEYa/va9aa9QbZAUcfFPr9BBDlVJ9hlwEG1fhV/ICbBQWMY83yH38FBsva9J1+RwkHuEUyeADvDQSgUEbTM28NBcv96hixzxEEZqIcKkgDFQREoDpJ4g8VBZDk/SGX7xUEApOek52fGQWGXCNaZyMZBH9piHyEdx0HrJ5svLmXHQVbZp2p9oMdBDf5BKdfOx0HUYR7tD/DHQQ==",
        "encoding": "base64",
        "path": [
         "_data",
         4,
         "y",
         "value"
        ]
       },
       {
        "data": "8zXn/CYxj0HY2O+snT6bQV1tgy3cY6NB2y2FtP8TqUExh4dm3KmuQWFpXyrYD7JBLQXzSu23tEH5qsiJcEq3QSG1vRe7xLlBKPB9HT8kvEG09oFdima+QW/8zFykRMBBfb+1TCNFwUGmXLSXuTPCQbs+9UxxD8NBN4Ud72fXw0HMc8Ndz4rEQflE6anuKMVBJFif1CKxxUH7OAl33yLGQW1NGFOvfcZBXvlmzDTBxkGMo7dIKu3GQS0jtHdiAcdBtqCjgcj9xkFVw+YcYOLGQYoFJIpFr8ZBiiIod61kxkH+oZjI5ALGQdt7sEpQisVBTYlYSWz7xEHT3QYQzFbEQXQc6VEZncNBpEz2ehPPwkExgZzqju3BQY641Rh0+cBBNUILTX3nv0FBjC60+Lq9QXYNzBKYb7tBzv8g5LgHuUEGZ8wC1oW2Qds6YxqF7LNBNARg/XM+sUG0BlrEy/ysQe0/QxRhXqdBETnFqnKnoUHp86AaybuXQR488c+3HohBADA1npFpNUGFMHMfg8qGwYQV1SREFZfBlagknypXocE7tQQkQBKnwdx/ulP6tazBFv5KekQescGRxk/vHNCzwT6rWG2/bbbBNBNCrnn0uMGkXeQIsWG7wd43SSDlsr3B0kLFd7Llv8GyyqZ06vvAwf+sv/2U88HBdId4itnYwsHiXkTFy6rDwXhMXEOTaMTBpt/VY2wRxcHqm0sZqaTFwYWzR52xIcbBMQy4DAWIxsGNR8rsOdfGwQ3bppf+DsfBHiKbkBkvx8GjqFu/aTfHwaKXIZLmJ8fB0RmABqAAx8GonOiYvsHGwQ3s7hqDa8bBYy14cEb+xcHDmhk0eXrFwSJyBUOj4MTBcr/9MGMxxMFmYN2kbW3DwfLBX56MlcLBok3npZ6qwcFaKxnnla3AwTmadW7uPr/B9DOlELICvcHXv0GUxKi6wV7aMXSSM7jBkm0nR6SltcFjaAsjnAGzwYISIeYySrDBLoNa0WoEq8HH2ws0A1mlwS90DzAOMJ/BzAuJv8mOk8G603N62Gh/wd4VhBjeDG9BzDTn/CYxj0E=",
        "encoding": "base64",
        "path": [
         "_data",
         5,
         "x",
         "value"
        ]
       },
       {
        "data": "0XYPwCPjxcHbPvjT+bXFwTCZXc08ccXBUqukhzMVxcE/qkXiPKLEwbPN/17PGMTB1YGwp3h5w8G1w0v83MTCwZYwjIm2+8HB708JqdQewcH063kLGy/Awe2Z/ZsBW77BaJHP9h42vMH1dPP0w/G5wcgbn9RGkLfBdPAF3BsUtcErcbXR0n+ywRauMLEorK/By26yZD4zqsH0t+/VipqkwZRD8MGlz53B45gUZ+xBksHTvGz4SV96wU0q3VaHinRB1girlVnhkEHsbPhdOZicQWyFWfCWHaRBL4QvLBzfqUEDBK5yvYqvQWupWTJRjbJBdx8lnYdEtUG1q9dVNei3QQvhYtuhdbpBqVOEnSvqvEEzgRizSkO/QU8Y/rpJv8BBs+nlgNzMwUFNPHfJR8nCQWJIvWGHs8NB4vrS0amKxEEhH8xV0U3FQcYYT8I0/MVB54jzUyCVxkFKG5Bo9hfHQcR3uCEwhMdB7tfD713Zx0FC8cwEKBfIQceoNK9OPchBD0NKm6pLyEF3YtX7LELIQbYJWJnfIMhBhOj4x+Tnx0FYVyBEd5fHQa587PXpL8dBVwW7m6exxkF7iCBcMh3GQfQDvz8jc8VBX72Fkym0xEFyJP0zCuHDQb78WMKe+sJBsv0hxNQBwkGCKV6urPfAQXp8aLpxur9BJ4g18jhnvUHIgGyVFPi6QRLhN/2Gb7hBvA9+tCzQtUFRcrvGuRyzQZp3ovb2V7BBKvLBvn0Jq0F7owAH9kulQfcBojGD+p5B6w569rlGk0H87yvugSJ+QTGpJfq5znDB1uCHHzTEj8GPoyOhl3abwYO/H6ubcqPBLlGpLRgRqcGF74WF9pCuweC/5rdF9rHB1h+riCiPtMHq3RFUdhC3wXtGNAiad7nBySO1ixnCu8HPXGVLmO29wZxyeanZ97/BT7fmpWHvwMGrZ2ujL9DBwVwyhBFvncLBhmNJXUxWw8Egd8r2CPrDwSyjfRX8h8TB0yM8ZpP/xMGR7xeiU2DFwQZYbw3ZqcXB4Ji73tfbxcFUW7CMHPbFwR6mWwOM+MXB03YPwCPjxcE=",
        "encoding": "base64",
        "path": [
         "_data",
         5,
         "y",
         "value"
        ]
       },
       {
        "data": "tB0MCD3XokE=",
        "encoding": "base64",
        "path": [
         "_data",
         6,
         "x",
         "value"
        ]
       },
       {
        "data": "Eqfqa6/Jx0E=",
        "encoding": "base64",
        "path": [
         "_data",
         6,
         "y",
         "value"
        ]
       }
      ],
      "model_module": "plotlywidget",
      "model_module_version": "^0.7.1",
      "model_name": "FigureModel",
      "state": {
       "_config": {
        "plotlyServerURL": "https://plot.ly"
       },
       "_data": [
        {
         "hoverinfo": "none",
         "line": {
          "color": "rgb(31, 119, 180)",
          "dash": "dash",
          "width": 2
         },
         "mode": "lines",
         "name": "2011-08-05 16:26 (Earth)",
         "type": "scatter",
         "uid": "d5ba1718-676d-442c-8df2-2ae84ea0bde9",
         "x": {
          "dtype": "float64",
          "shape": [
           100
          ]
         },
         "y": {
          "dtype": "float64",
          "shape": [
           100
          ]
         }
        },
        {
         "marker": {
          "color": "rgb(31, 119, 180)",
          "size": 10
         },
         "mode": "markers",
         "name": "2011-08-05 16:26 (Earth)",
         "type": "scatter",
         "uid": "f7033da8-0214-47f8-a9a2-7433b2e091f6",
         "x": {
          "dtype": "float64",
          "shape": [
           1
          ]
         },
         "y": {
          "dtype": "float64",
          "shape": [
           1
          ]
         }
        },
        {
         "hoverinfo": "none",
         "line": {
          "color": "rgb(255, 127, 14)",
          "dash": "solid",
          "width": 2
         },
         "mode": "lines",
         "name": "Inner Cruise 1",
         "type": "scatter",
         "uid": "ee7f785b-eab2-46b7-a45c-85ae690d4659",
         "x": {
          "dtype": "float64",
          "shape": [
           50
          ]
         },
         "y": {
          "dtype": "float64",
          "shape": [
           50
          ]
         }
        },
        {
         "hoverinfo": "none",
         "line": {
          "color": "rgb(44, 160, 44)",
          "dash": "solid",
          "width": 2
         },
         "mode": "lines",
         "name": "Back to Earth",
         "type": "scatter",
         "uid": "ec4ac949-0548-4c5d-a267-f77dfc12efda",
         "x": {
          "dtype": "float64",
          "shape": [
           50
          ]
         },
         "y": {
          "dtype": "float64",
          "shape": [
           50
          ]
         }
        },
        {
         "hoverinfo": "none",
         "line": {
          "color": "rgb(214, 39, 40)",
          "dash": "solid",
          "width": 2
         },
         "mode": "lines",
         "name": "Jupiter Orbit Insertion Phase",
         "type": "scatter",
         "uid": "56fab746-165e-493f-910a-41f8af60f519",
         "x": {
          "dtype": "float64",
          "shape": [
           50
          ]
         },
         "y": {
          "dtype": "float64",
          "shape": [
           50
          ]
         }
        },
        {
         "hoverinfo": "none",
         "line": {
          "color": "rgb(148, 103, 189)",
          "dash": "dash",
          "width": 2
         },
         "mode": "lines",
         "name": "2016-07-05 03:19 (Jupiter)",
         "type": "scatter",
         "uid": "0fc4e6c4-32f5-47b0-af55-7dfa0991001a",
         "x": {
          "dtype": "float64",
          "shape": [
           100
          ]
         },
         "y": {
          "dtype": "float64",
          "shape": [
           100
          ]
         }
        },
        {
         "marker": {
          "color": "rgb(148, 103, 189)",
          "size": 10
         },
         "mode": "markers",
         "name": "2016-07-05 03:19 (Jupiter)",
         "type": "scatter",
         "uid": "079a2f08-1c7b-43b3-99d4-1c135c1e4195",
         "x": {
          "dtype": "float64",
          "shape": [
           1
          ]
         },
         "y": {
          "dtype": "float64",
          "shape": [
           1
          ]
         }
        }
       ],
       "_js2py_layoutDelta": {
        "layout_delta": {
         "annotations": [],
         "calendar": "gregorian",
         "clickmode": "event",
         "colorscale": {
          "diverging": [
           [
            0,
            "rgb(5,10,172)"
           ],
           [
            0.35,
            "rgb(106,137,247)"
           ],
           [
            0.5,
            "rgb(190,190,190)"
           ],
           [
            0.6,
            "rgb(220,170,132)"
           ],
           [
            0.7,
            "rgb(230,145,90)"
           ],
           [
            1,
            "rgb(178,10,28)"
           ]
          ],
          "sequential": [
           [
            0,
            "rgb(220,220,220)"
           ],
           [
            0.2,
            "rgb(245,195,157)"
           ],
           [
            0.4,
            "rgb(245,160,105)"
           ],
           [
            1,
            "rgb(178,10,28)"
           ]
          ],
          "sequentialminus": [
           [
            0,
            "rgb(5,10,172)"
           ],
           [
            0.35,
            "rgb(40,60,190)"
           ],
           [
            0.5,
            "rgb(70,100,245)"
           ],
           [
            0.6,
            "rgb(90,120,245)"
           ],
           [
            0.7,
            "rgb(106,137,247)"
           ],
           [
            1,
            "rgb(220,220,220)"
           ]
          ]
         },
         "colorway": [
          "#1f77b4",
          "#ff7f0e",
          "#2ca02c",
          "#d62728",
          "#9467bd",
          "#8c564b",
          "#e377c2",
          "#7f7f7f",
          "#bcbd22",
          "#17becf"
         ],
         "dragmode": "zoom",
         "font": {
          "color": "#444",
          "family": "\"Open Sans\", verdana, arial, sans-serif",
          "size": 12
         },
         "height": 470,
         "hidesources": false,
         "hoverdistance": 20,
         "hoverlabel": {
          "font": {
           "family": "Arial, sans-serif",
           "size": 13
          },
          "namelength": 15
         },
         "hovermode": "x",
         "images": [],
         "legend": {
          "bgcolor": "#fff",
          "bordercolor": "#444",
          "borderwidth": 0,
          "font": {
           "color": "#444",
           "family": "\"Open Sans\", verdana, arial, sans-serif",
           "size": 12
          },
          "orientation": "v",
          "traceorder": "normal",
          "valign": "middle",
          "x": 1.02,
          "xanchor": "left",
          "y": 1,
          "yanchor": "auto"
         },
         "margin": {
          "autoexpand": true,
          "b": 80,
          "l": 80,
          "pad": 0,
          "r": 80,
          "t": 100
         },
         "modebar": {
          "activecolor": "rgba(68, 68, 68, 0.7)",
          "bgcolor": "rgba(255, 255, 255, 0.5)",
          "color": "rgba(68, 68, 68, 0.3)",
          "orientation": "h"
         },
         "paper_bgcolor": "#fff",
         "plot_bgcolor": "#fff",
         "separators": ".,",
         "shapes": [
          {
           "layer": "above",
           "line": {
            "dash": "solid",
            "width": 2
           },
           "visible": true,
           "xsizemode": "scaled",
           "ysizemode": "scaled"
          }
         ],
         "showlegend": true,
         "sliders": [],
         "spikedistance": 20,
         "title": {
          "font": {
           "color": "#444",
           "family": "\"Open Sans\", verdana, arial, sans-serif",
           "size": 17
          },
          "pad": {
           "b": 0,
           "l": 0,
           "r": 0,
           "t": 0
          },
          "text": "Click to enter Plot title",
          "x": 0.5,
          "xanchor": "auto",
          "xref": "container",
          "y": "auto",
          "yanchor": "auto",
          "yref": "container"
         },
         "updatemenus": [],
         "width": 966.8,
         "xaxis": {
          "anchor": "y",
          "automargin": false,
          "autorange": true,
          "color": "#444",
          "constraintoward": "center",
          "domain": [
           0.3005205806308552,
           0.6994794193691448
          ],
          "dtick": 500000000,
          "exponentformat": "B",
          "fixedrange": false,
          "gridcolor": "rgb(238, 238, 238)",
          "gridwidth": 1,
          "hoverformat": "",
          "layer": "above traces",
          "nticks": 0,
          "range": [
           -779015038.7160839,
           771933423.4073235
          ],
          "rangemode": "normal",
          "separatethousands": false,
          "showexponent": "all",
          "showgrid": true,
          "showline": false,
          "showspikes": false,
          "showticklabels": true,
          "side": "bottom",
          "tick0": 0,
          "tickangle": "auto",
          "tickfont": {
           "color": "#444",
           "family": "\"Open Sans\", verdana, arial, sans-serif",
           "size": 12
          },
          "tickformat": "",
          "tickmode": "auto",
          "tickprefix": "",
          "ticks": "",
          "ticksuffix": "",
          "title": {
           "font": {
            "color": "#444",
            "family": "\"Open Sans\", verdana, arial, sans-serif",
            "size": 14
           }
          },
          "type": "linear",
          "visible": true,
          "zeroline": true,
          "zerolinecolor": "#444",
          "zerolinewidth": 1
         },
         "yaxis": {
          "anchor": "x",
          "automargin": false,
          "autorange": true,
          "color": "#444",
          "constrain": "range",
          "constraintoward": "middle",
          "domain": [
           0,
           1
          ],
          "dtick": 500000000,
          "exponentformat": "B",
          "fixedrange": false,
          "gridcolor": "rgb(238, 238, 238)",
          "gridwidth": 1,
          "hoverformat": "",
          "layer": "above traces",
          "nticks": 0,
          "range": [
           -824613798.8532547,
           923249883.8916987
          ],
          "rangemode": "normal",
          "scaleratio": 1,
          "separatethousands": false,
          "showexponent": "all",
          "showgrid": true,
          "showline": false,
          "showspikes": false,
          "showticklabels": true,
          "side": "left",
          "tick0": 0,
          "tickangle": "auto",
          "tickfont": {
           "color": "#444",
           "family": "\"Open Sans\", verdana, arial, sans-serif",
           "size": 12
          },
          "tickformat": "",
          "tickmode": "auto",
          "tickprefix": "",
          "ticks": "",
          "ticksuffix": "",
          "title": {
           "font": {
            "color": "#444",
            "family": "\"Open Sans\", verdana, arial, sans-serif",
            "size": 14
           }
          },
          "type": "linear",
          "visible": true,
          "zeroline": true,
          "zerolinecolor": "#444",
          "zerolinewidth": 1
         }
        },
        "layout_edit_id": 8
       },
       "_js2py_pointsCallback": {},
       "_js2py_relayout": {},
       "_js2py_restyle": {},
       "_js2py_traceDeltas": {
        "trace_deltas": [
         {
          "connectgaps": false,
          "error_x": {
           "visible": false
          },
          "error_y": {
           "visible": false
          },
          "fill": "none",
          "hoverlabel": {
           "font": {
            "family": "Arial, sans-serif",
            "size": 13
           },
           "namelength": 15
          },
          "hoveron": "points",
          "hovertemplate": "",
          "hovertext": "",
          "index": 0,
          "legendgroup": "",
          "line": {
           "shape": "linear",
           "simplify": true
          },
          "opacity": 1,
          "showlegend": true,
          "stackgroup": "",
          "text": "",
          "uid": "d5ba1718-676d-442c-8df2-2ae84ea0bde9",
          "visible": true,
          "xaxis": "x",
          "xcalendar": "gregorian",
          "yaxis": "y",
          "ycalendar": "gregorian"
         },
         {
          "cliponaxis": true,
          "error_x": {
           "visible": false
          },
          "error_y": {
           "visible": false
          },
          "fill": "none",
          "hoverinfo": "all",
          "hoverlabel": {
           "font": {
            "family": "Arial, sans-serif",
            "size": 13
           },
           "namelength": 15
          },
          "hoveron": "points",
          "hovertemplate": "",
          "hovertext": "",
          "index": 1,
          "legendgroup": "",
          "marker": {
           "gradient": {
            "type": "none"
           },
           "line": {
            "color": "#444",
            "width": 0
           },
           "maxdisplayed": 0,
           "opacity": 1,
           "symbol": "circle"
          },
          "opacity": 1,
          "selected": {
           "marker": {
            "opacity": 1
           }
          },
          "showlegend": true,
          "stackgroup": "",
          "text": "",
          "uid": "f7033da8-0214-47f8-a9a2-7433b2e091f6",
          "unselected": {
           "marker": {
            "opacity": 0.2
           }
          },
          "visible": true,
          "xaxis": "x",
          "xcalendar": "gregorian",
          "yaxis": "y",
          "ycalendar": "gregorian"
         },
         {
          "connectgaps": false,
          "error_x": {
           "visible": false
          },
          "error_y": {
           "visible": false
          },
          "fill": "none",
          "hoverlabel": {
           "font": {
            "family": "Arial, sans-serif",
            "size": 13
           },
           "namelength": 15
          },
          "hoveron": "points",
          "hovertemplate": "",
          "hovertext": "",
          "index": 2,
          "legendgroup": "",
          "line": {
           "shape": "linear",
           "simplify": true
          },
          "opacity": 1,
          "showlegend": true,
          "stackgroup": "",
          "text": "",
          "uid": "ee7f785b-eab2-46b7-a45c-85ae690d4659",
          "visible": true,
          "xaxis": "x",
          "xcalendar": "gregorian",
          "yaxis": "y",
          "ycalendar": "gregorian"
         },
         {
          "connectgaps": false,
          "error_x": {
           "visible": false
          },
          "error_y": {
           "visible": false
          },
          "fill": "none",
          "hoverlabel": {
           "font": {
            "family": "Arial, sans-serif",
            "size": 13
           },
           "namelength": 15
          },
          "hoveron": "points",
          "hovertemplate": "",
          "hovertext": "",
          "index": 3,
          "legendgroup": "",
          "line": {
           "shape": "linear",
           "simplify": true
          },
          "opacity": 1,
          "showlegend": true,
          "stackgroup": "",
          "text": "",
          "uid": "ec4ac949-0548-4c5d-a267-f77dfc12efda",
          "visible": true,
          "xaxis": "x",
          "xcalendar": "gregorian",
          "yaxis": "y",
          "ycalendar": "gregorian"
         },
         {
          "connectgaps": false,
          "error_x": {
           "visible": false
          },
          "error_y": {
           "visible": false
          },
          "fill": "none",
          "hoverlabel": {
           "font": {
            "family": "Arial, sans-serif",
            "size": 13
           },
           "namelength": 15
          },
          "hoveron": "points",
          "hovertemplate": "",
          "hovertext": "",
          "index": 4,
          "legendgroup": "",
          "line": {
           "shape": "linear",
           "simplify": true
          },
          "opacity": 1,
          "showlegend": true,
          "stackgroup": "",
          "text": "",
          "uid": "56fab746-165e-493f-910a-41f8af60f519",
          "visible": true,
          "xaxis": "x",
          "xcalendar": "gregorian",
          "yaxis": "y",
          "ycalendar": "gregorian"
         },
         {
          "connectgaps": false,
          "error_x": {
           "visible": false
          },
          "error_y": {
           "visible": false
          },
          "fill": "none",
          "hoverlabel": {
           "font": {
            "family": "Arial, sans-serif",
            "size": 13
           },
           "namelength": 15
          },
          "hoveron": "points",
          "hovertemplate": "",
          "hovertext": "",
          "index": 5,
          "legendgroup": "",
          "line": {
           "shape": "linear",
           "simplify": true
          },
          "opacity": 1,
          "showlegend": true,
          "stackgroup": "",
          "text": "",
          "uid": "0fc4e6c4-32f5-47b0-af55-7dfa0991001a",
          "visible": true,
          "xaxis": "x",
          "xcalendar": "gregorian",
          "yaxis": "y",
          "ycalendar": "gregorian"
         },
         {
          "cliponaxis": true,
          "error_x": {
           "visible": false
          },
          "error_y": {
           "visible": false
          },
          "fill": "none",
          "hoverinfo": "all",
          "hoverlabel": {
           "font": {
            "family": "Arial, sans-serif",
            "size": 13
           },
           "namelength": 15
          },
          "hoveron": "points",
          "hovertemplate": "",
          "hovertext": "",
          "index": 6,
          "legendgroup": "",
          "marker": {
           "gradient": {
            "type": "none"
           },
           "line": {
            "color": "#444",
            "width": 0
           },
           "maxdisplayed": 0,
           "opacity": 1,
           "symbol": "circle"
          },
          "opacity": 1,
          "selected": {
           "marker": {
            "opacity": 1
           }
          },
          "showlegend": true,
          "stackgroup": "",
          "text": "",
          "uid": "079a2f08-1c7b-43b3-99d4-1c135c1e4195",
          "unselected": {
           "marker": {
            "opacity": 0.2
           }
          },
          "visible": true,
          "xaxis": "x",
          "xcalendar": "gregorian",
          "yaxis": "y",
          "ycalendar": "gregorian"
         }
        ],
        "trace_edit_id": 8
       },
       "_js2py_update": {},
       "_last_layout_edit_id": 8,
       "_last_trace_edit_id": 8,
       "_layout": {
        "autosize": true,
        "shapes": [
         {
          "fillcolor": "#ffcc00",
          "line": {
           "color": "#ffcc00"
          },
          "opacity": 1,
          "type": "circle",
          "x0": -21895056.19935296,
          "x1": 21895056.19935296,
          "xref": "x",
          "y0": -21895056.19935296,
          "y1": 21895056.19935296,
          "yref": "y"
         }
        ],
        "template": {},
        "xaxis": {
         "constrain": "domain",
         "title": {
          "text": "x (km)"
         }
        },
        "yaxis": {
         "scaleanchor": "x",
         "title": {
          "text": "y (km)"
         }
        }
       },
       "_py2js_animate": {},
       "_py2js_deleteTraces": {},
       "_py2js_moveTraces": {},
       "_py2js_removeLayoutProps": {},
       "_py2js_removeTraceProps": {},
       "_py2js_restyle": {},
       "_view_count": 1
      }
     },
     "81eb583a964b4be4bf881a54906e3dd2": {
      "buffers": [
       {
        "data": "8HSogo9moUEg1g1CaF2hQQqkt+/7QaFBA/FY0GYUoUFMeLrg19SgQSQWS6WQg6BBr2SW5uQgoEH+N861dFqfQcd43HoQUp5B5i22pq0pnUGKzMW+feKbQb+HkQjSfZpBPpoQLhr9mEGZUKzC4mGXQcOBc6rTrZVBO9slZa7ik0Esbtk+TAKSQTUfGGicDpBBHcvX7kMTjEEQEdCs4+qHQetfpThhqINBsTCUYkGgfkGvDaQ+Oc11QesXTVyFwWlBOijvhoQgT0F0r0j3ZX5UwYYzMWfhQWzBI81Sq6wWd8EAWbD2kPd/wbi6wFE7XYTBeOpv1SqriMGTHDwgJ+GMwUACF35sfZDBrTp7LgN6ksF2NapdS2SUwU7F9qZLOpbBTHifjR/6l8HHHjpw+aGZwZehj2QkMJvBoaH9+QWjnMEcnY3gH/mdwVx5DXMRMZ/BXJlJkcwkoMGFffrgyqCgwV0L8NcDDKHB95gt7whmocEMRlJbfa6hweaKQGwW5aHBJaYb2psJosFtjEv/5xuiwWqMS//nG6LBHKYb2psJosHWikBsFuWhwfVFUlt9rqHB2pgt7whmocE7C/DXAwyhwV59+uDKoKDBL5lJkcwkoMH0eA1zETGfwa2cjeAf+Z3BJKH9+QWjnMESoY9kJDCbwTkeOnD5oZnBuHefjR/6l8GoxPamSzqWwdw0ql1LZJTB9jl7LgN6ksGLARd+bH2QwRcbPCAn4YzBD+lv1SqriMEvucBRO12EwfRVsPaQ93/BH8pSq6wWd8FcLTFn4UFswcqiSPdlflTBdUHvhoQgT0GSHU1chcFpQdMQpD45zXVB8TOUYkGgfkF0YaU4YaiDQYIS0Kzj6odBjczX7kMTjEHpHxhonA6QQdhu2T5MApJB6NslZa7ik0FignOq062VQSxRrMLiYZdBu5oQLhr9mEE8iJEI0n2aQf3Mxb594ptBVi62pq0pnUEoedx6EFKeQVU4zrV0Wp9B1GSW5uQgoEFDFkulkIOgQWR4uuDX1KBBF/FY0GYUoUEXpLfv+0GhQSfWDUJoXaFB8HSogo9moUE=",
        "encoding": "base64",
        "path": [
         "_data",
         0,
         "x",
         "value"
        ]
       },
       {
        "data": "AAAAAACuuT4APwYMpQRiQat21KNb+3FBVv/wg9vhekGvfCq2UtaBQXcYzZlUKYZBayFSTH5likG0vpw5coaOQTvQA233Q5FBUrTAiukyk0GUyJxCEQ6VQQlHvceE05ZBS3K6rHCBmEGrJnXFGRaaQUnB6+/ej5tB2HM3wjrtnEGjxvYbxSyeQZt/h5k0TZ9BT6HI868moEEBdcF6H5agQaJT4wJ29KBBDSpKTVJBoUF76jYfZXyhQV1xu5NxpaFBhO1/Wk28oUHGFmHj4MChQfU8unYns6FBOSVCOi+ToUHHsnUiGWGhQTZjn9AYHaFBC6OeXXTHoEEp16URhGCgQUAucxJk0Z9Bg86dj/PAnkG0ZvJwz5CdQfaQVjoxQpxBgQZB2nHWmkFDiClGCE+ZQX7ZBPiHrZdB2TlbTp/zlUGhGqbQFSOUQVJdvlnKPZJBryY/KrFFkEEZNLTJo3mMQYcbYe2KSohBOsOz22cChEGCAUYBSUt/QcahXBaAcXZBnXPOKikBa0FkiQvZ9wZSQVWWC9n3BlLB6HnOKikBa8H3pFwWgHF2wZYERgFJS3/BxcSz22cChMEFHWHtikqIwZQ1tMmjeYzBZCc/KrFFkMEDXr5Zyj2SwUcbptAVI5TBfTpbTp/zlcEV2gT4h62XwdiIKUYIT5nBBwdB2nHWmsF3kVY6MUKcwRxn8nDPkJ3B786dj/PAnsGeLnMSZNGfwVPXpRGEYKDBLaOeXXTHoMFTY5/QGB2hwd6ydSIZYaHBSiVCOi+TocH/PLp2J7OhwcgWYePgwKHBgO1/Wk28ocFVcbuTcaWhwWzqNh9lfKHB9SlKTVJBocGIU+MCdvSgweF0wXoflqDBJqHI868moME/f4eZNE2fwTzG9hvFLJ7BX3M3wjrtnMHLwOvv3o+bwSgmdcUZFprByHG6rHCBmMF5Rr3HhNOWwfvHnEIRDpXBp7PAiukyk8GQzwNt90ORwVW9nDlyho7B/h9STH5lisEAF82ZVCmGwTB7KrZS1oHBWvzwg9vhesGPc9SjW/txwfA4BgylBGLBAAAAAAD+tz4=",
        "encoding": "base64",
        "path": [
         "_data",
         0,
         "y",
         "value"
        ]
       },
       {
        "data": "ietIKgDTncE=",
        "encoding": "base64",
        "path": [
         "_data",
         1,
         "x",
         "value"
        ]
       },
       {
        "data": "L/AASgRalME=",
        "encoding": "base64",
        "path": [
         "_data",
         1,
         "y",
         "value"
        ]
       },
       {
        "data": "D/4BVfb0nMGyhaabg8SawXK+GFE1ZJjB3JQBX4vWlcGrswVmNR6TwSxoauoPPpDBGpwDo0JyisFuwhFmLSWEwVeoQQcCN3vBPWykeXhwa8Fg0i3kJeIBQeDGrHDWnGxBRgsTctG4fEE+tX5p5qmFQatu2gwACI1BvyDGxHo3kkEKUyq6fuuVQc3VoaAmnJlB8qnzupBFnUEzmwJ18XGgQc0hG12nOaJBGyE7sgr4o0GOQm7fRaulQWo3TwyPUadBaCOq/inpqEFgssvtaXCqQfdBkUWz5atBMJ9fV31HrUGb4jj3U5SuQebdPgPZyq9BriAD6uJ0sEFXgRtK9vewQbhECL8cbrFBV8/B/tnWsUHneNjavzGyQWWPXLRufrJB1Sx14JW8skEXDzz98+uyQf0shTZXDLNBSK5Jep0ds0FyIn+ctB+zQRpCNWqaErNBOh/mq1z2skEdVfYWGcuyQcZ4dC79kLJBCKo4E0ZIskGeopZDQPGxQW7o5UpHjLFBQck0YcUZsUHybYv7MpqwQQ==",
        "encoding": "base64",
        "path": [
         "_data",
         2,
         "x",
         "value"
        ]
       },
       {
        "data": "9iNonLCNlcFknSKBSEqYwQGLTVyp3prBKyALfRxIncH+pztbGISfwYWwYqEhyKDB1hFG5jq1ocGHez+RXoiiwZSyLIauQKPBj0N44Wjdo8HUGhDE6F2kwUSf1QCnwaTBJdzQqjoIpcHDI5GDWTGlwQUOR0nYPKXB0alF5KoqpcEWA7tz5PqkwaGbkjm3raTBxP+WZXRDpMGnFArAi7yjwbX3DTSLGaPBmCJaOh5bosFo4NkkDYKhweXU8Us8j6DBaoaUPFYHn8H4iTUo5sCcwYk4JA6NTZrBQDYj4N6vl8F0Rx4YnOqUwVDRFdOuAJLBr996gE/qjcG5lQ7PdZaHwUoIAZZ4DIHBXMUomnGmdMHF3NsZSY5bwcQYT5HLhFxBJugWqR5ZdUGUKdv9ndqBQXU7jd43E4lBrnXPJ2InkEHpJCTI08KTQTV/eGMlWJdBi1R+/pHjmkEtboQGX2GeQVM+0R7w5qBB4c3oy72SokFKeHCCVjKkQcADpREFxKVBFHUA7CJGp0HCKbzjGbeoQQ==",
        "encoding": "base64",
        "path": [
         "_data",
         2,
         "y",
         "value"
        ]
       },
       {
        "data": "1iHMLujpl8Gnfd0DNv2VwVN2rN6Q45PBYFCS9iKfkcHSgIA6hWSOwdaR+avfPonB9A/Ng6PSg8GaJJKPz0p8wQ/zVvwMenDBNDh+K7X8UMGqe/FKaLJgQYrFypEbQnVBXwLsGh03gUFftOcB/ueHQY4xv9HKrI5BpSegqkS/kkFYfrH/GCuWQeStJpVblplB/2RQLob9nEFNSmRjiy6gQZI/EpjJ2KFBv3zJU8Z7o0GIetqv0RWlQX1Ihf1EpaZBKGmveYQoqEEY3lf1AJ6pQdnaE3E5BKtBK/PrqbxZrEELrACWKp2tQY4Pbs81za5BnTD466Tor0EtLQ/gKXewQXrxI0aa7rBBPRZqiShasUH7mPfKZbmxQZR8Et7vC7JBCCVkrXFRskFYBK6So4myQY4vpaBLtLJB4rmo3j3RskFVSBV2XOCyQW8kB9GX4bJBnBlrqu7UskFRjU0PbrqyQZp4ZlExkrJBXiHw6mFcskGYmuVTNxmyQZse1cj2yLFBBjSBA/NrsUGEL5rliwKxQYz55xUujbBBafpJkFIMsEE9QAFS/ACvQb8ZggeC1K1BICVA/muUrEHjSdspBEKrQeakSmCn3qlBVSJG8sNrqEFTa6sx2OqmQSRmY+dwXaVB1IheuifFo0ErnU2JoSOiQStByriMeqBBObZc7z6XnUFDq8f2KzGaQRGB/GthxpZBprPsD2Vak0ENCZC9e+GPQa3dVtrgGYlBDk6Vj/ZkgkFOZ0RlTZN3Qf+rh9ECO2VB/JZuPtZQQMEAaz1t96xswaGo9/jzOnrBTjBXoKDVgsHO85Z/zE2IwehRh0ZagI3B45ttMvczkcHFWcFJvX+TwVsoa4UhoZXBBg3csfGVl8GZUVGPKVyZwUqp/eX08ZrB3GOvaLFVnMFNKgJk8IWdweHHXzh4gZ7B9VhKnUVHn8EGnqKsjNafwf93a9pcF6DBFBaR6LgnoMED1J6jSRygwTCXJao16p/BNw3Mwalkn8GZp9M3eaiewaC2pwlmtp3BoiyEwGmPnMEudTtwtDSbwTtcw32rp5nB1yHMLujpl8E=",
        "encoding": "base64",
        "path": [
         "_data",
         3,
         "x",
         "value"
        ]
       },
       {
        "data": "GSXXRCg/kcFyJ+XG2biTwagLed4kDpbBFxKi16E8mMH0fL3+EEKawZmu6PFcHJzBEJ7TxpzJncEc3LwCFkifwcvSRzEfS6DBQeqmuF7ZoMFLYJH1Nk6hwd6E2HUvqaHB+dYxc+rpocHzOOEzJRCiwVspgU+4G6LBWBmi15cMosHDABdk0+KhwVaC4gKWnqHBoDHVCyZAocGTugrY5MegweSpkF1ONqDBwI08X/EXn8EFb8LHJpOdwczM/LrN35vBVHwD/ab/mcFLUCOBofSXwRF4qWvYwJXBQy8h5pBmk8H0oEDIN+iQwYoQ3S++kIzBIIboxXYTh8HRFy/qQV6BwZoM77UD7nbBOEJjsjGPZcEoHb6LZ6M6QX3PzX4stWxBqs9A/HE8e0GqHykXQSGEQQKsQQGtr4pB8CGXSl2hkEEKAL9y0emTQQq8eJ3QLZdBttxMB/1pmkEtNz/9AJudQZzyaCbJXqBBbX4W1DrnoUECD3b9QGWjQbxgEdZR16RBSMcd5e87pkHJ6baOq5GnQZ02z44k16hBUnBPZAsLqkEiA++qIiyrQcShYGJAOaxBmOeBIU8xrUFQWFE0TxOuQWL3g6NX3q5BSsGqJJeRr0FjPfh4KhawQdK4SMT4VrBBU2ykpvOKsEHtHwWL5bGwQYeYPEymy7BBk4hWXhvYsEHD+vXpN9ewQWgBktn8yLBBaAWE2HitsEHRrehDyISwQYH2Yg0VT7BBm5nfj5YMsEGtugqtInuvQW4wGqytxK5BNYKUMYr2rUExMnW7jBGtQeW4AVahFqxBAMB2qMoGq0HSCGjqIOOpQWLW5cLQrKhBoZyREhplp0EObuGpTg2mQcIM5uzQpqRBJ5b6ZRIzo0ETW9ZIkrOhQdWPiefbKaBB6Qr4NQovnUEu9yNBWfyZQYeYTN3wvpZB0kYlAyh6k0GxRgxGXTGQQXTMwrXmz4lBCQQ1NZtCg0FEjLsQMoN5QbLomAtSTmlBADxu/mAzusDUszrnS9RowaBGXciUhXjBCa7yXrojgsGdraeX09GHwWh0vyM7R43BGCXXRCg/kcE=",
        "encoding": "base64",
        "path": [
         "_data",
         3,
         "y",
         "value"
        ]
       },
       {
        "data": "HtZdBa+ysEE=",
        "encoding": "base64",
        "path": [
         "_data",
         4,
         "x",
         "value"
        ]
       },
       {
        "data": "7222ymt0qEE=",
        "encoding": "base64",
        "path": [
         "_data",
         4,
         "y",
         "value"
        ]
       }
      ],
      "model_module": "plotlywidget",
      "model_module_version": "^0.7.1",
      "model_name": "FigureModel",
      "state": {
       "_config": {
        "plotlyServerURL": "https://plot.ly"
       },
       "_data": [
        {
         "hoverinfo": "none",
         "line": {
          "color": "rgb(31, 119, 180)",
          "dash": "dash",
          "width": 2
         },
         "mode": "lines",
         "name": "2011-08-05 16:26 (Earth)",
         "type": "scatter",
         "uid": "22870769-4e1b-411a-9996-9ea315321dbf",
         "x": {
          "dtype": "float64",
          "shape": [
           100
          ]
         },
         "y": {
          "dtype": "float64",
          "shape": [
           100
          ]
         }
        },
        {
         "marker": {
          "color": "rgb(31, 119, 180)",
          "size": 10
         },
         "mode": "markers",
         "name": "2011-08-05 16:26 (Earth)",
         "type": "scatter",
         "uid": "35afc55d-8df8-4f93-99d4-20cd8da3395b",
         "x": {
          "dtype": "float64",
          "shape": [
           1
          ]
         },
         "y": {
          "dtype": "float64",
          "shape": [
           1
          ]
         }
        },
        {
         "hoverinfo": "none",
         "line": {
          "color": "rgb(255, 127, 14)",
          "dash": "solid",
          "width": 2
         },
         "mode": "lines",
         "name": "Inner Cruise 1",
         "type": "scatter",
         "uid": "c94c10f5-8cc0-464c-b245-7b97b5f97118",
         "x": {
          "dtype": "float64",
          "shape": [
           50
          ]
         },
         "y": {
          "dtype": "float64",
          "shape": [
           50
          ]
         }
        },
        {
         "hoverinfo": "none",
         "line": {
          "color": "rgb(44, 160, 44)",
          "dash": "dash",
          "width": 2
         },
         "mode": "lines",
         "name": "2012-09-01 14:40 (Back to Earth)",
         "type": "scatter",
         "uid": "552eafc3-bdb4-4a11-ba16-3857e4492f1f",
         "x": {
          "dtype": "float64",
          "shape": [
           100
          ]
         },
         "y": {
          "dtype": "float64",
          "shape": [
           100
          ]
         }
        },
        {
         "marker": {
          "color": "rgb(44, 160, 44)",
          "size": 10
         },
         "mode": "markers",
         "name": "2012-09-01 14:40 (Back to Earth)",
         "type": "scatter",
         "uid": "33f138f0-1776-4421-a8ba-37f1b1220175",
         "x": {
          "dtype": "float64",
          "shape": [
           1
          ]
         },
         "y": {
          "dtype": "float64",
          "shape": [
           1
          ]
         }
        }
       ],
       "_js2py_layoutDelta": {
        "layout_delta": {
         "annotations": [],
         "calendar": "gregorian",
         "clickmode": "event",
         "colorscale": {
          "diverging": [
           [
            0,
            "rgb(5,10,172)"
           ],
           [
            0.35,
            "rgb(106,137,247)"
           ],
           [
            0.5,
            "rgb(190,190,190)"
           ],
           [
            0.6,
            "rgb(220,170,132)"
           ],
           [
            0.7,
            "rgb(230,145,90)"
           ],
           [
            1,
            "rgb(178,10,28)"
           ]
          ],
          "sequential": [
           [
            0,
            "rgb(220,220,220)"
           ],
           [
            0.2,
            "rgb(245,195,157)"
           ],
           [
            0.4,
            "rgb(245,160,105)"
           ],
           [
            1,
            "rgb(178,10,28)"
           ]
          ],
          "sequentialminus": [
           [
            0,
            "rgb(5,10,172)"
           ],
           [
            0.35,
            "rgb(40,60,190)"
           ],
           [
            0.5,
            "rgb(70,100,245)"
           ],
           [
            0.6,
            "rgb(90,120,245)"
           ],
           [
            0.7,
            "rgb(106,137,247)"
           ],
           [
            1,
            "rgb(220,220,220)"
           ]
          ]
         },
         "colorway": [
          "#1f77b4",
          "#ff7f0e",
          "#2ca02c",
          "#d62728",
          "#9467bd",
          "#8c564b",
          "#e377c2",
          "#7f7f7f",
          "#bcbd22",
          "#17becf"
         ],
         "dragmode": "zoom",
         "font": {
          "color": "#444",
          "family": "\"Open Sans\", verdana, arial, sans-serif",
          "size": 12
         },
         "height": 470,
         "hidesources": false,
         "hoverdistance": 20,
         "hoverlabel": {
          "font": {
           "family": "Arial, sans-serif",
           "size": 13
          },
          "namelength": 15
         },
         "hovermode": "x",
         "images": [],
         "legend": {
          "bgcolor": "#fff",
          "bordercolor": "#444",
          "borderwidth": 0,
          "font": {
           "color": "#444",
           "family": "\"Open Sans\", verdana, arial, sans-serif",
           "size": 12
          },
          "orientation": "v",
          "traceorder": "normal",
          "valign": "middle",
          "x": 1.02,
          "xanchor": "left",
          "y": 1,
          "yanchor": "auto"
         },
         "margin": {
          "autoexpand": true,
          "b": 80,
          "l": 80,
          "pad": 0,
          "r": 80,
          "t": 100
         },
         "modebar": {
          "activecolor": "rgba(68, 68, 68, 0.7)",
          "bgcolor": "rgba(255, 255, 255, 0.5)",
          "color": "rgba(68, 68, 68, 0.3)",
          "orientation": "h"
         },
         "paper_bgcolor": "#fff",
         "plot_bgcolor": "#fff",
         "separators": ".,",
         "shapes": [
          {
           "layer": "above",
           "line": {
            "dash": "solid",
            "width": 2
           },
           "visible": true,
           "xsizemode": "scaled",
           "ysizemode": "scaled"
          }
         ],
         "showlegend": true,
         "sliders": [],
         "spikedistance": 20,
         "title": {
          "font": {
           "color": "#444",
           "family": "\"Open Sans\", verdana, arial, sans-serif",
           "size": 17
          },
          "pad": {
           "b": 0,
           "l": 0,
           "r": 0,
           "t": 0
          },
          "text": "Click to enter Plot title",
          "x": 0.5,
          "xanchor": "auto",
          "xref": "container",
          "y": "auto",
          "yanchor": "auto",
          "yref": "container"
         },
         "updatemenus": [],
         "width": 966.8,
         "xaxis": {
          "anchor": "y",
          "automargin": false,
          "autorange": true,
          "color": "#444",
          "constraintoward": "center",
          "domain": [
           0.25028664052395344,
           0.7497133594760466
          ],
          "dtick": 200000000,
          "exponentformat": "B",
          "fixedrange": false,
          "gridcolor": "rgb(238, 238, 238)",
          "gridwidth": 1,
          "hoverformat": "",
          "layer": "above traces",
          "nticks": 0,
          "range": [
           -189614891.8708357,
           344668710.6661731
          ],
          "rangemode": "normal",
          "separatethousands": false,
          "showexponent": "all",
          "showgrid": true,
          "showline": false,
          "showspikes": false,
          "showticklabels": true,
          "side": "bottom",
          "tick0": 0,
          "tickangle": "auto",
          "tickfont": {
           "color": "#444",
           "family": "\"Open Sans\", verdana, arial, sans-serif",
           "size": 12
          },
          "tickformat": "",
          "tickmode": "auto",
          "tickprefix": "",
          "ticks": "",
          "ticksuffix": "",
          "title": {
           "font": {
            "color": "#444",
            "family": "\"Open Sans\", verdana, arial, sans-serif",
            "size": 14
           }
          },
          "type": "linear",
          "visible": true,
          "zeroline": true,
          "zerolinecolor": "#444",
          "zerolinewidth": 1
         },
         "yaxis": {
          "anchor": "x",
          "automargin": false,
          "autorange": true,
          "color": "#444",
          "constrain": "range",
          "constraintoward": "middle",
          "domain": [
           0,
           1
          ],
          "dtick": 100000000,
          "exponentformat": "B",
          "fixedrange": false,
          "gridcolor": "rgb(238, 238, 238)",
          "gridwidth": 1,
          "hoverformat": "",
          "layer": "above traces",
          "nticks": 0,
          "range": [
           -203751908.80415663,
           308195614.50339925
          ],
          "rangemode": "normal",
          "scaleratio": 1,
          "separatethousands": false,
          "showexponent": "all",
          "showgrid": true,
          "showline": false,
          "showspikes": false,
          "showticklabels": true,
          "side": "left",
          "tick0": 0,
          "tickangle": "auto",
          "tickfont": {
           "color": "#444",
           "family": "\"Open Sans\", verdana, arial, sans-serif",
           "size": 12
          },
          "tickformat": "",
          "tickmode": "auto",
          "tickprefix": "",
          "ticks": "",
          "ticksuffix": "",
          "title": {
           "font": {
            "color": "#444",
            "family": "\"Open Sans\", verdana, arial, sans-serif",
            "size": 14
           }
          },
          "type": "linear",
          "visible": true,
          "zeroline": true,
          "zerolinecolor": "#444",
          "zerolinewidth": 1
         }
        },
        "layout_edit_id": 6
       },
       "_js2py_pointsCallback": {},
       "_js2py_relayout": {},
       "_js2py_restyle": {},
       "_js2py_traceDeltas": {
        "trace_deltas": [
         {
          "connectgaps": false,
          "error_x": {
           "visible": false
          },
          "error_y": {
           "visible": false
          },
          "fill": "none",
          "hoverlabel": {
           "font": {
            "family": "Arial, sans-serif",
            "size": 13
           },
           "namelength": 15
          },
          "hoveron": "points",
          "hovertemplate": "",
          "hovertext": "",
          "index": 0,
          "legendgroup": "",
          "line": {
           "shape": "linear",
           "simplify": true
          },
          "opacity": 1,
          "showlegend": true,
          "stackgroup": "",
          "text": "",
          "uid": "22870769-4e1b-411a-9996-9ea315321dbf",
          "visible": true,
          "xaxis": "x",
          "xcalendar": "gregorian",
          "yaxis": "y",
          "ycalendar": "gregorian"
         },
         {
          "cliponaxis": true,
          "error_x": {
           "visible": false
          },
          "error_y": {
           "visible": false
          },
          "fill": "none",
          "hoverinfo": "all",
          "hoverlabel": {
           "font": {
            "family": "Arial, sans-serif",
            "size": 13
           },
           "namelength": 15
          },
          "hoveron": "points",
          "hovertemplate": "",
          "hovertext": "",
          "index": 1,
          "legendgroup": "",
          "marker": {
           "gradient": {
            "type": "none"
           },
           "line": {
            "color": "#444",
            "width": 0
           },
           "maxdisplayed": 0,
           "opacity": 1,
           "symbol": "circle"
          },
          "opacity": 1,
          "selected": {
           "marker": {
            "opacity": 1
           }
          },
          "showlegend": true,
          "stackgroup": "",
          "text": "",
          "uid": "35afc55d-8df8-4f93-99d4-20cd8da3395b",
          "unselected": {
           "marker": {
            "opacity": 0.2
           }
          },
          "visible": true,
          "xaxis": "x",
          "xcalendar": "gregorian",
          "yaxis": "y",
          "ycalendar": "gregorian"
         },
         {
          "connectgaps": false,
          "error_x": {
           "visible": false
          },
          "error_y": {
           "visible": false
          },
          "fill": "none",
          "hoverlabel": {
           "font": {
            "family": "Arial, sans-serif",
            "size": 13
           },
           "namelength": 15
          },
          "hoveron": "points",
          "hovertemplate": "",
          "hovertext": "",
          "index": 2,
          "legendgroup": "",
          "line": {
           "shape": "linear",
           "simplify": true
          },
          "opacity": 1,
          "showlegend": true,
          "stackgroup": "",
          "text": "",
          "uid": "c94c10f5-8cc0-464c-b245-7b97b5f97118",
          "visible": true,
          "xaxis": "x",
          "xcalendar": "gregorian",
          "yaxis": "y",
          "ycalendar": "gregorian"
         },
         {
          "connectgaps": false,
          "error_x": {
           "visible": false
          },
          "error_y": {
           "visible": false
          },
          "fill": "none",
          "hoverlabel": {
           "font": {
            "family": "Arial, sans-serif",
            "size": 13
           },
           "namelength": 15
          },
          "hoveron": "points",
          "hovertemplate": "",
          "hovertext": "",
          "index": 3,
          "legendgroup": "",
          "line": {
           "shape": "linear",
           "simplify": true
          },
          "opacity": 1,
          "showlegend": true,
          "stackgroup": "",
          "text": "",
          "uid": "552eafc3-bdb4-4a11-ba16-3857e4492f1f",
          "visible": true,
          "xaxis": "x",
          "xcalendar": "gregorian",
          "yaxis": "y",
          "ycalendar": "gregorian"
         },
         {
          "cliponaxis": true,
          "error_x": {
           "visible": false
          },
          "error_y": {
           "visible": false
          },
          "fill": "none",
          "hoverinfo": "all",
          "hoverlabel": {
           "font": {
            "family": "Arial, sans-serif",
            "size": 13
           },
           "namelength": 15
          },
          "hoveron": "points",
          "hovertemplate": "",
          "hovertext": "",
          "index": 4,
          "legendgroup": "",
          "marker": {
           "gradient": {
            "type": "none"
           },
           "line": {
            "color": "#444",
            "width": 0
           },
           "maxdisplayed": 0,
           "opacity": 1,
           "symbol": "circle"
          },
          "opacity": 1,
          "selected": {
           "marker": {
            "opacity": 1
           }
          },
          "showlegend": true,
          "stackgroup": "",
          "text": "",
          "uid": "33f138f0-1776-4421-a8ba-37f1b1220175",
          "unselected": {
           "marker": {
            "opacity": 0.2
           }
          },
          "visible": true,
          "xaxis": "x",
          "xcalendar": "gregorian",
          "yaxis": "y",
          "ycalendar": "gregorian"
         }
        ],
        "trace_edit_id": 6
       },
       "_js2py_update": {},
       "_last_layout_edit_id": 6,
       "_last_trace_edit_id": 6,
       "_layout": {
        "autosize": true,
        "shapes": [
         {
          "fillcolor": "#ffcc00",
          "line": {
           "color": "#ffcc00"
          },
          "opacity": 1,
          "type": "circle",
          "x0": -21895056.19935296,
          "x1": 21895056.19935296,
          "xref": "x",
          "y0": -21895056.19935296,
          "y1": 21895056.19935296,
          "yref": "y"
         }
        ],
        "template": {},
        "xaxis": {
         "constrain": "domain",
         "title": {
          "text": "x (km)"
         }
        },
        "yaxis": {
         "scaleanchor": "x",
         "title": {
          "text": "y (km)"
         }
        }
       },
       "_py2js_animate": {},
       "_py2js_deleteTraces": {},
       "_py2js_moveTraces": {},
       "_py2js_removeLayoutProps": {},
       "_py2js_removeTraceProps": {},
       "_py2js_restyle": {},
       "_view_count": 1
      }
     },
     "87f49d2a1fb542609bd5545efaa62140": {
      "buffers": [
       {
        "data": "8HSogo9moUEg1g1CaF2hQQqkt+/7QaFBA/FY0GYUoUFMeLrg19SgQSQWS6WQg6BBr2SW5uQgoEH+N861dFqfQcd43HoQUp5B5i22pq0pnUGKzMW+feKbQb+HkQjSfZpBPpoQLhr9mEGZUKzC4mGXQcOBc6rTrZVBO9slZa7ik0Esbtk+TAKSQTUfGGicDpBBHcvX7kMTjEEQEdCs4+qHQetfpThhqINBsTCUYkGgfkGvDaQ+Oc11QesXTVyFwWlBOijvhoQgT0F0r0j3ZX5UwYYzMWfhQWzBI81Sq6wWd8EAWbD2kPd/wbi6wFE7XYTBeOpv1SqriMGTHDwgJ+GMwUACF35sfZDBrTp7LgN6ksF2NapdS2SUwU7F9qZLOpbBTHifjR/6l8HHHjpw+aGZwZehj2QkMJvBoaH9+QWjnMEcnY3gH/mdwVx5DXMRMZ/BXJlJkcwkoMGFffrgyqCgwV0L8NcDDKHB95gt7whmocEMRlJbfa6hweaKQGwW5aHBJaYb2psJosFtjEv/5xuiwWqMS//nG6LBHKYb2psJosHWikBsFuWhwfVFUlt9rqHB2pgt7whmocE7C/DXAwyhwV59+uDKoKDBL5lJkcwkoMH0eA1zETGfwa2cjeAf+Z3BJKH9+QWjnMESoY9kJDCbwTkeOnD5oZnBuHefjR/6l8GoxPamSzqWwdw0ql1LZJTB9jl7LgN6ksGLARd+bH2QwRcbPCAn4YzBD+lv1SqriMEvucBRO12EwfRVsPaQ93/BH8pSq6wWd8FcLTFn4UFswcqiSPdlflTBdUHvhoQgT0GSHU1chcFpQdMQpD45zXVB8TOUYkGgfkF0YaU4YaiDQYIS0Kzj6odBjczX7kMTjEHpHxhonA6QQdhu2T5MApJB6NslZa7ik0FignOq062VQSxRrMLiYZdBu5oQLhr9mEE8iJEI0n2aQf3Mxb594ptBVi62pq0pnUEoedx6EFKeQVU4zrV0Wp9B1GSW5uQgoEFDFkulkIOgQWR4uuDX1KBBF/FY0GYUoUEXpLfv+0GhQSfWDUJoXaFB8HSogo9moUE=",
        "encoding": "base64",
        "path": [
         "_data",
         0,
         "x",
         "value"
        ]
       },
       {
        "data": "AAAAAACuuT4APwYMpQRiQat21KNb+3FBVv/wg9vhekGvfCq2UtaBQXcYzZlUKYZBayFSTH5likG0vpw5coaOQTvQA233Q5FBUrTAiukyk0GUyJxCEQ6VQQlHvceE05ZBS3K6rHCBmEGrJnXFGRaaQUnB6+/ej5tB2HM3wjrtnEGjxvYbxSyeQZt/h5k0TZ9BT6HI868moEEBdcF6H5agQaJT4wJ29KBBDSpKTVJBoUF76jYfZXyhQV1xu5NxpaFBhO1/Wk28oUHGFmHj4MChQfU8unYns6FBOSVCOi+ToUHHsnUiGWGhQTZjn9AYHaFBC6OeXXTHoEEp16URhGCgQUAucxJk0Z9Bg86dj/PAnkG0ZvJwz5CdQfaQVjoxQpxBgQZB2nHWmkFDiClGCE+ZQX7ZBPiHrZdB2TlbTp/zlUGhGqbQFSOUQVJdvlnKPZJBryY/KrFFkEEZNLTJo3mMQYcbYe2KSohBOsOz22cChEGCAUYBSUt/QcahXBaAcXZBnXPOKikBa0FkiQvZ9wZSQVWWC9n3BlLB6HnOKikBa8H3pFwWgHF2wZYERgFJS3/BxcSz22cChMEFHWHtikqIwZQ1tMmjeYzBZCc/KrFFkMEDXr5Zyj2SwUcbptAVI5TBfTpbTp/zlcEV2gT4h62XwdiIKUYIT5nBBwdB2nHWmsF3kVY6MUKcwRxn8nDPkJ3B786dj/PAnsGeLnMSZNGfwVPXpRGEYKDBLaOeXXTHoMFTY5/QGB2hwd6ydSIZYaHBSiVCOi+TocH/PLp2J7OhwcgWYePgwKHBgO1/Wk28ocFVcbuTcaWhwWzqNh9lfKHB9SlKTVJBocGIU+MCdvSgweF0wXoflqDBJqHI868moME/f4eZNE2fwTzG9hvFLJ7BX3M3wjrtnMHLwOvv3o+bwSgmdcUZFprByHG6rHCBmMF5Rr3HhNOWwfvHnEIRDpXBp7PAiukyk8GQzwNt90ORwVW9nDlyho7B/h9STH5lisEAF82ZVCmGwTB7KrZS1oHBWvzwg9vhesGPc9SjW/txwfA4BgylBGLBAAAAAAD+tz4=",
        "encoding": "base64",
        "path": [
         "_data",
         0,
         "y",
         "value"
        ]
       },
       {
        "data": "ietIKgDTncE=",
        "encoding": "base64",
        "path": [
         "_data",
         1,
         "x",
         "value"
        ]
       },
       {
        "data": "L/AASgRalME=",
        "encoding": "base64",
        "path": [
         "_data",
         1,
         "y",
         "value"
        ]
       },
       {
        "data": "D/4BVfb0nMGyhaabg8SawXK+GFE1ZJjB3JQBX4vWlcGrswVmNR6TwSxoauoPPpDBGpwDo0JyisFuwhFmLSWEwVeoQQcCN3vBPWykeXhwa8Fg0i3kJeIBQeDGrHDWnGxBRgsTctG4fEE+tX5p5qmFQatu2gwACI1BvyDGxHo3kkEKUyq6fuuVQc3VoaAmnJlB8qnzupBFnUEzmwJ18XGgQc0hG12nOaJBGyE7sgr4o0GOQm7fRaulQWo3TwyPUadBaCOq/inpqEFgssvtaXCqQfdBkUWz5atBMJ9fV31HrUGb4jj3U5SuQebdPgPZyq9BriAD6uJ0sEFXgRtK9vewQbhECL8cbrFBV8/B/tnWsUHneNjavzGyQWWPXLRufrJB1Sx14JW8skEXDzz98+uyQf0shTZXDLNBSK5Jep0ds0FyIn+ctB+zQRpCNWqaErNBOh/mq1z2skEdVfYWGcuyQcZ4dC79kLJBCKo4E0ZIskGeopZDQPGxQW7o5UpHjLFBQck0YcUZsUHybYv7MpqwQQ==",
        "encoding": "base64",
        "path": [
         "_data",
         2,
         "x",
         "value"
        ]
       },
       {
        "data": "9iNonLCNlcFknSKBSEqYwQGLTVyp3prBKyALfRxIncH+pztbGISfwYWwYqEhyKDB1hFG5jq1ocGHez+RXoiiwZSyLIauQKPBj0N44Wjdo8HUGhDE6F2kwUSf1QCnwaTBJdzQqjoIpcHDI5GDWTGlwQUOR0nYPKXB0alF5KoqpcEWA7tz5PqkwaGbkjm3raTBxP+WZXRDpMGnFArAi7yjwbX3DTSLGaPBmCJaOh5bosFo4NkkDYKhweXU8Us8j6DBaoaUPFYHn8H4iTUo5sCcwYk4JA6NTZrBQDYj4N6vl8F0Rx4YnOqUwVDRFdOuAJLBr996gE/qjcG5lQ7PdZaHwUoIAZZ4DIHBXMUomnGmdMHF3NsZSY5bwcQYT5HLhFxBJugWqR5ZdUGUKdv9ndqBQXU7jd43E4lBrnXPJ2InkEHpJCTI08KTQTV/eGMlWJdBi1R+/pHjmkEtboQGX2GeQVM+0R7w5qBB4c3oy72SokFKeHCCVjKkQcADpREFxKVBFHUA7CJGp0HCKbzjGbeoQQ==",
        "encoding": "base64",
        "path": [
         "_data",
         2,
         "y",
         "value"
        ]
       },
       {
        "data": "7oTUjFTJsEHI4+zFmS+wQUA/uIncCa9ByK2cYbyUrUFg5MlSHQKsQejnU/R3VKpBz2E2U2+OqEGGgLTNzLKmQWq1hLJ7xKRBxVapqoTGokGZ8yr1CLygQXU7Y/h6UJ1BqT5ulsscmUFpP3ncneOUQciuJISUq5BB3qpd96D2iEGpm4r3zLKAQdNCFcJSMXFBgHhveiGeNkG8EY/C2q9rwaP3i+4ifHzBg7tSut41hcHyBsrNa8iLwYIMdo2y9ZDBSkDjLJPKk8HRTajbZF6WwWweJegarZjBdLdyNRWzmsG/e57tJW2cwaenWICW2J3Bhv885ivznsEuFAMiKrufwXc9Cn2rF6DBYncg830noMGaVESX8wygwTtZOjlskJ/B4fvpB2OznsEJeA7kJoSdwQo5Wz2UBJzB2xgvvQU3msHhurCTUB6YwaoTaATAvZXBSlFTORAZk8E20phkaDSQwW8gHXSoKIrBoTKvlXl7g8F3REE5g9d4wV9cRSNjEmTBTrcPGvpyVUFkxcqRG0J1QQ==",
        "encoding": "base64",
        "path": [
         "_data",
         3,
         "x",
         "value"
        ]
       },
       {
        "data": "omq6xIU2qEHEJGfSI7upQblMC4uTI6tBRahDn55trEEmDHWAPpetQbNRi4+fnq5Bft6w+yOCr0H8Lj4mMyCwQeGQy8kdbLBBRto0oVqksEEiV3ZQkciwQVRxqPGI2LBBQFVlbijUsEFPrjOndruwQeSMuGiajrBBA3DBLtpNsEFqdAxrN/OvQXkhorPGJK9BFJQOkqYxrkHAVrQEVRutQYOfX1WH46tB6G03aieMqkECdwXEUBepQSQ9ji5Nh6dB9yQtKJHepUFFoVoGuB+kQVb1K91/TaJBPvA7MMVqoEEakIPn/PScQdq9zMlu/5hB24VQgRj7lEHlkabBSe6QQfhh5Rq/volBrrbabXSpgUEwDuJszVJzQcj/xwd9skxBDILNGa6TZ8EM6OY2frV6wTLHokCaioTBkTzFNzJpi8E2vxH43fWQwQMR6H3+A5TBPIrW0C3alsEmu3j59nOZwWZePuZDzZvBw/b61mPincHpI0UpEbCfwZO8RD67maDBioXekhk1ocHdhNh1L6mhwQ==",
        "encoding": "base64",
        "path": [
         "_data",
         3,
         "y",
         "value"
        ]
       },
       {
        "data": "IK6SMF0kgUEATGYPuTeLQVgPfnsppZJBnNz0oFupl0EeLaLvvaOcQVs+CErSx6BBATvzqDg0o0EVUKHsy5SlQfW2ogVR56dBlD/kFJopqkFntSp3iFmsQUrUQsIOda5Bbv8DWRk9sEGfirmBhzOxQbTS+Z3qHLJBDhe0rWf4skFOHo+7MMWzQUJdLJ6FgrRB69x4rLQvtUHfq2JkG8y1Qb1sVgMnV7ZBYur1D1XQtkFteIbUMze3QRA+pMlii7dBe0vW8JLMt0Eae64eh/q3Qe2QLzQUFbhBLrtDRyEcuEGdfB26pw+4QWkQbUGz77dBJHRk2WG8t0GcZpSp43W3QW7CvNd6HLdB8pq6SXuwtkHQWc5WSjK2QeC8g2heorVBkO+Uiz4BtUFwAzHxgU+0QUixHGHPjbNBdYMyndy8skFeQ9W2bd2xQaO09FZU8LBB5oGi8t3sr0HPYm43UOGtQYm16sPqv6tBTmu7Xq2KqUGBWlBtqkOnQTTnMQIF7aRBUr6n2+6IokECVZtUphmgQQ==",
        "encoding": "base64",
        "path": [
         "_data",
         4,
         "x",
         "value"
        ]
       },
       {
        "data": "8AO6hE+NocEd4MKpeEOhwWpcMCqWxKDBDPwoFh8RoMF/9Eipd1OewZqzzAqLHpzB4Q+BaoqFmcGFgbrK5YqWwVYt88xoMZPBklWNJHD4jsFFRtWQnN2GwbcJo5fjM3zBTPRRxaTWYsFwR4+utBllQb4o3IvloX9BCiPgcAPgikHe6zFQnzSTQZpL4JLoMJlBAjv7qz9fn0HIuIjn69yiQcKzglRdHaZBaeIk/OZtqUHkm2qjbMusQRGIG/BiGbBBg/f0h2DQsUEkiE0rE4mzQT6WFlLdQbVBLh0xXiH5tkEYm4wfQ624QeV17lapXLpBffP2Nb8FvEEYa/va9aa9QbZAUcfFPr9BBDlVJ9hlwEG1fhV/ICbBQWMY83yH38FBsva9J1+RwkHuEUyeADvDQSgUEbTM28NBcv96hixzxEEZqIcKkgDFQREoDpJ4g8VBZDk/SGX7xUEApOek52fGQWGXCNaZyMZBH9piHyEdx0HrJ5svLmXHQVbZp2p9oMdBDf5BKdfOx0HUYR7tD/DHQQ==",
        "encoding": "base64",
        "path": [
         "_data",
         4,
         "y",
         "value"
        ]
       },
       {
        "data": "8zXn/CYxj0HY2O+snT6bQV1tgy3cY6NB2y2FtP8TqUExh4dm3KmuQWFpXyrYD7JBLQXzSu23tEH5qsiJcEq3QSG1vRe7xLlBKPB9HT8kvEG09oFdima+QW/8zFykRMBBfb+1TCNFwUGmXLSXuTPCQbs+9UxxD8NBN4Ud72fXw0HMc8Ndz4rEQflE6anuKMVBJFif1CKxxUH7OAl33yLGQW1NGFOvfcZBXvlmzDTBxkGMo7dIKu3GQS0jtHdiAcdBtqCjgcj9xkFVw+YcYOLGQYoFJIpFr8ZBiiIod61kxkH+oZjI5ALGQdt7sEpQisVBTYlYSWz7xEHT3QYQzFbEQXQc6VEZncNBpEz2ehPPwkExgZzqju3BQY641Rh0+cBBNUILTX3nv0FBjC60+Lq9QXYNzBKYb7tBzv8g5LgHuUEGZ8wC1oW2Qds6YxqF7LNBNARg/XM+sUG0BlrEy/ysQe0/QxRhXqdBETnFqnKnoUHp86AaybuXQR488c+3HohBADA1npFpNUGFMHMfg8qGwYQV1SREFZfBlagknypXocE7tQQkQBKnwdx/ulP6tazBFv5KekQescGRxk/vHNCzwT6rWG2/bbbBNBNCrnn0uMGkXeQIsWG7wd43SSDlsr3B0kLFd7Llv8GyyqZ06vvAwf+sv/2U88HBdId4itnYwsHiXkTFy6rDwXhMXEOTaMTBpt/VY2wRxcHqm0sZqaTFwYWzR52xIcbBMQy4DAWIxsGNR8rsOdfGwQ3bppf+DsfBHiKbkBkvx8GjqFu/aTfHwaKXIZLmJ8fB0RmABqAAx8GonOiYvsHGwQ3s7hqDa8bBYy14cEb+xcHDmhk0eXrFwSJyBUOj4MTBcr/9MGMxxMFmYN2kbW3DwfLBX56MlcLBok3npZ6qwcFaKxnnla3AwTmadW7uPr/B9DOlELICvcHXv0GUxKi6wV7aMXSSM7jBkm0nR6SltcFjaAsjnAGzwYISIeYySrDBLoNa0WoEq8HH2ws0A1mlwS90DzAOMJ/BzAuJv8mOk8G603N62Gh/wd4VhBjeDG9BzDTn/CYxj0E=",
        "encoding": "base64",
        "path": [
         "_data",
         5,
         "x",
         "value"
        ]
       },
       {
        "data": "0XYPwCPjxcHbPvjT+bXFwTCZXc08ccXBUqukhzMVxcE/qkXiPKLEwbPN/17PGMTB1YGwp3h5w8G1w0v83MTCwZYwjIm2+8HB708JqdQewcH063kLGy/Awe2Z/ZsBW77BaJHP9h42vMH1dPP0w/G5wcgbn9RGkLfBdPAF3BsUtcErcbXR0n+ywRauMLEorK/By26yZD4zqsH0t+/VipqkwZRD8MGlz53B45gUZ+xBksHTvGz4SV96wU0q3VaHinRB1girlVnhkEHsbPhdOZicQWyFWfCWHaRBL4QvLBzfqUEDBK5yvYqvQWupWTJRjbJBdx8lnYdEtUG1q9dVNei3QQvhYtuhdbpBqVOEnSvqvEEzgRizSkO/QU8Y/rpJv8BBs+nlgNzMwUFNPHfJR8nCQWJIvWGHs8NB4vrS0amKxEEhH8xV0U3FQcYYT8I0/MVB54jzUyCVxkFKG5Bo9hfHQcR3uCEwhMdB7tfD713Zx0FC8cwEKBfIQceoNK9OPchBD0NKm6pLyEF3YtX7LELIQbYJWJnfIMhBhOj4x+Tnx0FYVyBEd5fHQa587PXpL8dBVwW7m6exxkF7iCBcMh3GQfQDvz8jc8VBX72Fkym0xEFyJP0zCuHDQb78WMKe+sJBsv0hxNQBwkGCKV6urPfAQXp8aLpxur9BJ4g18jhnvUHIgGyVFPi6QRLhN/2Gb7hBvA9+tCzQtUFRcrvGuRyzQZp3ovb2V7BBKvLBvn0Jq0F7owAH9kulQfcBojGD+p5B6w569rlGk0H87yvugSJ+QTGpJfq5znDB1uCHHzTEj8GPoyOhl3abwYO/H6ubcqPBLlGpLRgRqcGF74WF9pCuweC/5rdF9rHB1h+riCiPtMHq3RFUdhC3wXtGNAiad7nBySO1ixnCu8HPXGVLmO29wZxyeanZ97/BT7fmpWHvwMGrZ2ujL9DBwVwyhBFvncLBhmNJXUxWw8Egd8r2CPrDwSyjfRX8h8TB0yM8ZpP/xMGR7xeiU2DFwQZYbw3ZqcXB4Ji73tfbxcFUW7CMHPbFwR6mWwOM+MXB03YPwCPjxcE=",
        "encoding": "base64",
        "path": [
         "_data",
         5,
         "y",
         "value"
        ]
       },
       {
        "data": "tB0MCD3XokE=",
        "encoding": "base64",
        "path": [
         "_data",
         6,
         "x",
         "value"
        ]
       },
       {
        "data": "Eqfqa6/Jx0E=",
        "encoding": "base64",
        "path": [
         "_data",
         6,
         "y",
         "value"
        ]
       }
      ],
      "model_module": "plotlywidget",
      "model_module_version": "^0.7.1",
      "model_name": "FigureModel",
      "state": {
       "_config": {
        "plotlyServerURL": "https://plot.ly"
       },
       "_data": [
        {
         "hoverinfo": "none",
         "line": {
          "color": "rgb(31, 119, 180)",
          "dash": "dash",
          "width": 2
         },
         "mode": "lines",
         "name": "2011-08-05 16:26 (Earth)",
         "type": "scatter",
         "uid": "1b884f4d-e768-461e-ab40-897103b329b5",
         "x": {
          "dtype": "float64",
          "shape": [
           100
          ]
         },
         "y": {
          "dtype": "float64",
          "shape": [
           100
          ]
         }
        },
        {
         "marker": {
          "color": "rgb(31, 119, 180)",
          "size": 10
         },
         "mode": "markers",
         "name": "2011-08-05 16:26 (Earth)",
         "type": "scatter",
         "uid": "345a61cf-7347-4016-a86f-8223bcade3b4",
         "x": {
          "dtype": "float64",
          "shape": [
           1
          ]
         },
         "y": {
          "dtype": "float64",
          "shape": [
           1
          ]
         }
        },
        {
         "hoverinfo": "none",
         "line": {
          "color": "rgb(255, 127, 14)",
          "dash": "solid",
          "width": 2
         },
         "mode": "lines",
         "name": "Inner Cruise 1",
         "type": "scatter",
         "uid": "a26fc49d-fd53-4a3b-a027-99a37b39b282",
         "x": {
          "dtype": "float64",
          "shape": [
           50
          ]
         },
         "y": {
          "dtype": "float64",
          "shape": [
           50
          ]
         }
        },
        {
         "hoverinfo": "none",
         "line": {
          "color": "rgb(44, 160, 44)",
          "dash": "solid",
          "width": 2
         },
         "mode": "lines",
         "name": "Back to Earth",
         "type": "scatter",
         "uid": "15f8cef5-553b-433f-b1cd-78783a51d4ae",
         "x": {
          "dtype": "float64",
          "shape": [
           50
          ]
         },
         "y": {
          "dtype": "float64",
          "shape": [
           50
          ]
         }
        },
        {
         "hoverinfo": "none",
         "line": {
          "color": "rgb(214, 39, 40)",
          "dash": "solid",
          "width": 2
         },
         "mode": "lines",
         "name": "Jupiter Orbit Insertion Phase",
         "type": "scatter",
         "uid": "fad63914-dc5e-4721-8779-e2a0b3aa9b72",
         "x": {
          "dtype": "float64",
          "shape": [
           50
          ]
         },
         "y": {
          "dtype": "float64",
          "shape": [
           50
          ]
         }
        },
        {
         "hoverinfo": "none",
         "line": {
          "color": "rgb(148, 103, 189)",
          "dash": "dash",
          "width": 2
         },
         "mode": "lines",
         "name": "2016-07-05 03:19 (Jupiter)",
         "type": "scatter",
         "uid": "e4859663-b125-4fca-893e-e45795a00f7c",
         "x": {
          "dtype": "float64",
          "shape": [
           100
          ]
         },
         "y": {
          "dtype": "float64",
          "shape": [
           100
          ]
         }
        },
        {
         "marker": {
          "color": "rgb(148, 103, 189)",
          "size": 10
         },
         "mode": "markers",
         "name": "2016-07-05 03:19 (Jupiter)",
         "type": "scatter",
         "uid": "e7bd2277-c5c4-4d6e-94fb-595fbf641982",
         "x": {
          "dtype": "float64",
          "shape": [
           1
          ]
         },
         "y": {
          "dtype": "float64",
          "shape": [
           1
          ]
         }
        }
       ],
       "_js2py_restyle": {},
       "_js2py_update": {},
       "_last_layout_edit_id": 9,
       "_last_trace_edit_id": 8,
       "_layout": {
        "autosize": true,
        "shapes": [
         {
          "fillcolor": "#ffcc00",
          "line": {
           "color": "#ffcc00"
          },
          "opacity": 1,
          "type": "circle",
          "x0": -21895056.19935296,
          "x1": 21895056.19935296,
          "xref": "x",
          "y0": -21895056.19935296,
          "y1": 21895056.19935296,
          "yref": "y"
         }
        ],
        "template": {},
        "xaxis": {
         "constrain": "domain",
         "range": [
          -81839357.00946367,
          222972336.38784933
         ],
         "title": {
          "text": "x (km)"
         }
        },
        "yaxis": {
         "range": [
          -251359290.63603938,
          92778041.128147
         ],
         "scaleanchor": "x",
         "title": {
          "text": "y (km)"
         }
        }
       },
       "_py2js_animate": {},
       "_py2js_deleteTraces": {},
       "_py2js_moveTraces": {},
       "_py2js_removeLayoutProps": {},
       "_py2js_removeTraceProps": {},
       "_py2js_restyle": {},
       "_view_count": 0
      }
     },
     "8bdd3f771584486c81a824e489db9ae8": {
      "buffers": [
       {
        "data": "8HSogo9moUEg1g1CaF2hQQqkt+/7QaFBA/FY0GYUoUFMeLrg19SgQSQWS6WQg6BBr2SW5uQgoEH+N861dFqfQcd43HoQUp5B5i22pq0pnUGKzMW+feKbQb+HkQjSfZpBPpoQLhr9mEGZUKzC4mGXQcOBc6rTrZVBO9slZa7ik0Esbtk+TAKSQTUfGGicDpBBHcvX7kMTjEEQEdCs4+qHQetfpThhqINBsTCUYkGgfkGvDaQ+Oc11QesXTVyFwWlBOijvhoQgT0F0r0j3ZX5UwYYzMWfhQWzBI81Sq6wWd8EAWbD2kPd/wbi6wFE7XYTBeOpv1SqriMGTHDwgJ+GMwUACF35sfZDBrTp7LgN6ksF2NapdS2SUwU7F9qZLOpbBTHifjR/6l8HHHjpw+aGZwZehj2QkMJvBoaH9+QWjnMEcnY3gH/mdwVx5DXMRMZ/BXJlJkcwkoMGFffrgyqCgwV0L8NcDDKHB95gt7whmocEMRlJbfa6hweaKQGwW5aHBJaYb2psJosFtjEv/5xuiwWqMS//nG6LBHKYb2psJosHWikBsFuWhwfVFUlt9rqHB2pgt7whmocE7C/DXAwyhwV59+uDKoKDBL5lJkcwkoMH0eA1zETGfwa2cjeAf+Z3BJKH9+QWjnMESoY9kJDCbwTkeOnD5oZnBuHefjR/6l8GoxPamSzqWwdw0ql1LZJTB9jl7LgN6ksGLARd+bH2QwRcbPCAn4YzBD+lv1SqriMEvucBRO12EwfRVsPaQ93/BH8pSq6wWd8FcLTFn4UFswcqiSPdlflTBdUHvhoQgT0GSHU1chcFpQdMQpD45zXVB8TOUYkGgfkF0YaU4YaiDQYIS0Kzj6odBjczX7kMTjEHpHxhonA6QQdhu2T5MApJB6NslZa7ik0FignOq062VQSxRrMLiYZdBu5oQLhr9mEE8iJEI0n2aQf3Mxb594ptBVi62pq0pnUEoedx6EFKeQVU4zrV0Wp9B1GSW5uQgoEFDFkulkIOgQWR4uuDX1KBBF/FY0GYUoUEXpLfv+0GhQSfWDUJoXaFB8HSogo9moUE=",
        "encoding": "base64",
        "path": [
         "_data",
         0,
         "x",
         "value"
        ]
       },
       {
        "data": "AAAAAACuuT4APwYMpQRiQat21KNb+3FBVv/wg9vhekGvfCq2UtaBQXcYzZlUKYZBayFSTH5likG0vpw5coaOQTvQA233Q5FBUrTAiukyk0GUyJxCEQ6VQQlHvceE05ZBS3K6rHCBmEGrJnXFGRaaQUnB6+/ej5tB2HM3wjrtnEGjxvYbxSyeQZt/h5k0TZ9BT6HI868moEEBdcF6H5agQaJT4wJ29KBBDSpKTVJBoUF76jYfZXyhQV1xu5NxpaFBhO1/Wk28oUHGFmHj4MChQfU8unYns6FBOSVCOi+ToUHHsnUiGWGhQTZjn9AYHaFBC6OeXXTHoEEp16URhGCgQUAucxJk0Z9Bg86dj/PAnkG0ZvJwz5CdQfaQVjoxQpxBgQZB2nHWmkFDiClGCE+ZQX7ZBPiHrZdB2TlbTp/zlUGhGqbQFSOUQVJdvlnKPZJBryY/KrFFkEEZNLTJo3mMQYcbYe2KSohBOsOz22cChEGCAUYBSUt/QcahXBaAcXZBnXPOKikBa0FkiQvZ9wZSQVWWC9n3BlLB6HnOKikBa8H3pFwWgHF2wZYERgFJS3/BxcSz22cChMEFHWHtikqIwZQ1tMmjeYzBZCc/KrFFkMEDXr5Zyj2SwUcbptAVI5TBfTpbTp/zlcEV2gT4h62XwdiIKUYIT5nBBwdB2nHWmsF3kVY6MUKcwRxn8nDPkJ3B786dj/PAnsGeLnMSZNGfwVPXpRGEYKDBLaOeXXTHoMFTY5/QGB2hwd6ydSIZYaHBSiVCOi+TocH/PLp2J7OhwcgWYePgwKHBgO1/Wk28ocFVcbuTcaWhwWzqNh9lfKHB9SlKTVJBocGIU+MCdvSgweF0wXoflqDBJqHI868moME/f4eZNE2fwTzG9hvFLJ7BX3M3wjrtnMHLwOvv3o+bwSgmdcUZFprByHG6rHCBmMF5Rr3HhNOWwfvHnEIRDpXBp7PAiukyk8GQzwNt90ORwVW9nDlyho7B/h9STH5lisEAF82ZVCmGwTB7KrZS1oHBWvzwg9vhesGPc9SjW/txwfA4BgylBGLBAAAAAAD+tz4=",
        "encoding": "base64",
        "path": [
         "_data",
         0,
         "y",
         "value"
        ]
       },
       {
        "data": "ietIKgDTncE=",
        "encoding": "base64",
        "path": [
         "_data",
         1,
         "x",
         "value"
        ]
       },
       {
        "data": "L/AASgRalME=",
        "encoding": "base64",
        "path": [
         "_data",
         1,
         "y",
         "value"
        ]
       },
       {
        "data": "D/4BVfb0nMGyhaabg8SawXK+GFE1ZJjB3JQBX4vWlcGrswVmNR6TwSxoauoPPpDBGpwDo0JyisFuwhFmLSWEwVeoQQcCN3vBPWykeXhwa8Fg0i3kJeIBQeDGrHDWnGxBRgsTctG4fEE+tX5p5qmFQatu2gwACI1BvyDGxHo3kkEKUyq6fuuVQc3VoaAmnJlB8qnzupBFnUEzmwJ18XGgQc0hG12nOaJBGyE7sgr4o0GOQm7fRaulQWo3TwyPUadBaCOq/inpqEFgssvtaXCqQfdBkUWz5atBMJ9fV31HrUGb4jj3U5SuQebdPgPZyq9BriAD6uJ0sEFXgRtK9vewQbhECL8cbrFBV8/B/tnWsUHneNjavzGyQWWPXLRufrJB1Sx14JW8skEXDzz98+uyQf0shTZXDLNBSK5Jep0ds0FyIn+ctB+zQRpCNWqaErNBOh/mq1z2skEdVfYWGcuyQcZ4dC79kLJBCKo4E0ZIskGeopZDQPGxQW7o5UpHjLFBQck0YcUZsUHybYv7MpqwQQ==",
        "encoding": "base64",
        "path": [
         "_data",
         2,
         "x",
         "value"
        ]
       },
       {
        "data": "9iNonLCNlcFknSKBSEqYwQGLTVyp3prBKyALfRxIncH+pztbGISfwYWwYqEhyKDB1hFG5jq1ocGHez+RXoiiwZSyLIauQKPBj0N44Wjdo8HUGhDE6F2kwUSf1QCnwaTBJdzQqjoIpcHDI5GDWTGlwQUOR0nYPKXB0alF5KoqpcEWA7tz5PqkwaGbkjm3raTBxP+WZXRDpMGnFArAi7yjwbX3DTSLGaPBmCJaOh5bosFo4NkkDYKhweXU8Us8j6DBaoaUPFYHn8H4iTUo5sCcwYk4JA6NTZrBQDYj4N6vl8F0Rx4YnOqUwVDRFdOuAJLBr996gE/qjcG5lQ7PdZaHwUoIAZZ4DIHBXMUomnGmdMHF3NsZSY5bwcQYT5HLhFxBJugWqR5ZdUGUKdv9ndqBQXU7jd43E4lBrnXPJ2InkEHpJCTI08KTQTV/eGMlWJdBi1R+/pHjmkEtboQGX2GeQVM+0R7w5qBB4c3oy72SokFKeHCCVjKkQcADpREFxKVBFHUA7CJGp0HCKbzjGbeoQQ==",
        "encoding": "base64",
        "path": [
         "_data",
         2,
         "y",
         "value"
        ]
       },
       {
        "data": "1iHMLujpl8Gnfd0DNv2VwVN2rN6Q45PBYFCS9iKfkcHSgIA6hWSOwdaR+avfPonB9A/Ng6PSg8GaJJKPz0p8wQ/zVvwMenDBNDh+K7X8UMGqe/FKaLJgQYrFypEbQnVBXwLsGh03gUFftOcB/ueHQY4xv9HKrI5BpSegqkS/kkFYfrH/GCuWQeStJpVblplB/2RQLob9nEFNSmRjiy6gQZI/EpjJ2KFBv3zJU8Z7o0GIetqv0RWlQX1Ihf1EpaZBKGmveYQoqEEY3lf1AJ6pQdnaE3E5BKtBK/PrqbxZrEELrACWKp2tQY4Pbs81za5BnTD466Tor0EtLQ/gKXewQXrxI0aa7rBBPRZqiShasUH7mPfKZbmxQZR8Et7vC7JBCCVkrXFRskFYBK6So4myQY4vpaBLtLJB4rmo3j3RskFVSBV2XOCyQW8kB9GX4bJBnBlrqu7UskFRjU0PbrqyQZp4ZlExkrJBXiHw6mFcskGYmuVTNxmyQZse1cj2yLFBBjSBA/NrsUGEL5rliwKxQYz55xUujbBBafpJkFIMsEE9QAFS/ACvQb8ZggeC1K1BICVA/muUrEHjSdspBEKrQeakSmCn3qlBVSJG8sNrqEFTa6sx2OqmQSRmY+dwXaVB1IheuifFo0ErnU2JoSOiQStByriMeqBBObZc7z6XnUFDq8f2KzGaQRGB/GthxpZBprPsD2Vak0ENCZC9e+GPQa3dVtrgGYlBDk6Vj/ZkgkFOZ0RlTZN3Qf+rh9ECO2VB/JZuPtZQQMEAaz1t96xswaGo9/jzOnrBTjBXoKDVgsHO85Z/zE2IwehRh0ZagI3B45ttMvczkcHFWcFJvX+TwVsoa4UhoZXBBg3csfGVl8GZUVGPKVyZwUqp/eX08ZrB3GOvaLFVnMFNKgJk8IWdweHHXzh4gZ7B9VhKnUVHn8EGnqKsjNafwf93a9pcF6DBFBaR6LgnoMED1J6jSRygwTCXJao16p/BNw3Mwalkn8GZp9M3eaiewaC2pwlmtp3BoiyEwGmPnMEudTtwtDSbwTtcw32rp5nB1yHMLujpl8E=",
        "encoding": "base64",
        "path": [
         "_data",
         3,
         "x",
         "value"
        ]
       },
       {
        "data": "GSXXRCg/kcFyJ+XG2biTwagLed4kDpbBFxKi16E8mMH0fL3+EEKawZmu6PFcHJzBEJ7TxpzJncEc3LwCFkifwcvSRzEfS6DBQeqmuF7ZoMFLYJH1Nk6hwd6E2HUvqaHB+dYxc+rpocHzOOEzJRCiwVspgU+4G6LBWBmi15cMosHDABdk0+KhwVaC4gKWnqHBoDHVCyZAocGTugrY5MegweSpkF1ONqDBwI08X/EXn8EFb8LHJpOdwczM/LrN35vBVHwD/ab/mcFLUCOBofSXwRF4qWvYwJXBQy8h5pBmk8H0oEDIN+iQwYoQ3S++kIzBIIboxXYTh8HRFy/qQV6BwZoM77UD7nbBOEJjsjGPZcEoHb6LZ6M6QX3PzX4stWxBqs9A/HE8e0GqHykXQSGEQQKsQQGtr4pB8CGXSl2hkEEKAL9y0emTQQq8eJ3QLZdBttxMB/1pmkEtNz/9AJudQZzyaCbJXqBBbX4W1DrnoUECD3b9QGWjQbxgEdZR16RBSMcd5e87pkHJ6baOq5GnQZ02z44k16hBUnBPZAsLqkEiA++qIiyrQcShYGJAOaxBmOeBIU8xrUFQWFE0TxOuQWL3g6NX3q5BSsGqJJeRr0FjPfh4KhawQdK4SMT4VrBBU2ykpvOKsEHtHwWL5bGwQYeYPEymy7BBk4hWXhvYsEHD+vXpN9ewQWgBktn8yLBBaAWE2HitsEHRrehDyISwQYH2Yg0VT7BBm5nfj5YMsEGtugqtInuvQW4wGqytxK5BNYKUMYr2rUExMnW7jBGtQeW4AVahFqxBAMB2qMoGq0HSCGjqIOOpQWLW5cLQrKhBoZyREhplp0EObuGpTg2mQcIM5uzQpqRBJ5b6ZRIzo0ETW9ZIkrOhQdWPiefbKaBB6Qr4NQovnUEu9yNBWfyZQYeYTN3wvpZB0kYlAyh6k0GxRgxGXTGQQXTMwrXmz4lBCQQ1NZtCg0FEjLsQMoN5QbLomAtSTmlBADxu/mAzusDUszrnS9RowaBGXciUhXjBCa7yXrojgsGdraeX09GHwWh0vyM7R43BGCXXRCg/kcE=",
        "encoding": "base64",
        "path": [
         "_data",
         3,
         "y",
         "value"
        ]
       },
       {
        "data": "HtZdBa+ysEE=",
        "encoding": "base64",
        "path": [
         "_data",
         4,
         "x",
         "value"
        ]
       },
       {
        "data": "7222ymt0qEE=",
        "encoding": "base64",
        "path": [
         "_data",
         4,
         "y",
         "value"
        ]
       }
      ],
      "model_module": "plotlywidget",
      "model_module_version": "^0.7.1",
      "model_name": "FigureModel",
      "state": {
       "_config": {
        "plotlyServerURL": "https://plot.ly"
       },
       "_data": [
        {
         "hoverinfo": "none",
         "line": {
          "color": "rgb(31, 119, 180)",
          "dash": "dash",
          "width": 2
         },
         "mode": "lines",
         "name": "2011-08-05 16:26 (Earth)",
         "type": "scatter",
         "uid": "39c806d3-8568-4c3e-ac79-41479912b12a",
         "x": {
          "dtype": "float64",
          "shape": [
           100
          ]
         },
         "y": {
          "dtype": "float64",
          "shape": [
           100
          ]
         }
        },
        {
         "marker": {
          "color": "rgb(31, 119, 180)",
          "size": 10
         },
         "mode": "markers",
         "name": "2011-08-05 16:26 (Earth)",
         "type": "scatter",
         "uid": "1a655934-5ebb-47e5-b50e-0381437f7dc8",
         "x": {
          "dtype": "float64",
          "shape": [
           1
          ]
         },
         "y": {
          "dtype": "float64",
          "shape": [
           1
          ]
         }
        },
        {
         "hoverinfo": "none",
         "line": {
          "color": "rgb(255, 127, 14)",
          "dash": "solid",
          "width": 2
         },
         "mode": "lines",
         "name": "Inner Cruise 1",
         "type": "scatter",
         "uid": "b8131dd5-a771-4d6a-b144-bb046381737f",
         "x": {
          "dtype": "float64",
          "shape": [
           50
          ]
         },
         "y": {
          "dtype": "float64",
          "shape": [
           50
          ]
         }
        },
        {
         "hoverinfo": "none",
         "line": {
          "color": "rgb(44, 160, 44)",
          "dash": "dash",
          "width": 2
         },
         "mode": "lines",
         "name": "2012-09-01 14:40 (Back to Earth)",
         "type": "scatter",
         "uid": "8acacca6-891c-4d3f-b4ae-9ec0d7fd9269",
         "x": {
          "dtype": "float64",
          "shape": [
           100
          ]
         },
         "y": {
          "dtype": "float64",
          "shape": [
           100
          ]
         }
        },
        {
         "marker": {
          "color": "rgb(44, 160, 44)",
          "size": 10
         },
         "mode": "markers",
         "name": "2012-09-01 14:40 (Back to Earth)",
         "type": "scatter",
         "uid": "ee91c1bd-4a41-48b2-a23f-0e81a7b24bb8",
         "x": {
          "dtype": "float64",
          "shape": [
           1
          ]
         },
         "y": {
          "dtype": "float64",
          "shape": [
           1
          ]
         }
        }
       ],
       "_js2py_pointsCallback": {},
       "_js2py_relayout": {},
       "_js2py_restyle": {},
       "_js2py_update": {},
       "_last_layout_edit_id": 6,
       "_last_trace_edit_id": 6,
       "_layout": {
        "autosize": true,
        "shapes": [
         {
          "fillcolor": "#ffcc00",
          "line": {
           "color": "#ffcc00"
          },
          "opacity": 1,
          "type": "circle",
          "x0": -21895056.19935296,
          "x1": 21895056.19935296,
          "xref": "x",
          "y0": -21895056.19935296,
          "y1": 21895056.19935296,
          "yref": "y"
         }
        ],
        "template": {},
        "xaxis": {
         "constrain": "domain",
         "title": {
          "text": "x (km)"
         }
        },
        "yaxis": {
         "scaleanchor": "x",
         "title": {
          "text": "y (km)"
         }
        }
       },
       "_py2js_animate": {},
       "_py2js_deleteTraces": {},
       "_py2js_moveTraces": {},
       "_py2js_removeLayoutProps": {},
       "_py2js_removeTraceProps": {},
       "_py2js_restyle": {},
       "_view_count": 0
      }
     },
     "941a8910080748bf836bc03e4d3a76da": {
      "buffers": [
       {
        "data": "8HSogo9moUEg1g1CaF2hQQqkt+/7QaFBA/FY0GYUoUFMeLrg19SgQSQWS6WQg6BBr2SW5uQgoEH+N861dFqfQcd43HoQUp5B5i22pq0pnUGKzMW+feKbQb+HkQjSfZpBPpoQLhr9mEGZUKzC4mGXQcOBc6rTrZVBO9slZa7ik0Esbtk+TAKSQTUfGGicDpBBHcvX7kMTjEEQEdCs4+qHQetfpThhqINBsTCUYkGgfkGvDaQ+Oc11QesXTVyFwWlBOijvhoQgT0F0r0j3ZX5UwYYzMWfhQWzBI81Sq6wWd8EAWbD2kPd/wbi6wFE7XYTBeOpv1SqriMGTHDwgJ+GMwUACF35sfZDBrTp7LgN6ksF2NapdS2SUwU7F9qZLOpbBTHifjR/6l8HHHjpw+aGZwZehj2QkMJvBoaH9+QWjnMEcnY3gH/mdwVx5DXMRMZ/BXJlJkcwkoMGFffrgyqCgwV0L8NcDDKHB95gt7whmocEMRlJbfa6hweaKQGwW5aHBJaYb2psJosFtjEv/5xuiwWqMS//nG6LBHKYb2psJosHWikBsFuWhwfVFUlt9rqHB2pgt7whmocE7C/DXAwyhwV59+uDKoKDBL5lJkcwkoMH0eA1zETGfwa2cjeAf+Z3BJKH9+QWjnMESoY9kJDCbwTkeOnD5oZnBuHefjR/6l8GoxPamSzqWwdw0ql1LZJTB9jl7LgN6ksGLARd+bH2QwRcbPCAn4YzBD+lv1SqriMEvucBRO12EwfRVsPaQ93/BH8pSq6wWd8FcLTFn4UFswcqiSPdlflTBdUHvhoQgT0GSHU1chcFpQdMQpD45zXVB8TOUYkGgfkF0YaU4YaiDQYIS0Kzj6odBjczX7kMTjEHpHxhonA6QQdhu2T5MApJB6NslZa7ik0FignOq062VQSxRrMLiYZdBu5oQLhr9mEE8iJEI0n2aQf3Mxb594ptBVi62pq0pnUEoedx6EFKeQVU4zrV0Wp9B1GSW5uQgoEFDFkulkIOgQWR4uuDX1KBBF/FY0GYUoUEXpLfv+0GhQSfWDUJoXaFB8HSogo9moUE=",
        "encoding": "base64",
        "path": [
         "_data",
         0,
         "x",
         "value"
        ]
       },
       {
        "data": "AAAAAACuuT4APwYMpQRiQat21KNb+3FBVv/wg9vhekGvfCq2UtaBQXcYzZlUKYZBayFSTH5likG0vpw5coaOQTvQA233Q5FBUrTAiukyk0GUyJxCEQ6VQQlHvceE05ZBS3K6rHCBmEGrJnXFGRaaQUnB6+/ej5tB2HM3wjrtnEGjxvYbxSyeQZt/h5k0TZ9BT6HI868moEEBdcF6H5agQaJT4wJ29KBBDSpKTVJBoUF76jYfZXyhQV1xu5NxpaFBhO1/Wk28oUHGFmHj4MChQfU8unYns6FBOSVCOi+ToUHHsnUiGWGhQTZjn9AYHaFBC6OeXXTHoEEp16URhGCgQUAucxJk0Z9Bg86dj/PAnkG0ZvJwz5CdQfaQVjoxQpxBgQZB2nHWmkFDiClGCE+ZQX7ZBPiHrZdB2TlbTp/zlUGhGqbQFSOUQVJdvlnKPZJBryY/KrFFkEEZNLTJo3mMQYcbYe2KSohBOsOz22cChEGCAUYBSUt/QcahXBaAcXZBnXPOKikBa0FkiQvZ9wZSQVWWC9n3BlLB6HnOKikBa8H3pFwWgHF2wZYERgFJS3/BxcSz22cChMEFHWHtikqIwZQ1tMmjeYzBZCc/KrFFkMEDXr5Zyj2SwUcbptAVI5TBfTpbTp/zlcEV2gT4h62XwdiIKUYIT5nBBwdB2nHWmsF3kVY6MUKcwRxn8nDPkJ3B786dj/PAnsGeLnMSZNGfwVPXpRGEYKDBLaOeXXTHoMFTY5/QGB2hwd6ydSIZYaHBSiVCOi+TocH/PLp2J7OhwcgWYePgwKHBgO1/Wk28ocFVcbuTcaWhwWzqNh9lfKHB9SlKTVJBocGIU+MCdvSgweF0wXoflqDBJqHI868moME/f4eZNE2fwTzG9hvFLJ7BX3M3wjrtnMHLwOvv3o+bwSgmdcUZFprByHG6rHCBmMF5Rr3HhNOWwfvHnEIRDpXBp7PAiukyk8GQzwNt90ORwVW9nDlyho7B/h9STH5lisEAF82ZVCmGwTB7KrZS1oHBWvzwg9vhesGPc9SjW/txwfA4BgylBGLBAAAAAAD+tz4=",
        "encoding": "base64",
        "path": [
         "_data",
         0,
         "y",
         "value"
        ]
       },
       {
        "data": "ietIKgDTncE=",
        "encoding": "base64",
        "path": [
         "_data",
         1,
         "x",
         "value"
        ]
       },
       {
        "data": "L/AASgRalME=",
        "encoding": "base64",
        "path": [
         "_data",
         1,
         "y",
         "value"
        ]
       },
       {
        "data": "D/4BVfb0nMGyhaabg8SawXK+GFE1ZJjB3JQBX4vWlcGrswVmNR6TwSxoauoPPpDBGpwDo0JyisFuwhFmLSWEwVeoQQcCN3vBPWykeXhwa8Fg0i3kJeIBQeDGrHDWnGxBRgsTctG4fEE+tX5p5qmFQatu2gwACI1BvyDGxHo3kkEKUyq6fuuVQc3VoaAmnJlB8qnzupBFnUEzmwJ18XGgQc0hG12nOaJBGyE7sgr4o0GOQm7fRaulQWo3TwyPUadBaCOq/inpqEFgssvtaXCqQfdBkUWz5atBMJ9fV31HrUGb4jj3U5SuQebdPgPZyq9BriAD6uJ0sEFXgRtK9vewQbhECL8cbrFBV8/B/tnWsUHneNjavzGyQWWPXLRufrJB1Sx14JW8skEXDzz98+uyQf0shTZXDLNBSK5Jep0ds0FyIn+ctB+zQRpCNWqaErNBOh/mq1z2skEdVfYWGcuyQcZ4dC79kLJBCKo4E0ZIskGeopZDQPGxQW7o5UpHjLFBQck0YcUZsUHybYv7MpqwQQ==",
        "encoding": "base64",
        "path": [
         "_data",
         2,
         "x",
         "value"
        ]
       },
       {
        "data": "9iNonLCNlcFknSKBSEqYwQGLTVyp3prBKyALfRxIncH+pztbGISfwYWwYqEhyKDB1hFG5jq1ocGHez+RXoiiwZSyLIauQKPBj0N44Wjdo8HUGhDE6F2kwUSf1QCnwaTBJdzQqjoIpcHDI5GDWTGlwQUOR0nYPKXB0alF5KoqpcEWA7tz5PqkwaGbkjm3raTBxP+WZXRDpMGnFArAi7yjwbX3DTSLGaPBmCJaOh5bosFo4NkkDYKhweXU8Us8j6DBaoaUPFYHn8H4iTUo5sCcwYk4JA6NTZrBQDYj4N6vl8F0Rx4YnOqUwVDRFdOuAJLBr996gE/qjcG5lQ7PdZaHwUoIAZZ4DIHBXMUomnGmdMHF3NsZSY5bwcQYT5HLhFxBJugWqR5ZdUGUKdv9ndqBQXU7jd43E4lBrnXPJ2InkEHpJCTI08KTQTV/eGMlWJdBi1R+/pHjmkEtboQGX2GeQVM+0R7w5qBB4c3oy72SokFKeHCCVjKkQcADpREFxKVBFHUA7CJGp0HCKbzjGbeoQQ==",
        "encoding": "base64",
        "path": [
         "_data",
         2,
         "y",
         "value"
        ]
       },
       {
        "data": "7oTUjFTJsEHI4+zFmS+wQUA/uIncCa9ByK2cYbyUrUFg5MlSHQKsQejnU/R3VKpBz2E2U2+OqEGGgLTNzLKmQWq1hLJ7xKRBxVapqoTGokGZ8yr1CLygQXU7Y/h6UJ1BqT5ulsscmUFpP3ncneOUQciuJISUq5BB3qpd96D2iEGpm4r3zLKAQdNCFcJSMXFBgHhveiGeNkG8EY/C2q9rwaP3i+4ifHzBg7tSut41hcHyBsrNa8iLwYIMdo2y9ZDBSkDjLJPKk8HRTajbZF6WwWweJegarZjBdLdyNRWzmsG/e57tJW2cwaenWICW2J3Bhv885ivznsEuFAMiKrufwXc9Cn2rF6DBYncg830noMGaVESX8wygwTtZOjlskJ/B4fvpB2OznsEJeA7kJoSdwQo5Wz2UBJzB2xgvvQU3msHhurCTUB6YwaoTaATAvZXBSlFTORAZk8E20phkaDSQwW8gHXSoKIrBoTKvlXl7g8F3REE5g9d4wV9cRSNjEmTBTrcPGvpyVUFkxcqRG0J1QQ==",
        "encoding": "base64",
        "path": [
         "_data",
         3,
         "x",
         "value"
        ]
       },
       {
        "data": "omq6xIU2qEHEJGfSI7upQblMC4uTI6tBRahDn55trEEmDHWAPpetQbNRi4+fnq5Bft6w+yOCr0H8Lj4mMyCwQeGQy8kdbLBBRto0oVqksEEiV3ZQkciwQVRxqPGI2LBBQFVlbijUsEFPrjOndruwQeSMuGiajrBBA3DBLtpNsEFqdAxrN/OvQXkhorPGJK9BFJQOkqYxrkHAVrQEVRutQYOfX1WH46tB6G03aieMqkECdwXEUBepQSQ9ji5Nh6dB9yQtKJHepUFFoVoGuB+kQVb1K91/TaJBPvA7MMVqoEEakIPn/PScQdq9zMlu/5hB24VQgRj7lEHlkabBSe6QQfhh5Rq/volBrrbabXSpgUEwDuJszVJzQcj/xwd9skxBDILNGa6TZ8EM6OY2frV6wTLHokCaioTBkTzFNzJpi8E2vxH43fWQwQMR6H3+A5TBPIrW0C3alsEmu3j59nOZwWZePuZDzZvBw/b61mPincHpI0UpEbCfwZO8RD67maDBioXekhk1ocHdhNh1L6mhwQ==",
        "encoding": "base64",
        "path": [
         "_data",
         3,
         "y",
         "value"
        ]
       },
       {
        "data": "0gubaeUFs0FoGtT7rJSzQeTdUHYgHLRBwk9Q3wKctEFBdxKlGhS1Qf7bwrcxhLVBzsHOoRXstUFBOZyel0u2QffKl6+MorZBk0OPr83wtkHM6VBkNza3QbUvh46qcrdBGrzJ9wumt0Etdt1+RNC3QXwQHiJB8bdBymIMCPMIuEHouP2FTxe4QVMU6SRQHLhB1jZQpPIXuEFNJ0P7OAq4QUi7fVcp87dBv4ufGs7St0FAlX/VNam3QUKenUFzdrdBJle0OJ06t0Fv/2+qzvW2QZsxTpAmqLZB0Eqs38dRtkGvtQp62fK1QYUtjBuGi7VBKdu4R/wbtUFY9I00bqS0QfZK47MRJbRBlfgwGyCes0HQDsAp1g+zQabqUe1zerJBQXpKpTzesUEdcGqkdjuxQeUEJzFrkrBBBg5byczGr0GWJUMRbl2uQRK8Sudc6axBFh14yUBrq0GWLy27xeOpQSswuPebU6hBW0X+one7pkH/pWN4EBylQYrRFXghdqNBPBjdkmjKoUECVZtUphmgQQ==",
        "encoding": "base64",
        "path": [
         "_data",
         4,
         "x",
         "value"
        ]
       },
       {
        "data": "1iFqMJmYi0FogUD4ZMeRQegEbtrW3ZVBqV6SK8sNmkHcTLlcX1WeQQ1xMB5TWaFBKj0/atSRo0ETrHSmM9OlQWR+4uhsHKhBoMHBvnhsqkErUgujTMKsQc9OcnbbHK9BVz5F/Iq9sEE6B/Kg9e2xQVXtcp8kH7NBUliXlY5QtEH5IKMGqoG1Qa35MpntsbZBc+wQVdDgt0HvGt3gyQ25QTz9br9SOLpBJH7TjORfu0HDgMw6+oO8QaCStkwQpL1BVtO5EqW/vkHlbSvkONa/QeCsgiync8BBW0MtQTX5wEEpBNeQinvBQQ8sim9s+sFBHCgDv6F1wkFbC2cI8+zCQb9pO5UqYMNB6lqUhxTPw0Eiwm3xfjnEQdhYJes5n8RBYF0LqRcAxUG9MACQ7FvFQV2bFUmPssVBK+Mq1NgDxkGiUXuZpE/GQRtDF3rQlcZBulRA3zzWxkH9xqHIzBDHQdGtXtllRcdBIQ7wY/Bzx0HDkM10V5zHQab+29uIvsdBS0edNHXax0HUYR7tD/DHQQ==",
        "encoding": "base64",
        "path": [
         "_data",
         4,
         "y",
         "value"
        ]
       },
       {
        "data": "8zXn/CYxj0HY2O+snT6bQV1tgy3cY6NB2y2FtP8TqUExh4dm3KmuQWFpXyrYD7JBLQXzSu23tEH5qsiJcEq3QSG1vRe7xLlBKPB9HT8kvEG09oFdima+QW/8zFykRMBBfb+1TCNFwUGmXLSXuTPCQbs+9UxxD8NBN4Ud72fXw0HMc8Ndz4rEQflE6anuKMVBJFif1CKxxUH7OAl33yLGQW1NGFOvfcZBXvlmzDTBxkGMo7dIKu3GQS0jtHdiAcdBtqCjgcj9xkFVw+YcYOLGQYoFJIpFr8ZBiiIod61kxkH+oZjI5ALGQdt7sEpQisVBTYlYSWz7xEHT3QYQzFbEQXQc6VEZncNBpEz2ehPPwkExgZzqju3BQY641Rh0+cBBNUILTX3nv0FBjC60+Lq9QXYNzBKYb7tBzv8g5LgHuUEGZ8wC1oW2Qds6YxqF7LNBNARg/XM+sUG0BlrEy/ysQe0/QxRhXqdBETnFqnKnoUHp86AaybuXQR488c+3HohBADA1npFpNUGFMHMfg8qGwYQV1SREFZfBlagknypXocE7tQQkQBKnwdx/ulP6tazBFv5KekQescGRxk/vHNCzwT6rWG2/bbbBNBNCrnn0uMGkXeQIsWG7wd43SSDlsr3B0kLFd7Llv8GyyqZ06vvAwf+sv/2U88HBdId4itnYwsHiXkTFy6rDwXhMXEOTaMTBpt/VY2wRxcHqm0sZqaTFwYWzR52xIcbBMQy4DAWIxsGNR8rsOdfGwQ3bppf+DsfBHiKbkBkvx8GjqFu/aTfHwaKXIZLmJ8fB0RmABqAAx8GonOiYvsHGwQ3s7hqDa8bBYy14cEb+xcHDmhk0eXrFwSJyBUOj4MTBcr/9MGMxxMFmYN2kbW3DwfLBX56MlcLBok3npZ6qwcFaKxnnla3AwTmadW7uPr/B9DOlELICvcHXv0GUxKi6wV7aMXSSM7jBkm0nR6SltcFjaAsjnAGzwYISIeYySrDBLoNa0WoEq8HH2ws0A1mlwS90DzAOMJ/BzAuJv8mOk8G603N62Gh/wd4VhBjeDG9BzDTn/CYxj0E=",
        "encoding": "base64",
        "path": [
         "_data",
         5,
         "x",
         "value"
        ]
       },
       {
        "data": "0XYPwCPjxcHbPvjT+bXFwTCZXc08ccXBUqukhzMVxcE/qkXiPKLEwbPN/17PGMTB1YGwp3h5w8G1w0v83MTCwZYwjIm2+8HB708JqdQewcH063kLGy/Awe2Z/ZsBW77BaJHP9h42vMH1dPP0w/G5wcgbn9RGkLfBdPAF3BsUtcErcbXR0n+ywRauMLEorK/By26yZD4zqsH0t+/VipqkwZRD8MGlz53B45gUZ+xBksHTvGz4SV96wU0q3VaHinRB1girlVnhkEHsbPhdOZicQWyFWfCWHaRBL4QvLBzfqUEDBK5yvYqvQWupWTJRjbJBdx8lnYdEtUG1q9dVNei3QQvhYtuhdbpBqVOEnSvqvEEzgRizSkO/QU8Y/rpJv8BBs+nlgNzMwUFNPHfJR8nCQWJIvWGHs8NB4vrS0amKxEEhH8xV0U3FQcYYT8I0/MVB54jzUyCVxkFKG5Bo9hfHQcR3uCEwhMdB7tfD713Zx0FC8cwEKBfIQceoNK9OPchBD0NKm6pLyEF3YtX7LELIQbYJWJnfIMhBhOj4x+Tnx0FYVyBEd5fHQa587PXpL8dBVwW7m6exxkF7iCBcMh3GQfQDvz8jc8VBX72Fkym0xEFyJP0zCuHDQb78WMKe+sJBsv0hxNQBwkGCKV6urPfAQXp8aLpxur9BJ4g18jhnvUHIgGyVFPi6QRLhN/2Gb7hBvA9+tCzQtUFRcrvGuRyzQZp3ovb2V7BBKvLBvn0Jq0F7owAH9kulQfcBojGD+p5B6w569rlGk0H87yvugSJ+QTGpJfq5znDB1uCHHzTEj8GPoyOhl3abwYO/H6ubcqPBLlGpLRgRqcGF74WF9pCuweC/5rdF9rHB1h+riCiPtMHq3RFUdhC3wXtGNAiad7nBySO1ixnCu8HPXGVLmO29wZxyeanZ97/BT7fmpWHvwMGrZ2ujL9DBwVwyhBFvncLBhmNJXUxWw8Egd8r2CPrDwSyjfRX8h8TB0yM8ZpP/xMGR7xeiU2DFwQZYbw3ZqcXB4Ji73tfbxcFUW7CMHPbFwR6mWwOM+MXB03YPwCPjxcE=",
        "encoding": "base64",
        "path": [
         "_data",
         5,
         "y",
         "value"
        ]
       },
       {
        "data": "tB0MCD3XokE=",
        "encoding": "base64",
        "path": [
         "_data",
         6,
         "x",
         "value"
        ]
       },
       {
        "data": "Eqfqa6/Jx0E=",
        "encoding": "base64",
        "path": [
         "_data",
         6,
         "y",
         "value"
        ]
       }
      ],
      "model_module": "plotlywidget",
      "model_module_version": "^0.7.1",
      "model_name": "FigureModel",
      "state": {
       "_config": {
        "plotlyServerURL": "https://plot.ly"
       },
       "_data": [
        {
         "hoverinfo": "none",
         "line": {
          "color": "rgb(31, 119, 180)",
          "dash": "dash",
          "width": 2
         },
         "mode": "lines",
         "name": "2011-08-05 16:26 (Earth)",
         "type": "scatter",
         "uid": "8760cc1e-db7c-49f2-abdb-8ed7616dc1f1",
         "x": {
          "dtype": "float64",
          "shape": [
           100
          ]
         },
         "y": {
          "dtype": "float64",
          "shape": [
           100
          ]
         }
        },
        {
         "marker": {
          "color": "rgb(31, 119, 180)",
          "size": 10
         },
         "mode": "markers",
         "name": "2011-08-05 16:26 (Earth)",
         "type": "scatter",
         "uid": "4b6baf11-607c-4628-b451-ec98744d61ee",
         "x": {
          "dtype": "float64",
          "shape": [
           1
          ]
         },
         "y": {
          "dtype": "float64",
          "shape": [
           1
          ]
         }
        },
        {
         "hoverinfo": "none",
         "line": {
          "color": "rgb(255, 127, 14)",
          "dash": "solid",
          "width": 2
         },
         "mode": "lines",
         "name": "Inner Cruise 1",
         "type": "scatter",
         "uid": "699bec49-db02-4434-be26-c523816975c2",
         "x": {
          "dtype": "float64",
          "shape": [
           50
          ]
         },
         "y": {
          "dtype": "float64",
          "shape": [
           50
          ]
         }
        },
        {
         "hoverinfo": "none",
         "line": {
          "color": "rgb(44, 160, 44)",
          "dash": "solid",
          "width": 2
         },
         "mode": "lines",
         "name": "Back to Earth",
         "type": "scatter",
         "uid": "94dbdfa1-2542-4a23-8422-be8ad6fb1337",
         "x": {
          "dtype": "float64",
          "shape": [
           50
          ]
         },
         "y": {
          "dtype": "float64",
          "shape": [
           50
          ]
         }
        },
        {
         "hoverinfo": "none",
         "line": {
          "color": "rgb(214, 39, 40)",
          "dash": "solid",
          "width": 2
         },
         "mode": "lines",
         "name": "Jupiter Orbit Insertion Phase",
         "type": "scatter",
         "uid": "16d5ac37-ec13-460f-b6c8-12cb16b8839b",
         "x": {
          "dtype": "float64",
          "shape": [
           50
          ]
         },
         "y": {
          "dtype": "float64",
          "shape": [
           50
          ]
         }
        },
        {
         "hoverinfo": "none",
         "line": {
          "color": "rgb(148, 103, 189)",
          "dash": "dash",
          "width": 2
         },
         "mode": "lines",
         "name": "2016-07-05 03:19 (Jupiter)",
         "type": "scatter",
         "uid": "6765944d-36b0-4ffe-af43-96ca435b3549",
         "x": {
          "dtype": "float64",
          "shape": [
           100
          ]
         },
         "y": {
          "dtype": "float64",
          "shape": [
           100
          ]
         }
        },
        {
         "marker": {
          "color": "rgb(148, 103, 189)",
          "size": 10
         },
         "mode": "markers",
         "name": "2016-07-05 03:19 (Jupiter)",
         "type": "scatter",
         "uid": "e695fda0-924a-47a9-9e73-6c2e2ed53fa4",
         "x": {
          "dtype": "float64",
          "shape": [
           1
          ]
         },
         "y": {
          "dtype": "float64",
          "shape": [
           1
          ]
         }
        }
       ],
       "_js2py_restyle": {},
       "_js2py_update": {},
       "_last_layout_edit_id": 9,
       "_last_trace_edit_id": 8,
       "_layout": {
        "autosize": true,
        "shapes": [
         {
          "fillcolor": "#ffcc00",
          "line": {
           "color": "#ffcc00"
          },
          "opacity": 1,
          "type": "circle",
          "x0": -21895056.19935296,
          "x1": 21895056.19935296,
          "xref": "x",
          "y0": -21895056.19935296,
          "y1": 21895056.19935296,
          "yref": "y"
         }
        ],
        "template": {},
        "xaxis": {
         "constrain": "domain",
         "range": [
          -153178263.97479224,
          274855177.8171793
         ],
         "title": {
          "text": "x (km)"
         }
        },
        "yaxis": {
         "range": [
          -218932514.7427082,
          264324163.90487278
         ],
         "scaleanchor": "x",
         "title": {
          "text": "y (km)"
         }
        }
       },
       "_py2js_animate": {},
       "_py2js_deleteTraces": {},
       "_py2js_moveTraces": {},
       "_py2js_removeLayoutProps": {},
       "_py2js_removeTraceProps": {},
       "_py2js_restyle": {},
       "_view_count": 0
      }
     },
     "97d21790c0d64592ab93652922330002": {
      "buffers": [
       {
        "data": "8HSogo9moUEg1g1CaF2hQQqkt+/7QaFBA/FY0GYUoUFMeLrg19SgQSQWS6WQg6BBr2SW5uQgoEH+N861dFqfQcd43HoQUp5B5i22pq0pnUGKzMW+feKbQb+HkQjSfZpBPpoQLhr9mEGZUKzC4mGXQcOBc6rTrZVBO9slZa7ik0Esbtk+TAKSQTUfGGicDpBBHcvX7kMTjEEQEdCs4+qHQetfpThhqINBsTCUYkGgfkGvDaQ+Oc11QesXTVyFwWlBOijvhoQgT0F0r0j3ZX5UwYYzMWfhQWzBI81Sq6wWd8EAWbD2kPd/wbi6wFE7XYTBeOpv1SqriMGTHDwgJ+GMwUACF35sfZDBrTp7LgN6ksF2NapdS2SUwU7F9qZLOpbBTHifjR/6l8HHHjpw+aGZwZehj2QkMJvBoaH9+QWjnMEcnY3gH/mdwVx5DXMRMZ/BXJlJkcwkoMGFffrgyqCgwV0L8NcDDKHB95gt7whmocEMRlJbfa6hweaKQGwW5aHBJaYb2psJosFtjEv/5xuiwWqMS//nG6LBHKYb2psJosHWikBsFuWhwfVFUlt9rqHB2pgt7whmocE7C/DXAwyhwV59+uDKoKDBL5lJkcwkoMH0eA1zETGfwa2cjeAf+Z3BJKH9+QWjnMESoY9kJDCbwTkeOnD5oZnBuHefjR/6l8GoxPamSzqWwdw0ql1LZJTB9jl7LgN6ksGLARd+bH2QwRcbPCAn4YzBD+lv1SqriMEvucBRO12EwfRVsPaQ93/BH8pSq6wWd8FcLTFn4UFswcqiSPdlflTBdUHvhoQgT0GSHU1chcFpQdMQpD45zXVB8TOUYkGgfkF0YaU4YaiDQYIS0Kzj6odBjczX7kMTjEHpHxhonA6QQdhu2T5MApJB6NslZa7ik0FignOq062VQSxRrMLiYZdBu5oQLhr9mEE8iJEI0n2aQf3Mxb594ptBVi62pq0pnUEoedx6EFKeQVU4zrV0Wp9B1GSW5uQgoEFDFkulkIOgQWR4uuDX1KBBF/FY0GYUoUEXpLfv+0GhQSfWDUJoXaFB8HSogo9moUE=",
        "encoding": "base64",
        "path": [
         "_data",
         0,
         "x",
         "value"
        ]
       },
       {
        "data": "AAAAAACuuT4APwYMpQRiQat21KNb+3FBVv/wg9vhekGvfCq2UtaBQXcYzZlUKYZBayFSTH5likG0vpw5coaOQTvQA233Q5FBUrTAiukyk0GUyJxCEQ6VQQlHvceE05ZBS3K6rHCBmEGrJnXFGRaaQUnB6+/ej5tB2HM3wjrtnEGjxvYbxSyeQZt/h5k0TZ9BT6HI868moEEBdcF6H5agQaJT4wJ29KBBDSpKTVJBoUF76jYfZXyhQV1xu5NxpaFBhO1/Wk28oUHGFmHj4MChQfU8unYns6FBOSVCOi+ToUHHsnUiGWGhQTZjn9AYHaFBC6OeXXTHoEEp16URhGCgQUAucxJk0Z9Bg86dj/PAnkG0ZvJwz5CdQfaQVjoxQpxBgQZB2nHWmkFDiClGCE+ZQX7ZBPiHrZdB2TlbTp/zlUGhGqbQFSOUQVJdvlnKPZJBryY/KrFFkEEZNLTJo3mMQYcbYe2KSohBOsOz22cChEGCAUYBSUt/QcahXBaAcXZBnXPOKikBa0FkiQvZ9wZSQVWWC9n3BlLB6HnOKikBa8H3pFwWgHF2wZYERgFJS3/BxcSz22cChMEFHWHtikqIwZQ1tMmjeYzBZCc/KrFFkMEDXr5Zyj2SwUcbptAVI5TBfTpbTp/zlcEV2gT4h62XwdiIKUYIT5nBBwdB2nHWmsF3kVY6MUKcwRxn8nDPkJ3B786dj/PAnsGeLnMSZNGfwVPXpRGEYKDBLaOeXXTHoMFTY5/QGB2hwd6ydSIZYaHBSiVCOi+TocH/PLp2J7OhwcgWYePgwKHBgO1/Wk28ocFVcbuTcaWhwWzqNh9lfKHB9SlKTVJBocGIU+MCdvSgweF0wXoflqDBJqHI868moME/f4eZNE2fwTzG9hvFLJ7BX3M3wjrtnMHLwOvv3o+bwSgmdcUZFprByHG6rHCBmMF5Rr3HhNOWwfvHnEIRDpXBp7PAiukyk8GQzwNt90ORwVW9nDlyho7B/h9STH5lisEAF82ZVCmGwTB7KrZS1oHBWvzwg9vhesGPc9SjW/txwfA4BgylBGLBAAAAAAD+tz4=",
        "encoding": "base64",
        "path": [
         "_data",
         0,
         "y",
         "value"
        ]
       },
       {
        "data": "ietIKgDTncE=",
        "encoding": "base64",
        "path": [
         "_data",
         1,
         "x",
         "value"
        ]
       },
       {
        "data": "L/AASgRalME=",
        "encoding": "base64",
        "path": [
         "_data",
         1,
         "y",
         "value"
        ]
       },
       {
        "data": "jutIKgDTncEhxjqeOXScwbtlibkP/5rBTkc8PpdzmcEFLghp2NGXwYDUDHDQGZbBQUX0GHNLlMFORcFtrGaSwevguJhia5DBr/QV4u+yjMH8smGGmmGIwdOszsKI4oPBvcjHKAxrfsGyRbzR2LR0wdJGSJGuRGXB8BWU1TnSCcEsAjsBpC1lQa49+Ss3vHVB0yDHp5qdgEGSdzde7IiGQTBHe3O3noxB9f0gV5hukUG/wt8YA6GUQcYmtEok5ZdB76JK5ig5m0GFIE8C1ZqeQX0yQbK6A6FB+G+5POi9okFa4iyLC3qkQTggjMnqNaZBcDWk/fLup0ExpWEmMqKpQf4KwPpSTKtB1vIL/5rprEEKt4rB63WuQZTASiLI7K9BM6SKR6+ksEHo4saGTEOxQR5Pw+GZz7FBlqouMe1GskFndhM1pqayQebtq9JD7LJB5BI5xnsVs0G9h+7AUyCzQeLFc486C7NBDh5YnB/VskEwm3f6hn2yQT2CHSuYBLJBNOPCEiZrsUEe1l0Fr7KwQQ==",
        "encoding": "base64",
        "path": [
         "_data",
         2,
         "x",
         "value"
        ]
       },
       {
        "data": "KvAASgRalMFxgH83sDeWwbfuwzifBZjBc0Rpr2TDmcGx9PO5g3CbwTjVS4BtDJ3BxgAren+WnsE6pFDWAAegwW1NVW4SuaDB7SntWgBhocEWh6nySP6hwQb4XBVckKLBRNBPMZoWo8EXgAZIU5CjwXkDy/bF/KPBlxzSiB5bpMGzUdgadqqkwXajgNrR6aTB25CmbiIYpcGptkOZQzSlwccriSf8PKXBCFVhSf4wpcHsibFu6A6lwXrlTM5G1aTBxGBtwJWCpMFnY2gcRRWkwaWauM68i6PBDbWy4GLkosFdIF8tox2iwRCox/34NaHBUh8HwforoMFoK48P0PydwQs8QKtzWJvB8vfxdWppmMHcrEj8/y6VwYZHvMJtqZHBq8/nNxO0i8EZWk9354aDwR30ukQHp3XBLKsA1npUSsGwmrHaCdRvQbR7/8oN6YFBmiu1aRUhjEF9ZNNLCUKTQRlRthkRe5hBtX2iUY2snUGcxWLOU2OhQTlIbFue3KNB3K9P9S46pkHvbbbKa3SoQQ==",
        "encoding": "base64",
        "path": [
         "_data",
         2,
         "y",
         "value"
        ]
       },
       {
        "data": "1iHMLujpl8Gnfd0DNv2VwVN2rN6Q45PBYFCS9iKfkcHSgIA6hWSOwdaR+avfPonB9A/Ng6PSg8GaJJKPz0p8wQ/zVvwMenDBNDh+K7X8UMGqe/FKaLJgQYrFypEbQnVBXwLsGh03gUFftOcB/ueHQY4xv9HKrI5BpSegqkS/kkFYfrH/GCuWQeStJpVblplB/2RQLob9nEFNSmRjiy6gQZI/EpjJ2KFBv3zJU8Z7o0GIetqv0RWlQX1Ihf1EpaZBKGmveYQoqEEY3lf1AJ6pQdnaE3E5BKtBK/PrqbxZrEELrACWKp2tQY4Pbs81za5BnTD466Tor0EtLQ/gKXewQXrxI0aa7rBBPRZqiShasUH7mPfKZbmxQZR8Et7vC7JBCCVkrXFRskFYBK6So4myQY4vpaBLtLJB4rmo3j3RskFVSBV2XOCyQW8kB9GX4bJBnBlrqu7UskFRjU0PbrqyQZp4ZlExkrJBXiHw6mFcskGYmuVTNxmyQZse1cj2yLFBBjSBA/NrsUGEL5rliwKxQYz55xUujbBBafpJkFIMsEE9QAFS/ACvQb8ZggeC1K1BICVA/muUrEHjSdspBEKrQeakSmCn3qlBVSJG8sNrqEFTa6sx2OqmQSRmY+dwXaVB1IheuifFo0ErnU2JoSOiQStByriMeqBBObZc7z6XnUFDq8f2KzGaQRGB/GthxpZBprPsD2Vak0ENCZC9e+GPQa3dVtrgGYlBDk6Vj/ZkgkFOZ0RlTZN3Qf+rh9ECO2VB/JZuPtZQQMEAaz1t96xswaGo9/jzOnrBTjBXoKDVgsHO85Z/zE2IwehRh0ZagI3B45ttMvczkcHFWcFJvX+TwVsoa4UhoZXBBg3csfGVl8GZUVGPKVyZwUqp/eX08ZrB3GOvaLFVnMFNKgJk8IWdweHHXzh4gZ7B9VhKnUVHn8EGnqKsjNafwf93a9pcF6DBFBaR6LgnoMED1J6jSRygwTCXJao16p/BNw3Mwalkn8GZp9M3eaiewaC2pwlmtp3BoiyEwGmPnMEudTtwtDSbwTtcw32rp5nB1yHMLujpl8E=",
        "encoding": "base64",
        "path": [
         "_data",
         3,
         "x",
         "value"
        ]
       },
       {
        "data": "GSXXRCg/kcFyJ+XG2biTwagLed4kDpbBFxKi16E8mMH0fL3+EEKawZmu6PFcHJzBEJ7TxpzJncEc3LwCFkifwcvSRzEfS6DBQeqmuF7ZoMFLYJH1Nk6hwd6E2HUvqaHB+dYxc+rpocHzOOEzJRCiwVspgU+4G6LBWBmi15cMosHDABdk0+KhwVaC4gKWnqHBoDHVCyZAocGTugrY5MegweSpkF1ONqDBwI08X/EXn8EFb8LHJpOdwczM/LrN35vBVHwD/ab/mcFLUCOBofSXwRF4qWvYwJXBQy8h5pBmk8H0oEDIN+iQwYoQ3S++kIzBIIboxXYTh8HRFy/qQV6BwZoM77UD7nbBOEJjsjGPZcEoHb6LZ6M6QX3PzX4stWxBqs9A/HE8e0GqHykXQSGEQQKsQQGtr4pB8CGXSl2hkEEKAL9y0emTQQq8eJ3QLZdBttxMB/1pmkEtNz/9AJudQZzyaCbJXqBBbX4W1DrnoUECD3b9QGWjQbxgEdZR16RBSMcd5e87pkHJ6baOq5GnQZ02z44k16hBUnBPZAsLqkEiA++qIiyrQcShYGJAOaxBmOeBIU8xrUFQWFE0TxOuQWL3g6NX3q5BSsGqJJeRr0FjPfh4KhawQdK4SMT4VrBBU2ykpvOKsEHtHwWL5bGwQYeYPEymy7BBk4hWXhvYsEHD+vXpN9ewQWgBktn8yLBBaAWE2HitsEHRrehDyISwQYH2Yg0VT7BBm5nfj5YMsEGtugqtInuvQW4wGqytxK5BNYKUMYr2rUExMnW7jBGtQeW4AVahFqxBAMB2qMoGq0HSCGjqIOOpQWLW5cLQrKhBoZyREhplp0EObuGpTg2mQcIM5uzQpqRBJ5b6ZRIzo0ETW9ZIkrOhQdWPiefbKaBB6Qr4NQovnUEu9yNBWfyZQYeYTN3wvpZB0kYlAyh6k0GxRgxGXTGQQXTMwrXmz4lBCQQ1NZtCg0FEjLsQMoN5QbLomAtSTmlBADxu/mAzusDUszrnS9RowaBGXciUhXjBCa7yXrojgsGdraeX09GHwWh0vyM7R43BGCXXRCg/kcE=",
        "encoding": "base64",
        "path": [
         "_data",
         3,
         "y",
         "value"
        ]
       },
       {
        "data": "HtZdBa+ysEE=",
        "encoding": "base64",
        "path": [
         "_data",
         4,
         "x",
         "value"
        ]
       },
       {
        "data": "7222ymt0qEE=",
        "encoding": "base64",
        "path": [
         "_data",
         4,
         "y",
         "value"
        ]
       }
      ],
      "model_module": "plotlywidget",
      "model_module_version": "^0.7.1",
      "model_name": "FigureModel",
      "state": {
       "_config": {
        "plotlyServerURL": "https://plot.ly"
       },
       "_data": [
        {
         "hoverinfo": "none",
         "line": {
          "color": "rgb(31, 119, 180)",
          "dash": "dash",
          "width": 2
         },
         "mode": "lines",
         "name": "2011-08-05 16:26 (Earth)",
         "type": "scatter",
         "uid": "b1f554d8-30d0-48a7-af4a-e11413378ea8",
         "x": {
          "dtype": "float64",
          "shape": [
           100
          ]
         },
         "y": {
          "dtype": "float64",
          "shape": [
           100
          ]
         }
        },
        {
         "marker": {
          "color": "rgb(31, 119, 180)",
          "size": 10
         },
         "mode": "markers",
         "name": "2011-08-05 16:26 (Earth)",
         "type": "scatter",
         "uid": "031f6bf8-62ec-4615-9251-7abbacc2af5a",
         "x": {
          "dtype": "float64",
          "shape": [
           1
          ]
         },
         "y": {
          "dtype": "float64",
          "shape": [
           1
          ]
         }
        },
        {
         "hoverinfo": "none",
         "line": {
          "color": "rgb(255, 127, 14)",
          "dash": "solid",
          "width": 2
         },
         "mode": "lines",
         "name": "Inner Cruise 1",
         "type": "scatter",
         "uid": "f012f237-e9a8-4425-86cb-1ac6acba08ac",
         "x": {
          "dtype": "float64",
          "shape": [
           50
          ]
         },
         "y": {
          "dtype": "float64",
          "shape": [
           50
          ]
         }
        },
        {
         "hoverinfo": "none",
         "line": {
          "color": "rgb(44, 160, 44)",
          "dash": "dash",
          "width": 2
         },
         "mode": "lines",
         "name": "2012-09-01 14:40 (Back to Earth)",
         "type": "scatter",
         "uid": "330e94de-89b4-4021-8822-22a50fa7f921",
         "x": {
          "dtype": "float64",
          "shape": [
           100
          ]
         },
         "y": {
          "dtype": "float64",
          "shape": [
           100
          ]
         }
        },
        {
         "marker": {
          "color": "rgb(44, 160, 44)",
          "size": 10
         },
         "mode": "markers",
         "name": "2012-09-01 14:40 (Back to Earth)",
         "type": "scatter",
         "uid": "eb427ff4-1168-41c1-a229-095ba7aa9c4d",
         "x": {
          "dtype": "float64",
          "shape": [
           1
          ]
         },
         "y": {
          "dtype": "float64",
          "shape": [
           1
          ]
         }
        }
       ],
       "_js2py_pointsCallback": {},
       "_js2py_relayout": {},
       "_js2py_restyle": {},
       "_js2py_update": {},
       "_last_layout_edit_id": 6,
       "_last_trace_edit_id": 6,
       "_layout": {
        "autosize": true,
        "shapes": [
         {
          "fillcolor": "#ffcc00",
          "line": {
           "color": "#ffcc00"
          },
          "opacity": 1,
          "type": "circle",
          "x0": -21895056.19935296,
          "x1": 21895056.19935296,
          "xref": "x",
          "y0": -21895056.19935296,
          "y1": 21895056.19935296,
          "yref": "y"
         }
        ],
        "template": {},
        "xaxis": {
         "constrain": "domain",
         "title": {
          "text": "x (km)"
         }
        },
        "yaxis": {
         "scaleanchor": "x",
         "title": {
          "text": "y (km)"
         }
        }
       },
       "_py2js_animate": {},
       "_py2js_deleteTraces": {},
       "_py2js_moveTraces": {},
       "_py2js_removeLayoutProps": {},
       "_py2js_removeTraceProps": {},
       "_py2js_restyle": {},
       "_view_count": 0
      }
     },
     "9ceeb371ce524449aa294a586fed2ea9": {
      "buffers": [
       {
        "data": "8HSogo9moUEg1g1CaF2hQQqkt+/7QaFBA/FY0GYUoUFMeLrg19SgQSQWS6WQg6BBr2SW5uQgoEH+N861dFqfQcd43HoQUp5B5i22pq0pnUGKzMW+feKbQb+HkQjSfZpBPpoQLhr9mEGZUKzC4mGXQcOBc6rTrZVBO9slZa7ik0Esbtk+TAKSQTUfGGicDpBBHcvX7kMTjEEQEdCs4+qHQetfpThhqINBsTCUYkGgfkGvDaQ+Oc11QesXTVyFwWlBOijvhoQgT0F0r0j3ZX5UwYYzMWfhQWzBI81Sq6wWd8EAWbD2kPd/wbi6wFE7XYTBeOpv1SqriMGTHDwgJ+GMwUACF35sfZDBrTp7LgN6ksF2NapdS2SUwU7F9qZLOpbBTHifjR/6l8HHHjpw+aGZwZehj2QkMJvBoaH9+QWjnMEcnY3gH/mdwVx5DXMRMZ/BXJlJkcwkoMGFffrgyqCgwV0L8NcDDKHB95gt7whmocEMRlJbfa6hweaKQGwW5aHBJaYb2psJosFtjEv/5xuiwWqMS//nG6LBHKYb2psJosHWikBsFuWhwfVFUlt9rqHB2pgt7whmocE7C/DXAwyhwV59+uDKoKDBL5lJkcwkoMH0eA1zETGfwa2cjeAf+Z3BJKH9+QWjnMESoY9kJDCbwTkeOnD5oZnBuHefjR/6l8GoxPamSzqWwdw0ql1LZJTB9jl7LgN6ksGLARd+bH2QwRcbPCAn4YzBD+lv1SqriMEvucBRO12EwfRVsPaQ93/BH8pSq6wWd8FcLTFn4UFswcqiSPdlflTBdUHvhoQgT0GSHU1chcFpQdMQpD45zXVB8TOUYkGgfkF0YaU4YaiDQYIS0Kzj6odBjczX7kMTjEHpHxhonA6QQdhu2T5MApJB6NslZa7ik0FignOq062VQSxRrMLiYZdBu5oQLhr9mEE8iJEI0n2aQf3Mxb594ptBVi62pq0pnUEoedx6EFKeQVU4zrV0Wp9B1GSW5uQgoEFDFkulkIOgQWR4uuDX1KBBF/FY0GYUoUEXpLfv+0GhQSfWDUJoXaFB8HSogo9moUE=",
        "encoding": "base64",
        "path": [
         "_data",
         0,
         "x",
         "value"
        ]
       },
       {
        "data": "AAAAAACuuT4APwYMpQRiQat21KNb+3FBVv/wg9vhekGvfCq2UtaBQXcYzZlUKYZBayFSTH5likG0vpw5coaOQTvQA233Q5FBUrTAiukyk0GUyJxCEQ6VQQlHvceE05ZBS3K6rHCBmEGrJnXFGRaaQUnB6+/ej5tB2HM3wjrtnEGjxvYbxSyeQZt/h5k0TZ9BT6HI868moEEBdcF6H5agQaJT4wJ29KBBDSpKTVJBoUF76jYfZXyhQV1xu5NxpaFBhO1/Wk28oUHGFmHj4MChQfU8unYns6FBOSVCOi+ToUHHsnUiGWGhQTZjn9AYHaFBC6OeXXTHoEEp16URhGCgQUAucxJk0Z9Bg86dj/PAnkG0ZvJwz5CdQfaQVjoxQpxBgQZB2nHWmkFDiClGCE+ZQX7ZBPiHrZdB2TlbTp/zlUGhGqbQFSOUQVJdvlnKPZJBryY/KrFFkEEZNLTJo3mMQYcbYe2KSohBOsOz22cChEGCAUYBSUt/QcahXBaAcXZBnXPOKikBa0FkiQvZ9wZSQVWWC9n3BlLB6HnOKikBa8H3pFwWgHF2wZYERgFJS3/BxcSz22cChMEFHWHtikqIwZQ1tMmjeYzBZCc/KrFFkMEDXr5Zyj2SwUcbptAVI5TBfTpbTp/zlcEV2gT4h62XwdiIKUYIT5nBBwdB2nHWmsF3kVY6MUKcwRxn8nDPkJ3B786dj/PAnsGeLnMSZNGfwVPXpRGEYKDBLaOeXXTHoMFTY5/QGB2hwd6ydSIZYaHBSiVCOi+TocH/PLp2J7OhwcgWYePgwKHBgO1/Wk28ocFVcbuTcaWhwWzqNh9lfKHB9SlKTVJBocGIU+MCdvSgweF0wXoflqDBJqHI868moME/f4eZNE2fwTzG9hvFLJ7BX3M3wjrtnMHLwOvv3o+bwSgmdcUZFprByHG6rHCBmMF5Rr3HhNOWwfvHnEIRDpXBp7PAiukyk8GQzwNt90ORwVW9nDlyho7B/h9STH5lisEAF82ZVCmGwTB7KrZS1oHBWvzwg9vhesGPc9SjW/txwfA4BgylBGLBAAAAAAD+tz4=",
        "encoding": "base64",
        "path": [
         "_data",
         0,
         "y",
         "value"
        ]
       },
       {
        "data": "ietIKgDTncE=",
        "encoding": "base64",
        "path": [
         "_data",
         1,
         "x",
         "value"
        ]
       },
       {
        "data": "L/AASgRalME=",
        "encoding": "base64",
        "path": [
         "_data",
         1,
         "y",
         "value"
        ]
       },
       {
        "data": "D/4BVfb0nMGyhaabg8SawXK+GFE1ZJjB3JQBX4vWlcGrswVmNR6TwSxoauoPPpDBGpwDo0JyisFuwhFmLSWEwVeoQQcCN3vBPWykeXhwa8Fg0i3kJeIBQeDGrHDWnGxBRgsTctG4fEE+tX5p5qmFQatu2gwACI1BvyDGxHo3kkEKUyq6fuuVQc3VoaAmnJlB8qnzupBFnUEzmwJ18XGgQc0hG12nOaJBGyE7sgr4o0GOQm7fRaulQWo3TwyPUadBaCOq/inpqEFgssvtaXCqQfdBkUWz5atBMJ9fV31HrUGb4jj3U5SuQebdPgPZyq9BriAD6uJ0sEFXgRtK9vewQbhECL8cbrFBV8/B/tnWsUHneNjavzGyQWWPXLRufrJB1Sx14JW8skEXDzz98+uyQf0shTZXDLNBSK5Jep0ds0FyIn+ctB+zQRpCNWqaErNBOh/mq1z2skEdVfYWGcuyQcZ4dC79kLJBCKo4E0ZIskGeopZDQPGxQW7o5UpHjLFBQck0YcUZsUHybYv7MpqwQQ==",
        "encoding": "base64",
        "path": [
         "_data",
         2,
         "x",
         "value"
        ]
       },
       {
        "data": "9iNonLCNlcFknSKBSEqYwQGLTVyp3prBKyALfRxIncH+pztbGISfwYWwYqEhyKDB1hFG5jq1ocGHez+RXoiiwZSyLIauQKPBj0N44Wjdo8HUGhDE6F2kwUSf1QCnwaTBJdzQqjoIpcHDI5GDWTGlwQUOR0nYPKXB0alF5KoqpcEWA7tz5PqkwaGbkjm3raTBxP+WZXRDpMGnFArAi7yjwbX3DTSLGaPBmCJaOh5bosFo4NkkDYKhweXU8Us8j6DBaoaUPFYHn8H4iTUo5sCcwYk4JA6NTZrBQDYj4N6vl8F0Rx4YnOqUwVDRFdOuAJLBr996gE/qjcG5lQ7PdZaHwUoIAZZ4DIHBXMUomnGmdMHF3NsZSY5bwcQYT5HLhFxBJugWqR5ZdUGUKdv9ndqBQXU7jd43E4lBrnXPJ2InkEHpJCTI08KTQTV/eGMlWJdBi1R+/pHjmkEtboQGX2GeQVM+0R7w5qBB4c3oy72SokFKeHCCVjKkQcADpREFxKVBFHUA7CJGp0HCKbzjGbeoQQ==",
        "encoding": "base64",
        "path": [
         "_data",
         2,
         "y",
         "value"
        ]
       },
       {
        "data": "7oTUjFTJsEEzs8wx10ywQfAU+/rGia9BHVvw5xBkrkFqpFcjwSmtQTjaxFEi3KtBm8WuZ5N8qkELYD44hgypQapyRPB9jadB6sTufg0BpkE6T+nt1WikQcVWqaqExqJBRPKvwtEboUHGXD4p/NSeQVGUEfCiaJtBRIrOuzH2l0ExYnPXSIGUQYS6gCaLDZFBsvBvozQ9i0EGXUnqJXCEQQmS100jdntBPHYzlRiUbEGAeG96IZ42QaZW27mfOWbBId1jQ9w8d8E063HjwHSBwb12Pjw8C4fB7b83Xf9bjMGjw4pnubCQwd2B/yknC5PBJscFO886lcG00UneZD2XwT7Ua8HKEJnBdLdyNRWzmsEUMQc0jCKcwa4WVy6tXZ3Bwfq5oyxjnsHWTmt+9zGfwawx6zQ0yZ/BG8Bq1yEUoMHLNh/2YCegwdtJcjdDHqDBWNPJZKTxn8HCMwaUam6fweH76Qdjs57BpzDGf1LBncFDPPSfN5mcwfZ29uVJPJvBjlzLYPirmcHXIcwu6OmXwQ==",
        "encoding": "base64",
        "path": [
         "_data",
         3,
         "x",
         "value"
        ]
       },
       {
        "data": "omq6xIU2qEEmJbu6gnapQSu4tKPpo6pB6lqmb329q0GB017pFcKsQYeoFe6gsK1BcVPMjSOIrkFBFkgTu0evQS3DjvKd7q9B8sp1Tg4+sEFxis4c0XewQUbaNKFapLBBdUK7AXzDsEFAt+x+FNWwQZymP5YR2bBBW7eOFW/PsEE4voIfN7iwQThE6SCCk7BBldUCt3ZhsEGqIOSGSSKwQWVAKQx6rK9BLyVKaUL7rkEUlA6SpjGuQZe5/5t6UK1By7gxZqtYrEGA2RWgPUurQdKWP7dMKapBfQg9rQn0qEEgTLzWuaynQfZ1T4W1VKZBlgs3nWbtpEETErAYR3ijQaInVnrf9qFBPvA7MMVqoEFYY9jSMaudQWuLKL8JcppBLf5JLXYtl0EJWYMo5+CTQYkHuyHVj5BBu465kXp7ikGCDILCO9yDQeoPylPKkXpBcZN+VYYha0GkhrhBAWIoQQyCzRmuk2fB67+pQr4IeMHmIZXmYfaBwWI8b76ytIfBJ4Kq8kY5jcEYJddEKD+RwQ==",
        "encoding": "base64",
        "path": [
         "_data",
         3,
         "y",
         "value"
        ]
       },
       {
        "data": "0gubaeUFs0FoGtT7rJSzQeTdUHYgHLRBwk9Q3wKctEFBdxKlGhS1Qf7bwrcxhLVBzsHOoRXstUFBOZyel0u2QffKl6+MorZBk0OPr83wtkHM6VBkNza3QbUvh46qcrdBGrzJ9wumt0Etdt1+RNC3QXwQHiJB8bdBymIMCPMIuEHouP2FTxe4QVMU6SRQHLhB1jZQpPIXuEFNJ0P7OAq4QUi7fVcp87dBv4ufGs7St0FAlX/VNam3QUKenUFzdrdBJle0OJ06t0Fv/2+qzvW2QZsxTpAmqLZB0Eqs38dRtkGvtQp62fK1QYUtjBuGi7VBKdu4R/wbtUFY9I00bqS0QfZK47MRJbRBlfgwGyCes0HQDsAp1g+zQabqUe1zerJBQXpKpTzesUEdcGqkdjuxQeUEJzFrkrBBBg5byczGr0GWJUMRbl2uQRK8Sudc6axBFh14yUBrq0GWLy27xeOpQSswuPebU6hBW0X+one7pkH/pWN4EBylQYrRFXghdqNBPBjdkmjKoUECVZtUphmgQQ==",
        "encoding": "base64",
        "path": [
         "_data",
         4,
         "x",
         "value"
        ]
       },
       {
        "data": "1iFqMJmYi0FogUD4ZMeRQegEbtrW3ZVBqV6SK8sNmkHcTLlcX1WeQQ1xMB5TWaFBKj0/atSRo0ETrHSmM9OlQWR+4uhsHKhBoMHBvnhsqkErUgujTMKsQc9OcnbbHK9BVz5F/Iq9sEE6B/Kg9e2xQVXtcp8kH7NBUliXlY5QtEH5IKMGqoG1Qa35MpntsbZBc+wQVdDgt0HvGt3gyQ25QTz9br9SOLpBJH7TjORfu0HDgMw6+oO8QaCStkwQpL1BVtO5EqW/vkHlbSvkONa/QeCsgiync8BBW0MtQTX5wEEpBNeQinvBQQ8sim9s+sFBHCgDv6F1wkFbC2cI8+zCQb9pO5UqYMNB6lqUhxTPw0Eiwm3xfjnEQdhYJes5n8RBYF0LqRcAxUG9MACQ7FvFQV2bFUmPssVBK+Mq1NgDxkGiUXuZpE/GQRtDF3rQlcZBulRA3zzWxkH9xqHIzBDHQdGtXtllRcdBIQ7wY/Bzx0HDkM10V5zHQab+29uIvsdBS0edNHXax0HUYR7tD/DHQQ==",
        "encoding": "base64",
        "path": [
         "_data",
         4,
         "y",
         "value"
        ]
       },
       {
        "data": "8zXn/CYxj0HY2O+snT6bQV1tgy3cY6NB2y2FtP8TqUExh4dm3KmuQWFpXyrYD7JBLQXzSu23tEH5qsiJcEq3QSG1vRe7xLlBKPB9HT8kvEG09oFdima+QW/8zFykRMBBfb+1TCNFwUGmXLSXuTPCQbs+9UxxD8NBN4Ud72fXw0HMc8Ndz4rEQflE6anuKMVBJFif1CKxxUH7OAl33yLGQW1NGFOvfcZBXvlmzDTBxkGMo7dIKu3GQS0jtHdiAcdBtqCjgcj9xkFVw+YcYOLGQYoFJIpFr8ZBiiIod61kxkH+oZjI5ALGQdt7sEpQisVBTYlYSWz7xEHT3QYQzFbEQXQc6VEZncNBpEz2ehPPwkExgZzqju3BQY641Rh0+cBBNUILTX3nv0FBjC60+Lq9QXYNzBKYb7tBzv8g5LgHuUEGZ8wC1oW2Qds6YxqF7LNBNARg/XM+sUG0BlrEy/ysQe0/QxRhXqdBETnFqnKnoUHp86AaybuXQR488c+3HohBADA1npFpNUGFMHMfg8qGwYQV1SREFZfBlagknypXocE7tQQkQBKnwdx/ulP6tazBFv5KekQescGRxk/vHNCzwT6rWG2/bbbBNBNCrnn0uMGkXeQIsWG7wd43SSDlsr3B0kLFd7Llv8GyyqZ06vvAwf+sv/2U88HBdId4itnYwsHiXkTFy6rDwXhMXEOTaMTBpt/VY2wRxcHqm0sZqaTFwYWzR52xIcbBMQy4DAWIxsGNR8rsOdfGwQ3bppf+DsfBHiKbkBkvx8GjqFu/aTfHwaKXIZLmJ8fB0RmABqAAx8GonOiYvsHGwQ3s7hqDa8bBYy14cEb+xcHDmhk0eXrFwSJyBUOj4MTBcr/9MGMxxMFmYN2kbW3DwfLBX56MlcLBok3npZ6qwcFaKxnnla3AwTmadW7uPr/B9DOlELICvcHXv0GUxKi6wV7aMXSSM7jBkm0nR6SltcFjaAsjnAGzwYISIeYySrDBLoNa0WoEq8HH2ws0A1mlwS90DzAOMJ/BzAuJv8mOk8G603N62Gh/wd4VhBjeDG9BzDTn/CYxj0E=",
        "encoding": "base64",
        "path": [
         "_data",
         5,
         "x",
         "value"
        ]
       },
       {
        "data": "0XYPwCPjxcHbPvjT+bXFwTCZXc08ccXBUqukhzMVxcE/qkXiPKLEwbPN/17PGMTB1YGwp3h5w8G1w0v83MTCwZYwjIm2+8HB708JqdQewcH063kLGy/Awe2Z/ZsBW77BaJHP9h42vMH1dPP0w/G5wcgbn9RGkLfBdPAF3BsUtcErcbXR0n+ywRauMLEorK/By26yZD4zqsH0t+/VipqkwZRD8MGlz53B45gUZ+xBksHTvGz4SV96wU0q3VaHinRB1girlVnhkEHsbPhdOZicQWyFWfCWHaRBL4QvLBzfqUEDBK5yvYqvQWupWTJRjbJBdx8lnYdEtUG1q9dVNei3QQvhYtuhdbpBqVOEnSvqvEEzgRizSkO/QU8Y/rpJv8BBs+nlgNzMwUFNPHfJR8nCQWJIvWGHs8NB4vrS0amKxEEhH8xV0U3FQcYYT8I0/MVB54jzUyCVxkFKG5Bo9hfHQcR3uCEwhMdB7tfD713Zx0FC8cwEKBfIQceoNK9OPchBD0NKm6pLyEF3YtX7LELIQbYJWJnfIMhBhOj4x+Tnx0FYVyBEd5fHQa587PXpL8dBVwW7m6exxkF7iCBcMh3GQfQDvz8jc8VBX72Fkym0xEFyJP0zCuHDQb78WMKe+sJBsv0hxNQBwkGCKV6urPfAQXp8aLpxur9BJ4g18jhnvUHIgGyVFPi6QRLhN/2Gb7hBvA9+tCzQtUFRcrvGuRyzQZp3ovb2V7BBKvLBvn0Jq0F7owAH9kulQfcBojGD+p5B6w569rlGk0H87yvugSJ+QTGpJfq5znDB1uCHHzTEj8GPoyOhl3abwYO/H6ubcqPBLlGpLRgRqcGF74WF9pCuweC/5rdF9rHB1h+riCiPtMHq3RFUdhC3wXtGNAiad7nBySO1ixnCu8HPXGVLmO29wZxyeanZ97/BT7fmpWHvwMGrZ2ujL9DBwVwyhBFvncLBhmNJXUxWw8Egd8r2CPrDwSyjfRX8h8TB0yM8ZpP/xMGR7xeiU2DFwQZYbw3ZqcXB4Ji73tfbxcFUW7CMHPbFwR6mWwOM+MXB03YPwCPjxcE=",
        "encoding": "base64",
        "path": [
         "_data",
         5,
         "y",
         "value"
        ]
       },
       {
        "data": "tB0MCD3XokE=",
        "encoding": "base64",
        "path": [
         "_data",
         6,
         "x",
         "value"
        ]
       },
       {
        "data": "Eqfqa6/Jx0E=",
        "encoding": "base64",
        "path": [
         "_data",
         6,
         "y",
         "value"
        ]
       }
      ],
      "model_module": "plotlywidget",
      "model_module_version": "^0.7.1",
      "model_name": "FigureModel",
      "state": {
       "_config": {
        "plotlyServerURL": "https://plot.ly"
       },
       "_data": [
        {
         "hoverinfo": "none",
         "line": {
          "color": "rgb(31, 119, 180)",
          "dash": "dash",
          "width": 2
         },
         "mode": "lines",
         "name": "2011-08-05 16:26 (Earth)",
         "type": "scatter",
         "uid": "8cc8a337-30ec-4218-a404-d53c02097462",
         "x": {
          "dtype": "float64",
          "shape": [
           100
          ]
         },
         "y": {
          "dtype": "float64",
          "shape": [
           100
          ]
         }
        },
        {
         "marker": {
          "color": "rgb(31, 119, 180)",
          "size": 10
         },
         "mode": "markers",
         "name": "2011-08-05 16:26 (Earth)",
         "type": "scatter",
         "uid": "90f63bcf-e31a-48c4-8700-ae2908992068",
         "x": {
          "dtype": "float64",
          "shape": [
           1
          ]
         },
         "y": {
          "dtype": "float64",
          "shape": [
           1
          ]
         }
        },
        {
         "hoverinfo": "none",
         "line": {
          "color": "rgb(255, 127, 14)",
          "dash": "solid",
          "width": 2
         },
         "mode": "lines",
         "name": "Inner Cruise 1",
         "type": "scatter",
         "uid": "04360ad4-5f23-4b81-a1eb-33bf30d0c3d9",
         "x": {
          "dtype": "float64",
          "shape": [
           50
          ]
         },
         "y": {
          "dtype": "float64",
          "shape": [
           50
          ]
         }
        },
        {
         "hoverinfo": "none",
         "line": {
          "color": "rgb(44, 160, 44)",
          "dash": "solid",
          "width": 2
         },
         "mode": "lines",
         "name": "Back to Earth",
         "type": "scatter",
         "uid": "ab67e3d9-4944-49df-9350-b6b103546a94",
         "x": {
          "dtype": "float64",
          "shape": [
           50
          ]
         },
         "y": {
          "dtype": "float64",
          "shape": [
           50
          ]
         }
        },
        {
         "hoverinfo": "none",
         "line": {
          "color": "rgb(214, 39, 40)",
          "dash": "solid",
          "width": 2
         },
         "mode": "lines",
         "name": "Jupiter Orbit Insertion Phase",
         "type": "scatter",
         "uid": "5b536bd1-164a-4f4b-bf1e-1755b8ed831e",
         "x": {
          "dtype": "float64",
          "shape": [
           50
          ]
         },
         "y": {
          "dtype": "float64",
          "shape": [
           50
          ]
         }
        },
        {
         "hoverinfo": "none",
         "line": {
          "color": "rgb(148, 103, 189)",
          "dash": "dash",
          "width": 2
         },
         "mode": "lines",
         "name": "2016-07-05 03:19 (Jupiter)",
         "type": "scatter",
         "uid": "681ab36b-3415-4c11-83a1-ce722ac41967",
         "x": {
          "dtype": "float64",
          "shape": [
           100
          ]
         },
         "y": {
          "dtype": "float64",
          "shape": [
           100
          ]
         }
        },
        {
         "marker": {
          "color": "rgb(148, 103, 189)",
          "size": 10
         },
         "mode": "markers",
         "name": "2016-07-05 03:19 (Jupiter)",
         "type": "scatter",
         "uid": "468031e3-8f96-451a-8253-ec8948a0d5f5",
         "x": {
          "dtype": "float64",
          "shape": [
           1
          ]
         },
         "y": {
          "dtype": "float64",
          "shape": [
           1
          ]
         }
        }
       ],
       "_js2py_pointsCallback": {},
       "_js2py_relayout": {},
       "_js2py_restyle": {},
       "_js2py_update": {},
       "_last_layout_edit_id": 8,
       "_last_trace_edit_id": 8,
       "_layout": {
        "autosize": true,
        "shapes": [
         {
          "fillcolor": "#ffcc00",
          "line": {
           "color": "#ffcc00"
          },
          "opacity": 1,
          "type": "circle",
          "x0": -21895056.19935296,
          "x1": 21895056.19935296,
          "xref": "x",
          "y0": -21895056.19935296,
          "y1": 21895056.19935296,
          "yref": "y"
         }
        ],
        "template": {},
        "xaxis": {
         "constrain": "domain",
         "title": {
          "text": "x (km)"
         }
        },
        "yaxis": {
         "scaleanchor": "x",
         "title": {
          "text": "y (km)"
         }
        }
       },
       "_py2js_animate": {},
       "_py2js_deleteTraces": {},
       "_py2js_moveTraces": {},
       "_py2js_removeLayoutProps": {},
       "_py2js_removeTraceProps": {},
       "_py2js_restyle": {},
       "_view_count": 0
      }
     },
     "a126e43408e1465aa4317236b5e157ef": {
      "buffers": [
       {
        "data": "8HSogo9moUEg1g1CaF2hQQqkt+/7QaFBA/FY0GYUoUFMeLrg19SgQSQWS6WQg6BBr2SW5uQgoEH+N861dFqfQcd43HoQUp5B5i22pq0pnUGKzMW+feKbQb+HkQjSfZpBPpoQLhr9mEGZUKzC4mGXQcOBc6rTrZVBO9slZa7ik0Esbtk+TAKSQTUfGGicDpBBHcvX7kMTjEEQEdCs4+qHQetfpThhqINBsTCUYkGgfkGvDaQ+Oc11QesXTVyFwWlBOijvhoQgT0F0r0j3ZX5UwYYzMWfhQWzBI81Sq6wWd8EAWbD2kPd/wbi6wFE7XYTBeOpv1SqriMGTHDwgJ+GMwUACF35sfZDBrTp7LgN6ksF2NapdS2SUwU7F9qZLOpbBTHifjR/6l8HHHjpw+aGZwZehj2QkMJvBoaH9+QWjnMEcnY3gH/mdwVx5DXMRMZ/BXJlJkcwkoMGFffrgyqCgwV0L8NcDDKHB95gt7whmocEMRlJbfa6hweaKQGwW5aHBJaYb2psJosFtjEv/5xuiwWqMS//nG6LBHKYb2psJosHWikBsFuWhwfVFUlt9rqHB2pgt7whmocE7C/DXAwyhwV59+uDKoKDBL5lJkcwkoMH0eA1zETGfwa2cjeAf+Z3BJKH9+QWjnMESoY9kJDCbwTkeOnD5oZnBuHefjR/6l8GoxPamSzqWwdw0ql1LZJTB9jl7LgN6ksGLARd+bH2QwRcbPCAn4YzBD+lv1SqriMEvucBRO12EwfRVsPaQ93/BH8pSq6wWd8FcLTFn4UFswcqiSPdlflTBdUHvhoQgT0GSHU1chcFpQdMQpD45zXVB8TOUYkGgfkF0YaU4YaiDQYIS0Kzj6odBjczX7kMTjEHpHxhonA6QQdhu2T5MApJB6NslZa7ik0FignOq062VQSxRrMLiYZdBu5oQLhr9mEE8iJEI0n2aQf3Mxb594ptBVi62pq0pnUEoedx6EFKeQVU4zrV0Wp9B1GSW5uQgoEFDFkulkIOgQWR4uuDX1KBBF/FY0GYUoUEXpLfv+0GhQSfWDUJoXaFB8HSogo9moUE=",
        "encoding": "base64",
        "path": [
         "_data",
         0,
         "x",
         "value"
        ]
       },
       {
        "data": "AAAAAACuuT4APwYMpQRiQat21KNb+3FBVv/wg9vhekGvfCq2UtaBQXcYzZlUKYZBayFSTH5likG0vpw5coaOQTvQA233Q5FBUrTAiukyk0GUyJxCEQ6VQQlHvceE05ZBS3K6rHCBmEGrJnXFGRaaQUnB6+/ej5tB2HM3wjrtnEGjxvYbxSyeQZt/h5k0TZ9BT6HI868moEEBdcF6H5agQaJT4wJ29KBBDSpKTVJBoUF76jYfZXyhQV1xu5NxpaFBhO1/Wk28oUHGFmHj4MChQfU8unYns6FBOSVCOi+ToUHHsnUiGWGhQTZjn9AYHaFBC6OeXXTHoEEp16URhGCgQUAucxJk0Z9Bg86dj/PAnkG0ZvJwz5CdQfaQVjoxQpxBgQZB2nHWmkFDiClGCE+ZQX7ZBPiHrZdB2TlbTp/zlUGhGqbQFSOUQVJdvlnKPZJBryY/KrFFkEEZNLTJo3mMQYcbYe2KSohBOsOz22cChEGCAUYBSUt/QcahXBaAcXZBnXPOKikBa0FkiQvZ9wZSQVWWC9n3BlLB6HnOKikBa8H3pFwWgHF2wZYERgFJS3/BxcSz22cChMEFHWHtikqIwZQ1tMmjeYzBZCc/KrFFkMEDXr5Zyj2SwUcbptAVI5TBfTpbTp/zlcEV2gT4h62XwdiIKUYIT5nBBwdB2nHWmsF3kVY6MUKcwRxn8nDPkJ3B786dj/PAnsGeLnMSZNGfwVPXpRGEYKDBLaOeXXTHoMFTY5/QGB2hwd6ydSIZYaHBSiVCOi+TocH/PLp2J7OhwcgWYePgwKHBgO1/Wk28ocFVcbuTcaWhwWzqNh9lfKHB9SlKTVJBocGIU+MCdvSgweF0wXoflqDBJqHI868moME/f4eZNE2fwTzG9hvFLJ7BX3M3wjrtnMHLwOvv3o+bwSgmdcUZFprByHG6rHCBmMF5Rr3HhNOWwfvHnEIRDpXBp7PAiukyk8GQzwNt90ORwVW9nDlyho7B/h9STH5lisEAF82ZVCmGwTB7KrZS1oHBWvzwg9vhesGPc9SjW/txwfA4BgylBGLBAAAAAAD+tz4=",
        "encoding": "base64",
        "path": [
         "_data",
         0,
         "y",
         "value"
        ]
       },
       {
        "data": "ietIKgDTncE=",
        "encoding": "base64",
        "path": [
         "_data",
         1,
         "x",
         "value"
        ]
       },
       {
        "data": "L/AASgRalME=",
        "encoding": "base64",
        "path": [
         "_data",
         1,
         "y",
         "value"
        ]
       },
       {
        "data": "D/4BVfb0nMGyhaabg8SawXK+GFE1ZJjB3JQBX4vWlcGrswVmNR6TwSxoauoPPpDBGpwDo0JyisFuwhFmLSWEwVeoQQcCN3vBPWykeXhwa8Fg0i3kJeIBQeDGrHDWnGxBRgsTctG4fEE+tX5p5qmFQatu2gwACI1BvyDGxHo3kkEKUyq6fuuVQc3VoaAmnJlB8qnzupBFnUEomwJ18XGgQc0hG12nOaJBGyE7sgr4o0GOQm7fRaulQWQ3TwyPUadBXSOq/inpqEFgssvtaXCqQfdBkUWz5atBMJ9fV31HrUGb4jj3U5SuQebdPgPZyq9BriAD6uJ0sEFXgRtK9vewQbhECL8cbrFBV8/B/tnWsUHneNjavzGyQWWPXLRufrJB1Sx14JW8skEXDzz98+uyQfwshTZXDLNBSq5Jep0ds0F0In+ctB+zQRpCNWqaErNBPB/mq1z2skEdVfYWGcuyQcZ4dC79kLJBC6o4E0ZIskGeopZDQPGxQW7o5UpHjLFBRMk0YcUZsUHybYv7MpqwQQ==",
        "encoding": "base64",
        "path": [
         "_data",
         2,
         "x",
         "value"
        ]
       },
       {
        "data": "9iNonLCNlcFknSKBSEqYwQGLTVyp3prBKyALfRxIncH+pztbGISfwYWwYqEhyKDB1hFG5jq1ocGHez+RXoiiwZSyLIauQKPBj0N44Wjdo8HUGhDE6F2kwUSf1QCnwaTBJdzQqjoIpcHDI5GDWTGlwQUOR0nYPKXB0alF5KoqpcEWA7tz5PqkwaGbkjm3raTBxP+WZXRDpMGrFArAi7yjwbX3DTSLGaPBmCJaOh5bosFo4NkkDYKhwenU8Us8j6DBeoaUPFYHn8H4iTUo5sCcwYk4JA6NTZrBQDYj4N6vl8F0Rx4YnOqUwVDRFdOuAJLBr996gE/qjcG5lQ7PdZaHwUoIAZZ4DIHBXMUomnGmdMHF3NsZSY5bwcQYT5HLhFxBJugWqR5ZdUGUKdv9ndqBQV47jd43E4lBm3XPJ2InkEHMJCTI08KTQTV/eGMlWJdBfFR+/pHjmkEtboQGX2GeQVM+0R7w5qBB2c3oy72SokFKeHCCVjKkQcADpREFxKVBCnUA7CJGp0HCKbzjGbeoQQ==",
        "encoding": "base64",
        "path": [
         "_data",
         2,
         "y",
         "value"
        ]
       },
       {
        "data": "1iHMLujpl8Gnfd0DNv2VwVN2rN6Q45PBYFCS9iKfkcHSgIA6hWSOwdaR+avfPonB9A/Ng6PSg8GaJJKPz0p8wQ/zVvwMenDBNDh+K7X8UMGqe/FKaLJgQYrFypEbQnVBXwLsGh03gUFftOcB/ueHQY4xv9HKrI5BpSegqkS/kkFYfrH/GCuWQeStJpVblplB/2RQLob9nEFNSmRjiy6gQZI/EpjJ2KFBv3zJU8Z7o0GIetqv0RWlQX1Ihf1EpaZBKGmveYQoqEEY3lf1AJ6pQdnaE3E5BKtBK/PrqbxZrEELrACWKp2tQY4Pbs81za5BnTD466Tor0EtLQ/gKXewQXrxI0aa7rBBPRZqiShasUH7mPfKZbmxQZR8Et7vC7JBCCVkrXFRskFYBK6So4myQY4vpaBLtLJB4rmo3j3RskFVSBV2XOCyQW8kB9GX4bJBnBlrqu7UskFRjU0PbrqyQZp4ZlExkrJBXiHw6mFcskGYmuVTNxmyQZse1cj2yLFBBjSBA/NrsUGEL5rliwKxQYz55xUujbBBafpJkFIMsEE9QAFS/ACvQb8ZggeC1K1BICVA/muUrEHjSdspBEKrQeakSmCn3qlBVSJG8sNrqEFTa6sx2OqmQSRmY+dwXaVB1IheuifFo0ErnU2JoSOiQStByriMeqBBObZc7z6XnUFDq8f2KzGaQRGB/GthxpZBprPsD2Vak0ENCZC9e+GPQa3dVtrgGYlBDk6Vj/ZkgkFOZ0RlTZN3Qf+rh9ECO2VB/JZuPtZQQMEAaz1t96xswaGo9/jzOnrBTjBXoKDVgsHO85Z/zE2IwehRh0ZagI3B45ttMvczkcHFWcFJvX+TwVsoa4UhoZXBBg3csfGVl8GZUVGPKVyZwUqp/eX08ZrB3GOvaLFVnMFNKgJk8IWdweHHXzh4gZ7B9VhKnUVHn8EGnqKsjNafwf93a9pcF6DBFBaR6LgnoMED1J6jSRygwTCXJao16p/BNw3Mwalkn8GZp9M3eaiewaC2pwlmtp3BoiyEwGmPnMEudTtwtDSbwTtcw32rp5nB1yHMLujpl8E=",
        "encoding": "base64",
        "path": [
         "_data",
         3,
         "x",
         "value"
        ]
       },
       {
        "data": "GSXXRCg/kcFyJ+XG2biTwagLed4kDpbBFxKi16E8mMH0fL3+EEKawZmu6PFcHJzBEJ7TxpzJncEc3LwCFkifwcvSRzEfS6DBQeqmuF7ZoMFLYJH1Nk6hwd6E2HUvqaHB+dYxc+rpocHzOOEzJRCiwVspgU+4G6LBWBmi15cMosHDABdk0+KhwVaC4gKWnqHBoDHVCyZAocGTugrY5MegweSpkF1ONqDBwI08X/EXn8EFb8LHJpOdwczM/LrN35vBVHwD/ab/mcFLUCOBofSXwRF4qWvYwJXBQy8h5pBmk8H0oEDIN+iQwYoQ3S++kIzBIIboxXYTh8HRFy/qQV6BwZoM77UD7nbBOEJjsjGPZcEoHb6LZ6M6QX3PzX4stWxBqs9A/HE8e0GqHykXQSGEQQKsQQGtr4pB8CGXSl2hkEEKAL9y0emTQQq8eJ3QLZdBttxMB/1pmkEtNz/9AJudQZzyaCbJXqBBbX4W1DrnoUECD3b9QGWjQbxgEdZR16RBSMcd5e87pkHJ6baOq5GnQZ02z44k16hBUnBPZAsLqkEiA++qIiyrQcShYGJAOaxBmOeBIU8xrUFQWFE0TxOuQWL3g6NX3q5BSsGqJJeRr0FjPfh4KhawQdK4SMT4VrBBU2ykpvOKsEHtHwWL5bGwQYeYPEymy7BBk4hWXhvYsEHD+vXpN9ewQWgBktn8yLBBaAWE2HitsEHRrehDyISwQYH2Yg0VT7BBm5nfj5YMsEGtugqtInuvQW4wGqytxK5BNYKUMYr2rUExMnW7jBGtQeW4AVahFqxBAMB2qMoGq0HSCGjqIOOpQWLW5cLQrKhBoZyREhplp0EObuGpTg2mQcIM5uzQpqRBJ5b6ZRIzo0ETW9ZIkrOhQdWPiefbKaBB6Qr4NQovnUEu9yNBWfyZQYeYTN3wvpZB0kYlAyh6k0GxRgxGXTGQQXTMwrXmz4lBCQQ1NZtCg0FEjLsQMoN5QbLomAtSTmlBADxu/mAzusDUszrnS9RowaBGXciUhXjBCa7yXrojgsGdraeX09GHwWh0vyM7R43BGCXXRCg/kcE=",
        "encoding": "base64",
        "path": [
         "_data",
         3,
         "y",
         "value"
        ]
       },
       {
        "data": "HtZdBa+ysEE=",
        "encoding": "base64",
        "path": [
         "_data",
         4,
         "x",
         "value"
        ]
       },
       {
        "data": "7222ymt0qEE=",
        "encoding": "base64",
        "path": [
         "_data",
         4,
         "y",
         "value"
        ]
       }
      ],
      "model_module": "plotlywidget",
      "model_module_version": "^0.7.1",
      "model_name": "FigureModel",
      "state": {
       "_config": {
        "plotlyServerURL": "https://plot.ly"
       },
       "_data": [
        {
         "hoverinfo": "none",
         "line": {
          "color": "rgb(31, 119, 180)",
          "dash": "dash",
          "width": 2
         },
         "mode": "lines",
         "name": "2011-08-05 16:26 (Earth)",
         "type": "scatter",
         "uid": "b101dfe9-8637-492a-9896-ad7b6b83e7a4",
         "x": {
          "dtype": "float64",
          "shape": [
           100
          ]
         },
         "y": {
          "dtype": "float64",
          "shape": [
           100
          ]
         }
        },
        {
         "marker": {
          "color": "rgb(31, 119, 180)",
          "size": 10
         },
         "mode": "markers",
         "name": "2011-08-05 16:26 (Earth)",
         "type": "scatter",
         "uid": "855bdb05-6db4-4e55-8f1a-fb4edfa0348d",
         "x": {
          "dtype": "float64",
          "shape": [
           1
          ]
         },
         "y": {
          "dtype": "float64",
          "shape": [
           1
          ]
         }
        },
        {
         "hoverinfo": "none",
         "line": {
          "color": "rgb(255, 127, 14)",
          "dash": "solid",
          "width": 2
         },
         "mode": "lines",
         "name": "Inner Cruise 1",
         "type": "scatter",
         "uid": "780419b0-f341-4133-8a10-286a678ce2d6",
         "x": {
          "dtype": "float64",
          "shape": [
           50
          ]
         },
         "y": {
          "dtype": "float64",
          "shape": [
           50
          ]
         }
        },
        {
         "hoverinfo": "none",
         "line": {
          "color": "rgb(44, 160, 44)",
          "dash": "dash",
          "width": 2
         },
         "mode": "lines",
         "name": "2012-09-01 14:40 (Back to Earth)",
         "type": "scatter",
         "uid": "d4f1664c-b499-468a-8ce5-30c54b0eba3d",
         "x": {
          "dtype": "float64",
          "shape": [
           100
          ]
         },
         "y": {
          "dtype": "float64",
          "shape": [
           100
          ]
         }
        },
        {
         "marker": {
          "color": "rgb(44, 160, 44)",
          "size": 10
         },
         "mode": "markers",
         "name": "2012-09-01 14:40 (Back to Earth)",
         "type": "scatter",
         "uid": "99018349-d704-4892-ab2f-3bbb696f09eb",
         "x": {
          "dtype": "float64",
          "shape": [
           1
          ]
         },
         "y": {
          "dtype": "float64",
          "shape": [
           1
          ]
         }
        }
       ],
       "_js2py_pointsCallback": {},
       "_js2py_relayout": {},
       "_js2py_restyle": {},
       "_js2py_update": {},
       "_last_layout_edit_id": 6,
       "_last_trace_edit_id": 6,
       "_layout": {
        "autosize": true,
        "shapes": [
         {
          "fillcolor": "#ffcc00",
          "line": {
           "color": "#ffcc00"
          },
          "opacity": 1,
          "type": "circle",
          "x0": -21895056.19935296,
          "x1": 21895056.19935296,
          "xref": "x",
          "y0": -21895056.19935296,
          "y1": 21895056.19935296,
          "yref": "y"
         }
        ],
        "template": {},
        "xaxis": {
         "constrain": "domain",
         "title": {
          "text": "x (km)"
         }
        },
        "yaxis": {
         "scaleanchor": "x",
         "title": {
          "text": "y (km)"
         }
        }
       },
       "_py2js_animate": {},
       "_py2js_deleteTraces": {},
       "_py2js_moveTraces": {},
       "_py2js_removeLayoutProps": {},
       "_py2js_removeTraceProps": {},
       "_py2js_restyle": {},
       "_view_count": 1
      }
     },
     "ad9b725689c4492599306c2909669abf": {
      "buffers": [
       {
        "data": "8HSogo9moUEg1g1CaF2hQQqkt+/7QaFBA/FY0GYUoUFMeLrg19SgQSQWS6WQg6BBr2SW5uQgoEH+N861dFqfQcd43HoQUp5B5i22pq0pnUGKzMW+feKbQb+HkQjSfZpBPpoQLhr9mEGZUKzC4mGXQcOBc6rTrZVBO9slZa7ik0Esbtk+TAKSQTUfGGicDpBBHcvX7kMTjEEQEdCs4+qHQetfpThhqINBsTCUYkGgfkGvDaQ+Oc11QesXTVyFwWlBOijvhoQgT0F0r0j3ZX5UwYYzMWfhQWzBI81Sq6wWd8EAWbD2kPd/wbi6wFE7XYTBeOpv1SqriMGTHDwgJ+GMwUACF35sfZDBrTp7LgN6ksF2NapdS2SUwU7F9qZLOpbBTHifjR/6l8HHHjpw+aGZwZehj2QkMJvBoaH9+QWjnMEcnY3gH/mdwVx5DXMRMZ/BXJlJkcwkoMGFffrgyqCgwV0L8NcDDKHB95gt7whmocEMRlJbfa6hweaKQGwW5aHBJaYb2psJosFtjEv/5xuiwWqMS//nG6LBHKYb2psJosHWikBsFuWhwfVFUlt9rqHB2pgt7whmocE7C/DXAwyhwV59+uDKoKDBL5lJkcwkoMH0eA1zETGfwa2cjeAf+Z3BJKH9+QWjnMESoY9kJDCbwTkeOnD5oZnBuHefjR/6l8GoxPamSzqWwdw0ql1LZJTB9jl7LgN6ksGLARd+bH2QwRcbPCAn4YzBD+lv1SqriMEvucBRO12EwfRVsPaQ93/BH8pSq6wWd8FcLTFn4UFswcqiSPdlflTBdUHvhoQgT0GSHU1chcFpQdMQpD45zXVB8TOUYkGgfkF0YaU4YaiDQYIS0Kzj6odBjczX7kMTjEHpHxhonA6QQdhu2T5MApJB6NslZa7ik0FignOq062VQSxRrMLiYZdBu5oQLhr9mEE8iJEI0n2aQf3Mxb594ptBVi62pq0pnUEoedx6EFKeQVU4zrV0Wp9B1GSW5uQgoEFDFkulkIOgQWR4uuDX1KBBF/FY0GYUoUEXpLfv+0GhQSfWDUJoXaFB8HSogo9moUE=",
        "encoding": "base64",
        "path": [
         "_data",
         0,
         "x",
         "value"
        ]
       },
       {
        "data": "AAAAAACuuT4APwYMpQRiQat21KNb+3FBVv/wg9vhekGvfCq2UtaBQXcYzZlUKYZBayFSTH5likG0vpw5coaOQTvQA233Q5FBUrTAiukyk0GUyJxCEQ6VQQlHvceE05ZBS3K6rHCBmEGrJnXFGRaaQUnB6+/ej5tB2HM3wjrtnEGjxvYbxSyeQZt/h5k0TZ9BT6HI868moEEBdcF6H5agQaJT4wJ29KBBDSpKTVJBoUF76jYfZXyhQV1xu5NxpaFBhO1/Wk28oUHGFmHj4MChQfU8unYns6FBOSVCOi+ToUHHsnUiGWGhQTZjn9AYHaFBC6OeXXTHoEEp16URhGCgQUAucxJk0Z9Bg86dj/PAnkG0ZvJwz5CdQfaQVjoxQpxBgQZB2nHWmkFDiClGCE+ZQX7ZBPiHrZdB2TlbTp/zlUGhGqbQFSOUQVJdvlnKPZJBryY/KrFFkEEZNLTJo3mMQYcbYe2KSohBOsOz22cChEGCAUYBSUt/QcahXBaAcXZBnXPOKikBa0FkiQvZ9wZSQVWWC9n3BlLB6HnOKikBa8H3pFwWgHF2wZYERgFJS3/BxcSz22cChMEFHWHtikqIwZQ1tMmjeYzBZCc/KrFFkMEDXr5Zyj2SwUcbptAVI5TBfTpbTp/zlcEV2gT4h62XwdiIKUYIT5nBBwdB2nHWmsF3kVY6MUKcwRxn8nDPkJ3B786dj/PAnsGeLnMSZNGfwVPXpRGEYKDBLaOeXXTHoMFTY5/QGB2hwd6ydSIZYaHBSiVCOi+TocH/PLp2J7OhwcgWYePgwKHBgO1/Wk28ocFVcbuTcaWhwWzqNh9lfKHB9SlKTVJBocGIU+MCdvSgweF0wXoflqDBJqHI868moME/f4eZNE2fwTzG9hvFLJ7BX3M3wjrtnMHLwOvv3o+bwSgmdcUZFprByHG6rHCBmMF5Rr3HhNOWwfvHnEIRDpXBp7PAiukyk8GQzwNt90ORwVW9nDlyho7B/h9STH5lisEAF82ZVCmGwTB7KrZS1oHBWvzwg9vhesGPc9SjW/txwfA4BgylBGLBAAAAAAD+tz4=",
        "encoding": "base64",
        "path": [
         "_data",
         0,
         "y",
         "value"
        ]
       },
       {
        "data": "ietIKgDTncE=",
        "encoding": "base64",
        "path": [
         "_data",
         1,
         "x",
         "value"
        ]
       },
       {
        "data": "L/AASgRalME=",
        "encoding": "base64",
        "path": [
         "_data",
         1,
         "y",
         "value"
        ]
       },
       {
        "data": "D/4BVfb0nMFibHoia8qawaB3G3X0cJjB3kZTTf7qlcGjESWKIjuTwR4pxDomZJDBfRlUh+3RisHg8jG0TZmEwegMnWStSXzBVEa7nL/sbcEKUkh58WY0wejofJ8RcGlB8N7NBJv2ekGj1llITLOEQTzMocWP/ItBJjGYnMqnkUELj4HpZ1KVQcYDQz5Y+phB6l+n0dabnEFt+Ym/khmgQbacGlFI3qFBMDTsczmao0FxcAGInEulQYvms86y8KZBaq43N8qHqEGpGw0ePw+qQRlVk/19hatBmuL9DQXprEEiagDTZTiuQTqulpVGcq9BuLAx5LFKsEGrOZuqSNCwQQ2FMeldSbFBjiRTz3S1sUEWHz3xHRSyQfTZ5br3ZLJBfA+T1K6nskGBI8N4/tuyQWBGEbuwAbNBNVPLv54Ys0G1HADksCCzQWDe3NXeGbNBRLRAnS8Es0FPQn2Uud+yQaQDTFGirLJBWgIQfh5rskHq54ujcRuyQS5cROPtvbFBWXbWovNSsUHyhJko8dqwQYyb8iliVrBBwSael56Lr0Hr5JIrm1OuQeDXE7H7Ba1BLqoBEBikq0Fs4UsUXS+qQdGP5vVKqahBqcK6zHMTp0Go8SnyeW+lQcOyz1EOv6NBrTo+q+4DokGXr4HG4z+gQe7mhzp/6ZxBb4zs9LZImUGext8kLKGVQaEM8Sqj9pFBxgTu+saZjEFdDY+GZ0+FQamZFr1XK3xBfPtEBhvQa0GAGZeXzFv8wGbN+l3ipmvB26UGVw8ve8GBxUuguBCEwWo/FTGfTorBqdGpG2YlkMFOUU4miv+SwQoVXhPLspXBjOqxU2A8mMFN9JpMrJmawUjAIAo/yJzBAXQwwtjFnsEfBhMTNkigwbXtJUAQE6HBbguRzanCocETEzy4TVaiwUCpTc9jzaLBDRMNUXEno8GRhmxpGWSjwRSruZEdg6PBvKUR0V2Eo8ECQlbd2GejwY48ghysLaPB+VFbhhPWosFgTqFmaWGiwWjW+f8l0KHBW9z4D98iocFUi8U0R1qgwTCK9Wla7p7BEP4BVfb0nME=",
        "encoding": "base64",
        "path": [
         "_data",
         2,
         "x",
         "value"
        ]
       },
       {
        "data": "9iNonLCNlcFqaAYiZ0OYwUapE5K80ZrBcS81bA42ncGdbSd/5W2fwZHLsTl8u6DBQ9lAE5enocFMl3TqT3qiwTqbyofNMqPBo8XzvVHQo8G9IN4tOlKkwe8cFe4AuKTBoaHLFD0BpcGhpwEkoy2lwdjhVVcFPaXB3jwz01MvpcGNkym1nASlweK+YAUMvaTB+QA1ietYpMHslCt3otijwcPGjQy1PKPBW0AYBcSFosHQDkv1i7ShwYosBYjkyaDBDuNnQH+Nn8EpKve+UFidwd+OsyWE9prBbnu8DI5qmMHkcV2CDreVwXkASVbO3pLBcHehdXjJj8F8WR9+05eJwWbDSUoQL4PBxnEDX5QrecFxQ1ITOktnwVjCbQCmLkFBltoJtIgocEH0rAeSDVR+QSgKZgPkTIZBtB5c3YB1jUGrvA0fPk6SQXVcmF073ZVBo0ELGQ1kmUGLlR2sEN+cQYleas5XJaBB37Wmp7HRoUFotRRU3HKjQf19cc0pB6VBf7ktUPmMpkEnkwkJuQKoQRmBSrPnZqlBLOXfJRa4qkEEI93N6PSrQbIGwxQZHK1B2ScnsXYsrkEOQV7g6CSvQYgT88M3ArBBroSyHhJlsEFD7RaanbqwQbmEqgeCArFBrn6+S3U8sUG+ds+pO2ixQRdLGQKohbFB8usaAJyUsUFCLdo5CJWxQfVfxz/shrFB7lEwnVZqsUEIPkLJZD+xQaggqghDBrFBCMDyPyy/sEFucs+2aWqwQVE2ksxSCLBBQvU1PJkyr0Gn3Dk7kzuuQbaQSjmSLK1Bfki6ka0GrEGveRs4FMuqQQ7i9n8Le6lBbg9xze0XqEHiFTkwKaOmQYOHMOo9HqVBB6dR47yKo0EGJGwMRuqhQXFhYrKGPqBB7n5Ch28SnUEmKzUTOJiZQWPHLbD8EZZBaHh6aF+DkkG3xePUFeCNQYekrIFdt4ZBzF7YGO4nf0EF8s5cfPpwQfRpOPQYqEdBCMApDRO0ZcEthyCRbWR4wR7JB+MZzoLBZFkFCt45icHkgYHP5G6PwdNWYBlks5LB9CNonLCNlcE=",
        "encoding": "base64",
        "path": [
         "_data",
         2,
         "y",
         "value"
        ]
       },
       {
        "data": "ietIKgDTncE=",
        "encoding": "base64",
        "path": [
         "_data",
         3,
         "x",
         "value"
        ]
       },
       {
        "data": "L/AASgRalME=",
        "encoding": "base64",
        "path": [
         "_data",
         3,
         "y",
         "value"
        ]
       }
      ],
      "model_module": "plotlywidget",
      "model_module_version": "^0.7.1",
      "model_name": "FigureModel",
      "state": {
       "_config": {
        "plotlyServerURL": "https://plot.ly"
       },
       "_data": [
        {
         "hoverinfo": "none",
         "line": {
          "color": "rgb(31, 119, 180)",
          "dash": "dash",
          "width": 2
         },
         "mode": "lines",
         "name": "2011-08-05 16:26",
         "type": "scatter",
         "uid": "3998758c-c848-47bd-ad9f-cbe718fc0751",
         "x": {
          "dtype": "float64",
          "shape": [
           100
          ]
         },
         "y": {
          "dtype": "float64",
          "shape": [
           100
          ]
         }
        },
        {
         "marker": {
          "color": "rgb(31, 119, 180)",
          "size": 10
         },
         "mode": "markers",
         "name": "2011-08-05 16:26",
         "type": "scatter",
         "uid": "dcbb5f86-082d-487d-b97e-e136c47cd668",
         "x": {
          "dtype": "float64",
          "shape": [
           1
          ]
         },
         "y": {
          "dtype": "float64",
          "shape": [
           1
          ]
         }
        },
        {
         "hoverinfo": "none",
         "line": {
          "color": "rgb(255, 127, 14)",
          "dash": "dash",
          "width": 2
         },
         "mode": "lines",
         "name": "2011-08-05 16:26",
         "type": "scatter",
         "uid": "bdf7b9e6-4bf6-4c63-98ce-bd7e3fdf0add",
         "x": {
          "dtype": "float64",
          "shape": [
           100
          ]
         },
         "y": {
          "dtype": "float64",
          "shape": [
           100
          ]
         }
        },
        {
         "marker": {
          "color": "rgb(255, 127, 14)",
          "size": 10
         },
         "mode": "markers",
         "name": "2011-08-05 16:26",
         "type": "scatter",
         "uid": "434e657f-ac8f-408e-b359-374c883d1cda",
         "x": {
          "dtype": "float64",
          "shape": [
           1
          ]
         },
         "y": {
          "dtype": "float64",
          "shape": [
           1
          ]
         }
        }
       ],
       "_js2py_pointsCallback": {},
       "_js2py_relayout": {},
       "_js2py_restyle": {},
       "_js2py_update": {},
       "_last_layout_edit_id": 5,
       "_last_trace_edit_id": 5,
       "_layout": {
        "autosize": true,
        "shapes": [
         {
          "fillcolor": "#ffcc00",
          "line": {
           "color": "#ffcc00"
          },
          "opacity": 1,
          "type": "circle",
          "x0": -21895056.19935296,
          "x1": 21895056.19935296,
          "xref": "x",
          "y0": -21895056.19935296,
          "y1": 21895056.19935296,
          "yref": "y"
         }
        ],
        "template": {},
        "xaxis": {
         "constrain": "domain",
         "title": {
          "text": "x (km)"
         }
        },
        "yaxis": {
         "scaleanchor": "x",
         "title": {
          "text": "y (km)"
         }
        }
       },
       "_py2js_animate": {},
       "_py2js_deleteTraces": {},
       "_py2js_moveTraces": {},
       "_py2js_removeLayoutProps": {},
       "_py2js_removeTraceProps": {},
       "_py2js_restyle": {},
       "_view_count": 1
      }
     },
     "c113aebb8a03444d9ac579995214cc79": {
      "buffers": [
       {
        "data": "8HSogo9moUEg1g1CaF2hQQqkt+/7QaFBA/FY0GYUoUFMeLrg19SgQSQWS6WQg6BBr2SW5uQgoEH+N861dFqfQcd43HoQUp5B5i22pq0pnUGKzMW+feKbQb+HkQjSfZpBPpoQLhr9mEGZUKzC4mGXQcOBc6rTrZVBO9slZa7ik0Esbtk+TAKSQTUfGGicDpBBHcvX7kMTjEEQEdCs4+qHQetfpThhqINBsTCUYkGgfkGvDaQ+Oc11QesXTVyFwWlBOijvhoQgT0F0r0j3ZX5UwYYzMWfhQWzBI81Sq6wWd8EAWbD2kPd/wbi6wFE7XYTBeOpv1SqriMGTHDwgJ+GMwUACF35sfZDBrTp7LgN6ksF2NapdS2SUwU7F9qZLOpbBTHifjR/6l8HHHjpw+aGZwZehj2QkMJvBoaH9+QWjnMEcnY3gH/mdwVx5DXMRMZ/BXJlJkcwkoMGFffrgyqCgwV0L8NcDDKHB95gt7whmocEMRlJbfa6hweaKQGwW5aHBJaYb2psJosFtjEv/5xuiwWqMS//nG6LBHKYb2psJosHWikBsFuWhwfVFUlt9rqHB2pgt7whmocE7C/DXAwyhwV59+uDKoKDBL5lJkcwkoMH0eA1zETGfwa2cjeAf+Z3BJKH9+QWjnMESoY9kJDCbwTkeOnD5oZnBuHefjR/6l8GoxPamSzqWwdw0ql1LZJTB9jl7LgN6ksGLARd+bH2QwRcbPCAn4YzBD+lv1SqriMEvucBRO12EwfRVsPaQ93/BH8pSq6wWd8FcLTFn4UFswcqiSPdlflTBdUHvhoQgT0GSHU1chcFpQdMQpD45zXVB8TOUYkGgfkF0YaU4YaiDQYIS0Kzj6odBjczX7kMTjEHpHxhonA6QQdhu2T5MApJB6NslZa7ik0FignOq062VQSxRrMLiYZdBu5oQLhr9mEE8iJEI0n2aQf3Mxb594ptBVi62pq0pnUEoedx6EFKeQVU4zrV0Wp9B1GSW5uQgoEFDFkulkIOgQWR4uuDX1KBBF/FY0GYUoUEXpLfv+0GhQSfWDUJoXaFB8HSogo9moUE=",
        "encoding": "base64",
        "path": [
         "_data",
         0,
         "x",
         "value"
        ]
       },
       {
        "data": "AAAAAACuuT4APwYMpQRiQat21KNb+3FBVv/wg9vhekGvfCq2UtaBQXcYzZlUKYZBayFSTH5likG0vpw5coaOQTvQA233Q5FBUrTAiukyk0GUyJxCEQ6VQQlHvceE05ZBS3K6rHCBmEGrJnXFGRaaQUnB6+/ej5tB2HM3wjrtnEGjxvYbxSyeQZt/h5k0TZ9BT6HI868moEEBdcF6H5agQaJT4wJ29KBBDSpKTVJBoUF76jYfZXyhQV1xu5NxpaFBhO1/Wk28oUHGFmHj4MChQfU8unYns6FBOSVCOi+ToUHHsnUiGWGhQTZjn9AYHaFBC6OeXXTHoEEp16URhGCgQUAucxJk0Z9Bg86dj/PAnkG0ZvJwz5CdQfaQVjoxQpxBgQZB2nHWmkFDiClGCE+ZQX7ZBPiHrZdB2TlbTp/zlUGhGqbQFSOUQVJdvlnKPZJBryY/KrFFkEEZNLTJo3mMQYcbYe2KSohBOsOz22cChEGCAUYBSUt/QcahXBaAcXZBnXPOKikBa0FkiQvZ9wZSQVWWC9n3BlLB6HnOKikBa8H3pFwWgHF2wZYERgFJS3/BxcSz22cChMEFHWHtikqIwZQ1tMmjeYzBZCc/KrFFkMEDXr5Zyj2SwUcbptAVI5TBfTpbTp/zlcEV2gT4h62XwdiIKUYIT5nBBwdB2nHWmsF3kVY6MUKcwRxn8nDPkJ3B786dj/PAnsGeLnMSZNGfwVPXpRGEYKDBLaOeXXTHoMFTY5/QGB2hwd6ydSIZYaHBSiVCOi+TocH/PLp2J7OhwcgWYePgwKHBgO1/Wk28ocFVcbuTcaWhwWzqNh9lfKHB9SlKTVJBocGIU+MCdvSgweF0wXoflqDBJqHI868moME/f4eZNE2fwTzG9hvFLJ7BX3M3wjrtnMHLwOvv3o+bwSgmdcUZFprByHG6rHCBmMF5Rr3HhNOWwfvHnEIRDpXBp7PAiukyk8GQzwNt90ORwVW9nDlyho7B/h9STH5lisEAF82ZVCmGwTB7KrZS1oHBWvzwg9vhesGPc9SjW/txwfA4BgylBGLBAAAAAAD+tz4=",
        "encoding": "base64",
        "path": [
         "_data",
         0,
         "y",
         "value"
        ]
       },
       {
        "data": "ietIKgDTncE=",
        "encoding": "base64",
        "path": [
         "_data",
         1,
         "x",
         "value"
        ]
       },
       {
        "data": "L/AASgRalME=",
        "encoding": "base64",
        "path": [
         "_data",
         1,
         "y",
         "value"
        ]
       },
       {
        "data": "jutIKgDTncEhxjqeOXScwbtlibkP/5rBTkc8PpdzmcEFLghp2NGXwYDUDHDQGZbBQUX0GHNLlMFORcFtrGaSwevguJhia5DBr/QV4u+yjMH8smGGmmGIwdOszsKI4oPBvcjHKAxrfsGyRbzR2LR0wdJGSJGuRGXB8BWU1TnSCcEsAjsBpC1lQa49+Ss3vHVB0yDHp5qdgEGSdzde7IiGQTBHe3O3noxB9f0gV5hukUG/wt8YA6GUQcYmtEok5ZdB76JK5ig5m0GFIE8C1ZqeQX0yQbK6A6FB+G+5POi9okFa4iyLC3qkQTggjMnqNaZBcDWk/fLup0ExpWEmMqKpQf4KwPpSTKtB1vIL/5rprEEKt4rB63WuQZTASiLI7K9BM6SKR6+ksEHo4saGTEOxQR5Pw+GZz7FBlqouMe1GskFndhM1pqayQebtq9JD7LJB5BI5xnsVs0G9h+7AUyCzQeLFc486C7NBDh5YnB/VskEwm3f6hn2yQT2CHSuYBLJBNOPCEiZrsUEe1l0Fr7KwQQ==",
        "encoding": "base64",
        "path": [
         "_data",
         2,
         "x",
         "value"
        ]
       },
       {
        "data": "KvAASgRalMFxgH83sDeWwbfuwzifBZjBc0Rpr2TDmcGx9PO5g3CbwTjVS4BtDJ3BxgAren+WnsE6pFDWAAegwW1NVW4SuaDB7SntWgBhocEWh6nySP6hwQb4XBVckKLBRNBPMZoWo8EXgAZIU5CjwXkDy/bF/KPBlxzSiB5bpMGzUdgadqqkwXajgNrR6aTB25CmbiIYpcGptkOZQzSlwccriSf8PKXBCFVhSf4wpcHsibFu6A6lwXrlTM5G1aTBxGBtwJWCpMFnY2gcRRWkwaWauM68i6PBDbWy4GLkosFdIF8tox2iwRCox/34NaHBUh8HwforoMFoK48P0PydwQs8QKtzWJvB8vfxdWppmMHcrEj8/y6VwYZHvMJtqZHBq8/nNxO0i8EZWk9354aDwR30ukQHp3XBLKsA1npUSsGwmrHaCdRvQbR7/8oN6YFBmiu1aRUhjEF9ZNNLCUKTQRlRthkRe5hBtX2iUY2snUGcxWLOU2OhQTlIbFue3KNB3K9P9S46pkHvbbbKa3SoQQ==",
        "encoding": "base64",
        "path": [
         "_data",
         2,
         "y",
         "value"
        ]
       },
       {
        "data": "kjd/gEvnlsFMvKsH9GI/QbY+eWAcK5hBul6lLzQdpUF8Y71eAW2rQYrrVY93p69Bo9OyKnIxsUHSoOb72gmyQau0Z5Byh7JB35gZLDfIskFdgZbj1+CyQcfVdmRX37JB2M1pYxDNskFfWYPGLbCyQbj4B3OzjLJBQ74zSzRlskFvV0cqTTuyQakuzQH3D7JBT+vZKr3jsUGYW30C4baxQeSO3/xwibFBM76WTFdbsUHNds/SYiyxQYGOHBhM/LBBpejYZ7fKsEEOIAG2NJewQQAjaqY9YbBB82IRzzEosEERLE05otavQXh4MSNoU69BrjWaz4LErkF+DxDQQCeuQS6iFhxOeK1BXwjCnYWzrEERN7IvtdOrQeq2OO1Q0qpBji9Z/xKnqUGCWsTChkeoQfGfv9eCpqZBSFEXbaCzpEGFyNNk1FqiQSaRRSv1CJ9B9bKDDuwsmEHNQe3Yld6PQde6iNwqwXhBHHPCtLfic8GelWaWSeqQweQImCGtsZvB4G3u1WUeoMHpOv8ew9eVwQ==",
        "encoding": "base64",
        "path": [
         "_data",
         3,
         "x",
         "value"
        ]
       },
       {
        "data": "PNr1GoCXksEpM2MMkRahwTL7p+sgvqHBuIdoo5+LncHFfaHtNw+VwR79kzRsZYjBDsipJtwob8EieEhOYwJsQYNJ9FiL14NBaf/8P7HYjkF49iyt/x2UQdPLGVW2H5hByg2QxtKOm0ESFFQYK4WeQXopm/RRjKBBe2zIfrOtoUGC/FQCLq6iQbSMMmbYk6NBfYID4qxjpEEBjRT8wCGlQSukA1Z00aVBSb9T55Z1pkGLZx/WhxCnQdtAhDVOpKdBxeq00qwyqEEySMcFMr2oQVyYmEBERalBQ0mQ2CvMqUEN76BFGlOqQZUcD8Mu26pBVRnl2Xdlq0HdC8rP8PKrQS4T1CN5hKxBs4DdA8MarUFv9Oi3M7atQSW/YgauVq5BsDJbADr7rkFAluG3dqGvQfuZGhRcIrBBNpG6glJusEEzZvA6iq2wQZbh53xp1LBBmd294WzQsEENZ5UntISwQSvaP/9ciq9B6V0VCUqgrEF+vmWEho2nQYbtnzJXsp5Bf5hk8k6lekHHn6cYW+WTwQ==",
        "encoding": "base64",
        "path": [
         "_data",
         3,
         "y",
         "value"
        ]
       },
       {
        "data": "CP1YSOuYqcHasNYsPXWpwfQ3hQsmUanBpyoA5qQsqcEe6va8uAepwYxnSJBg4qjB1L8gX5u8qMGQvBgoaJaowXZRV+nFb6jByyi1oLNIqMGWVuJLMCGowd9Hjug6+afBjgOSdNLQp8Fe1Rzu9aenwRl341OkfqfBK9NRpdxUp8Gec7/inSqnwVe5pg3n/6bBDO7eKLfUpsGcTdk4DammwYga4UPofKbBRNReUkdQpsFEqB5vKSOmwQ0ymqeN9aXBqZ5FDHPHpcE0S+Cw2JilwQHsyKy9aaXBmlZVGyE6pcHQ9S0cAgqlwar/rNNf2aTBKHVBazmopMFW9tURjnakwSJ6O/xcRKTBZeWXZaURpMH2j9iPZt6jweesKMSfqqPBr5xrU1B2o8HwFruWd0Gjwaoq6e8UDKPB1fwFyifWosGzNOmZr5+iwR75vt6raKLBC2CYIhwxosFEKf/6//ihwTWajAlXwKHBhkKD/CCHocFUdGuPXU2hwYMtsosME6HBHyRKyS3YoMEsq04vwZygwQ==",
        "encoding": "base64",
        "path": [
         "_data",
         4,
         "x",
         "value"
        ]
       },
       {
        "data": "aJdbyV7lZcE5lXSFoD5pwdZT/YOLl2zBRq4U6g/wb8GVviS1DqRxwVwU9qDRT3PBSBosG0j7dMEIVxtJaaZ2wWz+XBEsUXjB2ARqGof7ecFAtDPJcKV7wcY/uj/fTn3BtuGhW8j3fsGXfmPaEFCAwb3+6E3wI4HBSrllDH33gcEvpth0scqCwXjnhsCHnYPB9KJIAvpvhMGqk9clAkKFwXHfH++ZE4bBkrWT+brkhsF4N4K3XrWHwf5KcnF+hYjBR/qBRRNVicEK/comFiSKwc87zdx/8orB7+ffAknAi8HJHqoHao2MwRDIoyzbWY3BF6ifhZQljsGUll/4jfCOwU22Mzy/uo/BqO/S7A9CkMEKDhmVU6aQwRbABiwmCpHBtCv+LoNtkcH+g5wDZtCRwdpdtvfJMpLBWZldQaqUksH1fvH+AfaSwfa/OTfMVpPBqgaN2QO3k8F7yQO+oxaUwaYRuKWmdZTBfPMSOwfUlMEaZigSwDGVwWAyIqnLjpXBxLW6aCTrlcGMIMikxEaWwQ==",
        "encoding": "base64",
        "path": [
         "_data",
         4,
         "y",
         "value"
        ]
       },
       {
        "data": "8zXn/CYxj0HY2O+snT6bQV1tgy3cY6NB2y2FtP8TqUExh4dm3KmuQWFpXyrYD7JBLQXzSu23tEH5qsiJcEq3QSG1vRe7xLlBKPB9HT8kvEG09oFdima+QW/8zFykRMBBfb+1TCNFwUGmXLSXuTPCQbs+9UxxD8NBN4Ud72fXw0HMc8Ndz4rEQflE6anuKMVBJFif1CKxxUH7OAl33yLGQW1NGFOvfcZBXvlmzDTBxkGMo7dIKu3GQS0jtHdiAcdBtqCjgcj9xkFVw+YcYOLGQYoFJIpFr8ZBiiIod61kxkH+oZjI5ALGQdt7sEpQisVBTYlYSWz7xEHT3QYQzFbEQXQc6VEZncNBpEz2ehPPwkExgZzqju3BQY641Rh0+cBBNUILTX3nv0FBjC60+Lq9QXYNzBKYb7tBzv8g5LgHuUEGZ8wC1oW2Qds6YxqF7LNBNARg/XM+sUG0BlrEy/ysQe0/QxRhXqdBETnFqnKnoUHp86AaybuXQR488c+3HohBADA1npFpNUGFMHMfg8qGwYQV1SREFZfBlagknypXocE7tQQkQBKnwdx/ulP6tazBFv5KekQescGRxk/vHNCzwT6rWG2/bbbBNBNCrnn0uMGkXeQIsWG7wd43SSDlsr3B0kLFd7Llv8GyyqZ06vvAwf+sv/2U88HBdId4itnYwsHiXkTFy6rDwXhMXEOTaMTBpt/VY2wRxcHqm0sZqaTFwYWzR52xIcbBMQy4DAWIxsGNR8rsOdfGwQ3bppf+DsfBHiKbkBkvx8GjqFu/aTfHwaKXIZLmJ8fB0RmABqAAx8GonOiYvsHGwQ3s7hqDa8bBYy14cEb+xcHDmhk0eXrFwSJyBUOj4MTBcr/9MGMxxMFmYN2kbW3DwfLBX56MlcLBok3npZ6qwcFaKxnnla3AwTmadW7uPr/B9DOlELICvcHXv0GUxKi6wV7aMXSSM7jBkm0nR6SltcFjaAsjnAGzwYISIeYySrDBLoNa0WoEq8HH2ws0A1mlwS90DzAOMJ/BzAuJv8mOk8G603N62Gh/wd4VhBjeDG9BzDTn/CYxj0E=",
        "encoding": "base64",
        "path": [
         "_data",
         5,
         "x",
         "value"
        ]
       },
       {
        "data": "0XYPwCPjxcHbPvjT+bXFwTCZXc08ccXBUqukhzMVxcE/qkXiPKLEwbPN/17PGMTB1YGwp3h5w8G1w0v83MTCwZYwjIm2+8HB708JqdQewcH063kLGy/Awe2Z/ZsBW77BaJHP9h42vMH1dPP0w/G5wcgbn9RGkLfBdPAF3BsUtcErcbXR0n+ywRauMLEorK/By26yZD4zqsH0t+/VipqkwZRD8MGlz53B45gUZ+xBksHTvGz4SV96wU0q3VaHinRB1girlVnhkEHsbPhdOZicQWyFWfCWHaRBL4QvLBzfqUEDBK5yvYqvQWupWTJRjbJBdx8lnYdEtUG1q9dVNei3QQvhYtuhdbpBqVOEnSvqvEEzgRizSkO/QU8Y/rpJv8BBs+nlgNzMwUFNPHfJR8nCQWJIvWGHs8NB4vrS0amKxEEhH8xV0U3FQcYYT8I0/MVB54jzUyCVxkFKG5Bo9hfHQcR3uCEwhMdB7tfD713Zx0FC8cwEKBfIQceoNK9OPchBD0NKm6pLyEF3YtX7LELIQbYJWJnfIMhBhOj4x+Tnx0FYVyBEd5fHQa587PXpL8dBVwW7m6exxkF7iCBcMh3GQfQDvz8jc8VBX72Fkym0xEFyJP0zCuHDQb78WMKe+sJBsv0hxNQBwkGCKV6urPfAQXp8aLpxur9BJ4g18jhnvUHIgGyVFPi6QRLhN/2Gb7hBvA9+tCzQtUFRcrvGuRyzQZp3ovb2V7BBKvLBvn0Jq0F7owAH9kulQfcBojGD+p5B6w569rlGk0H87yvugSJ+QTGpJfq5znDB1uCHHzTEj8GPoyOhl3abwYO/H6ubcqPBLlGpLRgRqcGF74WF9pCuweC/5rdF9rHB1h+riCiPtMHq3RFUdhC3wXtGNAiad7nBySO1ixnCu8HPXGVLmO29wZxyeanZ97/BT7fmpWHvwMGrZ2ujL9DBwVwyhBFvncLBhmNJXUxWw8Egd8r2CPrDwSyjfRX8h8TB0yM8ZpP/xMGR7xeiU2DFwQZYbw3ZqcXB4Ji73tfbxcFUW7CMHPbFwR6mWwOM+MXB03YPwCPjxcE=",
        "encoding": "base64",
        "path": [
         "_data",
         5,
         "y",
         "value"
        ]
       },
       {
        "data": "tB0MCD3XokE=",
        "encoding": "base64",
        "path": [
         "_data",
         6,
         "x",
         "value"
        ]
       },
       {
        "data": "Eqfqa6/Jx0E=",
        "encoding": "base64",
        "path": [
         "_data",
         6,
         "y",
         "value"
        ]
       }
      ],
      "model_module": "plotlywidget",
      "model_module_version": "^0.7.1",
      "model_name": "FigureModel",
      "state": {
       "_config": {
        "plotlyServerURL": "https://plot.ly"
       },
       "_data": [
        {
         "hoverinfo": "none",
         "line": {
          "color": "rgb(31, 119, 180)",
          "dash": "dash",
          "width": 2
         },
         "mode": "lines",
         "name": "2011-08-05 16:26 (Earth)",
         "type": "scatter",
         "uid": "34fd7177-bcc5-4555-99ad-1792fbe89b2a",
         "x": {
          "dtype": "float64",
          "shape": [
           100
          ]
         },
         "y": {
          "dtype": "float64",
          "shape": [
           100
          ]
         }
        },
        {
         "marker": {
          "color": "rgb(31, 119, 180)",
          "size": 10
         },
         "mode": "markers",
         "name": "2011-08-05 16:26 (Earth)",
         "type": "scatter",
         "uid": "75e712cd-a13c-40d1-846e-f3b0697484c6",
         "x": {
          "dtype": "float64",
          "shape": [
           1
          ]
         },
         "y": {
          "dtype": "float64",
          "shape": [
           1
          ]
         }
        },
        {
         "hoverinfo": "none",
         "line": {
          "color": "rgb(255, 127, 14)",
          "dash": "solid",
          "width": 2
         },
         "mode": "lines",
         "name": "Inner Cruise 1",
         "type": "scatter",
         "uid": "59197d34-2b9b-4928-96f1-2a6e50aa694b",
         "x": {
          "dtype": "float64",
          "shape": [
           50
          ]
         },
         "y": {
          "dtype": "float64",
          "shape": [
           50
          ]
         }
        },
        {
         "hoverinfo": "none",
         "line": {
          "color": "rgb(44, 160, 44)",
          "dash": "solid",
          "width": 2
         },
         "mode": "lines",
         "name": "Back to Earth",
         "type": "scatter",
         "uid": "080a988c-1b73-4e7e-84c4-2f01afa7cbe8",
         "x": {
          "dtype": "float64",
          "shape": [
           50
          ]
         },
         "y": {
          "dtype": "float64",
          "shape": [
           50
          ]
         }
        },
        {
         "hoverinfo": "none",
         "line": {
          "color": "rgb(214, 39, 40)",
          "dash": "solid",
          "width": 2
         },
         "mode": "lines",
         "name": "Jupiter Orbit Insertion Phase",
         "type": "scatter",
         "uid": "d4f5be0f-a2d0-4fa4-9891-6ed7866b3bd1",
         "x": {
          "dtype": "float64",
          "shape": [
           50
          ]
         },
         "y": {
          "dtype": "float64",
          "shape": [
           50
          ]
         }
        },
        {
         "hoverinfo": "none",
         "line": {
          "color": "rgb(148, 103, 189)",
          "dash": "dash",
          "width": 2
         },
         "mode": "lines",
         "name": "2016-07-05 03:19 (Jupiter)",
         "type": "scatter",
         "uid": "f069beae-aacf-4b4e-b700-89dbd98bea44",
         "x": {
          "dtype": "float64",
          "shape": [
           100
          ]
         },
         "y": {
          "dtype": "float64",
          "shape": [
           100
          ]
         }
        },
        {
         "marker": {
          "color": "rgb(148, 103, 189)",
          "size": 10
         },
         "mode": "markers",
         "name": "2016-07-05 03:19 (Jupiter)",
         "type": "scatter",
         "uid": "a43752eb-9a19-4e80-a047-5ddafac98322",
         "x": {
          "dtype": "float64",
          "shape": [
           1
          ]
         },
         "y": {
          "dtype": "float64",
          "shape": [
           1
          ]
         }
        }
       ],
       "_js2py_relayout": {},
       "_js2py_restyle": {},
       "_js2py_update": {},
       "_last_layout_edit_id": 8,
       "_last_trace_edit_id": 8,
       "_layout": {
        "autosize": true,
        "shapes": [
         {
          "fillcolor": "#ffcc00",
          "line": {
           "color": "#ffcc00"
          },
          "opacity": 1,
          "type": "circle",
          "x0": -21895056.19935296,
          "x1": 21895056.19935296,
          "xref": "x",
          "y0": -21895056.19935296,
          "y1": 21895056.19935296,
          "yref": "y"
         }
        ],
        "template": {},
        "xaxis": {
         "constrain": "domain",
         "title": {
          "text": "x (km)"
         }
        },
        "yaxis": {
         "scaleanchor": "x",
         "title": {
          "text": "y (km)"
         }
        }
       },
       "_py2js_animate": {},
       "_py2js_deleteTraces": {},
       "_py2js_moveTraces": {},
       "_py2js_removeLayoutProps": {},
       "_py2js_removeTraceProps": {},
       "_py2js_restyle": {},
       "_view_count": 0
      }
     },
     "d108730f008f4279acda295d7e19747b": {
      "buffers": [
       {
        "data": "8HSogo9moUEg1g1CaF2hQQqkt+/7QaFBA/FY0GYUoUFMeLrg19SgQSQWS6WQg6BBr2SW5uQgoEH+N861dFqfQcd43HoQUp5B5i22pq0pnUGKzMW+feKbQb+HkQjSfZpBPpoQLhr9mEGZUKzC4mGXQcOBc6rTrZVBO9slZa7ik0Esbtk+TAKSQTUfGGicDpBBHcvX7kMTjEEQEdCs4+qHQetfpThhqINBsTCUYkGgfkGvDaQ+Oc11QesXTVyFwWlBOijvhoQgT0F0r0j3ZX5UwYYzMWfhQWzBI81Sq6wWd8EAWbD2kPd/wbi6wFE7XYTBeOpv1SqriMGTHDwgJ+GMwUACF35sfZDBrTp7LgN6ksF2NapdS2SUwU7F9qZLOpbBTHifjR/6l8HHHjpw+aGZwZehj2QkMJvBoaH9+QWjnMEcnY3gH/mdwVx5DXMRMZ/BXJlJkcwkoMGFffrgyqCgwV0L8NcDDKHB95gt7whmocEMRlJbfa6hweaKQGwW5aHBJaYb2psJosFtjEv/5xuiwWqMS//nG6LBHKYb2psJosHWikBsFuWhwfVFUlt9rqHB2pgt7whmocE7C/DXAwyhwV59+uDKoKDBL5lJkcwkoMH0eA1zETGfwa2cjeAf+Z3BJKH9+QWjnMESoY9kJDCbwTkeOnD5oZnBuHefjR/6l8GoxPamSzqWwdw0ql1LZJTB9jl7LgN6ksGLARd+bH2QwRcbPCAn4YzBD+lv1SqriMEvucBRO12EwfRVsPaQ93/BH8pSq6wWd8FcLTFn4UFswcqiSPdlflTBdUHvhoQgT0GSHU1chcFpQdMQpD45zXVB8TOUYkGgfkF0YaU4YaiDQYIS0Kzj6odBjczX7kMTjEHpHxhonA6QQdhu2T5MApJB6NslZa7ik0FignOq062VQSxRrMLiYZdBu5oQLhr9mEE8iJEI0n2aQf3Mxb594ptBVi62pq0pnUEoedx6EFKeQVU4zrV0Wp9B1GSW5uQgoEFDFkulkIOgQWR4uuDX1KBBF/FY0GYUoUEXpLfv+0GhQSfWDUJoXaFB8HSogo9moUE=",
        "encoding": "base64",
        "path": [
         "_data",
         0,
         "x",
         "value"
        ]
       },
       {
        "data": "AAAAAACuuT4APwYMpQRiQat21KNb+3FBVv/wg9vhekGvfCq2UtaBQXcYzZlUKYZBayFSTH5likG0vpw5coaOQTvQA233Q5FBUrTAiukyk0GUyJxCEQ6VQQlHvceE05ZBS3K6rHCBmEGrJnXFGRaaQUnB6+/ej5tB2HM3wjrtnEGjxvYbxSyeQZt/h5k0TZ9BT6HI868moEEBdcF6H5agQaJT4wJ29KBBDSpKTVJBoUF76jYfZXyhQV1xu5NxpaFBhO1/Wk28oUHGFmHj4MChQfU8unYns6FBOSVCOi+ToUHHsnUiGWGhQTZjn9AYHaFBC6OeXXTHoEEp16URhGCgQUAucxJk0Z9Bg86dj/PAnkG0ZvJwz5CdQfaQVjoxQpxBgQZB2nHWmkFDiClGCE+ZQX7ZBPiHrZdB2TlbTp/zlUGhGqbQFSOUQVJdvlnKPZJBryY/KrFFkEEZNLTJo3mMQYcbYe2KSohBOsOz22cChEGCAUYBSUt/QcahXBaAcXZBnXPOKikBa0FkiQvZ9wZSQVWWC9n3BlLB6HnOKikBa8H3pFwWgHF2wZYERgFJS3/BxcSz22cChMEFHWHtikqIwZQ1tMmjeYzBZCc/KrFFkMEDXr5Zyj2SwUcbptAVI5TBfTpbTp/zlcEV2gT4h62XwdiIKUYIT5nBBwdB2nHWmsF3kVY6MUKcwRxn8nDPkJ3B786dj/PAnsGeLnMSZNGfwVPXpRGEYKDBLaOeXXTHoMFTY5/QGB2hwd6ydSIZYaHBSiVCOi+TocH/PLp2J7OhwcgWYePgwKHBgO1/Wk28ocFVcbuTcaWhwWzqNh9lfKHB9SlKTVJBocGIU+MCdvSgweF0wXoflqDBJqHI868moME/f4eZNE2fwTzG9hvFLJ7BX3M3wjrtnMHLwOvv3o+bwSgmdcUZFprByHG6rHCBmMF5Rr3HhNOWwfvHnEIRDpXBp7PAiukyk8GQzwNt90ORwVW9nDlyho7B/h9STH5lisEAF82ZVCmGwTB7KrZS1oHBWvzwg9vhesGPc9SjW/txwfA4BgylBGLBAAAAAAD+tz4=",
        "encoding": "base64",
        "path": [
         "_data",
         0,
         "y",
         "value"
        ]
       },
       {
        "data": "ietIKgDTncE=",
        "encoding": "base64",
        "path": [
         "_data",
         1,
         "x",
         "value"
        ]
       },
       {
        "data": "L/AASgRalME=",
        "encoding": "base64",
        "path": [
         "_data",
         1,
         "y",
         "value"
        ]
       },
       {
        "data": "D/4BVfb0nMGyhaabg8SawXK+GFE1ZJjB3JQBX4vWlcGrswVmNR6TwSxoauoPPpDBGpwDo0JyisFuwhFmLSWEwVeoQQcCN3vBPWykeXhwa8Fg0i3kJeIBQeDGrHDWnGxBRgsTctG4fEE+tX5p5qmFQatu2gwACI1BvyDGxHo3kkEKUyq6fuuVQc3VoaAmnJlB8qnzupBFnUEzmwJ18XGgQc0hG12nOaJBGyE7sgr4o0GOQm7fRaulQWo3TwyPUadBaCOq/inpqEFgssvtaXCqQfdBkUWz5atBMJ9fV31HrUGb4jj3U5SuQebdPgPZyq9BriAD6uJ0sEFXgRtK9vewQbhECL8cbrFBV8/B/tnWsUHneNjavzGyQWWPXLRufrJB1Sx14JW8skEXDzz98+uyQf0shTZXDLNBSK5Jep0ds0FyIn+ctB+zQRpCNWqaErNBOh/mq1z2skEdVfYWGcuyQcZ4dC79kLJBCKo4E0ZIskGeopZDQPGxQW7o5UpHjLFBQck0YcUZsUHybYv7MpqwQQ==",
        "encoding": "base64",
        "path": [
         "_data",
         2,
         "x",
         "value"
        ]
       },
       {
        "data": "9iNonLCNlcFknSKBSEqYwQGLTVyp3prBKyALfRxIncH+pztbGISfwYWwYqEhyKDB1hFG5jq1ocGHez+RXoiiwZSyLIauQKPBj0N44Wjdo8HUGhDE6F2kwUSf1QCnwaTBJdzQqjoIpcHDI5GDWTGlwQUOR0nYPKXB0alF5KoqpcEWA7tz5PqkwaGbkjm3raTBxP+WZXRDpMGnFArAi7yjwbX3DTSLGaPBmCJaOh5bosFo4NkkDYKhweXU8Us8j6DBaoaUPFYHn8H4iTUo5sCcwYk4JA6NTZrBQDYj4N6vl8F0Rx4YnOqUwVDRFdOuAJLBr996gE/qjcG5lQ7PdZaHwUoIAZZ4DIHBXMUomnGmdMHF3NsZSY5bwcQYT5HLhFxBJugWqR5ZdUGUKdv9ndqBQXU7jd43E4lBrnXPJ2InkEHpJCTI08KTQTV/eGMlWJdBi1R+/pHjmkEtboQGX2GeQVM+0R7w5qBB4c3oy72SokFKeHCCVjKkQcADpREFxKVBFHUA7CJGp0HCKbzjGbeoQQ==",
        "encoding": "base64",
        "path": [
         "_data",
         2,
         "y",
         "value"
        ]
       },
       {
        "data": "7oTUjFTJsEEO1KRelUWwQZMN6sEyaq9By4Go1hMxrkFaLVD5POGsQQPLN8g3fKtBIg7rtKYDqkHpc7sZQ3moQaZOdzTb3qZBVVOlCFA2pUHEor8rk4GjQTQSA36kwqFBhHH8pB/3n0EE1j4S1VycQXZsIjuiuphBPBmEW8kUlUHNK/v1kG+RQXnfEaJ9notBBl1J6iVwhEGNkwrGCrl6QV5SZGudr2lBeBk6BnpkJsG8EY/C2q9rwZCtoE8mh3rBgITyW/hYg8GC4P72BCWJweiM6pntoI7B7PekaSLjkcE+cOxTgUeUwTD8C9LFepbBQAtbt1t6mMG8HAlq60OawV7336Fc1ZvBtYLP3NgsncEFkmKGzUiewTVNls/tJ5/BrDHrNDTJn8GVP3PY8RWgwZZpzkzEJ6DBlCUhlPwZoMGcSiGqVdmfwbiBvloIQJ/BOpRW58RonsE0Tkech1SdwQo5Wz2UBJzB2SRSinR6msGmZWNx9reYwTmq1vEpv5bBqfUtsV6SlMGtC7ZFITSSwQ==",
        "encoding": "base64",
        "path": [
         "_data",
         3,
         "x",
         "value"
        ]
       },
       {
        "data": "omq6xIU2qEFR5IctwYepQWl76CwzxKpBWJeQ32jqq0FqDNVxCfmsQUwX0rPX7q1BnTgtjbPKrkHkOL5Om4uvQVXKSXBWGLBBBSt4ZZNcsEGDY4aMNJKwQYUcSAr7uLBBQhN0bLnQsEEn/+feU9mwQY5eRkzA0rBBFvDHaQa9sEG2/jKuP5iwQQoXAzSXZLBBqiDkhkkisEH5Ini5SKOvQUfNLHUM5q5BR0a4C7wNrkHAVrQEVRutQR2nXHvzD6xBzIeS0dDsqkHBqpBAQrOpQbhL/Ui3ZKhBEIMvBLgCp0F9mKBY446lQRz1oxPtCqRBTaaf6pt4okGOGBxmx9mgQXBYN3KrYJ5BFMCDDnP8mkFl68s434qXQbUQfDD5D5RBiQe7IdWPkEFkpTK7Gh2KQTlIGRZ7IINBeqpqWfdjeEGnTL4k8WZlQftEzOTVA0bBwsNxOjzQb8FzwzGKBrR8wTLHokCaioTBzIary5J+isFmN3heeReQwd8zeJKHypLBMkdDD0pVlcHkcMAcxrSXwQ==",
        "encoding": "base64",
        "path": [
         "_data",
         3,
         "y",
         "value"
        ]
       },
       {
        "data": "0gubaeUFs0FoGtT7rJSzQeTdUHYgHLRBwk9Q3wKctEFBdxKlGhS1Qf7bwrcxhLVBzsHOoRXstUFBOZyel0u2QffKl6+MorZBk0OPr83wtkHM6VBkNza3QbUvh46qcrdBGrzJ9wumt0Etdt1+RNC3QXwQHiJB8bdBymIMCPMIuEHouP2FTxe4QVMU6SRQHLhB1jZQpPIXuEFNJ0P7OAq4QUi7fVcp87dBv4ufGs7St0FAlX/VNam3QUKenUFzdrdBJle0OJ06t0Fv/2+qzvW2QZsxTpAmqLZB0Eqs38dRtkGvtQp62fK1QYUtjBuGi7VBKdu4R/wbtUFY9I00bqS0QfZK47MRJbRBlfgwGyCes0HQDsAp1g+zQabqUe1zerJBQXpKpTzesUEdcGqkdjuxQeUEJzFrkrBBBg5byczGr0GWJUMRbl2uQRK8Sudc6axBFh14yUBrq0GWLy27xeOpQSswuPebU6hBW0X+one7pkH/pWN4EBylQYrRFXghdqNBPBjdkmjKoUECVZtUphmgQQ==",
        "encoding": "base64",
        "path": [
         "_data",
         4,
         "x",
         "value"
        ]
       },
       {
        "data": "1iFqMJmYi0FogUD4ZMeRQegEbtrW3ZVBqV6SK8sNmkHcTLlcX1WeQQ1xMB5TWaFBKj0/atSRo0ETrHSmM9OlQWR+4uhsHKhBoMHBvnhsqkErUgujTMKsQc9OcnbbHK9BVz5F/Iq9sEE6B/Kg9e2xQVXtcp8kH7NBUliXlY5QtEH5IKMGqoG1Qa35MpntsbZBc+wQVdDgt0HvGt3gyQ25QTz9br9SOLpBJH7TjORfu0HDgMw6+oO8QaCStkwQpL1BVtO5EqW/vkHlbSvkONa/QeCsgiync8BBW0MtQTX5wEEpBNeQinvBQQ8sim9s+sFBHCgDv6F1wkFbC2cI8+zCQb9pO5UqYMNB6lqUhxTPw0Eiwm3xfjnEQdhYJes5n8RBYF0LqRcAxUG9MACQ7FvFQV2bFUmPssVBK+Mq1NgDxkGiUXuZpE/GQRtDF3rQlcZBulRA3zzWxkH9xqHIzBDHQdGtXtllRcdBIQ7wY/Bzx0HDkM10V5zHQab+29uIvsdBS0edNHXax0HUYR7tD/DHQQ==",
        "encoding": "base64",
        "path": [
         "_data",
         4,
         "y",
         "value"
        ]
       },
       {
        "data": "8zXn/CYxj0HY2O+snT6bQV1tgy3cY6NB2y2FtP8TqUExh4dm3KmuQWFpXyrYD7JBLQXzSu23tEH5qsiJcEq3QSG1vRe7xLlBKPB9HT8kvEG09oFdima+QW/8zFykRMBBfb+1TCNFwUGmXLSXuTPCQbs+9UxxD8NBN4Ud72fXw0HMc8Ndz4rEQflE6anuKMVBJFif1CKxxUH7OAl33yLGQW1NGFOvfcZBXvlmzDTBxkGMo7dIKu3GQS0jtHdiAcdBtqCjgcj9xkFVw+YcYOLGQYoFJIpFr8ZBiiIod61kxkH+oZjI5ALGQdt7sEpQisVBTYlYSWz7xEHT3QYQzFbEQXQc6VEZncNBpEz2ehPPwkExgZzqju3BQY641Rh0+cBBNUILTX3nv0FBjC60+Lq9QXYNzBKYb7tBzv8g5LgHuUEGZ8wC1oW2Qds6YxqF7LNBNARg/XM+sUG0BlrEy/ysQe0/QxRhXqdBETnFqnKnoUHp86AaybuXQR488c+3HohBADA1npFpNUGFMHMfg8qGwYQV1SREFZfBlagknypXocE7tQQkQBKnwdx/ulP6tazBFv5KekQescGRxk/vHNCzwT6rWG2/bbbBNBNCrnn0uMGkXeQIsWG7wd43SSDlsr3B0kLFd7Llv8GyyqZ06vvAwf+sv/2U88HBdId4itnYwsHiXkTFy6rDwXhMXEOTaMTBpt/VY2wRxcHqm0sZqaTFwYWzR52xIcbBMQy4DAWIxsGNR8rsOdfGwQ3bppf+DsfBHiKbkBkvx8GjqFu/aTfHwaKXIZLmJ8fB0RmABqAAx8GonOiYvsHGwQ3s7hqDa8bBYy14cEb+xcHDmhk0eXrFwSJyBUOj4MTBcr/9MGMxxMFmYN2kbW3DwfLBX56MlcLBok3npZ6qwcFaKxnnla3AwTmadW7uPr/B9DOlELICvcHXv0GUxKi6wV7aMXSSM7jBkm0nR6SltcFjaAsjnAGzwYISIeYySrDBLoNa0WoEq8HH2ws0A1mlwS90DzAOMJ/BzAuJv8mOk8G603N62Gh/wd4VhBjeDG9BzDTn/CYxj0E=",
        "encoding": "base64",
        "path": [
         "_data",
         5,
         "x",
         "value"
        ]
       },
       {
        "data": "0XYPwCPjxcHbPvjT+bXFwTCZXc08ccXBUqukhzMVxcE/qkXiPKLEwbPN/17PGMTB1YGwp3h5w8G1w0v83MTCwZYwjIm2+8HB708JqdQewcH063kLGy/Awe2Z/ZsBW77BaJHP9h42vMH1dPP0w/G5wcgbn9RGkLfBdPAF3BsUtcErcbXR0n+ywRauMLEorK/By26yZD4zqsH0t+/VipqkwZRD8MGlz53B45gUZ+xBksHTvGz4SV96wU0q3VaHinRB1girlVnhkEHsbPhdOZicQWyFWfCWHaRBL4QvLBzfqUEDBK5yvYqvQWupWTJRjbJBdx8lnYdEtUG1q9dVNei3QQvhYtuhdbpBqVOEnSvqvEEzgRizSkO/QU8Y/rpJv8BBs+nlgNzMwUFNPHfJR8nCQWJIvWGHs8NB4vrS0amKxEEhH8xV0U3FQcYYT8I0/MVB54jzUyCVxkFKG5Bo9hfHQcR3uCEwhMdB7tfD713Zx0FC8cwEKBfIQceoNK9OPchBD0NKm6pLyEF3YtX7LELIQbYJWJnfIMhBhOj4x+Tnx0FYVyBEd5fHQa587PXpL8dBVwW7m6exxkF7iCBcMh3GQfQDvz8jc8VBX72Fkym0xEFyJP0zCuHDQb78WMKe+sJBsv0hxNQBwkGCKV6urPfAQXp8aLpxur9BJ4g18jhnvUHIgGyVFPi6QRLhN/2Gb7hBvA9+tCzQtUFRcrvGuRyzQZp3ovb2V7BBKvLBvn0Jq0F7owAH9kulQfcBojGD+p5B6w569rlGk0H87yvugSJ+QTGpJfq5znDB1uCHHzTEj8GPoyOhl3abwYO/H6ubcqPBLlGpLRgRqcGF74WF9pCuweC/5rdF9rHB1h+riCiPtMHq3RFUdhC3wXtGNAiad7nBySO1ixnCu8HPXGVLmO29wZxyeanZ97/BT7fmpWHvwMGrZ2ujL9DBwVwyhBFvncLBhmNJXUxWw8Egd8r2CPrDwSyjfRX8h8TB0yM8ZpP/xMGR7xeiU2DFwQZYbw3ZqcXB4Ji73tfbxcFUW7CMHPbFwR6mWwOM+MXB03YPwCPjxcE=",
        "encoding": "base64",
        "path": [
         "_data",
         5,
         "y",
         "value"
        ]
       },
       {
        "data": "tB0MCD3XokE=",
        "encoding": "base64",
        "path": [
         "_data",
         6,
         "x",
         "value"
        ]
       },
       {
        "data": "Eqfqa6/Jx0E=",
        "encoding": "base64",
        "path": [
         "_data",
         6,
         "y",
         "value"
        ]
       }
      ],
      "model_module": "plotlywidget",
      "model_module_version": "^0.7.1",
      "model_name": "FigureModel",
      "state": {
       "_config": {
        "plotlyServerURL": "https://plot.ly"
       },
       "_data": [
        {
         "hoverinfo": "none",
         "line": {
          "color": "rgb(31, 119, 180)",
          "dash": "dash",
          "width": 2
         },
         "mode": "lines",
         "name": "2011-08-05 16:26 (Earth)",
         "type": "scatter",
         "uid": "f658b20f-3f4c-4e49-ad27-29aef10eff40",
         "x": {
          "dtype": "float64",
          "shape": [
           100
          ]
         },
         "y": {
          "dtype": "float64",
          "shape": [
           100
          ]
         }
        },
        {
         "marker": {
          "color": "rgb(31, 119, 180)",
          "size": 10
         },
         "mode": "markers",
         "name": "2011-08-05 16:26 (Earth)",
         "type": "scatter",
         "uid": "2d2e611d-5f41-433f-94ed-10de8f816255",
         "x": {
          "dtype": "float64",
          "shape": [
           1
          ]
         },
         "y": {
          "dtype": "float64",
          "shape": [
           1
          ]
         }
        },
        {
         "hoverinfo": "none",
         "line": {
          "color": "rgb(255, 127, 14)",
          "dash": "solid",
          "width": 2
         },
         "mode": "lines",
         "name": "Inner Cruise 1",
         "type": "scatter",
         "uid": "2814aae8-0a5a-4032-b182-a19037d40410",
         "x": {
          "dtype": "float64",
          "shape": [
           50
          ]
         },
         "y": {
          "dtype": "float64",
          "shape": [
           50
          ]
         }
        },
        {
         "hoverinfo": "none",
         "line": {
          "color": "rgb(44, 160, 44)",
          "dash": "solid",
          "width": 2
         },
         "mode": "lines",
         "name": "Back to Earth",
         "type": "scatter",
         "uid": "583d8d87-2c1f-4891-b90b-090d21e27dc5",
         "x": {
          "dtype": "float64",
          "shape": [
           50
          ]
         },
         "y": {
          "dtype": "float64",
          "shape": [
           50
          ]
         }
        },
        {
         "hoverinfo": "none",
         "line": {
          "color": "rgb(214, 39, 40)",
          "dash": "solid",
          "width": 2
         },
         "mode": "lines",
         "name": "Jupiter Orbit Insertion Phase",
         "type": "scatter",
         "uid": "37344513-c9f0-45d6-9e39-71a224673ae0",
         "x": {
          "dtype": "float64",
          "shape": [
           50
          ]
         },
         "y": {
          "dtype": "float64",
          "shape": [
           50
          ]
         }
        },
        {
         "hoverinfo": "none",
         "line": {
          "color": "rgb(148, 103, 189)",
          "dash": "dash",
          "width": 2
         },
         "mode": "lines",
         "name": "2016-07-05 03:19 (Jupiter)",
         "type": "scatter",
         "uid": "d96cad6f-3c09-4522-a6ce-37710dda339d",
         "x": {
          "dtype": "float64",
          "shape": [
           100
          ]
         },
         "y": {
          "dtype": "float64",
          "shape": [
           100
          ]
         }
        },
        {
         "marker": {
          "color": "rgb(148, 103, 189)",
          "size": 10
         },
         "mode": "markers",
         "name": "2016-07-05 03:19 (Jupiter)",
         "type": "scatter",
         "uid": "a3ad3867-9337-4a76-a8bc-fdfcab9d86f4",
         "x": {
          "dtype": "float64",
          "shape": [
           1
          ]
         },
         "y": {
          "dtype": "float64",
          "shape": [
           1
          ]
         }
        }
       ],
       "_js2py_pointsCallback": {},
       "_js2py_relayout": {},
       "_js2py_restyle": {},
       "_js2py_update": {},
       "_last_layout_edit_id": 8,
       "_last_trace_edit_id": 8,
       "_layout": {
        "autosize": true,
        "shapes": [
         {
          "fillcolor": "#ffcc00",
          "line": {
           "color": "#ffcc00"
          },
          "opacity": 1,
          "type": "circle",
          "x0": -21895056.19935296,
          "x1": 21895056.19935296,
          "xref": "x",
          "y0": -21895056.19935296,
          "y1": 21895056.19935296,
          "yref": "y"
         }
        ],
        "template": {},
        "xaxis": {
         "constrain": "domain",
         "title": {
          "text": "x (km)"
         }
        },
        "yaxis": {
         "scaleanchor": "x",
         "title": {
          "text": "y (km)"
         }
        }
       },
       "_py2js_animate": {},
       "_py2js_deleteTraces": {},
       "_py2js_moveTraces": {},
       "_py2js_removeLayoutProps": {},
       "_py2js_removeTraceProps": {},
       "_py2js_restyle": {},
       "_view_count": 0
      }
     },
     "e36c9f1ddd5e4d528d73804d81b385ec": {
      "buffers": [
       {
        "data": "8HSogo9moUEg1g1CaF2hQQqkt+/7QaFBA/FY0GYUoUFMeLrg19SgQSQWS6WQg6BBr2SW5uQgoEH+N861dFqfQcd43HoQUp5B5i22pq0pnUGKzMW+feKbQb+HkQjSfZpBPpoQLhr9mEGZUKzC4mGXQcOBc6rTrZVBO9slZa7ik0Esbtk+TAKSQTUfGGicDpBBHcvX7kMTjEEQEdCs4+qHQetfpThhqINBsTCUYkGgfkGvDaQ+Oc11QesXTVyFwWlBOijvhoQgT0F0r0j3ZX5UwYYzMWfhQWzBI81Sq6wWd8EAWbD2kPd/wbi6wFE7XYTBeOpv1SqriMGTHDwgJ+GMwUACF35sfZDBrTp7LgN6ksF2NapdS2SUwU7F9qZLOpbBTHifjR/6l8HHHjpw+aGZwZehj2QkMJvBoaH9+QWjnMEcnY3gH/mdwVx5DXMRMZ/BXJlJkcwkoMGFffrgyqCgwV0L8NcDDKHB95gt7whmocEMRlJbfa6hweaKQGwW5aHBJaYb2psJosFtjEv/5xuiwWqMS//nG6LBHKYb2psJosHWikBsFuWhwfVFUlt9rqHB2pgt7whmocE7C/DXAwyhwV59+uDKoKDBL5lJkcwkoMH0eA1zETGfwa2cjeAf+Z3BJKH9+QWjnMESoY9kJDCbwTkeOnD5oZnBuHefjR/6l8GoxPamSzqWwdw0ql1LZJTB9jl7LgN6ksGLARd+bH2QwRcbPCAn4YzBD+lv1SqriMEvucBRO12EwfRVsPaQ93/BH8pSq6wWd8FcLTFn4UFswcqiSPdlflTBdUHvhoQgT0GSHU1chcFpQdMQpD45zXVB8TOUYkGgfkF0YaU4YaiDQYIS0Kzj6odBjczX7kMTjEHpHxhonA6QQdhu2T5MApJB6NslZa7ik0FignOq062VQSxRrMLiYZdBu5oQLhr9mEE8iJEI0n2aQf3Mxb594ptBVi62pq0pnUEoedx6EFKeQVU4zrV0Wp9B1GSW5uQgoEFDFkulkIOgQWR4uuDX1KBBF/FY0GYUoUEXpLfv+0GhQSfWDUJoXaFB8HSogo9moUE=",
        "encoding": "base64",
        "path": [
         "_data",
         0,
         "x",
         "value"
        ]
       },
       {
        "data": "AAAAAACuuT4APwYMpQRiQat21KNb+3FBVv/wg9vhekGvfCq2UtaBQXcYzZlUKYZBayFSTH5likG0vpw5coaOQTvQA233Q5FBUrTAiukyk0GUyJxCEQ6VQQlHvceE05ZBS3K6rHCBmEGrJnXFGRaaQUnB6+/ej5tB2HM3wjrtnEGjxvYbxSyeQZt/h5k0TZ9BT6HI868moEEBdcF6H5agQaJT4wJ29KBBDSpKTVJBoUF76jYfZXyhQV1xu5NxpaFBhO1/Wk28oUHGFmHj4MChQfU8unYns6FBOSVCOi+ToUHHsnUiGWGhQTZjn9AYHaFBC6OeXXTHoEEp16URhGCgQUAucxJk0Z9Bg86dj/PAnkG0ZvJwz5CdQfaQVjoxQpxBgQZB2nHWmkFDiClGCE+ZQX7ZBPiHrZdB2TlbTp/zlUGhGqbQFSOUQVJdvlnKPZJBryY/KrFFkEEZNLTJo3mMQYcbYe2KSohBOsOz22cChEGCAUYBSUt/QcahXBaAcXZBnXPOKikBa0FkiQvZ9wZSQVWWC9n3BlLB6HnOKikBa8H3pFwWgHF2wZYERgFJS3/BxcSz22cChMEFHWHtikqIwZQ1tMmjeYzBZCc/KrFFkMEDXr5Zyj2SwUcbptAVI5TBfTpbTp/zlcEV2gT4h62XwdiIKUYIT5nBBwdB2nHWmsF3kVY6MUKcwRxn8nDPkJ3B786dj/PAnsGeLnMSZNGfwVPXpRGEYKDBLaOeXXTHoMFTY5/QGB2hwd6ydSIZYaHBSiVCOi+TocH/PLp2J7OhwcgWYePgwKHBgO1/Wk28ocFVcbuTcaWhwWzqNh9lfKHB9SlKTVJBocGIU+MCdvSgweF0wXoflqDBJqHI868moME/f4eZNE2fwTzG9hvFLJ7BX3M3wjrtnMHLwOvv3o+bwSgmdcUZFprByHG6rHCBmMF5Rr3HhNOWwfvHnEIRDpXBp7PAiukyk8GQzwNt90ORwVW9nDlyho7B/h9STH5lisEAF82ZVCmGwTB7KrZS1oHBWvzwg9vhesGPc9SjW/txwfA4BgylBGLBAAAAAAD+tz4=",
        "encoding": "base64",
        "path": [
         "_data",
         0,
         "y",
         "value"
        ]
       },
       {
        "data": "ietIKgDTncE=",
        "encoding": "base64",
        "path": [
         "_data",
         1,
         "x",
         "value"
        ]
       },
       {
        "data": "L/AASgRalME=",
        "encoding": "base64",
        "path": [
         "_data",
         1,
         "y",
         "value"
        ]
       },
       {
        "data": "D/4BVfb0nMGyhaabg8SawXK+GFE1ZJjB3JQBX4vWlcGrswVmNR6TwSxoauoPPpDBGpwDo0JyisFuwhFmLSWEwVeoQQcCN3vBPWykeXhwa8Fg0i3kJeIBQeDGrHDWnGxBRgsTctG4fEE+tX5p5qmFQatu2gwACI1BvyDGxHo3kkEKUyq6fuuVQc3VoaAmnJlB8qnzupBFnUEzmwJ18XGgQc0hG12nOaJBGyE7sgr4o0GOQm7fRaulQWo3TwyPUadBaCOq/inpqEFgssvtaXCqQfdBkUWz5atBMJ9fV31HrUGb4jj3U5SuQebdPgPZyq9BriAD6uJ0sEFXgRtK9vewQbhECL8cbrFBV8/B/tnWsUHneNjavzGyQWWPXLRufrJB1Sx14JW8skEXDzz98+uyQf0shTZXDLNBSK5Jep0ds0FyIn+ctB+zQRpCNWqaErNBOh/mq1z2skEdVfYWGcuyQcZ4dC79kLJBCKo4E0ZIskGeopZDQPGxQW7o5UpHjLFBQck0YcUZsUHybYv7MpqwQQ==",
        "encoding": "base64",
        "path": [
         "_data",
         2,
         "x",
         "value"
        ]
       },
       {
        "data": "9iNonLCNlcFknSKBSEqYwQGLTVyp3prBKyALfRxIncH+pztbGISfwYWwYqEhyKDB1hFG5jq1ocGHez+RXoiiwZSyLIauQKPBj0N44Wjdo8HUGhDE6F2kwUSf1QCnwaTBJdzQqjoIpcHDI5GDWTGlwQUOR0nYPKXB0alF5KoqpcEWA7tz5PqkwaGbkjm3raTBxP+WZXRDpMGnFArAi7yjwbX3DTSLGaPBmCJaOh5bosFo4NkkDYKhweXU8Us8j6DBaoaUPFYHn8H4iTUo5sCcwYk4JA6NTZrBQDYj4N6vl8F0Rx4YnOqUwVDRFdOuAJLBr996gE/qjcG5lQ7PdZaHwUoIAZZ4DIHBXMUomnGmdMHF3NsZSY5bwcQYT5HLhFxBJugWqR5ZdUGUKdv9ndqBQXU7jd43E4lBrnXPJ2InkEHpJCTI08KTQTV/eGMlWJdBi1R+/pHjmkEtboQGX2GeQVM+0R7w5qBB4c3oy72SokFKeHCCVjKkQcADpREFxKVBFHUA7CJGp0HCKbzjGbeoQQ==",
        "encoding": "base64",
        "path": [
         "_data",
         2,
         "y",
         "value"
        ]
       },
       {
        "data": "iZng0t27sEEcmveNJLywQVuv6ERrvLBBab+z97G8sEFcsFim+LywQVxo11A/vbBBhs0v94W9sEH+xWGZzL2wQeU3bTcTvrBBaAlS0Vm+sEGmIBBnoL6wQc9jp/jmvrBBCbkXhi2/sEGBBmEPdL+wQWYyg5S6v7BB4iJ+FQHAsEEqvlGSR8CwQXLq/QqOwLBB6I2Cf9TAsEHEjt/vGsGwQT/TFFxhwbBBi0EixKfBsEHnvwco7sGwQYo0xYc0wrBBsoVa43rCsEGfmcc6wcKwQY5WDI4Hw7BBw6Io3U3DsEGBZBwolMOwQQeC527aw7BBouGJsSDEsEGVaQPwZsSwQSYAVCqtxLBBpIt7YPPEsEFd8nmSOcWwQZkaT8B/xbBBqOr66cXFsEHdSH0PDMawQYkb1jBSxrBB/EgFTpjGsEGQtwpn3sawQZlN5nskx7BBb/GXjGrHsEFviR+ZsMewQe37fKH2x7BBSy+wpTzIsEHnCbmlgsiwQR9yl6HIyLBBV05LmQ7JsEHuhNSMVMmwQQ==",
        "encoding": "base64",
        "path": [
         "_data",
         3,
         "x",
         "value"
        ]
       },
       {
        "data": "ZbHhnolbqEHNznrNyFqoQWT1A/YHWqhBt2t9GEdZqEF5eOc0hlioQTRiQkvFV6hBiW+OWwRXqEEd58tlQ1aoQZkP+2mCVahBlC8caMFUqEHOjS9gAFSoQdlwNVI/U6hBcB8uPn5SqEFC4BkkvVGoQf75+AP8UKhBUrPL3TpQqEECU5KxeU+oQbsfTX+4TqhBK2D8RvdNqEEkW6AINk2oQV9XOcR0TKhBlpvHebNLqEGUbksp8kqoQR4XxdIwSqhB8Ns0dm9JqEHaA5sTrkioQa7V96rsR6hBNphLPCtHqEFAkpbHaUaoQaAK2UyoRahBJEgTzOZEqEGxkUVFJUSoQRgucLhjQ6hBO2STJaJCqEHfeq+M4EGoQQK5xO0eQahBcmXTSF1AqEEmx9udmz+oQe0k3uzZPqhBwsXaNRg+qEGJ8NF4Vj2oQSzsw7WUPKhBov+w7NI7qEHVcZkdETuoQb6JfUhPOqhBT45dbY05qEF8xjmMyzioQUl5EqUJOKhBq+3nt0c3qEGiarrEhTaoQQ==",
        "encoding": "base64",
        "path": [
         "_data",
         3,
         "y",
         "value"
        ]
       },
       {
        "data": "0gubaeUFs0FoGtT7rJSzQeTdUHYgHLRBwk9Q3wKctEFBdxKlGhS1Qf7bwrcxhLVBzsHOoRXstUFBOZyel0u2QffKl6+MorZBk0OPr83wtkHM6VBkNza3QbUvh46qcrdBGrzJ9wumt0Etdt1+RNC3QXwQHiJB8bdBymIMCPMIuEHouP2FTxe4QVMU6SRQHLhB1jZQpPIXuEFNJ0P7OAq4QUi7fVcp87dBv4ufGs7St0FAlX/VNam3QUKenUFzdrdBJle0OJ06t0Fv/2+qzvW2QZsxTpAmqLZB0Eqs38dRtkGvtQp62fK1QYUtjBuGi7VBKdu4R/wbtUFY9I00bqS0QfZK47MRJbRBlfgwGyCes0HQDsAp1g+zQabqUe1zerJBQXpKpTzesUEdcGqkdjuxQeUEJzFrkrBBBg5byczGr0GWJUMRbl2uQRK8Sudc6axBFh14yUBrq0GWLy27xeOpQSswuPebU6hBW0X+one7pkH/pWN4EBylQYrRFXghdqNBPBjdkmjKoUECVZtUphmgQQ==",
        "encoding": "base64",
        "path": [
         "_data",
         4,
         "x",
         "value"
        ]
       },
       {
        "data": "1iFqMJmYi0FogUD4ZMeRQegEbtrW3ZVBqV6SK8sNmkHcTLlcX1WeQQ1xMB5TWaFBKj0/atSRo0ETrHSmM9OlQWR+4uhsHKhBoMHBvnhsqkErUgujTMKsQc9OcnbbHK9BVz5F/Iq9sEE6B/Kg9e2xQVXtcp8kH7NBUliXlY5QtEH5IKMGqoG1Qa35MpntsbZBc+wQVdDgt0HvGt3gyQ25QTz9br9SOLpBJH7TjORfu0HDgMw6+oO8QaCStkwQpL1BVtO5EqW/vkHlbSvkONa/QeCsgiync8BBW0MtQTX5wEEpBNeQinvBQQ8sim9s+sFBHCgDv6F1wkFbC2cI8+zCQb9pO5UqYMNB6lqUhxTPw0Eiwm3xfjnEQdhYJes5n8RBYF0LqRcAxUG9MACQ7FvFQV2bFUmPssVBK+Mq1NgDxkGiUXuZpE/GQRtDF3rQlcZBulRA3zzWxkH9xqHIzBDHQdGtXtllRcdBIQ7wY/Bzx0HDkM10V5zHQab+29uIvsdBS0edNHXax0HUYR7tD/DHQQ==",
        "encoding": "base64",
        "path": [
         "_data",
         4,
         "y",
         "value"
        ]
       },
       {
        "data": "8zXn/CYxj0HY2O+snT6bQV1tgy3cY6NB2y2FtP8TqUExh4dm3KmuQWFpXyrYD7JBLQXzSu23tEH5qsiJcEq3QSG1vRe7xLlBKPB9HT8kvEG09oFdima+QW/8zFykRMBBfb+1TCNFwUGmXLSXuTPCQbs+9UxxD8NBN4Ud72fXw0HMc8Ndz4rEQflE6anuKMVBJFif1CKxxUH7OAl33yLGQW1NGFOvfcZBXvlmzDTBxkGMo7dIKu3GQS0jtHdiAcdBtqCjgcj9xkFVw+YcYOLGQYoFJIpFr8ZBiiIod61kxkH+oZjI5ALGQdt7sEpQisVBTYlYSWz7xEHT3QYQzFbEQXQc6VEZncNBpEz2ehPPwkExgZzqju3BQY641Rh0+cBBNUILTX3nv0FBjC60+Lq9QXYNzBKYb7tBzv8g5LgHuUEGZ8wC1oW2Qds6YxqF7LNBNARg/XM+sUG0BlrEy/ysQe0/QxRhXqdBETnFqnKnoUHp86AaybuXQR488c+3HohBADA1npFpNUGFMHMfg8qGwYQV1SREFZfBlagknypXocE7tQQkQBKnwdx/ulP6tazBFv5KekQescGRxk/vHNCzwT6rWG2/bbbBNBNCrnn0uMGkXeQIsWG7wd43SSDlsr3B0kLFd7Llv8GyyqZ06vvAwf+sv/2U88HBdId4itnYwsHiXkTFy6rDwXhMXEOTaMTBpt/VY2wRxcHqm0sZqaTFwYWzR52xIcbBMQy4DAWIxsGNR8rsOdfGwQ3bppf+DsfBHiKbkBkvx8GjqFu/aTfHwaKXIZLmJ8fB0RmABqAAx8GonOiYvsHGwQ3s7hqDa8bBYy14cEb+xcHDmhk0eXrFwSJyBUOj4MTBcr/9MGMxxMFmYN2kbW3DwfLBX56MlcLBok3npZ6qwcFaKxnnla3AwTmadW7uPr/B9DOlELICvcHXv0GUxKi6wV7aMXSSM7jBkm0nR6SltcFjaAsjnAGzwYISIeYySrDBLoNa0WoEq8HH2ws0A1mlwS90DzAOMJ/BzAuJv8mOk8G603N62Gh/wd4VhBjeDG9BzDTn/CYxj0E=",
        "encoding": "base64",
        "path": [
         "_data",
         5,
         "x",
         "value"
        ]
       },
       {
        "data": "0XYPwCPjxcHbPvjT+bXFwTCZXc08ccXBUqukhzMVxcE/qkXiPKLEwbPN/17PGMTB1YGwp3h5w8G1w0v83MTCwZYwjIm2+8HB708JqdQewcH063kLGy/Awe2Z/ZsBW77BaJHP9h42vMH1dPP0w/G5wcgbn9RGkLfBdPAF3BsUtcErcbXR0n+ywRauMLEorK/By26yZD4zqsH0t+/VipqkwZRD8MGlz53B45gUZ+xBksHTvGz4SV96wU0q3VaHinRB1girlVnhkEHsbPhdOZicQWyFWfCWHaRBL4QvLBzfqUEDBK5yvYqvQWupWTJRjbJBdx8lnYdEtUG1q9dVNei3QQvhYtuhdbpBqVOEnSvqvEEzgRizSkO/QU8Y/rpJv8BBs+nlgNzMwUFNPHfJR8nCQWJIvWGHs8NB4vrS0amKxEEhH8xV0U3FQcYYT8I0/MVB54jzUyCVxkFKG5Bo9hfHQcR3uCEwhMdB7tfD713Zx0FC8cwEKBfIQceoNK9OPchBD0NKm6pLyEF3YtX7LELIQbYJWJnfIMhBhOj4x+Tnx0FYVyBEd5fHQa587PXpL8dBVwW7m6exxkF7iCBcMh3GQfQDvz8jc8VBX72Fkym0xEFyJP0zCuHDQb78WMKe+sJBsv0hxNQBwkGCKV6urPfAQXp8aLpxur9BJ4g18jhnvUHIgGyVFPi6QRLhN/2Gb7hBvA9+tCzQtUFRcrvGuRyzQZp3ovb2V7BBKvLBvn0Jq0F7owAH9kulQfcBojGD+p5B6w569rlGk0H87yvugSJ+QTGpJfq5znDB1uCHHzTEj8GPoyOhl3abwYO/H6ubcqPBLlGpLRgRqcGF74WF9pCuweC/5rdF9rHB1h+riCiPtMHq3RFUdhC3wXtGNAiad7nBySO1ixnCu8HPXGVLmO29wZxyeanZ97/BT7fmpWHvwMGrZ2ujL9DBwVwyhBFvncLBhmNJXUxWw8Egd8r2CPrDwSyjfRX8h8TB0yM8ZpP/xMGR7xeiU2DFwQZYbw3ZqcXB4Ji73tfbxcFUW7CMHPbFwR6mWwOM+MXB03YPwCPjxcE=",
        "encoding": "base64",
        "path": [
         "_data",
         5,
         "y",
         "value"
        ]
       },
       {
        "data": "tB0MCD3XokE=",
        "encoding": "base64",
        "path": [
         "_data",
         6,
         "x",
         "value"
        ]
       },
       {
        "data": "Eqfqa6/Jx0E=",
        "encoding": "base64",
        "path": [
         "_data",
         6,
         "y",
         "value"
        ]
       }
      ],
      "model_module": "plotlywidget",
      "model_module_version": "^0.7.1",
      "model_name": "FigureModel",
      "state": {
       "_config": {
        "plotlyServerURL": "https://plot.ly"
       },
       "_data": [
        {
         "hoverinfo": "none",
         "line": {
          "color": "rgb(31, 119, 180)",
          "dash": "dash",
          "width": 2
         },
         "mode": "lines",
         "name": "2011-08-05 16:26 (Earth)",
         "type": "scatter",
         "uid": "bd807344-1a29-4308-97ff-ee8dc24fa827",
         "x": {
          "dtype": "float64",
          "shape": [
           100
          ]
         },
         "y": {
          "dtype": "float64",
          "shape": [
           100
          ]
         }
        },
        {
         "marker": {
          "color": "rgb(31, 119, 180)",
          "size": 10
         },
         "mode": "markers",
         "name": "2011-08-05 16:26 (Earth)",
         "type": "scatter",
         "uid": "779aef26-7fb6-4f55-bb4f-66ba9816f724",
         "x": {
          "dtype": "float64",
          "shape": [
           1
          ]
         },
         "y": {
          "dtype": "float64",
          "shape": [
           1
          ]
         }
        },
        {
         "hoverinfo": "none",
         "line": {
          "color": "rgb(255, 127, 14)",
          "dash": "solid",
          "width": 2
         },
         "mode": "lines",
         "name": "Inner Cruise 1",
         "type": "scatter",
         "uid": "7280e83a-a216-48d2-9e8e-3165d5fa1e32",
         "x": {
          "dtype": "float64",
          "shape": [
           50
          ]
         },
         "y": {
          "dtype": "float64",
          "shape": [
           50
          ]
         }
        },
        {
         "hoverinfo": "none",
         "line": {
          "color": "rgb(44, 160, 44)",
          "dash": "solid",
          "width": 2
         },
         "mode": "lines",
         "name": "Back to Earth",
         "type": "scatter",
         "uid": "9069b806-0af5-4428-a185-a9b81302885b",
         "x": {
          "dtype": "float64",
          "shape": [
           50
          ]
         },
         "y": {
          "dtype": "float64",
          "shape": [
           50
          ]
         }
        },
        {
         "hoverinfo": "none",
         "line": {
          "color": "rgb(214, 39, 40)",
          "dash": "solid",
          "width": 2
         },
         "mode": "lines",
         "name": "Jupiter Orbit Insertion Phase",
         "type": "scatter",
         "uid": "2e0a1452-0066-44da-afea-52b96b62a8d9",
         "x": {
          "dtype": "float64",
          "shape": [
           50
          ]
         },
         "y": {
          "dtype": "float64",
          "shape": [
           50
          ]
         }
        },
        {
         "hoverinfo": "none",
         "line": {
          "color": "rgb(148, 103, 189)",
          "dash": "dash",
          "width": 2
         },
         "mode": "lines",
         "name": "2016-07-05 03:19 (Jupiter)",
         "type": "scatter",
         "uid": "72a65b50-d565-49d2-9996-9c81297e73b5",
         "x": {
          "dtype": "float64",
          "shape": [
           100
          ]
         },
         "y": {
          "dtype": "float64",
          "shape": [
           100
          ]
         }
        },
        {
         "marker": {
          "color": "rgb(148, 103, 189)",
          "size": 10
         },
         "mode": "markers",
         "name": "2016-07-05 03:19 (Jupiter)",
         "type": "scatter",
         "uid": "ed36cd48-7b5e-490e-8e15-6d9514cb8f4d",
         "x": {
          "dtype": "float64",
          "shape": [
           1
          ]
         },
         "y": {
          "dtype": "float64",
          "shape": [
           1
          ]
         }
        }
       ],
       "_js2py_restyle": {},
       "_js2py_update": {},
       "_last_layout_edit_id": 9,
       "_last_trace_edit_id": 8,
       "_layout": {
        "autosize": true,
        "shapes": [
         {
          "fillcolor": "#ffcc00",
          "line": {
           "color": "#ffcc00"
          },
          "opacity": 1,
          "type": "circle",
          "x0": -21895056.19935296,
          "x1": 21895056.19935296,
          "xref": "x",
          "y0": -21895056.19935296,
          "y1": 21895056.19935296,
          "yref": "y"
         }
        ],
        "template": {},
        "xaxis": {
         "constrain": "domain",
         "range": [
          -321797498.6201143,
          475901188.3558327
         ],
         "title": {
          "text": "x (km)"
         }
        },
        "yaxis": {
         "range": [
          -454149951.04318386,
          446464768.2545806
         ],
         "scaleanchor": "x",
         "title": {
          "text": "y (km)"
         }
        }
       },
       "_py2js_animate": {},
       "_py2js_deleteTraces": {},
       "_py2js_moveTraces": {},
       "_py2js_removeLayoutProps": {},
       "_py2js_removeTraceProps": {},
       "_py2js_restyle": {},
       "_view_count": 0
      }
     },
     "f043f351962f4e72a68c9a3ddd785b5e": {
      "buffers": [
       {
        "data": "8HSogo9moUEg1g1CaF2hQQqkt+/7QaFBA/FY0GYUoUFMeLrg19SgQSQWS6WQg6BBr2SW5uQgoEH+N861dFqfQcd43HoQUp5B5i22pq0pnUGKzMW+feKbQb+HkQjSfZpBPpoQLhr9mEGZUKzC4mGXQcOBc6rTrZVBO9slZa7ik0Esbtk+TAKSQTUfGGicDpBBHcvX7kMTjEEQEdCs4+qHQetfpThhqINBsTCUYkGgfkGvDaQ+Oc11QesXTVyFwWlBOijvhoQgT0F0r0j3ZX5UwYYzMWfhQWzBI81Sq6wWd8EAWbD2kPd/wbi6wFE7XYTBeOpv1SqriMGTHDwgJ+GMwUACF35sfZDBrTp7LgN6ksF2NapdS2SUwU7F9qZLOpbBTHifjR/6l8HHHjpw+aGZwZehj2QkMJvBoaH9+QWjnMEcnY3gH/mdwVx5DXMRMZ/BXJlJkcwkoMGFffrgyqCgwV0L8NcDDKHB95gt7whmocEMRlJbfa6hweaKQGwW5aHBJaYb2psJosFtjEv/5xuiwWqMS//nG6LBHKYb2psJosHWikBsFuWhwfVFUlt9rqHB2pgt7whmocE7C/DXAwyhwV59+uDKoKDBL5lJkcwkoMH0eA1zETGfwa2cjeAf+Z3BJKH9+QWjnMESoY9kJDCbwTkeOnD5oZnBuHefjR/6l8GoxPamSzqWwdw0ql1LZJTB9jl7LgN6ksGLARd+bH2QwRcbPCAn4YzBD+lv1SqriMEvucBRO12EwfRVsPaQ93/BH8pSq6wWd8FcLTFn4UFswcqiSPdlflTBdUHvhoQgT0GSHU1chcFpQdMQpD45zXVB8TOUYkGgfkF0YaU4YaiDQYIS0Kzj6odBjczX7kMTjEHpHxhonA6QQdhu2T5MApJB6NslZa7ik0FignOq062VQSxRrMLiYZdBu5oQLhr9mEE8iJEI0n2aQf3Mxb594ptBVi62pq0pnUEoedx6EFKeQVU4zrV0Wp9B1GSW5uQgoEFDFkulkIOgQWR4uuDX1KBBF/FY0GYUoUEXpLfv+0GhQSfWDUJoXaFB8HSogo9moUE=",
        "encoding": "base64",
        "path": [
         "_data",
         0,
         "x",
         "value"
        ]
       },
       {
        "data": "AAAAAACuuT4APwYMpQRiQat21KNb+3FBVv/wg9vhekGvfCq2UtaBQXcYzZlUKYZBayFSTH5likG0vpw5coaOQTvQA233Q5FBUrTAiukyk0GUyJxCEQ6VQQlHvceE05ZBS3K6rHCBmEGrJnXFGRaaQUnB6+/ej5tB2HM3wjrtnEGjxvYbxSyeQZt/h5k0TZ9BT6HI868moEEBdcF6H5agQaJT4wJ29KBBDSpKTVJBoUF76jYfZXyhQV1xu5NxpaFBhO1/Wk28oUHGFmHj4MChQfU8unYns6FBOSVCOi+ToUHHsnUiGWGhQTZjn9AYHaFBC6OeXXTHoEEp16URhGCgQUAucxJk0Z9Bg86dj/PAnkG0ZvJwz5CdQfaQVjoxQpxBgQZB2nHWmkFDiClGCE+ZQX7ZBPiHrZdB2TlbTp/zlUGhGqbQFSOUQVJdvlnKPZJBryY/KrFFkEEZNLTJo3mMQYcbYe2KSohBOsOz22cChEGCAUYBSUt/QcahXBaAcXZBnXPOKikBa0FkiQvZ9wZSQVWWC9n3BlLB6HnOKikBa8H3pFwWgHF2wZYERgFJS3/BxcSz22cChMEFHWHtikqIwZQ1tMmjeYzBZCc/KrFFkMEDXr5Zyj2SwUcbptAVI5TBfTpbTp/zlcEV2gT4h62XwdiIKUYIT5nBBwdB2nHWmsF3kVY6MUKcwRxn8nDPkJ3B786dj/PAnsGeLnMSZNGfwVPXpRGEYKDBLaOeXXTHoMFTY5/QGB2hwd6ydSIZYaHBSiVCOi+TocH/PLp2J7OhwcgWYePgwKHBgO1/Wk28ocFVcbuTcaWhwWzqNh9lfKHB9SlKTVJBocGIU+MCdvSgweF0wXoflqDBJqHI868moME/f4eZNE2fwTzG9hvFLJ7BX3M3wjrtnMHLwOvv3o+bwSgmdcUZFprByHG6rHCBmMF5Rr3HhNOWwfvHnEIRDpXBp7PAiukyk8GQzwNt90ORwVW9nDlyho7B/h9STH5lisEAF82ZVCmGwTB7KrZS1oHBWvzwg9vhesGPc9SjW/txwfA4BgylBGLBAAAAAAD+tz4=",
        "encoding": "base64",
        "path": [
         "_data",
         0,
         "y",
         "value"
        ]
       },
       {
        "data": "ietIKgDTncE=",
        "encoding": "base64",
        "path": [
         "_data",
         1,
         "x",
         "value"
        ]
       },
       {
        "data": "L/AASgRalME=",
        "encoding": "base64",
        "path": [
         "_data",
         1,
         "y",
         "value"
        ]
       },
       {
        "data": "D/4BVfb0nMGyhaabg8SawXK+GFE1ZJjB3JQBX4vWlcGrswVmNR6TwSxoauoPPpDBGpwDo0JyisFuwhFmLSWEwVeoQQcCN3vBPWykeXhwa8Fg0i3kJeIBQeDGrHDWnGxBRgsTctG4fEE+tX5p5qmFQatu2gwACI1BvyDGxHo3kkEKUyq6fuuVQc3VoaAmnJlB8qnzupBFnUEzmwJ18XGgQc0hG12nOaJBGyE7sgr4o0GOQm7fRaulQWo3TwyPUadBaCOq/inpqEFgssvtaXCqQfdBkUWz5atBMJ9fV31HrUGb4jj3U5SuQebdPgPZyq9BriAD6uJ0sEFXgRtK9vewQbhECL8cbrFBV8/B/tnWsUHneNjavzGyQWWPXLRufrJB1Sx14JW8skEXDzz98+uyQf0shTZXDLNBSK5Jep0ds0FyIn+ctB+zQRpCNWqaErNBOh/mq1z2skEdVfYWGcuyQcZ4dC79kLJBCKo4E0ZIskGeopZDQPGxQW7o5UpHjLFBQck0YcUZsUHybYv7MpqwQQ==",
        "encoding": "base64",
        "path": [
         "_data",
         2,
         "x",
         "value"
        ]
       },
       {
        "data": "9iNonLCNlcFknSKBSEqYwQGLTVyp3prBKyALfRxIncH+pztbGISfwYWwYqEhyKDB1hFG5jq1ocGHez+RXoiiwZSyLIauQKPBj0N44Wjdo8HUGhDE6F2kwUSf1QCnwaTBJdzQqjoIpcHDI5GDWTGlwQUOR0nYPKXB0alF5KoqpcEWA7tz5PqkwaGbkjm3raTBxP+WZXRDpMGnFArAi7yjwbX3DTSLGaPBmCJaOh5bosFo4NkkDYKhweXU8Us8j6DBaoaUPFYHn8H4iTUo5sCcwYk4JA6NTZrBQDYj4N6vl8F0Rx4YnOqUwVDRFdOuAJLBr996gE/qjcG5lQ7PdZaHwUoIAZZ4DIHBXMUomnGmdMHF3NsZSY5bwcQYT5HLhFxBJugWqR5ZdUGUKdv9ndqBQXU7jd43E4lBrnXPJ2InkEHpJCTI08KTQTV/eGMlWJdBi1R+/pHjmkEtboQGX2GeQVM+0R7w5qBB4c3oy72SokFKeHCCVjKkQcADpREFxKVBFHUA7CJGp0HCKbzjGbeoQQ==",
        "encoding": "base64",
        "path": [
         "_data",
         2,
         "y",
         "value"
        ]
       },
       {
        "data": "7oTUjFTJsEHI4+zFmS+wQUA/uIncCa9ByK2cYbyUrUFg5MlSHQKsQejnU/R3VKpBz2E2U2+OqEGGgLTNzLKmQWq1hLJ7xKRBxVapqoTGokGZ8yr1CLygQXU7Y/h6UJ1BqT5ulsscmUFpP3ncneOUQciuJISUq5BB3qpd96D2iEGpm4r3zLKAQdNCFcJSMXFBgHhveiGeNkG8EY/C2q9rwaP3i+4ifHzBg7tSut41hcHyBsrNa8iLwYIMdo2y9ZDBSkDjLJPKk8HRTajbZF6WwWweJegarZjBdLdyNRWzmsG/e57tJW2cwaenWICW2J3Bhv885ivznsEuFAMiKrufwXc9Cn2rF6DBYncg830noMGaVESX8wygwTtZOjlskJ/B4fvpB2OznsEJeA7kJoSdwQo5Wz2UBJzB2xgvvQU3msHhurCTUB6YwaoTaATAvZXBSlFTORAZk8E20phkaDSQwW8gHXSoKIrBoTKvlXl7g8F3REE5g9d4wV9cRSNjEmTBTrcPGvpyVUFkxcqRG0J1QQ==",
        "encoding": "base64",
        "path": [
         "_data",
         3,
         "x",
         "value"
        ]
       },
       {
        "data": "omq6xIU2qEHEJGfSI7upQblMC4uTI6tBRahDn55trEEmDHWAPpetQbNRi4+fnq5Bft6w+yOCr0H8Lj4mMyCwQeGQy8kdbLBBRto0oVqksEEiV3ZQkciwQVRxqPGI2LBBQFVlbijUsEFPrjOndruwQeSMuGiajrBBA3DBLtpNsEFqdAxrN/OvQXkhorPGJK9BFJQOkqYxrkHAVrQEVRutQYOfX1WH46tB6G03aieMqkECdwXEUBepQSQ9ji5Nh6dB9yQtKJHepUFFoVoGuB+kQVb1K91/TaJBPvA7MMVqoEEakIPn/PScQdq9zMlu/5hB24VQgRj7lEHlkabBSe6QQfhh5Rq/volBrrbabXSpgUEwDuJszVJzQcj/xwd9skxBDILNGa6TZ8EM6OY2frV6wTLHokCaioTBkTzFNzJpi8E2vxH43fWQwQMR6H3+A5TBPIrW0C3alsEmu3j59nOZwWZePuZDzZvBw/b61mPincHpI0UpEbCfwZO8RD67maDBioXekhk1ocHdhNh1L6mhwQ==",
        "encoding": "base64",
        "path": [
         "_data",
         3,
         "y",
         "value"
        ]
       },
       {
        "data": "IK6SMF0kgUEATGYPuTeLQVgPfnsppZJBnNz0oFupl0EeLaLvvaOcQVs+CErSx6BBATvzqDg0o0EVUKHsy5SlQfW2ogVR56dBlD/kFJopqkFntSp3iFmsQUrUQsIOda5Bbv8DWRk9sEGfirmBhzOxQbTS+Z3qHLJBDhe0rWf4skFOHo+7MMWzQUJdLJ6FgrRB69x4rLQvtUHfq2JkG8y1Qb1sVgMnV7ZBYur1D1XQtkFteIbUMze3QRA+pMlii7dBe0vW8JLMt0Eae64eh/q3Qe2QLzQUFbhBLrtDRyEcuEGdfB26pw+4QWkQbUGz77dBJHRk2WG8t0GcZpSp43W3QW7CvNd6HLdB8pq6SXuwtkHQWc5WSjK2QeC8g2heorVBkO+Uiz4BtUFwAzHxgU+0QUixHGHPjbNBdYMyndy8skFeQ9W2bd2xQaO09FZU8LBB5oGi8t3sr0HPYm43UOGtQYm16sPqv6tBTmu7Xq2KqUGBWlBtqkOnQTTnMQIF7aRBUr6n2+6IokECVZtUphmgQQ==",
        "encoding": "base64",
        "path": [
         "_data",
         4,
         "x",
         "value"
        ]
       },
       {
        "data": "8AO6hE+NocEd4MKpeEOhwWpcMCqWxKDBDPwoFh8RoMF/9Eipd1OewZqzzAqLHpzB4Q+BaoqFmcGFgbrK5YqWwVYt88xoMZPBklWNJHD4jsFFRtWQnN2GwbcJo5fjM3zBTPRRxaTWYsFwR4+utBllQb4o3IvloX9BCiPgcAPgikHe6zFQnzSTQZpL4JLoMJlBAjv7qz9fn0HIuIjn69yiQcKzglRdHaZBaeIk/OZtqUHkm2qjbMusQRGIG/BiGbBBg/f0h2DQsUEkiE0rE4mzQT6WFlLdQbVBLh0xXiH5tkEYm4wfQ624QeV17lapXLpBffP2Nb8FvEEYa/va9aa9QbZAUcfFPr9BBDlVJ9hlwEG1fhV/ICbBQWMY83yH38FBsva9J1+RwkHuEUyeADvDQSgUEbTM28NBcv96hixzxEEZqIcKkgDFQREoDpJ4g8VBZDk/SGX7xUEApOek52fGQWGXCNaZyMZBH9piHyEdx0HrJ5svLmXHQVbZp2p9oMdBDf5BKdfOx0HUYR7tD/DHQQ==",
        "encoding": "base64",
        "path": [
         "_data",
         4,
         "y",
         "value"
        ]
       },
       {
        "data": "8zXn/CYxj0HY2O+snT6bQV1tgy3cY6NB2y2FtP8TqUExh4dm3KmuQWFpXyrYD7JBLQXzSu23tEH5qsiJcEq3QSG1vRe7xLlBKPB9HT8kvEG09oFdima+QW/8zFykRMBBfb+1TCNFwUGmXLSXuTPCQbs+9UxxD8NBN4Ud72fXw0HMc8Ndz4rEQflE6anuKMVBJFif1CKxxUH7OAl33yLGQW1NGFOvfcZBXvlmzDTBxkGMo7dIKu3GQS0jtHdiAcdBtqCjgcj9xkFVw+YcYOLGQYoFJIpFr8ZBiiIod61kxkH+oZjI5ALGQdt7sEpQisVBTYlYSWz7xEHT3QYQzFbEQXQc6VEZncNBpEz2ehPPwkExgZzqju3BQY641Rh0+cBBNUILTX3nv0FBjC60+Lq9QXYNzBKYb7tBzv8g5LgHuUEGZ8wC1oW2Qds6YxqF7LNBNARg/XM+sUG0BlrEy/ysQe0/QxRhXqdBETnFqnKnoUHp86AaybuXQR488c+3HohBADA1npFpNUGFMHMfg8qGwYQV1SREFZfBlagknypXocE7tQQkQBKnwdx/ulP6tazBFv5KekQescGRxk/vHNCzwT6rWG2/bbbBNBNCrnn0uMGkXeQIsWG7wd43SSDlsr3B0kLFd7Llv8GyyqZ06vvAwf+sv/2U88HBdId4itnYwsHiXkTFy6rDwXhMXEOTaMTBpt/VY2wRxcHqm0sZqaTFwYWzR52xIcbBMQy4DAWIxsGNR8rsOdfGwQ3bppf+DsfBHiKbkBkvx8GjqFu/aTfHwaKXIZLmJ8fB0RmABqAAx8GonOiYvsHGwQ3s7hqDa8bBYy14cEb+xcHDmhk0eXrFwSJyBUOj4MTBcr/9MGMxxMFmYN2kbW3DwfLBX56MlcLBok3npZ6qwcFaKxnnla3AwTmadW7uPr/B9DOlELICvcHXv0GUxKi6wV7aMXSSM7jBkm0nR6SltcFjaAsjnAGzwYISIeYySrDBLoNa0WoEq8HH2ws0A1mlwS90DzAOMJ/BzAuJv8mOk8G603N62Gh/wd4VhBjeDG9BzDTn/CYxj0E=",
        "encoding": "base64",
        "path": [
         "_data",
         5,
         "x",
         "value"
        ]
       },
       {
        "data": "0XYPwCPjxcHbPvjT+bXFwTCZXc08ccXBUqukhzMVxcE/qkXiPKLEwbPN/17PGMTB1YGwp3h5w8G1w0v83MTCwZYwjIm2+8HB708JqdQewcH063kLGy/Awe2Z/ZsBW77BaJHP9h42vMH1dPP0w/G5wcgbn9RGkLfBdPAF3BsUtcErcbXR0n+ywRauMLEorK/By26yZD4zqsH0t+/VipqkwZRD8MGlz53B45gUZ+xBksHTvGz4SV96wU0q3VaHinRB1girlVnhkEHsbPhdOZicQWyFWfCWHaRBL4QvLBzfqUEDBK5yvYqvQWupWTJRjbJBdx8lnYdEtUG1q9dVNei3QQvhYtuhdbpBqVOEnSvqvEEzgRizSkO/QU8Y/rpJv8BBs+nlgNzMwUFNPHfJR8nCQWJIvWGHs8NB4vrS0amKxEEhH8xV0U3FQcYYT8I0/MVB54jzUyCVxkFKG5Bo9hfHQcR3uCEwhMdB7tfD713Zx0FC8cwEKBfIQceoNK9OPchBD0NKm6pLyEF3YtX7LELIQbYJWJnfIMhBhOj4x+Tnx0FYVyBEd5fHQa587PXpL8dBVwW7m6exxkF7iCBcMh3GQfQDvz8jc8VBX72Fkym0xEFyJP0zCuHDQb78WMKe+sJBsv0hxNQBwkGCKV6urPfAQXp8aLpxur9BJ4g18jhnvUHIgGyVFPi6QRLhN/2Gb7hBvA9+tCzQtUFRcrvGuRyzQZp3ovb2V7BBKvLBvn0Jq0F7owAH9kulQfcBojGD+p5B6w569rlGk0H87yvugSJ+QTGpJfq5znDB1uCHHzTEj8GPoyOhl3abwYO/H6ubcqPBLlGpLRgRqcGF74WF9pCuweC/5rdF9rHB1h+riCiPtMHq3RFUdhC3wXtGNAiad7nBySO1ixnCu8HPXGVLmO29wZxyeanZ97/BT7fmpWHvwMGrZ2ujL9DBwVwyhBFvncLBhmNJXUxWw8Egd8r2CPrDwSyjfRX8h8TB0yM8ZpP/xMGR7xeiU2DFwQZYbw3ZqcXB4Ji73tfbxcFUW7CMHPbFwR6mWwOM+MXB03YPwCPjxcE=",
        "encoding": "base64",
        "path": [
         "_data",
         5,
         "y",
         "value"
        ]
       },
       {
        "data": "tB0MCD3XokE=",
        "encoding": "base64",
        "path": [
         "_data",
         6,
         "x",
         "value"
        ]
       },
       {
        "data": "Eqfqa6/Jx0E=",
        "encoding": "base64",
        "path": [
         "_data",
         6,
         "y",
         "value"
        ]
       }
      ],
      "model_module": "plotlywidget",
      "model_module_version": "^0.7.1",
      "model_name": "FigureModel",
      "state": {
       "_config": {
        "plotlyServerURL": "https://plot.ly"
       },
       "_data": [
        {
         "hoverinfo": "none",
         "line": {
          "color": "rgb(31, 119, 180)",
          "dash": "dash",
          "width": 2
         },
         "mode": "lines",
         "name": "2011-08-05 16:26 (Earth)",
         "type": "scatter",
         "uid": "67cdeaa7-8063-4d3a-a798-3baf0c813d62",
         "x": {
          "dtype": "float64",
          "shape": [
           100
          ]
         },
         "y": {
          "dtype": "float64",
          "shape": [
           100
          ]
         }
        },
        {
         "marker": {
          "color": "rgb(31, 119, 180)",
          "size": 10
         },
         "mode": "markers",
         "name": "2011-08-05 16:26 (Earth)",
         "type": "scatter",
         "uid": "b0f32c03-c773-4ae3-a314-575aff3dc2c3",
         "x": {
          "dtype": "float64",
          "shape": [
           1
          ]
         },
         "y": {
          "dtype": "float64",
          "shape": [
           1
          ]
         }
        },
        {
         "hoverinfo": "none",
         "line": {
          "color": "rgb(255, 127, 14)",
          "dash": "solid",
          "width": 2
         },
         "mode": "lines",
         "name": "Inner Cruise 1",
         "type": "scatter",
         "uid": "4969f0ca-ac0a-4ae7-a4f8-46d48dca10d7",
         "x": {
          "dtype": "float64",
          "shape": [
           50
          ]
         },
         "y": {
          "dtype": "float64",
          "shape": [
           50
          ]
         }
        },
        {
         "hoverinfo": "none",
         "line": {
          "color": "rgb(44, 160, 44)",
          "dash": "solid",
          "width": 2
         },
         "mode": "lines",
         "name": "Back to Earth",
         "type": "scatter",
         "uid": "baf189f2-1f70-4bb6-ade9-5ab8c9dfbdf5",
         "x": {
          "dtype": "float64",
          "shape": [
           50
          ]
         },
         "y": {
          "dtype": "float64",
          "shape": [
           50
          ]
         }
        },
        {
         "hoverinfo": "none",
         "line": {
          "color": "rgb(214, 39, 40)",
          "dash": "solid",
          "width": 2
         },
         "mode": "lines",
         "name": "Jupiter Orbit Insertion Phase",
         "type": "scatter",
         "uid": "27650d60-c72b-4256-a6d4-0701af50ccc9",
         "x": {
          "dtype": "float64",
          "shape": [
           50
          ]
         },
         "y": {
          "dtype": "float64",
          "shape": [
           50
          ]
         }
        },
        {
         "hoverinfo": "none",
         "line": {
          "color": "rgb(148, 103, 189)",
          "dash": "dash",
          "width": 2
         },
         "mode": "lines",
         "name": "2016-07-05 03:19 (Jupiter)",
         "type": "scatter",
         "uid": "40e22b1a-020f-473f-a45a-c847b0682c04",
         "x": {
          "dtype": "float64",
          "shape": [
           100
          ]
         },
         "y": {
          "dtype": "float64",
          "shape": [
           100
          ]
         }
        },
        {
         "marker": {
          "color": "rgb(148, 103, 189)",
          "size": 10
         },
         "mode": "markers",
         "name": "2016-07-05 03:19 (Jupiter)",
         "type": "scatter",
         "uid": "223f95c5-bda1-4096-9c8a-7a338374198e",
         "x": {
          "dtype": "float64",
          "shape": [
           1
          ]
         },
         "y": {
          "dtype": "float64",
          "shape": [
           1
          ]
         }
        }
       ],
       "_js2py_pointsCallback": {},
       "_js2py_relayout": {},
       "_js2py_restyle": {},
       "_js2py_update": {},
       "_last_layout_edit_id": 8,
       "_last_trace_edit_id": 8,
       "_layout": {
        "autosize": true,
        "shapes": [
         {
          "fillcolor": "#ffcc00",
          "line": {
           "color": "#ffcc00"
          },
          "opacity": 1,
          "type": "circle",
          "x0": -21895056.19935296,
          "x1": 21895056.19935296,
          "xref": "x",
          "y0": -21895056.19935296,
          "y1": 21895056.19935296,
          "yref": "y"
         }
        ],
        "template": {},
        "xaxis": {
         "constrain": "domain",
         "title": {
          "text": "x (km)"
         }
        },
        "yaxis": {
         "scaleanchor": "x",
         "title": {
          "text": "y (km)"
         }
        }
       },
       "_py2js_animate": {},
       "_py2js_deleteTraces": {},
       "_py2js_moveTraces": {},
       "_py2js_removeLayoutProps": {},
       "_py2js_removeTraceProps": {},
       "_py2js_restyle": {},
       "_view_count": 0
      }
     },
     "f1ecea4c72f848a8a7c7a834919b6fd9": {
      "buffers": [
       {
        "data": "8HSogo9moUEg1g1CaF2hQQqkt+/7QaFBA/FY0GYUoUFMeLrg19SgQSQWS6WQg6BBr2SW5uQgoEH+N861dFqfQcd43HoQUp5B5i22pq0pnUGKzMW+feKbQb+HkQjSfZpBPpoQLhr9mEGZUKzC4mGXQcOBc6rTrZVBO9slZa7ik0Esbtk+TAKSQTUfGGicDpBBHcvX7kMTjEEQEdCs4+qHQetfpThhqINBsTCUYkGgfkGvDaQ+Oc11QesXTVyFwWlBOijvhoQgT0F0r0j3ZX5UwYYzMWfhQWzBI81Sq6wWd8EAWbD2kPd/wbi6wFE7XYTBeOpv1SqriMGTHDwgJ+GMwUACF35sfZDBrTp7LgN6ksF2NapdS2SUwU7F9qZLOpbBTHifjR/6l8HHHjpw+aGZwZehj2QkMJvBoaH9+QWjnMEcnY3gH/mdwVx5DXMRMZ/BXJlJkcwkoMGFffrgyqCgwV0L8NcDDKHB95gt7whmocEMRlJbfa6hweaKQGwW5aHBJaYb2psJosFtjEv/5xuiwWqMS//nG6LBHKYb2psJosHWikBsFuWhwfVFUlt9rqHB2pgt7whmocE7C/DXAwyhwV59+uDKoKDBL5lJkcwkoMH0eA1zETGfwa2cjeAf+Z3BJKH9+QWjnMESoY9kJDCbwTkeOnD5oZnBuHefjR/6l8GoxPamSzqWwdw0ql1LZJTB9jl7LgN6ksGLARd+bH2QwRcbPCAn4YzBD+lv1SqriMEvucBRO12EwfRVsPaQ93/BH8pSq6wWd8FcLTFn4UFswcqiSPdlflTBdUHvhoQgT0GSHU1chcFpQdMQpD45zXVB8TOUYkGgfkF0YaU4YaiDQYIS0Kzj6odBjczX7kMTjEHpHxhonA6QQdhu2T5MApJB6NslZa7ik0FignOq062VQSxRrMLiYZdBu5oQLhr9mEE8iJEI0n2aQf3Mxb594ptBVi62pq0pnUEoedx6EFKeQVU4zrV0Wp9B1GSW5uQgoEFDFkulkIOgQWR4uuDX1KBBF/FY0GYUoUEXpLfv+0GhQSfWDUJoXaFB8HSogo9moUE=",
        "encoding": "base64",
        "path": [
         "_data",
         0,
         "x",
         "value"
        ]
       },
       {
        "data": "AAAAAACuuT4APwYMpQRiQat21KNb+3FBVv/wg9vhekGvfCq2UtaBQXcYzZlUKYZBayFSTH5likG0vpw5coaOQTvQA233Q5FBUrTAiukyk0GUyJxCEQ6VQQlHvceE05ZBS3K6rHCBmEGrJnXFGRaaQUnB6+/ej5tB2HM3wjrtnEGjxvYbxSyeQZt/h5k0TZ9BT6HI868moEEBdcF6H5agQaJT4wJ29KBBDSpKTVJBoUF76jYfZXyhQV1xu5NxpaFBhO1/Wk28oUHGFmHj4MChQfU8unYns6FBOSVCOi+ToUHHsnUiGWGhQTZjn9AYHaFBC6OeXXTHoEEp16URhGCgQUAucxJk0Z9Bg86dj/PAnkG0ZvJwz5CdQfaQVjoxQpxBgQZB2nHWmkFDiClGCE+ZQX7ZBPiHrZdB2TlbTp/zlUGhGqbQFSOUQVJdvlnKPZJBryY/KrFFkEEZNLTJo3mMQYcbYe2KSohBOsOz22cChEGCAUYBSUt/QcahXBaAcXZBnXPOKikBa0FkiQvZ9wZSQVWWC9n3BlLB6HnOKikBa8H3pFwWgHF2wZYERgFJS3/BxcSz22cChMEFHWHtikqIwZQ1tMmjeYzBZCc/KrFFkMEDXr5Zyj2SwUcbptAVI5TBfTpbTp/zlcEV2gT4h62XwdiIKUYIT5nBBwdB2nHWmsF3kVY6MUKcwRxn8nDPkJ3B786dj/PAnsGeLnMSZNGfwVPXpRGEYKDBLaOeXXTHoMFTY5/QGB2hwd6ydSIZYaHBSiVCOi+TocH/PLp2J7OhwcgWYePgwKHBgO1/Wk28ocFVcbuTcaWhwWzqNh9lfKHB9SlKTVJBocGIU+MCdvSgweF0wXoflqDBJqHI868moME/f4eZNE2fwTzG9hvFLJ7BX3M3wjrtnMHLwOvv3o+bwSgmdcUZFprByHG6rHCBmMF5Rr3HhNOWwfvHnEIRDpXBp7PAiukyk8GQzwNt90ORwVW9nDlyho7B/h9STH5lisEAF82ZVCmGwTB7KrZS1oHBWvzwg9vhesGPc9SjW/txwfA4BgylBGLBAAAAAAD+tz4=",
        "encoding": "base64",
        "path": [
         "_data",
         0,
         "y",
         "value"
        ]
       },
       {
        "data": "ietIKgDTncE=",
        "encoding": "base64",
        "path": [
         "_data",
         1,
         "x",
         "value"
        ]
       },
       {
        "data": "L/AASgRalME=",
        "encoding": "base64",
        "path": [
         "_data",
         1,
         "y",
         "value"
        ]
       }
      ],
      "model_module": "plotlywidget",
      "model_module_version": "^0.7.1",
      "model_name": "FigureModel",
      "state": {
       "_config": {
        "plotlyServerURL": "https://plot.ly"
       },
       "_data": [
        {
         "hoverinfo": "none",
         "line": {
          "color": "rgb(31, 119, 180)",
          "dash": "dash",
          "width": 2
         },
         "mode": "lines",
         "name": "2011-08-05 16:26 (Earth)",
         "type": "scatter",
         "uid": "112ac4d1-2d93-4df1-8410-ec75a806e46b",
         "x": {
          "dtype": "float64",
          "shape": [
           100
          ]
         },
         "y": {
          "dtype": "float64",
          "shape": [
           100
          ]
         }
        },
        {
         "marker": {
          "color": "rgb(31, 119, 180)",
          "size": 10
         },
         "mode": "markers",
         "name": "2011-08-05 16:26 (Earth)",
         "type": "scatter",
         "uid": "8d07f2eb-cfe1-4f1c-8aef-b1a342d830b0",
         "x": {
          "dtype": "float64",
          "shape": [
           1
          ]
         },
         "y": {
          "dtype": "float64",
          "shape": [
           1
          ]
         }
        }
       ],
       "_js2py_layoutDelta": {},
       "_js2py_pointsCallback": {},
       "_js2py_relayout": {},
       "_js2py_restyle": {},
       "_js2py_traceDeltas": {},
       "_js2py_update": {},
       "_last_layout_edit_id": 3,
       "_last_trace_edit_id": 3,
       "_layout": {
        "autosize": true,
        "shapes": [
         {
          "fillcolor": "#ffcc00",
          "line": {
           "color": "#ffcc00"
          },
          "opacity": 1,
          "type": "circle",
          "x0": -21895056.19935296,
          "x1": 21895056.19935296,
          "xref": "x",
          "y0": -21895056.19935296,
          "y1": 21895056.19935296,
          "yref": "y"
         }
        ],
        "template": {},
        "xaxis": {
         "constrain": "domain",
         "title": {
          "text": "x (km)"
         }
        },
        "yaxis": {
         "scaleanchor": "x",
         "title": {
          "text": "y (km)"
         }
        }
       },
       "_py2js_animate": {},
       "_py2js_deleteTraces": {},
       "_py2js_moveTraces": {},
       "_py2js_removeLayoutProps": {},
       "_py2js_removeTraceProps": {},
       "_py2js_restyle": {},
       "_view_count": 0
      }
     },
     "f5e40024acdf446c9fbc759e8f1c328b": {
      "buffers": [
       {
        "data": "8HSogo9moUEg1g1CaF2hQQqkt+/7QaFBA/FY0GYUoUFMeLrg19SgQSQWS6WQg6BBr2SW5uQgoEH+N861dFqfQcd43HoQUp5B5i22pq0pnUGKzMW+feKbQb+HkQjSfZpBPpoQLhr9mEGZUKzC4mGXQcOBc6rTrZVBO9slZa7ik0Esbtk+TAKSQTUfGGicDpBBHcvX7kMTjEEQEdCs4+qHQetfpThhqINBsTCUYkGgfkGvDaQ+Oc11QesXTVyFwWlBOijvhoQgT0F0r0j3ZX5UwYYzMWfhQWzBI81Sq6wWd8EAWbD2kPd/wbi6wFE7XYTBeOpv1SqriMGTHDwgJ+GMwUACF35sfZDBrTp7LgN6ksF2NapdS2SUwU7F9qZLOpbBTHifjR/6l8HHHjpw+aGZwZehj2QkMJvBoaH9+QWjnMEcnY3gH/mdwVx5DXMRMZ/BXJlJkcwkoMGFffrgyqCgwV0L8NcDDKHB95gt7whmocEMRlJbfa6hweaKQGwW5aHBJaYb2psJosFtjEv/5xuiwWqMS//nG6LBHKYb2psJosHWikBsFuWhwfVFUlt9rqHB2pgt7whmocE7C/DXAwyhwV59+uDKoKDBL5lJkcwkoMH0eA1zETGfwa2cjeAf+Z3BJKH9+QWjnMESoY9kJDCbwTkeOnD5oZnBuHefjR/6l8GoxPamSzqWwdw0ql1LZJTB9jl7LgN6ksGLARd+bH2QwRcbPCAn4YzBD+lv1SqriMEvucBRO12EwfRVsPaQ93/BH8pSq6wWd8FcLTFn4UFswcqiSPdlflTBdUHvhoQgT0GSHU1chcFpQdMQpD45zXVB8TOUYkGgfkF0YaU4YaiDQYIS0Kzj6odBjczX7kMTjEHpHxhonA6QQdhu2T5MApJB6NslZa7ik0FignOq062VQSxRrMLiYZdBu5oQLhr9mEE8iJEI0n2aQf3Mxb594ptBVi62pq0pnUEoedx6EFKeQVU4zrV0Wp9B1GSW5uQgoEFDFkulkIOgQWR4uuDX1KBBF/FY0GYUoUEXpLfv+0GhQSfWDUJoXaFB8HSogo9moUE=",
        "encoding": "base64",
        "path": [
         "_data",
         0,
         "x",
         "value"
        ]
       },
       {
        "data": "AAAAAACuuT4APwYMpQRiQat21KNb+3FBVv/wg9vhekGvfCq2UtaBQXcYzZlUKYZBayFSTH5likG0vpw5coaOQTvQA233Q5FBUrTAiukyk0GUyJxCEQ6VQQlHvceE05ZBS3K6rHCBmEGrJnXFGRaaQUnB6+/ej5tB2HM3wjrtnEGjxvYbxSyeQZt/h5k0TZ9BT6HI868moEEBdcF6H5agQaJT4wJ29KBBDSpKTVJBoUF76jYfZXyhQV1xu5NxpaFBhO1/Wk28oUHGFmHj4MChQfU8unYns6FBOSVCOi+ToUHHsnUiGWGhQTZjn9AYHaFBC6OeXXTHoEEp16URhGCgQUAucxJk0Z9Bg86dj/PAnkG0ZvJwz5CdQfaQVjoxQpxBgQZB2nHWmkFDiClGCE+ZQX7ZBPiHrZdB2TlbTp/zlUGhGqbQFSOUQVJdvlnKPZJBryY/KrFFkEEZNLTJo3mMQYcbYe2KSohBOsOz22cChEGCAUYBSUt/QcahXBaAcXZBnXPOKikBa0FkiQvZ9wZSQVWWC9n3BlLB6HnOKikBa8H3pFwWgHF2wZYERgFJS3/BxcSz22cChMEFHWHtikqIwZQ1tMmjeYzBZCc/KrFFkMEDXr5Zyj2SwUcbptAVI5TBfTpbTp/zlcEV2gT4h62XwdiIKUYIT5nBBwdB2nHWmsF3kVY6MUKcwRxn8nDPkJ3B786dj/PAnsGeLnMSZNGfwVPXpRGEYKDBLaOeXXTHoMFTY5/QGB2hwd6ydSIZYaHBSiVCOi+TocH/PLp2J7OhwcgWYePgwKHBgO1/Wk28ocFVcbuTcaWhwWzqNh9lfKHB9SlKTVJBocGIU+MCdvSgweF0wXoflqDBJqHI868moME/f4eZNE2fwTzG9hvFLJ7BX3M3wjrtnMHLwOvv3o+bwSgmdcUZFprByHG6rHCBmMF5Rr3HhNOWwfvHnEIRDpXBp7PAiukyk8GQzwNt90ORwVW9nDlyho7B/h9STH5lisEAF82ZVCmGwTB7KrZS1oHBWvzwg9vhesGPc9SjW/txwfA4BgylBGLBAAAAAAD+tz4=",
        "encoding": "base64",
        "path": [
         "_data",
         0,
         "y",
         "value"
        ]
       },
       {
        "data": "ietIKgDTncE=",
        "encoding": "base64",
        "path": [
         "_data",
         1,
         "x",
         "value"
        ]
       },
       {
        "data": "L/AASgRalME=",
        "encoding": "base64",
        "path": [
         "_data",
         1,
         "y",
         "value"
        ]
       },
       {
        "data": "D/4BVfb0nMGyhaabg8SawXK+GFE1ZJjB3JQBX4vWlcGrswVmNR6TwSxoauoPPpDBGpwDo0JyisFuwhFmLSWEwVeoQQcCN3vBPWykeXhwa8Fg0i3kJeIBQeDGrHDWnGxBRgsTctG4fEE+tX5p5qmFQatu2gwACI1BvyDGxHo3kkEKUyq6fuuVQc3VoaAmnJlB8qnzupBFnUEzmwJ18XGgQc0hG12nOaJBGyE7sgr4o0GOQm7fRaulQWo3TwyPUadBaCOq/inpqEFgssvtaXCqQfdBkUWz5atBMJ9fV31HrUGb4jj3U5SuQebdPgPZyq9BriAD6uJ0sEFXgRtK9vewQbhECL8cbrFBV8/B/tnWsUHneNjavzGyQWWPXLRufrJB1Sx14JW8skEXDzz98+uyQf0shTZXDLNBSK5Jep0ds0FyIn+ctB+zQRpCNWqaErNBOh/mq1z2skEdVfYWGcuyQcZ4dC79kLJBCKo4E0ZIskGeopZDQPGxQW7o5UpHjLFBQck0YcUZsUHybYv7MpqwQQ==",
        "encoding": "base64",
        "path": [
         "_data",
         2,
         "x",
         "value"
        ]
       },
       {
        "data": "9iNonLCNlcFknSKBSEqYwQGLTVyp3prBKyALfRxIncH+pztbGISfwYWwYqEhyKDB1hFG5jq1ocGHez+RXoiiwZSyLIauQKPBj0N44Wjdo8HUGhDE6F2kwUSf1QCnwaTBJdzQqjoIpcHDI5GDWTGlwQUOR0nYPKXB0alF5KoqpcEWA7tz5PqkwaGbkjm3raTBxP+WZXRDpMGnFArAi7yjwbX3DTSLGaPBmCJaOh5bosFo4NkkDYKhweXU8Us8j6DBaoaUPFYHn8H4iTUo5sCcwYk4JA6NTZrBQDYj4N6vl8F0Rx4YnOqUwVDRFdOuAJLBr996gE/qjcG5lQ7PdZaHwUoIAZZ4DIHBXMUomnGmdMHF3NsZSY5bwcQYT5HLhFxBJugWqR5ZdUGUKdv9ndqBQXU7jd43E4lBrnXPJ2InkEHpJCTI08KTQTV/eGMlWJdBi1R+/pHjmkEtboQGX2GeQVM+0R7w5qBB4c3oy72SokFKeHCCVjKkQcADpREFxKVBFHUA7CJGp0HCKbzjGbeoQQ==",
        "encoding": "base64",
        "path": [
         "_data",
         2,
         "y",
         "value"
        ]
       },
       {
        "data": "7oTUjFTJsEEwbrQLIImvQcyEFqlCKK1BdqUlNRZ6qkGGf7+q5YmnQdGnCSgSZKRBmzJZxt4VoUEjiQB0cVqbQWjN10r5cJRBCc4fW+gYi0EbkMd4sSd7QVCsy6E6dzFBol/7SRmRd8H2ue60CDWHwVmD+3jMxJDB0pPep1tNlcH8fPY+GCGZwWuKKW3iL5zB2y61J9hsnsGVHnVxi86fwZekvQqVJ6DBZw2WLZbsn8HJCXANb6iewU9NtmwKiJzBUVwR7V2UmcGJ2aNa2dmVwXcBGUYyaJHB9+0MqkOkiME+PfB9V7R6wQ7Zk+PUGkLBWqx0b3Wjd0FRzArje0mJQdzSFRRshpNB91hseOlwmkHAtslaiaOgQQS8VQQN9qNBXrr8VwAip0HKs+duBhqqQWjfLimd0axBN4AC4VE9r0GfhgXTeKmwQelr5RrahLFB8zz7fTAtskFYom+/tp+yQTXN4FuK2rJB9vFNerPcskEz/VEAKaayQRL5fbjQN7JBpYwxinuTsUGKmeDS3buwQQ==",
        "encoding": "base64",
        "path": [
         "_data",
         3,
         "x",
         "value"
        ]
       },
       {
        "data": "omq6xIU2qEHArZOrlaSqQZBwjnQ8w6xBgsRt1IuJrkFKXPqyCfCvQWoiutVneLBBgw0T9NHDsEFoZS94BdmwQcUc5w6pt7BB3U+aRklgsEGWXQF+rKivQbROXzQ7LK5BMrm7kIFRrEHm94yuTyCqQX98ffnhoadBggKrQ7rgpEFetOyAc+ihQRxjRsMhi51BoXwnNpIKl0EkqNR2nWqQQXaww89ZjoNBq2gMysThaUGdBnlzdNVowTzV8eulRYLBiMtIs5WFjcGcqz9d4+KTwXv+82SEbZjBLsM+kItPnMEdhbzXnHifwY6JD72z7aDBq5D0Cu+2ocHrXcmBsBSiwSBD0x5tBaLB8SOiMGWJocHgjiBIo6KgwfNX0D3nqZ7BZB4tLqhLm8GxvBgwujiXwc8qJVNHgpLBFFljLVV4isECkiEJcfJ9wR5mD31EvVXBlxXtF28xdEEU8uj16kGHQW+bcEw/RpJBfBaOYDngmEGDkbiFE1OfQdnCsTDRwaJBlSYi9OirpUFjseGeiVuoQQ==",
        "encoding": "base64",
        "path": [
         "_data",
         3,
         "y",
         "value"
        ]
       },
       {
        "data": "0gubaeUFs0FoGtT7rJSzQeTdUHYgHLRBwk9Q3wKctEFBdxKlGhS1Qf7bwrcxhLVBzsHOoRXstUFBOZyel0u2QffKl6+MorZBk0OPr83wtkHM6VBkNza3QbUvh46qcrdBGrzJ9wumt0Etdt1+RNC3QXwQHiJB8bdBymIMCPMIuEHouP2FTxe4QVMU6SRQHLhB1jZQpPIXuEFNJ0P7OAq4QUi7fVcp87dBv4ufGs7St0FAlX/VNam3QUKenUFzdrdBJle0OJ06t0Fv/2+qzvW2QZsxTpAmqLZB0Eqs38dRtkGvtQp62fK1QYUtjBuGi7VBKdu4R/wbtUFY9I00bqS0QfZK47MRJbRBlfgwGyCes0HQDsAp1g+zQabqUe1zerJBQXpKpTzesUEdcGqkdjuxQeUEJzFrkrBBBg5byczGr0GWJUMRbl2uQRK8Sudc6axBFh14yUBrq0GWLy27xeOpQSswuPebU6hBW0X+one7pkH/pWN4EBylQYrRFXghdqNBPBjdkmjKoUECVZtUphmgQQ==",
        "encoding": "base64",
        "path": [
         "_data",
         4,
         "x",
         "value"
        ]
       },
       {
        "data": "1iFqMJmYi0FogUD4ZMeRQegEbtrW3ZVBqV6SK8sNmkHcTLlcX1WeQQ1xMB5TWaFBKj0/atSRo0ETrHSmM9OlQWR+4uhsHKhBoMHBvnhsqkErUgujTMKsQc9OcnbbHK9BVz5F/Iq9sEE6B/Kg9e2xQVXtcp8kH7NBUliXlY5QtEH5IKMGqoG1Qa35MpntsbZBc+wQVdDgt0HvGt3gyQ25QTz9br9SOLpBJH7TjORfu0HDgMw6+oO8QaCStkwQpL1BVtO5EqW/vkHlbSvkONa/QeCsgiync8BBW0MtQTX5wEEpBNeQinvBQQ8sim9s+sFBHCgDv6F1wkFbC2cI8+zCQb9pO5UqYMNB6lqUhxTPw0Eiwm3xfjnEQdhYJes5n8RBYF0LqRcAxUG9MACQ7FvFQV2bFUmPssVBK+Mq1NgDxkGiUXuZpE/GQRtDF3rQlcZBulRA3zzWxkH9xqHIzBDHQdGtXtllRcdBIQ7wY/Bzx0HDkM10V5zHQab+29uIvsdBS0edNHXax0HUYR7tD/DHQQ==",
        "encoding": "base64",
        "path": [
         "_data",
         4,
         "y",
         "value"
        ]
       },
       {
        "data": "8zXn/CYxj0HY2O+snT6bQV1tgy3cY6NB2y2FtP8TqUExh4dm3KmuQWFpXyrYD7JBLQXzSu23tEH5qsiJcEq3QSG1vRe7xLlBKPB9HT8kvEG09oFdima+QW/8zFykRMBBfb+1TCNFwUGmXLSXuTPCQbs+9UxxD8NBN4Ud72fXw0HMc8Ndz4rEQflE6anuKMVBJFif1CKxxUH7OAl33yLGQW1NGFOvfcZBXvlmzDTBxkGMo7dIKu3GQS0jtHdiAcdBtqCjgcj9xkFVw+YcYOLGQYoFJIpFr8ZBiiIod61kxkH+oZjI5ALGQdt7sEpQisVBTYlYSWz7xEHT3QYQzFbEQXQc6VEZncNBpEz2ehPPwkExgZzqju3BQY641Rh0+cBBNUILTX3nv0FBjC60+Lq9QXYNzBKYb7tBzv8g5LgHuUEGZ8wC1oW2Qds6YxqF7LNBNARg/XM+sUG0BlrEy/ysQe0/QxRhXqdBETnFqnKnoUHp86AaybuXQR488c+3HohBADA1npFpNUGFMHMfg8qGwYQV1SREFZfBlagknypXocE7tQQkQBKnwdx/ulP6tazBFv5KekQescGRxk/vHNCzwT6rWG2/bbbBNBNCrnn0uMGkXeQIsWG7wd43SSDlsr3B0kLFd7Llv8GyyqZ06vvAwf+sv/2U88HBdId4itnYwsHiXkTFy6rDwXhMXEOTaMTBpt/VY2wRxcHqm0sZqaTFwYWzR52xIcbBMQy4DAWIxsGNR8rsOdfGwQ3bppf+DsfBHiKbkBkvx8GjqFu/aTfHwaKXIZLmJ8fB0RmABqAAx8GonOiYvsHGwQ3s7hqDa8bBYy14cEb+xcHDmhk0eXrFwSJyBUOj4MTBcr/9MGMxxMFmYN2kbW3DwfLBX56MlcLBok3npZ6qwcFaKxnnla3AwTmadW7uPr/B9DOlELICvcHXv0GUxKi6wV7aMXSSM7jBkm0nR6SltcFjaAsjnAGzwYISIeYySrDBLoNa0WoEq8HH2ws0A1mlwS90DzAOMJ/BzAuJv8mOk8G603N62Gh/wd4VhBjeDG9BzDTn/CYxj0E=",
        "encoding": "base64",
        "path": [
         "_data",
         5,
         "x",
         "value"
        ]
       },
       {
        "data": "0XYPwCPjxcHbPvjT+bXFwTCZXc08ccXBUqukhzMVxcE/qkXiPKLEwbPN/17PGMTB1YGwp3h5w8G1w0v83MTCwZYwjIm2+8HB708JqdQewcH063kLGy/Awe2Z/ZsBW77BaJHP9h42vMH1dPP0w/G5wcgbn9RGkLfBdPAF3BsUtcErcbXR0n+ywRauMLEorK/By26yZD4zqsH0t+/VipqkwZRD8MGlz53B45gUZ+xBksHTvGz4SV96wU0q3VaHinRB1girlVnhkEHsbPhdOZicQWyFWfCWHaRBL4QvLBzfqUEDBK5yvYqvQWupWTJRjbJBdx8lnYdEtUG1q9dVNei3QQvhYtuhdbpBqVOEnSvqvEEzgRizSkO/QU8Y/rpJv8BBs+nlgNzMwUFNPHfJR8nCQWJIvWGHs8NB4vrS0amKxEEhH8xV0U3FQcYYT8I0/MVB54jzUyCVxkFKG5Bo9hfHQcR3uCEwhMdB7tfD713Zx0FC8cwEKBfIQceoNK9OPchBD0NKm6pLyEF3YtX7LELIQbYJWJnfIMhBhOj4x+Tnx0FYVyBEd5fHQa587PXpL8dBVwW7m6exxkF7iCBcMh3GQfQDvz8jc8VBX72Fkym0xEFyJP0zCuHDQb78WMKe+sJBsv0hxNQBwkGCKV6urPfAQXp8aLpxur9BJ4g18jhnvUHIgGyVFPi6QRLhN/2Gb7hBvA9+tCzQtUFRcrvGuRyzQZp3ovb2V7BBKvLBvn0Jq0F7owAH9kulQfcBojGD+p5B6w569rlGk0H87yvugSJ+QTGpJfq5znDB1uCHHzTEj8GPoyOhl3abwYO/H6ubcqPBLlGpLRgRqcGF74WF9pCuweC/5rdF9rHB1h+riCiPtMHq3RFUdhC3wXtGNAiad7nBySO1ixnCu8HPXGVLmO29wZxyeanZ97/BT7fmpWHvwMGrZ2ujL9DBwVwyhBFvncLBhmNJXUxWw8Egd8r2CPrDwSyjfRX8h8TB0yM8ZpP/xMGR7xeiU2DFwQZYbw3ZqcXB4Ji73tfbxcFUW7CMHPbFwR6mWwOM+MXB03YPwCPjxcE=",
        "encoding": "base64",
        "path": [
         "_data",
         5,
         "y",
         "value"
        ]
       },
       {
        "data": "tB0MCD3XokE=",
        "encoding": "base64",
        "path": [
         "_data",
         6,
         "x",
         "value"
        ]
       },
       {
        "data": "Eqfqa6/Jx0E=",
        "encoding": "base64",
        "path": [
         "_data",
         6,
         "y",
         "value"
        ]
       }
      ],
      "model_module": "plotlywidget",
      "model_module_version": "^0.7.1",
      "model_name": "FigureModel",
      "state": {
       "_config": {
        "plotlyServerURL": "https://plot.ly"
       },
       "_data": [
        {
         "hoverinfo": "none",
         "line": {
          "color": "rgb(31, 119, 180)",
          "dash": "dash",
          "width": 2
         },
         "mode": "lines",
         "name": "2011-08-05 16:26 (Earth)",
         "type": "scatter",
         "uid": "aebc3196-9de6-4594-8bbd-cdae79d5fe28",
         "x": {
          "dtype": "float64",
          "shape": [
           100
          ]
         },
         "y": {
          "dtype": "float64",
          "shape": [
           100
          ]
         }
        },
        {
         "marker": {
          "color": "rgb(31, 119, 180)",
          "size": 10
         },
         "mode": "markers",
         "name": "2011-08-05 16:26 (Earth)",
         "type": "scatter",
         "uid": "b56b32ed-bb24-433c-8817-b433f6a18830",
         "x": {
          "dtype": "float64",
          "shape": [
           1
          ]
         },
         "y": {
          "dtype": "float64",
          "shape": [
           1
          ]
         }
        },
        {
         "hoverinfo": "none",
         "line": {
          "color": "rgb(255, 127, 14)",
          "dash": "solid",
          "width": 2
         },
         "mode": "lines",
         "name": "Inner Cruise 1",
         "type": "scatter",
         "uid": "c58b25ae-aa0e-4ea2-b265-c81f69bd2c1b",
         "x": {
          "dtype": "float64",
          "shape": [
           50
          ]
         },
         "y": {
          "dtype": "float64",
          "shape": [
           50
          ]
         }
        },
        {
         "hoverinfo": "none",
         "line": {
          "color": "rgb(44, 160, 44)",
          "dash": "solid",
          "width": 2
         },
         "mode": "lines",
         "name": "Back to Earth",
         "type": "scatter",
         "uid": "4648f8b9-de49-488b-b90e-b74e610c7954",
         "x": {
          "dtype": "float64",
          "shape": [
           50
          ]
         },
         "y": {
          "dtype": "float64",
          "shape": [
           50
          ]
         }
        },
        {
         "hoverinfo": "none",
         "line": {
          "color": "rgb(214, 39, 40)",
          "dash": "solid",
          "width": 2
         },
         "mode": "lines",
         "name": "Jupiter Orbit Insertion Phase",
         "type": "scatter",
         "uid": "b3fec24c-7b77-4227-9aa0-c3461372ce84",
         "x": {
          "dtype": "float64",
          "shape": [
           50
          ]
         },
         "y": {
          "dtype": "float64",
          "shape": [
           50
          ]
         }
        },
        {
         "hoverinfo": "none",
         "line": {
          "color": "rgb(148, 103, 189)",
          "dash": "dash",
          "width": 2
         },
         "mode": "lines",
         "name": "2016-07-05 03:19 (Jupiter)",
         "type": "scatter",
         "uid": "dd4e525a-699b-4426-a9c6-955dcb3554aa",
         "x": {
          "dtype": "float64",
          "shape": [
           100
          ]
         },
         "y": {
          "dtype": "float64",
          "shape": [
           100
          ]
         }
        },
        {
         "marker": {
          "color": "rgb(148, 103, 189)",
          "size": 10
         },
         "mode": "markers",
         "name": "2016-07-05 03:19 (Jupiter)",
         "type": "scatter",
         "uid": "e48dc903-b917-49c8-a706-c7ce596edc7a",
         "x": {
          "dtype": "float64",
          "shape": [
           1
          ]
         },
         "y": {
          "dtype": "float64",
          "shape": [
           1
          ]
         }
        }
       ],
       "_js2py_restyle": {},
       "_js2py_update": {},
       "_last_layout_edit_id": 9,
       "_last_trace_edit_id": 8,
       "_layout": {
        "autosize": true,
        "shapes": [
         {
          "fillcolor": "#ffcc00",
          "line": {
           "color": "#ffcc00"
          },
          "opacity": 1,
          "type": "circle",
          "x0": -21895056.19935296,
          "x1": 21895056.19935296,
          "xref": "x",
          "y0": -21895056.19935296,
          "y1": 21895056.19935296,
          "yref": "y"
         }
        ],
        "template": {},
        "xaxis": {
         "constrain": "domain",
         "range": [
          -338466685.2924416,
          657491133.358487
         ],
         "title": {
          "text": "x (km)"
         }
        },
        "yaxis": {
         "range": [
          -198179496.92137635,
          926272988.6118819
         ],
         "scaleanchor": "x",
         "title": {
          "text": "y (km)"
         }
        }
       },
       "_py2js_animate": {},
       "_py2js_deleteTraces": {},
       "_py2js_moveTraces": {},
       "_py2js_removeLayoutProps": {},
       "_py2js_removeTraceProps": {},
       "_py2js_restyle": {},
       "_view_count": 0
      }
     }
    },
    "version_major": 2,
    "version_minor": 0
   }
  }
 },
 "nbformat": 4,
 "nbformat_minor": 1
}
