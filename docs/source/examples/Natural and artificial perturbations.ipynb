{
 "cells": [
  {
   "cell_type": "code",
   "execution_count": 1,
   "metadata": {},
   "outputs": [
    {
     "data": {
      "text/html": [
       "<script>requirejs.config({paths: { 'plotly': ['https://cdn.plot.ly/plotly-latest.min']},});if(!window.Plotly) {{require(['plotly'],function(plotly) {window.Plotly=plotly;});}}</script>"
      ],
      "text/vnd.plotly.v1+html": [
       "<script>requirejs.config({paths: { 'plotly': ['https://cdn.plot.ly/plotly-latest.min']},});if(!window.Plotly) {{require(['plotly'],function(plotly) {window.Plotly=plotly;});}}</script>"
      ]
     },
     "metadata": {},
     "output_type": "display_data"
    }
   ],
   "source": [
    "# Temporary hack, see https://github.com/poliastro/poliastro/issues/281\n",
    "from IPython.display import HTML\n",
    "HTML('<script type=\"text/javascript\" src=\"https://cdnjs.cloudflare.com/ajax/libs/require.js/2.1.10/require.min.js\"></script>')\n",
    "\n",
    "import numpy as np\n",
    "\n",
    "from plotly.offline import init_notebook_mode\n",
    "init_notebook_mode(connected=True)"
   ]
  },
  {
   "cell_type": "code",
   "execution_count": 2,
   "metadata": {},
   "outputs": [],
   "source": [
    "import matplotlib.pyplot as plt\n",
    "%matplotlib inline\n",
    "import functools\n",
    "\n",
    "import numpy as np\n",
    "from astropy import units as u\n",
    "from astropy.time import Time\n",
    "from astropy.coordinates import solar_system_ephemeris\n",
    "\n",
    "from poliastro.twobody.propagation import cowell\n",
    "from poliastro.ephem import build_ephem_interpolant\n",
    "\n",
    "from poliastro.core.util import norm\n",
    "from poliastro.core.perturbations import (\n",
    "    atmospheric_drag, third_body\n",
    ")\n",
    "from poliastro.bodies import Earth, Moon\n",
    "from poliastro.twobody import Orbit\n",
    "from poliastro.plotting import OrbitPlotter, plot, OrbitPlotter3D"
   ]
  },
  {
   "cell_type": "markdown",
   "metadata": {},
   "source": [
    "### Atmospheric drag ###\n",
    "The poliastro package now has several commonly used natural perturbations. One of them is atmospheric drag! See how one can monitor decay of the near-Earth orbit over time using our new module poliastro.twobody.perturbations!"
   ]
  },
  {
   "cell_type": "code",
   "execution_count": 3,
   "metadata": {},
   "outputs": [],
   "source": [
    "R = Earth.R.to(u.km).value\n",
    "k = Earth.k.to(u.km**3 / u.s**2).value\n",
    "\n",
    "orbit = Orbit.circular(Earth, 250 * u.km)\n",
    "\n",
    "# parameters of a body\n",
    "C_D = 2.2  # dimentionless (any value would do)\n",
    "A = ((np.pi / 4.0) * (u.m**2)).to(u.km**2).value  # km^2\n",
    "m = 100  # kg\n",
    "B = C_D * A / m\n",
    "\n",
    "# parameters of the atmosphere\n",
    "rho0 = Earth.rho0.to(u.kg / u.km**3).value  # kg/km^3\n",
    "H0 = Earth.H0.to(u.km).value\n",
    "tof = 100000  # s\n",
    "plot_times = np.linspace(0, tof, 2000)\n",
    "rr, vv = cowell(orbit, plot_times, ad=atmospheric_drag, R=R, C_D=C_D, A=A, m=m, H0=H0, rho0=rho0)"
   ]
  },
  {
   "cell_type": "code",
   "execution_count": 4,
   "metadata": {},
   "outputs": [
    {
     "data": {
      "text/plain": [
       "[<matplotlib.lines.Line2D at 0x7f44c0394da0>]"
      ]
     },
     "execution_count": 4,
     "metadata": {},
     "output_type": "execute_result"
    },
    {
     "data": {
      "image/png": "[encoded data removed]",
      "text/plain": [
       "<matplotlib.figure.Figure at 0x7f44d8d2dd68>"
      ]
     },
     "metadata": {},
     "output_type": "display_data"
    }
   ],
   "source": [
    "plt.ylabel('h(t), km')\n",
    "plt.xlabel('t, s')\n",
    "plt.plot(plot_times, [np.sqrt(np.sum(ri ** 2)) - R for ri in rr])"
   ]
  },
  {
   "cell_type": "markdown",
   "metadata": {},
   "source": [
    "### 3rd body ###\n",
    "Apart from time-independent perturbations such as atmospheric drag, J2/J3, we have time-dependend perturbations. Lets's see how Moon changes the orbit of GEO satellite over time!"
   ]
  },
  {
   "cell_type": "code",
   "execution_count": 5,
   "metadata": {},
   "outputs": [],
   "source": [
    "moon_geo = {'body': Moon, 'tof': 60, 'raan': 6.0 * u.deg, 'argp': -11.0 * u.deg, 'inc': 6.5 * 1e-3 * u.deg,\n",
    "            'orbit': [42164.0 * u.km, 0.0001 * u.one, 1 * u.deg, 0.0 * u.deg, 0.0 * u.deg, 0.0 * u.rad],\n",
    "            'period': 28}"
   ]
  },
  {
   "cell_type": "code",
   "execution_count": null,
   "metadata": {},
   "outputs": [],
   "source": [
    "body = moon_geo['body']\n",
    "# database keeping positions of bodies in Solar system over time\n",
    "solar_system_ephemeris.set('de432s')\n",
    "\n",
    "j_date = 2454283.0\n",
    "tof = (moon_geo['tof'] * u.day).to(u.s).value\n",
    "# create interpolant of 3rd body coordinates (calling in on every iteration will be just too slow)\n",
    "body_r = build_ephem_interpolant(body, moon_geo['period'], (j_date, j_date + moon_geo['tof']), rtol=1e-2)\n",
    "\n",
    "epoch = Time(j_date, format='jd', scale='tdb')\n",
    "initial = Orbit.from_classical(Earth, *moon_geo['orbit'], epoch=epoch)\n",
    "\n",
    "cowell_with_3rdbody = functools.partial(cowell, rtol=1e-6, ad=third_body,\n",
    "              k_third=400 * body.k.to(u.km**3 / u.s**2).value, third_body=body_r)\n",
    "\n",
    "time_values = Time((np.linspace(0, tof, 1000) * u.s).to(u.day).value + j_date, format='jd', scale='tdb')\n",
    "_, rr = initial.sample(time_values, method=cowell_with_3rdbody)"
   ]
  },
  {
   "cell_type": "code",
   "execution_count": null,
   "metadata": {},
   "outputs": [],
   "source": [
    "frame = OrbitPlotter3D()\n",
    "\n",
    "frame.set_attractor(Earth)\n",
    "frame.plot_trajectory(rr, label='orbit influenced by Moon')\n",
    "frame.show()"
   ]
  },
  {
   "cell_type": "markdown",
   "metadata": {},
   "source": [
    "### Thrusts ###\n",
    "Apart from natural perturbations, there are artificial thrusts aimed at intentional change of orbit parameters. One of such changes is simultaineous change of eccenricy and inclination."
   ]
  },
  {
   "cell_type": "code",
   "execution_count": null,
   "metadata": {},
   "outputs": [],
   "source": [
    "from poliastro.twobody.thrust import change_inc_ecc\n",
    "\n",
    "ecc_0, ecc_f = 0.4, 0.0\n",
    "a = 42164  # km\n",
    "inc_0 = 0.0  # rad, baseline\n",
    "inc_f = (20.0 * u.deg).to(u.rad).value  # rad\n",
    "argp = 0.0  # rad, the method is efficient for 0 and 180\n",
    "f = 2.4e-6  # km / s2\n",
    "\n",
    "k = Earth.k.to(u.km**3 / u.s**2).value\n",
    "s0 = Orbit.from_classical(\n",
    "    Earth,\n",
    "    a * u.km, ecc_0 * u.one, inc_0 * u.deg,\n",
    "    0 * u.deg, argp * u.deg, 0 * u.deg,\n",
    "    epoch=Time(0, format='jd', scale='tdb')\n",
    ")\n",
    "    \n",
    "a_d, _, _, t_f = change_inc_ecc(s0, ecc_f, inc_f, f)\n",
    "\n",
    "cowell_with_ad = functools.partial(cowell, rtol=1e-6, ad=a_d)\n",
    "\n",
    "time_values = Time((np.linspace(0, t_f, 1000) * u.s).to(u.day).value, format='jd', scale='tdb')\n",
    "_, rr = s0.sample(time_values, method=cowell_with_ad)"
   ]
  },
  {
   "cell_type": "code",
   "execution_count": null,
   "metadata": {},
   "outputs": [],
   "source": [
    "frame = OrbitPlotter3D()\n",
    "\n",
    "frame.set_attractor(Earth)\n",
    "frame.plot_trajectory(rr, label='orbit with artificial thrust')\n",
    "frame.show()"
   ]
  }
 ],
 "metadata": {
  "kernelspec": {
   "display_name": "Python 3",
   "language": "python",
   "name": "python3"
  },
  "language_info": {
   "codemirror_mode": {
    "name": "ipython",
    "version": 3
   },
   "file_extension": ".py",
   "mimetype": "text/x-python",
   "name": "python",
   "nbconvert_exporter": "python",
   "pygments_lexer": "ipython3",
   "version": "3.6.4"
  }
 },
 "nbformat": 4,
 "nbformat_minor": 2
}
