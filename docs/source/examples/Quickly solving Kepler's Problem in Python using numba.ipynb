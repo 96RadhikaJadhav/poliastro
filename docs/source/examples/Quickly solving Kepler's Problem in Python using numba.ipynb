{
 "cells": [
  {
   "cell_type": "markdown",
   "metadata": {},
   "source": [
    "# Quickly solving Kepler's Problem in Python using numba"
   ]
  },
  {
   "cell_type": "markdown",
   "metadata": {},
   "source": [
    "## Introduction\n",
    "\n",
    "*In this notebook we will prove how using **numba** we can achieve almost native performance using solely the Python programming language. We will implement an algorithm to solve Kepler's problem running a standard Newton-Raphson iteration on the Kepler's equation, hence following the approach of Bate & Mueller and Vallado. We will run benchmarks against the Vallado Fortran version, available on the Internet and wrapped in poliastro 0.2.*\n",
    "\n",
    "**Author**: Juan Luis Cano Rodríguez <juanlu@pybonacci.org> (<a href=\"http://es.linkedin.com/in/juanluiscanor/en\">LinkedIn</a>)"
   ]
  },
  {
   "cell_type": "markdown",
   "metadata": {},
   "source": [
    "<div class=\"alert alert-info\">For executing this notebook you will need to use the branch `idea-numba` of the poliastro repository: https://github.com/Pybonacci/poliastro/tree/idea-numba</div>"
   ]
  },
  {
   "cell_type": "markdown",
   "metadata": {},
   "source": [
    "## Fortran version"
   ]
  },
  {
   "cell_type": "code",
   "execution_count": 1,
   "metadata": {
    "scrolled": true
   },
   "outputs": [],
   "source": [
    "import numpy as np\n",
    "from astropy import units as u\n",
    "\n",
    "from poliastro.bodies import Earth\n",
    "from poliastro.twobody import State, propagation"
   ]
  },
  {
   "cell_type": "code",
   "execution_count": 2,
   "metadata": {},
   "outputs": [],
   "source": [
    "k = Earth.k\n",
    "r0 = [1131.340, -2282.343, 6672.423] * u.km\n",
    "v0 = [-5.64305, 4.30333, 2.42879] * u.km / u.s\n",
    "tof = 40 * u.min"
   ]
  },
  {
   "cell_type": "code",
   "execution_count": 3,
   "metadata": {},
   "outputs": [
    {
     "data": {
      "text/latex": [
       "$[1131.34,~-2282.343,~6672.423] \\; \\mathrm{km}$"
      ],
      "text/plain": [
       "<Quantity [ 1131.34 ,-2282.343, 6672.423] km>"
      ]
     },
     "execution_count": 3,
     "metadata": {},
     "output_type": "execute_result"
    }
   ],
   "source": [
    "r0"
   ]
  },
  {
   "cell_type": "code",
   "execution_count": 4,
   "metadata": {},
   "outputs": [
    {
     "data": {
      "text/latex": [
       "$[-5.64305,~4.30333,~2.42879] \\; \\mathrm{\\frac{km}{s}}$"
      ],
      "text/plain": [
       "<Quantity [-5.64305, 4.30333, 2.42879] km / s>"
      ]
     },
     "execution_count": 4,
     "metadata": {},
     "output_type": "execute_result"
    }
   ],
   "source": [
    "v0"
   ]
  },
  {
   "cell_type": "code",
   "execution_count": 5,
   "metadata": {},
   "outputs": [
    {
     "data": {
      "text/latex": [
       "$398600 \\; \\mathrm{\\frac{km^{3}}{s^{2}}}$"
      ],
      "text/plain": [
       "<Quantity 398600.0 km3 / s2>"
      ]
     },
     "execution_count": 5,
     "metadata": {},
     "output_type": "execute_result"
    }
   ],
   "source": [
    "k"
   ]
  },
  {
   "cell_type": "code",
   "execution_count": 6,
   "metadata": {},
   "outputs": [
    {
     "data": {
      "text/latex": [
       "$40 \\; \\mathrm{min}$"
      ],
      "text/plain": [
       "<Quantity 40.0 min>"
      ]
     },
     "execution_count": 6,
     "metadata": {},
     "output_type": "execute_result"
    }
   ],
   "source": [
    "tof"
   ]
  },
  {
   "cell_type": "code",
   "execution_count": 7,
   "metadata": {},
   "outputs": [],
   "source": [
    "r, v = propagation.kepler(k.to(u.km**3 / u.s**2).value,\n",
    "                          r0.to(u.km).value,\n",
    "                          v0.to(u.km / u.s).value,\n",
    "                          tof.to(u.s).value)\n",
    "r *= u.km\n",
    "v *= u.km / u.s"
   ]
  },
  {
   "cell_type": "code",
   "execution_count": 8,
   "metadata": {},
   "outputs": [
    {
     "data": {
      "text/latex": [
       "$[-4219.7762,~4363.0457,~-3958.7497] \\; \\mathrm{km}$"
      ],
      "text/plain": [
       "<Quantity [-4219.77617109, 4363.04569716,-3958.74972246] km>"
      ]
     },
     "execution_count": 8,
     "metadata": {},
     "output_type": "execute_result"
    }
   ],
   "source": [
    "r"
   ]
  },
  {
   "cell_type": "code",
   "execution_count": 9,
   "metadata": {},
   "outputs": [
    {
     "data": {
      "text/latex": [
       "$[3.6898377,~-1.9167093,~-6.1125185] \\; \\mathrm{\\frac{km}{s}}$"
      ],
      "text/plain": [
       "<Quantity [ 3.68983773,-1.91670933,-6.11251847] km / s>"
      ]
     },
     "execution_count": 9,
     "metadata": {},
     "output_type": "execute_result"
    }
   ],
   "source": [
    "v"
   ]
  },
  {
   "cell_type": "markdown",
   "metadata": {},
   "source": [
    "Prepare the inputs to measure performance:"
   ]
  },
  {
   "cell_type": "code",
   "execution_count": 10,
   "metadata": {
    "collapsed": true
   },
   "outputs": [],
   "source": [
    "k_ = k.to(u.km**3 / u.s**2).value\n",
    "r0_ = r0.to(u.km).value\n",
    "v0_ = v0.to(u.km / u.s).value\n",
    "tof_ = tof.to(u.s).value"
   ]
  },
  {
   "cell_type": "code",
   "execution_count": 11,
   "metadata": {},
   "outputs": [
    {
     "name": "stdout",
     "output_type": "stream",
     "text": [
      "The slowest run took 9.87 times longer than the fastest. This could mean that an intermediate result is being cached \n",
      "100000 loops, best of 3: 10.5 µs per loop\n"
     ]
    }
   ],
   "source": [
    "%timeit propagation.kepler(k_, r0_, v0_, tof_)"
   ]
  },
  {
   "cell_type": "markdown",
   "metadata": {},
   "source": [
    "## Pure Python version\n",
    "\n",
    "Now we write our own implementation in pure Python. We will use numbified $c_2$ and $c_3$ functions for the moment."
   ]
  },
  {
   "cell_type": "code",
   "execution_count": 12,
   "metadata": {},
   "outputs": [],
   "source": [
    "from poliastro.stumpff import c2, c3\n",
    "\n",
    "def kepler_py(k, r0, v0, tof):\n",
    "    # Prepare input\n",
    "    r0 = np.asarray(r0).astype(np.float)\n",
    "    v0 = np.asarray(v0).astype(np.float)\n",
    "    tof = float(tof)\n",
    "    assert r0.shape == (3,)\n",
    "    assert v0.shape == (3,)\n",
    "\n",
    "    # Cache some results\n",
    "    dot_r0v0 = np.dot(r0, v0)\n",
    "    norm_r0 = np.linalg.norm(r0)\n",
    "    sqrt_mu = np.sqrt(k)\n",
    "    alpha = -np.dot(v0, v0) / k + 2 / norm_r0\n",
    "\n",
    "    # Newton-Raphson iteration on the Kepler equation\n",
    "    # Conservative initial guess\n",
    "    xi = sqrt_mu * tof / norm_r0\n",
    "    numiter = 50\n",
    "    count = 0\n",
    "    while count < numiter:\n",
    "        psi = xi**2 * alpha\n",
    "        norm_r = xi**2 * c2(psi) + dot_r0v0 / sqrt_mu * xi * (1 - psi * c3(psi)) + norm_r0 * (1 - psi * c2(psi))\n",
    "        xi_new = xi + (sqrt_mu * tof - xi**3 * c3(psi) - dot_r0v0 / sqrt_mu * xi**2 * c2(psi) -\n",
    "                       norm_r0 * xi * (1 - psi * c3(psi))) / norm_r\n",
    "        err = np.abs((xi_new - xi) / xi_new)\n",
    "        if err < 1e-10:\n",
    "            break\n",
    "        else:\n",
    "            xi = xi_new\n",
    "            count += 1\n",
    "    else:\n",
    "        print(\"No convergence\")\n",
    "        return\n",
    "\n",
    "    # Compute Lagrange coefficients\n",
    "    f = 1 - xi**2 / norm_r0 * c2(psi)\n",
    "    g = tof - xi**3 / sqrt_mu * c3(psi)\n",
    "\n",
    "    gdot = 1 - xi**2 / norm_r * c2(psi)\n",
    "    fdot = sqrt_mu / (norm_r * norm_r0) * xi * (psi * c3(psi) - 1)\n",
    "\n",
    "    # Return position and velocity vectors\n",
    "    r = f * r0 + g * v0\n",
    "    v = fdot * r0 + gdot * v0\n",
    "\n",
    "    assert np.abs(f * gdot - fdot * g - 1) < 1e-6\n",
    "\n",
    "    return r, v"
   ]
  },
  {
   "cell_type": "code",
   "execution_count": 13,
   "metadata": {},
   "outputs": [],
   "source": [
    "r_py, v_py = kepler_py(k_, r0_, v0_, tof_)\n",
    "r_py *= u.km\n",
    "v_py *= u.km / u.s"
   ]
  },
  {
   "cell_type": "code",
   "execution_count": 14,
   "metadata": {},
   "outputs": [],
   "source": [
    "np.testing.assert_array_almost_equal(r_py.value, r.value)\n",
    "np.testing.assert_array_almost_equal(v_py.value, v.value)"
   ]
  },
  {
   "cell_type": "code",
   "execution_count": 15,
   "metadata": {},
   "outputs": [
    {
     "data": {
      "text/latex": [
       "$[-4219.7762,~4363.0457,~-3958.7497] \\; \\mathrm{km}$"
      ],
      "text/plain": [
       "<Quantity [-4219.77617109, 4363.04569716,-3958.74972246] km>"
      ]
     },
     "execution_count": 15,
     "metadata": {},
     "output_type": "execute_result"
    }
   ],
   "source": [
    "r_py"
   ]
  },
  {
   "cell_type": "code",
   "execution_count": 16,
   "metadata": {},
   "outputs": [
    {
     "name": "stdout",
     "output_type": "stream",
     "text": [
      "The slowest run took 7.80 times longer than the fastest. This could mean that an intermediate result is being cached \n",
      "10000 loops, best of 3: 69.9 µs per loop\n"
     ]
    }
   ],
   "source": [
    "%timeit kepler_py(k_, r0_, v0_, tof_)"
   ]
  },
  {
   "cell_type": "code",
   "execution_count": 17,
   "metadata": {},
   "outputs": [
    {
     "name": "stdout",
     "output_type": "stream",
     "text": [
      "100000 loops, best of 3: 11 µs per loop\n"
     ]
    }
   ],
   "source": [
    "%timeit propagation.kepler(k_, r0_, v0_, tof_)"
   ]
  },
  {
   "cell_type": "markdown",
   "metadata": {},
   "source": [
    "Our pure Python, non optimized version **is not *that* bad**! It stays in the same order of magnitude as the Fortran version for elliptic orbits at least. Let us see how can we improve the results."
   ]
  },
  {
   "cell_type": "code",
   "execution_count": 18,
   "metadata": {},
   "outputs": [],
   "source": [
    "%load_ext line_profiler"
   ]
  },
  {
   "cell_type": "code",
   "execution_count": 19,
   "metadata": {},
   "outputs": [],
   "source": [
    "%lprun -f kepler_py kepler_py(k_, r0_, v0_, tof_)"
   ]
  },
  {
   "cell_type": "markdown",
   "metadata": {},
   "source": [
    "According to line_profiler, 13 % of the time is spent in the two `asarray` calls and 14.5 % in the single `norm` computation."
   ]
  },
  {
   "cell_type": "code",
   "execution_count": 20,
   "metadata": {},
   "outputs": [
    {
     "name": "stdout",
     "output_type": "stream",
     "text": [
      "The slowest run took 13.55 times longer than the fastest. This could mean that an intermediate result is being cached \n",
      "100000 loops, best of 3: 7.96 µs per loop\n"
     ]
    }
   ],
   "source": [
    "%timeit np.linalg.norm(r0_)"
   ]
  },
  {
   "cell_type": "code",
   "execution_count": 21,
   "metadata": {},
   "outputs": [
    {
     "name": "stdout",
     "output_type": "stream",
     "text": [
      "The slowest run took 14.04 times longer than the fastest. This could mean that an intermediate result is being cached \n",
      "100000 loops, best of 3: 2.23 µs per loop\n"
     ]
    }
   ],
   "source": [
    "%timeit np.sqrt(np.dot(r0_, r0_))"
   ]
  },
  {
   "cell_type": "markdown",
   "metadata": {},
   "source": [
    "We can try and replace `linalg.norm` with the square root of the dot product. We can go further and assume the input are float arrays to save some more microseconds."
   ]
  },
  {
   "cell_type": "code",
   "execution_count": 22,
   "metadata": {
    "collapsed": true
   },
   "outputs": [],
   "source": [
    "def kepler_py2(k, r0, v0, tof):\n",
    "    # Algorithm parameters\n",
    "    rtol = 1e-10\n",
    "    numiter = 50\n",
    "    \n",
    "    # Cache some results\n",
    "    dot_r0v0 = np.dot(r0, v0)\n",
    "    norm_r0 = np.sqrt(np.dot(r0, r0))\n",
    "    sqrt_mu = np.sqrt(k)\n",
    "    alpha = -np.dot(v0, v0) / k + 2 / norm_r0\n",
    "\n",
    "    # Newton-Raphson iteration on the Kepler equation\n",
    "    # Conservative initial guess\n",
    "    xi = sqrt_mu * tof / norm_r0\n",
    "    count = 0\n",
    "    while count < numiter:\n",
    "        psi = xi * xi * alpha\n",
    "        c2_psi = c2(psi)\n",
    "        c3_psi = c3(psi)\n",
    "        norm_r = xi * xi * c2_psi + dot_r0v0 / sqrt_mu * xi * (1 - psi * c3_psi) + norm_r0 * (1 - psi * c2_psi)\n",
    "        xi_new = xi + (sqrt_mu * tof - xi * xi * xi * c3_psi - dot_r0v0 / sqrt_mu * xi * xi * c2_psi -\n",
    "                       norm_r0 * xi * (1 - psi * c3_psi)) / norm_r\n",
    "        if abs((xi_new - xi) / xi_new) < rtol:\n",
    "            break\n",
    "        else:\n",
    "            xi = xi_new\n",
    "            count += 1\n",
    "    else:\n",
    "        raise RuntimeError(\"Convergence could not be achieved under \"\n",
    "                           \"%d iterations\" % numiter)\n",
    "\n",
    "    # Compute Lagrange coefficients\n",
    "    f = 1 - xi**2 / norm_r0 * c2_psi\n",
    "    g = tof - xi**3 / sqrt_mu * c3_psi\n",
    "\n",
    "    gdot = 1 - xi**2 / norm_r * c2_psi\n",
    "    fdot = sqrt_mu / (norm_r * norm_r0) * xi * (psi * c3_psi - 1)\n",
    "\n",
    "    # Return position and velocity vectors\n",
    "    r = f * r0 + g * v0\n",
    "    v = fdot * r0 + gdot * v0\n",
    "\n",
    "    assert np.abs(f * gdot - fdot * g - 1) < rtol\n",
    "\n",
    "    return r, v"
   ]
  },
  {
   "cell_type": "code",
   "execution_count": 23,
   "metadata": {
    "collapsed": true
   },
   "outputs": [],
   "source": [
    "r_py2, v_py2 = kepler_py2(k_, r0_, v0_, tof_)\n",
    "r_py2 *= u.km\n",
    "v_py2 *= u.km / u.s"
   ]
  },
  {
   "cell_type": "code",
   "execution_count": 24,
   "metadata": {},
   "outputs": [],
   "source": [
    "np.testing.assert_array_almost_equal(r_py2.value, r.value)\n",
    "np.testing.assert_array_almost_equal(v_py2.value, v.value)"
   ]
  },
  {
   "cell_type": "code",
   "execution_count": 25,
   "metadata": {
    "scrolled": true
   },
   "outputs": [
    {
     "name": "stdout",
     "output_type": "stream",
     "text": [
      "10000 loops, best of 3: 36.1 µs per loop\n"
     ]
    }
   ],
   "source": [
    "%timeit kepler_py2(k_, r0_, v0_, tof_)"
   ]
  },
  {
   "cell_type": "markdown",
   "metadata": {},
   "source": [
    "## Optimized Python + numba version\n",
    "\n",
    "We cut the time in half! We still have another bullet: numba. This will require some work though, because we will have to provide some work arrays from outside to use the functions `np.abs` and `np.dot`, and in particular the latest one is not available. On the other hand, we will have to provide a better initial guess to achieve reasonable speed for hyperbolic orbits too."
   ]
  },
  {
   "cell_type": "code",
   "execution_count": 26,
   "metadata": {},
   "outputs": [],
   "source": [
    "import numba\n",
    "\n",
    "def kepler_numba(k, r0, v0, tof, numiter=35, rtol=1e-10):\n",
    "    \"\"\"Propagates Keplerian orbit.\n",
    "\n",
    "    Parameters\n",
    "    ----------\n",
    "    k : float\n",
    "        Gravitational constant of main attractor (km^3 / s^2).\n",
    "    r0 : array\n",
    "        Initial position (km).\n",
    "    v0 : array\n",
    "        Initial velocity (km).\n",
    "    tof : float\n",
    "        Time of flight (s).\n",
    "    numiter : int, optional\n",
    "        Maximum number of iterations, default to 35.\n",
    "    rtol : float, optional\n",
    "        Maximum relative error permitted, default to 1e-10.\n",
    "\n",
    "    Raises\n",
    "    ------\n",
    "    RuntimeError\n",
    "        If the algorithm didn't converge.\n",
    "\n",
    "    Notes\n",
    "    -----\n",
    "    This algorithm is based on Vallado implementation, and does basic Newton\n",
    "    iteration on the Kepler equation written using universal variables. Battin\n",
    "    claims his algorithm uses the same amount of memory but is between 40 %\n",
    "    and 85 % faster.\n",
    "\n",
    "    \"\"\"\n",
    "    # Compute Lagrange coefficients\n",
    "    try:\n",
    "        f, g, fdot, gdot = _kepler(k, r0, v0, tof, numiter, rtol)\n",
    "    except RuntimeError:\n",
    "        raise RuntimeError(\"Convergence could not be achieved under \"\n",
    "                           \"%d iterations\" % numiter)\n",
    "\n",
    "    assert np.abs(f * gdot - fdot * g - 1) < 1e-5  # Fixed tolerance\n",
    "\n",
    "    # Return position and velocity vectors\n",
    "    r = f * r0 + g * v0\n",
    "    v = fdot * r0 + gdot * v0\n",
    "\n",
    "    return r, v\n",
    "\n",
    "@numba.njit('f8(f8[:], f8[:])')\n",
    "def dot(u, v):\n",
    "    dp = 0.0\n",
    "    for ii in range(u.shape[0]):\n",
    "        dp += u[ii] * v[ii]\n",
    "    return dp\n",
    "\n",
    "@numba.njit\n",
    "def _kepler(k, r0, v0, tof, numiter, rtol):\n",
    "    # Cache some results\n",
    "    dot_r0v0 = dot(r0, v0)\n",
    "    norm_r0 = dot(r0, r0) ** .5\n",
    "    sqrt_mu = k**.5\n",
    "    alpha = -dot(v0, v0) / k + 2 / norm_r0\n",
    "\n",
    "    # First guess\n",
    "    if alpha > 0:\n",
    "        # Elliptic orbit\n",
    "        xi_new = sqrt_mu * tof * alpha\n",
    "    elif alpha < 0:\n",
    "        # Hyperbolic orbit\n",
    "        xi_new = (np.sign(tof) * (-1 / alpha)**.5 *\n",
    "                  np.log((-2 * k * alpha * tof) / (dot_r0v0 + np.sign(tof) * np.sqrt(-k / alpha) * (1 - norm_r0 * alpha))))\n",
    "\n",
    "    # Newton-Raphson iteration on the Kepler equation\n",
    "    count = 0\n",
    "    while count < numiter:\n",
    "        xi = xi_new\n",
    "        psi = xi * xi * alpha\n",
    "        c2_psi = c2(psi)\n",
    "        c3_psi = c3(psi)\n",
    "        norm_r = xi * xi * c2_psi + dot_r0v0 / sqrt_mu * xi * (1 - psi * c3_psi) + norm_r0 * (1 - psi * c2_psi)\n",
    "        xi_new = xi + (sqrt_mu * tof - xi * xi * xi * c3_psi - dot_r0v0 / sqrt_mu * xi * xi * c2_psi -\n",
    "                       norm_r0 * xi * (1 - psi * c3_psi)) / norm_r\n",
    "        if abs((xi_new - xi) / xi_new) < rtol:\n",
    "            break\n",
    "        else:\n",
    "            count += 1\n",
    "    else:\n",
    "        raise RuntimeError\n",
    "\n",
    "    # Compute Lagrange coefficients\n",
    "    f = 1 - xi**2 / norm_r0 * c2_psi\n",
    "    g = tof - xi**3 / sqrt_mu * c3_psi\n",
    "\n",
    "    gdot = 1 - xi**2 / norm_r * c2_psi\n",
    "    fdot = sqrt_mu / (norm_r * norm_r0) * xi * (psi * c3_psi - 1)\n",
    "\n",
    "    return f, g, fdot, gdot"
   ]
  },
  {
   "cell_type": "markdown",
   "metadata": {},
   "source": [
    "And we provide a Python version of the final function for benchmarking too:"
   ]
  },
  {
   "cell_type": "code",
   "execution_count": 39,
   "metadata": {
    "collapsed": true
   },
   "outputs": [],
   "source": [
    "def kepler_python_final(k, r0, v0, tof, numiter=35, rtol=1e-10):\n",
    "    # Cache some results\n",
    "    dot_r0v0 = np.dot(r0, v0)\n",
    "    norm_r0 = np.dot(r0, r0) ** .5\n",
    "    sqrt_mu = k**.5\n",
    "    alpha = -np.dot(v0, v0) / k + 2 / norm_r0\n",
    "\n",
    "    # First guess\n",
    "    if alpha > 0:\n",
    "        # Elliptic orbit\n",
    "        xi_new = sqrt_mu * tof * alpha\n",
    "    elif alpha < 0:\n",
    "        # Hyperbolic orbit\n",
    "        xi_new = (np.sign(tof) * (-1 / alpha)**.5 *\n",
    "                  np.log((-2 * k * alpha * tof) / (dot_r0v0 + np.sign(tof) * np.sqrt(-k / alpha) * (1 - norm_r0 * alpha))))\n",
    "\n",
    "    # Newton-Raphson iteration on the Kepler equation\n",
    "    count = 0\n",
    "    while count < numiter:\n",
    "        xi = xi_new\n",
    "        psi = xi * xi * alpha\n",
    "        c2_psi = c2(psi)\n",
    "        c3_psi = c3(psi)\n",
    "        norm_r = xi * xi * c2_psi + dot_r0v0 / sqrt_mu * xi * (1 - psi * c3_psi) + norm_r0 * (1 - psi * c2_psi)\n",
    "        xi_new = xi + (sqrt_mu * tof - xi * xi * xi * c3_psi - dot_r0v0 / sqrt_mu * xi * xi * c2_psi -\n",
    "                       norm_r0 * xi * (1 - psi * c3_psi)) / norm_r\n",
    "        if abs((xi_new - xi) / xi_new) < rtol:\n",
    "            break\n",
    "        else:\n",
    "            count += 1\n",
    "    else:\n",
    "        raise RuntimeError(\"Convergence could not be achieved under \"\n",
    "                           \"%d iterations\" % numiter)\n",
    "\n",
    "    # Compute Lagrange coefficients\n",
    "    f = 1 - xi**2 / norm_r0 * c2_psi\n",
    "    g = tof - xi**3 / sqrt_mu * c3_psi\n",
    "\n",
    "    gdot = 1 - xi**2 / norm_r * c2_psi\n",
    "    fdot = sqrt_mu / (norm_r * norm_r0) * xi * (psi * c3_psi - 1)\n",
    "\n",
    "    assert np.abs(f * gdot - fdot * g - 1) < 1e-5  # Fixed tolerance\n",
    "\n",
    "    # Return position and velocity vectors\n",
    "    r = f * r0 + g * v0\n",
    "    v = fdot * r0 + gdot * v0\n",
    "\n",
    "    return r, v"
   ]
  },
  {
   "cell_type": "code",
   "execution_count": 27,
   "metadata": {},
   "outputs": [],
   "source": [
    "r_numba, v_numba = kepler_numba(k_, r0_, v0_, tof_)\n",
    "r_numba *= u.km\n",
    "v_numba *= u.km / u.s"
   ]
  },
  {
   "cell_type": "code",
   "execution_count": 28,
   "metadata": {},
   "outputs": [],
   "source": [
    "np.testing.assert_array_almost_equal(r_numba.value, r.value)\n",
    "np.testing.assert_array_almost_equal(v_numba.value, v.value)"
   ]
  },
  {
   "cell_type": "code",
   "execution_count": 29,
   "metadata": {},
   "outputs": [
    {
     "data": {
      "text/latex": [
       "$[-4219.7762,~4363.0457,~-3958.7497] \\; \\mathrm{km}$"
      ],
      "text/plain": [
       "<Quantity [-4219.77617109, 4363.04569716,-3958.74972246] km>"
      ]
     },
     "execution_count": 29,
     "metadata": {},
     "output_type": "execute_result"
    }
   ],
   "source": [
    "r_numba"
   ]
  },
  {
   "cell_type": "code",
   "execution_count": 30,
   "metadata": {},
   "outputs": [
    {
     "data": {
      "text/latex": [
       "$[3.6898377,~-1.9167093,~-6.1125185] \\; \\mathrm{\\frac{km}{s}}$"
      ],
      "text/plain": [
       "<Quantity [ 3.68983773,-1.91670933,-6.11251847] km / s>"
      ]
     },
     "execution_count": 30,
     "metadata": {},
     "output_type": "execute_result"
    }
   ],
   "source": [
    "v_numba"
   ]
  },
  {
   "cell_type": "code",
   "execution_count": 31,
   "metadata": {},
   "outputs": [
    {
     "name": "stdout",
     "output_type": "stream",
     "text": [
      "The slowest run took 11.71 times longer than the fastest. This could mean that an intermediate result is being cached \n",
      "100000 loops, best of 3: 11.9 µs per loop\n"
     ]
    }
   ],
   "source": [
    "%timeit kepler_numba(k_, r0_, v0_, tof_)"
   ]
  },
  {
   "cell_type": "markdown",
   "metadata": {},
   "source": [
    "**We achieved a 0.9x factor with the pure Python version**: the results are promising!"
   ]
  },
  {
   "cell_type": "markdown",
   "metadata": {},
   "source": [
    "## Benchmark\n",
    "\n",
    "We will cover a range of values of eccentricity to compare both versions, plotting computation time vs time of flight."
   ]
  },
  {
   "cell_type": "code",
   "execution_count": 32,
   "metadata": {
    "collapsed": true
   },
   "outputs": [],
   "source": [
    "%matplotlib inline\n",
    "import matplotlib.pyplot as plt"
   ]
  },
  {
   "cell_type": "code",
   "execution_count": 33,
   "metadata": {
    "collapsed": true
   },
   "outputs": [],
   "source": [
    "from poliastro.twobody import State\n",
    "from poliastro.plotting import plot"
   ]
  },
  {
   "cell_type": "markdown",
   "metadata": {},
   "source": [
    "### Elliptic orbit"
   ]
  },
  {
   "cell_type": "code",
   "execution_count": 34,
   "metadata": {},
   "outputs": [
    {
     "name": "stdout",
     "output_type": "stream",
     "text": [
      "[  2400.           5531.82615614   8663.65231228  11795.47846841\n",
      "  14927.30462455  18059.13078069  21190.95693683  24322.78309297]\n"
     ]
    },
    {
     "data": {
      "text/plain": [
       "[<matplotlib.lines.Line2D at 0x7fde79020b00>,\n",
       " <matplotlib.lines.Line2D at 0x7fde78fb0748>]"
      ]
     },
     "execution_count": 34,
     "metadata": {},
     "output_type": "execute_result"
    },
    {
     "data": {
      "image/png": "[encoded data removed]",
      "text/plain": [
       "<matplotlib.figure.Figure at 0x7fde79038d30>"
      ]
     },
     "metadata": {},
     "output_type": "display_data"
    }
   ],
   "source": [
    "ss = State.from_vectors(Earth, r0, v0)\n",
    "tof_range = np.linspace(tof.to(u.s).value,\n",
    "                        (ss.period * 4).to(u.s).value,\n",
    "                        num=8)\n",
    "print(tof_range)\n",
    "plot(ss)"
   ]
  },
  {
   "cell_type": "code",
   "execution_count": 42,
   "metadata": {},
   "outputs": [
    {
     "name": "stdout",
     "output_type": "stream",
     "text": [
      "The slowest run took 4.69 times longer than the fastest. This could mean that an intermediate result is being cached \n",
      "100000 loops, best of 3: 11 µs per loop\n",
      "100000 loops, best of 3: 12.7 µs per loop\n",
      "10000 loops, best of 3: 33.8 µs per loop\n",
      "100000 loops, best of 3: 10.8 µs per loop\n",
      "100000 loops, best of 3: 12.5 µs per loop\n",
      "10000 loops, best of 3: 34 µs per loop\n",
      "100000 loops, best of 3: 11 µs per loop\n",
      "100000 loops, best of 3: 12.8 µs per loop\n",
      "10000 loops, best of 3: 34.9 µs per loop\n",
      "100000 loops, best of 3: 10.9 µs per loop\n",
      "The slowest run took 4.11 times longer than the fastest. This could mean that an intermediate result is being cached \n",
      "100000 loops, best of 3: 12.5 µs per loop\n",
      "10000 loops, best of 3: 34.1 µs per loop\n",
      "100000 loops, best of 3: 10.9 µs per loop\n",
      "The slowest run took 4.05 times longer than the fastest. This could mean that an intermediate result is being cached \n",
      "100000 loops, best of 3: 12.5 µs per loop\n",
      "10000 loops, best of 3: 33.9 µs per loop\n",
      "100000 loops, best of 3: 10.8 µs per loop\n",
      "100000 loops, best of 3: 12.3 µs per loop\n",
      "10000 loops, best of 3: 29.1 µs per loop\n",
      "100000 loops, best of 3: 11.1 µs per loop\n",
      "The slowest run took 4.12 times longer than the fastest. This could mean that an intermediate result is being cached \n",
      "100000 loops, best of 3: 12.7 µs per loop\n",
      "10000 loops, best of 3: 29.3 µs per loop\n",
      "The slowest run took 4.30 times longer than the fastest. This could mean that an intermediate result is being cached \n",
      "100000 loops, best of 3: 10.6 µs per loop\n",
      "The slowest run took 4.01 times longer than the fastest. This could mean that an intermediate result is being cached \n",
      "100000 loops, best of 3: 12.8 µs per loop\n",
      "10000 loops, best of 3: 24.7 µs per loop\n"
     ]
    }
   ],
   "source": [
    "res_fortran = []\n",
    "res_numba = []\n",
    "res_python = []\n",
    "for tof_ in tof_range:\n",
    "    timeit_res_fortran = %timeit -o propagation.kepler(k_, r0_, v0_, tof_)\n",
    "    timeit_res_numba = %timeit -o kepler_numba(k_, r0_, v0_, tof_)\n",
    "    timeit_res_python = %timeit -o kepler_python_final(k_, r0_, v0_, tof_)\n",
    "    res_fortran.append(timeit_res_fortran.best)\n",
    "    res_numba.append(timeit_res_numba.best)\n",
    "    res_python.append(timeit_res_python.best)"
   ]
  },
  {
   "cell_type": "code",
   "execution_count": 43,
   "metadata": {},
   "outputs": [
    {
     "data": {
      "image/png": "[encoded data removed]",
      "text/plain": [
       "<matplotlib.figure.Figure at 0x7fde6740f550>"
      ]
     },
     "metadata": {},
     "output_type": "display_data"
    }
   ],
   "source": [
    "plt.figure(figsize=(6, 5))\n",
    "plt.plot(tof_range, res_numba, label=\"Numba\")\n",
    "plt.plot(tof_range, res_fortran, label=\"Fortran\")\n",
    "plt.plot(tof_range, res_python, label=\"Python\")\n",
    "plt.legend(loc=4)\n",
    "plt.ylim(0)\n",
    "plt.xlabel(\"Time of flight\")\n",
    "plt.xticks(rotation=45)\n",
    "plt.ylabel(\"Computation time\")\n",
    "plt.title(\"Elliptic orbit ($e = {:.3f}$)\".format(ss.ecc))\n",
    "plt.tight_layout()"
   ]
  },
  {
   "cell_type": "markdown",
   "metadata": {},
   "source": [
    "### Moderate eccentricity elliptic orbit"
   ]
  },
  {
   "cell_type": "code",
   "execution_count": 44,
   "metadata": {},
   "outputs": [
    {
     "name": "stdout",
     "output_type": "stream",
     "text": [
      "[  2400.           7038.06111541  11676.12223083  16314.18334624\n",
      "  20952.24446165  25590.30557707  30228.36669248  34866.42780789]\n"
     ]
    },
    {
     "data": {
      "text/plain": [
       "[<matplotlib.lines.Line2D at 0x7fde672c2e10>,\n",
       " <matplotlib.lines.Line2D at 0x7fde672c9b38>]"
      ]
     },
     "execution_count": 44,
     "metadata": {},
     "output_type": "execute_result"
    },
    {
     "data": {
      "image/png": "[encoded data removed]",
      "text/plain": [
       "<matplotlib.figure.Figure at 0x7fde6733beb8>"
      ]
     },
     "metadata": {},
     "output_type": "display_data"
    }
   ],
   "source": [
    "ss = State.from_vectors(Earth, r0, v0 * 1.1)\n",
    "tof_range = np.linspace(tof.to(u.s).value,\n",
    "                        (ss.period * 4).to(u.s).value,\n",
    "                        num=8)\n",
    "print(tof_range)\n",
    "plot(ss)"
   ]
  },
  {
   "cell_type": "code",
   "execution_count": 45,
   "metadata": {},
   "outputs": [
    {
     "name": "stdout",
     "output_type": "stream",
     "text": [
      "100000 loops, best of 3: 10.8 µs per loop\n",
      "100000 loops, best of 3: 12.7 µs per loop\n",
      "10000 loops, best of 3: 40.8 µs per loop\n",
      "100000 loops, best of 3: 10.7 µs per loop\n",
      "The slowest run took 4.14 times longer than the fastest. This could mean that an intermediate result is being cached \n",
      "100000 loops, best of 3: 12.6 µs per loop\n",
      "10000 loops, best of 3: 41 µs per loop\n",
      "100000 loops, best of 3: 10.9 µs per loop\n",
      "The slowest run took 4.67 times longer than the fastest. This could mean that an intermediate result is being cached \n",
      "100000 loops, best of 3: 12.7 µs per loop\n",
      "10000 loops, best of 3: 39.2 µs per loop\n",
      "100000 loops, best of 3: 11.2 µs per loop\n",
      "The slowest run took 7.44 times longer than the fastest. This could mean that an intermediate result is being cached \n",
      "100000 loops, best of 3: 12.7 µs per loop\n",
      "10000 loops, best of 3: 41.1 µs per loop\n",
      "100000 loops, best of 3: 11.2 µs per loop\n",
      "The slowest run took 4.08 times longer than the fastest. This could mean that an intermediate result is being cached \n",
      "100000 loops, best of 3: 12.5 µs per loop\n",
      "10000 loops, best of 3: 39.3 µs per loop\n",
      "100000 loops, best of 3: 10.7 µs per loop\n",
      "The slowest run took 4.16 times longer than the fastest. This could mean that an intermediate result is being cached \n",
      "100000 loops, best of 3: 12.6 µs per loop\n",
      "10000 loops, best of 3: 39.6 µs per loop\n",
      "100000 loops, best of 3: 10.8 µs per loop\n",
      "100000 loops, best of 3: 12.4 µs per loop\n",
      "10000 loops, best of 3: 34.6 µs per loop\n",
      "100000 loops, best of 3: 10.8 µs per loop\n",
      "The slowest run took 4.05 times longer than the fastest. This could mean that an intermediate result is being cached \n",
      "100000 loops, best of 3: 12.7 µs per loop\n",
      "10000 loops, best of 3: 24.6 µs per loop\n"
     ]
    }
   ],
   "source": [
    "res_fortran = []\n",
    "res_numba = []\n",
    "res_python = []\n",
    "r0_ = ss.r.to(u.km).value\n",
    "v0_ = ss.v.to(u.km / u.s).value\n",
    "for tof_ in tof_range:\n",
    "    timeit_res_fortran = %timeit -o propagation.kepler(k_, r0_, v0_, tof_)\n",
    "    timeit_res_numba = %timeit -o kepler_numba(k_, r0_, v0_, tof_)\n",
    "    timeit_res_python = %timeit -o kepler_python_final(k_, r0_, v0_, tof_)\n",
    "    res_fortran.append(timeit_res_fortran.best)\n",
    "    res_numba.append(timeit_res_numba.best)\n",
    "    res_python.append(timeit_res_python.best)"
   ]
  },
  {
   "cell_type": "code",
   "execution_count": 47,
   "metadata": {},
   "outputs": [
    {
     "data": {
      "image/png": "[encoded data removed]",
      "text/plain": [
       "<matplotlib.figure.Figure at 0x7fde672f1198>"
      ]
     },
     "metadata": {},
     "output_type": "display_data"
    }
   ],
   "source": [
    "plt.figure(figsize=(6, 5))\n",
    "plt.plot(tof_range, res_numba, label=\"Numba\")\n",
    "plt.plot(tof_range, res_fortran, label=\"Fortran\")\n",
    "plt.plot(tof_range, res_python, label=\"Python\")\n",
    "plt.legend(loc=4)\n",
    "plt.ylim(0)\n",
    "plt.xlabel(\"Time of flight\")\n",
    "plt.xticks(rotation=45)\n",
    "plt.ylabel(\"Computation time\")\n",
    "plt.title(\"Moderate eccentricity elliptic orbit ($e = {:.3f}$)\".format(ss.ecc))\n",
    "plt.tight_layout()"
   ]
  },
  {
   "cell_type": "markdown",
   "metadata": {},
   "source": [
    "### Near-parabolic orbit"
   ]
  },
  {
   "cell_type": "code",
   "execution_count": 61,
   "metadata": {},
   "outputs": [
    {
     "name": "stdout",
     "output_type": "stream",
     "text": [
      "[   2400.           77662.41861854  152924.83723708  228187.25585562\n",
      "  303449.67447416  378712.0930927   453974.51171124  529236.93032979]\n"
     ]
    },
    {
     "data": {
      "text/plain": [
       "[<matplotlib.lines.Line2D at 0x7fde670849b0>,\n",
       " <matplotlib.lines.Line2D at 0x7fde670756d8>]"
      ]
     },
     "execution_count": 61,
     "metadata": {},
     "output_type": "execute_result"
    },
    {
     "data": {
      "image/png": "[encoded data removed]",
      "text/plain": [
       "<matplotlib.figure.Figure at 0x7fde66faf400>"
      ]
     },
     "metadata": {},
     "output_type": "display_data"
    }
   ],
   "source": [
    "ss = State.from_vectors(Earth, r0, v0 * 1.38)\n",
    "tof_range = np.linspace(tof.to(u.s).value,\n",
    "                        (ss.period * 2).to(u.s).value,\n",
    "                        num=8)\n",
    "print(tof_range)\n",
    "plot(ss)"
   ]
  },
  {
   "cell_type": "code",
   "execution_count": 62,
   "metadata": {},
   "outputs": [
    {
     "name": "stdout",
     "output_type": "stream",
     "text": [
      "The slowest run took 4.29 times longer than the fastest. This could mean that an intermediate result is being cached \n",
      "100000 loops, best of 3: 11.3 µs per loop\n",
      "100000 loops, best of 3: 18.7 µs per loop\n",
      "10000 loops, best of 3: 55.6 µs per loop\n",
      "100000 loops, best of 3: 11 µs per loop\n",
      "The slowest run took 6.14 times longer than the fastest. This could mean that an intermediate result is being cached \n",
      "100000 loops, best of 3: 13 µs per loop\n",
      "10000 loops, best of 3: 44.6 µs per loop\n",
      "100000 loops, best of 3: 11 µs per loop\n",
      "The slowest run took 4.01 times longer than the fastest. This could mean that an intermediate result is being cached \n",
      "100000 loops, best of 3: 12.5 µs per loop\n",
      "10000 loops, best of 3: 39.6 µs per loop\n",
      "100000 loops, best of 3: 11.3 µs per loop\n",
      "The slowest run took 4.20 times longer than the fastest. This could mean that an intermediate result is being cached \n",
      "100000 loops, best of 3: 13 µs per loop\n",
      "10000 loops, best of 3: 48.9 µs per loop\n",
      "100000 loops, best of 3: 11.3 µs per loop\n",
      "The slowest run took 4.55 times longer than the fastest. This could mean that an intermediate result is being cached \n",
      "100000 loops, best of 3: 13 µs per loop\n",
      "10000 loops, best of 3: 49.9 µs per loop\n",
      "100000 loops, best of 3: 11.2 µs per loop\n",
      "The slowest run took 5.00 times longer than the fastest. This could mean that an intermediate result is being cached \n",
      "100000 loops, best of 3: 12.5 µs per loop\n",
      "10000 loops, best of 3: 38.6 µs per loop\n",
      "100000 loops, best of 3: 11.2 µs per loop\n",
      "The slowest run took 4.53 times longer than the fastest. This could mean that an intermediate result is being cached \n",
      "100000 loops, best of 3: 12.7 µs per loop\n",
      "10000 loops, best of 3: 44.1 µs per loop\n",
      "100000 loops, best of 3: 10.9 µs per loop\n",
      "The slowest run took 4.47 times longer than the fastest. This could mean that an intermediate result is being cached \n",
      "100000 loops, best of 3: 12.6 µs per loop\n",
      "10000 loops, best of 3: 25.8 µs per loop\n"
     ]
    }
   ],
   "source": [
    "res_fortran = []\n",
    "res_numba = []\n",
    "res_python = []\n",
    "r0_ = ss.r.to(u.km).value\n",
    "v0_ = ss.v.to(u.km / u.s).value\n",
    "for tof_ in tof_range:\n",
    "    timeit_res_fortran = %timeit -o propagation.kepler(k_, r0_, v0_, tof_)\n",
    "    timeit_res_numba = %timeit -o kepler_numba(k_, r0_, v0_, tof_)\n",
    "    timeit_res_python = %timeit -o kepler_python_final(k_, r0_, v0_, tof_)\n",
    "    res_fortran.append(timeit_res_fortran.best)\n",
    "    res_numba.append(timeit_res_numba.best)\n",
    "    res_python.append(timeit_res_python.best)"
   ]
  },
  {
   "cell_type": "code",
   "execution_count": 63,
   "metadata": {},
   "outputs": [
    {
     "data": {
      "image/png": "[encoded data removed]",
      "text/plain": [
       "<matplotlib.figure.Figure at 0x7fde671603c8>"
      ]
     },
     "metadata": {},
     "output_type": "display_data"
    }
   ],
   "source": [
    "plt.figure(figsize=(6, 5))\n",
    "plt.plot(tof_range, res_numba, label=\"Numba\")\n",
    "plt.plot(tof_range, res_fortran, label=\"Fortran\")\n",
    "plt.plot(tof_range, res_python, label=\"Python\")\n",
    "plt.legend()\n",
    "plt.ylim(0)\n",
    "plt.xlabel(\"Time of flight\")\n",
    "plt.xticks(rotation=45)\n",
    "plt.ylabel(\"Computation time\")\n",
    "plt.title(\"Near-parabolic orbit ($e = {:.3f}$)\".format(ss.ecc))\n",
    "plt.tight_layout()"
   ]
  },
  {
   "cell_type": "markdown",
   "metadata": {},
   "source": [
    "### Hyperbolic orbit"
   ]
  },
  {
   "cell_type": "code",
   "execution_count": 60,
   "metadata": {},
   "outputs": [
    {
     "name": "stdout",
     "output_type": "stream",
     "text": [
      "[   2400.           36342.85714286   70285.71428571  104228.57142857\n",
      "  138171.42857143  172114.28571429  206057.14285714  240000.        ]\n"
     ]
    },
    {
     "data": {
      "text/plain": [
       "(array([-25000., -20000., -15000., -10000.,  -5000.,      0.,   5000.,\n",
       "         10000.]), <a list of 8 Text xticklabel objects>)"
      ]
     },
     "execution_count": 60,
     "metadata": {},
     "output_type": "execute_result"
    },
    {
     "data": {
      "image/png": "[encoded data removed]",
      "text/plain": [
       "<matplotlib.figure.Figure at 0x7fde6740f828>"
      ]
     },
     "metadata": {},
     "output_type": "display_data"
    }
   ],
   "source": [
    "ss = State.from_vectors(Earth, r0, v0 * 1.8)\n",
    "tof_range = np.linspace(tof.to(u.s).value,\n",
    "                        100 * tof.to(u.s).value,\n",
    "                        num=8)\n",
    "print(tof_range)\n",
    "plot(ss)\n",
    "plt.xticks(rotation=65)"
   ]
  },
  {
   "cell_type": "code",
   "execution_count": 54,
   "metadata": {},
   "outputs": [
    {
     "name": "stdout",
     "output_type": "stream",
     "text": [
      "100000 loops, best of 3: 12.1 µs per loop\n",
      "100000 loops, best of 3: 13.3 µs per loop\n",
      "10000 loops, best of 3: 56.5 µs per loop\n",
      "100000 loops, best of 3: 11.7 µs per loop\n",
      "100000 loops, best of 3: 12.9 µs per loop\n",
      "10000 loops, best of 3: 47.1 µs per loop\n",
      "100000 loops, best of 3: 11.9 µs per loop\n",
      "100000 loops, best of 3: 13 µs per loop\n",
      "10000 loops, best of 3: 46.8 µs per loop\n",
      "100000 loops, best of 3: 11.6 µs per loop\n",
      "The slowest run took 4.02 times longer than the fastest. This could mean that an intermediate result is being cached \n",
      "100000 loops, best of 3: 12.8 µs per loop\n",
      "10000 loops, best of 3: 47.1 µs per loop\n",
      "The slowest run took 6.14 times longer than the fastest. This could mean that an intermediate result is being cached \n",
      "100000 loops, best of 3: 11.5 µs per loop\n",
      "100000 loops, best of 3: 13.2 µs per loop\n",
      "10000 loops, best of 3: 48.5 µs per loop\n",
      "100000 loops, best of 3: 11.9 µs per loop\n",
      "The slowest run took 4.28 times longer than the fastest. This could mean that an intermediate result is being cached \n",
      "100000 loops, best of 3: 13.2 µs per loop\n",
      "10000 loops, best of 3: 47.7 µs per loop\n",
      "100000 loops, best of 3: 12.1 µs per loop\n",
      "The slowest run took 4.15 times longer than the fastest. This could mean that an intermediate result is being cached \n",
      "100000 loops, best of 3: 13 µs per loop\n",
      "10000 loops, best of 3: 49.4 µs per loop\n",
      "100000 loops, best of 3: 11.6 µs per loop\n",
      "100000 loops, best of 3: 13.3 µs per loop\n",
      "10000 loops, best of 3: 49.3 µs per loop\n"
     ]
    }
   ],
   "source": [
    "res_fortran = []\n",
    "res_numba = []\n",
    "res_python = []\n",
    "r0_ = ss.r.to(u.km).value\n",
    "v0_ = ss.v.to(u.km / u.s).value\n",
    "for tof_ in tof_range:\n",
    "    timeit_res_fortran = %timeit -o propagation.kepler(k_, r0_, v0_, tof_)\n",
    "    timeit_res_numba = %timeit -o kepler_numba(k_, r0_, v0_, tof_, numiter=1000)\n",
    "    timeit_res_python = %timeit -o kepler_python_final(k_, r0_, v0_, tof_)\n",
    "    res_fortran.append(timeit_res_fortran.best)\n",
    "    res_numba.append(timeit_res_numba.best)\n",
    "    res_python.append(timeit_res_python.best)"
   ]
  },
  {
   "cell_type": "code",
   "execution_count": 56,
   "metadata": {},
   "outputs": [
    {
     "data": {
      "image/png": "[encoded data removed]",
      "text/plain": [
       "<matplotlib.figure.Figure at 0x7fde66fdeef0>"
      ]
     },
     "metadata": {},
     "output_type": "display_data"
    }
   ],
   "source": [
    "plt.figure(figsize=(6, 5))\n",
    "plt.plot(tof_range, res_numba, label=\"Numba\")\n",
    "plt.plot(tof_range, res_fortran, label=\"Fortran\")\n",
    "plt.plot(tof_range, res_python, label=\"Python\")\n",
    "plt.legend(loc=5)\n",
    "plt.ylim(0)\n",
    "plt.xlabel(\"Time of flight\")\n",
    "plt.xticks(rotation=45)\n",
    "plt.ylabel(\"Computation time\")\n",
    "plt.title(\"Hyperbolic orbit ($e = {:.3f}$)\".format(ss.ecc))\n",
    "plt.tight_layout()"
   ]
  },
  {
   "cell_type": "markdown",
   "metadata": {},
   "source": [
    "<div class=\"alert alert-success\"><strong>Conclusion</strong>: I can achieve 90 % of Fortran speed with pure Python using a JIT compiler like numba. This allows me not only to quickly prototype algorithms and iterate fast between versions, while obtaining excellent performance, unseen in a dynamic language like Python.</div>"
   ]
  }
 ],
 "metadata": {
  "kernelspec": {
   "display_name": "Python 3",
   "language": "python",
   "name": "python3"
  },
  "language_info": {
   "codemirror_mode": {
    "name": "ipython",
    "version": 3
   },
   "file_extension": ".py",
   "mimetype": "text/x-python",
   "name": "python",
   "nbconvert_exporter": "python",
   "pygments_lexer": "ipython3",
   "version": "3.6.0"
  }
 },
 "nbformat": 4,
 "nbformat_minor": 1
}
