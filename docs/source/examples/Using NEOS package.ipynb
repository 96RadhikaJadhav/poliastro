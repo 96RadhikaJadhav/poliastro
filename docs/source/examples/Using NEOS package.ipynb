{
 "cells": [
  {
   "cell_type": "markdown",
   "metadata": {},
   "source": [
    "# Using NEOS package"
   ]
  },
  {
   "cell_type": "markdown",
   "metadata": {},
   "source": [
    "With the new `poliastro` version (0.7.0), a new package is included: [NEOs package](file:///C:/Users/Antonio/Desktop/Proyectos/poliastro/docs/source/html_output/api.html#module-poliastro.neos).\n",
    "\n",
    "The docstrings of this package states the following:\n",
    "\n",
    "> Functions related to NEOs and different NASA APIs. All of them are coded as part of SOCIS 2017 proposal.\n",
    "\n",
    "So, first of all, an important question:\n",
    "\n",
    "## What are NEOs?\n",
    "\n",
    "NEO stands for near-Earth object. The Center for NEO Studies ([CNEOS](http://cneos.jpl.nasa.gov/)) defines NEOs as comets and asteroids that have been nudged by the gravitational attraction of nearby planets into orbits that allow them to enter the Earth’s neighborhood.\n",
    "\n",
    "And what does \"near\" exactly mean? In terms of orbital elements, asteroids and comets can be considered NEOs if their perihelion (orbit point which is nearest to the Sun) is less than 1.3 au = 1.945 * 10<sup>8</sup> km from the Sun."
   ]
  },
  {
   "cell_type": "code",
   "execution_count": 1,
   "metadata": {
    "collapsed": true
   },
   "outputs": [],
   "source": [
    "import matplotlib.pyplot as plt\n",
    "plt.ion()\n",
    "\n",
    "from astropy import time\n",
    "\n",
    "from poliastro.twobody.orbit import Orbit\n",
    "from poliastro.bodies import Earth\n",
    "from poliastro.plotting import OrbitPlotter"
   ]
  },
  {
   "cell_type": "markdown",
   "metadata": {},
   "source": [
    "## NeoWS module\n",
    "This module make requests to [NASA NEO Webservice](https://api.nasa.gov/api.html#NeoWS), so you'll need an internet connection to run the next examples.\n",
    "\n",
    "The simplest `neows` function is `orbit_from_name()`, which return an Orbit object given a name:"
   ]
  },
  {
   "cell_type": "code",
   "execution_count": 2,
   "metadata": {
    "collapsed": true
   },
   "outputs": [],
   "source": [
    "from poliastro.neos import neows"
   ]
  },
  {
   "cell_type": "code",
   "execution_count": 3,
   "metadata": {
    "scrolled": false
   },
   "outputs": [
    {
     "name": "stdout",
     "output_type": "stream",
     "text": [
      "0.2226656050106755\n",
      "1.8748628234034213 rad\n",
      "1.6531074758822792\n"
     ]
    },
    {
     "data": {
      "text/plain": [
       "[<matplotlib.lines.Line2D at 0x7f418f89c1d0>,\n",
       " <matplotlib.lines.Line2D at 0x7f418f8f7438>]"
      ]
     },
     "execution_count": 3,
     "metadata": {},
     "output_type": "execute_result"
    },
    {
     "data": {
      "image/png": "[encoded data removed]",
      "text/plain": [
       "<matplotlib.figure.Figure at 0x7f4192f8bc18>"
      ]
     },
     "metadata": {},
     "output_type": "display_data"
    }
   ],
   "source": [
    "eros = neows.orbit_from_name('Eros')\n",
    "\n",
    "frame = OrbitPlotter()\n",
    "frame.plot(eros, label='Eros')"
   ]
  },
  {
   "cell_type": "markdown",
   "metadata": {},
   "source": [
    "You can also search by IAU number or SPK-ID (there is a faster `neows.orbit_from_spk_id()` function in that case, although):"
   ]
  },
  {
   "cell_type": "code",
   "execution_count": 4,
   "metadata": {},
   "outputs": [
    {
     "ename": "HTTPError",
     "evalue": "429 Client Error:  for url: https://api.nasa.gov/neo/rest/v1/neo/2001221?api_key=DEMO_KEY",
     "output_type": "error",
     "traceback": [
      "\u001b[0;31m---------------------------------------------------------------------------\u001b[0m",
      "\u001b[0;31mHTTPError\u001b[0m                                 Traceback (most recent call last)",
      "\u001b[0;32m<ipython-input-4-ae1d8eb55259>\u001b[0m in \u001b[0;36m<module>\u001b[0;34m()\u001b[0m\n\u001b[1;32m      1\u001b[0m \u001b[0mganymed\u001b[0m \u001b[0;34m=\u001b[0m \u001b[0mneows\u001b[0m\u001b[0;34m.\u001b[0m\u001b[0morbit_from_name\u001b[0m\u001b[0;34m(\u001b[0m\u001b[0;34m'1036'\u001b[0m\u001b[0;34m)\u001b[0m \u001b[0;31m# Ganymed IAU number\u001b[0m\u001b[0;34m\u001b[0m\u001b[0m\n\u001b[0;32m----> 2\u001b[0;31m \u001b[0mamor\u001b[0m \u001b[0;34m=\u001b[0m \u001b[0mneows\u001b[0m\u001b[0;34m.\u001b[0m\u001b[0morbit_from_name\u001b[0m\u001b[0;34m(\u001b[0m\u001b[0;34m'2001221'\u001b[0m\u001b[0;34m)\u001b[0m \u001b[0;31m# Amor SPK-ID\u001b[0m\u001b[0;34m\u001b[0m\u001b[0m\n\u001b[0m\u001b[1;32m      3\u001b[0m \u001b[0meros\u001b[0m \u001b[0;34m=\u001b[0m \u001b[0mneows\u001b[0m\u001b[0;34m.\u001b[0m\u001b[0morbit_from_spk_id\u001b[0m\u001b[0;34m(\u001b[0m\u001b[0;34m'2000433'\u001b[0m\u001b[0;34m)\u001b[0m \u001b[0;31m# Eros SPK-ID\u001b[0m\u001b[0;34m\u001b[0m\u001b[0m\n\u001b[1;32m      4\u001b[0m \u001b[0;34m\u001b[0m\u001b[0m\n\u001b[1;32m      5\u001b[0m \u001b[0mframe\u001b[0m \u001b[0;34m=\u001b[0m \u001b[0mOrbitPlotter\u001b[0m\u001b[0;34m(\u001b[0m\u001b[0;34m)\u001b[0m\u001b[0;34m\u001b[0m\u001b[0m\n",
      "\u001b[0;32m~/poliastro/src/poliastro/neos/neows.py\u001b[0m in \u001b[0;36morbit_from_name\u001b[0;34m(name, api_key)\u001b[0m\n\u001b[1;32m    128\u001b[0m     \u001b[0mspk_id\u001b[0m \u001b[0;34m=\u001b[0m \u001b[0mspk_id_from_name\u001b[0m\u001b[0;34m(\u001b[0m\u001b[0mname\u001b[0m\u001b[0;34m)\u001b[0m\u001b[0;34m\u001b[0m\u001b[0m\n\u001b[1;32m    129\u001b[0m     \u001b[0;32mif\u001b[0m \u001b[0mspk_id\u001b[0m \u001b[0;32mis\u001b[0m \u001b[0;32mnot\u001b[0m \u001b[0;32mNone\u001b[0m\u001b[0;34m:\u001b[0m\u001b[0;34m\u001b[0m\u001b[0m\n\u001b[0;32m--> 130\u001b[0;31m         \u001b[0;32mreturn\u001b[0m \u001b[0morbit_from_spk_id\u001b[0m\u001b[0;34m(\u001b[0m\u001b[0mspk_id\u001b[0m\u001b[0;34m,\u001b[0m \u001b[0mapi_key\u001b[0m\u001b[0;34m)\u001b[0m\u001b[0;34m\u001b[0m\u001b[0m\n\u001b[0m",
      "\u001b[0;32m~/poliastro/src/poliastro/neos/neows.py\u001b[0m in \u001b[0;36morbit_from_spk_id\u001b[0;34m(spk_id, api_key)\u001b[0m\n\u001b[1;32m     41\u001b[0m \u001b[0;34m\u001b[0m\u001b[0m\n\u001b[1;32m     42\u001b[0m     \u001b[0mresponse\u001b[0m \u001b[0;34m=\u001b[0m \u001b[0mrequests\u001b[0m\u001b[0;34m.\u001b[0m\u001b[0mget\u001b[0m\u001b[0;34m(\u001b[0m\u001b[0mNEOWS_URL\u001b[0m \u001b[0;34m+\u001b[0m \u001b[0mspk_id\u001b[0m\u001b[0;34m,\u001b[0m \u001b[0mparams\u001b[0m\u001b[0;34m=\u001b[0m\u001b[0mpayload\u001b[0m\u001b[0;34m)\u001b[0m\u001b[0;34m\u001b[0m\u001b[0m\n\u001b[0;32m---> 43\u001b[0;31m     \u001b[0mresponse\u001b[0m\u001b[0;34m.\u001b[0m\u001b[0mraise_for_status\u001b[0m\u001b[0;34m(\u001b[0m\u001b[0;34m)\u001b[0m\u001b[0;34m\u001b[0m\u001b[0m\n\u001b[0m\u001b[1;32m     44\u001b[0m \u001b[0;34m\u001b[0m\u001b[0m\n\u001b[1;32m     45\u001b[0m     \u001b[0morbital_data\u001b[0m \u001b[0;34m=\u001b[0m \u001b[0mresponse\u001b[0m\u001b[0;34m.\u001b[0m\u001b[0mjson\u001b[0m\u001b[0;34m(\u001b[0m\u001b[0;34m)\u001b[0m\u001b[0;34m[\u001b[0m\u001b[0;34m'orbital_data'\u001b[0m\u001b[0;34m]\u001b[0m\u001b[0;34m\u001b[0m\u001b[0m\n",
      "\u001b[0;32m/usr/local/lib/python3.5/dist-packages/requests/models.py\u001b[0m in \u001b[0;36mraise_for_status\u001b[0;34m(self)\u001b[0m\n\u001b[1;32m    933\u001b[0m \u001b[0;34m\u001b[0m\u001b[0m\n\u001b[1;32m    934\u001b[0m         \u001b[0;32mif\u001b[0m \u001b[0mhttp_error_msg\u001b[0m\u001b[0;34m:\u001b[0m\u001b[0;34m\u001b[0m\u001b[0m\n\u001b[0;32m--> 935\u001b[0;31m             \u001b[0;32mraise\u001b[0m \u001b[0mHTTPError\u001b[0m\u001b[0;34m(\u001b[0m\u001b[0mhttp_error_msg\u001b[0m\u001b[0;34m,\u001b[0m \u001b[0mresponse\u001b[0m\u001b[0;34m=\u001b[0m\u001b[0mself\u001b[0m\u001b[0;34m)\u001b[0m\u001b[0;34m\u001b[0m\u001b[0m\n\u001b[0m\u001b[1;32m    936\u001b[0m \u001b[0;34m\u001b[0m\u001b[0m\n\u001b[1;32m    937\u001b[0m     \u001b[0;32mdef\u001b[0m \u001b[0mclose\u001b[0m\u001b[0;34m(\u001b[0m\u001b[0mself\u001b[0m\u001b[0;34m)\u001b[0m\u001b[0;34m:\u001b[0m\u001b[0;34m\u001b[0m\u001b[0m\n",
      "\u001b[0;31mHTTPError\u001b[0m: 429 Client Error:  for url: https://api.nasa.gov/neo/rest/v1/neo/2001221?api_key=DEMO_KEY"
     ]
    }
   ],
   "source": [
    "ganymed = neows.orbit_from_name('1036') # Ganymed IAU number\n",
    "amor = neows.orbit_from_name('2001221') # Amor SPK-ID\n",
    "eros = neows.orbit_from_spk_id('2000433') # Eros SPK-ID\n",
    "\n",
    "frame = OrbitPlotter()\n",
    "frame.plot(ganymed, label='Ganymed')\n",
    "frame.plot(amor, label='Amor')\n",
    "frame.plot(eros, label='Eros')"
   ]
  },
  {
   "cell_type": "markdown",
   "metadata": {},
   "source": [
    "Since `neows` relies on [Small-Body Database browser](https://ssd.jpl.nasa.gov/sbdb.cgi) to get the SPK-ID given a body name, you can use the wildcards from that browser: `*` and `?`."
   ]
  },
  {
   "cell_type": "markdown",
   "metadata": {},
   "source": [
    "<div class=\"alert alert-info\">Keep it in mind that `orbit_from_name()` can only return one Orbit, so if several objects are found with that name, it will raise an error with the different bodies.</div>"
   ]
  },
  {
   "cell_type": "code",
   "execution_count": null,
   "metadata": {
    "scrolled": true
   },
   "outputs": [],
   "source": [
    "neows.orbit_from_name('*alley')"
   ]
  },
  {
   "cell_type": "markdown",
   "metadata": {},
   "source": [
    "<div class=\"alert alert-info\">Note that epoch is provided by the Web Service itself, so if you need orbit on another epoch, you have to propagate it:</div>"
   ]
  },
  {
   "cell_type": "code",
   "execution_count": null,
   "metadata": {},
   "outputs": [],
   "source": [
    "eros.epoch.iso"
   ]
  },
  {
   "cell_type": "code",
   "execution_count": null,
   "metadata": {},
   "outputs": [],
   "source": [
    "epoch = time.Time(2458000.0, scale='tdb', format='jd')\n",
    "eros_november = eros.propagate(epoch)\n",
    "eros_november.epoch.iso"
   ]
  },
  {
   "cell_type": "markdown",
   "metadata": {},
   "source": [
    "Given that we are using NASA APIs, there is a maximum number of requests. If you want to make many requests, it is recommended getting a [NASA API key](https://api.nasa.gov/index.html#apply-for-an-api-key). You can use your API key adding the `api_key` parameter to the function:"
   ]
  },
  {
   "cell_type": "code",
   "execution_count": null,
   "metadata": {},
   "outputs": [],
   "source": [
    "neows.orbit_from_name('Toutatis', api_key='DEMO_KEY')"
   ]
  },
  {
   "cell_type": "markdown",
   "metadata": {},
   "source": [
    "## DASTCOM5 module\n",
    "\n",
    "This module can also be used to get NEOs orbit, in the same way that `neows`, but it have some advantages (and some disadvantages).\n",
    "\n",
    "It relies on DASTCOM5 database, a NASA/JPL maintained asteroid and comet database. This database has to be downloaded at least once in order to use this module. According to its README, it is updated typically a couple times per day, but \n",
    " potentially as frequently as once per hour, so you can download it whenever you want the more recently discovered bodies. This also means that, after downloading the file, you can use the database offline.\n",
    " \n",
    "The file is a ~230 MB zip that you can manually [download](ftp://ssd.jpl.nasa.gov/pub/ssd/dastcom5.zip) and unzip in `~/.poliastro` or, more easily, you can use\n",
    "```Python\n",
    "dastcom5.download_dastcom5()\n",
    "```"
   ]
  },
  {
   "cell_type": "markdown",
   "metadata": {},
   "source": [
    "The main DASTCOM5 advantage over NeoWs is that you can use it to search not only NEOs, but any asteroid or comet. The easiest function is `orbit_from_name()`:"
   ]
  },
  {
   "cell_type": "code",
   "execution_count": null,
   "metadata": {
    "collapsed": true
   },
   "outputs": [],
   "source": [
    "from poliastro.neos import dastcom5"
   ]
  },
  {
   "cell_type": "code",
   "execution_count": null,
   "metadata": {
    "scrolled": true
   },
   "outputs": [],
   "source": [
    "atira = dastcom5.orbit_from_name('atira')[0] # NEO\n",
    "wikipedia = dastcom5.orbit_from_name('wikipedia')[0] # Asteroid, but not NEO.\n",
    "frame = OrbitPlotter()\n",
    "frame.plot(atira, label='Atira (NEO)')\n",
    "frame.plot(wikipedia, label='Wikipedia (asteroid)')"
   ]
  },
  {
   "cell_type": "markdown",
   "metadata": {},
   "source": [
    "Keep in mind that this function returns a list of orbits matching your string. This is made on purpose given that there are comets which have several records in the database (one for each orbit determination in history) what allow plots like this one:"
   ]
  },
  {
   "cell_type": "code",
   "execution_count": null,
   "metadata": {},
   "outputs": [],
   "source": [
    "halleys = dastcom5.orbit_from_name('1P')\n",
    "\n",
    "frame = OrbitPlotter()\n",
    "frame.plot(halleys[0], label='Halley')\n",
    "frame.plot(halleys[5], label='Halley')\n",
    "frame.plot(halleys[10], label='Halley')\n",
    "frame.plot(halleys[20], label='Halley')\n",
    "frame.plot(halleys[-1], label='Halley')"
   ]
  },
  {
   "cell_type": "markdown",
   "metadata": {},
   "source": [
    "While `neows` can only be used to get Orbit objects, `dastcom5` can also provide asteroid and comet complete database.\n",
    "Once you have this, you can get specific data about one or more bodies. The complete databases are `ndarrays`, so if you want to know the entire list of available parameters, you can look at the `dtype`, and they are also explained in\n",
    "[documentation API Reference](http://docs.poliastro.space/en/latest/dastcom5 parameters.html):"
   ]
  },
  {
   "cell_type": "code",
   "execution_count": null,
   "metadata": {},
   "outputs": [],
   "source": [
    "ast_db = dastcom5.asteroid_db()\n",
    "comet_db = dastcom5.comet_db()\n",
    "ast_db.dtype.names[:20] # They are more than 100, but that would be too much lines in this notebook :P"
   ]
  },
  {
   "cell_type": "markdown",
   "metadata": {},
   "source": [
    "<div class=\"alert alert-info\">Asteroid and comet parameters are not exactly the same (although they are very close):</div>"
   ]
  },
  {
   "cell_type": "markdown",
   "metadata": {},
   "source": [
    "With these `ndarrays` you can classify asteroids and comets, sort them, get all their parameters, and whatever comes to your mind.\n",
    "\n",
    "For example, NEOs can be grouped in several ways. One of the NEOs group is called `Atiras`, and is formed by NEOs whose orbits are contained entirely with the orbit of the Earth. They are a really little group, and we can try to plot all of these NEOs using `asteroid_db()`:"
   ]
  },
  {
   "cell_type": "markdown",
   "metadata": {},
   "source": [
    "Talking in orbital terms, `Atiras` have an aphelion distance, `Q < 0.983 au` and a semi-major axis, ` a < 1.0 au`.\n",
    "Visiting [documentation API Reference](http://docs.poliastro.space/en/latest/dastcom5 parameters.html), you can see that DASTCOM5 provides semi-major axis, but doesn't provide aphelion distance. You can get aphelion distance easily knowing perihelion distance (q, QR in DASTCOM5) and semi-major axis `Q = 2*a - q`, but there are probably many other ways."
   ]
  },
  {
   "cell_type": "code",
   "execution_count": null,
   "metadata": {
    "collapsed": true,
    "scrolled": true
   },
   "outputs": [],
   "source": [
    "aphelion_condition = 2 * ast_db['A'] - ast_db['QR'] < 0.983\n",
    "axis_condition = ast_db['A'] < 1.3 \n",
    "atiras = ast_db[aphelion_condition & axis_condition]"
   ]
  },
  {
   "cell_type": "markdown",
   "metadata": {},
   "source": [
    "The number of `Atira NEOs` we use using this method is:"
   ]
  },
  {
   "cell_type": "code",
   "execution_count": null,
   "metadata": {},
   "outputs": [],
   "source": [
    "len(atiras)"
   ]
  },
  {
   "cell_type": "markdown",
   "metadata": {},
   "source": [
    "Which is consistent with the [stats published by CNEOS](https://cneos.jpl.nasa.gov/stats/totals.html)"
   ]
  },
  {
   "cell_type": "markdown",
   "metadata": {},
   "source": [
    "Now we're gonna plot all of their orbits, with corresponding labels, just because we love plots :)"
   ]
  },
  {
   "cell_type": "code",
   "execution_count": null,
   "metadata": {
    "collapsed": true
   },
   "outputs": [],
   "source": [
    "from poliastro.twobody.orbit import Orbit\n",
    "from poliastro.bodies import Earth\n",
    "\n",
    "earth = Orbit.from_body_ephem(Earth)"
   ]
  },
  {
   "cell_type": "markdown",
   "metadata": {},
   "source": [
    "We only need to get the 16 orbits from these 16 `ndarrays`.\n",
    "\n",
    "There are two ways:\n",
    "\n",
    "* Gather all their orbital elements manually and use the `Orbit.from_classical()` function.\n",
    "* Use the `NO` property (logical record number in DASTCOM5 database) and the `dastcom5.orbit_from_record()` function.\n",
    "\n",
    "The second one seems easier and it is related to the current notebook, so we are going to use that one:"
   ]
  },
  {
   "cell_type": "markdown",
   "metadata": {},
   "source": [
    "We are going to use `ASTNAM` property of DASTCOM5 database:"
   ]
  },
  {
   "cell_type": "code",
   "execution_count": null,
   "metadata": {},
   "outputs": [],
   "source": [
    "frame = OrbitPlotter()\n",
    "\n",
    "frame.plot(earth, label='Earth')\n",
    "\n",
    "for record in atiras['NO']:\n",
    "    ss = dastcom5.orbit_from_record(record)\n",
    "    frame.plot(ss, color=\"#666666\")"
   ]
  },
  {
   "cell_type": "markdown",
   "metadata": {},
   "source": [
    "<div class=\"alert alert-warning\">This slightly incorrect, given that Earth coordinates are in a different frame from asteroids. However, for the purpose of this notebook, the effect is barely noticeable.</div>"
   ]
  },
  {
   "cell_type": "markdown",
   "metadata": {},
   "source": [
    "If we needed also the names of each asteroid, we could do:"
   ]
  },
  {
   "cell_type": "code",
   "execution_count": null,
   "metadata": {
    "scrolled": true
   },
   "outputs": [],
   "source": [
    "frame = OrbitPlotter()\n",
    "\n",
    "frame.plot(earth, label='Earth')\n",
    "\n",
    "for i in range(len(atiras)):\n",
    "    record = atiras['NO'][i]\n",
    "    label = atiras['ASTNAM'][i].decode().strip() # DASTCOM5 strings are binary\n",
    "    ss = dastcom5.orbit_from_record(record)\n",
    "    frame.plot(ss, label=label)"
   ]
  },
  {
   "cell_type": "markdown",
   "metadata": {},
   "source": [
    "<div class=\"alert alert-info\">We knew beforehand that there are no `Atira` comets, only asteroids (comet orbits are usually more eccentric), but we could use the same method with `com_db` if we wanted.</div>"
   ]
  },
  {
   "cell_type": "markdown",
   "metadata": {},
   "source": [
    "Finally, another interesting function in `dastcom5` is `entire_db()`, which is really similar to `ast_db` and `com_db`, but it returns a `Pandas dataframe` instead of a `numpy ndarray`. The dataframe has asteroids and comets in it, but in order to achieve that (and a more manageable dataframe), a lot of parameters were removed, and others were renamed:"
   ]
  },
  {
   "cell_type": "code",
   "execution_count": null,
   "metadata": {},
   "outputs": [],
   "source": [
    "db = dastcom5.entire_db()\n",
    "db.columns"
   ]
  },
  {
   "cell_type": "markdown",
   "metadata": {},
   "source": [
    "Also, in this function, DASTCOM5 data (specially strings) is ready to use (decoded and improved strings, etc):"
   ]
  },
  {
   "cell_type": "code",
   "execution_count": null,
   "metadata": {},
   "outputs": [],
   "source": [
    "db[db.NAME == 'Halley'] # As you can see, Halley is the name of an asteroid too, did you know that?"
   ]
  },
  {
   "cell_type": "markdown",
   "metadata": {},
   "source": [
    "Panda offers many functionalities, and can also be used in the same way as the `ast_db` and `comet_db` functions:"
   ]
  },
  {
   "cell_type": "code",
   "execution_count": null,
   "metadata": {
    "collapsed": true
   },
   "outputs": [],
   "source": [
    "aphelion_condition = (2 * db['A'] - db['QR']) < 0.983\n",
    "axis_condition = db['A'] < 1.3 \n",
    "atiras = db[aphelion_condition & axis_condition]"
   ]
  },
  {
   "cell_type": "code",
   "execution_count": null,
   "metadata": {},
   "outputs": [],
   "source": [
    "len(atiras)"
   ]
  },
  {
   "cell_type": "markdown",
   "metadata": {},
   "source": [
    "What? I said they can be used in the same way!"
   ]
  },
  {
   "cell_type": "markdown",
   "metadata": {},
   "source": [
    "Dont worry :) If you want to know what's happening here, the only difference is that we are now working with comets too, and some comets have a negative semi-major axis!"
   ]
  },
  {
   "cell_type": "code",
   "execution_count": null,
   "metadata": {},
   "outputs": [],
   "source": [
    "len(atiras[atiras.A < 0])"
   ]
  },
  {
   "cell_type": "markdown",
   "metadata": {},
   "source": [
    "So, rewriting our condition:"
   ]
  },
  {
   "cell_type": "code",
   "execution_count": null,
   "metadata": {},
   "outputs": [],
   "source": [
    "axis_condition = (db['A'] < 1.3) & (db['A'] > 0)\n",
    "atiras = db[aphelion_condition & axis_condition]\n",
    "len(atiras)"
   ]
  }
 ],
 "metadata": {
  "kernelspec": {
   "display_name": "Python 3",
   "language": "python",
   "name": "python3"
  },
  "language_info": {
   "codemirror_mode": {
    "name": "ipython",
    "version": 3
   },
   "file_extension": ".py",
   "mimetype": "text/x-python",
   "name": "python",
   "nbconvert_exporter": "python",
   "pygments_lexer": "ipython3",
   "version": "3.5.2"
  },
  "nbsphinx": {
   "allow_errors": true
  }
 },
 "nbformat": 4,
 "nbformat_minor": 2
}
