{
 "cells": [
  {
   "cell_type": "markdown",
   "metadata": {},
   "source": [
    "## Current poliastro version"
   ]
  },
  {
   "cell_type": "code",
   "execution_count": 1,
   "metadata": {
    "collapsed": false,
    "scrolled": true
   },
   "outputs": [],
   "source": [
    "import numpy as np\n",
    "from astropy import units as u\n",
    "\n",
    "from poliastro.bodies import Earth\n",
    "from poliastro.twobody import State, propagation"
   ]
  },
  {
   "cell_type": "code",
   "execution_count": 2,
   "metadata": {
    "collapsed": false
   },
   "outputs": [],
   "source": [
    "k = Earth.k\n",
    "r0 = [1131.340, -2282.343, 6672.423] * u.km\n",
    "v0 = [-5.64305, 4.30333, 2.42879] * u.km / u.s\n",
    "tof = 40 * u.min"
   ]
  },
  {
   "cell_type": "code",
   "execution_count": 3,
   "metadata": {
    "collapsed": false
   },
   "outputs": [
    {
     "data": {
      "text/latex": [
       "$[1131.34,~-2282.343,~6672.423] \\; \\mathrm{km}$"
      ],
      "text/plain": [
       "<Quantity [ 1131.34 ,-2282.343, 6672.423] km>"
      ]
     },
     "execution_count": 3,
     "metadata": {},
     "output_type": "execute_result"
    }
   ],
   "source": [
    "r0"
   ]
  },
  {
   "cell_type": "code",
   "execution_count": 4,
   "metadata": {
    "collapsed": false
   },
   "outputs": [
    {
     "data": {
      "text/latex": [
       "$[-5.64305,~4.30333,~2.42879] \\; \\mathrm{\\frac{km}{s}}$"
      ],
      "text/plain": [
       "<Quantity [-5.64305, 4.30333, 2.42879] km / s>"
      ]
     },
     "execution_count": 4,
     "metadata": {},
     "output_type": "execute_result"
    }
   ],
   "source": [
    "v0"
   ]
  },
  {
   "cell_type": "code",
   "execution_count": 5,
   "metadata": {
    "collapsed": false
   },
   "outputs": [
    {
     "data": {
      "text/latex": [
       "$398600 \\; \\mathrm{\\frac{km^{3}}{s^{2}}}$"
      ],
      "text/plain": [
       "<Quantity 398600.0 km3 / s2>"
      ]
     },
     "execution_count": 5,
     "metadata": {},
     "output_type": "execute_result"
    }
   ],
   "source": [
    "k"
   ]
  },
  {
   "cell_type": "code",
   "execution_count": 6,
   "metadata": {
    "collapsed": false
   },
   "outputs": [
    {
     "data": {
      "text/latex": [
       "$40 \\; \\mathrm{min}$"
      ],
      "text/plain": [
       "<Quantity 40.0 min>"
      ]
     },
     "execution_count": 6,
     "metadata": {},
     "output_type": "execute_result"
    }
   ],
   "source": [
    "tof"
   ]
  },
  {
   "cell_type": "code",
   "execution_count": 7,
   "metadata": {
    "collapsed": true
   },
   "outputs": [],
   "source": [
    "propagation.kepler?"
   ]
  },
  {
   "cell_type": "code",
   "execution_count": 8,
   "metadata": {
    "collapsed": false
   },
   "outputs": [],
   "source": [
    "r, v = propagation.kepler(k.to(u.km**3 / u.s**2).value,\n",
    "                          r0.to(u.km).value,\n",
    "                          v0.to(u.km / u.s).value,\n",
    "                          tof.to(u.s).value)\n",
    "r *= u.km\n",
    "v *= u.km / u.s"
   ]
  },
  {
   "cell_type": "code",
   "execution_count": 9,
   "metadata": {
    "collapsed": false
   },
   "outputs": [
    {
     "data": {
      "text/latex": [
       "$[-4219.7762,~4363.0457,~-3958.7497] \\; \\mathrm{km}$"
      ],
      "text/plain": [
       "<Quantity [-4219.77617109, 4363.04569716,-3958.74972246] km>"
      ]
     },
     "execution_count": 9,
     "metadata": {},
     "output_type": "execute_result"
    }
   ],
   "source": [
    "r"
   ]
  },
  {
   "cell_type": "code",
   "execution_count": 10,
   "metadata": {
    "collapsed": false
   },
   "outputs": [
    {
     "data": {
      "text/latex": [
       "$[3.6898377,~-1.9167093,~-6.1125185] \\; \\mathrm{\\frac{km}{s}}$"
      ],
      "text/plain": [
       "<Quantity [ 3.68983773,-1.91670933,-6.11251847] km / s>"
      ]
     },
     "execution_count": 10,
     "metadata": {},
     "output_type": "execute_result"
    }
   ],
   "source": [
    "v"
   ]
  },
  {
   "cell_type": "markdown",
   "metadata": {},
   "source": [
    "Prepare the inputs to measure performance:"
   ]
  },
  {
   "cell_type": "code",
   "execution_count": 9,
   "metadata": {
    "collapsed": true
   },
   "outputs": [],
   "source": [
    "k_ = k.to(u.km**3 / u.s**2).value\n",
    "r0_ = r0.to(u.km).value\n",
    "v0_ = v0.to(u.km / u.s).value\n",
    "tof_ = tof.to(u.s).value"
   ]
  },
  {
   "cell_type": "code",
   "execution_count": 12,
   "metadata": {
    "collapsed": false
   },
   "outputs": [
    {
     "name": "stdout",
     "output_type": "stream",
     "text": [
      "The slowest run took 6.23 times longer than the fastest. This could mean that an intermediate result is being cached \n",
      "100000 loops, best of 3: 10.5 µs per loop\n"
     ]
    }
   ],
   "source": [
    "%timeit propagation.kepler(k_, r0_, v0_, tof_)"
   ]
  },
  {
   "cell_type": "markdown",
   "metadata": {},
   "source": [
    "## Pure Python version\n",
    "\n",
    "Now we write our own implementation in pure Python. We will use numbified $c_2$ and $c_3$ functions for the moment."
   ]
  },
  {
   "cell_type": "code",
   "execution_count": 11,
   "metadata": {
    "collapsed": false
   },
   "outputs": [],
   "source": [
    "from poliastro.stumpff import c2, c3\n",
    "\n",
    "def kepler_py(k, r0, v0, tof):\n",
    "    # Prepare input\n",
    "    r0 = np.asarray(r0).astype(np.float)\n",
    "    v0 = np.asarray(v0).astype(np.float)\n",
    "    tof = float(tof)\n",
    "    assert r0.shape == (3,)\n",
    "    assert v0.shape == (3,)\n",
    "\n",
    "    # Cache some results\n",
    "    dot_r0v0 = np.dot(r0, v0)\n",
    "    norm_r0 = np.linalg.norm(r0)\n",
    "    sqrt_mu = np.sqrt(k)\n",
    "    alpha = -np.dot(v0, v0) / k + 2 / norm_r0\n",
    "\n",
    "    # Newton-Raphson iteration on the Kepler equation\n",
    "    # Conservative initial guess\n",
    "    xi = sqrt_mu * tof / norm_r0\n",
    "    numiter = 50\n",
    "    count = 0\n",
    "    while count < numiter:\n",
    "        psi = xi**2 * alpha\n",
    "        norm_r = xi**2 * c2(psi) + dot_r0v0 / sqrt_mu * xi * (1 - psi * c3(psi)) + norm_r0 * (1 - psi * c2(psi))\n",
    "        xi_new = xi + (sqrt_mu * tof - xi**3 * c3(psi) - dot_r0v0 / sqrt_mu * xi**2 * c2(psi) -\n",
    "                       norm_r0 * xi * (1 - psi * c3(psi))) / norm_r\n",
    "        err = np.abs((xi_new - xi) / xi_new)\n",
    "        if err < 1e-10:\n",
    "            break\n",
    "        else:\n",
    "            xi = xi_new\n",
    "            count += 1\n",
    "    else:\n",
    "        print(\"No convergence\")\n",
    "        return\n",
    "\n",
    "    # Compute Lagrange coefficients\n",
    "    f = 1 - xi**2 / norm_r0 * c2(psi)\n",
    "    g = tof - xi**3 / sqrt_mu * c3(psi)\n",
    "\n",
    "    gdot = 1 - xi**2 / norm_r * c2(psi)\n",
    "    fdot = sqrt_mu / (norm_r * norm_r0) * xi * (psi * c3(psi) - 1)\n",
    "\n",
    "    # Return position and velocity vectors\n",
    "    r = f * r0 + g * v0\n",
    "    v = fdot * r0 + gdot * v0\n",
    "\n",
    "    assert np.abs(f * gdot - fdot * g - 1) < 1e-6\n",
    "\n",
    "    return r, v"
   ]
  },
  {
   "cell_type": "code",
   "execution_count": 14,
   "metadata": {
    "collapsed": false
   },
   "outputs": [],
   "source": [
    "r_py, v_py = kepler_py(k_, r0_, v0_, tof_)\n",
    "r_py *= u.km\n",
    "v_py *= u.km / u.s"
   ]
  },
  {
   "cell_type": "code",
   "execution_count": 15,
   "metadata": {
    "collapsed": false
   },
   "outputs": [],
   "source": [
    "np.testing.assert_array_almost_equal(r_py.value, r.value)\n",
    "np.testing.assert_array_almost_equal(v_py.value, v.value)"
   ]
  },
  {
   "cell_type": "code",
   "execution_count": 16,
   "metadata": {
    "collapsed": false
   },
   "outputs": [
    {
     "data": {
      "text/latex": [
       "$[-4219.7762,~4363.0457,~-3958.7497] \\; \\mathrm{km}$"
      ],
      "text/plain": [
       "<Quantity [-4219.77617109, 4363.04569716,-3958.74972246] km>"
      ]
     },
     "execution_count": 16,
     "metadata": {},
     "output_type": "execute_result"
    }
   ],
   "source": [
    "r_py"
   ]
  },
  {
   "cell_type": "code",
   "execution_count": 17,
   "metadata": {
    "collapsed": false
   },
   "outputs": [
    {
     "name": "stdout",
     "output_type": "stream",
     "text": [
      "The slowest run took 4.72 times longer than the fastest. This could mean that an intermediate result is being cached \n",
      "10000 loops, best of 3: 74.8 µs per loop\n"
     ]
    }
   ],
   "source": [
    "%timeit kepler_py(k_, r0_, v0_, tof_)"
   ]
  },
  {
   "cell_type": "code",
   "execution_count": 18,
   "metadata": {
    "collapsed": false
   },
   "outputs": [
    {
     "name": "stdout",
     "output_type": "stream",
     "text": [
      "100000 loops, best of 3: 11.2 µs per loop\n"
     ]
    }
   ],
   "source": [
    "%timeit propagation.kepler(k_, r0_, v0_, tof_)"
   ]
  },
  {
   "cell_type": "markdown",
   "metadata": {},
   "source": [
    "Our pure Python, non optimized version **is not *that* bad**! It stays in the same order of magnitude as the Fortran version for elliptic orbits at least. Let us see how can we improve the results."
   ]
  },
  {
   "cell_type": "code",
   "execution_count": 19,
   "metadata": {
    "collapsed": false
   },
   "outputs": [],
   "source": [
    "%load_ext line_profiler"
   ]
  },
  {
   "cell_type": "code",
   "execution_count": 20,
   "metadata": {
    "collapsed": false
   },
   "outputs": [],
   "source": [
    "%lprun -f kepler_py kepler_py(k_, r0_, v0_, tof_)"
   ]
  },
  {
   "cell_type": "markdown",
   "metadata": {},
   "source": [
    "According to line_profiler, 13 % of the time is spent in the two `asarray` calls and 14.5 % in the single `norm` computation."
   ]
  },
  {
   "cell_type": "code",
   "execution_count": 21,
   "metadata": {
    "collapsed": false
   },
   "outputs": [
    {
     "name": "stdout",
     "output_type": "stream",
     "text": [
      "The slowest run took 6.72 times longer than the fastest. This could mean that an intermediate result is being cached \n",
      "100000 loops, best of 3: 8.33 µs per loop\n"
     ]
    }
   ],
   "source": [
    "%timeit np.linalg.norm(r0_)"
   ]
  },
  {
   "cell_type": "code",
   "execution_count": 22,
   "metadata": {
    "collapsed": false
   },
   "outputs": [
    {
     "name": "stdout",
     "output_type": "stream",
     "text": [
      "The slowest run took 10.64 times longer than the fastest. This could mean that an intermediate result is being cached \n",
      "100000 loops, best of 3: 2.5 µs per loop\n"
     ]
    }
   ],
   "source": [
    "%timeit np.sqrt(np.dot(r0_, r0_))"
   ]
  },
  {
   "cell_type": "markdown",
   "metadata": {},
   "source": [
    "We can try and replace `linalg.norm` with the square root of the dot product. We can go further and assume the input are float arrays to save some more microseconds."
   ]
  },
  {
   "cell_type": "code",
   "execution_count": 23,
   "metadata": {
    "collapsed": true
   },
   "outputs": [],
   "source": [
    "def kepler_py2(k, r0, v0, tof):\n",
    "    # Algorithm parameters\n",
    "    rtol = 1e-10\n",
    "    numiter = 50\n",
    "    \n",
    "    # Cache some results\n",
    "    dot_r0v0 = np.dot(r0, v0)\n",
    "    norm_r0 = np.sqrt(np.dot(r0, r0))\n",
    "    sqrt_mu = np.sqrt(k)\n",
    "    alpha = -np.dot(v0, v0) / k + 2 / norm_r0\n",
    "\n",
    "    # Newton-Raphson iteration on the Kepler equation\n",
    "    # Conservative initial guess\n",
    "    xi = sqrt_mu * tof / norm_r0\n",
    "    count = 0\n",
    "    while count < numiter:\n",
    "        psi = xi * xi * alpha\n",
    "        c2_psi = c2(psi)\n",
    "        c3_psi = c3(psi)\n",
    "        norm_r = xi * xi * c2_psi + dot_r0v0 / sqrt_mu * xi * (1 - psi * c3_psi) + norm_r0 * (1 - psi * c2_psi)\n",
    "        xi_new = xi + (sqrt_mu * tof - xi * xi * xi * c3_psi - dot_r0v0 / sqrt_mu * xi * xi * c2_psi -\n",
    "                       norm_r0 * xi * (1 - psi * c3_psi)) / norm_r\n",
    "        if abs((xi_new - xi) / xi_new) < rtol:\n",
    "            break\n",
    "        else:\n",
    "            xi = xi_new\n",
    "            count += 1\n",
    "    else:\n",
    "        raise RuntimeError(\"Convergence could not be achieved under \"\n",
    "                           \"%d iterations\" % numiter)\n",
    "\n",
    "    # Compute Lagrange coefficients\n",
    "    f = 1 - xi**2 / norm_r0 * c2_psi\n",
    "    g = tof - xi**3 / sqrt_mu * c3_psi\n",
    "\n",
    "    gdot = 1 - xi**2 / norm_r * c2_psi\n",
    "    fdot = sqrt_mu / (norm_r * norm_r0) * xi * (psi * c3_psi - 1)\n",
    "\n",
    "    # Return position and velocity vectors\n",
    "    r = f * r0 + g * v0\n",
    "    v = fdot * r0 + gdot * v0\n",
    "\n",
    "    assert np.abs(f * gdot - fdot * g - 1) < rtol\n",
    "\n",
    "    return r, v"
   ]
  },
  {
   "cell_type": "code",
   "execution_count": 24,
   "metadata": {
    "collapsed": true
   },
   "outputs": [],
   "source": [
    "r_py2, v_py2 = kepler_py2(k_, r0_, v0_, tof_)\n",
    "r_py2 *= u.km\n",
    "v_py2 *= u.km / u.s"
   ]
  },
  {
   "cell_type": "code",
   "execution_count": 25,
   "metadata": {
    "collapsed": false
   },
   "outputs": [],
   "source": [
    "np.testing.assert_array_almost_equal(r_py2.value, r.value)\n",
    "np.testing.assert_array_almost_equal(v_py2.value, v.value)"
   ]
  },
  {
   "cell_type": "code",
   "execution_count": 26,
   "metadata": {
    "collapsed": false,
    "scrolled": true
   },
   "outputs": [
    {
     "name": "stdout",
     "output_type": "stream",
     "text": [
      "The slowest run took 7.97 times longer than the fastest. This could mean that an intermediate result is being cached \n",
      "10000 loops, best of 3: 38.1 µs per loop\n"
     ]
    }
   ],
   "source": [
    "%timeit kepler_py2(k_, r0_, v0_, tof_)"
   ]
  },
  {
   "cell_type": "markdown",
   "metadata": {},
   "source": [
    "## Optimized Python + numba version\n",
    "\n",
    "We cut the time in half! We still have another bullet: numba. This will require some work though, because we will have to provide some work arrays from outside to use the functions `np.abs` and `np.dot`, and in particular the latest one is not available."
   ]
  },
  {
   "cell_type": "code",
   "execution_count": 12,
   "metadata": {
    "collapsed": false
   },
   "outputs": [],
   "source": [
    "import numba\n",
    "\n",
    "def kepler_numba(k, r0, v0, tof, numiter=50, rtol=1e-10):\n",
    "    \"\"\"Propagates Keplerian orbit.\n",
    "\n",
    "    Parameters\n",
    "    ----------\n",
    "    k : float\n",
    "        Gravitational constant of main attractor (km^3 / s^2).\n",
    "    r0 : array\n",
    "        Initial position (km).\n",
    "    v0 : array\n",
    "        Initial velocity (km).\n",
    "    tof : float\n",
    "        Time of flight (s).\n",
    "    numiter : int, optional\n",
    "        Maximum number of iterations, default to 50.\n",
    "    rtol : float, optional\n",
    "        Maximum relative error permitted, default to 1e-10.\n",
    "\n",
    "    Raises\n",
    "    ------\n",
    "    RuntimeError\n",
    "        If the algorithm didn't converge.\n",
    "\n",
    "    Notes\n",
    "    -----\n",
    "    This algorithm is based on Vallado implementation, and does basic Newton\n",
    "    iteration on the Kepler equation written using universal variables. Battin\n",
    "    claims his algorithm uses the same amount of memory but is between 40 %\n",
    "    and 85 % faster.\n",
    "\n",
    "    \"\"\"\n",
    "    # Compute Lagrange coefficients\n",
    "    try:\n",
    "        f, g, fdot, gdot = _kepler(k, r0, v0, tof, numiter, rtol)\n",
    "    except RuntimeError:\n",
    "        raise RuntimeError(\"Convergence could not be achieved under \"\n",
    "                           \"%d iterations\" % numiter)\n",
    "\n",
    "    assert np.abs(f * gdot - fdot * g - 1) < rtol\n",
    "\n",
    "    # Return position and velocity vectors\n",
    "    r = f * r0 + g * v0\n",
    "    v = fdot * r0 + gdot * v0\n",
    "\n",
    "    return r, v\n",
    "\n",
    "@numba.njit('f8(f8[:], f8[:])')\n",
    "def dot(u, v):\n",
    "    dp = 0.0\n",
    "    for ii in range(u.shape[0]):\n",
    "        dp += u[ii] * v[ii]\n",
    "    return dp\n",
    "\n",
    "@numba.njit\n",
    "def _kepler(k, r0, v0, tof, numiter, rtol):\n",
    "    # Cache some results\n",
    "    dot_r0v0 = dot(r0, v0)\n",
    "    norm_r0 = dot(r0, r0) ** .5\n",
    "    sqrt_mu = k**.5\n",
    "    alpha = -dot(v0, v0) / k + 2 / norm_r0\n",
    "\n",
    "    # Newton-Raphson iteration on the Kepler equation\n",
    "    # Conservative initial guess\n",
    "    xi = sqrt_mu * tof / norm_r0\n",
    "    xi_new = xi\n",
    "    count = 0\n",
    "    while count < numiter:\n",
    "        psi = xi * xi * alpha\n",
    "        c2_psi = c2(psi)\n",
    "        c3_psi = c3(psi)\n",
    "        norm_r = xi * xi * c2_psi + dot_r0v0 / sqrt_mu * xi * (1 - psi * c3_psi) + norm_r0 * (1 - psi * c2_psi)\n",
    "        xi_new = xi + (sqrt_mu * tof - xi * xi * xi * c3_psi - dot_r0v0 / sqrt_mu * xi * xi * c2_psi -\n",
    "                       norm_r0 * xi * (1 - psi * c3_psi)) / norm_r\n",
    "        if abs((xi_new - xi) / xi_new) < rtol:\n",
    "            break\n",
    "        else:\n",
    "            xi = xi_new\n",
    "            count += 1\n",
    "    else:\n",
    "        raise RuntimeError\n",
    "\n",
    "    # Compute Lagrange coefficients\n",
    "    f = 1 - xi**2 / norm_r0 * c2_psi\n",
    "    g = tof - xi**3 / sqrt_mu * c3_psi\n",
    "\n",
    "    gdot = 1 - xi**2 / norm_r * c2_psi\n",
    "    fdot = sqrt_mu / (norm_r * norm_r0) * xi * (psi * c3_psi - 1)\n",
    "\n",
    "    return f, g, fdot, gdot"
   ]
  },
  {
   "cell_type": "code",
   "execution_count": 28,
   "metadata": {
    "collapsed": false
   },
   "outputs": [],
   "source": [
    "r_numba, v_numba = kepler_numba(k_, r0_, v0_, tof_)\n",
    "r_numba *= u.km\n",
    "v_numba *= u.km / u.s"
   ]
  },
  {
   "cell_type": "code",
   "execution_count": 29,
   "metadata": {
    "collapsed": false
   },
   "outputs": [],
   "source": [
    "np.testing.assert_array_almost_equal(r_numba.value, r.value)\n",
    "np.testing.assert_array_almost_equal(v_numba.value, v.value)"
   ]
  },
  {
   "cell_type": "code",
   "execution_count": 30,
   "metadata": {
    "collapsed": false
   },
   "outputs": [
    {
     "data": {
      "text/latex": [
       "$[-4219.7762,~4363.0457,~-3958.7497] \\; \\mathrm{km}$"
      ],
      "text/plain": [
       "<Quantity [-4219.77617109, 4363.04569716,-3958.74972246] km>"
      ]
     },
     "execution_count": 30,
     "metadata": {},
     "output_type": "execute_result"
    }
   ],
   "source": [
    "r_numba"
   ]
  },
  {
   "cell_type": "code",
   "execution_count": 31,
   "metadata": {
    "collapsed": false
   },
   "outputs": [
    {
     "data": {
      "text/latex": [
       "$[3.6898377,~-1.9167093,~-6.1125185] \\; \\mathrm{\\frac{km}{s}}$"
      ],
      "text/plain": [
       "<Quantity [ 3.68983773,-1.91670933,-6.11251847] km / s>"
      ]
     },
     "execution_count": 31,
     "metadata": {},
     "output_type": "execute_result"
    }
   ],
   "source": [
    "v_numba"
   ]
  },
  {
   "cell_type": "code",
   "execution_count": 32,
   "metadata": {
    "collapsed": false
   },
   "outputs": [
    {
     "name": "stdout",
     "output_type": "stream",
     "text": [
      "The slowest run took 6.97 times longer than the fastest. This could mean that an intermediate result is being cached \n",
      "100000 loops, best of 3: 12.3 µs per loop\n"
     ]
    }
   ],
   "source": [
    "%timeit kepler_numba(k_, r0_, v0_, tof_)"
   ]
  },
  {
   "cell_type": "markdown",
   "metadata": {},
   "source": [
    "**We achieved a 0.9x factor with the pure Python version**. We still have to test what happens for longer times and for non-elliptic orbits and compare both cases, but in any case the results are promising."
   ]
  },
  {
   "cell_type": "markdown",
   "metadata": {},
   "source": [
    "## Benchmark\n",
    "\n",
    "We will cover a range of values of eccentricity to compare both versions, plotting computation time vs time of flight"
   ]
  },
  {
   "cell_type": "code",
   "execution_count": 33,
   "metadata": {
    "collapsed": true
   },
   "outputs": [],
   "source": [
    "%matplotlib inline\n",
    "from poliastro.twobody import State\n",
    "from poliastro.plotting import plot\n",
    "import matplotlib.pyplot as plt"
   ]
  },
  {
   "cell_type": "code",
   "execution_count": 34,
   "metadata": {
    "collapsed": false
   },
   "outputs": [
    {
     "name": "stdout",
     "output_type": "stream",
     "text": [
      "[  2400.           4835.86478811   7271.72957622   9707.59436432\n",
      "  12143.45915243  14579.32394054  17015.18872865  19451.05351675\n",
      "  21886.91830486  24322.78309297]\n"
     ]
    },
    {
     "data": {
      "text/plain": [
       "[<matplotlib.lines.Line2D at 0x7f6634716588>,\n",
       " <matplotlib.lines.Line2D at 0x7f66346ab240>]"
      ]
     },
     "execution_count": 34,
     "metadata": {},
     "output_type": "execute_result"
    },
    {
     "data": {
      "image/png": "[encoded data removed]",
      "text/plain": [
       "<matplotlib.figure.Figure at 0x7f663472f5f8>"
      ]
     },
     "metadata": {},
     "output_type": "display_data"
    }
   ],
   "source": [
    "ss = State.from_vectors(Earth, r0, v0)\n",
    "tof_range = np.linspace(tof.to(u.s).value,\n",
    "                        (ss.period * 4).to(u.s).value,\n",
    "                        num=10)\n",
    "print(tof_range)\n",
    "plot(ss)"
   ]
  },
  {
   "cell_type": "code",
   "execution_count": 35,
   "metadata": {
    "collapsed": false
   },
   "outputs": [
    {
     "name": "stdout",
     "output_type": "stream",
     "text": [
      "The slowest run took 4.03 times longer than the fastest. This could mean that an intermediate result is being cached \n",
      "100000 loops, best of 3: 11 µs per loop\n",
      "100000 loops, best of 3: 12.4 µs per loop\n",
      "100000 loops, best of 3: 11.3 µs per loop\n",
      "The slowest run took 4.14 times longer than the fastest. This could mean that an intermediate result is being cached \n",
      "100000 loops, best of 3: 12.2 µs per loop\n",
      "100000 loops, best of 3: 11.2 µs per loop\n",
      "100000 loops, best of 3: 12.1 µs per loop\n",
      "100000 loops, best of 3: 11.1 µs per loop\n",
      "The slowest run took 4.28 times longer than the fastest. This could mean that an intermediate result is being cached \n",
      "100000 loops, best of 3: 12.2 µs per loop\n",
      "100000 loops, best of 3: 11.3 µs per loop\n",
      "The slowest run took 4.17 times longer than the fastest. This could mean that an intermediate result is being cached \n",
      "100000 loops, best of 3: 12.2 µs per loop\n",
      "100000 loops, best of 3: 11.2 µs per loop\n",
      "The slowest run took 4.05 times longer than the fastest. This could mean that an intermediate result is being cached \n",
      "100000 loops, best of 3: 12.1 µs per loop\n",
      "100000 loops, best of 3: 11.2 µs per loop\n",
      "100000 loops, best of 3: 12.7 µs per loop\n",
      "The slowest run took 4.54 times longer than the fastest. This could mean that an intermediate result is being cached \n",
      "100000 loops, best of 3: 10.9 µs per loop\n",
      "100000 loops, best of 3: 12.7 µs per loop\n",
      "100000 loops, best of 3: 11 µs per loop\n",
      "The slowest run took 4.31 times longer than the fastest. This could mean that an intermediate result is being cached \n",
      "100000 loops, best of 3: 12 µs per loop\n",
      "100000 loops, best of 3: 11 µs per loop\n",
      "The slowest run took 4.12 times longer than the fastest. This could mean that an intermediate result is being cached \n",
      "100000 loops, best of 3: 13.5 µs per loop\n"
     ]
    }
   ],
   "source": [
    "res_fortran = []\n",
    "res_numba = []\n",
    "for tof_ in tof_range:\n",
    "    timeit_res_fortran = %timeit -o propagation.kepler(k_, r0_, v0_, tof_)\n",
    "    timeit_res_numba = %timeit -o kepler_numba(k_, r0_, v0_, tof_)\n",
    "    res_fortran.append(timeit_res_fortran.best)\n",
    "    res_numba.append(timeit_res_numba.best)"
   ]
  },
  {
   "cell_type": "code",
   "execution_count": 36,
   "metadata": {
    "collapsed": false
   },
   "outputs": [
    {
     "data": {
      "image/png": "[encoded data removed]",
      "text/plain": [
       "<matplotlib.figure.Figure at 0x7f663467e8d0>"
      ]
     },
     "metadata": {},
     "output_type": "display_data"
    }
   ],
   "source": [
    "plt.figure(figsize=(6, 5))\n",
    "plt.plot(tof_range, res_numba, label=\"Numba\")\n",
    "plt.plot(tof_range, res_fortran, label=\"Fortran\")\n",
    "plt.legend(loc=4)\n",
    "plt.ylim(0)\n",
    "plt.xlabel(\"Time of flight\")\n",
    "plt.xticks(rotation=45)\n",
    "plt.ylabel(\"Computation time\")\n",
    "plt.title(\"Elliptic orbit ($e = {:.3f}$)\".format(ss.ecc))\n",
    "plt.tight_layout()"
   ]
  },
  {
   "cell_type": "code",
   "execution_count": 37,
   "metadata": {
    "collapsed": false
   },
   "outputs": [
    {
     "name": "stdout",
     "output_type": "stream",
     "text": [
      "[  2400.           6007.38086754   9614.76173509  13222.14260263\n",
      "  16829.52347018  20436.90433772  24044.28520526  27651.66607281\n",
      "  31259.04694035  34866.42780789]\n"
     ]
    },
    {
     "data": {
      "text/plain": [
       "[<matplotlib.lines.Line2D at 0x7f6622b50828>,\n",
       " <matplotlib.lines.Line2D at 0x7f6622b544a8>]"
      ]
     },
     "execution_count": 37,
     "metadata": {},
     "output_type": "execute_result"
    },
    {
     "data": {
      "image/png": "[encoded data removed]",
      "text/plain": [
       "<matplotlib.figure.Figure at 0x7f663472f3c8>"
      ]
     },
     "metadata": {},
     "output_type": "display_data"
    }
   ],
   "source": [
    "ss = State.from_vectors(Earth, r0, v0 * 1.1)\n",
    "tof_range = np.linspace(tof.to(u.s).value,\n",
    "                        (ss.period * 4).to(u.s).value,\n",
    "                        num=10)\n",
    "print(tof_range)\n",
    "plot(ss)"
   ]
  },
  {
   "cell_type": "code",
   "execution_count": 38,
   "metadata": {
    "collapsed": false
   },
   "outputs": [
    {
     "name": "stdout",
     "output_type": "stream",
     "text": [
      "The slowest run took 4.19 times longer than the fastest. This could mean that an intermediate result is being cached \n",
      "100000 loops, best of 3: 11.3 µs per loop\n",
      "100000 loops, best of 3: 12.5 µs per loop\n",
      "100000 loops, best of 3: 11 µs per loop\n",
      "100000 loops, best of 3: 12.9 µs per loop\n",
      "100000 loops, best of 3: 10.9 µs per loop\n",
      "The slowest run took 4.01 times longer than the fastest. This could mean that an intermediate result is being cached \n",
      "100000 loops, best of 3: 12.7 µs per loop\n",
      "The slowest run took 4.29 times longer than the fastest. This could mean that an intermediate result is being cached \n",
      "100000 loops, best of 3: 11.1 µs per loop\n",
      "The slowest run took 4.15 times longer than the fastest. This could mean that an intermediate result is being cached \n",
      "100000 loops, best of 3: 12.6 µs per loop\n",
      "100000 loops, best of 3: 10.7 µs per loop\n",
      "100000 loops, best of 3: 12.6 µs per loop\n",
      "The slowest run took 4.31 times longer than the fastest. This could mean that an intermediate result is being cached \n",
      "100000 loops, best of 3: 10.9 µs per loop\n",
      "100000 loops, best of 3: 12.9 µs per loop\n",
      "100000 loops, best of 3: 11.2 µs per loop\n",
      "The slowest run took 4.19 times longer than the fastest. This could mean that an intermediate result is being cached \n",
      "100000 loops, best of 3: 12.6 µs per loop\n",
      "100000 loops, best of 3: 10.9 µs per loop\n",
      "The slowest run took 4.03 times longer than the fastest. This could mean that an intermediate result is being cached \n",
      "100000 loops, best of 3: 12.9 µs per loop\n",
      "100000 loops, best of 3: 10.9 µs per loop\n",
      "The slowest run took 4.36 times longer than the fastest. This could mean that an intermediate result is being cached \n",
      "100000 loops, best of 3: 12.9 µs per loop\n",
      "100000 loops, best of 3: 10.9 µs per loop\n",
      "The slowest run took 4.13 times longer than the fastest. This could mean that an intermediate result is being cached \n",
      "100000 loops, best of 3: 13.3 µs per loop\n"
     ]
    }
   ],
   "source": [
    "res_fortran = []\n",
    "res_numba = []\n",
    "r0_ = ss.r.to(u.km).value\n",
    "v0_ = ss.v.to(u.km / u.s).value\n",
    "for tof_ in tof_range:\n",
    "    timeit_res_fortran = %timeit -o propagation.kepler(k_, r0_, v0_, tof_)\n",
    "    timeit_res_numba = %timeit -o kepler_numba(k_, r0_, v0_, tof_)\n",
    "    res_fortran.append(timeit_res_fortran.best)\n",
    "    res_numba.append(timeit_res_numba.best)"
   ]
  },
  {
   "cell_type": "code",
   "execution_count": 39,
   "metadata": {
    "collapsed": false
   },
   "outputs": [
    {
     "data": {
      "image/png": "[encoded data removed]",
      "text/plain": [
       "<matplotlib.figure.Figure at 0x7f6622bcc860>"
      ]
     },
     "metadata": {},
     "output_type": "display_data"
    }
   ],
   "source": [
    "plt.figure(figsize=(6, 5))\n",
    "plt.plot(tof_range, res_numba, label=\"Numba\")\n",
    "plt.plot(tof_range, res_fortran, label=\"Fortran\")\n",
    "plt.legend(loc=4)\n",
    "plt.ylim(0)\n",
    "plt.xlabel(\"Time of flight\")\n",
    "plt.xticks(rotation=45)\n",
    "plt.ylabel(\"Computation time\")\n",
    "plt.title(\"Moderate eccentricity elliptic orbit ($e = {:.3f}$)\".format(ss.ecc))\n",
    "plt.tight_layout()"
   ]
  },
  {
   "cell_type": "code",
   "execution_count": 40,
   "metadata": {
    "collapsed": false
   },
   "outputs": [
    {
     "name": "stdout",
     "output_type": "stream",
     "text": [
      "[   2400.           60937.43670331  119474.87340662  178012.31010993\n",
      "  236549.74681324  295087.18351655  353624.62021986  412162.05692317\n",
      "  470699.49362648  529236.93032979]\n"
     ]
    },
    {
     "data": {
      "text/plain": [
       "[<matplotlib.lines.Line2D at 0x7f66229fd400>,\n",
       " <matplotlib.lines.Line2D at 0x7f6622a02080>]"
      ]
     },
     "execution_count": 40,
     "metadata": {},
     "output_type": "execute_result"
    },
    {
     "data": {
      "image/png": "[encoded data removed]",
      "text/plain": [
       "<matplotlib.figure.Figure at 0x7f6622b7a0b8>"
      ]
     },
     "metadata": {},
     "output_type": "display_data"
    }
   ],
   "source": [
    "ss = State.from_vectors(Earth, r0, v0 * 1.38)\n",
    "tof_range = np.linspace(tof.to(u.s).value,\n",
    "                        (ss.period * 2).to(u.s).value,\n",
    "                        num=10)\n",
    "print(tof_range)\n",
    "plot(ss)"
   ]
  },
  {
   "cell_type": "code",
   "execution_count": 41,
   "metadata": {
    "collapsed": false
   },
   "outputs": [
    {
     "name": "stdout",
     "output_type": "stream",
     "text": [
      "The slowest run took 4.31 times longer than the fastest. This could mean that an intermediate result is being cached \n",
      "100000 loops, best of 3: 11.1 µs per loop\n"
     ]
    },
    {
     "ename": "AssertionError",
     "evalue": "",
     "output_type": "error",
     "traceback": [
      "\u001b[1;31m---------------------------------------------------------------------------\u001b[0m",
      "\u001b[1;31mAssertionError\u001b[0m                            Traceback (most recent call last)",
      "\u001b[1;32m<ipython-input-41-8514d6104636>\u001b[0m in \u001b[0;36m<module>\u001b[1;34m()\u001b[0m\n\u001b[0;32m      5\u001b[0m \u001b[1;32mfor\u001b[0m \u001b[0mtof_\u001b[0m \u001b[1;32min\u001b[0m \u001b[0mtof_range\u001b[0m\u001b[1;33m:\u001b[0m\u001b[1;33m\u001b[0m\u001b[0m\n\u001b[0;32m      6\u001b[0m     \u001b[0mtimeit_res_fortran\u001b[0m \u001b[1;33m=\u001b[0m \u001b[0mget_ipython\u001b[0m\u001b[1;33m(\u001b[0m\u001b[1;33m)\u001b[0m\u001b[1;33m.\u001b[0m\u001b[0mmagic\u001b[0m\u001b[1;33m(\u001b[0m\u001b[1;34m'timeit -o propagation.kepler(k_, r0_, v0_, tof_)'\u001b[0m\u001b[1;33m)\u001b[0m\u001b[1;33m\u001b[0m\u001b[0m\n\u001b[1;32m----> 7\u001b[1;33m     \u001b[0mtimeit_res_numba\u001b[0m \u001b[1;33m=\u001b[0m \u001b[0mget_ipython\u001b[0m\u001b[1;33m(\u001b[0m\u001b[1;33m)\u001b[0m\u001b[1;33m.\u001b[0m\u001b[0mmagic\u001b[0m\u001b[1;33m(\u001b[0m\u001b[1;34m'timeit -o kepler_numba(k_, r0_, v0_, tof_)'\u001b[0m\u001b[1;33m)\u001b[0m\u001b[1;33m\u001b[0m\u001b[0m\n\u001b[0m\u001b[0;32m      8\u001b[0m     \u001b[0mres_fortran\u001b[0m\u001b[1;33m.\u001b[0m\u001b[0mappend\u001b[0m\u001b[1;33m(\u001b[0m\u001b[0mtimeit_res_fortran\u001b[0m\u001b[1;33m.\u001b[0m\u001b[0mbest\u001b[0m\u001b[1;33m)\u001b[0m\u001b[1;33m\u001b[0m\u001b[0m\n\u001b[0;32m      9\u001b[0m     \u001b[0mres_numba\u001b[0m\u001b[1;33m.\u001b[0m\u001b[0mappend\u001b[0m\u001b[1;33m(\u001b[0m\u001b[0mtimeit_res_numba\u001b[0m\u001b[1;33m.\u001b[0m\u001b[0mbest\u001b[0m\u001b[1;33m)\u001b[0m\u001b[1;33m\u001b[0m\u001b[0m\n",
      "\u001b[1;32m/home/juanlu/.miniconda3/envs/poliastro34/lib/python3.4/site-packages/IPython/core/interactiveshell.py\u001b[0m in \u001b[0;36mmagic\u001b[1;34m(self, arg_s)\u001b[0m\n\u001b[0;32m   2302\u001b[0m         \u001b[0mmagic_name\u001b[0m\u001b[1;33m,\u001b[0m \u001b[0m_\u001b[0m\u001b[1;33m,\u001b[0m \u001b[0mmagic_arg_s\u001b[0m \u001b[1;33m=\u001b[0m \u001b[0marg_s\u001b[0m\u001b[1;33m.\u001b[0m\u001b[0mpartition\u001b[0m\u001b[1;33m(\u001b[0m\u001b[1;34m' '\u001b[0m\u001b[1;33m)\u001b[0m\u001b[1;33m\u001b[0m\u001b[0m\n\u001b[0;32m   2303\u001b[0m         \u001b[0mmagic_name\u001b[0m \u001b[1;33m=\u001b[0m \u001b[0mmagic_name\u001b[0m\u001b[1;33m.\u001b[0m\u001b[0mlstrip\u001b[0m\u001b[1;33m(\u001b[0m\u001b[0mprefilter\u001b[0m\u001b[1;33m.\u001b[0m\u001b[0mESC_MAGIC\u001b[0m\u001b[1;33m)\u001b[0m\u001b[1;33m\u001b[0m\u001b[0m\n\u001b[1;32m-> 2304\u001b[1;33m         \u001b[1;32mreturn\u001b[0m \u001b[0mself\u001b[0m\u001b[1;33m.\u001b[0m\u001b[0mrun_line_magic\u001b[0m\u001b[1;33m(\u001b[0m\u001b[0mmagic_name\u001b[0m\u001b[1;33m,\u001b[0m \u001b[0mmagic_arg_s\u001b[0m\u001b[1;33m)\u001b[0m\u001b[1;33m\u001b[0m\u001b[0m\n\u001b[0m\u001b[0;32m   2305\u001b[0m \u001b[1;33m\u001b[0m\u001b[0m\n\u001b[0;32m   2306\u001b[0m     \u001b[1;31m#-------------------------------------------------------------------------\u001b[0m\u001b[1;33m\u001b[0m\u001b[1;33m\u001b[0m\u001b[0m\n",
      "\u001b[1;32m/home/juanlu/.miniconda3/envs/poliastro34/lib/python3.4/site-packages/IPython/core/interactiveshell.py\u001b[0m in \u001b[0;36mrun_line_magic\u001b[1;34m(self, magic_name, line)\u001b[0m\n\u001b[0;32m   2223\u001b[0m                 \u001b[0mkwargs\u001b[0m\u001b[1;33m[\u001b[0m\u001b[1;34m'local_ns'\u001b[0m\u001b[1;33m]\u001b[0m \u001b[1;33m=\u001b[0m \u001b[0msys\u001b[0m\u001b[1;33m.\u001b[0m\u001b[0m_getframe\u001b[0m\u001b[1;33m(\u001b[0m\u001b[0mstack_depth\u001b[0m\u001b[1;33m)\u001b[0m\u001b[1;33m.\u001b[0m\u001b[0mf_locals\u001b[0m\u001b[1;33m\u001b[0m\u001b[0m\n\u001b[0;32m   2224\u001b[0m             \u001b[1;32mwith\u001b[0m \u001b[0mself\u001b[0m\u001b[1;33m.\u001b[0m\u001b[0mbuiltin_trap\u001b[0m\u001b[1;33m:\u001b[0m\u001b[1;33m\u001b[0m\u001b[0m\n\u001b[1;32m-> 2225\u001b[1;33m                 \u001b[0mresult\u001b[0m \u001b[1;33m=\u001b[0m \u001b[0mfn\u001b[0m\u001b[1;33m(\u001b[0m\u001b[1;33m*\u001b[0m\u001b[0margs\u001b[0m\u001b[1;33m,\u001b[0m\u001b[1;33m**\u001b[0m\u001b[0mkwargs\u001b[0m\u001b[1;33m)\u001b[0m\u001b[1;33m\u001b[0m\u001b[0m\n\u001b[0m\u001b[0;32m   2226\u001b[0m             \u001b[1;32mreturn\u001b[0m \u001b[0mresult\u001b[0m\u001b[1;33m\u001b[0m\u001b[0m\n\u001b[0;32m   2227\u001b[0m \u001b[1;33m\u001b[0m\u001b[0m\n",
      "\u001b[1;32m/home/juanlu/.miniconda3/envs/poliastro34/lib/python3.4/site-packages/IPython/core/magics/execution.py\u001b[0m in \u001b[0;36mtimeit\u001b[1;34m(self, line, cell)\u001b[0m\n",
      "\u001b[1;32m/home/juanlu/.miniconda3/envs/poliastro34/lib/python3.4/site-packages/IPython/core/magic.py\u001b[0m in \u001b[0;36m<lambda>\u001b[1;34m(f, *a, **k)\u001b[0m\n\u001b[0;32m    191\u001b[0m     \u001b[1;31m# but it's overkill for just that one bit of state.\u001b[0m\u001b[1;33m\u001b[0m\u001b[1;33m\u001b[0m\u001b[0m\n\u001b[0;32m    192\u001b[0m     \u001b[1;32mdef\u001b[0m \u001b[0mmagic_deco\u001b[0m\u001b[1;33m(\u001b[0m\u001b[0marg\u001b[0m\u001b[1;33m)\u001b[0m\u001b[1;33m:\u001b[0m\u001b[1;33m\u001b[0m\u001b[0m\n\u001b[1;32m--> 193\u001b[1;33m         \u001b[0mcall\u001b[0m \u001b[1;33m=\u001b[0m \u001b[1;32mlambda\u001b[0m \u001b[0mf\u001b[0m\u001b[1;33m,\u001b[0m \u001b[1;33m*\u001b[0m\u001b[0ma\u001b[0m\u001b[1;33m,\u001b[0m \u001b[1;33m**\u001b[0m\u001b[0mk\u001b[0m\u001b[1;33m:\u001b[0m \u001b[0mf\u001b[0m\u001b[1;33m(\u001b[0m\u001b[1;33m*\u001b[0m\u001b[0ma\u001b[0m\u001b[1;33m,\u001b[0m \u001b[1;33m**\u001b[0m\u001b[0mk\u001b[0m\u001b[1;33m)\u001b[0m\u001b[1;33m\u001b[0m\u001b[0m\n\u001b[0m\u001b[0;32m    194\u001b[0m \u001b[1;33m\u001b[0m\u001b[0m\n\u001b[0;32m    195\u001b[0m         \u001b[1;32mif\u001b[0m \u001b[0mcallable\u001b[0m\u001b[1;33m(\u001b[0m\u001b[0marg\u001b[0m\u001b[1;33m)\u001b[0m\u001b[1;33m:\u001b[0m\u001b[1;33m\u001b[0m\u001b[0m\n",
      "\u001b[1;32m/home/juanlu/.miniconda3/envs/poliastro34/lib/python3.4/site-packages/IPython/core/magics/execution.py\u001b[0m in \u001b[0;36mtimeit\u001b[1;34m(self, line, cell)\u001b[0m\n\u001b[0;32m   1034\u001b[0m             \u001b[0mnumber\u001b[0m \u001b[1;33m=\u001b[0m \u001b[1;36m1\u001b[0m\u001b[1;33m\u001b[0m\u001b[0m\n\u001b[0;32m   1035\u001b[0m             \u001b[1;32mfor\u001b[0m \u001b[0m_\u001b[0m \u001b[1;32min\u001b[0m \u001b[0mrange\u001b[0m\u001b[1;33m(\u001b[0m\u001b[1;36m1\u001b[0m\u001b[1;33m,\u001b[0m \u001b[1;36m10\u001b[0m\u001b[1;33m)\u001b[0m\u001b[1;33m:\u001b[0m\u001b[1;33m\u001b[0m\u001b[0m\n\u001b[1;32m-> 1036\u001b[1;33m                 \u001b[0mtime_number\u001b[0m \u001b[1;33m=\u001b[0m \u001b[0mtimer\u001b[0m\u001b[1;33m.\u001b[0m\u001b[0mtimeit\u001b[0m\u001b[1;33m(\u001b[0m\u001b[0mnumber\u001b[0m\u001b[1;33m)\u001b[0m\u001b[1;33m\u001b[0m\u001b[0m\n\u001b[0m\u001b[0;32m   1037\u001b[0m                 \u001b[0mworst_tuning\u001b[0m \u001b[1;33m=\u001b[0m \u001b[0mmax\u001b[0m\u001b[1;33m(\u001b[0m\u001b[0mworst_tuning\u001b[0m\u001b[1;33m,\u001b[0m \u001b[0mtime_number\u001b[0m \u001b[1;33m/\u001b[0m \u001b[0mnumber\u001b[0m\u001b[1;33m)\u001b[0m\u001b[1;33m\u001b[0m\u001b[0m\n\u001b[0;32m   1038\u001b[0m                 \u001b[1;32mif\u001b[0m \u001b[0mtime_number\u001b[0m \u001b[1;33m>=\u001b[0m \u001b[1;36m0.2\u001b[0m\u001b[1;33m:\u001b[0m\u001b[1;33m\u001b[0m\u001b[0m\n",
      "\u001b[1;32m/home/juanlu/.miniconda3/envs/poliastro34/lib/python3.4/site-packages/IPython/core/magics/execution.py\u001b[0m in \u001b[0;36mtimeit\u001b[1;34m(self, number)\u001b[0m\n\u001b[0;32m    130\u001b[0m         \u001b[0mgc\u001b[0m\u001b[1;33m.\u001b[0m\u001b[0mdisable\u001b[0m\u001b[1;33m(\u001b[0m\u001b[1;33m)\u001b[0m\u001b[1;33m\u001b[0m\u001b[0m\n\u001b[0;32m    131\u001b[0m         \u001b[1;32mtry\u001b[0m\u001b[1;33m:\u001b[0m\u001b[1;33m\u001b[0m\u001b[0m\n\u001b[1;32m--> 132\u001b[1;33m             \u001b[0mtiming\u001b[0m \u001b[1;33m=\u001b[0m \u001b[0mself\u001b[0m\u001b[1;33m.\u001b[0m\u001b[0minner\u001b[0m\u001b[1;33m(\u001b[0m\u001b[0mit\u001b[0m\u001b[1;33m,\u001b[0m \u001b[0mself\u001b[0m\u001b[1;33m.\u001b[0m\u001b[0mtimer\u001b[0m\u001b[1;33m)\u001b[0m\u001b[1;33m\u001b[0m\u001b[0m\n\u001b[0m\u001b[0;32m    133\u001b[0m         \u001b[1;32mfinally\u001b[0m\u001b[1;33m:\u001b[0m\u001b[1;33m\u001b[0m\u001b[0m\n\u001b[0;32m    134\u001b[0m             \u001b[1;32mif\u001b[0m \u001b[0mgcold\u001b[0m\u001b[1;33m:\u001b[0m\u001b[1;33m\u001b[0m\u001b[0m\n",
      "\u001b[1;32m<magic-timeit>\u001b[0m in \u001b[0;36minner\u001b[1;34m(_it, _timer)\u001b[0m\n",
      "\u001b[1;32m<ipython-input-27-47b601c8b9d3>\u001b[0m in \u001b[0;36mkepler_numba\u001b[1;34m(k, r0, v0, tof, numiter, rtol)\u001b[0m\n\u001b[0;32m     39\u001b[0m                            \"%d iterations\" % numiter)\n\u001b[0;32m     40\u001b[0m \u001b[1;33m\u001b[0m\u001b[0m\n\u001b[1;32m---> 41\u001b[1;33m     \u001b[1;32massert\u001b[0m \u001b[0mnp\u001b[0m\u001b[1;33m.\u001b[0m\u001b[0mabs\u001b[0m\u001b[1;33m(\u001b[0m\u001b[0mf\u001b[0m \u001b[1;33m*\u001b[0m \u001b[0mgdot\u001b[0m \u001b[1;33m-\u001b[0m \u001b[0mfdot\u001b[0m \u001b[1;33m*\u001b[0m \u001b[0mg\u001b[0m \u001b[1;33m-\u001b[0m \u001b[1;36m1\u001b[0m\u001b[1;33m)\u001b[0m \u001b[1;33m<\u001b[0m \u001b[0mrtol\u001b[0m\u001b[1;33m\u001b[0m\u001b[0m\n\u001b[0m\u001b[0;32m     42\u001b[0m \u001b[1;33m\u001b[0m\u001b[0m\n\u001b[0;32m     43\u001b[0m     \u001b[1;31m# Return position and velocity vectors\u001b[0m\u001b[1;33m\u001b[0m\u001b[1;33m\u001b[0m\u001b[0m\n",
      "\u001b[1;31mAssertionError\u001b[0m: "
     ]
    }
   ],
   "source": [
    "res_fortran = []\n",
    "res_numba = []\n",
    "r0_ = ss.r.to(u.km).value\n",
    "v0_ = ss.v.to(u.km / u.s).value\n",
    "for tof_ in tof_range:\n",
    "    timeit_res_fortran = %timeit -o propagation.kepler(k_, r0_, v0_, tof_)\n",
    "    timeit_res_numba = %timeit -o kepler_numba(k_, r0_, v0_, tof_)\n",
    "    res_fortran.append(timeit_res_fortran.best)\n",
    "    res_numba.append(timeit_res_numba.best)"
   ]
  },
  {
   "cell_type": "markdown",
   "metadata": {},
   "source": [
    "<div class=\"alert alert-danger\">**Here I am starting to have problems with the propagation**.\n",
    "\n",
    "In principle convergence is achieved, but Vallado checks the assertion against 1e-5 always. This probably means using the same tolerance for the convergence and the assertion is too much, but do I have a way to prove it?</div>"
   ]
  },
  {
   "cell_type": "code",
   "execution_count": 42,
   "metadata": {
    "collapsed": false
   },
   "outputs": [
    {
     "name": "stdout",
     "output_type": "stream",
     "text": [
      "Automatic pdb calling has been turned ON\n"
     ]
    },
    {
     "data": {
      "text/plain": [
       "(array([-12884.90767054,  10484.55996297,   2223.90242549]),\n",
       " array([-3.76627342,  3.92262705, -3.67693817]))"
      ]
     },
     "execution_count": 42,
     "metadata": {},
     "output_type": "execute_result"
    }
   ],
   "source": [
    "%pdb\n",
    "kepler_numba(k_, r0_, v0_, tof_, rtol=1e-12)"
   ]
  },
  {
   "cell_type": "code",
   "execution_count": 43,
   "metadata": {
    "collapsed": false
   },
   "outputs": [
    {
     "ename": "AssertionError",
     "evalue": "",
     "output_type": "error",
     "traceback": [
      "\u001b[1;31m---------------------------------------------------------------------------\u001b[0m",
      "\u001b[1;31mAssertionError\u001b[0m                            Traceback (most recent call last)",
      "\u001b[1;32m<ipython-input-43-e134811ce542>\u001b[0m in \u001b[0;36m<module>\u001b[1;34m()\u001b[0m\n\u001b[1;32m----> 1\u001b[1;33m \u001b[0mkepler_numba\u001b[0m\u001b[1;33m(\u001b[0m\u001b[0mk_\u001b[0m\u001b[1;33m,\u001b[0m \u001b[0mr0_\u001b[0m\u001b[1;33m,\u001b[0m \u001b[0mv0_\u001b[0m\u001b[1;33m,\u001b[0m \u001b[0mtof_\u001b[0m\u001b[1;33m,\u001b[0m \u001b[0mrtol\u001b[0m\u001b[1;33m=\u001b[0m\u001b[1;36m1e-20\u001b[0m\u001b[1;33m)\u001b[0m\u001b[1;33m\u001b[0m\u001b[0m\n\u001b[0m",
      "\u001b[1;32m<ipython-input-27-47b601c8b9d3>\u001b[0m in \u001b[0;36mkepler_numba\u001b[1;34m(k, r0, v0, tof, numiter, rtol)\u001b[0m\n\u001b[0;32m     39\u001b[0m                            \"%d iterations\" % numiter)\n\u001b[0;32m     40\u001b[0m \u001b[1;33m\u001b[0m\u001b[0m\n\u001b[1;32m---> 41\u001b[1;33m     \u001b[1;32massert\u001b[0m \u001b[0mnp\u001b[0m\u001b[1;33m.\u001b[0m\u001b[0mabs\u001b[0m\u001b[1;33m(\u001b[0m\u001b[0mf\u001b[0m \u001b[1;33m*\u001b[0m \u001b[0mgdot\u001b[0m \u001b[1;33m-\u001b[0m \u001b[0mfdot\u001b[0m \u001b[1;33m*\u001b[0m \u001b[0mg\u001b[0m \u001b[1;33m-\u001b[0m \u001b[1;36m1\u001b[0m\u001b[1;33m)\u001b[0m \u001b[1;33m<\u001b[0m \u001b[0mrtol\u001b[0m\u001b[1;33m\u001b[0m\u001b[0m\n\u001b[0m\u001b[0;32m     42\u001b[0m \u001b[1;33m\u001b[0m\u001b[0m\n\u001b[0;32m     43\u001b[0m     \u001b[1;31m# Return position and velocity vectors\u001b[0m\u001b[1;33m\u001b[0m\u001b[1;33m\u001b[0m\u001b[0m\n",
      "\u001b[1;31mAssertionError\u001b[0m: "
     ]
    },
    {
     "name": "stdout",
     "output_type": "stream",
     "text": [
      "> \u001b[1;32m<ipython-input-27-47b601c8b9d3>\u001b[0m(41)\u001b[0;36mkepler_numba\u001b[1;34m()\u001b[0m\n",
      "\u001b[1;32m     40 \u001b[1;33m\u001b[1;33m\u001b[0m\u001b[0m\n",
      "\u001b[0m\u001b[1;32m---> 41 \u001b[1;33m    \u001b[1;32massert\u001b[0m \u001b[0mnp\u001b[0m\u001b[1;33m.\u001b[0m\u001b[0mabs\u001b[0m\u001b[1;33m(\u001b[0m\u001b[0mf\u001b[0m \u001b[1;33m*\u001b[0m \u001b[0mgdot\u001b[0m \u001b[1;33m-\u001b[0m \u001b[0mfdot\u001b[0m \u001b[1;33m*\u001b[0m \u001b[0mg\u001b[0m \u001b[1;33m-\u001b[0m \u001b[1;36m1\u001b[0m\u001b[1;33m)\u001b[0m \u001b[1;33m<\u001b[0m \u001b[0mrtol\u001b[0m\u001b[1;33m\u001b[0m\u001b[0m\n",
      "\u001b[0m\u001b[1;32m     42 \u001b[1;33m\u001b[1;33m\u001b[0m\u001b[0m\n",
      "\u001b[0m\n",
      "ipdb> p np.abs(f * gdot - fdot * g - 1)\n",
      "6.6613381477509392e-16\n",
      "ipdb> p rtol\n",
      "1e-20\n",
      "ipdb> p f * gdot - fdot * g\n",
      "1.0000000000000007\n",
      "ipdb> p f * gdot\n",
      "-0.17451735819387165\n",
      "ipdb> p fdot * g\n",
      "-1.1745173581938724\n",
      "ipdb> p np.linalg.cond([[f,g],[fdot,gdot]])\n",
      "2519127.1584023945\n",
      "ipdb> p \"%.e\" % np.linalg.cond([[f,g],[fdot,gdot]])\n",
      "'3e+06'\n",
      "ipdb> c\n"
     ]
    }
   ],
   "source": [
    "kepler_numba(k_, r0_, v0_, tof_, rtol=1e-20)"
   ]
  },
  {
   "cell_type": "markdown",
   "metadata": {
    "collapsed": true
   },
   "source": [
    "<div class=\"alert alert-warning\">**The transition matrix appears to be ill-conditioned**. Is this a general result for parabolic or near-parabolic orbits?</div>"
   ]
  },
  {
   "cell_type": "markdown",
   "metadata": {},
   "source": [
    "Let us try last a hyperbolic orbit:"
   ]
  },
  {
   "cell_type": "code",
   "execution_count": 44,
   "metadata": {
    "collapsed": false
   },
   "outputs": [
    {
     "name": "stdout",
     "output_type": "stream",
     "text": [
      "[ nan  nan  nan  nan  nan  nan  nan  nan  nan  nan]\n"
     ]
    },
    {
     "name": "stderr",
     "output_type": "stream",
     "text": [
      "/home/juanlu/Development/Python/poliastro/poliastro/twobody/state.py:256: RuntimeWarning: invalid value encountered in sqrt\n",
      "  n = np.sqrt(self.attractor.k / self.a ** 3) * u.rad\n"
     ]
    },
    {
     "data": {
      "text/plain": [
       "[<matplotlib.lines.Line2D at 0x7f6622afa9e8>,\n",
       " <matplotlib.lines.Line2D at 0x7f6622ae4d30>]"
      ]
     },
     "execution_count": 44,
     "metadata": {},
     "output_type": "execute_result"
    },
    {
     "data": {
      "image/png": "[encoded data removed]",
      "text/plain": [
       "<matplotlib.figure.Figure at 0x7f6622b05d30>"
      ]
     },
     "metadata": {},
     "output_type": "display_data"
    }
   ],
   "source": [
    "ss = State.from_vectors(Earth, r0, v0 * 1.8)\n",
    "tof_range = np.linspace(tof.to(u.s).value,\n",
    "                        (ss.period * 2).to(u.s).value,\n",
    "                        num=10)\n",
    "print(tof_range)\n",
    "plot(ss)"
   ]
  },
  {
   "cell_type": "markdown",
   "metadata": {},
   "source": [
    "<div class=\"alert alert-danger\">**There is a bug in poliastro**. We will have to fix it :)</div>"
   ]
  },
  {
   "cell_type": "code",
   "execution_count": 13,
   "metadata": {
    "collapsed": false
   },
   "outputs": [
    {
     "name": "stdout",
     "output_type": "stream",
     "text": [
      "100000 loops, best of 3: 11.9 µs per loop\n",
      "The slowest run took 14702.26 times longer than the fastest. This could mean that an intermediate result is being cached \n",
      "100000 loops, best of 3: 12.8 µs per loop\n",
      "100000 loops, best of 3: 11.1 µs per loop\n",
      "100000 loops, best of 3: 17 µs per loop\n",
      "100000 loops, best of 3: 11 µs per loop\n"
     ]
    },
    {
     "ename": "RuntimeError",
     "evalue": "Convergence could not be achieved under 50 iterations",
     "output_type": "error",
     "traceback": [
      "\u001b[1;31m---------------------------------------------------------------------------\u001b[0m",
      "\u001b[1;31mRuntimeError\u001b[0m                              Traceback (most recent call last)",
      "\u001b[1;32m<ipython-input-12-47b601c8b9d3>\u001b[0m in \u001b[0;36mkepler_numba\u001b[1;34m(k, r0, v0, tof, numiter, rtol)\u001b[0m\n\u001b[0;32m     35\u001b[0m     \u001b[1;32mtry\u001b[0m\u001b[1;33m:\u001b[0m\u001b[1;33m\u001b[0m\u001b[0m\n\u001b[1;32m---> 36\u001b[1;33m         \u001b[0mf\u001b[0m\u001b[1;33m,\u001b[0m \u001b[0mg\u001b[0m\u001b[1;33m,\u001b[0m \u001b[0mfdot\u001b[0m\u001b[1;33m,\u001b[0m \u001b[0mgdot\u001b[0m \u001b[1;33m=\u001b[0m \u001b[0m_kepler\u001b[0m\u001b[1;33m(\u001b[0m\u001b[0mk\u001b[0m\u001b[1;33m,\u001b[0m \u001b[0mr0\u001b[0m\u001b[1;33m,\u001b[0m \u001b[0mv0\u001b[0m\u001b[1;33m,\u001b[0m \u001b[0mtof\u001b[0m\u001b[1;33m,\u001b[0m \u001b[0mnumiter\u001b[0m\u001b[1;33m,\u001b[0m \u001b[0mrtol\u001b[0m\u001b[1;33m)\u001b[0m\u001b[1;33m\u001b[0m\u001b[0m\n\u001b[0m\u001b[0;32m     37\u001b[0m     \u001b[1;32mexcept\u001b[0m \u001b[0mRuntimeError\u001b[0m\u001b[1;33m:\u001b[0m\u001b[1;33m\u001b[0m\u001b[0m\n",
      "\u001b[1;31mRuntimeError\u001b[0m: <class 'RuntimeError'>",
      "\nDuring handling of the above exception, another exception occurred:\n",
      "\u001b[1;31mRuntimeError\u001b[0m                              Traceback (most recent call last)",
      "\u001b[1;32m<ipython-input-13-e46f9cfd3533>\u001b[0m in \u001b[0;36m<module>\u001b[1;34m()\u001b[0m\n\u001b[0;32m      8\u001b[0m \u001b[1;32mfor\u001b[0m \u001b[0mtof_\u001b[0m \u001b[1;32min\u001b[0m \u001b[0mtof_range\u001b[0m\u001b[1;33m:\u001b[0m\u001b[1;33m\u001b[0m\u001b[0m\n\u001b[0;32m      9\u001b[0m     \u001b[0mtimeit_res_fortran\u001b[0m \u001b[1;33m=\u001b[0m \u001b[0mget_ipython\u001b[0m\u001b[1;33m(\u001b[0m\u001b[1;33m)\u001b[0m\u001b[1;33m.\u001b[0m\u001b[0mmagic\u001b[0m\u001b[1;33m(\u001b[0m\u001b[1;34m'timeit -o propagation.kepler(k_, r0_, v0_, tof_)'\u001b[0m\u001b[1;33m)\u001b[0m\u001b[1;33m\u001b[0m\u001b[0m\n\u001b[1;32m---> 10\u001b[1;33m     \u001b[0mtimeit_res_numba\u001b[0m \u001b[1;33m=\u001b[0m \u001b[0mget_ipython\u001b[0m\u001b[1;33m(\u001b[0m\u001b[1;33m)\u001b[0m\u001b[1;33m.\u001b[0m\u001b[0mmagic\u001b[0m\u001b[1;33m(\u001b[0m\u001b[1;34m'timeit -o kepler_numba(k_, r0_, v0_, tof_)'\u001b[0m\u001b[1;33m)\u001b[0m\u001b[1;33m\u001b[0m\u001b[0m\n\u001b[0m\u001b[0;32m     11\u001b[0m     \u001b[0mres_fortran\u001b[0m\u001b[1;33m.\u001b[0m\u001b[0mappend\u001b[0m\u001b[1;33m(\u001b[0m\u001b[0mtimeit_res_fortran\u001b[0m\u001b[1;33m.\u001b[0m\u001b[0mbest\u001b[0m\u001b[1;33m)\u001b[0m\u001b[1;33m\u001b[0m\u001b[0m\n\u001b[0;32m     12\u001b[0m     \u001b[0mres_numba\u001b[0m\u001b[1;33m.\u001b[0m\u001b[0mappend\u001b[0m\u001b[1;33m(\u001b[0m\u001b[0mtimeit_res_numba\u001b[0m\u001b[1;33m.\u001b[0m\u001b[0mbest\u001b[0m\u001b[1;33m)\u001b[0m\u001b[1;33m\u001b[0m\u001b[0m\n",
      "\u001b[1;32m/home/juanlu/.miniconda3/envs/poliastro34/lib/python3.4/site-packages/IPython/core/interactiveshell.py\u001b[0m in \u001b[0;36mmagic\u001b[1;34m(self, arg_s)\u001b[0m\n\u001b[0;32m   2302\u001b[0m         \u001b[0mmagic_name\u001b[0m\u001b[1;33m,\u001b[0m \u001b[0m_\u001b[0m\u001b[1;33m,\u001b[0m \u001b[0mmagic_arg_s\u001b[0m \u001b[1;33m=\u001b[0m \u001b[0marg_s\u001b[0m\u001b[1;33m.\u001b[0m\u001b[0mpartition\u001b[0m\u001b[1;33m(\u001b[0m\u001b[1;34m' '\u001b[0m\u001b[1;33m)\u001b[0m\u001b[1;33m\u001b[0m\u001b[0m\n\u001b[0;32m   2303\u001b[0m         \u001b[0mmagic_name\u001b[0m \u001b[1;33m=\u001b[0m \u001b[0mmagic_name\u001b[0m\u001b[1;33m.\u001b[0m\u001b[0mlstrip\u001b[0m\u001b[1;33m(\u001b[0m\u001b[0mprefilter\u001b[0m\u001b[1;33m.\u001b[0m\u001b[0mESC_MAGIC\u001b[0m\u001b[1;33m)\u001b[0m\u001b[1;33m\u001b[0m\u001b[0m\n\u001b[1;32m-> 2304\u001b[1;33m         \u001b[1;32mreturn\u001b[0m \u001b[0mself\u001b[0m\u001b[1;33m.\u001b[0m\u001b[0mrun_line_magic\u001b[0m\u001b[1;33m(\u001b[0m\u001b[0mmagic_name\u001b[0m\u001b[1;33m,\u001b[0m \u001b[0mmagic_arg_s\u001b[0m\u001b[1;33m)\u001b[0m\u001b[1;33m\u001b[0m\u001b[0m\n\u001b[0m\u001b[0;32m   2305\u001b[0m \u001b[1;33m\u001b[0m\u001b[0m\n\u001b[0;32m   2306\u001b[0m     \u001b[1;31m#-------------------------------------------------------------------------\u001b[0m\u001b[1;33m\u001b[0m\u001b[1;33m\u001b[0m\u001b[0m\n",
      "\u001b[1;32m/home/juanlu/.miniconda3/envs/poliastro34/lib/python3.4/site-packages/IPython/core/interactiveshell.py\u001b[0m in \u001b[0;36mrun_line_magic\u001b[1;34m(self, magic_name, line)\u001b[0m\n\u001b[0;32m   2223\u001b[0m                 \u001b[0mkwargs\u001b[0m\u001b[1;33m[\u001b[0m\u001b[1;34m'local_ns'\u001b[0m\u001b[1;33m]\u001b[0m \u001b[1;33m=\u001b[0m \u001b[0msys\u001b[0m\u001b[1;33m.\u001b[0m\u001b[0m_getframe\u001b[0m\u001b[1;33m(\u001b[0m\u001b[0mstack_depth\u001b[0m\u001b[1;33m)\u001b[0m\u001b[1;33m.\u001b[0m\u001b[0mf_locals\u001b[0m\u001b[1;33m\u001b[0m\u001b[0m\n\u001b[0;32m   2224\u001b[0m             \u001b[1;32mwith\u001b[0m \u001b[0mself\u001b[0m\u001b[1;33m.\u001b[0m\u001b[0mbuiltin_trap\u001b[0m\u001b[1;33m:\u001b[0m\u001b[1;33m\u001b[0m\u001b[0m\n\u001b[1;32m-> 2225\u001b[1;33m                 \u001b[0mresult\u001b[0m \u001b[1;33m=\u001b[0m \u001b[0mfn\u001b[0m\u001b[1;33m(\u001b[0m\u001b[1;33m*\u001b[0m\u001b[0margs\u001b[0m\u001b[1;33m,\u001b[0m\u001b[1;33m**\u001b[0m\u001b[0mkwargs\u001b[0m\u001b[1;33m)\u001b[0m\u001b[1;33m\u001b[0m\u001b[0m\n\u001b[0m\u001b[0;32m   2226\u001b[0m             \u001b[1;32mreturn\u001b[0m \u001b[0mresult\u001b[0m\u001b[1;33m\u001b[0m\u001b[0m\n\u001b[0;32m   2227\u001b[0m \u001b[1;33m\u001b[0m\u001b[0m\n",
      "\u001b[1;32m/home/juanlu/.miniconda3/envs/poliastro34/lib/python3.4/site-packages/IPython/core/magics/execution.py\u001b[0m in \u001b[0;36mtimeit\u001b[1;34m(self, line, cell)\u001b[0m\n",
      "\u001b[1;32m/home/juanlu/.miniconda3/envs/poliastro34/lib/python3.4/site-packages/IPython/core/magic.py\u001b[0m in \u001b[0;36m<lambda>\u001b[1;34m(f, *a, **k)\u001b[0m\n\u001b[0;32m    191\u001b[0m     \u001b[1;31m# but it's overkill for just that one bit of state.\u001b[0m\u001b[1;33m\u001b[0m\u001b[1;33m\u001b[0m\u001b[0m\n\u001b[0;32m    192\u001b[0m     \u001b[1;32mdef\u001b[0m \u001b[0mmagic_deco\u001b[0m\u001b[1;33m(\u001b[0m\u001b[0marg\u001b[0m\u001b[1;33m)\u001b[0m\u001b[1;33m:\u001b[0m\u001b[1;33m\u001b[0m\u001b[0m\n\u001b[1;32m--> 193\u001b[1;33m         \u001b[0mcall\u001b[0m \u001b[1;33m=\u001b[0m \u001b[1;32mlambda\u001b[0m \u001b[0mf\u001b[0m\u001b[1;33m,\u001b[0m \u001b[1;33m*\u001b[0m\u001b[0ma\u001b[0m\u001b[1;33m,\u001b[0m \u001b[1;33m**\u001b[0m\u001b[0mk\u001b[0m\u001b[1;33m:\u001b[0m \u001b[0mf\u001b[0m\u001b[1;33m(\u001b[0m\u001b[1;33m*\u001b[0m\u001b[0ma\u001b[0m\u001b[1;33m,\u001b[0m \u001b[1;33m**\u001b[0m\u001b[0mk\u001b[0m\u001b[1;33m)\u001b[0m\u001b[1;33m\u001b[0m\u001b[0m\n\u001b[0m\u001b[0;32m    194\u001b[0m \u001b[1;33m\u001b[0m\u001b[0m\n\u001b[0;32m    195\u001b[0m         \u001b[1;32mif\u001b[0m \u001b[0mcallable\u001b[0m\u001b[1;33m(\u001b[0m\u001b[0marg\u001b[0m\u001b[1;33m)\u001b[0m\u001b[1;33m:\u001b[0m\u001b[1;33m\u001b[0m\u001b[0m\n",
      "\u001b[1;32m/home/juanlu/.miniconda3/envs/poliastro34/lib/python3.4/site-packages/IPython/core/magics/execution.py\u001b[0m in \u001b[0;36mtimeit\u001b[1;34m(self, line, cell)\u001b[0m\n\u001b[0;32m   1034\u001b[0m             \u001b[0mnumber\u001b[0m \u001b[1;33m=\u001b[0m \u001b[1;36m1\u001b[0m\u001b[1;33m\u001b[0m\u001b[0m\n\u001b[0;32m   1035\u001b[0m             \u001b[1;32mfor\u001b[0m \u001b[0m_\u001b[0m \u001b[1;32min\u001b[0m \u001b[0mrange\u001b[0m\u001b[1;33m(\u001b[0m\u001b[1;36m1\u001b[0m\u001b[1;33m,\u001b[0m \u001b[1;36m10\u001b[0m\u001b[1;33m)\u001b[0m\u001b[1;33m:\u001b[0m\u001b[1;33m\u001b[0m\u001b[0m\n\u001b[1;32m-> 1036\u001b[1;33m                 \u001b[0mtime_number\u001b[0m \u001b[1;33m=\u001b[0m \u001b[0mtimer\u001b[0m\u001b[1;33m.\u001b[0m\u001b[0mtimeit\u001b[0m\u001b[1;33m(\u001b[0m\u001b[0mnumber\u001b[0m\u001b[1;33m)\u001b[0m\u001b[1;33m\u001b[0m\u001b[0m\n\u001b[0m\u001b[0;32m   1037\u001b[0m                 \u001b[0mworst_tuning\u001b[0m \u001b[1;33m=\u001b[0m \u001b[0mmax\u001b[0m\u001b[1;33m(\u001b[0m\u001b[0mworst_tuning\u001b[0m\u001b[1;33m,\u001b[0m \u001b[0mtime_number\u001b[0m \u001b[1;33m/\u001b[0m \u001b[0mnumber\u001b[0m\u001b[1;33m)\u001b[0m\u001b[1;33m\u001b[0m\u001b[0m\n\u001b[0;32m   1038\u001b[0m                 \u001b[1;32mif\u001b[0m \u001b[0mtime_number\u001b[0m \u001b[1;33m>=\u001b[0m \u001b[1;36m0.2\u001b[0m\u001b[1;33m:\u001b[0m\u001b[1;33m\u001b[0m\u001b[0m\n",
      "\u001b[1;32m/home/juanlu/.miniconda3/envs/poliastro34/lib/python3.4/site-packages/IPython/core/magics/execution.py\u001b[0m in \u001b[0;36mtimeit\u001b[1;34m(self, number)\u001b[0m\n\u001b[0;32m    130\u001b[0m         \u001b[0mgc\u001b[0m\u001b[1;33m.\u001b[0m\u001b[0mdisable\u001b[0m\u001b[1;33m(\u001b[0m\u001b[1;33m)\u001b[0m\u001b[1;33m\u001b[0m\u001b[0m\n\u001b[0;32m    131\u001b[0m         \u001b[1;32mtry\u001b[0m\u001b[1;33m:\u001b[0m\u001b[1;33m\u001b[0m\u001b[0m\n\u001b[1;32m--> 132\u001b[1;33m             \u001b[0mtiming\u001b[0m \u001b[1;33m=\u001b[0m \u001b[0mself\u001b[0m\u001b[1;33m.\u001b[0m\u001b[0minner\u001b[0m\u001b[1;33m(\u001b[0m\u001b[0mit\u001b[0m\u001b[1;33m,\u001b[0m \u001b[0mself\u001b[0m\u001b[1;33m.\u001b[0m\u001b[0mtimer\u001b[0m\u001b[1;33m)\u001b[0m\u001b[1;33m\u001b[0m\u001b[0m\n\u001b[0m\u001b[0;32m    133\u001b[0m         \u001b[1;32mfinally\u001b[0m\u001b[1;33m:\u001b[0m\u001b[1;33m\u001b[0m\u001b[0m\n\u001b[0;32m    134\u001b[0m             \u001b[1;32mif\u001b[0m \u001b[0mgcold\u001b[0m\u001b[1;33m:\u001b[0m\u001b[1;33m\u001b[0m\u001b[0m\n",
      "\u001b[1;32m<magic-timeit>\u001b[0m in \u001b[0;36minner\u001b[1;34m(_it, _timer)\u001b[0m\n",
      "\u001b[1;32m<ipython-input-12-47b601c8b9d3>\u001b[0m in \u001b[0;36mkepler_numba\u001b[1;34m(k, r0, v0, tof, numiter, rtol)\u001b[0m\n\u001b[0;32m     37\u001b[0m     \u001b[1;32mexcept\u001b[0m \u001b[0mRuntimeError\u001b[0m\u001b[1;33m:\u001b[0m\u001b[1;33m\u001b[0m\u001b[0m\n\u001b[0;32m     38\u001b[0m         raise RuntimeError(\"Convergence could not be achieved under \"\n\u001b[1;32m---> 39\u001b[1;33m                            \"%d iterations\" % numiter)\n\u001b[0m\u001b[0;32m     40\u001b[0m \u001b[1;33m\u001b[0m\u001b[0m\n\u001b[0;32m     41\u001b[0m     \u001b[1;32massert\u001b[0m \u001b[0mnp\u001b[0m\u001b[1;33m.\u001b[0m\u001b[0mabs\u001b[0m\u001b[1;33m(\u001b[0m\u001b[0mf\u001b[0m \u001b[1;33m*\u001b[0m \u001b[0mgdot\u001b[0m \u001b[1;33m-\u001b[0m \u001b[0mfdot\u001b[0m \u001b[1;33m*\u001b[0m \u001b[0mg\u001b[0m \u001b[1;33m-\u001b[0m \u001b[1;36m1\u001b[0m\u001b[1;33m)\u001b[0m \u001b[1;33m<\u001b[0m \u001b[0mrtol\u001b[0m\u001b[1;33m\u001b[0m\u001b[0m\n",
      "\u001b[1;31mRuntimeError\u001b[0m: Convergence could not be achieved under 50 iterations"
     ]
    }
   ],
   "source": [
    "res_fortran = []\n",
    "res_numba = []\n",
    "r0_ = r0.value\n",
    "v0_ = 1.8 * v0.value\n",
    "tof_range = np.linspace(tof.to(u.s).value,\n",
    "                        100 * tof.to(u.s).value,\n",
    "                        num=10)\n",
    "for tof_ in tof_range:\n",
    "    timeit_res_fortran = %timeit -o propagation.kepler(k_, r0_, v0_, tof_)\n",
    "    timeit_res_numba = %timeit -o kepler_numba(k_, r0_, v0_, tof_)\n",
    "    res_fortran.append(timeit_res_fortran.best)\n",
    "    res_numba.append(timeit_res_numba.best)"
   ]
  },
  {
   "cell_type": "markdown",
   "metadata": {},
   "source": [
    "<div class=\"alert alert-danger\">**The initial guess for hyperbolic orbits is very bad**. This leads to very high number of iterations. The algorithm needs polishing in these cases.</div>"
   ]
  },
  {
   "cell_type": "code",
   "execution_count": 34,
   "metadata": {
    "collapsed": false
   },
   "outputs": [
    {
     "data": {
      "text/plain": [
       "(array([-361927.91045702,  316320.36232601,  -47558.03604272]),\n",
       " array([-6.33593488,  5.57736688, -1.03348124]))"
      ]
     },
     "execution_count": 34,
     "metadata": {},
     "output_type": "execute_result"
    }
   ],
   "source": [
    "kepler_numba(k_, r0_, v0_, tof_, 80)"
   ]
  },
  {
   "cell_type": "code",
   "execution_count": 31,
   "metadata": {
    "collapsed": false
   },
   "outputs": [
    {
     "name": "stdout",
     "output_type": "stream",
     "text": [
      "10000 loops, best of 3: 67.4 µs per loop\n"
     ]
    }
   ],
   "source": [
    "%timeit kepler_numba(k_, r0_, v0_, tof_, 80)"
   ]
  },
  {
   "cell_type": "code",
   "execution_count": 33,
   "metadata": {
    "collapsed": false
   },
   "outputs": [
    {
     "data": {
      "text/plain": [
       "(array([-361927.91045703,  316320.36232602,  -47558.03604272]),\n",
       " array([-6.33593488,  5.57736688, -1.03348124]))"
      ]
     },
     "execution_count": 33,
     "metadata": {},
     "output_type": "execute_result"
    }
   ],
   "source": [
    "propagation.kepler(k_, r0_, v0_, tof_)"
   ]
  },
  {
   "cell_type": "code",
   "execution_count": 32,
   "metadata": {
    "collapsed": false
   },
   "outputs": [
    {
     "name": "stdout",
     "output_type": "stream",
     "text": [
      "The slowest run took 4.87 times longer than the fastest. This could mean that an intermediate result is being cached \n",
      "10000 loops, best of 3: 27.9 µs per loop\n"
     ]
    }
   ],
   "source": [
    "%timeit propagation.kepler(k_, r0_, v0_, tof_)"
   ]
  },
  {
   "cell_type": "markdown",
   "metadata": {},
   "source": [
    "<div class=\"alert alert-info\">Pending:\n",
    "\n",
    "<ul>\n",
    "<li>Complete with graphs of time vs universal anomaly to study convergence properties.</li>\n",
    "<li>Use appropriate initial guess for hyperbolic orbits.</li>\n",
    "</ul>\n",
    "</div>"
   ]
  },
  {
   "cell_type": "markdown",
   "metadata": {},
   "source": [
    "---\n",
    "\n",
    "Another interesting side-thought: can I use the `scipy.optimize` functions with numbified callbacks? Does it save performance in this case?"
   ]
  }
 ],
 "metadata": {
  "kernelspec": {
   "display_name": "Python 3",
   "language": "python",
   "name": "python3"
  },
  "language_info": {
   "codemirror_mode": {
    "name": "ipython",
    "version": 3
   },
   "file_extension": ".py",
   "mimetype": "text/x-python",
   "name": "python",
   "nbconvert_exporter": "python",
   "pygments_lexer": "ipython3",
   "version": "3.4.3"
  }
 },
 "nbformat": 4,
 "nbformat_minor": 0
}
