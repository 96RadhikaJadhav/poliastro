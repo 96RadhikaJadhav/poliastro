{
 "cells": [
  {
   "cell_type": "code",
   "execution_count": 1,
   "metadata": {
    "collapsed": false,
    "scrolled": true
   },
   "outputs": [],
   "source": [
    "import numpy as np\n",
    "from astropy import units as u\n",
    "\n",
    "from poliastro.bodies import Earth\n",
    "from poliastro.twobody import propagation"
   ]
  },
  {
   "cell_type": "code",
   "execution_count": 2,
   "metadata": {
    "collapsed": false
   },
   "outputs": [],
   "source": [
    "k = Earth.k\n",
    "r0 = [1131.340, -2282.343, 6672.423] * u.km\n",
    "v0 = [-5.64305, 4.30333, 2.42879] * u.km / u.s\n",
    "tof = 40 * u.min"
   ]
  },
  {
   "cell_type": "code",
   "execution_count": 3,
   "metadata": {
    "collapsed": false
   },
   "outputs": [
    {
     "data": {
      "text/latex": [
       "$[1131.34,~-2282.343,~6672.423] \\; \\mathrm{km}$"
      ],
      "text/plain": [
       "<Quantity [ 1131.34 ,-2282.343, 6672.423] km>"
      ]
     },
     "execution_count": 3,
     "metadata": {},
     "output_type": "execute_result"
    }
   ],
   "source": [
    "r0"
   ]
  },
  {
   "cell_type": "code",
   "execution_count": 4,
   "metadata": {
    "collapsed": false
   },
   "outputs": [
    {
     "data": {
      "text/latex": [
       "$[-5.64305,~4.30333,~2.42879] \\; \\mathrm{\\frac{km}{s}}$"
      ],
      "text/plain": [
       "<Quantity [-5.64305, 4.30333, 2.42879] km / s>"
      ]
     },
     "execution_count": 4,
     "metadata": {},
     "output_type": "execute_result"
    }
   ],
   "source": [
    "v0"
   ]
  },
  {
   "cell_type": "code",
   "execution_count": 5,
   "metadata": {
    "collapsed": false
   },
   "outputs": [
    {
     "data": {
      "text/latex": [
       "$398600 \\; \\mathrm{\\frac{km^{3}}{s^{2}}}$"
      ],
      "text/plain": [
       "<Quantity 398600.0 km3 / s2>"
      ]
     },
     "execution_count": 5,
     "metadata": {},
     "output_type": "execute_result"
    }
   ],
   "source": [
    "k"
   ]
  },
  {
   "cell_type": "code",
   "execution_count": 6,
   "metadata": {
    "collapsed": false
   },
   "outputs": [
    {
     "data": {
      "text/latex": [
       "$40 \\; \\mathrm{min}$"
      ],
      "text/plain": [
       "<Quantity 40.0 min>"
      ]
     },
     "execution_count": 6,
     "metadata": {},
     "output_type": "execute_result"
    }
   ],
   "source": [
    "tof"
   ]
  },
  {
   "cell_type": "code",
   "execution_count": 7,
   "metadata": {
    "collapsed": true
   },
   "outputs": [],
   "source": [
    "propagation.kepler?"
   ]
  },
  {
   "cell_type": "code",
   "execution_count": 8,
   "metadata": {
    "collapsed": false
   },
   "outputs": [],
   "source": [
    "r, v = propagation.kepler(k.to(u.km**3 / u.s**2).value,\n",
    "                          r0.to(u.km).value,\n",
    "                          v0.to(u.km / u.s).value,\n",
    "                          tof.to(u.s).value)\n",
    "r *= u.km\n",
    "v *= u.km / u.s"
   ]
  },
  {
   "cell_type": "code",
   "execution_count": 9,
   "metadata": {
    "collapsed": false
   },
   "outputs": [
    {
     "data": {
      "text/latex": [
       "$[-4219.7762,~4363.0457,~-3958.7497] \\; \\mathrm{km}$"
      ],
      "text/plain": [
       "<Quantity [-4219.77617109, 4363.04569716,-3958.74972246] km>"
      ]
     },
     "execution_count": 9,
     "metadata": {},
     "output_type": "execute_result"
    }
   ],
   "source": [
    "r"
   ]
  },
  {
   "cell_type": "code",
   "execution_count": 10,
   "metadata": {
    "collapsed": false
   },
   "outputs": [
    {
     "data": {
      "text/latex": [
       "$[3.6898377,~-1.9167093,~-6.1125185] \\; \\mathrm{\\frac{km}{s}}$"
      ],
      "text/plain": [
       "<Quantity [ 3.68983773,-1.91670933,-6.11251847] km / s>"
      ]
     },
     "execution_count": 10,
     "metadata": {},
     "output_type": "execute_result"
    }
   ],
   "source": [
    "v"
   ]
  },
  {
   "cell_type": "markdown",
   "metadata": {},
   "source": [
    "Prepare the inputs to measure performance:"
   ]
  },
  {
   "cell_type": "code",
   "execution_count": 11,
   "metadata": {
    "collapsed": true
   },
   "outputs": [],
   "source": [
    "k_ = k.to(u.km**3 / u.s**2).value\n",
    "r0_ = r0.to(u.km).value\n",
    "v0_ = v0.to(u.km / u.s).value\n",
    "tof_ = tof.to(u.s).value"
   ]
  },
  {
   "cell_type": "code",
   "execution_count": 12,
   "metadata": {
    "collapsed": false
   },
   "outputs": [
    {
     "name": "stdout",
     "output_type": "stream",
     "text": [
      "The slowest run took 4.96 times longer than the fastest. This could mean that an intermediate result is being cached \n",
      "100000 loops, best of 3: 9.81 µs per loop\n"
     ]
    }
   ],
   "source": [
    "%timeit propagation.kepler(k_, r0_, v0_, tof_)"
   ]
  },
  {
   "cell_type": "markdown",
   "metadata": {},
   "source": [
    "Now we write our own implementation in pure Python. We will use numbified $c_2$ and $c_3$ functions for the moment."
   ]
  },
  {
   "cell_type": "code",
   "execution_count": 13,
   "metadata": {
    "collapsed": false
   },
   "outputs": [],
   "source": [
    "from poliastro.stumpff import c2, c3\n",
    "\n",
    "def kepler_py(k, r0, v0, tof):\n",
    "    # Prepare input\n",
    "    r0 = np.asarray(r0).astype(np.float)\n",
    "    v0 = np.asarray(v0).astype(np.float)\n",
    "    tof = float(tof)\n",
    "    assert r0.shape == (3,)\n",
    "    assert v0.shape == (3,)\n",
    "\n",
    "    # Cache some results\n",
    "    dot_r0v0 = np.dot(r0, v0)\n",
    "    norm_r0 = np.linalg.norm(r0)\n",
    "    sqrt_mu = np.sqrt(k)\n",
    "    alpha = -np.dot(v0, v0) / k + 2 / norm_r0\n",
    "\n",
    "    # Newton-Raphson iteration on the Kepler equation\n",
    "    # Conservative initial guess\n",
    "    xi = sqrt_mu * tof / norm_r0\n",
    "    numiter = 50\n",
    "    count = 0\n",
    "    while count < numiter:\n",
    "        psi = xi**2 * alpha\n",
    "        norm_r = xi**2 * c2(psi) + dot_r0v0 / sqrt_mu * xi * (1 - psi * c3(psi)) + norm_r0 * (1 - psi * c2(psi))\n",
    "        xi_new = xi + (sqrt_mu * tof - xi**3 * c3(psi) - dot_r0v0 / sqrt_mu * xi**2 * c2(psi) -\n",
    "                       norm_r0 * xi * (1 - psi * c3(psi))) / norm_r\n",
    "        err = np.abs((xi_new - xi) / xi_new)\n",
    "        if err < 1e-10:\n",
    "            break\n",
    "        else:\n",
    "            xi = xi_new\n",
    "            count += 1\n",
    "    else:\n",
    "        print(\"No convergence\")\n",
    "        return\n",
    "\n",
    "    # Compute Lagrange coefficients\n",
    "    f = 1 - xi**2 / norm_r0 * c2(psi)\n",
    "    g = tof - xi**3 / sqrt_mu * c3(psi)\n",
    "\n",
    "    gdot = 1 - xi**2 / norm_r * c2(psi)\n",
    "    fdot = sqrt_mu / (norm_r * norm_r0) * xi * (psi * c3(psi) - 1)\n",
    "\n",
    "    # Return position and velocity vectors\n",
    "    r = f * r0 + g * v0\n",
    "    v = fdot * r0 + gdot * v0\n",
    "\n",
    "    assert np.abs(f * gdot - fdot * g - 1) < 1e-6\n",
    "\n",
    "    return r, v"
   ]
  },
  {
   "cell_type": "code",
   "execution_count": 14,
   "metadata": {
    "collapsed": false
   },
   "outputs": [],
   "source": [
    "r_py, v_py = kepler_py(k_, r0_, v0_, tof_)\n",
    "r_py *= u.km\n",
    "v_py *= u.km / u.s"
   ]
  },
  {
   "cell_type": "code",
   "execution_count": 19,
   "metadata": {
    "collapsed": false
   },
   "outputs": [],
   "source": [
    "np.testing.assert_array_almost_equal(r_py.value, r.value)\n",
    "np.testing.assert_array_almost_equal(v_py.value, v.value)"
   ]
  },
  {
   "cell_type": "code",
   "execution_count": 20,
   "metadata": {
    "collapsed": false
   },
   "outputs": [
    {
     "data": {
      "text/latex": [
       "$[-4219.7762,~4363.0457,~-3958.7497] \\; \\mathrm{km}$"
      ],
      "text/plain": [
       "<Quantity [-4219.77617109, 4363.04569716,-3958.74972246] km>"
      ]
     },
     "execution_count": 20,
     "metadata": {},
     "output_type": "execute_result"
    }
   ],
   "source": [
    "r_py"
   ]
  },
  {
   "cell_type": "code",
   "execution_count": 21,
   "metadata": {
    "collapsed": false
   },
   "outputs": [
    {
     "name": "stdout",
     "output_type": "stream",
     "text": [
      "The slowest run took 4.76 times longer than the fastest. This could mean that an intermediate result is being cached \n",
      "10000 loops, best of 3: 70 µs per loop\n"
     ]
    }
   ],
   "source": [
    "%timeit kepler_py(k_, r0_, v0_, tof_)"
   ]
  },
  {
   "cell_type": "code",
   "execution_count": 22,
   "metadata": {
    "collapsed": false
   },
   "outputs": [
    {
     "name": "stdout",
     "output_type": "stream",
     "text": [
      "The slowest run took 4.34 times longer than the fastest. This could mean that an intermediate result is being cached \n",
      "100000 loops, best of 3: 10.3 µs per loop\n"
     ]
    }
   ],
   "source": [
    "%timeit propagation.kepler(k_, r0_, v0_, tof_)"
   ]
  },
  {
   "cell_type": "markdown",
   "metadata": {},
   "source": [
    "Our pure Python, non optimized version **is not *that* bad**! It stays in the same order of magnitude as the Fortran version for elliptic orbits at least. Let us see how can we improve the results."
   ]
  },
  {
   "cell_type": "code",
   "execution_count": 23,
   "metadata": {
    "collapsed": false
   },
   "outputs": [],
   "source": [
    "%load_ext line_profiler"
   ]
  },
  {
   "cell_type": "code",
   "execution_count": 24,
   "metadata": {
    "collapsed": false
   },
   "outputs": [],
   "source": [
    "%lprun -f kepler_py kepler_py(k_, r0_, v0_, tof_)"
   ]
  },
  {
   "cell_type": "markdown",
   "metadata": {},
   "source": [
    "According to line_profiler, 13 % of the time is spent in the two `asarray` calls and 14.5 % in the single `norm` computation."
   ]
  },
  {
   "cell_type": "code",
   "execution_count": 25,
   "metadata": {
    "collapsed": false
   },
   "outputs": [
    {
     "name": "stdout",
     "output_type": "stream",
     "text": [
      "The slowest run took 11.20 times longer than the fastest. This could mean that an intermediate result is being cached \n",
      "100000 loops, best of 3: 7.77 µs per loop\n"
     ]
    }
   ],
   "source": [
    "%timeit np.linalg.norm(r0_)"
   ]
  },
  {
   "cell_type": "code",
   "execution_count": 26,
   "metadata": {
    "collapsed": false
   },
   "outputs": [
    {
     "name": "stdout",
     "output_type": "stream",
     "text": [
      "The slowest run took 13.21 times longer than the fastest. This could mean that an intermediate result is being cached \n",
      "100000 loops, best of 3: 2.22 µs per loop\n"
     ]
    }
   ],
   "source": [
    "%timeit np.sqrt(np.dot(r0_, r0_))"
   ]
  },
  {
   "cell_type": "markdown",
   "metadata": {},
   "source": [
    "We can try and replace `linalg.norm` with the square root of the dot product. We can go further and assume the input are float arrays to save some more microseconds."
   ]
  },
  {
   "cell_type": "code",
   "execution_count": 27,
   "metadata": {
    "collapsed": true
   },
   "outputs": [],
   "source": [
    "def kepler_py2(k, r0, v0, tof):\n",
    "    # Algorithm parameters\n",
    "    rtol = 1e-10\n",
    "    numiter = 50\n",
    "    \n",
    "    # Cache some results\n",
    "    dot_r0v0 = np.dot(r0, v0)\n",
    "    norm_r0 = np.sqrt(np.dot(r0, r0))\n",
    "    sqrt_mu = np.sqrt(k)\n",
    "    alpha = -np.dot(v0, v0) / k + 2 / norm_r0\n",
    "\n",
    "    # Newton-Raphson iteration on the Kepler equation\n",
    "    # Conservative initial guess\n",
    "    xi = sqrt_mu * tof / norm_r0\n",
    "    count = 0\n",
    "    while count < numiter:\n",
    "        psi = xi * xi * alpha\n",
    "        c2_psi = c2(psi)\n",
    "        c3_psi = c3(psi)\n",
    "        norm_r = xi * xi * c2_psi + dot_r0v0 / sqrt_mu * xi * (1 - psi * c3_psi) + norm_r0 * (1 - psi * c2_psi)\n",
    "        xi_new = xi + (sqrt_mu * tof - xi * xi * xi * c3_psi - dot_r0v0 / sqrt_mu * xi * xi * c2_psi -\n",
    "                       norm_r0 * xi * (1 - psi * c3_psi)) / norm_r\n",
    "        if abs((xi_new - xi) / xi_new) < rtol:\n",
    "            break\n",
    "        else:\n",
    "            xi = xi_new\n",
    "            count += 1\n",
    "    else:\n",
    "        raise RuntimeError(\"Convergence could not be achieved under \"\n",
    "                           \"%d iterations\" % numiter)\n",
    "\n",
    "    # Compute Lagrange coefficients\n",
    "    f = 1 - xi**2 / norm_r0 * c2_psi\n",
    "    g = tof - xi**3 / sqrt_mu * c3_psi\n",
    "\n",
    "    gdot = 1 - xi**2 / norm_r * c2_psi\n",
    "    fdot = sqrt_mu / (norm_r * norm_r0) * xi * (psi * c3_psi - 1)\n",
    "\n",
    "    # Return position and velocity vectors\n",
    "    r = f * r0 + g * v0\n",
    "    v = fdot * r0 + gdot * v0\n",
    "\n",
    "    assert np.abs(f * gdot - fdot * g - 1) < rtol\n",
    "\n",
    "    return r, v"
   ]
  },
  {
   "cell_type": "code",
   "execution_count": 28,
   "metadata": {
    "collapsed": true
   },
   "outputs": [],
   "source": [
    "r_py2, v_py2 = kepler_py2(k_, r0_, v0_, tof_)\n",
    "r_py2 *= u.km\n",
    "v_py2 *= u.km / u.s"
   ]
  },
  {
   "cell_type": "code",
   "execution_count": 29,
   "metadata": {
    "collapsed": false
   },
   "outputs": [],
   "source": [
    "np.testing.assert_array_almost_equal(r_py2.value, r.value)\n",
    "np.testing.assert_array_almost_equal(v_py2.value, v.value)"
   ]
  },
  {
   "cell_type": "code",
   "execution_count": 30,
   "metadata": {
    "collapsed": false,
    "scrolled": true
   },
   "outputs": [
    {
     "name": "stdout",
     "output_type": "stream",
     "text": [
      "The slowest run took 6.68 times longer than the fastest. This could mean that an intermediate result is being cached \n",
      "10000 loops, best of 3: 34.6 µs per loop\n"
     ]
    }
   ],
   "source": [
    "%timeit kepler_py2(k_, r0_, v0_, tof_)"
   ]
  },
  {
   "cell_type": "markdown",
   "metadata": {},
   "source": [
    "We cut the time in half! We still have another bullet: numba. This will require some work though, because we will have to provide some work arrays from outside to use the functions `np.abs` and `np.dot`, and in particular the latest one is not available."
   ]
  },
  {
   "cell_type": "code",
   "execution_count": 31,
   "metadata": {
    "collapsed": false
   },
   "outputs": [],
   "source": [
    "import numba\n",
    "\n",
    "def kepler_numba(k, r0, v0, tof, numiter=50, rtol=1e-10):\n",
    "    \"\"\"Propagates Keplerian orbit.\n",
    "\n",
    "    Parameters\n",
    "    ----------\n",
    "    k : float\n",
    "        Gravitational constant of main attractor (km^3 / s^2).\n",
    "    r0 : array\n",
    "        Initial position (km).\n",
    "    v0 : array\n",
    "        Initial velocity (km).\n",
    "    tof : float\n",
    "        Time of flight (s).\n",
    "    numiter : int, optional\n",
    "        Maximum number of iterations, default to 50.\n",
    "    rtol : float, optional\n",
    "        Maximum relative error permitted, default to 1e-10.\n",
    "\n",
    "    Raises\n",
    "    ------\n",
    "    RuntimeError\n",
    "        If the algorithm didn't converge.\n",
    "\n",
    "    Notes\n",
    "    -----\n",
    "    This algorithm is based on Vallado implementation, and does basic Newton\n",
    "    iteration on the Kepler equation written using universal variables. Battin\n",
    "    claims his algorithm uses the same amount of memory but is between 40 %\n",
    "    and 85 % faster.\n",
    "\n",
    "    \"\"\"\n",
    "    # Compute Lagrange coefficients\n",
    "    try:\n",
    "        f, g, fdot, gdot = _kepler(k, r0, v0, tof, numiter, rtol)\n",
    "    except RuntimeError:\n",
    "        raise RuntimeError(\"Convergence could not be achieved under \"\n",
    "                           \"%d iterations\" % numiter)\n",
    "\n",
    "    assert np.abs(f * gdot - fdot * g - 1) < rtol\n",
    "\n",
    "    # Return position and velocity vectors\n",
    "    r = f * r0 + g * v0\n",
    "    v = fdot * r0 + gdot * v0\n",
    "\n",
    "    return r, v\n",
    "\n",
    "@numba.njit('f8(f8[:], f8[:])')\n",
    "def dot(u, v):\n",
    "    dp = 0.0\n",
    "    for ii in range(u.shape[0]):\n",
    "        dp += u[ii] * v[ii]\n",
    "    return dp\n",
    "\n",
    "@numba.njit\n",
    "def _kepler(k, r0, v0, tof, numiter, rtol):\n",
    "    # Cache some results\n",
    "    dot_r0v0 = dot(r0, v0)\n",
    "    norm_r0 = dot(r0, r0) ** .5\n",
    "    sqrt_mu = k**.5\n",
    "    alpha = -dot(v0, v0) / k + 2 / norm_r0\n",
    "\n",
    "    # Newton-Raphson iteration on the Kepler equation\n",
    "    # Conservative initial guess\n",
    "    xi = sqrt_mu * tof / norm_r0\n",
    "    xi_new = xi\n",
    "    count = 0\n",
    "    while count < numiter:\n",
    "        psi = xi * xi * alpha\n",
    "        c2_psi = c2(psi)\n",
    "        c3_psi = c3(psi)\n",
    "        norm_r = xi * xi * c2_psi + dot_r0v0 / sqrt_mu * xi * (1 - psi * c3_psi) + norm_r0 * (1 - psi * c2_psi)\n",
    "        xi_new = xi + (sqrt_mu * tof - xi * xi * xi * c3_psi - dot_r0v0 / sqrt_mu * xi * xi * c2_psi -\n",
    "                       norm_r0 * xi * (1 - psi * c3_psi)) / norm_r\n",
    "        if abs((xi_new - xi) / xi_new) < rtol:\n",
    "            break\n",
    "        else:\n",
    "            xi = xi_new\n",
    "            count += 1\n",
    "    else:\n",
    "        raise RuntimeError\n",
    "\n",
    "    # Compute Lagrange coefficients\n",
    "    f = 1 - xi**2 / norm_r0 * c2_psi\n",
    "    g = tof - xi**3 / sqrt_mu * c3_psi\n",
    "\n",
    "    gdot = 1 - xi**2 / norm_r * c2_psi\n",
    "    fdot = sqrt_mu / (norm_r * norm_r0) * xi * (psi * c3_psi - 1)\n",
    "\n",
    "    return f, g, fdot, gdot"
   ]
  },
  {
   "cell_type": "code",
   "execution_count": 32,
   "metadata": {
    "collapsed": false
   },
   "outputs": [],
   "source": [
    "r_numba, v_numba = kepler_numba(k_, r0_, v0_, tof_)\n",
    "r_numba *= u.km\n",
    "v_numba *= u.km / u.s"
   ]
  },
  {
   "cell_type": "code",
   "execution_count": 33,
   "metadata": {
    "collapsed": false
   },
   "outputs": [],
   "source": [
    "np.testing.assert_array_almost_equal(r_numba.value, r.value)\n",
    "np.testing.assert_array_almost_equal(v_numba.value, v.value)"
   ]
  },
  {
   "cell_type": "code",
   "execution_count": 34,
   "metadata": {
    "collapsed": false
   },
   "outputs": [
    {
     "data": {
      "text/latex": [
       "$[-4219.7762,~4363.0457,~-3958.7497] \\; \\mathrm{km}$"
      ],
      "text/plain": [
       "<Quantity [-4219.77617109, 4363.04569716,-3958.74972246] km>"
      ]
     },
     "execution_count": 34,
     "metadata": {},
     "output_type": "execute_result"
    }
   ],
   "source": [
    "r_numba"
   ]
  },
  {
   "cell_type": "code",
   "execution_count": 35,
   "metadata": {
    "collapsed": false
   },
   "outputs": [
    {
     "data": {
      "text/latex": [
       "$[3.6898377,~-1.9167093,~-6.1125185] \\; \\mathrm{\\frac{km}{s}}$"
      ],
      "text/plain": [
       "<Quantity [ 3.68983773,-1.91670933,-6.11251847] km / s>"
      ]
     },
     "execution_count": 35,
     "metadata": {},
     "output_type": "execute_result"
    }
   ],
   "source": [
    "v_numba"
   ]
  },
  {
   "cell_type": "code",
   "execution_count": 36,
   "metadata": {
    "collapsed": false
   },
   "outputs": [
    {
     "name": "stdout",
     "output_type": "stream",
     "text": [
      "The slowest run took 7.97 times longer than the fastest. This could mean that an intermediate result is being cached \n",
      "100000 loops, best of 3: 11.7 µs per loop\n"
     ]
    }
   ],
   "source": [
    "%timeit kepler_numba(k_, r0_, v0_, tof_)"
   ]
  },
  {
   "cell_type": "markdown",
   "metadata": {},
   "source": [
    "**We achieved a 0.9x factor with the pure Python version**. We still have to test what happens for longer times and for non-elliptic orbits and compare both cases, but in any case the results are promising.\n",
    "\n",
    "Another interesting side-thought: can I use the `scipy.optimize` functions with numbified callbacks? Does it save performance in this case?"
   ]
  }
 ],
 "metadata": {
  "kernelspec": {
   "display_name": "Python 3",
   "language": "python",
   "name": "python3"
  },
  "language_info": {
   "codemirror_mode": {
    "name": "ipython",
    "version": 3
   },
   "file_extension": ".py",
   "mimetype": "text/x-python",
   "name": "python",
   "nbconvert_exporter": "python",
   "pygments_lexer": "ipython3",
   "version": "3.4.3"
  }
 },
 "nbformat": 4,
 "nbformat_minor": 0
}
