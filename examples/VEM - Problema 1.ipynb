{
 "metadata": {
  "name": "",
  "signature": "sha256:57ea6c1da6959d9bcaca2a8453b2591fa5de7cf1156f70aa76a907145d97de18"
 },
 "nbformat": 3,
 "nbformat_minor": 0,
 "worksheets": [
  {
   "cells": [
    {
     "cell_type": "markdown",
     "metadata": {},
     "source": [
      "## Enunciado\n",
      "\n",
      "Un sat\u00e9lite artificial describe una \u00f3rbita circular alrededor de la tierra de radio $r_0$ y velocidad $V_0$.\n",
      "Desde dicho sat\u00e9lite se lanza un peque\u00f1o objeto con una velocidad con respecto al sat\u00e9lite de\n",
      "m\u00f3dulo $\\delta v = 10 $ m/s. Se supone que tanto la masa del objeto como $\\delta v$ son suficientemente\n",
      "peque\u00f1as para despreciar el efecto de variaci\u00f3n de masa y cantidad de movimiento del sat\u00e9lite.\n",
      "\n",
      "Para cada uno de los siguientes casos:\n",
      "\n",
      "* El objeto se lanza en la misma direcci\u00f3n y sentido que la velocidad del sat\u00e9lite\n",
      "* El objeto se lanza en direcci\u00f3n al centro de la tierra\n",
      "* El objeto se lanza en direcci\u00f3n perpendicular al plano de la \u00f3rbita del sat\u00e9lite\n",
      "\n",
      "Determinar:\n",
      "\n",
      "1. La m\u00e1xima separaci\u00f3n entre las \u00f3rbitas del sat\u00e9lite y del objeto\n",
      "2. La m\u00e1xima diferencia entre los m\u00f3dulos de las velocidades del sat\u00e9lite y del objeto\n",
      "\n",
      "Linealizar la soluci\u00f3n en $\\frac{\\delta v}{V_0}$."
     ]
    },
    {
     "cell_type": "code",
     "collapsed": false,
     "input": [
      "%matplotlib inline\n",
      "import numpy as np\n",
      "from numpy.linalg import norm\n",
      "\n",
      "import matplotlib.pyplot as plt\n",
      "\n",
      "from astropy import units as u\n",
      "\n",
      "from poliastro.util import norm\n",
      "\n",
      "from poliastro.bodies import Earth, Sun\n",
      "from poliastro.twobody import State\n",
      "from poliastro.maneuver import Maneuver\n",
      "from poliastro.plotting import OrbitPlotter"
     ],
     "language": "python",
     "metadata": {},
     "outputs": [],
     "prompt_number": 1
    },
    {
     "cell_type": "markdown",
     "metadata": {},
     "source": [
      "Definimos el estado inicial del sat\u00e9lite:"
     ]
    },
    {
     "cell_type": "code",
     "collapsed": false,
     "input": [
      "h0 = 1000 * u.km  # Una altura cualquiera\n",
      "ss0 = State.circular(Earth, h0)\n",
      "r0 = ss0.a\n",
      "V0 = ss0.v\n",
      "ss0.rv()"
     ],
     "language": "python",
     "metadata": {},
     "outputs": [
      {
       "metadata": {},
       "output_type": "pyout",
       "prompt_number": 2,
       "text": [
        "(<Quantity [ 7378.136,    0.   ,    0.   ] km>,\n",
        " <Quantity [ 0.        , 7.35013505, 0.        ] km / s>)"
       ]
      }
     ],
     "prompt_number": 2
    },
    {
     "cell_type": "markdown",
     "metadata": {},
     "source": [
      "### *Caso a)*: Incremento de velocidad colineal a $V_0$"
     ]
    },
    {
     "cell_type": "markdown",
     "metadata": {},
     "source": [
      "Vamos a definir un factor de proporcionalidad $\\epsilon = \\frac{|\\delta v|}{|V_0|} = \\frac{1}{1000}$."
     ]
    },
    {
     "cell_type": "code",
     "collapsed": false,
     "input": [
      "eps = 1 / 1000.\n",
      "dv = V0 * eps\n",
      "dv"
     ],
     "language": "python",
     "metadata": {},
     "outputs": [
      {
       "output_type": "stream",
       "stream": "stderr",
       "text": [
        "/home/juanlu/.local/lib/python3.3/site-packages/IPython/core/formatters.py:239: FormatterWarning: Exception in text/latex formatter: Unknown format code 'g' for object of type 'str'\n",
        "  FormatterWarning,\n"
       ]
      },
      {
       "metadata": {},
       "output_type": "pyout",
       "prompt_number": 3,
       "text": [
        "<Quantity [ 0.        , 0.00735014, 0.        ] km / s>"
       ]
      }
     ],
     "prompt_number": 3
    },
    {
     "cell_type": "markdown",
     "metadata": {},
     "source": [
      "Creamos una maniobra consistente en un impulso de valor $\\delta v$:"
     ]
    },
    {
     "cell_type": "code",
     "collapsed": false,
     "input": [
      "man1 = Maneuver.impulse(dv)\n",
      "man1"
     ],
     "language": "python",
     "metadata": {},
     "outputs": [
      {
       "metadata": {},
       "output_type": "pyout",
       "prompt_number": 4,
       "text": [
        "<poliastro.maneuver.Maneuver at 0x7fe5c042b050>"
       ]
      }
     ],
     "prompt_number": 4
    },
    {
     "cell_type": "markdown",
     "metadata": {},
     "source": [
      "Y calculamos el resultado:"
     ]
    },
    {
     "cell_type": "code",
     "collapsed": false,
     "input": [
      "ss1 = ss0.apply_maneuver(man1)\n",
      "ss1.rv()"
     ],
     "language": "python",
     "metadata": {},
     "outputs": [
      {
       "metadata": {},
       "output_type": "pyout",
       "prompt_number": 5,
       "text": [
        "(<Quantity [ 7378.136,    0.   ,    0.   ] km>,\n",
        " <Quantity [ 0.        , 7.35748519, 0.        ] km / s>)"
       ]
      }
     ],
     "prompt_number": 5
    },
    {
     "cell_type": "markdown",
     "metadata": {},
     "source": [
      "Comparamos de nuevo con el estado inicial, vemos que la velocidad se ha incrementado ligeramente:"
     ]
    },
    {
     "cell_type": "code",
     "collapsed": false,
     "input": [
      "ss0.rv()"
     ],
     "language": "python",
     "metadata": {},
     "outputs": [
      {
       "metadata": {},
       "output_type": "pyout",
       "prompt_number": 6,
       "text": [
        "(<Quantity [ 7378.136,    0.   ,    0.   ] km>,\n",
        " <Quantity [ 0.        , 7.35013505, 0.        ] km / s>)"
       ]
      }
     ],
     "prompt_number": 6
    },
    {
     "cell_type": "markdown",
     "metadata": {},
     "source": [
      "Comprobamos tambi\u00e9n que el incremento es el que especificamos al principio:"
     ]
    },
    {
     "cell_type": "code",
     "collapsed": false,
     "input": [
      "norm(ss1.v - ss0.v) / norm(ss0.v)"
     ],
     "language": "python",
     "metadata": {},
     "outputs": [
      {
       "latex": [
        "$0.001 \\; \\mathrm{}$"
       ],
       "metadata": {},
       "output_type": "pyout",
       "prompt_number": 7,
       "text": [
        "<Quantity 0.000999999999999954 >"
       ]
      }
     ],
     "prompt_number": 7
    },
    {
     "cell_type": "markdown",
     "metadata": {},
     "source": [
      "Como era de esperar, la \u00f3rbita no es el\u00edptica:"
     ]
    },
    {
     "cell_type": "code",
     "collapsed": false,
     "input": [
      "ss1.ecc"
     ],
     "language": "python",
     "metadata": {},
     "outputs": [
      {
       "latex": [
        "$0.002001 \\; \\mathrm{}$"
       ],
       "metadata": {},
       "output_type": "pyout",
       "prompt_number": 8,
       "text": [
        "<Quantity 0.002000999999999915 >"
       ]
      }
     ],
     "prompt_number": 8
    },
    {
     "cell_type": "markdown",
     "metadata": {},
     "source": [
      "La **m\u00e1xima separaci\u00f3n** entre las dos \u00f3rbitas estar\u00e1 en el apogeo de la \u00f3rbita modificada, puesto que en el perigeo coinciden."
     ]
    },
    {
     "cell_type": "code",
     "collapsed": false,
     "input": [
      "from mpl_toolkits.axes_grid1.inset_locator import zoomed_inset_axes\n",
      "from mpl_toolkits.axes_grid1.inset_locator import mark_inset\n",
      "\n",
      "fig, ax = plt.subplots(figsize=(8, 6))\n",
      "op = OrbitPlotter(ax)\n",
      "\n",
      "_, l0 = op.plot(ss0)\n",
      "l, l1 = op.plot(ss1)\n",
      "l0.set_label(\"\u00d3rbita inicial\")\n",
      "l1.set_label(\"\u00d3rbita resultante\")\n",
      "ax.set_xlim(-11000, 8000)\n",
      "\n",
      "leg = ax.legend()\n",
      "leg.get_frame().set_facecolor('#fafafa')\n",
      "\n",
      "ax_zoom = zoomed_inset_axes(ax, 10, loc=6, axes_kwargs={'axisbg': '#fafafa'})\n",
      "op_zoom = OrbitPlotter(ax_zoom, num_points=1000)\n",
      "\n",
      "op_zoom.plot(ss0)\n",
      "op_zoom.plot(ss1)\n",
      "\n",
      "ax_zoom.set_xlim(-ss1.r_a.to(u.km).value - 100, -ss1.r_a.to(u.km).value + 150)\n",
      "ax_zoom.set_ylim(-650, 650)\n",
      "ax_zoom.set_xticks([])\n",
      "ax_zoom.set_yticks([0])\n",
      "ax_zoom.set_yticklabels([])\n",
      "ax_zoom.set_xlabel(\"\")\n",
      "ax_zoom.set_ylabel(\"\")\n",
      "ax_zoom.set_title(\"10x zoom\")\n",
      "mark_inset(ax, ax_zoom, 1, 4, fc='none')\n",
      "\n",
      "plt.savefig(\"caso_a.png\")"
     ],
     "language": "python",
     "metadata": {},
     "outputs": [
      {
       "metadata": {},
       "output_type": "display_data",
       "png": "[encoded data removed]",
       "text": [
        "<matplotlib.figure.Figure at 0x7fe5a9529f90>"
       ]
      }
     ],
     "prompt_number": 9
    },
    {
     "cell_type": "markdown",
     "metadata": {},
     "source": [
      "La predicci\u00f3n te\u00f3rica para el semieje mayor de la nueva \u00f3rbita es\n",
      "\n",
      "$$a \\sim \\frac{r_0}{1 - 2 \\frac{\\delta v}{V_0}}$$\n",
      "\n",
      "Comprobamos:"
     ]
    },
    {
     "cell_type": "code",
     "collapsed": false,
     "input": [
      "a_teorico = r0.to(u.km) / (1 - 2 * eps)\n",
      "a_teorico"
     ],
     "language": "python",
     "metadata": {},
     "outputs": [
      {
       "latex": [
        "$7392.92 \\; \\mathrm{km}$"
       ],
       "metadata": {},
       "output_type": "pyout",
       "prompt_number": 10,
       "text": [
        "<Quantity 7392.921843687375 km>"
       ]
      }
     ],
     "prompt_number": 10
    },
    {
     "cell_type": "code",
     "collapsed": false,
     "input": [
      "ss1.a"
     ],
     "language": "python",
     "metadata": {},
     "outputs": [
      {
       "latex": [
        "$7392.93 \\; \\mathrm{km}$"
       ],
       "metadata": {},
       "output_type": "pyout",
       "prompt_number": 11,
       "text": [
        "<Quantity 7392.929251432115 km>"
       ]
      }
     ],
     "prompt_number": 11
    },
    {
     "cell_type": "markdown",
     "metadata": {},
     "source": [
      "Ambos valores coinciden con un error relativo de una parte entre un mill\u00f3n:"
     ]
    },
    {
     "cell_type": "code",
     "collapsed": false,
     "input": [
      "(ss1.a - a_teorico) / ss1.a"
     ],
     "language": "python",
     "metadata": {},
     "outputs": [
      {
       "latex": [
        "$1.002\\times 10^{-06} \\; \\mathrm{}$"
       ],
       "metadata": {},
       "output_type": "pyout",
       "prompt_number": 12,
       "text": [
        "<Quantity 1.0020040078645434e-06 >"
       ]
      }
     ],
     "prompt_number": 12
    },
    {
     "cell_type": "markdown",
     "metadata": {},
     "source": [
      "La m\u00e1xima separaci\u00f3n te\u00f3rica es $d \\sim 4 r_0 \\frac{\\delta v}{V_0}$."
     ]
    },
    {
     "cell_type": "code",
     "collapsed": false,
     "input": [
      "d_teorica = 4 * r0.to(u.km) * eps\n",
      "d_teorica"
     ],
     "language": "python",
     "metadata": {},
     "outputs": [
      {
       "latex": [
        "$29.5125 \\; \\mathrm{km}$"
       ],
       "metadata": {},
       "output_type": "pyout",
       "prompt_number": 13,
       "text": [
        "<Quantity 29.512544000000002 km>"
       ]
      }
     ],
     "prompt_number": 13
    },
    {
     "cell_type": "code",
     "collapsed": false,
     "input": [
      "d = ss1.r_a - ss0.r_a\n",
      "d"
     ],
     "language": "python",
     "metadata": {},
     "outputs": [
      {
       "latex": [
        "$29.5865 \\; \\mathrm{km}$"
       ],
       "metadata": {},
       "output_type": "pyout",
       "prompt_number": 14,
       "text": [
        "<Quantity 29.58650286422926 km>"
       ]
      }
     ],
     "prompt_number": 14
    },
    {
     "cell_type": "markdown",
     "metadata": {},
     "source": [
      "El error relativo es menor del $0.25\\,\\%$:"
     ]
    },
    {
     "cell_type": "code",
     "collapsed": false,
     "input": [
      "(d_teorica - d) / d"
     ],
     "language": "python",
     "metadata": {},
     "outputs": [
      {
       "latex": [
        "$-0.00249975 \\; \\mathrm{}$"
       ],
       "metadata": {},
       "output_type": "pyout",
       "prompt_number": 15,
       "text": [
        "<Quantity -0.0024997501248677834 >"
       ]
      }
     ],
     "prompt_number": 15
    },
    {
     "cell_type": "markdown",
     "metadata": {},
     "source": [
      "La m\u00e1xima diferencia de velocidades se dar\u00e1 en el apogeo. Ahora mismo los objetos `State` no me dan directamente las velocidades en perigeo y apogeo, as\u00ed que se pueden calcular de dos formas:\n",
      "\n",
      "* usando la ecuaci\u00f3n de la energ\u00eda $v_a = \\sqrt{\\frac{2\\mu}{r_a} - \\frac{\\mu}{a}}$, o\n",
      "* propagando la \u00f3rbita hasta el apogeo (en este caso es f\u00e1cil de calcular el tiempo porque ser\u00e1 la mitad del per\u00edodo orbital) y calculando la velocidad del nuevo estado.\n",
      "\n",
      "Vamos a comprobar ambas formas:"
     ]
    },
    {
     "cell_type": "code",
     "collapsed": false,
     "input": [
      "mu = ss1.attractor.k\n",
      "va_energia = np.sqrt(2 * mu / ss1.r_a - mu / ss1.a)  # Esta operaci\u00f3n respeta las unidades\n",
      "va_energia"
     ],
     "language": "python",
     "metadata": {},
     "outputs": [
      {
       "latex": [
        "$7.3281 \\; \\mathrm{\\frac{km}{s}}$"
       ],
       "metadata": {},
       "output_type": "pyout",
       "prompt_number": 16,
       "text": [
        "<Quantity 7.328099334769713 km / s>"
       ]
      }
     ],
     "prompt_number": 16
    },
    {
     "cell_type": "markdown",
     "metadata": {},
     "source": [
      "<div class=\"alert info\">Lo bueno del segundo m\u00e9todo es que da el **vector** velocidad.</div>"
     ]
    },
    {
     "cell_type": "code",
     "collapsed": false,
     "input": [
      "ss1_a = ss1.propagate(time_of_flight=ss1.period / 2)\n",
      "va_prop = ss1_a.v\n",
      "va_prop"
     ],
     "language": "python",
     "metadata": {},
     "outputs": [
      {
       "metadata": {},
       "output_type": "pyout",
       "prompt_number": 17,
       "text": [
        "<Quantity [ 0.        ,-7.32809933, 0.        ] km / s>"
       ]
      }
     ],
     "prompt_number": 17
    },
    {
     "cell_type": "markdown",
     "metadata": {},
     "source": [
      "\u00a1Ambos valores son iguales hasta la precisi\u00f3n de la m\u00e1quina!"
     ]
    },
    {
     "cell_type": "code",
     "collapsed": false,
     "input": [
      "(va_energia - norm(va_prop)) / va_energia"
     ],
     "language": "python",
     "metadata": {},
     "outputs": [
      {
       "latex": [
        "$-6.06009\\times 10^{-16} \\; \\mathrm{}$"
       ],
       "metadata": {},
       "output_type": "pyout",
       "prompt_number": 18,
       "text": [
        "<Quantity -6.060087200824199e-16 >"
       ]
      }
     ],
     "prompt_number": 18
    },
    {
     "cell_type": "markdown",
     "metadata": {},
     "source": [
      "Finalmente comprobamos la diferencia de velocidades:"
     ]
    },
    {
     "cell_type": "code",
     "collapsed": false,
     "input": [
      "dv_teorica = 3 * eps\n",
      "dv_teorica"
     ],
     "language": "python",
     "metadata": {},
     "outputs": [
      {
       "metadata": {},
       "output_type": "pyout",
       "prompt_number": 19,
       "text": [
        "0.003"
       ]
      }
     ],
     "prompt_number": 19
    },
    {
     "cell_type": "code",
     "collapsed": false,
     "input": [
      "(norm(V0) - norm(va_prop)) / norm(V0)"
     ],
     "language": "python",
     "metadata": {},
     "outputs": [
      {
       "latex": [
        "$0.002998 \\; \\mathrm{}$"
       ],
       "metadata": {},
       "output_type": "pyout",
       "prompt_number": 20,
       "text": [
        "<Quantity 0.002998001998001219 >"
       ]
      }
     ],
     "prompt_number": 20
    },
    {
     "cell_type": "markdown",
     "metadata": {},
     "source": [
      "De nuevo la predicci\u00f3n te\u00f3rica coincide con el resultado obtenido."
     ]
    },
    {
     "cell_type": "markdown",
     "metadata": {},
     "source": [
      "### *Caso b)*: Incremento $\\delta v$ hacia el centro de la Tierra"
     ]
    },
    {
     "cell_type": "markdown",
     "metadata": {},
     "source": [
      "Trabajamos de nuevo con un factor de proporcionalidad $\\epsilon$"
     ]
    },
    {
     "cell_type": "code",
     "collapsed": false,
     "input": [
      "eps = 1 / 20."
     ],
     "language": "python",
     "metadata": {},
     "outputs": [],
     "prompt_number": 21
    },
    {
     "cell_type": "markdown",
     "metadata": {},
     "source": [
      "Definimos el nuevo incremento de velocidad en la direcci\u00f3n del vector de posici\u00f3n inicial y sentido hacia la Tierra:"
     ]
    },
    {
     "cell_type": "code",
     "collapsed": false,
     "input": [
      "r_vec = ss0.r\n",
      "dv = -r_vec / norm(r_vec) * norm(V0) * eps\n",
      "dv"
     ],
     "language": "python",
     "metadata": {},
     "outputs": [
      {
       "metadata": {},
       "output_type": "pyout",
       "prompt_number": 22,
       "text": [
        "<Quantity [-0.36750675,-0.        ,-0.        ] km / s>"
       ]
      }
     ],
     "prompt_number": 22
    },
    {
     "cell_type": "code",
     "collapsed": false,
     "input": [
      "man2 = Maneuver.impulse(dv)\n",
      "man2"
     ],
     "language": "python",
     "metadata": {},
     "outputs": [
      {
       "metadata": {},
       "output_type": "pyout",
       "prompt_number": 23,
       "text": [
        "<poliastro.maneuver.Maneuver at 0x7fe5a9529490>"
       ]
      }
     ],
     "prompt_number": 23
    },
    {
     "cell_type": "code",
     "collapsed": false,
     "input": [
      "ss2 = ss0.apply_maneuver(man2)\n",
      "ss2.rv()"
     ],
     "language": "python",
     "metadata": {},
     "outputs": [
      {
       "metadata": {},
       "output_type": "pyout",
       "prompt_number": 24,
       "text": [
        "(<Quantity [ 7378.136,    0.   ,    0.   ] km>,\n",
        " <Quantity [-0.36750675, 7.35013505, 0.        ] km / s>)"
       ]
      }
     ],
     "prompt_number": 24
    },
    {
     "cell_type": "markdown",
     "metadata": {},
     "source": [
      "De nuevo, la \u00f3rbita resultante no ser\u00e1 circular:"
     ]
    },
    {
     "cell_type": "code",
     "collapsed": false,
     "input": [
      "ss2.ecc"
     ],
     "language": "python",
     "metadata": {},
     "outputs": [
      {
       "latex": [
        "$0.05 \\; \\mathrm{}$"
       ],
       "metadata": {},
       "output_type": "pyout",
       "prompt_number": 25,
       "text": [
        "<Quantity 0.05 >"
       ]
      }
     ],
     "prompt_number": 25
    },
    {
     "cell_type": "markdown",
     "metadata": {},
     "source": [
      "Representamos ambas de nuevo para comprobar que el perigeo se ha desplazado."
     ]
    },
    {
     "cell_type": "code",
     "collapsed": false,
     "input": [
      "fig, ax = plt.subplots(figsize=(8, 6))\n",
      "op = OrbitPlotter(ax, num_points=1000)\n",
      "\n",
      "_, l0 = op.plot(ss0)\n",
      "l, l2 = op.plot(ss2)\n",
      "l0.set_label(\"\u00d3rbita inicial\")\n",
      "l2.set_label(\"\u00d3rbita resultante\")\n",
      "\n",
      "leg = ax.legend(loc=4)\n",
      "leg.get_frame().set_facecolor('#fafafa')\n",
      "\n",
      "plt.savefig(\"caso_b.png\")"
     ],
     "language": "python",
     "metadata": {},
     "outputs": [
      {
       "metadata": {},
       "output_type": "display_data",
       "png": "[encoded data removed]",
       "text": [
        "<matplotlib.figure.Figure at 0x7fe5a9515fd0>"
       ]
      }
     ],
     "prompt_number": 26
    }
   ],
   "metadata": {}
  }
 ]
}