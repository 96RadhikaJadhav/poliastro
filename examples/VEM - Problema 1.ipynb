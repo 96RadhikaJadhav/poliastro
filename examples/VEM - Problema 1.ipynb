{
 "cells": [
  {
   "cell_type": "markdown",
   "metadata": {},
   "source": [
    "## Enunciado\n",
    "\n",
    "Un satélite artificial describe una órbita circular alrededor de la tierra de radio $r_0$ y velocidad $V_0$.\n",
    "Desde dicho satélite se lanza un pequeño objeto con una velocidad con respecto al satélite de\n",
    "módulo $\\delta v = 10 $ m/s. Se supone que tanto la masa del objeto como $\\delta v$ son suficientemente\n",
    "pequeñas para despreciar el efecto de variación de masa y cantidad de movimiento del satélite.\n",
    "\n",
    "Para cada uno de los siguientes casos:\n",
    "\n",
    "* El objeto se lanza en la misma dirección y sentido que la velocidad del satélite\n",
    "* El objeto se lanza en dirección al centro de la tierra\n",
    "* El objeto se lanza en dirección perpendicular al plano de la órbita del satélite\n",
    "\n",
    "Determinar:\n",
    "\n",
    "1. La máxima separación entre las órbitas del satélite y del objeto\n",
    "2. La máxima diferencia entre los módulos de las velocidades del satélite y del objeto\n",
    "\n",
    "Linealizar la solución en $\\frac{\\delta v}{V_0}$."
   ]
  },
  {
   "cell_type": "code",
   "execution_count": 1,
   "metadata": {
    "collapsed": false
   },
   "outputs": [],
   "source": [
    "%matplotlib inline\n",
    "import numpy as np\n",
    "from numpy.linalg import norm\n",
    "\n",
    "import matplotlib.pyplot as plt\n",
    "\n",
    "from astropy import units as u\n",
    "\n",
    "from poliastro.util import norm\n",
    "\n",
    "from poliastro.bodies import Earth, Sun\n",
    "from poliastro.twobody import State\n",
    "from poliastro.maneuver import Maneuver\n",
    "from poliastro.plotting import OrbitPlotter"
   ]
  },
  {
   "cell_type": "markdown",
   "metadata": {},
   "source": [
    "Definimos el estado inicial del satélite:"
   ]
  },
  {
   "cell_type": "code",
   "execution_count": 2,
   "metadata": {
    "collapsed": false
   },
   "outputs": [
    {
     "data": {
      "text/plain": [
       "(<Quantity [ 7378.136,    0.   ,    0.   ] km>,\n",
       " <Quantity [ 0.        , 7.35013505, 0.        ] km / s>)"
      ]
     },
     "execution_count": 2,
     "metadata": {},
     "output_type": "execute_result"
    }
   ],
   "source": [
    "h0 = 1000 * u.km  # Una altura cualquiera\n",
    "ss0 = State.circular(Earth, h0)\n",
    "r0 = ss0.a\n",
    "V0 = ss0.v\n",
    "ss0.rv()"
   ]
  },
  {
   "cell_type": "markdown",
   "metadata": {},
   "source": [
    "### *Caso a)*: Incremento de velocidad colineal a $V_0$"
   ]
  },
  {
   "cell_type": "markdown",
   "metadata": {},
   "source": [
    "Vamos a definir un factor de proporcionalidad $\\epsilon = \\frac{|\\delta v|}{|V_0|} = \\frac{1}{1000}$."
   ]
  },
  {
   "cell_type": "code",
   "execution_count": 3,
   "metadata": {
    "collapsed": false
   },
   "outputs": [
    {
     "data": {
      "text/latex": [
       "$[0,~0.0073501351,~0] \\; \\mathrm{\\frac{km}{s}}$"
      ],
      "text/plain": [
       "<Quantity [ 0.        , 0.00735014, 0.        ] km / s>"
      ]
     },
     "execution_count": 3,
     "metadata": {},
     "output_type": "execute_result"
    }
   ],
   "source": [
    "eps = 1 / 1000.\n",
    "dv = V0 * eps\n",
    "dv"
   ]
  },
  {
   "cell_type": "markdown",
   "metadata": {},
   "source": [
    "Creamos una maniobra consistente en un impulso de valor $\\delta v$:"
   ]
  },
  {
   "cell_type": "code",
   "execution_count": 4,
   "metadata": {
    "collapsed": false
   },
   "outputs": [
    {
     "data": {
      "text/plain": [
       "<poliastro.maneuver.Maneuver at 0x7ff63059a550>"
      ]
     },
     "execution_count": 4,
     "metadata": {},
     "output_type": "execute_result"
    }
   ],
   "source": [
    "man1 = Maneuver.impulse(dv)\n",
    "man1"
   ]
  },
  {
   "cell_type": "markdown",
   "metadata": {},
   "source": [
    "Y calculamos el resultado:"
   ]
  },
  {
   "cell_type": "code",
   "execution_count": 5,
   "metadata": {
    "collapsed": false
   },
   "outputs": [
    {
     "data": {
      "text/plain": [
       "(<Quantity [ 7378.136,    0.   ,    0.   ] km>,\n",
       " <Quantity [ 0.        , 7.35748519, 0.        ] km / s>)"
      ]
     },
     "execution_count": 5,
     "metadata": {},
     "output_type": "execute_result"
    }
   ],
   "source": [
    "ss1 = ss0.apply_maneuver(man1)\n",
    "ss1.rv()"
   ]
  },
  {
   "cell_type": "markdown",
   "metadata": {},
   "source": [
    "Comparamos de nuevo con el estado inicial, vemos que la velocidad se ha incrementado ligeramente:"
   ]
  },
  {
   "cell_type": "code",
   "execution_count": 6,
   "metadata": {
    "collapsed": false
   },
   "outputs": [
    {
     "data": {
      "text/plain": [
       "(<Quantity [ 7378.136,    0.   ,    0.   ] km>,\n",
       " <Quantity [ 0.        , 7.35013505, 0.        ] km / s>)"
      ]
     },
     "execution_count": 6,
     "metadata": {},
     "output_type": "execute_result"
    }
   ],
   "source": [
    "ss0.rv()"
   ]
  },
  {
   "cell_type": "markdown",
   "metadata": {},
   "source": [
    "Comprobamos también que el incremento es el que especificamos al principio:"
   ]
  },
  {
   "cell_type": "code",
   "execution_count": 7,
   "metadata": {
    "collapsed": false
   },
   "outputs": [
    {
     "data": {
      "text/latex": [
       "$0.001 \\; \\mathrm{}$"
      ],
      "text/plain": [
       "<Quantity 0.000999999999999954>"
      ]
     },
     "execution_count": 7,
     "metadata": {},
     "output_type": "execute_result"
    }
   ],
   "source": [
    "norm(ss1.v - ss0.v) / norm(ss0.v)"
   ]
  },
  {
   "cell_type": "markdown",
   "metadata": {},
   "source": [
    "Como era de esperar, la órbita no es elíptica:"
   ]
  },
  {
   "cell_type": "code",
   "execution_count": 8,
   "metadata": {
    "collapsed": false
   },
   "outputs": [
    {
     "data": {
      "text/latex": [
       "$0.002001 \\; \\mathrm{}$"
      ],
      "text/plain": [
       "<Quantity 0.002000999999999915>"
      ]
     },
     "execution_count": 8,
     "metadata": {},
     "output_type": "execute_result"
    }
   ],
   "source": [
    "ss1.ecc"
   ]
  },
  {
   "cell_type": "markdown",
   "metadata": {},
   "source": [
    "La **máxima separación** entre las dos órbitas estará en el apogeo de la órbita modificada, puesto que en el perigeo coinciden."
   ]
  },
  {
   "cell_type": "code",
   "execution_count": 10,
   "metadata": {
    "collapsed": false
   },
   "outputs": [
    {
     "data": {
      "image/png": "[encoded data removed]",
      "text/plain": [
       "<matplotlib.figure.Figure at 0x7ff6100f5a20>"
      ]
     },
     "metadata": {},
     "output_type": "display_data"
    }
   ],
   "source": [
    "from mpl_toolkits.axes_grid1.inset_locator import zoomed_inset_axes\n",
    "from mpl_toolkits.axes_grid1.inset_locator import mark_inset\n",
    "\n",
    "plt.style.use('pybonacci')\n",
    "\n",
    "fig, ax = plt.subplots(figsize=(8, 6))\n",
    "op = OrbitPlotter(ax)\n",
    "\n",
    "_, l0 = op.plot(ss0)\n",
    "l, l1 = op.plot(ss1)\n",
    "l0.set_label(\"Órbita inicial\")\n",
    "l1.set_label(\"Órbita resultante\")\n",
    "ax.set_xlim(-11000, 8000)\n",
    "\n",
    "leg = ax.legend()\n",
    "leg.get_frame().set_facecolor('#fafafa')\n",
    "\n",
    "ax_zoom = zoomed_inset_axes(ax, 10, loc=6, axes_kwargs={'axisbg': '#fafafa'})\n",
    "op_zoom = OrbitPlotter(ax_zoom, num_points=1000)\n",
    "\n",
    "op_zoom.plot(ss0)\n",
    "op_zoom.plot(ss1)\n",
    "\n",
    "ax_zoom.set_xlim(-ss1.r_a.to(u.km).value - 100, -ss1.r_a.to(u.km).value + 150)\n",
    "ax_zoom.set_ylim(-650, 650)\n",
    "ax_zoom.set_xticks([])\n",
    "ax_zoom.set_yticks([0])\n",
    "ax_zoom.set_yticklabels([])\n",
    "ax_zoom.set_xlabel(\"\")\n",
    "ax_zoom.set_ylabel(\"\")\n",
    "ax_zoom.set_title(\"10x zoom\")\n",
    "mark_inset(ax, ax_zoom, 1, 4, fc='none')\n",
    "\n",
    "plt.savefig(\"caso_a.png\")"
   ]
  },
  {
   "cell_type": "markdown",
   "metadata": {},
   "source": [
    "La predicción teórica para el semieje mayor de la nueva órbita es\n",
    "\n",
    "$$a \\sim \\frac{r_0}{1 - 2 \\frac{\\delta v}{V_0}}$$\n",
    "\n",
    "Comprobamos:"
   ]
  },
  {
   "cell_type": "code",
   "execution_count": 11,
   "metadata": {
    "collapsed": false
   },
   "outputs": [
    {
     "data": {
      "text/latex": [
       "$7392.9218 \\; \\mathrm{km}$"
      ],
      "text/plain": [
       "<Quantity 7392.921843687375 km>"
      ]
     },
     "execution_count": 11,
     "metadata": {},
     "output_type": "execute_result"
    }
   ],
   "source": [
    "a_teorico = r0.to(u.km) / (1 - 2 * eps)\n",
    "a_teorico"
   ]
  },
  {
   "cell_type": "code",
   "execution_count": 12,
   "metadata": {
    "collapsed": false
   },
   "outputs": [
    {
     "data": {
      "text/latex": [
       "$7392.9293 \\; \\mathrm{km}$"
      ],
      "text/plain": [
       "<Quantity 7392.929251432115 km>"
      ]
     },
     "execution_count": 12,
     "metadata": {},
     "output_type": "execute_result"
    }
   ],
   "source": [
    "ss1.a"
   ]
  },
  {
   "cell_type": "markdown",
   "metadata": {},
   "source": [
    "Ambos valores coinciden con un error relativo de una parte entre un millón:"
   ]
  },
  {
   "cell_type": "code",
   "execution_count": 13,
   "metadata": {
    "collapsed": false
   },
   "outputs": [
    {
     "data": {
      "text/latex": [
       "$1.002004 \\times 10^{-6} \\; \\mathrm{}$"
      ],
      "text/plain": [
       "<Quantity 1.0020040078645434e-06>"
      ]
     },
     "execution_count": 13,
     "metadata": {},
     "output_type": "execute_result"
    }
   ],
   "source": [
    "(ss1.a - a_teorico) / ss1.a"
   ]
  },
  {
   "cell_type": "markdown",
   "metadata": {},
   "source": [
    "La máxima separación teórica es $d \\sim 4 r_0 \\frac{\\delta v}{V_0}$."
   ]
  },
  {
   "cell_type": "code",
   "execution_count": 14,
   "metadata": {
    "collapsed": false
   },
   "outputs": [
    {
     "data": {
      "text/latex": [
       "$29.512544 \\; \\mathrm{km}$"
      ],
      "text/plain": [
       "<Quantity 29.512544000000002 km>"
      ]
     },
     "execution_count": 14,
     "metadata": {},
     "output_type": "execute_result"
    }
   ],
   "source": [
    "d_teorica = 4 * r0.to(u.km) * eps\n",
    "d_teorica"
   ]
  },
  {
   "cell_type": "code",
   "execution_count": 15,
   "metadata": {
    "collapsed": false
   },
   "outputs": [
    {
     "data": {
      "text/latex": [
       "$29.586503 \\; \\mathrm{km}$"
      ],
      "text/plain": [
       "<Quantity 29.58650286422926 km>"
      ]
     },
     "execution_count": 15,
     "metadata": {},
     "output_type": "execute_result"
    }
   ],
   "source": [
    "d = ss1.r_a - ss0.r_a\n",
    "d"
   ]
  },
  {
   "cell_type": "markdown",
   "metadata": {},
   "source": [
    "El error relativo es menor del $0.25\\,\\%$:"
   ]
  },
  {
   "cell_type": "code",
   "execution_count": 16,
   "metadata": {
    "collapsed": false
   },
   "outputs": [
    {
     "data": {
      "text/latex": [
       "$-0.0024997501 \\; \\mathrm{}$"
      ],
      "text/plain": [
       "<Quantity -0.0024997501248677834>"
      ]
     },
     "execution_count": 16,
     "metadata": {},
     "output_type": "execute_result"
    }
   ],
   "source": [
    "(d_teorica - d) / d"
   ]
  },
  {
   "cell_type": "markdown",
   "metadata": {},
   "source": [
    "La máxima diferencia de velocidades se dará en el apogeo. Ahora mismo los objetos `State` no me dan directamente las velocidades en perigeo y apogeo, así que se pueden calcular de dos formas:\n",
    "\n",
    "* usando la ecuación de la energía $v_a = \\sqrt{\\frac{2\\mu}{r_a} - \\frac{\\mu}{a}}$, o\n",
    "* propagando la órbita hasta el apogeo (en este caso es fácil de calcular el tiempo porque será la mitad del período orbital) y calculando la velocidad del nuevo estado.\n",
    "\n",
    "Vamos a comprobar ambas formas:"
   ]
  },
  {
   "cell_type": "code",
   "execution_count": 17,
   "metadata": {
    "collapsed": false
   },
   "outputs": [
    {
     "data": {
      "text/latex": [
       "$7.3280993 \\; \\mathrm{\\frac{km}{s}}$"
      ],
      "text/plain": [
       "<Quantity 7.328099334769713 km / s>"
      ]
     },
     "execution_count": 17,
     "metadata": {},
     "output_type": "execute_result"
    }
   ],
   "source": [
    "mu = ss1.attractor.k\n",
    "va_energia = np.sqrt(2 * mu / ss1.r_a - mu / ss1.a)  # Esta operación respeta las unidades\n",
    "va_energia"
   ]
  },
  {
   "cell_type": "markdown",
   "metadata": {},
   "source": [
    "<div class=\"alert alert-info\">Lo bueno del segundo método es que da el **vector** velocidad.</div>"
   ]
  },
  {
   "cell_type": "code",
   "execution_count": 18,
   "metadata": {
    "collapsed": false
   },
   "outputs": [
    {
     "data": {
      "text/latex": [
       "$[-2.5559498 \\times 10^{-15},~-7.3280993,~-0] \\; \\mathrm{\\frac{km}{s}}$"
      ],
      "text/plain": [
       "<Quantity [ -2.55594980e-15, -7.32809933e+00, -0.00000000e+00] km / s>"
      ]
     },
     "execution_count": 18,
     "metadata": {},
     "output_type": "execute_result"
    }
   ],
   "source": [
    "ss1_a = ss1.propagate(time_of_flight=ss1.period / 2)\n",
    "va_prop = ss1_a.v\n",
    "va_prop"
   ]
  },
  {
   "cell_type": "markdown",
   "metadata": {},
   "source": [
    "¡Ambos valores son iguales hasta la precisión de la máquina!"
   ]
  },
  {
   "cell_type": "code",
   "execution_count": 19,
   "metadata": {
    "collapsed": false
   },
   "outputs": [
    {
     "data": {
      "text/latex": [
       "$4.8480698 \\times 10^{-16} \\; \\mathrm{}$"
      ],
      "text/plain": [
       "<Quantity 4.848069760659359e-16>"
      ]
     },
     "execution_count": 19,
     "metadata": {},
     "output_type": "execute_result"
    }
   ],
   "source": [
    "(va_energia - norm(va_prop)) / va_energia"
   ]
  },
  {
   "cell_type": "markdown",
   "metadata": {},
   "source": [
    "Finalmente comprobamos la diferencia de velocidades:"
   ]
  },
  {
   "cell_type": "code",
   "execution_count": 20,
   "metadata": {
    "collapsed": false
   },
   "outputs": [
    {
     "data": {
      "text/plain": [
       "0.003"
      ]
     },
     "execution_count": 20,
     "metadata": {},
     "output_type": "execute_result"
    }
   ],
   "source": [
    "dv_teorica = 3 * eps\n",
    "dv_teorica"
   ]
  },
  {
   "cell_type": "code",
   "execution_count": 21,
   "metadata": {
    "collapsed": false
   },
   "outputs": [
    {
     "data": {
      "text/latex": [
       "$0.002998002 \\; \\mathrm{}$"
      ],
      "text/plain": [
       "<Quantity 0.002998001998002307>"
      ]
     },
     "execution_count": 21,
     "metadata": {},
     "output_type": "execute_result"
    }
   ],
   "source": [
    "(norm(V0) - norm(va_prop)) / norm(V0)"
   ]
  },
  {
   "cell_type": "markdown",
   "metadata": {},
   "source": [
    "De nuevo la predicción teórica coincide con el resultado obtenido."
   ]
  },
  {
   "cell_type": "markdown",
   "metadata": {},
   "source": [
    "### *Caso b)*: Incremento $\\delta v$ hacia el centro de la Tierra"
   ]
  },
  {
   "cell_type": "markdown",
   "metadata": {},
   "source": [
    "Trabajamos de nuevo con un factor de proporcionalidad $\\epsilon$"
   ]
  },
  {
   "cell_type": "code",
   "execution_count": 22,
   "metadata": {
    "collapsed": false
   },
   "outputs": [],
   "source": [
    "eps = 1 / 20."
   ]
  },
  {
   "cell_type": "markdown",
   "metadata": {},
   "source": [
    "Definimos el nuevo incremento de velocidad en la dirección del vector de posición inicial y sentido hacia la Tierra:"
   ]
  },
  {
   "cell_type": "code",
   "execution_count": 23,
   "metadata": {
    "collapsed": false
   },
   "outputs": [
    {
     "data": {
      "text/latex": [
       "$[-0.36750675,~-0,~-0] \\; \\mathrm{\\frac{km}{s}}$"
      ],
      "text/plain": [
       "<Quantity [-0.36750675,-0.        ,-0.        ] km / s>"
      ]
     },
     "execution_count": 23,
     "metadata": {},
     "output_type": "execute_result"
    }
   ],
   "source": [
    "r_vec = ss0.r\n",
    "dv = -r_vec / norm(r_vec) * norm(V0) * eps\n",
    "dv"
   ]
  },
  {
   "cell_type": "code",
   "execution_count": 24,
   "metadata": {
    "collapsed": false
   },
   "outputs": [
    {
     "data": {
      "text/plain": [
       "<poliastro.maneuver.Maneuver at 0x7ff60ff6ef98>"
      ]
     },
     "execution_count": 24,
     "metadata": {},
     "output_type": "execute_result"
    }
   ],
   "source": [
    "man2 = Maneuver.impulse(dv)\n",
    "man2"
   ]
  },
  {
   "cell_type": "code",
   "execution_count": 25,
   "metadata": {
    "collapsed": false
   },
   "outputs": [
    {
     "data": {
      "text/plain": [
       "(<Quantity [ 7378.136,    0.   ,    0.   ] km>,\n",
       " <Quantity [-0.36750675, 7.35013505, 0.        ] km / s>)"
      ]
     },
     "execution_count": 25,
     "metadata": {},
     "output_type": "execute_result"
    }
   ],
   "source": [
    "ss2 = ss0.apply_maneuver(man2)\n",
    "ss2.rv()"
   ]
  },
  {
   "cell_type": "markdown",
   "metadata": {},
   "source": [
    "De nuevo, la órbita resultante no será circular:"
   ]
  },
  {
   "cell_type": "code",
   "execution_count": 26,
   "metadata": {
    "collapsed": false
   },
   "outputs": [
    {
     "data": {
      "text/latex": [
       "$0.05 \\; \\mathrm{}$"
      ],
      "text/plain": [
       "<Quantity 0.05>"
      ]
     },
     "execution_count": 26,
     "metadata": {},
     "output_type": "execute_result"
    }
   ],
   "source": [
    "ss2.ecc"
   ]
  },
  {
   "cell_type": "markdown",
   "metadata": {},
   "source": [
    "Representamos ambas de nuevo para comprobar que el perigeo se ha desplazado."
   ]
  },
  {
   "cell_type": "code",
   "execution_count": 27,
   "metadata": {
    "collapsed": false
   },
   "outputs": [
    {
     "data": {
      "image/png": "[encoded data removed]",
      "text/plain": [
       "<matplotlib.figure.Figure at 0x7ff60ffaa400>"
      ]
     },
     "metadata": {},
     "output_type": "display_data"
    }
   ],
   "source": [
    "fig, ax = plt.subplots(figsize=(8, 6))\n",
    "op = OrbitPlotter(ax, num_points=1000)\n",
    "\n",
    "_, l0 = op.plot(ss0)\n",
    "l, l2 = op.plot(ss2)\n",
    "l0.set_label(\"Órbita inicial\")\n",
    "l2.set_label(\"Órbita resultante\")\n",
    "\n",
    "leg = ax.legend(loc=4)\n",
    "leg.get_frame().set_facecolor('#fafafa')\n",
    "\n",
    "plt.savefig(\"caso_b.png\")"
   ]
  },
  {
   "cell_type": "code",
   "execution_count": null,
   "metadata": {
    "collapsed": true
   },
   "outputs": [],
   "source": []
  }
 ],
 "metadata": {
  "kernelspec": {
   "display_name": "Python 3",
   "language": "python",
   "name": "python3"
  },
  "language_info": {
   "codemirror_mode": {
    "name": "ipython",
    "version": 3
   },
   "file_extension": ".py",
   "mimetype": "text/x-python",
   "name": "python",
   "nbconvert_exporter": "python",
   "pygments_lexer": "ipython3",
   "version": "3.4.3"
  }
 },
 "nbformat": 4,
 "nbformat_minor": 0
}
