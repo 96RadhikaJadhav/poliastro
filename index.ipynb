{
 "cells": [
  {
   "cell_type": "markdown",
   "metadata": {},
   "source": [
    "# Gallery of examples\n",
    "\n",
    "![logo_text.png](examples/logo_text.png)\n",
    "\n",
    "Here you can browse a gallery of examples using poliastro in the form of Jupyter notebooks.\n",
    "\n",
    "To run these in mybinder.org, don't forget to install the required packages running the cell below:"
   ]
  },
  {
   "cell_type": "code",
   "execution_count": null,
   "metadata": {
    "collapsed": false
   },
   "outputs": [],
   "source": [
    "!conda install poliastro --channel conda-forge --yes --quiet --name binder"
   ]
  },
  {
   "cell_type": "markdown",
   "metadata": {},
   "source": [
    "## [Going to Mars with Python using poliastro](examples/Going to Mars with Python using poliastro.ipynb)\n",
    "\n",
    "[![mars](examples/trans_30_260.png)](examples/Going to Mars with Python using poliastro.ipynb)\n",
    "\n",
    "## [Exploring the New Horizons launch](examples/Exploring the New Horizons launch.ipynb)\n",
    "\n",
    "[![new_horizons](examples/new_horizons.png)](examples/Exploring the New Horizons launch.ipynb)\n",
    "\n",
    "## [Comparing Hohmann and bielliptic transfers](examples/Comparing Hohmann and bielliptic transfers.ipynb)\n",
    "\n",
    "[![hohmann_bielliptic](examples/hohmann_bielliptic.png)](examples/Comparing Hohmann and bielliptic transfers.ipynb)\n",
    "\n",
    "## [Propagation using Cowell's formulation](examples/Propagation using Cowell's formulation.ipynb)\n",
    "\n",
    "[![cowell](examples/cowell.png)](examples/Propagation using Cowell's formulation.ipynb)\n",
    "\n",
    "## [Quickly solving Kepler's Problem in Python using numba](examples/Quickly solving Kepler's Problem in Python using numba.ipynb)\n",
    "\n",
    "[![benchmark](examples/benchmark.png)](examples/Quickly solving Kepler's Problem in Python using numba.ipynb)\n",
    "\n",
    "## [Studying Hohmann transfers](examples/Studying Hohmann transfers.ipynb)\n",
    "\n",
    "[![hohmann](examples/hohmann.png)](examples/Studying Hohmann transfers.ipynb)"
   ]
  }
 ],
 "metadata": {
  "kernelspec": {
   "display_name": "Python 3",
   "language": "python",
   "name": "python3"
  },
  "language_info": {
   "codemirror_mode": {
    "name": "ipython",
    "version": 3
   },
   "file_extension": ".py",
   "mimetype": "text/x-python",
   "name": "python",
   "nbconvert_exporter": "python",
   "pygments_lexer": "ipython3",
   "version": "3.5.1"
  }
 },
 "nbformat": 4,
 "nbformat_minor": 0
}
